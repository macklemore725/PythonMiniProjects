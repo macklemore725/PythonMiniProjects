{
 "cells": [
  {
   "cell_type": "code",
   "execution_count": null,
   "id": "6df572c7-db1d-4db1-9fd3-4e35cea04428",
   "metadata": {},
   "outputs": [],
   "source": []
  },
  {
   "cell_type": "code",
   "execution_count": 92,
   "id": "4224445d-f9f1-4eb0-a541-930cb124f847",
   "metadata": {},
   "outputs": [],
   "source": [
    "WeblinksToLPL = \"https://gol.gg/tournament/tournament-picksandbans/LPL%20Summer%202023/\"\n",
    "WeblinksToLCK = \"https://gol.gg/tournament/tournament-picksandbans/LCK%20Summer%202023/\"\n",
    "wikiLiquid = \"https://liquipedia.net/leagueoflegends/LPL/2023/Summer/Statistics\"\n",
    "wikiLiquid2 = \"https://liquipedia.net/leagueoflegends/LCK/2018/Summer/Statistics\"\n",
    "import requests\n",
    "from bs4 import BeautifulSoup\n",
    "import matplotlib.pyplot as plt"
   ]
  },
  {
   "cell_type": "markdown",
   "id": "5339d323-e833-4163-aa14-b1c7074cc21a",
   "metadata": {
    "tags": []
   },
   "source": [
    "# Get Bans Method Below"
   ]
  },
  {
   "cell_type": "code",
   "execution_count": 93,
   "id": "52823bb5-3b22-4ada-bf2f-e3033bda3f64",
   "metadata": {},
   "outputs": [],
   "source": [
    "#Inccorect way to do it but still works for somereason but not correctly.\n",
    "\n",
    "def GetAllBansError(url):\n",
    "    response = requests.get(url)\n",
    "\n",
    "# Create a BeautifulSoup object by passing the response content and specifying the parser\n",
    "    soup = BeautifulSoup(response.content, \"html.parser\")\n",
    "\n",
    "    #print(soup)\n",
    "# Find and extract specific elements from the webpage\n",
    "    paragraphs = soup.find('tbody')\n",
    "    test1 = paragraphs.find_all('tr')\n",
    "    sections = soup.find_all('section')\n",
    "# bans = paragraphs.find_all('td',text='Bans')\n",
    "# print(test1[2])\n",
    "    \n",
    "    names = []\n",
    "    wins = []\n",
    "    StoreWins =[]\n",
    "    StoreNames=[]\n",
    "    \n",
    "    for section in sections:\n",
    "    # Find <img> elements with the specified class within each section\n",
    "    #images = section.find_all('img', class_='champion_icon_light')\n",
    "        win = section.find_all('span', attrs={\"style\":\"text-align:center;display:inline-block\"})\n",
    "        name = section.find_all('img', class_='champion_icon_light')\n",
    "        wins.extend(win)\n",
    "        names.extend(name)\n",
    "    #StoreWins.extend(''.join(wins[0].text.replace(\" \", \"\").replace(\"\\n\", \"\").replace(\"\\r\", \"\")))\n",
    "# print(wins[0].text.replace(\" \", \"\").replace(\"\\n\", \"\").replace(\"\\r\", \"\"))\n",
    "# StoreNames.extend(wins[1].text.replace(\" \", \"\").replace(\"\\n\", \"\").replace(\"\\r\", \"\"))\n",
    "#print(StoreWins)\n",
    "# # Print the list of found images\n",
    "    for loopwinData in wins:\n",
    "        wintext=''.join(loopwinData.text.replace(\" \", \"\").replace(\"\\n\", \"\").replace(\"\\r\", \"\"))\n",
    "    # print(wintext)\n",
    "        StoreWins.append(wintext)\n",
    "# print(StoreWins)    \n",
    "     \n",
    "    for loopNameData in names:\n",
    "        nametext=loopNameData['alt']\n",
    "       # display(nametext)\n",
    "        StoreNames.append(nametext)\n",
    "        my_dict = dict(zip(StoreNames, StoreWins))                \n",
    "    return my_dict"
   ]
  },
  {
   "cell_type": "code",
   "execution_count": 94,
   "id": "19cd04a5",
   "metadata": {},
   "outputs": [],
   "source": [
    "def GetAllBans(url):\n",
    "    response = requests.get(url)\n",
    "\n",
    "# Create a BeautifulSoup object by passing the response content and specifying the parser\n",
    "    soup = BeautifulSoup(response.content, \"html.parser\")\n",
    "\n",
    "    #print(soup)\n",
    "# Find and extract specific elements from the webpage\n",
    "    paragraphs = soup.find('tbody')\n",
    "    test1 = paragraphs.find_all('tr')\n",
    "    sections = soup.find_all('section')\n",
    "# bans = paragraphs.find_all('td',text='Bans')\n",
    "# print(test1[2])\n",
    "    \n",
    "    names = []\n",
    "    wins = []\n",
    "    StoreWins =[]\n",
    "    StoreNames=[]\n",
    "    banslist1=[]\n",
    "    for section in sections:\n",
    "    # Find <img> elements with the specified class within each section\n",
    "    #images = section.find_all('img', class_='champion_icon_light')\n",
    "        win = section.find_all('span', attrs={\"style\":\"text-align:center;display:inline-block\"})\n",
    "        name = section.find_all('img', class_='champion_icon_light')\n",
    "        wins.extend(win)\n",
    "        names.extend(name)\n",
    "# # Print the list of found images\n",
    "    for loopwinData in wins:\n",
    "        wintext=''.join(loopwinData.text.replace(\" \", \"\").replace(\"\\n\", \"\").replace(\"\\r\", \"\"))\n",
    "    # print(wintext)\n",
    "        StoreWins.append(int(wintext))\n",
    "# print(StoreWins)      \n",
    "\n",
    "    for i in range(0,len(wins)):\n",
    "        www = section.find_all('span', attrs={\"style\":\"text-align:center;display:inline-block\"})[i].find_all('img', class_='champion_icon_light')#\n",
    "        banslist1.extend(www)\n",
    "        #display(banslist1)\n",
    "    for loopNameData in banslist1:\n",
    "        nametext=loopNameData['alt']\n",
    "        StoreNames.append(nametext)\n",
    "        #my_dict1 = dict(zip(StoreNames, StoreWins)) #<- Dictionary Version   \n",
    "    #display(len(StoreNames))\n",
    "    #display(len(StoreWins))\n",
    "    data = {'Champions':StoreNames,'Ban':StoreWins}\n",
    "    return data"
   ]
  },
  {
   "cell_type": "code",
   "execution_count": 101,
   "id": "7dced529",
   "metadata": {},
   "outputs": [],
   "source": [
    "import requests\n",
    "from bs4 import BeautifulSoup\n",
    "def liquipediaStats(url):\n",
    "# Send a GET request to the webpage you want to scrape\n",
    "    #url = \"https://liquipedia.net/leagueoflegends/LPL/2023/Summer/Statistics\"\n",
    "    response = requests.get(url)\n",
    "    if response.status_code == 404:\n",
    "        print(\"404\")\n",
    "        return 404\n",
    "    Rank= []\n",
    "    Win= []\n",
    "    ScrappedChampions= []\n",
    "    ScrappedRanks= []\n",
    "    ScrappedWins= []\n",
    "    ScrappedLose= []\n",
    "    ScrappedWinpercentage= []\n",
    "    Scrappedunknown1= []\n",
    "    ScrappedblueSidePick= []\n",
    "    ScrappedblueSideWin= []\n",
    "    ScrappedblueSideLose= []\n",
    "    ScrappedblueSidePercentage= []\n",
    "    ScrappedredSidePick= []\n",
    "    ScrappedredSideWin= []\n",
    "    ScrappedredSideLose= []\n",
    "    ScrappedredSidePercentage= []\n",
    "    Scrappedbans= []\n",
    "    ScrappedbanPercentage= []\n",
    "    ScrappedtotalPickRate= []\n",
    "    ScrappedtotalPickRatePercentage= []\n",
    "\n",
    "    # Create a BeautifulSoup object by passing the response content and specifying the parser\n",
    "    soup = BeautifulSoup(response.content, \"html.parser\")\n",
    "    GetBanPart1=[]\n",
    "    GetBanPart2=[]\n",
    "    #print(soup)\n",
    "    # Find and extract specific elements from the webpage\n",
    "    paragraphs = soup.find_all('tr',class_=\"dota-stat-row\")\n",
    "\n",
    "    #-------------------------------------------------------------------------\n",
    "    # First Steps in Looping in paragraphs \n",
    "    # Loop the First TD -> 2nd Loop Go and find the stuff you want \n",
    "    # Doesn't work need to figure out another way to display this\n",
    "    for t in paragraphs:\n",
    "        bans = t.find_all('a',class_=\"internal text\")\n",
    "        #display(bans)\n",
    "        GetBanPart1.extend(bans)\n",
    "\n",
    "    #display(GetBanPart1)\n",
    "    for BanRate in GetBanPart1:\n",
    "        GetBanPart2.append(BanRate.text)\n",
    "    #display(GetBanPart2)    #GetBanPart2(BanRate.Text)\n",
    "    #-------------------------------------------------------------------------           \n",
    "    for paragraph in paragraphs:\n",
    "        #display(paragraph.find_all('td'))\n",
    "        display(len(paragraph))\n",
    "       \n",
    "        Champions =paragraph.find_all('a')[1]\n",
    "        Ranks = paragraph.find_all('td')[0]\n",
    "        Wins = paragraph.find_all('td')[3]\n",
    "        Lose = paragraph.find_all('td')[4]\n",
    "        Winpercentage = paragraph.find_all('td')[5]\n",
    "        unknown1 = paragraph.find_all('td')[6]\n",
    "        blueSidePick = paragraph.find_all('td')[7]\n",
    "        blueSideWin = paragraph.find_all('td')[8]\n",
    "        blueSideLose = paragraph.find_all('td')[9]\n",
    "        blueSidePercentage = paragraph.find_all('td')[10]\n",
    "        redSidePick = paragraph.find_all('td')[11]\n",
    "        redSideWin = paragraph.find_all('td')[12]\n",
    "        redSideLose = paragraph.find_all('td')[13]\n",
    "        redSidePercentage = paragraph.find_all('td')[14]\n",
    "        #display(len(paragraph)\n",
    "        #---- 2018 doesn't have the bottom 4 \n",
    "        if (len(paragraph)) == 22:\n",
    "            display('enough of list')\n",
    "            bans = paragraph.find_all('td')[15]\n",
    "            banPercentage = paragraph.find_all('td')[16]\n",
    "            totalPickRate = paragraph.find_all('td')[17]\n",
    "            totalPickRatePercentage=paragraph.find_all('td')[18]\n",
    "            ScrappedtotalPickRatePercentage.append(totalPickRatePercentage.text.replace(\"%\", \"\"))\n",
    "            ScrappedbanPercentage.extend(banPercentage)\n",
    "            ScrappedtotalPickRate.extend(totalPickRate)\n",
    "        else:\n",
    "            display('out of index list')\n",
    "            bans = []\n",
    "            banPercentage =[]\n",
    "            totalPickRate = []\n",
    "            totalPickRatePercentage=[]\n",
    "                \n",
    "        \n",
    "        ScrappedChampions.extend(Champions)\n",
    "        ScrappedRanks.extend(Ranks)\n",
    "        ScrappedWins.extend(Wins)\n",
    "        ScrappedLose.extend(Lose)\n",
    "        ScrappedWinpercentage.append(Winpercentage.text.replace(\"%\", \"\"))\n",
    "        Scrappedunknown1.append(unknown1.text.replace(\"%\", \"\"))\n",
    "        ScrappedblueSidePick.extend(blueSidePick)\n",
    "        ScrappedblueSideWin.extend(blueSideWin)\n",
    "        ScrappedblueSideLose.extend(blueSideLose)\n",
    "        ScrappedblueSidePercentage.append(blueSidePercentage.text.replace(\"%\", \"\"))\n",
    "        ScrappedredSidePick.extend(redSidePick)\n",
    "        ScrappedredSideWin.extend(redSideWin)\n",
    "        ScrappedredSideLose.extend(redSideLose)\n",
    "        ScrappedredSidePercentage.append(redSidePercentage.text.replace(\"%\", \"\"))\n",
    "        #display(len(redSidePercentage.text.replace(\"%\", \"\")))\n",
    "        #Scrappedbans.extend(bans)\n",
    "      #  display(redSidePercentage.text.replace(\"%\", \"\"))\n",
    "\n",
    "        #ScrappedtotalPickRatePercentage.append(totalPickRatePercentage.text.replace(\"%\", \"\"))\n",
    "        data = {'Ranks':ScrappedRanks,'Champions':ScrappedChampions,'Wins':ScrappedWins,'Lose':ScrappedLose,\n",
    "               'PercentageWinRate':ScrappedWinpercentage,'PercentageAvailableGames':Scrappedunknown1,'BlueSidePick':ScrappedblueSidePick,\n",
    "               'BlueSidePickWin':ScrappedblueSideWin,'BlueSidePickLose':ScrappedblueSideLose,'BlueSidePercentage':ScrappedblueSidePercentage,\n",
    "                'RedSidePick':ScrappedredSideWin,'RedSidePickWin':ScrappedredSidePick,'RedSidePickLose':ScrappedredSideLose,\n",
    "                'RedSidePickPercentage':ScrappedredSidePercentage#,'TotalPickRate':ScrappedtotalPickRate,'TotalPickPercentage':ScrappedtotalPickRatePercentage\n",
    "               }\n",
    "         data = {'Ranks':ScrappedRanks,'Champions':ScrappedChampions,'Wins':ScrappedWins,'Lose':ScrappedLose,\n",
    "               'PercentageWinRate':ScrappedWinpercentage,'PercentageAvailableGames':Scrappedunknown1,'BlueSidePick':ScrappedblueSidePick,\n",
    "               'BlueSidePickWin':ScrappedblueSideWin,'BlueSidePickLose':ScrappedblueSideLose,'BlueSidePercentage':ScrappedblueSidePercentage,\n",
    "                'RedSidePick':ScrappedredSideWin,'RedSidePickWin':ScrappedredSidePick,'RedSidePickLose':ScrappedredSideLose,\n",
    "                'RedSidePickPercentage':ScrappedredSidePercentage,'TotalPickRate':ScrappedtotalPickRate,'TotalPickPercentage':ScrappedtotalPickRatePercentage\n",
    "               }\n",
    "    return data"
   ]
  },
  {
   "cell_type": "markdown",
   "id": "2521a6e6-3459-484a-8767-936047a8dab6",
   "metadata": {},
   "source": [
    " # Get Data"
   ]
  },
  {
   "cell_type": "code",
   "execution_count": 102,
   "id": "cbf5b9cd-20af-45bb-b7ab-c49e6599b3ce",
   "metadata": {},
   "outputs": [
    {
     "data": {
      "text/plain": [
       "18"
      ]
     },
     "metadata": {},
     "output_type": "display_data"
    },
    {
     "data": {
      "text/plain": [
       "'out of index list'"
      ]
     },
     "metadata": {},
     "output_type": "display_data"
    },
    {
     "data": {
      "text/plain": [
       "18"
      ]
     },
     "metadata": {},
     "output_type": "display_data"
    },
    {
     "data": {
      "text/plain": [
       "'out of index list'"
      ]
     },
     "metadata": {},
     "output_type": "display_data"
    },
    {
     "data": {
      "text/plain": [
       "18"
      ]
     },
     "metadata": {},
     "output_type": "display_data"
    },
    {
     "data": {
      "text/plain": [
       "'out of index list'"
      ]
     },
     "metadata": {},
     "output_type": "display_data"
    },
    {
     "data": {
      "text/plain": [
       "18"
      ]
     },
     "metadata": {},
     "output_type": "display_data"
    },
    {
     "data": {
      "text/plain": [
       "'out of index list'"
      ]
     },
     "metadata": {},
     "output_type": "display_data"
    },
    {
     "data": {
      "text/plain": [
       "18"
      ]
     },
     "metadata": {},
     "output_type": "display_data"
    },
    {
     "data": {
      "text/plain": [
       "'out of index list'"
      ]
     },
     "metadata": {},
     "output_type": "display_data"
    },
    {
     "data": {
      "text/plain": [
       "18"
      ]
     },
     "metadata": {},
     "output_type": "display_data"
    },
    {
     "data": {
      "text/plain": [
       "'out of index list'"
      ]
     },
     "metadata": {},
     "output_type": "display_data"
    },
    {
     "data": {
      "text/plain": [
       "18"
      ]
     },
     "metadata": {},
     "output_type": "display_data"
    },
    {
     "data": {
      "text/plain": [
       "'out of index list'"
      ]
     },
     "metadata": {},
     "output_type": "display_data"
    },
    {
     "data": {
      "text/plain": [
       "18"
      ]
     },
     "metadata": {},
     "output_type": "display_data"
    },
    {
     "data": {
      "text/plain": [
       "'out of index list'"
      ]
     },
     "metadata": {},
     "output_type": "display_data"
    },
    {
     "data": {
      "text/plain": [
       "18"
      ]
     },
     "metadata": {},
     "output_type": "display_data"
    },
    {
     "data": {
      "text/plain": [
       "'out of index list'"
      ]
     },
     "metadata": {},
     "output_type": "display_data"
    },
    {
     "data": {
      "text/plain": [
       "18"
      ]
     },
     "metadata": {},
     "output_type": "display_data"
    },
    {
     "data": {
      "text/plain": [
       "'out of index list'"
      ]
     },
     "metadata": {},
     "output_type": "display_data"
    },
    {
     "data": {
      "text/plain": [
       "18"
      ]
     },
     "metadata": {},
     "output_type": "display_data"
    },
    {
     "data": {
      "text/plain": [
       "'out of index list'"
      ]
     },
     "metadata": {},
     "output_type": "display_data"
    },
    {
     "data": {
      "text/plain": [
       "18"
      ]
     },
     "metadata": {},
     "output_type": "display_data"
    },
    {
     "data": {
      "text/plain": [
       "'out of index list'"
      ]
     },
     "metadata": {},
     "output_type": "display_data"
    },
    {
     "data": {
      "text/plain": [
       "18"
      ]
     },
     "metadata": {},
     "output_type": "display_data"
    },
    {
     "data": {
      "text/plain": [
       "'out of index list'"
      ]
     },
     "metadata": {},
     "output_type": "display_data"
    },
    {
     "data": {
      "text/plain": [
       "18"
      ]
     },
     "metadata": {},
     "output_type": "display_data"
    },
    {
     "data": {
      "text/plain": [
       "'out of index list'"
      ]
     },
     "metadata": {},
     "output_type": "display_data"
    },
    {
     "data": {
      "text/plain": [
       "18"
      ]
     },
     "metadata": {},
     "output_type": "display_data"
    },
    {
     "data": {
      "text/plain": [
       "'out of index list'"
      ]
     },
     "metadata": {},
     "output_type": "display_data"
    },
    {
     "data": {
      "text/plain": [
       "18"
      ]
     },
     "metadata": {},
     "output_type": "display_data"
    },
    {
     "data": {
      "text/plain": [
       "'out of index list'"
      ]
     },
     "metadata": {},
     "output_type": "display_data"
    },
    {
     "data": {
      "text/plain": [
       "18"
      ]
     },
     "metadata": {},
     "output_type": "display_data"
    },
    {
     "data": {
      "text/plain": [
       "'out of index list'"
      ]
     },
     "metadata": {},
     "output_type": "display_data"
    },
    {
     "data": {
      "text/plain": [
       "18"
      ]
     },
     "metadata": {},
     "output_type": "display_data"
    },
    {
     "data": {
      "text/plain": [
       "'out of index list'"
      ]
     },
     "metadata": {},
     "output_type": "display_data"
    },
    {
     "data": {
      "text/plain": [
       "18"
      ]
     },
     "metadata": {},
     "output_type": "display_data"
    },
    {
     "data": {
      "text/plain": [
       "'out of index list'"
      ]
     },
     "metadata": {},
     "output_type": "display_data"
    },
    {
     "data": {
      "text/plain": [
       "18"
      ]
     },
     "metadata": {},
     "output_type": "display_data"
    },
    {
     "data": {
      "text/plain": [
       "'out of index list'"
      ]
     },
     "metadata": {},
     "output_type": "display_data"
    },
    {
     "data": {
      "text/plain": [
       "18"
      ]
     },
     "metadata": {},
     "output_type": "display_data"
    },
    {
     "data": {
      "text/plain": [
       "'out of index list'"
      ]
     },
     "metadata": {},
     "output_type": "display_data"
    },
    {
     "data": {
      "text/plain": [
       "18"
      ]
     },
     "metadata": {},
     "output_type": "display_data"
    },
    {
     "data": {
      "text/plain": [
       "'out of index list'"
      ]
     },
     "metadata": {},
     "output_type": "display_data"
    },
    {
     "data": {
      "text/plain": [
       "18"
      ]
     },
     "metadata": {},
     "output_type": "display_data"
    },
    {
     "data": {
      "text/plain": [
       "'out of index list'"
      ]
     },
     "metadata": {},
     "output_type": "display_data"
    },
    {
     "data": {
      "text/plain": [
       "18"
      ]
     },
     "metadata": {},
     "output_type": "display_data"
    },
    {
     "data": {
      "text/plain": [
       "'out of index list'"
      ]
     },
     "metadata": {},
     "output_type": "display_data"
    },
    {
     "data": {
      "text/plain": [
       "18"
      ]
     },
     "metadata": {},
     "output_type": "display_data"
    },
    {
     "data": {
      "text/plain": [
       "'out of index list'"
      ]
     },
     "metadata": {},
     "output_type": "display_data"
    },
    {
     "data": {
      "text/plain": [
       "18"
      ]
     },
     "metadata": {},
     "output_type": "display_data"
    },
    {
     "data": {
      "text/plain": [
       "'out of index list'"
      ]
     },
     "metadata": {},
     "output_type": "display_data"
    },
    {
     "data": {
      "text/plain": [
       "18"
      ]
     },
     "metadata": {},
     "output_type": "display_data"
    },
    {
     "data": {
      "text/plain": [
       "'out of index list'"
      ]
     },
     "metadata": {},
     "output_type": "display_data"
    },
    {
     "data": {
      "text/plain": [
       "18"
      ]
     },
     "metadata": {},
     "output_type": "display_data"
    },
    {
     "data": {
      "text/plain": [
       "'out of index list'"
      ]
     },
     "metadata": {},
     "output_type": "display_data"
    },
    {
     "data": {
      "text/plain": [
       "18"
      ]
     },
     "metadata": {},
     "output_type": "display_data"
    },
    {
     "data": {
      "text/plain": [
       "'out of index list'"
      ]
     },
     "metadata": {},
     "output_type": "display_data"
    },
    {
     "data": {
      "text/plain": [
       "18"
      ]
     },
     "metadata": {},
     "output_type": "display_data"
    },
    {
     "data": {
      "text/plain": [
       "'out of index list'"
      ]
     },
     "metadata": {},
     "output_type": "display_data"
    },
    {
     "data": {
      "text/plain": [
       "18"
      ]
     },
     "metadata": {},
     "output_type": "display_data"
    },
    {
     "data": {
      "text/plain": [
       "'out of index list'"
      ]
     },
     "metadata": {},
     "output_type": "display_data"
    },
    {
     "data": {
      "text/plain": [
       "18"
      ]
     },
     "metadata": {},
     "output_type": "display_data"
    },
    {
     "data": {
      "text/plain": [
       "'out of index list'"
      ]
     },
     "metadata": {},
     "output_type": "display_data"
    },
    {
     "data": {
      "text/plain": [
       "18"
      ]
     },
     "metadata": {},
     "output_type": "display_data"
    },
    {
     "data": {
      "text/plain": [
       "'out of index list'"
      ]
     },
     "metadata": {},
     "output_type": "display_data"
    },
    {
     "data": {
      "text/plain": [
       "18"
      ]
     },
     "metadata": {},
     "output_type": "display_data"
    },
    {
     "data": {
      "text/plain": [
       "'out of index list'"
      ]
     },
     "metadata": {},
     "output_type": "display_data"
    },
    {
     "data": {
      "text/plain": [
       "18"
      ]
     },
     "metadata": {},
     "output_type": "display_data"
    },
    {
     "data": {
      "text/plain": [
       "'out of index list'"
      ]
     },
     "metadata": {},
     "output_type": "display_data"
    },
    {
     "data": {
      "text/plain": [
       "18"
      ]
     },
     "metadata": {},
     "output_type": "display_data"
    },
    {
     "data": {
      "text/plain": [
       "'out of index list'"
      ]
     },
     "metadata": {},
     "output_type": "display_data"
    },
    {
     "data": {
      "text/plain": [
       "18"
      ]
     },
     "metadata": {},
     "output_type": "display_data"
    },
    {
     "data": {
      "text/plain": [
       "'out of index list'"
      ]
     },
     "metadata": {},
     "output_type": "display_data"
    },
    {
     "data": {
      "text/plain": [
       "18"
      ]
     },
     "metadata": {},
     "output_type": "display_data"
    },
    {
     "data": {
      "text/plain": [
       "'out of index list'"
      ]
     },
     "metadata": {},
     "output_type": "display_data"
    },
    {
     "data": {
      "text/plain": [
       "18"
      ]
     },
     "metadata": {},
     "output_type": "display_data"
    },
    {
     "data": {
      "text/plain": [
       "'out of index list'"
      ]
     },
     "metadata": {},
     "output_type": "display_data"
    },
    {
     "data": {
      "text/plain": [
       "18"
      ]
     },
     "metadata": {},
     "output_type": "display_data"
    },
    {
     "data": {
      "text/plain": [
       "'out of index list'"
      ]
     },
     "metadata": {},
     "output_type": "display_data"
    },
    {
     "data": {
      "text/plain": [
       "18"
      ]
     },
     "metadata": {},
     "output_type": "display_data"
    },
    {
     "data": {
      "text/plain": [
       "'out of index list'"
      ]
     },
     "metadata": {},
     "output_type": "display_data"
    },
    {
     "data": {
      "text/plain": [
       "18"
      ]
     },
     "metadata": {},
     "output_type": "display_data"
    },
    {
     "data": {
      "text/plain": [
       "'out of index list'"
      ]
     },
     "metadata": {},
     "output_type": "display_data"
    },
    {
     "data": {
      "text/plain": [
       "18"
      ]
     },
     "metadata": {},
     "output_type": "display_data"
    },
    {
     "data": {
      "text/plain": [
       "'out of index list'"
      ]
     },
     "metadata": {},
     "output_type": "display_data"
    },
    {
     "data": {
      "text/plain": [
       "18"
      ]
     },
     "metadata": {},
     "output_type": "display_data"
    },
    {
     "data": {
      "text/plain": [
       "'out of index list'"
      ]
     },
     "metadata": {},
     "output_type": "display_data"
    },
    {
     "data": {
      "text/plain": [
       "18"
      ]
     },
     "metadata": {},
     "output_type": "display_data"
    },
    {
     "data": {
      "text/plain": [
       "'out of index list'"
      ]
     },
     "metadata": {},
     "output_type": "display_data"
    },
    {
     "data": {
      "text/plain": [
       "18"
      ]
     },
     "metadata": {},
     "output_type": "display_data"
    },
    {
     "data": {
      "text/plain": [
       "'out of index list'"
      ]
     },
     "metadata": {},
     "output_type": "display_data"
    },
    {
     "data": {
      "text/plain": [
       "18"
      ]
     },
     "metadata": {},
     "output_type": "display_data"
    },
    {
     "data": {
      "text/plain": [
       "'out of index list'"
      ]
     },
     "metadata": {},
     "output_type": "display_data"
    },
    {
     "data": {
      "text/plain": [
       "18"
      ]
     },
     "metadata": {},
     "output_type": "display_data"
    },
    {
     "data": {
      "text/plain": [
       "'out of index list'"
      ]
     },
     "metadata": {},
     "output_type": "display_data"
    },
    {
     "data": {
      "text/plain": [
       "18"
      ]
     },
     "metadata": {},
     "output_type": "display_data"
    },
    {
     "data": {
      "text/plain": [
       "'out of index list'"
      ]
     },
     "metadata": {},
     "output_type": "display_data"
    },
    {
     "data": {
      "text/plain": [
       "18"
      ]
     },
     "metadata": {},
     "output_type": "display_data"
    },
    {
     "data": {
      "text/plain": [
       "'out of index list'"
      ]
     },
     "metadata": {},
     "output_type": "display_data"
    },
    {
     "data": {
      "text/plain": [
       "18"
      ]
     },
     "metadata": {},
     "output_type": "display_data"
    },
    {
     "data": {
      "text/plain": [
       "'out of index list'"
      ]
     },
     "metadata": {},
     "output_type": "display_data"
    },
    {
     "data": {
      "text/plain": [
       "18"
      ]
     },
     "metadata": {},
     "output_type": "display_data"
    },
    {
     "data": {
      "text/plain": [
       "'out of index list'"
      ]
     },
     "metadata": {},
     "output_type": "display_data"
    },
    {
     "data": {
      "text/plain": [
       "18"
      ]
     },
     "metadata": {},
     "output_type": "display_data"
    },
    {
     "data": {
      "text/plain": [
       "'out of index list'"
      ]
     },
     "metadata": {},
     "output_type": "display_data"
    },
    {
     "data": {
      "text/plain": [
       "18"
      ]
     },
     "metadata": {},
     "output_type": "display_data"
    },
    {
     "data": {
      "text/plain": [
       "'out of index list'"
      ]
     },
     "metadata": {},
     "output_type": "display_data"
    },
    {
     "data": {
      "text/plain": [
       "18"
      ]
     },
     "metadata": {},
     "output_type": "display_data"
    },
    {
     "data": {
      "text/plain": [
       "'out of index list'"
      ]
     },
     "metadata": {},
     "output_type": "display_data"
    },
    {
     "data": {
      "text/plain": [
       "18"
      ]
     },
     "metadata": {},
     "output_type": "display_data"
    },
    {
     "data": {
      "text/plain": [
       "'out of index list'"
      ]
     },
     "metadata": {},
     "output_type": "display_data"
    },
    {
     "data": {
      "text/plain": [
       "18"
      ]
     },
     "metadata": {},
     "output_type": "display_data"
    },
    {
     "data": {
      "text/plain": [
       "'out of index list'"
      ]
     },
     "metadata": {},
     "output_type": "display_data"
    },
    {
     "data": {
      "text/plain": [
       "18"
      ]
     },
     "metadata": {},
     "output_type": "display_data"
    },
    {
     "data": {
      "text/plain": [
       "'out of index list'"
      ]
     },
     "metadata": {},
     "output_type": "display_data"
    },
    {
     "data": {
      "text/plain": [
       "18"
      ]
     },
     "metadata": {},
     "output_type": "display_data"
    },
    {
     "data": {
      "text/plain": [
       "'out of index list'"
      ]
     },
     "metadata": {},
     "output_type": "display_data"
    },
    {
     "data": {
      "text/plain": [
       "18"
      ]
     },
     "metadata": {},
     "output_type": "display_data"
    },
    {
     "data": {
      "text/plain": [
       "'out of index list'"
      ]
     },
     "metadata": {},
     "output_type": "display_data"
    },
    {
     "data": {
      "text/plain": [
       "18"
      ]
     },
     "metadata": {},
     "output_type": "display_data"
    },
    {
     "data": {
      "text/plain": [
       "'out of index list'"
      ]
     },
     "metadata": {},
     "output_type": "display_data"
    },
    {
     "data": {
      "text/plain": [
       "18"
      ]
     },
     "metadata": {},
     "output_type": "display_data"
    },
    {
     "data": {
      "text/plain": [
       "'out of index list'"
      ]
     },
     "metadata": {},
     "output_type": "display_data"
    },
    {
     "data": {
      "text/plain": [
       "18"
      ]
     },
     "metadata": {},
     "output_type": "display_data"
    },
    {
     "data": {
      "text/plain": [
       "'out of index list'"
      ]
     },
     "metadata": {},
     "output_type": "display_data"
    },
    {
     "data": {
      "text/plain": [
       "18"
      ]
     },
     "metadata": {},
     "output_type": "display_data"
    },
    {
     "data": {
      "text/plain": [
       "'out of index list'"
      ]
     },
     "metadata": {},
     "output_type": "display_data"
    },
    {
     "data": {
      "text/plain": [
       "18"
      ]
     },
     "metadata": {},
     "output_type": "display_data"
    },
    {
     "data": {
      "text/plain": [
       "'out of index list'"
      ]
     },
     "metadata": {},
     "output_type": "display_data"
    },
    {
     "data": {
      "text/plain": [
       "18"
      ]
     },
     "metadata": {},
     "output_type": "display_data"
    },
    {
     "data": {
      "text/plain": [
       "'out of index list'"
      ]
     },
     "metadata": {},
     "output_type": "display_data"
    },
    {
     "data": {
      "text/plain": [
       "18"
      ]
     },
     "metadata": {},
     "output_type": "display_data"
    },
    {
     "data": {
      "text/plain": [
       "'out of index list'"
      ]
     },
     "metadata": {},
     "output_type": "display_data"
    },
    {
     "data": {
      "text/plain": [
       "18"
      ]
     },
     "metadata": {},
     "output_type": "display_data"
    },
    {
     "data": {
      "text/plain": [
       "'out of index list'"
      ]
     },
     "metadata": {},
     "output_type": "display_data"
    },
    {
     "data": {
      "text/plain": [
       "18"
      ]
     },
     "metadata": {},
     "output_type": "display_data"
    },
    {
     "data": {
      "text/plain": [
       "'out of index list'"
      ]
     },
     "metadata": {},
     "output_type": "display_data"
    },
    {
     "data": {
      "text/plain": [
       "18"
      ]
     },
     "metadata": {},
     "output_type": "display_data"
    },
    {
     "data": {
      "text/plain": [
       "'out of index list'"
      ]
     },
     "metadata": {},
     "output_type": "display_data"
    },
    {
     "data": {
      "text/plain": [
       "18"
      ]
     },
     "metadata": {},
     "output_type": "display_data"
    },
    {
     "data": {
      "text/plain": [
       "'out of index list'"
      ]
     },
     "metadata": {},
     "output_type": "display_data"
    },
    {
     "data": {
      "text/plain": [
       "18"
      ]
     },
     "metadata": {},
     "output_type": "display_data"
    },
    {
     "data": {
      "text/plain": [
       "'out of index list'"
      ]
     },
     "metadata": {},
     "output_type": "display_data"
    },
    {
     "data": {
      "text/plain": [
       "18"
      ]
     },
     "metadata": {},
     "output_type": "display_data"
    },
    {
     "data": {
      "text/plain": [
       "'out of index list'"
      ]
     },
     "metadata": {},
     "output_type": "display_data"
    },
    {
     "data": {
      "text/plain": [
       "18"
      ]
     },
     "metadata": {},
     "output_type": "display_data"
    },
    {
     "data": {
      "text/plain": [
       "'out of index list'"
      ]
     },
     "metadata": {},
     "output_type": "display_data"
    },
    {
     "data": {
      "text/plain": [
       "18"
      ]
     },
     "metadata": {},
     "output_type": "display_data"
    },
    {
     "data": {
      "text/plain": [
       "'out of index list'"
      ]
     },
     "metadata": {},
     "output_type": "display_data"
    },
    {
     "data": {
      "text/plain": [
       "18"
      ]
     },
     "metadata": {},
     "output_type": "display_data"
    },
    {
     "data": {
      "text/plain": [
       "'out of index list'"
      ]
     },
     "metadata": {},
     "output_type": "display_data"
    },
    {
     "data": {
      "text/plain": [
       "18"
      ]
     },
     "metadata": {},
     "output_type": "display_data"
    },
    {
     "data": {
      "text/plain": [
       "'out of index list'"
      ]
     },
     "metadata": {},
     "output_type": "display_data"
    },
    {
     "data": {
      "text/plain": [
       "18"
      ]
     },
     "metadata": {},
     "output_type": "display_data"
    },
    {
     "data": {
      "text/plain": [
       "'out of index list'"
      ]
     },
     "metadata": {},
     "output_type": "display_data"
    },
    {
     "data": {
      "text/plain": [
       "18"
      ]
     },
     "metadata": {},
     "output_type": "display_data"
    },
    {
     "data": {
      "text/plain": [
       "'out of index list'"
      ]
     },
     "metadata": {},
     "output_type": "display_data"
    },
    {
     "data": {
      "text/plain": [
       "18"
      ]
     },
     "metadata": {},
     "output_type": "display_data"
    },
    {
     "data": {
      "text/plain": [
       "'out of index list'"
      ]
     },
     "metadata": {},
     "output_type": "display_data"
    },
    {
     "data": {
      "text/plain": [
       "18"
      ]
     },
     "metadata": {},
     "output_type": "display_data"
    },
    {
     "data": {
      "text/plain": [
       "'out of index list'"
      ]
     },
     "metadata": {},
     "output_type": "display_data"
    },
    {
     "data": {
      "text/plain": [
       "18"
      ]
     },
     "metadata": {},
     "output_type": "display_data"
    },
    {
     "data": {
      "text/plain": [
       "'out of index list'"
      ]
     },
     "metadata": {},
     "output_type": "display_data"
    },
    {
     "data": {
      "text/plain": [
       "18"
      ]
     },
     "metadata": {},
     "output_type": "display_data"
    },
    {
     "data": {
      "text/plain": [
       "'out of index list'"
      ]
     },
     "metadata": {},
     "output_type": "display_data"
    },
    {
     "data": {
      "text/plain": [
       "18"
      ]
     },
     "metadata": {},
     "output_type": "display_data"
    },
    {
     "data": {
      "text/plain": [
       "'out of index list'"
      ]
     },
     "metadata": {},
     "output_type": "display_data"
    },
    {
     "data": {
      "text/plain": [
       "18"
      ]
     },
     "metadata": {},
     "output_type": "display_data"
    },
    {
     "data": {
      "text/plain": [
       "'out of index list'"
      ]
     },
     "metadata": {},
     "output_type": "display_data"
    },
    {
     "data": {
      "text/plain": [
       "18"
      ]
     },
     "metadata": {},
     "output_type": "display_data"
    },
    {
     "data": {
      "text/plain": [
       "'out of index list'"
      ]
     },
     "metadata": {},
     "output_type": "display_data"
    },
    {
     "data": {
      "text/plain": [
       "18"
      ]
     },
     "metadata": {},
     "output_type": "display_data"
    },
    {
     "data": {
      "text/plain": [
       "'out of index list'"
      ]
     },
     "metadata": {},
     "output_type": "display_data"
    },
    {
     "data": {
      "text/plain": [
       "18"
      ]
     },
     "metadata": {},
     "output_type": "display_data"
    },
    {
     "data": {
      "text/plain": [
       "'out of index list'"
      ]
     },
     "metadata": {},
     "output_type": "display_data"
    },
    {
     "data": {
      "text/plain": [
       "18"
      ]
     },
     "metadata": {},
     "output_type": "display_data"
    },
    {
     "data": {
      "text/plain": [
       "'out of index list'"
      ]
     },
     "metadata": {},
     "output_type": "display_data"
    },
    {
     "data": {
      "text/plain": [
       "18"
      ]
     },
     "metadata": {},
     "output_type": "display_data"
    },
    {
     "data": {
      "text/plain": [
       "'out of index list'"
      ]
     },
     "metadata": {},
     "output_type": "display_data"
    },
    {
     "data": {
      "text/plain": [
       "18"
      ]
     },
     "metadata": {},
     "output_type": "display_data"
    },
    {
     "data": {
      "text/plain": [
       "'out of index list'"
      ]
     },
     "metadata": {},
     "output_type": "display_data"
    },
    {
     "data": {
      "text/plain": [
       "18"
      ]
     },
     "metadata": {},
     "output_type": "display_data"
    },
    {
     "data": {
      "text/plain": [
       "'out of index list'"
      ]
     },
     "metadata": {},
     "output_type": "display_data"
    },
    {
     "data": {
      "text/plain": [
       "18"
      ]
     },
     "metadata": {},
     "output_type": "display_data"
    },
    {
     "data": {
      "text/plain": [
       "'out of index list'"
      ]
     },
     "metadata": {},
     "output_type": "display_data"
    },
    {
     "data": {
      "text/plain": [
       "18"
      ]
     },
     "metadata": {},
     "output_type": "display_data"
    },
    {
     "data": {
      "text/plain": [
       "'out of index list'"
      ]
     },
     "metadata": {},
     "output_type": "display_data"
    },
    {
     "data": {
      "text/plain": [
       "18"
      ]
     },
     "metadata": {},
     "output_type": "display_data"
    },
    {
     "data": {
      "text/plain": [
       "'out of index list'"
      ]
     },
     "metadata": {},
     "output_type": "display_data"
    },
    {
     "data": {
      "text/plain": [
       "18"
      ]
     },
     "metadata": {},
     "output_type": "display_data"
    },
    {
     "data": {
      "text/plain": [
       "'out of index list'"
      ]
     },
     "metadata": {},
     "output_type": "display_data"
    },
    {
     "data": {
      "text/plain": [
       "18"
      ]
     },
     "metadata": {},
     "output_type": "display_data"
    },
    {
     "data": {
      "text/plain": [
       "'out of index list'"
      ]
     },
     "metadata": {},
     "output_type": "display_data"
    },
    {
     "data": {
      "text/plain": [
       "18"
      ]
     },
     "metadata": {},
     "output_type": "display_data"
    },
    {
     "data": {
      "text/plain": [
       "'out of index list'"
      ]
     },
     "metadata": {},
     "output_type": "display_data"
    },
    {
     "data": {
      "text/plain": [
       "18"
      ]
     },
     "metadata": {},
     "output_type": "display_data"
    },
    {
     "data": {
      "text/plain": [
       "'out of index list'"
      ]
     },
     "metadata": {},
     "output_type": "display_data"
    },
    {
     "data": {
      "text/plain": [
       "18"
      ]
     },
     "metadata": {},
     "output_type": "display_data"
    },
    {
     "data": {
      "text/plain": [
       "'out of index list'"
      ]
     },
     "metadata": {},
     "output_type": "display_data"
    },
    {
     "data": {
      "text/plain": [
       "18"
      ]
     },
     "metadata": {},
     "output_type": "display_data"
    },
    {
     "data": {
      "text/plain": [
       "'out of index list'"
      ]
     },
     "metadata": {},
     "output_type": "display_data"
    },
    {
     "data": {
      "text/plain": [
       "18"
      ]
     },
     "metadata": {},
     "output_type": "display_data"
    },
    {
     "data": {
      "text/plain": [
       "'out of index list'"
      ]
     },
     "metadata": {},
     "output_type": "display_data"
    }
   ],
   "source": [
    "DataLPL = GetAllBans(WeblinksToLPL)\n",
    "DataLCK = GetAllBans(WeblinksToLCK)\n",
    "DataLPL2 = GetAllBansError(WeblinksToLPL)\n",
    "#FullStats = liquipediaStats(wikiLiquid)\n",
    "FullStatSpring = liquipediaStats(wikiLiquid2)\n",
    "#filterminutesmorethan1500 = mask.loc[(mask['MP']>1500) & (mask['Player']==\"Stephen Curry\")]"
   ]
  },
  {
   "cell_type": "markdown",
   "id": "ebbec792-c9fe-4128-93eb-0aee10a55eb5",
   "metadata": {},
   "source": [
    "# Filter out data\n"
   ]
  },
  {
   "cell_type": "code",
   "execution_count": 104,
   "id": "54c69ba8-ffb0-4517-892f-171acc55e2af",
   "metadata": {
    "tags": []
   },
   "outputs": [
    {
     "data": {
      "text/html": [
       "<div>\n",
       "<style scoped>\n",
       "    .dataframe tbody tr th:only-of-type {\n",
       "        vertical-align: middle;\n",
       "    }\n",
       "\n",
       "    .dataframe tbody tr th {\n",
       "        vertical-align: top;\n",
       "    }\n",
       "\n",
       "    .dataframe thead th {\n",
       "        text-align: right;\n",
       "    }\n",
       "</style>\n",
       "<table border=\"1\" class=\"dataframe\">\n",
       "  <thead>\n",
       "    <tr style=\"text-align: right;\">\n",
       "      <th></th>\n",
       "      <th>Ranks</th>\n",
       "      <th>Champions</th>\n",
       "      <th>Wins</th>\n",
       "      <th>Lose</th>\n",
       "      <th>PercentageWinRate</th>\n",
       "      <th>PercentageAvailableGames</th>\n",
       "      <th>BlueSidePick</th>\n",
       "      <th>BlueSidePickWin</th>\n",
       "      <th>BlueSidePickLose</th>\n",
       "      <th>BlueSidePercentage</th>\n",
       "      <th>RedSidePick</th>\n",
       "      <th>RedSidePickWin</th>\n",
       "      <th>RedSidePickLose</th>\n",
       "      <th>RedSidePickPercentage</th>\n",
       "    </tr>\n",
       "  </thead>\n",
       "  <tbody>\n",
       "    <tr>\n",
       "      <th>0</th>\n",
       "      <td>1</td>\n",
       "      <td>Trundle</td>\n",
       "      <td>51</td>\n",
       "      <td>46</td>\n",
       "      <td>52.58</td>\n",
       "      <td>41.45</td>\n",
       "      <td>43</td>\n",
       "      <td>25</td>\n",
       "      <td>18</td>\n",
       "      <td>58.14</td>\n",
       "      <td>26</td>\n",
       "      <td>54</td>\n",
       "      <td>28</td>\n",
       "      <td>48.15</td>\n",
       "    </tr>\n",
       "    <tr>\n",
       "      <th>1</th>\n",
       "      <td>2</td>\n",
       "      <td>Zoe</td>\n",
       "      <td>52</td>\n",
       "      <td>41</td>\n",
       "      <td>55.91</td>\n",
       "      <td>39.74</td>\n",
       "      <td>57</td>\n",
       "      <td>33</td>\n",
       "      <td>24</td>\n",
       "      <td>57.89</td>\n",
       "      <td>19</td>\n",
       "      <td>36</td>\n",
       "      <td>17</td>\n",
       "      <td>52.78</td>\n",
       "    </tr>\n",
       "    <tr>\n",
       "      <th>2</th>\n",
       "      <td>3</td>\n",
       "      <td>Ezreal</td>\n",
       "      <td>49</td>\n",
       "      <td>44</td>\n",
       "      <td>52.69</td>\n",
       "      <td>39.74</td>\n",
       "      <td>49</td>\n",
       "      <td>28</td>\n",
       "      <td>21</td>\n",
       "      <td>57.14</td>\n",
       "      <td>21</td>\n",
       "      <td>44</td>\n",
       "      <td>23</td>\n",
       "      <td>47.73</td>\n",
       "    </tr>\n",
       "    <tr>\n",
       "      <th>3</th>\n",
       "      <td>4</td>\n",
       "      <td>Tahm Kench</td>\n",
       "      <td>47</td>\n",
       "      <td>41</td>\n",
       "      <td>53.41</td>\n",
       "      <td>37.61</td>\n",
       "      <td>56</td>\n",
       "      <td>33</td>\n",
       "      <td>23</td>\n",
       "      <td>58.93</td>\n",
       "      <td>14</td>\n",
       "      <td>32</td>\n",
       "      <td>18</td>\n",
       "      <td>43.75</td>\n",
       "    </tr>\n",
       "    <tr>\n",
       "      <th>4</th>\n",
       "      <td>5</td>\n",
       "      <td>Swain</td>\n",
       "      <td>48</td>\n",
       "      <td>35</td>\n",
       "      <td>57.83</td>\n",
       "      <td>35.47</td>\n",
       "      <td>53</td>\n",
       "      <td>35</td>\n",
       "      <td>18</td>\n",
       "      <td>66.04</td>\n",
       "      <td>13</td>\n",
       "      <td>30</td>\n",
       "      <td>17</td>\n",
       "      <td>43.33</td>\n",
       "    </tr>\n",
       "    <tr>\n",
       "      <th>...</th>\n",
       "      <td>...</td>\n",
       "      <td>...</td>\n",
       "      <td>...</td>\n",
       "      <td>...</td>\n",
       "      <td>...</td>\n",
       "      <td>...</td>\n",
       "      <td>...</td>\n",
       "      <td>...</td>\n",
       "      <td>...</td>\n",
       "      <td>...</td>\n",
       "      <td>...</td>\n",
       "      <td>...</td>\n",
       "      <td>...</td>\n",
       "      <td>...</td>\n",
       "    </tr>\n",
       "    <tr>\n",
       "      <th>97</th>\n",
       "      <td>98</td>\n",
       "      <td>Draven</td>\n",
       "      <td>0</td>\n",
       "      <td>1</td>\n",
       "      <td>0.00</td>\n",
       "      <td>0.43</td>\n",
       "      <td>1</td>\n",
       "      <td>0</td>\n",
       "      <td>1</td>\n",
       "      <td>0.00</td>\n",
       "      <td>0</td>\n",
       "      <td>0</td>\n",
       "      <td>0</td>\n",
       "      <td>-</td>\n",
       "    </tr>\n",
       "    <tr>\n",
       "      <th>98</th>\n",
       "      <td>99</td>\n",
       "      <td>Jinx</td>\n",
       "      <td>0</td>\n",
       "      <td>1</td>\n",
       "      <td>0.00</td>\n",
       "      <td>0.43</td>\n",
       "      <td>1</td>\n",
       "      <td>0</td>\n",
       "      <td>1</td>\n",
       "      <td>0.00</td>\n",
       "      <td>0</td>\n",
       "      <td>0</td>\n",
       "      <td>0</td>\n",
       "      <td>-</td>\n",
       "    </tr>\n",
       "    <tr>\n",
       "      <th>99</th>\n",
       "      <td>100</td>\n",
       "      <td>Kha'Zix</td>\n",
       "      <td>0</td>\n",
       "      <td>1</td>\n",
       "      <td>0.00</td>\n",
       "      <td>0.43</td>\n",
       "      <td>0</td>\n",
       "      <td>0</td>\n",
       "      <td>0</td>\n",
       "      <td>-</td>\n",
       "      <td>0</td>\n",
       "      <td>1</td>\n",
       "      <td>1</td>\n",
       "      <td>0.00</td>\n",
       "    </tr>\n",
       "    <tr>\n",
       "      <th>100</th>\n",
       "      <td>101</td>\n",
       "      <td>Miss Fortune</td>\n",
       "      <td>0</td>\n",
       "      <td>1</td>\n",
       "      <td>0.00</td>\n",
       "      <td>0.43</td>\n",
       "      <td>1</td>\n",
       "      <td>0</td>\n",
       "      <td>1</td>\n",
       "      <td>0.00</td>\n",
       "      <td>0</td>\n",
       "      <td>0</td>\n",
       "      <td>0</td>\n",
       "      <td>-</td>\n",
       "    </tr>\n",
       "    <tr>\n",
       "      <th>101</th>\n",
       "      <td>102</td>\n",
       "      <td>Twisted Fate</td>\n",
       "      <td>0</td>\n",
       "      <td>1</td>\n",
       "      <td>0.00</td>\n",
       "      <td>0.43</td>\n",
       "      <td>0</td>\n",
       "      <td>0</td>\n",
       "      <td>0</td>\n",
       "      <td>-</td>\n",
       "      <td>0</td>\n",
       "      <td>1</td>\n",
       "      <td>1</td>\n",
       "      <td>0.00</td>\n",
       "    </tr>\n",
       "  </tbody>\n",
       "</table>\n",
       "<p>102 rows × 14 columns</p>\n",
       "</div>"
      ],
      "text/plain": [
       "    Ranks     Champions Wins Lose PercentageWinRate PercentageAvailableGames  \\\n",
       "0       1       Trundle   51   46             52.58                    41.45   \n",
       "1       2           Zoe   52   41             55.91                    39.74   \n",
       "2       3        Ezreal   49   44             52.69                    39.74   \n",
       "3       4    Tahm Kench   47   41             53.41                    37.61   \n",
       "4       5         Swain   48   35             57.83                    35.47   \n",
       "..    ...           ...  ...  ...               ...                      ...   \n",
       "97     98        Draven    0    1              0.00                     0.43   \n",
       "98     99          Jinx    0    1              0.00                     0.43   \n",
       "99    100       Kha'Zix    0    1              0.00                     0.43   \n",
       "100   101  Miss Fortune    0    1              0.00                     0.43   \n",
       "101   102  Twisted Fate    0    1              0.00                     0.43   \n",
       "\n",
       "    BlueSidePick BlueSidePickWin BlueSidePickLose BlueSidePercentage  \\\n",
       "0             43              25               18              58.14   \n",
       "1             57              33               24              57.89   \n",
       "2             49              28               21              57.14   \n",
       "3             56              33               23              58.93   \n",
       "4             53              35               18              66.04   \n",
       "..           ...             ...              ...                ...   \n",
       "97             1               0                1               0.00   \n",
       "98             1               0                1               0.00   \n",
       "99             0               0                0                  -   \n",
       "100            1               0                1               0.00   \n",
       "101            0               0                0                  -   \n",
       "\n",
       "    RedSidePick RedSidePickWin RedSidePickLose RedSidePickPercentage  \n",
       "0            26             54              28                 48.15  \n",
       "1            19             36              17                 52.78  \n",
       "2            21             44              23                 47.73  \n",
       "3            14             32              18                 43.75  \n",
       "4            13             30              17                 43.33  \n",
       "..          ...            ...             ...                   ...  \n",
       "97            0              0               0                     -  \n",
       "98            0              0               0                     -  \n",
       "99            0              1               1                  0.00  \n",
       "100           0              0               0                     -  \n",
       "101           0              1               1                  0.00  \n",
       "\n",
       "[102 rows x 14 columns]"
      ]
     },
     "metadata": {},
     "output_type": "display_data"
    },
    {
     "ename": "KeyError",
     "evalue": "'TotalPickRate'",
     "output_type": "error",
     "traceback": [
      "\u001b[1;31m---------------------------------------------------------------------------\u001b[0m",
      "\u001b[1;31mKeyError\u001b[0m                                  Traceback (most recent call last)",
      "File \u001b[1;32m~\\anaconda3\\lib\\site-packages\\pandas\\core\\indexes\\base.py:3802\u001b[0m, in \u001b[0;36mIndex.get_loc\u001b[1;34m(self, key, method, tolerance)\u001b[0m\n\u001b[0;32m   3801\u001b[0m \u001b[38;5;28;01mtry\u001b[39;00m:\n\u001b[1;32m-> 3802\u001b[0m     \u001b[38;5;28;01mreturn\u001b[39;00m \u001b[38;5;28;43mself\u001b[39;49m\u001b[38;5;241;43m.\u001b[39;49m\u001b[43m_engine\u001b[49m\u001b[38;5;241;43m.\u001b[39;49m\u001b[43mget_loc\u001b[49m\u001b[43m(\u001b[49m\u001b[43mcasted_key\u001b[49m\u001b[43m)\u001b[49m\n\u001b[0;32m   3803\u001b[0m \u001b[38;5;28;01mexcept\u001b[39;00m \u001b[38;5;167;01mKeyError\u001b[39;00m \u001b[38;5;28;01mas\u001b[39;00m err:\n",
      "File \u001b[1;32m~\\anaconda3\\lib\\site-packages\\pandas\\_libs\\index.pyx:138\u001b[0m, in \u001b[0;36mpandas._libs.index.IndexEngine.get_loc\u001b[1;34m()\u001b[0m\n",
      "File \u001b[1;32m~\\anaconda3\\lib\\site-packages\\pandas\\_libs\\index.pyx:165\u001b[0m, in \u001b[0;36mpandas._libs.index.IndexEngine.get_loc\u001b[1;34m()\u001b[0m\n",
      "File \u001b[1;32mpandas\\_libs\\hashtable_class_helper.pxi:5745\u001b[0m, in \u001b[0;36mpandas._libs.hashtable.PyObjectHashTable.get_item\u001b[1;34m()\u001b[0m\n",
      "File \u001b[1;32mpandas\\_libs\\hashtable_class_helper.pxi:5753\u001b[0m, in \u001b[0;36mpandas._libs.hashtable.PyObjectHashTable.get_item\u001b[1;34m()\u001b[0m\n",
      "\u001b[1;31mKeyError\u001b[0m: 'TotalPickRate'",
      "\nThe above exception was the direct cause of the following exception:\n",
      "\u001b[1;31mKeyError\u001b[0m                                  Traceback (most recent call last)",
      "Cell \u001b[1;32mIn[104], line 15\u001b[0m\n\u001b[0;32m     13\u001b[0m DataliquipediaStatsSpring[\u001b[38;5;124m'\u001b[39m\u001b[38;5;124mWins\u001b[39m\u001b[38;5;124m'\u001b[39m] \u001b[38;5;241m=\u001b[39m pd\u001b[38;5;241m.\u001b[39mto_numeric(DataliquipediaStatsSpring[\u001b[38;5;124m'\u001b[39m\u001b[38;5;124mWins\u001b[39m\u001b[38;5;124m'\u001b[39m])\n\u001b[0;32m     14\u001b[0m DataliquipediaStatsSpring[\u001b[38;5;124m'\u001b[39m\u001b[38;5;124mLose\u001b[39m\u001b[38;5;124m'\u001b[39m] \u001b[38;5;241m=\u001b[39m pd\u001b[38;5;241m.\u001b[39mto_numeric(DataliquipediaStatsSpring[\u001b[38;5;124m'\u001b[39m\u001b[38;5;124mLose\u001b[39m\u001b[38;5;124m'\u001b[39m])\n\u001b[1;32m---> 15\u001b[0m DataliquipediaStatsSpring[\u001b[38;5;124m'\u001b[39m\u001b[38;5;124mTotalPickRate\u001b[39m\u001b[38;5;124m'\u001b[39m] \u001b[38;5;241m=\u001b[39m pd\u001b[38;5;241m.\u001b[39mto_numeric(\u001b[43mDataliquipediaStatsSpring\u001b[49m\u001b[43m[\u001b[49m\u001b[38;5;124;43m'\u001b[39;49m\u001b[38;5;124;43mTotalPickRate\u001b[39;49m\u001b[38;5;124;43m'\u001b[39;49m\u001b[43m]\u001b[49m)\n\u001b[0;32m     16\u001b[0m \u001b[38;5;66;03m#DataliquipediaStats['Wins'] = pd.to_numeric(DataliquipediaStats['Wins'])\u001b[39;00m\n\u001b[0;32m     17\u001b[0m \u001b[38;5;66;03m#-> Add Columns\u001b[39;00m\n\u001b[0;32m     18\u001b[0m DataliquipediaStatsSpring \u001b[38;5;241m=\u001b[39m DataliquipediaStatsSpring\u001b[38;5;241m.\u001b[39massign(TotalGamesPlayed\u001b[38;5;241m=\u001b[39m DataliquipediaStatsSpring[\u001b[38;5;124m'\u001b[39m\u001b[38;5;124mWins\u001b[39m\u001b[38;5;124m'\u001b[39m]\u001b[38;5;241m+\u001b[39mDataliquipediaStatsSpring[\u001b[38;5;124m'\u001b[39m\u001b[38;5;124mLose\u001b[39m\u001b[38;5;124m'\u001b[39m] )\n",
      "File \u001b[1;32m~\\anaconda3\\lib\\site-packages\\pandas\\core\\frame.py:3807\u001b[0m, in \u001b[0;36mDataFrame.__getitem__\u001b[1;34m(self, key)\u001b[0m\n\u001b[0;32m   3805\u001b[0m \u001b[38;5;28;01mif\u001b[39;00m \u001b[38;5;28mself\u001b[39m\u001b[38;5;241m.\u001b[39mcolumns\u001b[38;5;241m.\u001b[39mnlevels \u001b[38;5;241m>\u001b[39m \u001b[38;5;241m1\u001b[39m:\n\u001b[0;32m   3806\u001b[0m     \u001b[38;5;28;01mreturn\u001b[39;00m \u001b[38;5;28mself\u001b[39m\u001b[38;5;241m.\u001b[39m_getitem_multilevel(key)\n\u001b[1;32m-> 3807\u001b[0m indexer \u001b[38;5;241m=\u001b[39m \u001b[38;5;28;43mself\u001b[39;49m\u001b[38;5;241;43m.\u001b[39;49m\u001b[43mcolumns\u001b[49m\u001b[38;5;241;43m.\u001b[39;49m\u001b[43mget_loc\u001b[49m\u001b[43m(\u001b[49m\u001b[43mkey\u001b[49m\u001b[43m)\u001b[49m\n\u001b[0;32m   3808\u001b[0m \u001b[38;5;28;01mif\u001b[39;00m is_integer(indexer):\n\u001b[0;32m   3809\u001b[0m     indexer \u001b[38;5;241m=\u001b[39m [indexer]\n",
      "File \u001b[1;32m~\\anaconda3\\lib\\site-packages\\pandas\\core\\indexes\\base.py:3804\u001b[0m, in \u001b[0;36mIndex.get_loc\u001b[1;34m(self, key, method, tolerance)\u001b[0m\n\u001b[0;32m   3802\u001b[0m     \u001b[38;5;28;01mreturn\u001b[39;00m \u001b[38;5;28mself\u001b[39m\u001b[38;5;241m.\u001b[39m_engine\u001b[38;5;241m.\u001b[39mget_loc(casted_key)\n\u001b[0;32m   3803\u001b[0m \u001b[38;5;28;01mexcept\u001b[39;00m \u001b[38;5;167;01mKeyError\u001b[39;00m \u001b[38;5;28;01mas\u001b[39;00m err:\n\u001b[1;32m-> 3804\u001b[0m     \u001b[38;5;28;01mraise\u001b[39;00m \u001b[38;5;167;01mKeyError\u001b[39;00m(key) \u001b[38;5;28;01mfrom\u001b[39;00m \u001b[38;5;21;01merr\u001b[39;00m\n\u001b[0;32m   3805\u001b[0m \u001b[38;5;28;01mexcept\u001b[39;00m \u001b[38;5;167;01mTypeError\u001b[39;00m:\n\u001b[0;32m   3806\u001b[0m     \u001b[38;5;66;03m# If we have a listlike key, _check_indexing_error will raise\u001b[39;00m\n\u001b[0;32m   3807\u001b[0m     \u001b[38;5;66;03m#  InvalidIndexError. Otherwise we fall through and re-raise\u001b[39;00m\n\u001b[0;32m   3808\u001b[0m     \u001b[38;5;66;03m#  the TypeError.\u001b[39;00m\n\u001b[0;32m   3809\u001b[0m     \u001b[38;5;28mself\u001b[39m\u001b[38;5;241m.\u001b[39m_check_indexing_error(key)\n",
      "\u001b[1;31mKeyError\u001b[0m: 'TotalPickRate'"
     ]
    }
   ],
   "source": [
    "import pandas as pd\n",
    "#Filter Data that display with more that 10 bans\n",
    "pd.set_option('display.max_colwidth', None)\n",
    "DataLPLFilter= pd.DataFrame(DataLPL)\n",
    "DataLCKFilter= pd.DataFrame(DataLCK)\n",
    "#DataliquipediaStats = pd.DataFrame(FullStats)\n",
    "#Create DataFrame\n",
    "\n",
    "DataliquipediaStatsSpring = pd.DataFrame(FullStatSpring)\n",
    "display(DataliquipediaStatsSpring)\n",
    "#->Change Columns from String to Numberical\n",
    "#DataliquipediaStats['Wins'] = pd.to_numeric(DataliquipediaStats['Wins'])\n",
    "DataliquipediaStatsSpring['Wins'] = pd.to_numeric(DataliquipediaStatsSpring['Wins'])\n",
    "DataliquipediaStatsSpring['Lose'] = pd.to_numeric(DataliquipediaStatsSpring['Lose'])\n",
    "DataliquipediaStatsSpring['TotalPickRate'] = pd.to_numeric(DataliquipediaStatsSpring['TotalPickRate'])\n",
    "#DataliquipediaStats['Wins'] = pd.to_numeric(DataliquipediaStats['Wins'])\n",
    "#-> Add Columns\n",
    "DataliquipediaStatsSpring = DataliquipediaStatsSpring.assign(TotalGamesPlayed= DataliquipediaStatsSpring['Wins']+DataliquipediaStatsSpring['Lose'] )\n",
    "DataliquipediaStatsSpring = DataliquipediaStatsSpring.assign(Ban= DataliquipediaStatsSpring['TotalPickRate']-DataliquipediaStatsSpring['TotalGamesPlayed'])\n",
    "#-> Display Data\n",
    "#display(DataLPLFilter)\n",
    "#display(DataliquipediaStats)\n",
    "display(DataliquipediaStatsSpring.style)\n",
    "#filter1 =n.loc[(n['Ban']>'100')]\n",
    "#DataLPLFilter = DataLPLFilter.loc[DataLPLFilter['Ban'] > 10]"
   ]
  },
  {
   "cell_type": "markdown",
   "id": "b15f0546-7af1-4715-8834-a67bac4f25db",
   "metadata": {},
   "source": [
    "CreateGraph Method"
   ]
  },
  {
   "cell_type": "code",
   "execution_count": null,
   "id": "430c11c7-b555-43a6-8430-ac297f789931",
   "metadata": {},
   "outputs": [],
   "source": [
    "\n",
    "def LineChart(Data,LeagueName):\n",
    "    plt.plot(Data['Ban'],Data['Champions'])\n",
    "    Title = 'Bans'+ LeagueName\n",
    "    plt.title(Title)\n",
    "    return plt\n",
    "def PieChart(Data,LeagueName):\n",
    "    #display(Data['Ban'])\n",
    "    #display(Data['Champions'])\n",
    "    plt.pie(Data['Ban'], labels=Data['Champions'], autopct='%1.1f%%',radius=100000000000000000000000, startangle=90)\n",
    "    #plt.pie(Data.values(), labels=Data.keys(), autopct='%1.1f%%',radius=1800, startangle=90)\n",
    "    Title = 'Bans'+' '+ LeagueName\n",
    "    plt.title(str(Title))\n",
    "    plt.axis('equal')\n",
    "    # plt.legend(Data.values(), labels=Data.keys(), bbox_to_anchor=(-0.1, 1.),\n",
    "    #        fontsize=8)\n",
    "    plt.tight_layout()\n",
    "    return plt\n",
    "def BarChart(Data,LeagueName):\n",
    "    display(Data)\n",
    "    plt.figure(figsize=(12, 6))  # Optional: Set the figure size\n",
    "    plt.bar(Data['Champions'],Data['Ban'])\n",
    "    plt.xticks(rotation=90)  # Rotate the x-axis labels for better readability\n",
    "    plt.xlabel('Champion')\n",
    "    plt.ylabel('Bans')\n",
    "    plt.title('Champion Bans'+ LeagueName)\n",
    "    plt.grid(axis='y', linestyle='--', alpha=0.7)  # Add horizontal grid lines\n",
    "    plt.tight_layout()  # Adjust the layout to prevent overlapping labels\n",
    "    return plt\n"
   ]
  },
  {
   "cell_type": "code",
   "execution_count": null,
   "id": "e5c1e9db-42ce-43a2-8656-be6a66ea2653",
   "metadata": {
    "scrolled": true
   },
   "outputs": [],
   "source": [
    "PieChart(DataLCKFilter ,'LCK').show"
   ]
  },
  {
   "cell_type": "code",
   "execution_count": null,
   "id": "4b17ae20",
   "metadata": {},
   "outputs": [],
   "source": [
    "PieChart(DataLPLFilter ,'LPL').show"
   ]
  },
  {
   "cell_type": "code",
   "execution_count": null,
   "id": "f066fe4e-1db6-4702-b95f-d21e8a6a98eb",
   "metadata": {},
   "outputs": [],
   "source": [
    "LineChart(DataLPLFilter,'lpl').show\n",
    "LineChart(DataLCKFilter,'lck').show\n",
    "#not valid table"
   ]
  },
  {
   "cell_type": "code",
   "execution_count": null,
   "id": "ebec7b7e",
   "metadata": {},
   "outputs": [],
   "source": [
    "BarChart(DataLPLFilter,'LPL').show\n",
    "BarChart(DataLCKFilter,'LCK').show"
   ]
  },
  {
   "cell_type": "code",
   "execution_count": null,
   "id": "5a9142ea",
   "metadata": {},
   "outputs": [],
   "source": []
  },
  {
   "cell_type": "code",
   "execution_count": null,
   "id": "f210261e",
   "metadata": {},
   "outputs": [],
   "source": [
    "#import pandas as pd\n",
    "#import matplotlib.pyplot as plt\n",
    "\n",
    "# Assuming you have the DataFrame 'df' with the 'Score' column\n",
    "#DataLCK = GetAllBans(WeblinksToLCK)\n",
    "#df = pd.DataFrame(DataLCK)\n",
    "\n",
    "# Convert the 'Score' column to numeric\n",
    "#df['Ban'] = pd.to_numeric(df['Ban'])\n",
    "\n",
    "# Sort the DataFrame by the 'Score' column in descending order\n",
    "#df = df.sort_values(by='Ban', ascending=False)\n",
    "\n",
    "# Plot the data as a bar chart\n",
    "#plt.figure(figsize=(12, 6))  # Optional: Set the figure size\n",
    "#plt.bar(df['Champions'],df['Ban'])\n",
    "#plt.xticks(rotation=90)  # Rotate the x-axis labels for better readability\n",
    "#plt.xlabel('Champion')\n",
    "#plt.ylabel('Bans')\n",
    "#plt.title('Champion Scores')\n",
    "#plt.grid(axis='y', linestyle='--', alpha=0.7)  # Add horizontal grid lines\n",
    "#plt.tight_layout()  # Adjust the layout to prevent overlapping labels\n",
    "#plt.show()"
   ]
  },
  {
   "cell_type": "markdown",
   "id": "510d6a8a-82bb-432f-a18d-19b1bd098f18",
   "metadata": {},
   "source": [
    "### Learning Codes Below Above is Product\n"
   ]
  },
  {
   "cell_type": "markdown",
   "id": "74660fd5-ec4c-4797-8e83-8e136b6815a7",
   "metadata": {
    "tags": []
   },
   "source": [
    "Turns a two list into Pairs see example when need to\n",
    "\n",
    "\n",
    "# Example 1\n",
    "list1 = [1, 2, 3]\n",
    "list2 = ['a', 'b', 'c']\n",
    "\n",
    "zipped = zip(list1, list2)\n",
    "unzipped = zip(*zipped)\n",
    "\n",
    "print(list(zipped))     # Output: [(1, 'a'), (2, 'b'), (3, 'c')]\n",
    "print(list(unzipped))   # Output: [(1, 2, 3), ('a', 'b', 'c')]\n",
    "\n",
    "# Example 2\n",
    "list3 = [10, 20, 30]\n",
    "\n",
    "zipped = zip(list1, list2, list3)\n",
    "unzipped = zip(*zipped)\n",
    "\n",
    "print(list(zipped))     # Output: [(1, 'a', 10), (2, 'b', 20), (3, 'c', 30)]\n",
    "print(list(unzipped))   # Output: [(1, 2, 3), ('a', 'b', 'c'), (10, 20, 30)]\n"
   ]
  },
  {
   "cell_type": "code",
   "execution_count": null,
   "id": "c12ee6cd-bbc1-4bb1-b898-e41b40e12015",
   "metadata": {},
   "outputs": [],
   "source": [
    "lists = sorted(Data.items()) # sorted by key, return a list of tuples\n",
    "print(lists)\n",
    "print(Data)\n",
    "x, y = zip(*lists) # unpack a list of pairs into two tuples"
   ]
  },
  {
   "cell_type": "markdown",
   "id": "b28501bc-8df9-4e08-8200-29097ce936e8",
   "metadata": {
    "tags": []
   },
   "source": [
    "## Sample COde"
   ]
  },
  {
   "cell_type": "code",
   "execution_count": null,
   "id": "f9e7686d-3332-4e28-9545-a6b5a8f0c9ca",
   "metadata": {},
   "outputs": [],
   "source": [
    "import matplotlib.pyplot as plt\n",
    "import numpy as np\n",
    "\n",
    "x = np.char.array(['Jan','Feb','Mar','Apr','May','Jun','Jul','Aug','Sep','Oct', 'Nov','Dec'])\n",
    "y = np.array([234, 64, 54,10, 0, 1, 0, 9, 2, 1, 7, 7])\n",
    "colors = ['yellowgreen','red','gold','lightskyblue','white','lightcoral','blue','pink', 'darkgreen','yellow','grey','violet','magenta','cyan']\n",
    "porcent = 100.*y/y.sum()\n",
    "\n",
    "patches, texts = plt.pie(y, colors=colors, startangle=90, radius=1.2)\n",
    "labels = ['{0} - {1:1.2f} %'.format(i,j) for i,j in zip(x, porcent)]\n",
    "\n",
    "sort_legend = True\n",
    "if sort_legend:\n",
    "    patches, labels, dummy =  zip(*sorted(zip(patches, labels, y),\n",
    "                                          key=lambda x: x[2],\n",
    "                                          reverse=True))\n",
    "\n",
    "plt.legend(patches, labels, bbox_to_anchor=(-0.1, 1.),\n",
    "           fontsize=8)\n",
    "plt.show()\n"
   ]
  },
  {
   "cell_type": "markdown",
   "id": "e275551a-3bab-446d-88e9-9b67212a4541",
   "metadata": {},
   "source": [
    "# Study this link"
   ]
  },
  {
   "cell_type": "markdown",
   "id": "09061b41-43cd-4190-95ed-b01f8e70a941",
   "metadata": {},
   "source": [
    "https://builtin.com/data-science/pandas-add-column\n",
    "\n",
    "Add Column and add Values tgt "
   ]
  },
  {
   "cell_type": "code",
   "execution_count": null,
   "id": "6ff0b9e2",
   "metadata": {},
   "outputs": [],
   "source": []
  }
 ],
 "metadata": {
  "kernelspec": {
   "display_name": "Python 3 (ipykernel)",
   "language": "python",
   "name": "python3"
  },
  "language_info": {
   "codemirror_mode": {
    "name": "ipython",
    "version": 3
   },
   "file_extension": ".py",
   "mimetype": "text/x-python",
   "name": "python",
   "nbconvert_exporter": "python",
   "pygments_lexer": "ipython3",
   "version": "3.10.9"
  }
 },
 "nbformat": 4,
 "nbformat_minor": 5
}
