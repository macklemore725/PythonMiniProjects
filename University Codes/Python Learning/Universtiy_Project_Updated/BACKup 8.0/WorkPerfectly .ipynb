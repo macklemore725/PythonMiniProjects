{
 "cells": [
  {
   "cell_type": "code",
   "execution_count": 21,
   "metadata": {
    "extensions": {
     "jupyter_dashboards": {
      "version": 1,
      "views": {
       "grid_default": {
        "col": 0,
        "height": 4,
        "hidden": true,
        "row": 0,
        "width": 2
       },
       "report_default": {
        "hidden": false
       }
      }
     }
    }
   },
   "outputs": [
    {
     "data": {
      "text/html": [
       "<script>\n",
       "code_show=true; \n",
       "function code_toggle() {\n",
       " if (code_show){\n",
       " $('div.input').hide();\n",
       " } else {\n",
       " $('div.input').show();\n",
       " }\n",
       " code_show = !code_show\n",
       "} \n",
       "$( document ).ready(code_toggle);\n",
       "</script>\n",
       "<form action=\"javascript:code_toggle()\"><input type=\"submit\" value=\"on/off\"></form>"
      ],
      "text/plain": [
       "<IPython.core.display.HTML object>"
      ]
     },
     "execution_count": 21,
     "metadata": {},
     "output_type": "execute_result"
    }
   ],
   "source": [
    "from IPython.display import HTML\n",
    "\n",
    "HTML('''<script>\n",
    "code_show=true; \n",
    "function code_toggle() {\n",
    " if (code_show){\n",
    " $('div.input').hide();\n",
    " } else {\n",
    " $('div.input').show();\n",
    " }\n",
    " code_show = !code_show\n",
    "} \n",
    "$( document ).ready(code_toggle);\n",
    "</script>\n",
    "<form action=\"javascript:code_toggle()\"><input type=\"submit\" value=\"on/off\"></form>''')\n",
    "\n"
   ]
  },
  {
   "cell_type": "code",
   "execution_count": 4,
   "metadata": {
    "extensions": {
     "jupyter_dashboards": {
      "version": 1,
      "views": {
       "grid_default": {
        "col": 8,
        "height": 4,
        "hidden": false,
        "row": 161,
        "width": 4
       },
       "report_default": {
        "hidden": false
       }
      }
     }
    }
   },
   "outputs": [
    {
     "name": "stderr",
     "output_type": "stream",
     "text": [
      "C:\\Users\\Barney\\AppData\\Local\\Temp\\ipykernel_360\\3727446184.py:1: DeprecationWarning: Importing display from IPython.core.display is deprecated since IPython 7.14, please import from IPython display\n",
      "  from IPython.core.display import display, HTML\n"
     ]
    },
    {
     "data": {
      "text/html": [
       "<style>.container { width:75% !important; }</style>"
      ],
      "text/plain": [
       "<IPython.core.display.HTML object>"
      ]
     },
     "metadata": {},
     "output_type": "display_data"
    }
   ],
   "source": [
    "from IPython.core.display import display, HTML\n",
    "display(HTML(\"<style>.container { width:75% !important; }</style>\"))\n",
    "# from IPython.core.display import display, HTML\n",
    "# display(HTML(\"<style>.container { width:100% !important; }</style>\"))\n",
    "\n",
    "# #Change size codes\n",
    "# #Change size codes"
   ]
  },
  {
   "cell_type": "code",
   "execution_count": 5,
   "metadata": {
    "extensions": {
     "jupyter_dashboards": {
      "version": 1,
      "views": {
       "grid_default": {
        "hidden": true
       },
       "report_default": {
        "hidden": true
       }
      }
     }
    }
   },
   "outputs": [],
   "source": [
    "# from IPython.core.display import display, HTML\n",
    "# display(HTML(\"<style>.container { width:45% !important; }</style>\"))"
   ]
  },
  {
   "cell_type": "markdown",
   "metadata": {
    "extensions": {
     "jupyter_dashboards": {
      "version": 1,
      "views": {
       "grid_default": {
        "col": 0,
        "height": 4,
        "hidden": true,
        "row": 0,
        "width": 4
       },
       "report_default": {
        "hidden": false
       }
      }
     }
    }
   },
   "source": [
    "<a name=\"TableOfContent\"></a>\n",
    "<h1 style=\"text-align:center;font-family:verdana;\"> Basketball Data Visualisation</h1>"
   ]
  },
  {
   "cell_type": "code",
   "execution_count": 6,
   "metadata": {
    "extensions": {
     "jupyter_dashboards": {
      "version": 1,
      "views": {
       "grid_default": {
        "col": 8,
        "height": 4,
        "hidden": false,
        "row": 0,
        "width": 4
       },
       "report_default": {
        "hidden": false
       }
      }
     }
    }
   },
   "outputs": [
    {
     "data": {
      "text/html": [
       "<div class=\"bk-root\">\n",
       "        <a href=\"https://bokeh.org\" target=\"_blank\" class=\"bk-logo bk-logo-small bk-logo-notebook\"></a>\n",
       "        <span id=\"1002\">Loading BokehJS ...</span>\n",
       "    </div>\n"
      ]
     },
     "metadata": {},
     "output_type": "display_data"
    },
    {
     "data": {
      "application/javascript": [
       "(function(root) {\n",
       "  function now() {\n",
       "    return new Date();\n",
       "  }\n",
       "\n",
       "  const force = true;\n",
       "\n",
       "  if (typeof root._bokeh_onload_callbacks === \"undefined\" || force === true) {\n",
       "    root._bokeh_onload_callbacks = [];\n",
       "    root._bokeh_is_loading = undefined;\n",
       "  }\n",
       "\n",
       "const JS_MIME_TYPE = 'application/javascript';\n",
       "  const HTML_MIME_TYPE = 'text/html';\n",
       "  const EXEC_MIME_TYPE = 'application/vnd.bokehjs_exec.v0+json';\n",
       "  const CLASS_NAME = 'output_bokeh rendered_html';\n",
       "\n",
       "  /**\n",
       "   * Render data to the DOM node\n",
       "   */\n",
       "  function render(props, node) {\n",
       "    const script = document.createElement(\"script\");\n",
       "    node.appendChild(script);\n",
       "  }\n",
       "\n",
       "  /**\n",
       "   * Handle when an output is cleared or removed\n",
       "   */\n",
       "  function handleClearOutput(event, handle) {\n",
       "    const cell = handle.cell;\n",
       "\n",
       "    const id = cell.output_area._bokeh_element_id;\n",
       "    const server_id = cell.output_area._bokeh_server_id;\n",
       "    // Clean up Bokeh references\n",
       "    if (id != null && id in Bokeh.index) {\n",
       "      Bokeh.index[id].model.document.clear();\n",
       "      delete Bokeh.index[id];\n",
       "    }\n",
       "\n",
       "    if (server_id !== undefined) {\n",
       "      // Clean up Bokeh references\n",
       "      const cmd_clean = \"from bokeh.io.state import curstate; print(curstate().uuid_to_server['\" + server_id + \"'].get_sessions()[0].document.roots[0]._id)\";\n",
       "      cell.notebook.kernel.execute(cmd_clean, {\n",
       "        iopub: {\n",
       "          output: function(msg) {\n",
       "            const id = msg.content.text.trim();\n",
       "            if (id in Bokeh.index) {\n",
       "              Bokeh.index[id].model.document.clear();\n",
       "              delete Bokeh.index[id];\n",
       "            }\n",
       "          }\n",
       "        }\n",
       "      });\n",
       "      // Destroy server and session\n",
       "      const cmd_destroy = \"import bokeh.io.notebook as ion; ion.destroy_server('\" + server_id + \"')\";\n",
       "      cell.notebook.kernel.execute(cmd_destroy);\n",
       "    }\n",
       "  }\n",
       "\n",
       "  /**\n",
       "   * Handle when a new output is added\n",
       "   */\n",
       "  function handleAddOutput(event, handle) {\n",
       "    const output_area = handle.output_area;\n",
       "    const output = handle.output;\n",
       "\n",
       "    // limit handleAddOutput to display_data with EXEC_MIME_TYPE content only\n",
       "    if ((output.output_type != \"display_data\") || (!Object.prototype.hasOwnProperty.call(output.data, EXEC_MIME_TYPE))) {\n",
       "      return\n",
       "    }\n",
       "\n",
       "    const toinsert = output_area.element.find(\".\" + CLASS_NAME.split(' ')[0]);\n",
       "\n",
       "    if (output.metadata[EXEC_MIME_TYPE][\"id\"] !== undefined) {\n",
       "      toinsert[toinsert.length - 1].firstChild.textContent = output.data[JS_MIME_TYPE];\n",
       "      // store reference to embed id on output_area\n",
       "      output_area._bokeh_element_id = output.metadata[EXEC_MIME_TYPE][\"id\"];\n",
       "    }\n",
       "    if (output.metadata[EXEC_MIME_TYPE][\"server_id\"] !== undefined) {\n",
       "      const bk_div = document.createElement(\"div\");\n",
       "      bk_div.innerHTML = output.data[HTML_MIME_TYPE];\n",
       "      const script_attrs = bk_div.children[0].attributes;\n",
       "      for (let i = 0; i < script_attrs.length; i++) {\n",
       "        toinsert[toinsert.length - 1].firstChild.setAttribute(script_attrs[i].name, script_attrs[i].value);\n",
       "        toinsert[toinsert.length - 1].firstChild.textContent = bk_div.children[0].textContent\n",
       "      }\n",
       "      // store reference to server id on output_area\n",
       "      output_area._bokeh_server_id = output.metadata[EXEC_MIME_TYPE][\"server_id\"];\n",
       "    }\n",
       "  }\n",
       "\n",
       "  function register_renderer(events, OutputArea) {\n",
       "\n",
       "    function append_mime(data, metadata, element) {\n",
       "      // create a DOM node to render to\n",
       "      const toinsert = this.create_output_subarea(\n",
       "        metadata,\n",
       "        CLASS_NAME,\n",
       "        EXEC_MIME_TYPE\n",
       "      );\n",
       "      this.keyboard_manager.register_events(toinsert);\n",
       "      // Render to node\n",
       "      const props = {data: data, metadata: metadata[EXEC_MIME_TYPE]};\n",
       "      render(props, toinsert[toinsert.length - 1]);\n",
       "      element.append(toinsert);\n",
       "      return toinsert\n",
       "    }\n",
       "\n",
       "    /* Handle when an output is cleared or removed */\n",
       "    events.on('clear_output.CodeCell', handleClearOutput);\n",
       "    events.on('delete.Cell', handleClearOutput);\n",
       "\n",
       "    /* Handle when a new output is added */\n",
       "    events.on('output_added.OutputArea', handleAddOutput);\n",
       "\n",
       "    /**\n",
       "     * Register the mime type and append_mime function with output_area\n",
       "     */\n",
       "    OutputArea.prototype.register_mime_type(EXEC_MIME_TYPE, append_mime, {\n",
       "      /* Is output safe? */\n",
       "      safe: true,\n",
       "      /* Index of renderer in `output_area.display_order` */\n",
       "      index: 0\n",
       "    });\n",
       "  }\n",
       "\n",
       "  // register the mime type if in Jupyter Notebook environment and previously unregistered\n",
       "  if (root.Jupyter !== undefined) {\n",
       "    const events = require('base/js/events');\n",
       "    const OutputArea = require('notebook/js/outputarea').OutputArea;\n",
       "\n",
       "    if (OutputArea.prototype.mime_types().indexOf(EXEC_MIME_TYPE) == -1) {\n",
       "      register_renderer(events, OutputArea);\n",
       "    }\n",
       "  }\n",
       "  if (typeof (root._bokeh_timeout) === \"undefined\" || force === true) {\n",
       "    root._bokeh_timeout = Date.now() + 5000;\n",
       "    root._bokeh_failed_load = false;\n",
       "  }\n",
       "\n",
       "  const NB_LOAD_WARNING = {'data': {'text/html':\n",
       "     \"<div style='background-color: #fdd'>\\n\"+\n",
       "     \"<p>\\n\"+\n",
       "     \"BokehJS does not appear to have successfully loaded. If loading BokehJS from CDN, this \\n\"+\n",
       "     \"may be due to a slow or bad network connection. Possible fixes:\\n\"+\n",
       "     \"</p>\\n\"+\n",
       "     \"<ul>\\n\"+\n",
       "     \"<li>re-rerun `output_notebook()` to attempt to load from CDN again, or</li>\\n\"+\n",
       "     \"<li>use INLINE resources instead, as so:</li>\\n\"+\n",
       "     \"</ul>\\n\"+\n",
       "     \"<code>\\n\"+\n",
       "     \"from bokeh.resources import INLINE\\n\"+\n",
       "     \"output_notebook(resources=INLINE)\\n\"+\n",
       "     \"</code>\\n\"+\n",
       "     \"</div>\"}};\n",
       "\n",
       "  function display_loaded() {\n",
       "    const el = document.getElementById(\"1002\");\n",
       "    if (el != null) {\n",
       "      el.textContent = \"BokehJS is loading...\";\n",
       "    }\n",
       "    if (root.Bokeh !== undefined) {\n",
       "      if (el != null) {\n",
       "        el.textContent = \"BokehJS \" + root.Bokeh.version + \" successfully loaded.\";\n",
       "      }\n",
       "    } else if (Date.now() < root._bokeh_timeout) {\n",
       "      setTimeout(display_loaded, 100)\n",
       "    }\n",
       "  }\n",
       "\n",
       "  function run_callbacks() {\n",
       "    try {\n",
       "      root._bokeh_onload_callbacks.forEach(function(callback) {\n",
       "        if (callback != null)\n",
       "          callback();\n",
       "      });\n",
       "    } finally {\n",
       "      delete root._bokeh_onload_callbacks\n",
       "    }\n",
       "    console.debug(\"Bokeh: all callbacks have finished\");\n",
       "  }\n",
       "\n",
       "  function load_libs(css_urls, js_urls, callback) {\n",
       "    if (css_urls == null) css_urls = [];\n",
       "    if (js_urls == null) js_urls = [];\n",
       "\n",
       "    root._bokeh_onload_callbacks.push(callback);\n",
       "    if (root._bokeh_is_loading > 0) {\n",
       "      console.debug(\"Bokeh: BokehJS is being loaded, scheduling callback at\", now());\n",
       "      return null;\n",
       "    }\n",
       "    if (js_urls == null || js_urls.length === 0) {\n",
       "      run_callbacks();\n",
       "      return null;\n",
       "    }\n",
       "    console.debug(\"Bokeh: BokehJS not loaded, scheduling load and callback at\", now());\n",
       "    root._bokeh_is_loading = css_urls.length + js_urls.length;\n",
       "\n",
       "    function on_load() {\n",
       "      root._bokeh_is_loading--;\n",
       "      if (root._bokeh_is_loading === 0) {\n",
       "        console.debug(\"Bokeh: all BokehJS libraries/stylesheets loaded\");\n",
       "        run_callbacks()\n",
       "      }\n",
       "    }\n",
       "\n",
       "    function on_error(url) {\n",
       "      console.error(\"failed to load \" + url);\n",
       "    }\n",
       "\n",
       "    for (let i = 0; i < css_urls.length; i++) {\n",
       "      const url = css_urls[i];\n",
       "      const element = document.createElement(\"link\");\n",
       "      element.onload = on_load;\n",
       "      element.onerror = on_error.bind(null, url);\n",
       "      element.rel = \"stylesheet\";\n",
       "      element.type = \"text/css\";\n",
       "      element.href = url;\n",
       "      console.debug(\"Bokeh: injecting link tag for BokehJS stylesheet: \", url);\n",
       "      document.body.appendChild(element);\n",
       "    }\n",
       "\n",
       "    for (let i = 0; i < js_urls.length; i++) {\n",
       "      const url = js_urls[i];\n",
       "      const element = document.createElement('script');\n",
       "      element.onload = on_load;\n",
       "      element.onerror = on_error.bind(null, url);\n",
       "      element.async = false;\n",
       "      element.src = url;\n",
       "      console.debug(\"Bokeh: injecting script tag for BokehJS library: \", url);\n",
       "      document.head.appendChild(element);\n",
       "    }\n",
       "  };\n",
       "\n",
       "  function inject_raw_css(css) {\n",
       "    const element = document.createElement(\"style\");\n",
       "    element.appendChild(document.createTextNode(css));\n",
       "    document.body.appendChild(element);\n",
       "  }\n",
       "\n",
       "  const js_urls = [\"https://cdn.bokeh.org/bokeh/release/bokeh-2.4.3.min.js\", \"https://cdn.bokeh.org/bokeh/release/bokeh-gl-2.4.3.min.js\", \"https://cdn.bokeh.org/bokeh/release/bokeh-widgets-2.4.3.min.js\", \"https://cdn.bokeh.org/bokeh/release/bokeh-tables-2.4.3.min.js\", \"https://cdn.bokeh.org/bokeh/release/bokeh-mathjax-2.4.3.min.js\"];\n",
       "  const css_urls = [];\n",
       "\n",
       "  const inline_js = [    function(Bokeh) {\n",
       "      Bokeh.set_log_level(\"info\");\n",
       "    },\n",
       "function(Bokeh) {\n",
       "    }\n",
       "  ];\n",
       "\n",
       "  function run_inline_js() {\n",
       "    if (root.Bokeh !== undefined || force === true) {\n",
       "          for (let i = 0; i < inline_js.length; i++) {\n",
       "      inline_js[i].call(root, root.Bokeh);\n",
       "    }\n",
       "if (force === true) {\n",
       "        display_loaded();\n",
       "      }} else if (Date.now() < root._bokeh_timeout) {\n",
       "      setTimeout(run_inline_js, 100);\n",
       "    } else if (!root._bokeh_failed_load) {\n",
       "      console.log(\"Bokeh: BokehJS failed to load within specified timeout.\");\n",
       "      root._bokeh_failed_load = true;\n",
       "    } else if (force !== true) {\n",
       "      const cell = $(document.getElementById(\"1002\")).parents('.cell').data().cell;\n",
       "      cell.output_area.append_execute_result(NB_LOAD_WARNING)\n",
       "    }\n",
       "  }\n",
       "\n",
       "  if (root._bokeh_is_loading === 0) {\n",
       "    console.debug(\"Bokeh: BokehJS loaded, going straight to plotting\");\n",
       "    run_inline_js();\n",
       "  } else {\n",
       "    load_libs(css_urls, js_urls, function() {\n",
       "      console.debug(\"Bokeh: BokehJS plotting callback run at\", now());\n",
       "      run_inline_js();\n",
       "    });\n",
       "  }\n",
       "}(window));"
      ],
      "application/vnd.bokehjs_load.v0+json": "(function(root) {\n  function now() {\n    return new Date();\n  }\n\n  const force = true;\n\n  if (typeof root._bokeh_onload_callbacks === \"undefined\" || force === true) {\n    root._bokeh_onload_callbacks = [];\n    root._bokeh_is_loading = undefined;\n  }\n\n\n  if (typeof (root._bokeh_timeout) === \"undefined\" || force === true) {\n    root._bokeh_timeout = Date.now() + 5000;\n    root._bokeh_failed_load = false;\n  }\n\n  const NB_LOAD_WARNING = {'data': {'text/html':\n     \"<div style='background-color: #fdd'>\\n\"+\n     \"<p>\\n\"+\n     \"BokehJS does not appear to have successfully loaded. If loading BokehJS from CDN, this \\n\"+\n     \"may be due to a slow or bad network connection. Possible fixes:\\n\"+\n     \"</p>\\n\"+\n     \"<ul>\\n\"+\n     \"<li>re-rerun `output_notebook()` to attempt to load from CDN again, or</li>\\n\"+\n     \"<li>use INLINE resources instead, as so:</li>\\n\"+\n     \"</ul>\\n\"+\n     \"<code>\\n\"+\n     \"from bokeh.resources import INLINE\\n\"+\n     \"output_notebook(resources=INLINE)\\n\"+\n     \"</code>\\n\"+\n     \"</div>\"}};\n\n  function display_loaded() {\n    const el = document.getElementById(\"1002\");\n    if (el != null) {\n      el.textContent = \"BokehJS is loading...\";\n    }\n    if (root.Bokeh !== undefined) {\n      if (el != null) {\n        el.textContent = \"BokehJS \" + root.Bokeh.version + \" successfully loaded.\";\n      }\n    } else if (Date.now() < root._bokeh_timeout) {\n      setTimeout(display_loaded, 100)\n    }\n  }\n\n  function run_callbacks() {\n    try {\n      root._bokeh_onload_callbacks.forEach(function(callback) {\n        if (callback != null)\n          callback();\n      });\n    } finally {\n      delete root._bokeh_onload_callbacks\n    }\n    console.debug(\"Bokeh: all callbacks have finished\");\n  }\n\n  function load_libs(css_urls, js_urls, callback) {\n    if (css_urls == null) css_urls = [];\n    if (js_urls == null) js_urls = [];\n\n    root._bokeh_onload_callbacks.push(callback);\n    if (root._bokeh_is_loading > 0) {\n      console.debug(\"Bokeh: BokehJS is being loaded, scheduling callback at\", now());\n      return null;\n    }\n    if (js_urls == null || js_urls.length === 0) {\n      run_callbacks();\n      return null;\n    }\n    console.debug(\"Bokeh: BokehJS not loaded, scheduling load and callback at\", now());\n    root._bokeh_is_loading = css_urls.length + js_urls.length;\n\n    function on_load() {\n      root._bokeh_is_loading--;\n      if (root._bokeh_is_loading === 0) {\n        console.debug(\"Bokeh: all BokehJS libraries/stylesheets loaded\");\n        run_callbacks()\n      }\n    }\n\n    function on_error(url) {\n      console.error(\"failed to load \" + url);\n    }\n\n    for (let i = 0; i < css_urls.length; i++) {\n      const url = css_urls[i];\n      const element = document.createElement(\"link\");\n      element.onload = on_load;\n      element.onerror = on_error.bind(null, url);\n      element.rel = \"stylesheet\";\n      element.type = \"text/css\";\n      element.href = url;\n      console.debug(\"Bokeh: injecting link tag for BokehJS stylesheet: \", url);\n      document.body.appendChild(element);\n    }\n\n    for (let i = 0; i < js_urls.length; i++) {\n      const url = js_urls[i];\n      const element = document.createElement('script');\n      element.onload = on_load;\n      element.onerror = on_error.bind(null, url);\n      element.async = false;\n      element.src = url;\n      console.debug(\"Bokeh: injecting script tag for BokehJS library: \", url);\n      document.head.appendChild(element);\n    }\n  };\n\n  function inject_raw_css(css) {\n    const element = document.createElement(\"style\");\n    element.appendChild(document.createTextNode(css));\n    document.body.appendChild(element);\n  }\n\n  const js_urls = [\"https://cdn.bokeh.org/bokeh/release/bokeh-2.4.3.min.js\", \"https://cdn.bokeh.org/bokeh/release/bokeh-gl-2.4.3.min.js\", \"https://cdn.bokeh.org/bokeh/release/bokeh-widgets-2.4.3.min.js\", \"https://cdn.bokeh.org/bokeh/release/bokeh-tables-2.4.3.min.js\", \"https://cdn.bokeh.org/bokeh/release/bokeh-mathjax-2.4.3.min.js\"];\n  const css_urls = [];\n\n  const inline_js = [    function(Bokeh) {\n      Bokeh.set_log_level(\"info\");\n    },\nfunction(Bokeh) {\n    }\n  ];\n\n  function run_inline_js() {\n    if (root.Bokeh !== undefined || force === true) {\n          for (let i = 0; i < inline_js.length; i++) {\n      inline_js[i].call(root, root.Bokeh);\n    }\nif (force === true) {\n        display_loaded();\n      }} else if (Date.now() < root._bokeh_timeout) {\n      setTimeout(run_inline_js, 100);\n    } else if (!root._bokeh_failed_load) {\n      console.log(\"Bokeh: BokehJS failed to load within specified timeout.\");\n      root._bokeh_failed_load = true;\n    } else if (force !== true) {\n      const cell = $(document.getElementById(\"1002\")).parents('.cell').data().cell;\n      cell.output_area.append_execute_result(NB_LOAD_WARNING)\n    }\n  }\n\n  if (root._bokeh_is_loading === 0) {\n    console.debug(\"Bokeh: BokehJS loaded, going straight to plotting\");\n    run_inline_js();\n  } else {\n    load_libs(css_urls, js_urls, function() {\n      console.debug(\"Bokeh: BokehJS plotting callback run at\", now());\n      run_inline_js();\n    });\n  }\n}(window));"
     },
     "metadata": {},
     "output_type": "display_data"
    }
   ],
   "source": [
    "import pandas as pd\n",
    "from bokeh.io import output_notebook \n",
    "output_notebook()"
   ]
  },
  {
   "cell_type": "markdown",
   "metadata": {
    "extensions": {
     "jupyter_dashboards": {
      "version": 1,
      "views": {
       "grid_default": {
        "col": 0,
        "height": 21,
        "hidden": false,
        "row": 421,
        "width": 12
       },
       "report_default": {
        "hidden": false
       }
      }
     }
    }
   },
   "source": [
    "\n",
    "# Table of contents  \n",
    "##  [Motivation/Aims](#motivation)\n",
    "##  [Information about Basketball](#BasicBasketball)\n",
    "## [Aim 1](#Aim1)\n",
    "   ### - [Three Points Stats per Season](#ThreePointAim)\n",
    "   ### - [Three Points Stats per Season of Players Total](#ThreePointPlayer)\n",
    "   ### - [Three Points Stats per Season by each Positions Total](#ThreePointPosition)\n",
    "   ### - [Three Points Stats 3PA / FGA (3PAR)](#ThreePointRatio) \n",
    "## [Aim 2](#Aim2)\n",
    "   ### - [Players Weight Vs Height ](#weightvsheight)\n",
    "   ### - [2 Points Attempts Verses 3 Point Attempts](#2v3)\n",
    "## [Aim 3](#Aim3)\n",
    "   ### - [Players Comparison Stats Investigation](#ComparingPlayersStats)\n",
    "   \n"
   ]
  },
  {
   "cell_type": "markdown",
   "metadata": {
    "extensions": {
     "jupyter_dashboards": {
      "version": 1,
      "views": {
       "grid_default": {
        "col": 0,
        "height": 4,
        "hidden": false,
        "row": 0,
        "width": 4
       },
       "report_default": {
        "hidden": false
       }
      }
     }
    }
   },
   "source": [
    "<hr style=\"height:1px;border:none;color:#333;background-color:#333;\" />"
   ]
  },
  {
   "cell_type": "markdown",
   "metadata": {
    "extensions": {
     "jupyter_dashboards": {
      "version": 1,
      "views": {
       "grid_default": {
        "col": 0,
        "height": 14,
        "hidden": true,
        "row": 0,
        "width": 12
       },
       "report_default": {
        "hidden": false
       }
      }
     }
    }
   },
   "source": [
    " <a name=\"motivation\"></a>\n",
    "# Motivation \n",
    "\n",
    "### During the Duration of 1942-2018   the basketball game has changed from player getting bigger,faster,shooting better. My goal is  to display these evidence through  data visualisation.\n",
    "\n",
    "\n",
    "### Explain how it used in the modern day : \n",
    "- Gives team analytics for them to analysis and help them gain an advantage over teams.\n",
    "- Moneyball comes from stats anaylsis. Which is for a team to sell overvalued players to other teams and buy undervalued players from teams to stay compete. \n",
    "\n",
    "\n",
    "# Aims \n",
    "    1.Show evidence of Evolution of the three points from 1980 to 2018 \n",
    "    2.Show evidence of an more all-around play style in basketball\n",
    "    3.Investigate statistics that  makes a player great and evidence on why they are great in their own duration.\n",
    "    4.Show evidence of why Warriors (current NBA champion team)is the best current/historic team ?  \n"
   ]
  },
  {
   "cell_type": "markdown",
   "metadata": {
    "extensions": {
     "jupyter_dashboards": {
      "version": 1,
      "views": {
       "grid_default": {
        "col": 4,
        "height": 4,
        "hidden": false,
        "row": 0,
        "width": 4
       },
       "report_default": {
        "hidden": false
       }
      }
     }
    }
   },
   "source": [
    "<hr style=\"height:1px;border:none;color:#333;background-color:#333;\" />"
   ]
  },
  {
   "cell_type": "markdown",
   "metadata": {
    "extensions": {
     "jupyter_dashboards": {
      "version": 1,
      "views": {
       "grid_default": {
        "col": 0,
        "height": 18,
        "hidden": false,
        "row": 8,
        "width": 12
       },
       "report_default": {
        "hidden": false
       }
      }
     }
    }
   },
   "source": [
    "# Some Basic Information about Basketball <a name=\"BasicBasketball\"></a>\n",
    " \n",
    " - Basketball was first played in 1891 \n",
    " - Its primary objectives are having a team of 5 players to score in a hoop(18 inch or 46 cm), with a ball(9.4 inches or 24 cm).\n",
    " - The three pointer was impletemented during 1980 thats when to famous player called Magic Johnson and Larry Bird Had join the league of the NBA. \n",
    "     \n",
    "### Positions of the for each player is \n",
    "- Point Guard called a  1\n",
    "- Shooting Guard called a 2 \n",
    "- Small Forward called a 3 \n",
    "- Power Forward called a 4 \n",
    "- Center called a 5 \n",
    "         \n",
    "### Court Size  (NBA)\n",
    " - Court length - 94ft or 28.65m(NBA)\n",
    " - Court Width  - 50ft or 15.24m(NBA)\n",
    " \n",
    "### Three Point Distance  (NBA)\n",
    " - Three Pointer  23.75ft or 7.24m (NBA)\n",
    " - Corner Pointer 22ft or 6.70m(NBA)\n",
    " \n",
    "(Three Pointers only count when the person shoots behind it if your foot is on the line it counts as a two point) "
   ]
  },
  {
   "cell_type": "markdown",
   "metadata": {
    "extensions": {
     "jupyter_dashboards": {
      "version": 1,
      "views": {
       "grid_default": {
        "col": 0,
        "height": 19,
        "hidden": false,
        "row": 26,
        "width": 12
       },
       "report_default": {
        "hidden": false
       }
      }
     }
    }
   },
   "source": [
    "![Image of Yaktocat](https://upload.wikimedia.org/wikipedia/commons/a/ac/Basketball_Positions.png)"
   ]
  },
  {
   "cell_type": "markdown",
   "metadata": {
    "extensions": {
     "jupyter_dashboards": {
      "version": 1,
      "views": {
       "grid_default": {
        "col": 0,
        "height": 22,
        "hidden": false,
        "row": 45,
        "width": 12
       },
       "report_default": {
        "hidden": false
       }
      }
     }
    }
   },
   "source": [
    "# NBA Questions to Create Data Visuals.  \n",
    "   \n",
    "### 3 Point Question \n",
    "   - How important is the three pointer now ? \n",
    "   - How the evolution/importance of 3 pointer changed from the first years in the nba ? \n",
    "   - How has the nba 3 point changed over years since 1980? \n",
    "   - Which year did the Nba THree pointer start to bloom and showed a big role ?\n",
    "   - 3PA Ratio Comparing to Field Goal Attempts. ( 3PA / FGA ) \n",
    "\n",
    "### NBA player being more equal and displaying more all-around play style in basketball ?\n",
    "   - Are we moving towards positionless basketball ? ( more around players)\n",
    "   - Show how players has gotten bigger. \n",
    "   - Show how 2 and 3 and more equal than ever assuming that all players are expected to do everything\n",
    "   - 3PA Ratio Comparing to Field Goal Attempts. ( 3PA / FGA ) \n",
    "    \n",
    "### How is it defined to be a great Player ? \n",
    "   - what do they do in common ? \n",
    "   - What do they do differently ? \n",
    "   - What do they do best comparing to them all ? \n",
    "   - Compare their averages per game and totals in their in their career. \n",
    "     \n",
    "### How is the warriors the best team ? \n",
    "   - what do they do in common ? \n",
    "   - What do they do differently ?\n",
    "   - What do they do best comparing to them all ? \n"
   ]
  },
  {
   "cell_type": "markdown",
   "metadata": {
    "extensions": {
     "jupyter_dashboards": {
      "version": 1,
      "views": {
       "grid_default": {
        "col": 0,
        "height": 8,
        "hidden": false,
        "row": 67,
        "width": 12
       },
       "report_default": {
        "hidden": false
       }
      }
     }
    }
   },
   "source": [
    "# Graphs that might be neeeded to show for aim 1\n",
    "\n",
    "- Over years difference the seasons average  comparing it till the the 3 pointer was introduced to the nba. \n",
    "- Compare the attempts of three pointers comparing the previous years as season. \n",
    "- Compare the attempts of three pointers made as a season. \n",
    "- Compare the attempts of total of three points made and attempted every season.\n",
    "- Compare the attempts of fields goals that are being shot comparing to before. \n",
    "- Compare all the players every season from now to since and see the difference in the three pointers. \n",
    "- Compare the 3par where you can c the difference between the 3 points and the others. \n"
   ]
  },
  {
   "cell_type": "markdown",
   "metadata": {
    "extensions": {
     "jupyter_dashboards": {
      "version": 1,
      "views": {
       "grid_default": {
        "col": 0,
        "height": 8,
        "hidden": false,
        "row": 75,
        "width": 12
       },
       "report_default": {
        "hidden": false
       }
      }
     }
    }
   },
   "source": [
    "### Think of reasons why the 3 pointers are being more important than it used to be. \n",
    "\n",
    "- 3 is always bigger than 2 (3>2)\n",
    "- Times has changed the players are more skilled than they were use to \n",
    "- Points come in more efficent \n",
    "- Houston ROckets Daryl Morey/Mike D'Antoni System got Houston Rockets to WCF. 7 Games with the Warriors.\n",
    "- Proper Centers are gone.  \n",
    "- The league is now going forward the stage where their is now postionless roles and are expected to be able to shoot from everyone"
   ]
  },
  {
   "cell_type": "markdown",
   "metadata": {
    "extensions": {
     "jupyter_dashboards": {
      "version": 1,
      "views": {
       "grid_default": {
        "col": 0,
        "height": 7,
        "hidden": false,
        "row": 83,
        "width": 12
       },
       "report_default": {
        "hidden": false
       }
      }
     }
    }
   },
   "source": [
    "\n",
    "# Incidents that has happened or Major Rules changes that occured that enables Smaller Players\n",
    "\n",
    "- 2003-2004 season hand checking was banned from the nba. \n",
    "    - hand checking is when you put \"Hand Checking: A defender may not place and keep his hand on an opponent unless he is in the area near the basket with his back to the basket. A defender may momentarily touch an opponent with his hand anywhere on the court as long as it does not affect the opponent's movement\"\n"
   ]
  },
  {
   "cell_type": "markdown",
   "metadata": {
    "extensions": {
     "jupyter_dashboards": {
      "version": 1,
      "views": {
       "grid_default": {
        "col": 8,
        "height": 4,
        "hidden": false,
        "row": 4,
        "width": 4
       },
       "report_default": {
        "hidden": false
       }
      }
     }
    }
   },
   "source": [
    "<hr style=\"height:1px;border:none;color:#333;background-color:#333;\" />"
   ]
  },
  {
   "cell_type": "markdown",
   "metadata": {
    "extensions": {
     "jupyter_dashboards": {
      "version": 1,
      "views": {
       "grid_default": {
        "col": 0,
        "height": 4,
        "hidden": false,
        "row": 442,
        "width": 12
       },
       "report_default": {
        "hidden": false
       }
      }
     }
    }
   },
   "source": [
    "<a name=\"Aim1\"></a>\n",
    "\n",
    "# Aim 1: Show evidence of Evolution of the three points from 1980 to 2018 "
   ]
  },
  {
   "cell_type": "markdown",
   "metadata": {
    "extensions": {
     "jupyter_dashboards": {
      "version": 1,
      "views": {
       "grid_default": {
        "col": 0,
        "height": 13,
        "hidden": false,
        "row": 90,
        "width": 12
       },
       "report_default": {
        "hidden": false
       }
      }
     }
    }
   },
   "source": [
    "# Three Points Stats per Season   <a name=\"ThreePointAim\"></a>\n",
    "This Graphs shows that that nba increasing shot more and attempted more shots. I am gonna assume that this number would increase more as times go. Only if their was a sudden change of rules and court in the nba. \n",
    "\n",
    "Take account there are some years that are lockseason where players and owners cant come in an agreement on the money that they make and their season are shorter. \n",
    "\n",
    "- nba season 2011-2012 and 1998-1999 is having a lockouts so they might are outliers to the graph due to lack of games being cut in half. \n",
    "- 1994-95 season through the 1996-97 season. Three Point line was 22 feet all around not just the corners.\n",
    "- https://americansportshistory.com/2014/02/13/the-history-of-the-three-point-line-in-the-nba/\n",
    "# Explanation of the Visual Data.\n",
    "- x axis is 3P made per game average \n",
    "- y axis is 3P attempt per team average \n",
    "- Circle size = League Average of the amount of three made by teams.\n",
    "\n",
    "# Results \n",
    "Shows the INcrease of three pointers from each span. \n",
    "Line Graph indicates the increase. \n",
    "\n",
    "\n"
   ]
  },
  {
   "cell_type": "markdown",
   "metadata": {
    "extensions": {
     "jupyter_dashboards": {
      "version": 1,
      "views": {
       "grid_default": {
        "col": 0,
        "height": 4,
        "hidden": false,
        "row": 4,
        "width": 4
       },
       "report_default": {
        "hidden": false
       }
      }
     }
    }
   },
   "source": [
    "**Click Run Cell Below.(Refresh)*** if no reactions "
   ]
  },
  {
   "cell_type": "code",
   "execution_count": 28,
   "metadata": {
    "extensions": {
     "jupyter_dashboards": {
      "version": 1,
      "views": {
       "grid_default": {
        "col": 4,
        "height": 4,
        "hidden": false,
        "row": 4,
        "width": 4
       },
       "report_default": {
        "hidden": false
       }
      }
     }
    }
   },
   "outputs": [
    {
     "data": {
      "application/vnd.jupyter.widget-view+json": {
       "model_id": "f8c7112990b4467ca8e83ab63fb0a3dc",
       "version_major": 2,
       "version_minor": 0
      },
      "text/plain": [
       "Button(description='Run Cell Below', style=ButtonStyle())"
      ]
     },
     "metadata": {},
     "output_type": "display_data"
    }
   ],
   "source": [
    "from IPython.display import Javascript, display\n",
    "from ipywidgets import widgets\n",
    "\n",
    "\n",
    "def run_all(ev):\n",
    "    display(Javascript('IPython.notebook.execute_cell_range(IPython.notebook.get_selected_index()+1, IPython.notebook.get_selected_index()+2)'))\n",
    "\n",
    "button = widgets.Button(description=\"Run Cell Below\")\n",
    "button.on_click(run_all)\n",
    "display(button)"
   ]
  },
  {
   "cell_type": "code",
   "execution_count": 29,
   "metadata": {
    "extensions": {
     "jupyter_dashboards": {
      "version": 1,
      "views": {
       "grid_default": {
        "col": 0,
        "height": 18,
        "hidden": false,
        "row": 103,
        "width": 8
       },
       "report_default": {
        "hidden": false
       }
      }
     }
    }
   },
   "outputs": [
    {
     "data": {
      "text/html": [
       "\n",
       "  <div class=\"bk-root\" id=\"40287665-8a7c-4ca4-8437-c193a750c208\" data-root-id=\"5790\"></div>\n"
      ]
     },
     "metadata": {},
     "output_type": "display_data"
    },
    {
     "data": {
      "application/javascript": [
       "(function(root) {\n",
       "  function embed_document(root) {\n",
       "  const docs_json = {\"66422e90-161e-4f91-886d-6ee2e69c52c2\":{\"defs\":[],\"roots\":{\"references\":[{\"attributes\":{\"children\":[{\"id\":\"5789\"},{\"id\":\"5703\"}]},\"id\":\"5790\",\"type\":\"Row\"},{\"attributes\":{\"coordinates\":null,\"fill_alpha\":0.5,\"fill_color\":\"lightgrey\",\"group\":null,\"level\":\"overlay\",\"line_alpha\":1.0,\"line_color\":\"black\",\"line_dash\":[4,4],\"line_width\":2,\"syncable\":false,\"xs_units\":\"screen\",\"ys_units\":\"screen\"},\"id\":\"5565\",\"type\":\"PolyAnnotation\"},{\"attributes\":{\"tools\":[{\"id\":\"5534\"},{\"id\":\"5722\"},{\"id\":\"5723\"},{\"id\":\"5724\"},{\"id\":\"5725\"},{\"id\":\"5726\"},{\"id\":\"5727\"},{\"id\":\"5728\"},{\"id\":\"5729\"}]},\"id\":\"5733\",\"type\":\"Toolbar\"},{\"attributes\":{\"axis\":{\"id\":\"5718\"},\"coordinates\":null,\"dimension\":1,\"group\":null,\"ticker\":null},\"id\":\"5721\",\"type\":\"Grid\"},{\"attributes\":{\"bottom_units\":\"screen\",\"coordinates\":null,\"fill_alpha\":0.5,\"fill_color\":\"lightgrey\",\"group\":null,\"left_units\":\"screen\",\"level\":\"overlay\",\"line_alpha\":1.0,\"line_color\":\"black\",\"line_dash\":[4,4],\"line_width\":2,\"right_units\":\"screen\",\"syncable\":false,\"top_units\":\"screen\"},\"id\":\"5644\",\"type\":\"BoxAnnotation\"},{\"attributes\":{\"line_alpha\":0.1,\"line_color\":\"#1f77b4\",\"line_width\":3,\"x\":{\"field\":\"Season\"},\"y\":{\"field\":\"threePA\"}},\"id\":\"5697\",\"type\":\"Line\"},{\"attributes\":{\"fill_alpha\":{\"value\":0.2},\"fill_color\":{\"field\":\"Times\",\"transform\":{\"id\":\"5530\"}},\"line_color\":{\"value\":null}},\"id\":\"5702\",\"type\":\"Circle\"},{\"attributes\":{\"children\":[{\"id\":\"5535\"},{\"id\":\"5617\"}]},\"id\":\"5789\",\"type\":\"Column\"},{\"attributes\":{\"line_alpha\":0.2,\"line_color\":\"#1f77b4\",\"line_width\":3,\"x\":{\"field\":\"Season\"},\"y\":{\"field\":\"threePA\"}},\"id\":\"5698\",\"type\":\"Line\"},{\"attributes\":{\"source\":{\"id\":\"5529\"}},\"id\":\"5700\",\"type\":\"CDSView\"},{\"attributes\":{\"coordinates\":null,\"data_source\":{\"id\":\"5529\"},\"glyph\":{\"id\":\"5696\"},\"group\":null,\"hover_glyph\":null,\"muted_glyph\":{\"id\":\"5698\"},\"nonselection_glyph\":{\"id\":\"5697\"},\"view\":{\"id\":\"5700\"}},\"id\":\"5699\",\"type\":\"GlyphRenderer\"},{\"attributes\":{\"label\":{\"value\":\"Times\"},\"renderers\":[{\"id\":\"5747\"},{\"id\":\"5767\"}]},\"id\":\"5762\",\"type\":\"LegendItem\"},{\"attributes\":{\"coordinates\":null,\"group\":null,\"items\":[{\"id\":\"5596\"}]},\"id\":\"5595\",\"type\":\"Legend\"},{\"attributes\":{\"coordinates\":null,\"group\":null,\"text\":\"Three Point Make Per Season\"},\"id\":\"5704\",\"type\":\"Title\"},{\"attributes\":{\"line_alpha\":0.4,\"line_color\":\"#1f77b4\",\"line_width\":3,\"x\":{\"field\":\"Season\"},\"y\":{\"field\":\"threeP\"}},\"id\":\"5782\",\"type\":\"Line\"},{\"attributes\":{\"end\":20},\"id\":\"5708\",\"type\":\"Range1d\"},{\"attributes\":{\"source\":{\"id\":\"5529\"}},\"id\":\"5582\",\"type\":\"CDSView\"},{\"attributes\":{},\"id\":\"5715\",\"type\":\"BasicTicker\"},{\"attributes\":{\"bottom_units\":\"screen\",\"coordinates\":null,\"fill_alpha\":0.5,\"fill_color\":\"lightgrey\",\"group\":null,\"left_units\":\"screen\",\"level\":\"overlay\",\"line_alpha\":1.0,\"line_color\":\"black\",\"line_dash\":[4,4],\"line_width\":2,\"right_units\":\"screen\",\"syncable\":false,\"top_units\":\"screen\"},\"id\":\"5730\",\"type\":\"BoxAnnotation\"},{\"attributes\":{\"fill_alpha\":{\"value\":0.1},\"fill_color\":{\"field\":\"Times\",\"transform\":{\"id\":\"5530\"}},\"hatch_alpha\":{\"value\":0.1},\"hatch_color\":{\"field\":\"Times\",\"transform\":{\"id\":\"5530\"}},\"line_alpha\":{\"value\":0.1},\"line_color\":{\"field\":\"Times\",\"transform\":{\"id\":\"5530\"}},\"marker\":{\"value\":\"cross\"},\"size\":{\"field\":\"TotalThree\",\"transform\":{\"id\":\"5531\"}},\"x\":{\"field\":\"Season\"},\"y\":{\"field\":\"threeP\"}},\"id\":\"5765\",\"type\":\"Scatter\"},{\"attributes\":{\"fill_alpha\":{\"value\":0.2},\"fill_color\":{\"field\":\"Times\",\"transform\":{\"id\":\"5530\"}},\"hatch_alpha\":{\"value\":0.2},\"hatch_color\":{\"field\":\"Times\",\"transform\":{\"id\":\"5530\"}},\"line_alpha\":{\"value\":0.2},\"line_color\":{\"field\":\"Times\",\"transform\":{\"id\":\"5530\"}},\"marker\":{\"value\":\"cross\"},\"size\":{\"field\":\"TotalThree\",\"transform\":{\"id\":\"5531\"}},\"x\":{\"field\":\"Season\"},\"y\":{\"field\":\"threeP\"}},\"id\":\"5766\",\"type\":\"Scatter\"},{\"attributes\":{\"end\":2020,\"start\":1978},\"id\":\"5706\",\"type\":\"Range1d\"},{\"attributes\":{\"axis_label\":\"Year\",\"coordinates\":null,\"formatter\":{\"id\":\"5754\"},\"group\":null,\"major_label_policy\":{\"id\":\"5755\"},\"ticker\":{\"id\":\"5715\"}},\"id\":\"5714\",\"type\":\"LinearAxis\"},{\"attributes\":{\"coordinates\":null,\"data_source\":{\"id\":\"5529\"},\"glyph\":{\"id\":\"5764\"},\"group\":null,\"hover_glyph\":null,\"muted_glyph\":{\"id\":\"5766\"},\"nonselection_glyph\":{\"id\":\"5765\"},\"view\":{\"id\":\"5768\"}},\"id\":\"5767\",\"type\":\"GlyphRenderer\"},{\"attributes\":{},\"id\":\"5710\",\"type\":\"LinearScale\"},{\"attributes\":{\"source\":{\"id\":\"5529\"}},\"id\":\"5768\",\"type\":\"CDSView\"},{\"attributes\":{\"coordinates\":null,\"group\":null,\"text\":\"Three Points Attempts Per Season\"},\"id\":\"5618\",\"type\":\"Title\"},{\"attributes\":{},\"id\":\"5585\",\"type\":\"BasicTickFormatter\"},{\"attributes\":{},\"id\":\"5712\",\"type\":\"LinearScale\"},{\"attributes\":{\"axis\":{\"id\":\"5714\"},\"coordinates\":null,\"group\":null,\"ticker\":null},\"id\":\"5717\",\"type\":\"Grid\"},{\"attributes\":{\"line_alpha\":0.1,\"line_color\":\"#1f77b4\",\"line_width\":3,\"x\":{\"field\":\"Season\"},\"y\":{\"field\":\"threeP\"}},\"id\":\"5783\",\"type\":\"Line\"},{\"attributes\":{\"fill_alpha\":{\"value\":0.8},\"fill_color\":{\"value\":\"firebrick\"},\"line_color\":{\"value\":null}},\"id\":\"5701\",\"type\":\"Circle\"},{\"attributes\":{\"coordinates\":null,\"data_source\":{\"id\":\"5529\"},\"glyph\":{\"id\":\"5578\"},\"group\":null,\"hover_glyph\":null,\"muted_glyph\":{\"id\":\"5580\"},\"nonselection_glyph\":{\"id\":\"5616\"},\"selection_glyph\":{\"id\":\"5615\"},\"view\":{\"id\":\"5582\"}},\"id\":\"5581\",\"type\":\"GlyphRenderer\"},{\"attributes\":{\"fill_alpha\":{\"value\":0.4},\"fill_color\":{\"field\":\"Times\",\"transform\":{\"id\":\"5530\"}},\"hatch_alpha\":{\"value\":0.4},\"hatch_color\":{\"field\":\"Times\",\"transform\":{\"id\":\"5530\"}},\"line_alpha\":{\"value\":0.4},\"line_color\":{\"field\":\"Times\",\"transform\":{\"id\":\"5530\"}},\"size\":{\"field\":\"TotalThree\",\"transform\":{\"id\":\"5531\"}},\"x\":{\"field\":\"Season\"},\"y\":{\"field\":\"threeP\"}},\"id\":\"5744\",\"type\":\"Circle\"},{\"attributes\":{\"fill_alpha\":{\"value\":0.2},\"fill_color\":{\"field\":\"Times\",\"transform\":{\"id\":\"5530\"}},\"hatch_alpha\":{\"value\":0.2},\"hatch_color\":{\"field\":\"Times\",\"transform\":{\"id\":\"5530\"}},\"line_alpha\":{\"value\":0.2},\"line_color\":{\"field\":\"Times\",\"transform\":{\"id\":\"5530\"}},\"size\":{\"field\":\"TotalThree\",\"transform\":{\"id\":\"5531\"}},\"x\":{\"field\":\"threePA\"},\"y\":{\"field\":\"threeP\"}},\"id\":\"5580\",\"type\":\"Circle\"},{\"attributes\":{\"overlay\":{\"id\":\"5644\"}},\"id\":\"5643\",\"type\":\"BoxSelectTool\"},{\"attributes\":{\"overlay\":{\"id\":\"5730\"}},\"id\":\"5729\",\"type\":\"BoxSelectTool\"},{\"attributes\":{},\"id\":\"5640\",\"type\":\"CrosshairTool\"},{\"attributes\":{\"fill_alpha\":{\"value\":0.4},\"fill_color\":{\"field\":\"Times\",\"transform\":{\"id\":\"5530\"}},\"hatch_alpha\":{\"value\":0.4},\"hatch_color\":{\"field\":\"Times\",\"transform\":{\"id\":\"5530\"}},\"line_alpha\":{\"value\":0.4},\"line_color\":{\"field\":\"Times\",\"transform\":{\"id\":\"5530\"}},\"size\":{\"field\":\"TotalThree\",\"transform\":{\"id\":\"5531\"}},\"x\":{\"field\":\"Season\"},\"y\":{\"field\":\"threePA\"}},\"id\":\"5658\",\"type\":\"Circle\"},{\"attributes\":{\"fill_alpha\":{\"value\":0.4},\"fill_color\":{\"field\":\"Times\",\"transform\":{\"id\":\"5530\"}},\"hatch_alpha\":{\"value\":0.4},\"hatch_color\":{\"field\":\"Times\",\"transform\":{\"id\":\"5530\"}},\"line_alpha\":{\"value\":0.4},\"line_color\":{\"field\":\"Times\",\"transform\":{\"id\":\"5530\"}},\"marker\":{\"value\":\"cross\"},\"size\":{\"field\":\"TotalThree\",\"transform\":{\"id\":\"5531\"}},\"x\":{\"field\":\"Season\"},\"y\":{\"field\":\"threeP\"}},\"id\":\"5764\",\"type\":\"Scatter\"},{\"attributes\":{},\"id\":\"5719\",\"type\":\"BasicTicker\"},{\"attributes\":{},\"id\":\"5723\",\"type\":\"WheelZoomTool\"},{\"attributes\":{\"fill_alpha\":{\"value\":0.4},\"fill_color\":{\"field\":\"Times\",\"transform\":{\"id\":\"5530\"}},\"hatch_alpha\":{\"value\":0.4},\"hatch_color\":{\"field\":\"Times\",\"transform\":{\"id\":\"5530\"}},\"line_alpha\":{\"value\":0.4},\"line_color\":{\"field\":\"Times\",\"transform\":{\"id\":\"5530\"}},\"marker\":{\"value\":\"cross\"},\"size\":{\"field\":\"TotalThree\",\"transform\":{\"id\":\"5531\"}},\"x\":{\"field\":\"Season\"},\"y\":{\"field\":\"threePA\"}},\"id\":\"5678\",\"type\":\"Scatter\"},{\"attributes\":{\"fill_alpha\":{\"value\":0.2},\"fill_color\":{\"field\":\"Times\",\"transform\":{\"id\":\"5530\"}},\"line_color\":{\"value\":null}},\"id\":\"5788\",\"type\":\"Circle\"},{\"attributes\":{\"fill_alpha\":{\"value\":0.2},\"fill_color\":{\"field\":\"Times\",\"transform\":{\"id\":\"5530\"}},\"hatch_alpha\":{\"value\":0.2},\"hatch_color\":{\"field\":\"Times\",\"transform\":{\"id\":\"5530\"}},\"line_alpha\":{\"value\":0.2},\"line_color\":{\"field\":\"Times\",\"transform\":{\"id\":\"5530\"}},\"size\":{\"field\":\"TotalThree\",\"transform\":{\"id\":\"5531\"}},\"x\":{\"field\":\"Season\"},\"y\":{\"field\":\"threeP\"}},\"id\":\"5746\",\"type\":\"Circle\"},{\"attributes\":{\"source\":{\"id\":\"5529\"}},\"id\":\"5602\",\"type\":\"CDSView\"},{\"attributes\":{\"coordinates\":null,\"data_source\":{\"id\":\"5529\"},\"glyph\":{\"id\":\"5744\"},\"group\":null,\"hover_glyph\":null,\"muted_glyph\":{\"id\":\"5746\"},\"nonselection_glyph\":{\"id\":\"5788\"},\"selection_glyph\":{\"id\":\"5787\"},\"view\":{\"id\":\"5748\"}},\"id\":\"5747\",\"type\":\"GlyphRenderer\"},{\"attributes\":{\"coordinates\":null,\"data_source\":{\"id\":\"5529\"},\"glyph\":{\"id\":\"5598\"},\"group\":null,\"hover_glyph\":null,\"muted_glyph\":{\"id\":\"5600\"},\"nonselection_glyph\":{\"id\":\"5599\"},\"view\":{\"id\":\"5602\"}},\"id\":\"5601\",\"type\":\"GlyphRenderer\"},{\"attributes\":{\"factors\":[\"2010-2018\",\"2001-2009\",\"1991-2000\",\"1979-1990\"],\"palette\":[\"#e41a1c\",\"#377eb8\",\"#4daf4a\",\"#984ea3\",\"#ff7f00\"]},\"id\":\"5530\",\"type\":\"CategoricalColorMapper\"},{\"attributes\":{\"fill_alpha\":{\"value\":0.2},\"fill_color\":{\"field\":\"Times\",\"transform\":{\"id\":\"5530\"}},\"hatch_alpha\":{\"value\":0.2},\"hatch_color\":{\"field\":\"Times\",\"transform\":{\"id\":\"5530\"}},\"line_alpha\":{\"value\":0.2},\"line_color\":{\"field\":\"Times\",\"transform\":{\"id\":\"5530\"}},\"marker\":{\"value\":\"cross\"},\"size\":{\"field\":\"TotalThree\",\"transform\":{\"id\":\"5531\"}},\"x\":{\"field\":\"threePA\"},\"y\":{\"field\":\"threeP\"}},\"id\":\"5600\",\"type\":\"Scatter\"},{\"attributes\":{\"fill_alpha\":{\"value\":0.8},\"fill_color\":{\"value\":\"firebrick\"},\"line_color\":{\"value\":null}},\"id\":\"5787\",\"type\":\"Circle\"},{\"attributes\":{\"fill_alpha\":{\"value\":0.4},\"fill_color\":{\"field\":\"Times\",\"transform\":{\"id\":\"5530\"}},\"hatch_alpha\":{\"value\":0.4},\"hatch_color\":{\"field\":\"Times\",\"transform\":{\"id\":\"5530\"}},\"line_alpha\":{\"value\":0.4},\"line_color\":{\"field\":\"Times\",\"transform\":{\"id\":\"5530\"}},\"size\":{\"field\":\"TotalThree\",\"transform\":{\"id\":\"5531\"}},\"x\":{\"field\":\"threePA\"},\"y\":{\"field\":\"threeP\"}},\"id\":\"5578\",\"type\":\"Circle\"},{\"attributes\":{\"fill_alpha\":{\"value\":0.1},\"fill_color\":{\"field\":\"Times\",\"transform\":{\"id\":\"5530\"}},\"hatch_alpha\":{\"value\":0.1},\"hatch_color\":{\"field\":\"Times\",\"transform\":{\"id\":\"5530\"}},\"line_alpha\":{\"value\":0.1},\"line_color\":{\"field\":\"Times\",\"transform\":{\"id\":\"5530\"}},\"marker\":{\"value\":\"cross\"},\"size\":{\"field\":\"TotalThree\",\"transform\":{\"id\":\"5531\"}},\"x\":{\"field\":\"threePA\"},\"y\":{\"field\":\"threeP\"}},\"id\":\"5599\",\"type\":\"Scatter\"},{\"attributes\":{\"line_alpha\":0.2,\"line_color\":\"#1f77b4\",\"line_width\":3,\"x\":{\"field\":\"Season\"},\"y\":{\"field\":\"threeP\"}},\"id\":\"5784\",\"type\":\"Line\"},{\"attributes\":{\"overlay\":{\"id\":\"5645\"}},\"id\":\"5638\",\"type\":\"BoxZoomTool\"},{\"attributes\":{\"fill_alpha\":{\"value\":0.2},\"fill_color\":{\"field\":\"Times\",\"transform\":{\"id\":\"5530\"}},\"line_color\":{\"value\":null}},\"id\":\"5616\",\"type\":\"Circle\"},{\"attributes\":{},\"id\":\"5639\",\"type\":\"ResetTool\"},{\"attributes\":{\"source\":{\"id\":\"5529\"}},\"id\":\"5748\",\"type\":\"CDSView\"},{\"attributes\":{\"source\":{\"id\":\"5529\"}},\"id\":\"5786\",\"type\":\"CDSView\"},{\"attributes\":{\"coordinates\":null,\"data_source\":{\"id\":\"5529\"},\"glyph\":{\"id\":\"5782\"},\"group\":null,\"hover_glyph\":null,\"muted_glyph\":{\"id\":\"5784\"},\"nonselection_glyph\":{\"id\":\"5783\"},\"view\":{\"id\":\"5786\"}},\"id\":\"5785\",\"type\":\"GlyphRenderer\"},{\"attributes\":{\"below\":[{\"id\":\"5628\"}],\"center\":[{\"id\":\"5631\"},{\"id\":\"5635\"},{\"id\":\"5675\"}],\"height\":500,\"left\":[{\"id\":\"5632\"}],\"renderers\":[{\"id\":\"5661\"},{\"id\":\"5681\"},{\"id\":\"5699\"}],\"right\":[{\"id\":\"5675\"}],\"title\":{\"id\":\"5618\"},\"toolbar\":{\"id\":\"5647\"},\"width\":500,\"x_range\":{\"id\":\"5620\"},\"x_scale\":{\"id\":\"5624\"},\"y_range\":{\"id\":\"5622\"},\"y_scale\":{\"id\":\"5626\"}},\"id\":\"5617\",\"subtype\":\"Figure\",\"type\":\"Plot\"},{\"attributes\":{\"click_policy\":\"hide\",\"coordinates\":null,\"group\":null,\"items\":[{\"id\":\"5762\"}]},\"id\":\"5761\",\"type\":\"Legend\"},{\"attributes\":{\"fill_alpha\":{\"value\":0.8},\"fill_color\":{\"value\":\"firebrick\"},\"line_color\":{\"value\":null}},\"id\":\"5615\",\"type\":\"Circle\"},{\"attributes\":{\"below\":[{\"id\":\"5714\"}],\"center\":[{\"id\":\"5717\"},{\"id\":\"5721\"},{\"id\":\"5761\"}],\"height\":500,\"left\":[{\"id\":\"5718\"}],\"renderers\":[{\"id\":\"5747\"},{\"id\":\"5767\"},{\"id\":\"5785\"}],\"right\":[{\"id\":\"5761\"}],\"title\":{\"id\":\"5704\"},\"toolbar\":{\"id\":\"5733\"},\"width\":500,\"x_range\":{\"id\":\"5706\"},\"x_scale\":{\"id\":\"5710\"},\"y_range\":{\"id\":\"5708\"},\"y_scale\":{\"id\":\"5712\"}},\"id\":\"5703\",\"subtype\":\"Figure\",\"type\":\"Plot\"},{\"attributes\":{\"label\":{\"field\":\"Times\"},\"renderers\":[{\"id\":\"5581\"},{\"id\":\"5601\"}]},\"id\":\"5596\",\"type\":\"LegendItem\"},{\"attributes\":{\"callback\":null},\"id\":\"5728\",\"type\":\"TapTool\"},{\"attributes\":{},\"id\":\"5722\",\"type\":\"PanTool\"},{\"attributes\":{},\"id\":\"5752\",\"type\":\"AllLabels\"},{\"attributes\":{},\"id\":\"5636\",\"type\":\"PanTool\"},{\"attributes\":{\"callback\":null},\"id\":\"5642\",\"type\":\"TapTool\"},{\"attributes\":{\"bottom_units\":\"screen\",\"coordinates\":null,\"fill_alpha\":0.5,\"fill_color\":\"lightgrey\",\"group\":null,\"left_units\":\"screen\",\"level\":\"overlay\",\"line_alpha\":1.0,\"line_color\":\"black\",\"line_dash\":[4,4],\"line_width\":2,\"right_units\":\"screen\",\"syncable\":false,\"top_units\":\"screen\"},\"id\":\"5563\",\"type\":\"BoxAnnotation\"},{\"attributes\":{},\"id\":\"5629\",\"type\":\"BasicTicker\"},{\"attributes\":{\"overlay\":{\"id\":\"5646\"}},\"id\":\"5641\",\"type\":\"LassoSelectTool\"},{\"attributes\":{},\"id\":\"5666\",\"type\":\"AllLabels\"},{\"attributes\":{\"end\":40},\"id\":\"5622\",\"type\":\"Range1d\"},{\"attributes\":{\"bottom_units\":\"screen\",\"coordinates\":null,\"fill_alpha\":0.5,\"fill_color\":\"lightgrey\",\"group\":null,\"left_units\":\"screen\",\"level\":\"overlay\",\"line_alpha\":1.0,\"line_color\":\"black\",\"line_dash\":[4,4],\"line_width\":2,\"right_units\":\"screen\",\"syncable\":false,\"top_units\":\"screen\"},\"id\":\"5564\",\"type\":\"BoxAnnotation\"},{\"attributes\":{},\"id\":\"5560\",\"type\":\"CrosshairTool\"},{\"attributes\":{\"tools\":[{\"id\":\"5532\"},{\"id\":\"5554\"},{\"id\":\"5555\"},{\"id\":\"5556\"},{\"id\":\"5557\"},{\"id\":\"5558\"},{\"id\":\"5559\"},{\"id\":\"5560\"},{\"id\":\"5561\"},{\"id\":\"5562\"}]},\"id\":\"5566\",\"type\":\"Toolbar\"},{\"attributes\":{\"coordinates\":null,\"fill_alpha\":0.5,\"fill_color\":\"lightgrey\",\"group\":null,\"level\":\"overlay\",\"line_alpha\":1.0,\"line_color\":\"black\",\"line_dash\":[4,4],\"line_width\":2,\"syncable\":false,\"xs_units\":\"screen\",\"ys_units\":\"screen\"},\"id\":\"5732\",\"type\":\"PolyAnnotation\"},{\"attributes\":{},\"id\":\"5559\",\"type\":\"ResetTool\"},{\"attributes\":{\"coordinates\":null,\"fill_alpha\":0.5,\"fill_color\":\"lightgrey\",\"group\":null,\"level\":\"overlay\",\"line_alpha\":1.0,\"line_color\":\"black\",\"line_dash\":[4,4],\"line_width\":2,\"syncable\":false,\"xs_units\":\"screen\",\"ys_units\":\"screen\"},\"id\":\"5646\",\"type\":\"PolyAnnotation\"},{\"attributes\":{\"overlay\":{\"id\":\"5564\"}},\"id\":\"5558\",\"type\":\"BoxZoomTool\"},{\"attributes\":{},\"id\":\"5557\",\"type\":\"WheelZoomTool\"},{\"attributes\":{\"callback\":null,\"tooltips\":[[\"Season\",\"@seasont\"],[\"3P Attempted Per Game\",\"@threePA\"],[\"Total Three Made\",\"@TotalThree\"],[\"Percentage\",\"@P\"]]},\"id\":\"5533\",\"type\":\"HoverTool\"},{\"attributes\":{\"callback\":null},\"id\":\"5562\",\"type\":\"TapTool\"},{\"attributes\":{},\"id\":\"5668\",\"type\":\"BasicTickFormatter\"},{\"attributes\":{},\"id\":\"5551\",\"type\":\"BasicTicker\"},{\"attributes\":{\"overlay\":{\"id\":\"5563\"}},\"id\":\"5554\",\"type\":\"BoxSelectTool\"},{\"attributes\":{},\"id\":\"5751\",\"type\":\"BasicTickFormatter\"},{\"attributes\":{\"overlay\":{\"id\":\"5731\"}},\"id\":\"5724\",\"type\":\"BoxZoomTool\"},{\"attributes\":{\"overlay\":{\"id\":\"5565\"}},\"id\":\"5561\",\"type\":\"LassoSelectTool\"},{\"attributes\":{},\"id\":\"5556\",\"type\":\"PanTool\"},{\"attributes\":{},\"id\":\"5725\",\"type\":\"ResetTool\"},{\"attributes\":{\"end\":2020,\"start\":1978},\"id\":\"5620\",\"type\":\"Range1d\"},{\"attributes\":{\"fill_alpha\":{\"value\":0.2},\"fill_color\":{\"field\":\"Times\",\"transform\":{\"id\":\"5530\"}},\"hatch_alpha\":{\"value\":0.2},\"hatch_color\":{\"field\":\"Times\",\"transform\":{\"id\":\"5530\"}},\"line_alpha\":{\"value\":0.2},\"line_color\":{\"field\":\"Times\",\"transform\":{\"id\":\"5530\"}},\"marker\":{\"value\":\"cross\"},\"size\":{\"field\":\"TotalThree\",\"transform\":{\"id\":\"5531\"}},\"x\":{\"field\":\"Season\"},\"y\":{\"field\":\"threePA\"}},\"id\":\"5680\",\"type\":\"Scatter\"},{\"attributes\":{\"fill_alpha\":{\"value\":0.1},\"fill_color\":{\"field\":\"Times\",\"transform\":{\"id\":\"5530\"}},\"hatch_alpha\":{\"value\":0.1},\"hatch_color\":{\"field\":\"Times\",\"transform\":{\"id\":\"5530\"}},\"line_alpha\":{\"value\":0.1},\"line_color\":{\"field\":\"Times\",\"transform\":{\"id\":\"5530\"}},\"marker\":{\"value\":\"cross\"},\"size\":{\"field\":\"TotalThree\",\"transform\":{\"id\":\"5531\"}},\"x\":{\"field\":\"Season\"},\"y\":{\"field\":\"threePA\"}},\"id\":\"5679\",\"type\":\"Scatter\"},{\"attributes\":{\"coordinates\":null,\"data_source\":{\"id\":\"5529\"},\"glyph\":{\"id\":\"5678\"},\"group\":null,\"hover_glyph\":null,\"muted_glyph\":{\"id\":\"5680\"},\"nonselection_glyph\":{\"id\":\"5679\"},\"view\":{\"id\":\"5682\"}},\"id\":\"5681\",\"type\":\"GlyphRenderer\"},{\"attributes\":{\"data\":{\"G\":[1230,1230,1230,1230,1230,1230,1229,990,1230,1230,1230,1230,1230,1230,1230,1189,1189,1189,1189,1189,725,1189,1189,1189,1107,1107,1107,1107,1107,1107,1025,943,943,943,943,943,943,943,943,902],\"P\":{\"__ndarray__\":\"uB6F61G41j9eukkMAivXP7bz/dR46dY/Di2yne+n1j9mZmZmZmbWPwrXo3A9Ctc/YOXQItv51j+8dJMYBFbWP7bz/dR46dY/uB6F61G41j+wcmiR7XzXP166SQwCK9c/tvP91Hjp1j+28/3UeOnWP2IQWDm0yNY/aJHtfD811j+8dJMYBFbWPw4tsp3vp9Y/Di2yne+n1j9kO99PjZfWPxkEVg4tstU/vp8aL90k1j8K16NwPQrXP7ByaJHtfNc/YOXQItv51j8dWmQ730/VPxsv3SQGgdU/yXa+nxov1T97FK5H4XrUP8l2vp8aL9U/eekmMQis1D/TTWIQWDnUP90kBoGVQ9M/PzVeukkM0j8/NV66SQzSPwAAAAAAANA/EFg5tMh2zj/4U+Olm8TQP1yPwvUoXM8/7FG4HoXr0T8=\",\"dtype\":\"float64\",\"order\":\"little\",\"shape\":[40]},\"Season\":[2018,2017,2016,2015,2014,2013,2012,2011,2010,2009,2008,2007,2006,2005,2004,2003,2002,2001,2000,1999,1998,1997,1996,1995,1994,1993,1992,1991,1990,1989,1988,1987,1986,1985,1984,1983,1982,1981,1980,1979],\"Times\":[\"2010-2018\",\"2010-2018\",\"2010-2018\",\"2010-2018\",\"2010-2018\",\"2010-2018\",\"2010-2018\",\"2010-2018\",\"2010-2018\",\"2001-2009\",\"2001-2009\",\"2001-2009\",\"2001-2009\",\"2001-2009\",\"2001-2009\",\"2001-2009\",\"2001-2009\",\"2001-2009\",\"2001-2009\",\"1991-2000\",\"1991-2000\",\"1991-2000\",\"1991-2000\",\"1991-2000\",\"1991-2000\",\"1991-2000\",\"1991-2000\",\"1991-2000\",\"1991-2000\",\"1979-1990\",\"1979-1990\",\"1979-1990\",\"1979-1990\",\"1979-1990\",\"1979-1990\",\"1979-1990\",\"1979-1990\",\"1979-1990\",\"1979-1990\",\"1979-1990\"],\"TotalAttemptThree\":[78742,71337,66422,59241,55137,52974,49067,36395,44313,44622,44583,42092,41672,39313,38748,35492,34912,35074,32597,32614,19080,30231,39943,38161,33889,21907,19824,16898,15812,14608,13431,9421,8913,6293,5917,4484,4248,4308,3815,5003],\"TotalThree\":[27955,25807,23748,20953,19300,19054,17603,12693,15886,15822,16352,16124,14926,14086,13777,12321,12200,12402,11524,11513,6463,10450,14383,14000,12153,7301,6668,5587,5055,4829,4332,2979,2687,1774,1671,1120,1011,1129,936,1403],\"seasont\":[\"2018-19\",\"2017-18\",\"2016-17\",\"2015-16\",\"2014-15\",\"2013-14\",\"2012-13\",\"2011-12\",\"2010-11\",\"2009-10\",\"2008-09\",\"2007-08\",\"2006-07\",\"2005-06\",\"2004-05\",\"2003-04\",\"2002-03\",\"2001-02\",\"2000-01\",\"1999-00\",\"1998-99\",\"1997-98\",\"1996-97\",\"1995-96\",\"1994-95\",\"1993-94\",\"1992-93\",\"1991-92\",\"1990-91\",\"1989-90\",\"1988-89\",\"1987-88\",\"1986-87\",\"1985-86\",\"1984-85\",\"1983-84\",\"1982-83\",\"1981-82\",\"1980-81\",\"1979-80\"],\"threeP\":{\"__ndarray__\":\"zczMzMzMJkAAAAAAAAAlQGZmZmZmZiNAAAAAAAAAIUAzMzMzMzMfQM3MzMzMzB5AzczMzMzMHECamZmZmZkZQAAAAAAAABpAmpmZmZmZGUBmZmZmZmYaQGZmZmZmZhpAZmZmZmZmGEDNzMzMzMwWQGZmZmZmZhZAzczMzMzMFEBmZmZmZmYUQM3MzMzMzBRAMzMzMzMzE0AzMzMzMzMTQAAAAAAAABJAmpmZmZmZEUAAAAAAAAAYQJqZmZmZmRdAAAAAAAAAFkBmZmZmZmYKQAAAAAAAAAhAAAAAAAAABEBmZmZmZmYCQJqZmZmZmQFAzczMzMzMAECamZmZmZn5P2ZmZmZmZvY/zczMzMzM7D/NzMzMzMzsPzMzMzMzM+M/AAAAAAAA4D8zMzMzMzPjPwAAAAAAAOA/mpmZmZmZ6T8=\",\"dtype\":\"float64\",\"order\":\"little\",\"shape\":[40]},\"threePA\":{\"__ndarray__\":\"AAAAAAAAQEAAAAAAAAA9QAAAAAAAADtAmpmZmZkZOEBmZmZmZmY2QAAAAAAAgDVAAAAAAAAANEBmZmZmZmYyQAAAAAAAADJAmpmZmZkZMkCamZmZmRkyQJqZmZmZGTJAZmZmZmbmMEAAAAAAAAAwQJqZmZmZmS9AzczMzMzMLUBmZmZmZmYtQGZmZmZmZi1AZmZmZmZmK0BmZmZmZmYrQGZmZmZmZipAZmZmZmZmKUDNzMzMzMwwQAAAAAAAADBAmpmZmZmZLkDNzMzMzMwjQAAAAAAAACJAZmZmZmZmHkBmZmZmZmYcQGZmZmZmZhpAZmZmZmZmGkAAAAAAAAAUQM3MzMzMzBJAZmZmZmZmCkDNzMzMzMwIQDMzMzMzMwNAZmZmZmZmAkBmZmZmZmYCQAAAAAAAAABAZmZmZmZmBkA=\",\"dtype\":\"float64\",\"order\":\"little\",\"shape\":[40]}},\"selected\":{\"id\":\"5591\"},\"selection_policy\":{\"id\":\"5590\"}},\"id\":\"5529\",\"type\":\"ColumnDataSource\"},{\"attributes\":{},\"id\":\"5624\",\"type\":\"LinearScale\"},{\"attributes\":{},\"id\":\"5637\",\"type\":\"WheelZoomTool\"},{\"attributes\":{\"axis_label\":\"Year\",\"coordinates\":null,\"formatter\":{\"id\":\"5668\"},\"group\":null,\"major_label_policy\":{\"id\":\"5669\"},\"ticker\":{\"id\":\"5629\"}},\"id\":\"5628\",\"type\":\"LinearAxis\"},{\"attributes\":{\"data\":null,\"x\":[936,27955],\"y\":[10,70]},\"id\":\"5531\",\"type\":\"LinearInterpolator\"},{\"attributes\":{},\"id\":\"5665\",\"type\":\"BasicTickFormatter\"},{\"attributes\":{\"axis\":{\"id\":\"5546\"},\"coordinates\":null,\"group\":null,\"ticker\":null},\"id\":\"5549\",\"type\":\"Grid\"},{\"attributes\":{\"axis_label\":\"3P attempts per Game Average\",\"coordinates\":null,\"formatter\":{\"id\":\"5588\"},\"group\":null,\"major_label_policy\":{\"id\":\"5589\"},\"ticker\":{\"id\":\"5547\"}},\"id\":\"5546\",\"type\":\"LinearAxis\"},{\"attributes\":{},\"id\":\"5669\",\"type\":\"AllLabels\"},{\"attributes\":{},\"id\":\"5544\",\"type\":\"LinearScale\"},{\"attributes\":{},\"id\":\"5726\",\"type\":\"CrosshairTool\"},{\"attributes\":{},\"id\":\"5547\",\"type\":\"BasicTicker\"},{\"attributes\":{\"axis_label\":\"3P made per Game Average\",\"coordinates\":null,\"formatter\":{\"id\":\"5585\"},\"group\":null,\"major_label_policy\":{\"id\":\"5586\"},\"ticker\":{\"id\":\"5551\"}},\"id\":\"5550\",\"type\":\"LinearAxis\"},{\"attributes\":{\"axis\":{\"id\":\"5550\"},\"coordinates\":null,\"dimension\":1,\"group\":null,\"ticker\":null},\"id\":\"5553\",\"type\":\"Grid\"},{\"attributes\":{\"bottom_units\":\"screen\",\"coordinates\":null,\"fill_alpha\":0.5,\"fill_color\":\"lightgrey\",\"group\":null,\"left_units\":\"screen\",\"level\":\"overlay\",\"line_alpha\":1.0,\"line_color\":\"black\",\"line_dash\":[4,4],\"line_width\":2,\"right_units\":\"screen\",\"syncable\":false,\"top_units\":\"screen\"},\"id\":\"5731\",\"type\":\"BoxAnnotation\"},{\"attributes\":{\"end\":40},\"id\":\"5538\",\"type\":\"Range1d\"},{\"attributes\":{\"tools\":[{\"id\":\"5533\"},{\"id\":\"5636\"},{\"id\":\"5637\"},{\"id\":\"5638\"},{\"id\":\"5639\"},{\"id\":\"5640\"},{\"id\":\"5641\"},{\"id\":\"5642\"},{\"id\":\"5643\"}]},\"id\":\"5647\",\"type\":\"Toolbar\"},{\"attributes\":{},\"id\":\"5591\",\"type\":\"Selection\"},{\"attributes\":{},\"id\":\"5555\",\"type\":\"ZoomInTool\"},{\"attributes\":{\"end\":15},\"id\":\"5540\",\"type\":\"Range1d\"},{\"attributes\":{},\"id\":\"5754\",\"type\":\"BasicTickFormatter\"},{\"attributes\":{},\"id\":\"5590\",\"type\":\"UnionRenderers\"},{\"attributes\":{\"fill_alpha\":{\"value\":0.2},\"fill_color\":{\"field\":\"Times\",\"transform\":{\"id\":\"5530\"}},\"hatch_alpha\":{\"value\":0.2},\"hatch_color\":{\"field\":\"Times\",\"transform\":{\"id\":\"5530\"}},\"line_alpha\":{\"value\":0.2},\"line_color\":{\"field\":\"Times\",\"transform\":{\"id\":\"5530\"}},\"size\":{\"field\":\"TotalThree\",\"transform\":{\"id\":\"5531\"}},\"x\":{\"field\":\"Season\"},\"y\":{\"field\":\"threePA\"}},\"id\":\"5660\",\"type\":\"Circle\"},{\"attributes\":{},\"id\":\"5542\",\"type\":\"LinearScale\"},{\"attributes\":{\"source\":{\"id\":\"5529\"}},\"id\":\"5662\",\"type\":\"CDSView\"},{\"attributes\":{},\"id\":\"5755\",\"type\":\"AllLabels\"},{\"attributes\":{\"overlay\":{\"id\":\"5732\"}},\"id\":\"5727\",\"type\":\"LassoSelectTool\"},{\"attributes\":{\"click_policy\":\"hide\",\"coordinates\":null,\"group\":null,\"items\":[{\"id\":\"5676\"}]},\"id\":\"5675\",\"type\":\"Legend\"},{\"attributes\":{},\"id\":\"5626\",\"type\":\"LinearScale\"},{\"attributes\":{\"line_alpha\":0.4,\"line_color\":\"#1f77b4\",\"line_width\":3,\"x\":{\"field\":\"Season\"},\"y\":{\"field\":\"threePA\"}},\"id\":\"5696\",\"type\":\"Line\"},{\"attributes\":{},\"id\":\"5589\",\"type\":\"AllLabels\"},{\"attributes\":{\"callback\":null,\"tooltips\":[[\"Season\",\"@seasont\"],[\"3P Mades per Game\",\"@threeP\"],[\"Total Three Made\",\"@TotalThree\"],[\"Percentage\",\"@P\"]]},\"id\":\"5534\",\"type\":\"HoverTool\"},{\"attributes\":{\"source\":{\"id\":\"5529\"}},\"id\":\"5682\",\"type\":\"CDSView\"},{\"attributes\":{\"below\":[{\"id\":\"5546\"}],\"center\":[{\"id\":\"5549\"},{\"id\":\"5553\"},{\"id\":\"5595\"}],\"height\":500,\"left\":[{\"id\":\"5550\"}],\"renderers\":[{\"id\":\"5581\"},{\"id\":\"5601\"}],\"right\":[{\"id\":\"5595\"}],\"title\":{\"id\":\"5536\"},\"toolbar\":{\"id\":\"5566\"},\"width\":500,\"x_range\":{\"id\":\"5538\"},\"x_scale\":{\"id\":\"5542\"},\"y_range\":{\"id\":\"5540\"},\"y_scale\":{\"id\":\"5544\"}},\"id\":\"5535\",\"subtype\":\"Figure\",\"type\":\"Plot\"},{\"attributes\":{\"label\":{\"value\":\"Times\"},\"renderers\":[{\"id\":\"5661\"},{\"id\":\"5681\"}]},\"id\":\"5676\",\"type\":\"LegendItem\"},{\"attributes\":{\"axis_label\":\"Made\",\"coordinates\":null,\"formatter\":{\"id\":\"5751\"},\"group\":null,\"major_label_policy\":{\"id\":\"5752\"},\"ticker\":{\"id\":\"5719\"}},\"id\":\"5718\",\"type\":\"LinearAxis\"},{\"attributes\":{\"fill_alpha\":{\"value\":0.4},\"fill_color\":{\"field\":\"Times\",\"transform\":{\"id\":\"5530\"}},\"hatch_alpha\":{\"value\":0.4},\"hatch_color\":{\"field\":\"Times\",\"transform\":{\"id\":\"5530\"}},\"line_alpha\":{\"value\":0.4},\"line_color\":{\"field\":\"Times\",\"transform\":{\"id\":\"5530\"}},\"marker\":{\"value\":\"cross\"},\"size\":{\"field\":\"TotalThree\",\"transform\":{\"id\":\"5531\"}},\"x\":{\"field\":\"threePA\"},\"y\":{\"field\":\"threeP\"}},\"id\":\"5598\",\"type\":\"Scatter\"},{\"attributes\":{},\"id\":\"5588\",\"type\":\"BasicTickFormatter\"},{\"attributes\":{\"coordinates\":null,\"data_source\":{\"id\":\"5529\"},\"glyph\":{\"id\":\"5658\"},\"group\":null,\"hover_glyph\":null,\"muted_glyph\":{\"id\":\"5660\"},\"nonselection_glyph\":{\"id\":\"5702\"},\"selection_glyph\":{\"id\":\"5701\"},\"view\":{\"id\":\"5662\"}},\"id\":\"5661\",\"type\":\"GlyphRenderer\"},{\"attributes\":{\"callback\":null,\"tooltips\":[[\"Season\",\"@seasont\"],[\"3P Mades per Game\",\"@threeP\"],[\"3P Attempted Per Game\",\"@threePA\"],[\"Total Three Made\",\"@TotalThree\"],[\"Percentage\",\"@P\"]]},\"id\":\"5532\",\"type\":\"HoverTool\"},{\"attributes\":{\"coordinates\":null,\"group\":null,\"text\":\"Three Points Stats per Season\"},\"id\":\"5536\",\"type\":\"Title\"},{\"attributes\":{},\"id\":\"5586\",\"type\":\"AllLabels\"},{\"attributes\":{\"bottom_units\":\"screen\",\"coordinates\":null,\"fill_alpha\":0.5,\"fill_color\":\"lightgrey\",\"group\":null,\"left_units\":\"screen\",\"level\":\"overlay\",\"line_alpha\":1.0,\"line_color\":\"black\",\"line_dash\":[4,4],\"line_width\":2,\"right_units\":\"screen\",\"syncable\":false,\"top_units\":\"screen\"},\"id\":\"5645\",\"type\":\"BoxAnnotation\"},{\"attributes\":{\"axis\":{\"id\":\"5632\"},\"coordinates\":null,\"dimension\":1,\"group\":null,\"ticker\":null},\"id\":\"5635\",\"type\":\"Grid\"},{\"attributes\":{\"axis\":{\"id\":\"5628\"},\"coordinates\":null,\"group\":null,\"ticker\":null},\"id\":\"5631\",\"type\":\"Grid\"},{\"attributes\":{\"axis_label\":\"Attempt\",\"coordinates\":null,\"formatter\":{\"id\":\"5665\"},\"group\":null,\"major_label_policy\":{\"id\":\"5666\"},\"ticker\":{\"id\":\"5633\"}},\"id\":\"5632\",\"type\":\"LinearAxis\"},{\"attributes\":{},\"id\":\"5633\",\"type\":\"BasicTicker\"}],\"root_ids\":[\"5790\"]},\"title\":\"Bokeh Application\",\"version\":\"2.4.3\"}};\n",
       "  const render_items = [{\"docid\":\"66422e90-161e-4f91-886d-6ee2e69c52c2\",\"root_ids\":[\"5790\"],\"roots\":{\"5790\":\"40287665-8a7c-4ca4-8437-c193a750c208\"}}];\n",
       "  root.Bokeh.embed.embed_items_notebook(docs_json, render_items);\n",
       "  }\n",
       "  if (root.Bokeh !== undefined) {\n",
       "    embed_document(root);\n",
       "  } else {\n",
       "    let attempts = 0;\n",
       "    const timer = setInterval(function(root) {\n",
       "      if (root.Bokeh !== undefined) {\n",
       "        clearInterval(timer);\n",
       "        embed_document(root);\n",
       "      } else {\n",
       "        attempts++;\n",
       "        if (attempts > 100) {\n",
       "          clearInterval(timer);\n",
       "          console.log(\"Bokeh: ERROR: Unable to run BokehJS code because BokehJS library is missing\");\n",
       "        }\n",
       "      }\n",
       "    }, 10, root)\n",
       "  }\n",
       "})(window);"
      ],
      "application/vnd.bokehjs_exec.v0+json": ""
     },
     "metadata": {
      "application/vnd.bokehjs_exec.v0+json": {
       "id": "5790"
      }
     },
     "output_type": "display_data"
    }
   ],
   "source": [
    "from bokeh.io import output_notebook\n",
    "import pandas as pd\n",
    "from bokeh.models import ColumnDataSource\n",
    "from bokeh.models import HoverTool\n",
    "from bokeh.models import LinearInterpolator\n",
    "from bokeh.models import CategoricalColorMapper\n",
    "from bokeh.models import Circle\n",
    "from bokeh.io import show \n",
    "from bokeh.plotting import figure\n",
    "\n",
    "data = pd.read_csv('nba-players-stats/ShootingOverTheYears1.csv' ,index_col='Rank')\n",
    "\n",
    "\n",
    "source = ColumnDataSource(dict(\n",
    "    threeP = data.ThreeP,  \n",
    "    threePA = data.ThreePA,\n",
    "    Season=data.Season,\n",
    "    G = data.G,\n",
    "    TotalThree = data.TotalThree,\n",
    "    TotalAttemptThree = data.TotalAttemptThree,\n",
    "    Times = data.Times,\n",
    "    P = data.ThreePPercent,\n",
    "    seasont = data.Seasonplus\n",
    "))\n",
    "\n",
    "mapping_coloring = CategoricalColorMapper(\n",
    "    factors = list(data.Times.unique()),\n",
    "    palette = ['#e41a1c',\n",
    " '#377eb8',\n",
    " '#4daf4a',\n",
    " '#984ea3',\n",
    " '#ff7f00',]\n",
    ")\n",
    "\n",
    "relative_size = LinearInterpolator(\n",
    "    x = [data.TotalThree.min(),data.TotalThree.max()],\n",
    "    y = [10,70]\n",
    ")\n",
    "\n",
    "Hover_tool = HoverTool(tooltips = [\n",
    "     ('Season', '@seasont'),\n",
    "    ('3P Mades per Game', \"@threeP\"),\n",
    "     ('3P Attempted Per Game', \"@threePA\"),\n",
    "      ('Total Three Made', \"@TotalThree\"),\n",
    "   ('Percentage', '@P')\n",
    "])\n",
    "Hover_tool1 = HoverTool(tooltips = [\n",
    "     ('Season', '@seasont'),\n",
    "   # ('3P Mades per Game', \"@threeP\"),\n",
    "     ('3P Attempted Per Game', \"@threePA\"),\n",
    "      ('Total Three Made', \"@TotalThree\"),\n",
    "   ('Percentage', '@P')\n",
    "])\n",
    "Hover_tool2 = HoverTool(tooltips = [\n",
    "     ('Season', '@seasont'),\n",
    " ('3P Mades per Game', \"@threeP\"),\n",
    "    # ('3P Attempted Per Game', \"@ThreePA\"),\n",
    "      ('Total Three Made', \"@TotalThree\"),\n",
    "   ('Percentage', '@P')\n",
    "])\n",
    "\n",
    "p1 = figure( tools = [Hover_tool,'box_select','zoom_in','pan', 'wheel_zoom','box_zoom','reset','crosshair','lasso_select','tap'],\n",
    "            height = 500,\n",
    "           width = 500,\n",
    "           x_range = (0,40),\n",
    "           y_range=(0,15),\n",
    "           title = \"Three Points Stats per Season\",\n",
    "          x_axis_label = \"3P attempts per Game Average\",\n",
    "           y_axis_label = \"3P made per Game Average\",\n",
    "          toolbar_location=\"right\")\n",
    "\n",
    "g = p1.circle(x ='threePA',\n",
    "         y ='threeP',\n",
    "         size = {'field':'TotalThree','transform':relative_size},\n",
    "          color = {'field': 'Times','transform': mapping_coloring},\n",
    "         alpha = 0.4,\n",
    "         legend_field = 'Times',\n",
    "         source = source)\n",
    "p1.cross(x ='threePA',\n",
    "         y ='threeP',\n",
    "         size = {'field':'TotalThree','transform':relative_size},\n",
    "          color = {'field': 'Times','transform': mapping_coloring},\n",
    "         alpha = 0.4,\n",
    "         legend_field  = 'Times',\n",
    "         source = source)\n",
    "\n",
    "\n",
    "selected_circle = Circle(fill_alpha=0.8, fill_color=\"firebrick\", line_color=None)\n",
    "nonselected_circle = Circle(fill_alpha=0.2, fill_color={'field': 'Times','transform': mapping_coloring},line_color=None)\n",
    "g.selection_glyph = selected_circle\n",
    "g.nonselection_glyph = nonselected_circle\n",
    "\n",
    "\n",
    "p2 = figure( tools = [Hover_tool1,'pan', 'wheel_zoom','box_zoom','reset','crosshair','lasso_select','tap','box_select'],\n",
    "            height = 500,\n",
    "           width = 500,\n",
    "           y_range = (0,40),\n",
    "           x_range=(1978,2020),\n",
    "           title = \"Three Points Attempts Per Season\",\n",
    "          x_axis_label = \"Year\",\n",
    "           y_axis_label = \"Attempt\",\n",
    "          toolbar_location=\"right\")\n",
    "\n",
    "g = p2.circle(y ='threePA',\n",
    "         x ='Season',\n",
    "         size = {'field':'TotalThree','transform':relative_size},\n",
    "          color = {'field': 'Times','transform': mapping_coloring},\n",
    "         alpha = 0.4,\n",
    "         legend_label = 'Times',\n",
    "         source = source)\n",
    "p2.cross(y ='threePA',\n",
    "         x ='Season',\n",
    "         size = {'field':'TotalThree','transform':relative_size},\n",
    "          color = {'field': 'Times','transform': mapping_coloring},\n",
    "         alpha = 0.4,\n",
    "          legend_label  = 'Times',\n",
    "         source = source)\n",
    "p2.line( y= 'threePA',\n",
    "         x ='Season',\n",
    "         alpha = 0.4,\n",
    "        line_width = 3,\n",
    "         source = source)\n",
    "\n",
    "selected_circle = Circle(fill_alpha=0.8, fill_color=\"firebrick\", line_color=None)\n",
    "nonselected_circle = Circle(fill_alpha=0.2, fill_color={'field': 'Times','transform': mapping_coloring},line_color=None)\n",
    "\n",
    "g.selection_glyph = selected_circle\n",
    "g.nonselection_glyph = nonselected_circle\n",
    "\n",
    "p3 = figure( tools = [Hover_tool2,'pan', 'wheel_zoom','box_zoom','reset','crosshair','lasso_select','tap','box_select'],\n",
    "            height =500,\n",
    "           width = 500,\n",
    "           y_range = (0,20),\n",
    "           x_range=(1978,2020),\n",
    "           title = \"Three Point Make Per Season\",\n",
    "          x_axis_label = \"Year\",\n",
    "           y_axis_label = \"Made\",\n",
    "          toolbar_location=\"right\")\n",
    "\n",
    "g = p3.circle(y ='threeP',\n",
    "         x ='Season',\n",
    "         size = {'field':'TotalThree','transform':relative_size},\n",
    "          color = {'field': 'Times','transform': mapping_coloring},\n",
    "         alpha = 0.4,\n",
    "          legend_label  = 'Times',\n",
    "         source = source)\n",
    "p3.cross(y ='threeP',\n",
    "         x ='Season',\n",
    "         size = {'field':'TotalThree','transform':relative_size},\n",
    "          color = {'field': 'Times','transform': mapping_coloring},\n",
    "         alpha = 0.4,\n",
    "          legend_label  = 'Times',\n",
    "         source = source)\n",
    "p3.line( y = 'threeP',\n",
    "         x ='Season',\n",
    "         alpha = 0.4,\n",
    "        line_width = 3,\n",
    "         source = source)\n",
    "\n",
    "\n",
    "\n",
    "selected_circle = Circle(fill_alpha=0.8, fill_color=\"firebrick\", line_color=None)\n",
    "nonselected_circle = Circle(fill_alpha=0.2, fill_color={'field': 'Times','transform': mapping_coloring},line_color=None)\n",
    "\n",
    "g.selection_glyph = selected_circle\n",
    "g.nonselection_glyph = nonselected_circle\n",
    "\n",
    "\n",
    "# p1.legend.click_policy=\"hide\"\n",
    "\n",
    "p2.legend.click_policy=\"hide\"\n",
    "p3.legend.click_policy=\"hide\"\n",
    "p1.right= p1.legend \n",
    "p2.right = p2.legend \n",
    "p3.right = p3.legend \n",
    "\n",
    "\n",
    "from bokeh.layouts import gridplot,row,column\n",
    "# row1 = [p1,p2]\n",
    "# row2 = [p3]\n",
    "# layout = gridplot([[p1,p2],[p3]])\n",
    "\n",
    "\n",
    "\n",
    "layout = row(column(p1,p2), p3)\n",
    "show(layout)"
   ]
  },
  {
   "cell_type": "markdown",
   "metadata": {
    "extensions": {
     "jupyter_dashboards": {
      "version": 1,
      "views": {
       "grid_default": {
        "col": 8,
        "height": 4,
        "hidden": false,
        "row": 115,
        "width": 4
       },
       "report_default": {
        "hidden": false
       }
      }
     }
    }
   },
   "source": [
    "<hr>"
   ]
  },
  {
   "cell_type": "markdown",
   "metadata": {
    "extensions": {
     "jupyter_dashboards": {
      "version": 1,
      "views": {
       "grid_default": {
        "col": 0,
        "height": 12,
        "hidden": false,
        "row": 121,
        "width": 12
       },
       "report_default": {
        "hidden": false
       }
      }
     }
    }
   },
   "source": [
    "# Showing of all players togother of each year of the amount of mades and attempts of threes.   <a name=\"ThreePointPlayer\"></a>\n",
    "Players that are play more than <b>1500 minutes</b> played and year that are starting from 1980.\n",
    "This shows how every player combined from each season or year has taken then importance of the three pointer shot and have slowly adapted into and have more made/attempts from that distance. \n",
    "\n",
    "## Axis\n",
    "- x = shot attempts from  3 points \n",
    "- y = shots made from 3 points.\n",
    "\n",
    "## Results \n",
    "- Show the increase overall of three pointers from all roles and the entire league of players shooting more. \n",
    "\n",
    "* Highest Record By A Player is \n"
   ]
  },
  {
   "cell_type": "markdown",
   "metadata": {
    "extensions": {
     "jupyter_dashboards": {
      "version": 1,
      "views": {
       "grid_default": {
        "col": 8,
        "height": 4,
        "hidden": false,
        "row": 103,
        "width": 4
       },
       "report_default": {
        "hidden": false
       }
      }
     }
    }
   },
   "source": [
    "**Click Run Cell Below.(Refresh)*** if no reactions "
   ]
  },
  {
   "cell_type": "code",
   "execution_count": 30,
   "metadata": {
    "extensions": {
     "jupyter_dashboards": {
      "version": 1,
      "views": {
       "grid_default": {
        "col": 8,
        "height": 4,
        "hidden": false,
        "row": 157,
        "width": 4
       },
       "report_default": {
        "hidden": false
       }
      }
     }
    }
   },
   "outputs": [
    {
     "data": {
      "application/vnd.jupyter.widget-view+json": {
       "model_id": "887ad7c6465b49ad8f36cb50d8df9e89",
       "version_major": 2,
       "version_minor": 0
      },
      "text/plain": [
       "Button(description=' Run Cell Below', style=ButtonStyle())"
      ]
     },
     "metadata": {},
     "output_type": "display_data"
    }
   ],
   "source": [
    "\n",
    "from IPython.display import Javascript, display\n",
    "from ipywidgets import widgets\n",
    "\n",
    "\n",
    "def run_all(ev):\n",
    "    display(Javascript('IPython.notebook.execute_cell_range(IPython.notebook.get_selected_index()+1, IPython.notebook.get_selected_index()+2)'))\n",
    "\n",
    "button = widgets.Button(description=\" Run Cell Below\")\n",
    "button.on_click(run_all)\n",
    "display(button)"
   ]
  },
  {
   "cell_type": "code",
   "execution_count": 33,
   "metadata": {
    "extensions": {
     "jupyter_dashboards": {
      "version": 1,
      "views": {
       "grid_default": {
        "col": 0,
        "height": 35,
        "hidden": false,
        "row": 133,
        "width": 8
       },
       "report_default": {
        "hidden": false
       }
      }
     }
    },
    "scrolled": true
   },
   "outputs": [
    {
     "name": "stderr",
     "output_type": "stream",
     "text": [
      "BokehDeprecationWarning: 'legend' keyword is deprecated, use explicit 'legend_label', 'legend_field', or 'legend_group' keywords instead\n",
      "BokehDeprecationWarning: 'legend' keyword is deprecated, use explicit 'legend_label', 'legend_field', or 'legend_group' keywords instead\n"
     ]
    },
    {
     "data": {
      "text/html": [
       "\n",
       "  <div class=\"bk-root\" id=\"f129e083-24df-4a9b-bfe2-ff2b58b6ec5f\" data-root-id=\"6582\"></div>\n"
      ]
     },
     "metadata": {},
     "output_type": "display_data"
    },
    {
     "data": {
      "application/javascript": [
       "(function(root) {\n",
       "  function embed_document(root) {\n",
       "  const docs_json = {\"3539a8da-b71f-4a88-860b-878a97002b92\":{\"defs\":[],\"roots\":{\"references\":[{\"attributes\":{\"below\":[{\"id\":\"6593\"}],\"center\":[{\"id\":\"6596\"},{\"id\":\"6600\"},{\"id\":\"6628\"}],\"left\":[{\"id\":\"6597\"}],\"renderers\":[{\"id\":\"6616\"},{\"id\":\"6634\"}],\"right\":[{\"id\":\"6628\"}],\"title\":{\"id\":\"6583\"},\"toolbar\":{\"id\":\"6606\"},\"width\":700,\"x_range\":{\"id\":\"6585\"},\"x_scale\":{\"id\":\"6589\"},\"y_range\":{\"id\":\"6587\"},\"y_scale\":{\"id\":\"6591\"}},\"id\":\"6582\",\"subtype\":\"Figure\",\"type\":\"Plot\"},{\"attributes\":{\"data\":{\"Percentages\":{\"__ndarray__\":\"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\",\"dtype\":\"float64\",\"order\":\"little\",\"shape\":[204]},\"Player\":[\"Arron Afflalo\",\"LaMarcus Aldridge\",\"Ray Allen\",\"Chris Andersen\",\"Carmelo Anthony\",\"Trevor Ariza\",\"Carlos Arroyo\",\"J.J. Barea\",\"Andrea Bargnani\",\"Matt Barnes\",\"Shane Battier\",\"Michael Beasley\",\"Charlie Bell\",\"Mike Bibby\",\"Chauncey Billups\",\"Steve Blake\",\"Andray Blatche\",\"Keith Bogans\",\"Andrew Bogut\",\"Carlos Boozer\",\"Chris Bosh\",\"Elton Brand\",\"Corey Brewer\",\"Ronnie Brewer\",\"Ronnie Brewer\",\"Aaron Brooks\",\"Shannon Brown\",\"Kobe Bryant\",\"Caron Butler\",\"Caron Butler\",\"Rasual Butler\",\"Andrew Bynum\",\"Will Bynum\",\"Jose Calderon\",\"Marcus Camby\",\"Marcus Camby\",\"Vince Carter\",\"Omri Casspi\",\"Mario Chalmers\",\"Wilson Chandler\",\"Darren Collison\",\"Nick Collison\",\"Mike Conley\",\"Jamal Crawford\",\"Stephen Curry\",\"Samuel Dalembert\",\"Baron Davis\",\"Carlos Delfino\",\"Luol Deng\",\"DeMar DeRozan\",\"Boris Diaw\",\"Chris Douglas-Roberts\",\"Jared Dudley\",\"Chris Duhon\",\"Tim Duncan\",\"Kevin Durant\",\"Monta Ellis\",\"Tyreke Evans\",\"Raymond Felton\",\"Derek Fisher\",\"Jonny Flynn\",\"Randy Foye\",\"Channing Frye\",\"Danilo Gallinari\",\"Kevin Garnett\",\"Marc Gasol\",\"Pau Gasol\",\"Rudy Gay\",\"Taj Gibson\",\"Manu Ginobili\",\"Ryan Gomes\",\"Drew Gooden\",\"Ben Gordon\",\"Eric Gordon\",\"Danny Granger\",\"Jeff Green\",\"Willie Green\",\"Donte Greene\",\"Richard Hamilton\",\"James Harden\",\"Al Harrington\",\"Devin Harris\",\"Udonis Haslem\",\"Spencer Hawes\",\"Chuck Hayes\",\"Brendan Haywood\",\"Brendan Haywood\",\"Roy Hibbert\",\"J.J. Hickson\",\"Nene Hilario\",\"George Hill\",\"Grant Hill\",\"Kirk Hinrich\",\"Jrue Holiday\",\"Al Horford\",\"Dwight Howard\",\"Juwan Howard\",\"Andre Iguodala\",\"Ersan Ilyasova\",\"Jarrett Jack\",\"Stephen Jackson\",\"Stephen Jackson\",\"LeBron James\",\"Antawn Jamison\",\"Antawn Jamison\",\"Al Jefferson\",\"Richard Jefferson\",\"Jared Jeffries\",\"Brandon Jennings\",\"Jonas Jerebko\",\"Yi Jianlian\",\"Joe Johnson\",\"Dahntay Jones\",\"Chris Kaman\",\"Jason Kidd\",\"Andrei Kirilenko\",\"Nenad Krstic\",\"Carl Landry\",\"Courtney Lee\",\"David Lee\",\"Rashard Lewis\",\"Brook Lopez\",\"Kevin Love\",\"Kyle Lowry\",\"Corey Maggette\",\"Shawn Marion\",\"Kenyon Martin\",\"Kevin Martin\",\"Roger Mason\",\"Wesley Matthews\",\"Jason Maxiell\",\"O.J. Mayo\",\"Luc Mbah\",\"Antonio McDyess\",\"Andre Miller\",\"Brad Miller\",\"Mike Miller\",\"Paul Millsap\",\"Anthony Morrow\",\"Troy Murphy\",\"Ronald Murray\",\"Steve Nash\",\"Jameer Nelson\",\"Joakim Noah\",\"Dirk Nowitzki\",\"Jermaine O'Neal\",\"Lamar Odom\",\"Emeka Okafor\",\"Mehmet Okur\",\"Anthony Parker\",\"Tony Parker\",\"Chris Paul\",\"Kendrick Perkins\",\"Paul Pierce\",\"Mickael Pietrus\",\"James Posey\",\"Tayshaun Prince\",\"Zach Randolph\",\"J.J. Redick\",\"Jason Richardson\",\"Quentin Richardson\",\"Luke Ridnour\",\"Rajon Rondo\",\"Derrick Rose\",\"Brandon Roy\",\"Brandon Rush\",\"John Salmons\",\"John Salmons\",\"Luis Scola\",\"Thabo Sefolosha\",\"Ramon Sessions\",\"J.R. Smith\",\"Josh Smith\",\"Peja Stojakovic\",\"Amar'e Stoudemire\",\"Rodney Stuckey\",\"Jason Terry\",\"Jason Thompson\",\"Al Thornton\",\"Marcus Thornton\",\"Hedo Turkoglu\",\"Beno Udrih\",\"Anderson Varejao\",\"Charlie Villanueva\",\"Dwyane Wade\",\"Ben Wallace\",\"Gerald Wallace\",\"Rasheed Wallace\",\"Hakim Warrick\",\"C.J. Watson\",\"Earl Watson\",\"Martell Webster\",\"David West\",\"Delonte West\",\"Russell Westbrook\",\"Damien Wilkins\",\"Deron Williams\",\"Jason Williams\",\"Lou Williams\",\"Marvin Williams\",\"Mo Williams\",\"Terrence Williams\",\"Metta World\",\"Thaddeus Young\"],\"Position\":[\"SG\",\"PF\",\"SG\",\"PF\",\"SF\",\"SF\",\"PG\",\"PG\",\"PF\",\"SF\",\"SG\",\"PF\",\"SG\",\"PG\",\"PG\",\"PG\",\"PF\",\"SF\",\"C\",\"PF\",\"C\",\"PF\",\"SG\",\"SG\",\"SG\",\"PG\",\"SG\",\"SG\",\"SF\",\"SF\",\"SF\",\"C\",\"PG\",\"PG\",\"PF\",\"PF\",\"SG\",\"SF\",\"PG\",\"SG\",\"PG\",\"C\",\"PG\",\"SG\",\"PG\",\"C\",\"PG\",\"SF\",\"SF\",\"SG\",\"PF\",\"SF\",\"SF\",\"PG\",\"C\",\"SF\",\"SG\",\"SG\",\"PG\",\"PG\",\"PG\",\"PG\",\"C\",\"SF\",\"PF\",\"C\",\"C\",\"SF\",\"PF\",\"SG\",\"SF\",\"C\",\"SG\",\"SG\",\"SF\",\"PF\",\"SG\",\"SF\",\"SG\",\"SG\",\"PF\",\"PG\",\"PF\",\"C\",\"C\",\"C\",\"C\",\"C\",\"PF\",\"C\",\"PG\",\"SF\",\"SG\",\"PG\",\"C\",\"C\",\"C\",\"SF\",\"PF\",\"PG\",\"SG\",\"SG\",\"SF\",\"PF\",\"PF\",\"C\",\"SF\",\"PF\",\"PG\",\"PF\",\"PF\",\"SG\",\"SF\",\"C\",\"PG\",\"SF\",\"C\",\"PF\",\"SG\",\"C\",\"PF\",\"C\",\"PF\",\"PG\",\"PF\",\"SF\",\"PF\",\"SG\",\"SG\",\"SG\",\"C\",\"SG\",\"PF\",\"PF\",\"PG\",\"C\",\"SG\",\"PF\",\"SG\",\"PF\",\"SG\",\"PG\",\"PG\",\"C\",\"PF\",\"C\",\"PF\",\"C\",\"C\",\"SG\",\"PG\",\"PG\",\"C\",\"SF\",\"SF\",\"SF\",\"SF\",\"PF\",\"SG\",\"SG\",\"SF\",\"PG\",\"PG\",\"PG\",\"SG\",\"SG\",\"SG\",\"SG\",\"PF\",\"SG\",\"PG\",\"SG\",\"PF\",\"SF\",\"PF\",\"PG\",\"SG\",\"C\",\"SF\",\"SG\",\"SF\",\"PG\",\"PF\",\"PF\",\"SG\",\"C\",\"SF\",\"C\",\"PF\",\"PG\",\"PG\",\"SF\",\"PF\",\"SG\",\"PG\",\"SF\",\"PG\",\"PG\",\"PG\",\"SF\",\"PG\",\"SF\",\"SF\",\"PF\"],\"x\":{\"__ndarray__\":\"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\",\"dtype\":\"float64\",\"order\":\"little\",\"shape\":[204]},\"y\":{\"__ndarray__\":\"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\",\"dtype\":\"float64\",\"order\":\"little\",\"shape\":[204]}},\"selected\":{\"id\":\"6626\"},\"selection_policy\":{\"id\":\"6625\"}},\"id\":\"6579\",\"type\":\"ColumnDataSource\"},{\"attributes\":{},\"id\":\"6624\",\"type\":\"AllLabels\"},{\"attributes\":{\"fill_alpha\":{\"value\":0.4},\"fill_color\":{\"field\":\"Position\",\"transform\":{\"id\":\"6580\"}},\"hatch_alpha\":{\"value\":0.4},\"hatch_color\":{\"field\":\"Position\",\"transform\":{\"id\":\"6580\"}},\"line_alpha\":{\"value\":0.4},\"line_color\":{\"field\":\"Position\",\"transform\":{\"id\":\"6580\"}},\"size\":{\"value\":10},\"x\":{\"field\":\"x\"},\"y\":{\"field\":\"y\"}},\"id\":\"6613\",\"type\":\"Circle\"},{\"attributes\":{\"coordinates\":null,\"data_source\":{\"id\":\"6579\"},\"glyph\":{\"id\":\"6631\"},\"group\":null,\"hover_glyph\":null,\"muted_glyph\":{\"id\":\"6633\"},\"nonselection_glyph\":{\"id\":\"6632\"},\"view\":{\"id\":\"6635\"}},\"id\":\"6634\",\"type\":\"GlyphRenderer\"},{\"attributes\":{\"fill_alpha\":{\"value\":0.4},\"fill_color\":{\"field\":\"Position\",\"transform\":{\"id\":\"6580\"}},\"hatch_alpha\":{\"value\":0.4},\"hatch_color\":{\"field\":\"Position\",\"transform\":{\"id\":\"6580\"}},\"line_alpha\":{\"value\":0.4},\"line_color\":{\"field\":\"Position\",\"transform\":{\"id\":\"6580\"}},\"marker\":{\"value\":\"cross\"},\"size\":{\"value\":25},\"x\":{\"field\":\"x\"},\"y\":{\"field\":\"y\"}},\"id\":\"6631\",\"type\":\"Scatter\"},{\"attributes\":{},\"id\":\"6620\",\"type\":\"BasicTickFormatter\"},{\"attributes\":{\"source\":{\"id\":\"6579\"}},\"id\":\"6635\",\"type\":\"CDSView\"},{\"attributes\":{\"factors\":[\"SF\",\"PF\",\"SG\",\"PG\",\"C\",\"G\"],\"palette\":[\"#e41a1c\",\"#377eb8\",\"#4daf4a\",\"#984ea3\",\"#ff7f00\",\"#ffff33\",\"#a65628\",\"#f781bf\",\"#999999\"]},\"id\":\"6580\",\"type\":\"CategoricalColorMapper\"},{\"attributes\":{\"coordinates\":null,\"data_source\":{\"id\":\"6579\"},\"glyph\":{\"id\":\"6613\"},\"group\":null,\"hover_glyph\":null,\"muted_glyph\":{\"id\":\"6615\"},\"nonselection_glyph\":{\"id\":\"6614\"},\"view\":{\"id\":\"6617\"}},\"id\":\"6616\",\"type\":\"GlyphRenderer\"},{\"attributes\":{\"coordinates\":null,\"group\":null,\"text\":\"Players Three Mades and Attempts Comparisons through the years.\"},\"id\":\"6583\",\"type\":\"Title\"},{\"attributes\":{},\"id\":\"6591\",\"type\":\"LinearScale\"},{\"attributes\":{\"end\":1000},\"id\":\"6585\",\"type\":\"Range1d\"},{\"attributes\":{\"fill_alpha\":{\"value\":0.1},\"fill_color\":{\"field\":\"Position\",\"transform\":{\"id\":\"6580\"}},\"hatch_alpha\":{\"value\":0.1},\"hatch_color\":{\"field\":\"Position\",\"transform\":{\"id\":\"6580\"}},\"line_alpha\":{\"value\":0.1},\"line_color\":{\"field\":\"Position\",\"transform\":{\"id\":\"6580\"}},\"size\":{\"value\":10},\"x\":{\"field\":\"x\"},\"y\":{\"field\":\"y\"}},\"id\":\"6614\",\"type\":\"Circle\"},{\"attributes\":{\"source\":{\"id\":\"6579\"}},\"id\":\"6617\",\"type\":\"CDSView\"},{\"attributes\":{\"end\":450},\"id\":\"6587\",\"type\":\"Range1d\"},{\"attributes\":{},\"id\":\"6594\",\"type\":\"BasicTicker\"},{\"attributes\":{\"axis\":{\"id\":\"6593\"},\"coordinates\":null,\"group\":null,\"ticker\":null},\"id\":\"6596\",\"type\":\"Grid\"},{\"attributes\":{},\"id\":\"6589\",\"type\":\"LinearScale\"},{\"attributes\":{\"axis_label\":\"Three Attempted\",\"coordinates\":null,\"formatter\":{\"id\":\"6623\"},\"group\":null,\"major_label_policy\":{\"id\":\"6624\"},\"ticker\":{\"id\":\"6594\"}},\"id\":\"6593\",\"type\":\"LinearAxis\"},{\"attributes\":{\"callback\":null,\"tooltips\":[[\"3P Mades per Game\",\"@y\"],[\"3P Attempted Per Game\",\"@x\"],[\"3P Percentage\",\"@Percentages\"],[\"Position\",\"@Position\"]]},\"id\":\"6581\",\"type\":\"HoverTool\"},{\"attributes\":{},\"id\":\"6625\",\"type\":\"UnionRenderers\"},{\"attributes\":{},\"id\":\"6602\",\"type\":\"WheelZoomTool\"},{\"attributes\":{\"axis_label\":\"Three Made\",\"coordinates\":null,\"formatter\":{\"id\":\"6620\"},\"group\":null,\"major_label_policy\":{\"id\":\"6621\"},\"ticker\":{\"id\":\"6598\"}},\"id\":\"6597\",\"type\":\"LinearAxis\"},{\"attributes\":{\"axis\":{\"id\":\"6597\"},\"coordinates\":null,\"dimension\":1,\"group\":null,\"ticker\":null},\"id\":\"6600\",\"type\":\"Grid\"},{\"attributes\":{},\"id\":\"6598\",\"type\":\"BasicTicker\"},{\"attributes\":{\"fill_alpha\":{\"value\":0.2},\"fill_color\":{\"field\":\"Position\",\"transform\":{\"id\":\"6580\"}},\"hatch_alpha\":{\"value\":0.2},\"hatch_color\":{\"field\":\"Position\",\"transform\":{\"id\":\"6580\"}},\"line_alpha\":{\"value\":0.2},\"line_color\":{\"field\":\"Position\",\"transform\":{\"id\":\"6580\"}},\"marker\":{\"value\":\"cross\"},\"size\":{\"value\":25},\"x\":{\"field\":\"x\"},\"y\":{\"field\":\"y\"}},\"id\":\"6633\",\"type\":\"Scatter\"},{\"attributes\":{\"tools\":[{\"id\":\"6581\"},{\"id\":\"6601\"},{\"id\":\"6602\"},{\"id\":\"6603\"},{\"id\":\"6604\"}]},\"id\":\"6606\",\"type\":\"Toolbar\"},{\"attributes\":{\"fill_alpha\":{\"value\":0.2},\"fill_color\":{\"field\":\"Position\",\"transform\":{\"id\":\"6580\"}},\"hatch_alpha\":{\"value\":0.2},\"hatch_color\":{\"field\":\"Position\",\"transform\":{\"id\":\"6580\"}},\"line_alpha\":{\"value\":0.2},\"line_color\":{\"field\":\"Position\",\"transform\":{\"id\":\"6580\"}},\"size\":{\"value\":10},\"x\":{\"field\":\"x\"},\"y\":{\"field\":\"y\"}},\"id\":\"6615\",\"type\":\"Circle\"},{\"attributes\":{\"fill_alpha\":{\"value\":0.1},\"fill_color\":{\"field\":\"Position\",\"transform\":{\"id\":\"6580\"}},\"hatch_alpha\":{\"value\":0.1},\"hatch_color\":{\"field\":\"Position\",\"transform\":{\"id\":\"6580\"}},\"line_alpha\":{\"value\":0.1},\"line_color\":{\"field\":\"Position\",\"transform\":{\"id\":\"6580\"}},\"marker\":{\"value\":\"cross\"},\"size\":{\"value\":25},\"x\":{\"field\":\"x\"},\"y\":{\"field\":\"y\"}},\"id\":\"6632\",\"type\":\"Scatter\"},{\"attributes\":{\"bottom_units\":\"screen\",\"coordinates\":null,\"fill_alpha\":0.5,\"fill_color\":\"lightgrey\",\"group\":null,\"left_units\":\"screen\",\"level\":\"overlay\",\"line_alpha\":1.0,\"line_color\":\"black\",\"line_dash\":[4,4],\"line_width\":2,\"right_units\":\"screen\",\"syncable\":false,\"top_units\":\"screen\"},\"id\":\"6605\",\"type\":\"BoxAnnotation\"},{\"attributes\":{},\"id\":\"6626\",\"type\":\"Selection\"},{\"attributes\":{\"label\":{\"field\":\"Position\"},\"renderers\":[{\"id\":\"6616\"},{\"id\":\"6634\"}]},\"id\":\"6629\",\"type\":\"LegendItem\"},{\"attributes\":{},\"id\":\"6623\",\"type\":\"BasicTickFormatter\"},{\"attributes\":{},\"id\":\"6604\",\"type\":\"ResetTool\"},{\"attributes\":{},\"id\":\"6621\",\"type\":\"AllLabels\"},{\"attributes\":{\"overlay\":{\"id\":\"6605\"}},\"id\":\"6603\",\"type\":\"BoxZoomTool\"},{\"attributes\":{},\"id\":\"6601\",\"type\":\"PanTool\"},{\"attributes\":{\"background_fill_color\":\"white\",\"border_line_color\":\"blue\",\"coordinates\":null,\"group\":null,\"items\":[{\"id\":\"6629\"}]},\"id\":\"6628\",\"type\":\"Legend\"}],\"root_ids\":[\"6582\"]},\"title\":\"Bokeh Application\",\"version\":\"2.4.3\"}};\n",
       "  const render_items = [{\"docid\":\"3539a8da-b71f-4a88-860b-878a97002b92\",\"notebook_comms_target\":\"6910\",\"root_ids\":[\"6582\"],\"roots\":{\"6582\":\"f129e083-24df-4a9b-bfe2-ff2b58b6ec5f\"}}];\n",
       "  root.Bokeh.embed.embed_items_notebook(docs_json, render_items);\n",
       "  }\n",
       "  if (root.Bokeh !== undefined) {\n",
       "    embed_document(root);\n",
       "  } else {\n",
       "    let attempts = 0;\n",
       "    const timer = setInterval(function(root) {\n",
       "      if (root.Bokeh !== undefined) {\n",
       "        clearInterval(timer);\n",
       "        embed_document(root);\n",
       "      } else {\n",
       "        attempts++;\n",
       "        if (attempts > 100) {\n",
       "          clearInterval(timer);\n",
       "          console.log(\"Bokeh: ERROR: Unable to run BokehJS code because BokehJS library is missing\");\n",
       "        }\n",
       "      }\n",
       "    }, 10, root)\n",
       "  }\n",
       "})(window);"
      ],
      "application/vnd.bokehjs_exec.v0+json": ""
     },
     "metadata": {
      "application/vnd.bokehjs_exec.v0+json": {
       "id": "6582"
      }
     },
     "output_type": "display_data"
    },
    {
     "data": {
      "application/vnd.jupyter.widget-view+json": {
       "model_id": "658fbc26a9d94890a97fad20c47219d7",
       "version_major": 2,
       "version_minor": 0
      },
      "text/plain": [
       "interactive(children=(IntSlider(value=1980, description='Slider Year:', max=2017, min=1980), Output()), _dom_c…"
      ]
     },
     "metadata": {},
     "output_type": "display_data"
    },
    {
     "data": {
      "application/vnd.jupyter.widget-view+json": {
       "model_id": "9be76e6184b145d59e0b80dbe277807a",
       "version_major": 2,
       "version_minor": 0
      },
      "text/plain": [
       "interactive(children=(Play(value=1979, description='Year', max=2017, min=1979), Output()), _dom_classes=('widg…"
      ]
     },
     "metadata": {},
     "output_type": "display_data"
    },
    {
     "data": {
      "application/vnd.jupyter.widget-view+json": {
       "model_id": "d436142c1ab549409a9adfa4b8f0058d",
       "version_major": 2,
       "version_minor": 0
      },
      "text/plain": [
       "interactive(children=(BoundedIntText(value=1980, description='Put A Year:', max=2017, min=1980), Output()), _d…"
      ]
     },
     "metadata": {},
     "output_type": "display_data"
    }
   ],
   "source": [
    "\n",
    "import pandas as pd\n",
    "from bokeh.models import ColumnDataSource\n",
    "from bokeh.models import HoverTool\n",
    "from bokeh.models import LinearInterpolator\n",
    "from bokeh.models import CategoricalColorMapper\n",
    "from bokeh.palettes import Set1_9\n",
    "from ipywidgets import interact, interactive, fixed, interact_manual,widgets\n",
    "from bokeh.io import push_notebook,show\n",
    "\n",
    "data3 = pd.read_csv('nba-players-stats/SeasonStats1500MP3.0.csv',index_col=['Year'])\n",
    "source = ColumnDataSource(dict(\n",
    "     y = data3.loc[2010].ThreeMade,  \n",
    "    x  = data3.loc[2010].ThreeAttempt,\n",
    "    Percentages = data3.loc[2010].Threepercent,\n",
    "    Player = data3.loc[2010].Player,\n",
    "   Position = data3.loc[2010].Pos\n",
    "))\n",
    "\n",
    "mapping_coloring = CategoricalColorMapper(\n",
    "    factors = list(data3.Pos.unique()),\n",
    "    palette = Set1_9\n",
    ")\n",
    "\n",
    "Hover_tools = HoverTool(tooltips = [\n",
    "    ('3P Mades per Game', \"@y\"),\n",
    "     ('3P Attempted Per Game', \"@x\"),\n",
    "    ('3P Percentage','@Percentages'),\n",
    " ('Position', '@Position')])\n",
    "\n",
    "p = figure(height=600,\n",
    "           width = 700,\n",
    "           x_range = (0,1000),\n",
    "           y_range=(0,450),\n",
    "           tools = [Hover_tools,'pan', 'wheel_zoom','box_zoom','reset'],\n",
    "         title = \"Players Three Mades and Attempts Comparisons through the years.\",\n",
    "          x_axis_label = \"Three Attempted\",\n",
    "          y_axis_label = \"Three Made\")\n",
    "\n",
    "p.circle('x',\n",
    "         'y', \n",
    "         size = 10,\n",
    "         #size = {'field':'population','transform':relative_size},\n",
    "       #  title = \"Players Three Mades and Attempts Comparisons through the years.\",\n",
    "         color = {'field': 'Position','transform': mapping_coloring},\n",
    "         alpha = 0.4,\n",
    "         legend = 'Position',\n",
    "        source = source)\n",
    "\n",
    "p.cross('x',\n",
    "         'y', \n",
    "         size = 25,\n",
    "         #size = {'field':'population','transform':relative_size},\n",
    "        color = {'field': 'Position','transform': mapping_coloring},\n",
    "         alpha = 0.4,\n",
    "         legend = 'Position',\n",
    "        source = source)\n",
    "\n",
    "\n",
    "def update(Year):\n",
    "    interactivedata = dict(\n",
    "    y = data3.loc[Year].ThreeMade,  \n",
    "    x  = data3.loc[Year].ThreeAttempt,\n",
    "    Percentages = data3.loc[Year].Threepercent,\n",
    "    Player = data3.loc[Year].Player,\n",
    "   Position = data3.loc[Year].Pos,\n",
    "   # Team = data3.loc[Year].Tm,\n",
    "    #MP = data3.loc[Year].MP\n",
    "    )\n",
    "    \n",
    "    source.data = interactivedata\n",
    "    p.title.text=\"Players Three Mades and Attempts Comparisons through the years. \" + \" Current Years:\"+ str(Year)\n",
    "   # p.title.text_font_size = fontsize 10;\n",
    "    push_notebook()\n",
    "\n",
    "\n",
    "p.legend.orientation = \"vertical\"\n",
    "p.legend.border_line_color = \"blue\"\n",
    "p.legend.background_fill_color = \"white\"\n",
    "p.right = p.legend\n",
    "show(p,notebook_handle=True)\n",
    "\n",
    "interact(update,\n",
    "    Year = widgets.IntSlider(\n",
    "    value=0,\n",
    "    min=1980,\n",
    "    max=2017,\n",
    "    step=1,\n",
    "    description='Slider Year:',\n",
    "    continuous_update=True,\n",
    "    orientation='Horizontal',\n",
    "    readout=True,\n",
    "    readout_format='d',\n",
    "));\n",
    "\n",
    "interact(update,\n",
    "    Year = widgets.Play( \n",
    "    value=0,\n",
    "    min=1979,\n",
    "    max=2017,\n",
    "    step=1,\n",
    "    disabled=False\n",
    "));\n",
    "    \n",
    "\n",
    "interact(update,\n",
    "    Year = widgets.BoundedIntText(\n",
    "    value=0,\n",
    "    min=1980,\n",
    "    max=2017,\n",
    "   # continuous_update=True,\n",
    "    step=1,\n",
    "    description='Put A Year:',\n",
    "    disabled=False\n",
    "));\n",
    "\n",
    "\n"
   ]
  },
  {
   "cell_type": "code",
   "execution_count": 32,
   "metadata": {
    "scrolled": true
   },
   "outputs": [],
   "source": [
    "# d=data4[ (data4['Player']== 'Michael Jordan')] \n",
    "# #1988 3 \n",
    "#1989 6\n",
    "#1990 6\n",
    "#1991 7 \n",
    "#1992 12\n",
    "#1993 17\n",
    "#1994 18\n",
    "#1995 38\n",
    "#1996 46\n",
    "#1997 46\n",
    "#1998 31\n",
    "#1999 3 due to that fact there was a lockout suppose to have 4 but due that player did not play more than 1500 mins \n",
    "#2000 30\n",
    "#2010 50 \n",
    "#2017 75\n",
    "\n",
    "# 200 threes \n",
    "#1995 1\n",
    "#1996 4\n",
    "#1997 5\n",
    " \n",
    "#2001 2 \n",
    "#2002 3\n",
    "#2003 1\n",
    "#2004 1\n",
    "#2005 5\n",
    "#2006 1\n",
    "#2007 3\n",
    "#2008 3 \n",
    "#2009 1\n",
    "#2010 1\n",
    "\n",
    "#2013 3\n",
    "#2014 5\n",
    "#2015 5\n",
    "#2016 8\n",
    "#2017 11\n",
    "#d"
   ]
  },
  {
   "cell_type": "code",
   "execution_count": 12,
   "metadata": {},
   "outputs": [],
   "source": [
    "# d.ThreeMade"
   ]
  },
  {
   "cell_type": "markdown",
   "metadata": {
    "extensions": {
     "jupyter_dashboards": {
      "version": 1,
      "views": {
       "grid_default": {
        "col": 8,
        "height": 4,
        "hidden": false,
        "row": 107,
        "width": 4
       },
       "report_default": {
        "hidden": false
       }
      }
     }
    }
   },
   "source": [
    "<hr style=\"height:1px;border:none;color:#333;background-color:#333;\" />"
   ]
  },
  {
   "cell_type": "markdown",
   "metadata": {
    "extensions": {
     "jupyter_dashboards": {
      "version": 1,
      "views": {
       "grid_default": {
        "col": 0,
        "height": 17,
        "hidden": false,
        "row": 168,
        "width": 12
       },
       "report_default": {
        "hidden": false
       }
      }
     }
    }
   },
   "source": [
    "<a name=\"ThreePointPosition\"></a>\n",
    "## Showing each position  amount of three points that they made and attempted\n",
    "\n",
    "- They show how each role have vastly improve on three pointers since showing the importance of it as years have showed that they have more increased.  \n",
    "- This also shows how the center position is now more of a niche than an important role than it was. Years when centers dominated the game now might not be as dominate for exceptional of some players that are more flexible. \n",
    "- The Size of the cirlce defines , the WS \n",
    "- The players in this list entire season at least plays for 1500 minutes for the entire season.\n",
    "\n",
    "TOT - Total from your entire season this only TOT only occurs when you are traded on a team.\n",
    "<br>WS(Win Shares) - An estimate of the number of wins contributed by a player.(one win is equivalent to three )\n",
    "\n",
    "## Axis\n",
    "- x = shot made from 3\n",
    "- y = shot attempt from 3\n",
    "\n",
    "# Results\n",
    "- Shows that each position shooting more three pointers. \n",
    "- Even Centers are shooting more than ever and is increasing shooting more than ever. \n",
    "- Players are all-around. Sufficient to do all things"
   ]
  },
  {
   "cell_type": "markdown",
   "metadata": {
    "extensions": {
     "jupyter_dashboards": {
      "version": 1,
      "views": {
       "grid_default": {
        "col": 8,
        "height": 4,
        "hidden": false,
        "row": 111,
        "width": 4
       },
       "report_default": {
        "hidden": false
       }
      }
     }
    }
   },
   "source": [
    "**Click Run Cell Below.(Refresh)*** if no reactions "
   ]
  },
  {
   "cell_type": "code",
   "execution_count": 13,
   "metadata": {
    "extensions": {
     "jupyter_dashboards": {
      "version": 1,
      "views": {
       "grid_default": {
        "col": 8,
        "height": 4,
        "hidden": false,
        "row": 193,
        "width": 4
       },
       "report_default": {
        "hidden": false
       }
      }
     }
    }
   },
   "outputs": [
    {
     "data": {
      "application/vnd.jupyter.widget-view+json": {
       "model_id": "190770e53bc6424c8685aba50cd23ee7",
       "version_major": 2,
       "version_minor": 0
      },
      "text/plain": [
       "Button(description='Run Cell Below', style=ButtonStyle())"
      ]
     },
     "metadata": {},
     "output_type": "display_data"
    }
   ],
   "source": [
    "from IPython.display import Javascript, display\n",
    "from ipywidgets import widgets\n",
    "\n",
    "\n",
    "def run_all(ev):\n",
    "    display(Javascript('IPython.notebook.execute_cell_range(IPython.notebook.get_selected_index()+1, IPython.notebook.get_selected_index()+2)'))\n",
    "\n",
    "button = widgets.Button(description=\"Run Cell Below\")\n",
    "button.on_click(run_all)\n",
    "display(button)"
   ]
  },
  {
   "cell_type": "code",
   "execution_count": 14,
   "metadata": {
    "extensions": {
     "jupyter_dashboards": {
      "version": 1,
      "views": {
       "grid_default": {
        "col": 0,
        "height": 35,
        "hidden": false,
        "row": 185,
        "width": 8
       },
       "report_default": {
        "hidden": false
       }
      }
     }
    },
    "scrolled": false
   },
   "outputs": [
    {
     "ename": "ValueError",
     "evalue": "Cannot remove 1 levels from an index with 1 levels: at least one level must be left.",
     "output_type": "error",
     "traceback": [
      "\u001b[1;31m---------------------------------------------------------------------------\u001b[0m",
      "\u001b[1;31mValueError\u001b[0m                                Traceback (most recent call last)",
      "Cell \u001b[1;32mIn[14], line 14\u001b[0m\n\u001b[0;32m     11\u001b[0m data7 \u001b[38;5;241m=\u001b[39m pd\u001b[38;5;241m.\u001b[39mread_csv(\u001b[38;5;124m'\u001b[39m\u001b[38;5;124mnba-players-stats/SeasonStats1500MP3.1.csv\u001b[39m\u001b[38;5;124m'\u001b[39m,index_col\u001b[38;5;241m=\u001b[39m(\u001b[38;5;124m\"\u001b[39m\u001b[38;5;124mPos\u001b[39m\u001b[38;5;124m\"\u001b[39m,\u001b[38;5;124m\"\u001b[39m\u001b[38;5;124mYear\u001b[39m\u001b[38;5;124m\"\u001b[39m))\n\u001b[0;32m     12\u001b[0m \u001b[38;5;66;03m# data8 = pd.read_csv('nba-players-stats/SeasonStats1500MP3.1.csv')\u001b[39;00m\n\u001b[0;32m     13\u001b[0m source \u001b[38;5;241m=\u001b[39m ColumnDataSource(\u001b[38;5;28mdict\u001b[39m(\n\u001b[1;32m---> 14\u001b[0m     y \u001b[38;5;241m=\u001b[39m \u001b[43mdata7\u001b[49m\u001b[38;5;241;43m.\u001b[39;49m\u001b[43mloc\u001b[49m\u001b[43m[\u001b[49m\u001b[38;5;124;43m'\u001b[39;49m\u001b[38;5;124;43mPG\u001b[39;49m\u001b[38;5;124;43m'\u001b[39;49m\u001b[43m,\u001b[49m\u001b[38;5;241;43m2010\u001b[39;49m\u001b[43m,\u001b[49m\u001b[43m:\u001b[49m\u001b[43m]\u001b[49m\u001b[38;5;241m.\u001b[39mThreeMade,  \n\u001b[0;32m     15\u001b[0m     x \u001b[38;5;241m=\u001b[39m data7\u001b[38;5;241m.\u001b[39mloc[\u001b[38;5;124m'\u001b[39m\u001b[38;5;124mPG\u001b[39m\u001b[38;5;124m'\u001b[39m,\u001b[38;5;241m2010\u001b[39m,:]\u001b[38;5;241m.\u001b[39mThreeAttempt,\n\u001b[0;32m     16\u001b[0m     PercentageThree \u001b[38;5;241m=\u001b[39m data7\u001b[38;5;241m.\u001b[39mloc[\u001b[38;5;124m'\u001b[39m\u001b[38;5;124mPG\u001b[39m\u001b[38;5;124m'\u001b[39m,\u001b[38;5;241m2010\u001b[39m,:]\u001b[38;5;241m.\u001b[39mThreepercent,\n\u001b[0;32m     17\u001b[0m     MP \u001b[38;5;241m=\u001b[39m data7\u001b[38;5;241m.\u001b[39mloc[\u001b[38;5;124m'\u001b[39m\u001b[38;5;124mPG\u001b[39m\u001b[38;5;124m'\u001b[39m,\u001b[38;5;241m2010\u001b[39m,:]\u001b[38;5;241m.\u001b[39mMP,\n\u001b[0;32m     18\u001b[0m     FG\u001b[38;5;241m=\u001b[39m data7\u001b[38;5;241m.\u001b[39mloc[\u001b[38;5;124m'\u001b[39m\u001b[38;5;124mPG\u001b[39m\u001b[38;5;124m'\u001b[39m,\u001b[38;5;241m2010\u001b[39m,:]\u001b[38;5;241m.\u001b[39mFG,\n\u001b[0;32m     19\u001b[0m     FGA \u001b[38;5;241m=\u001b[39m data7\u001b[38;5;241m.\u001b[39mloc[\u001b[38;5;124m'\u001b[39m\u001b[38;5;124mPG\u001b[39m\u001b[38;5;124m'\u001b[39m,\u001b[38;5;241m2010\u001b[39m,:]\u001b[38;5;241m.\u001b[39mFGA,\n\u001b[0;32m     20\u001b[0m     PTS\u001b[38;5;241m=\u001b[39m data7\u001b[38;5;241m.\u001b[39mloc[\u001b[38;5;124m'\u001b[39m\u001b[38;5;124mPG\u001b[39m\u001b[38;5;124m'\u001b[39m,\u001b[38;5;241m2010\u001b[39m,:]\u001b[38;5;241m.\u001b[39mPTS,\n\u001b[0;32m     21\u001b[0m     Player \u001b[38;5;241m=\u001b[39m data7\u001b[38;5;241m.\u001b[39mloc[\u001b[38;5;124m'\u001b[39m\u001b[38;5;124mPG\u001b[39m\u001b[38;5;124m'\u001b[39m,\u001b[38;5;241m2010\u001b[39m,:]\u001b[38;5;241m.\u001b[39mPlayer,\n\u001b[0;32m     22\u001b[0m     WS \u001b[38;5;241m=\u001b[39m data7\u001b[38;5;241m.\u001b[39mloc[\u001b[38;5;124m'\u001b[39m\u001b[38;5;124mPG\u001b[39m\u001b[38;5;124m'\u001b[39m,\u001b[38;5;241m2010\u001b[39m,:]\u001b[38;5;241m.\u001b[39mWS,\n\u001b[0;32m     23\u001b[0m     Tm \u001b[38;5;241m=\u001b[39m data7\u001b[38;5;241m.\u001b[39mloc[\u001b[38;5;124m'\u001b[39m\u001b[38;5;124mPG\u001b[39m\u001b[38;5;124m'\u001b[39m,\u001b[38;5;241m2010\u001b[39m,:]\u001b[38;5;241m.\u001b[39mTm, \n\u001b[0;32m     24\u001b[0m     winshare \u001b[38;5;241m=\u001b[39m data7\u001b[38;5;241m.\u001b[39mloc[\u001b[38;5;124m'\u001b[39m\u001b[38;5;124mPG\u001b[39m\u001b[38;5;124m'\u001b[39m,\u001b[38;5;241m2010\u001b[39m,:]\u001b[38;5;241m.\u001b[39mOWS\n\u001b[0;32m     25\u001b[0m                   ))\n\u001b[0;32m     27\u001b[0m relative_size \u001b[38;5;241m=\u001b[39m LinearInterpolator(\n\u001b[0;32m     28\u001b[0m     x \u001b[38;5;241m=\u001b[39m [data7\u001b[38;5;241m.\u001b[39mOWS\u001b[38;5;241m.\u001b[39mmin(),data7\u001b[38;5;241m.\u001b[39mOWS\u001b[38;5;241m.\u001b[39mmax()],\n\u001b[0;32m     29\u001b[0m     y \u001b[38;5;241m=\u001b[39m [\u001b[38;5;241m5\u001b[39m,\u001b[38;5;241m65\u001b[39m]\n\u001b[0;32m     30\u001b[0m )\n\u001b[0;32m     32\u001b[0m Hover_tool \u001b[38;5;241m=\u001b[39m HoverTool(tooltips \u001b[38;5;241m=\u001b[39m [\n\u001b[0;32m     33\u001b[0m     (\u001b[38;5;124m'\u001b[39m\u001b[38;5;124m3P Mades Each Season\u001b[39m\u001b[38;5;124m'\u001b[39m, \u001b[38;5;124m\"\u001b[39m\u001b[38;5;124m@y\u001b[39m\u001b[38;5;124m\"\u001b[39m),\n\u001b[0;32m     34\u001b[0m      (\u001b[38;5;124m'\u001b[39m\u001b[38;5;124m3Attempted Each Season\u001b[39m\u001b[38;5;124m'\u001b[39m, \u001b[38;5;124m\"\u001b[39m\u001b[38;5;124m@x\u001b[39m\u001b[38;5;124m\"\u001b[39m),\n\u001b[1;32m   (...)\u001b[0m\n\u001b[0;32m     39\u001b[0m     \n\u001b[0;32m     40\u001b[0m ])\n",
      "File \u001b[1;32m~\\anaconda3\\lib\\site-packages\\pandas\\core\\indexing.py:1067\u001b[0m, in \u001b[0;36m_LocationIndexer.__getitem__\u001b[1;34m(self, key)\u001b[0m\n\u001b[0;32m   1065\u001b[0m     \u001b[38;5;28;01mif\u001b[39;00m \u001b[38;5;28mself\u001b[39m\u001b[38;5;241m.\u001b[39m_is_scalar_access(key):\n\u001b[0;32m   1066\u001b[0m         \u001b[38;5;28;01mreturn\u001b[39;00m \u001b[38;5;28mself\u001b[39m\u001b[38;5;241m.\u001b[39mobj\u001b[38;5;241m.\u001b[39m_get_value(\u001b[38;5;241m*\u001b[39mkey, takeable\u001b[38;5;241m=\u001b[39m\u001b[38;5;28mself\u001b[39m\u001b[38;5;241m.\u001b[39m_takeable)\n\u001b[1;32m-> 1067\u001b[0m     \u001b[38;5;28;01mreturn\u001b[39;00m \u001b[38;5;28;43mself\u001b[39;49m\u001b[38;5;241;43m.\u001b[39;49m\u001b[43m_getitem_tuple\u001b[49m\u001b[43m(\u001b[49m\u001b[43mkey\u001b[49m\u001b[43m)\u001b[49m\n\u001b[0;32m   1068\u001b[0m \u001b[38;5;28;01melse\u001b[39;00m:\n\u001b[0;32m   1069\u001b[0m     \u001b[38;5;66;03m# we by definition only have the 0th axis\u001b[39;00m\n\u001b[0;32m   1070\u001b[0m     axis \u001b[38;5;241m=\u001b[39m \u001b[38;5;28mself\u001b[39m\u001b[38;5;241m.\u001b[39maxis \u001b[38;5;129;01mor\u001b[39;00m \u001b[38;5;241m0\u001b[39m\n",
      "File \u001b[1;32m~\\anaconda3\\lib\\site-packages\\pandas\\core\\indexing.py:1247\u001b[0m, in \u001b[0;36m_LocIndexer._getitem_tuple\u001b[1;34m(self, tup)\u001b[0m\n\u001b[0;32m   1245\u001b[0m \u001b[38;5;28;01mwith\u001b[39;00m suppress(IndexingError):\n\u001b[0;32m   1246\u001b[0m     tup \u001b[38;5;241m=\u001b[39m \u001b[38;5;28mself\u001b[39m\u001b[38;5;241m.\u001b[39m_expand_ellipsis(tup)\n\u001b[1;32m-> 1247\u001b[0m     \u001b[38;5;28;01mreturn\u001b[39;00m \u001b[38;5;28;43mself\u001b[39;49m\u001b[38;5;241;43m.\u001b[39;49m\u001b[43m_getitem_lowerdim\u001b[49m\u001b[43m(\u001b[49m\u001b[43mtup\u001b[49m\u001b[43m)\u001b[49m\n\u001b[0;32m   1249\u001b[0m \u001b[38;5;66;03m# no multi-index, so validate all of the indexers\u001b[39;00m\n\u001b[0;32m   1250\u001b[0m tup \u001b[38;5;241m=\u001b[39m \u001b[38;5;28mself\u001b[39m\u001b[38;5;241m.\u001b[39m_validate_tuple_indexer(tup)\n",
      "File \u001b[1;32m~\\anaconda3\\lib\\site-packages\\pandas\\core\\indexing.py:941\u001b[0m, in \u001b[0;36m_LocationIndexer._getitem_lowerdim\u001b[1;34m(self, tup)\u001b[0m\n\u001b[0;32m    939\u001b[0m \u001b[38;5;66;03m# we may have a nested tuples indexer here\u001b[39;00m\n\u001b[0;32m    940\u001b[0m \u001b[38;5;28;01mif\u001b[39;00m \u001b[38;5;28mself\u001b[39m\u001b[38;5;241m.\u001b[39m_is_nested_tuple_indexer(tup):\n\u001b[1;32m--> 941\u001b[0m     \u001b[38;5;28;01mreturn\u001b[39;00m \u001b[38;5;28;43mself\u001b[39;49m\u001b[38;5;241;43m.\u001b[39;49m\u001b[43m_getitem_nested_tuple\u001b[49m\u001b[43m(\u001b[49m\u001b[43mtup\u001b[49m\u001b[43m)\u001b[49m\n\u001b[0;32m    943\u001b[0m \u001b[38;5;66;03m# we maybe be using a tuple to represent multiple dimensions here\u001b[39;00m\n\u001b[0;32m    944\u001b[0m ax0 \u001b[38;5;241m=\u001b[39m \u001b[38;5;28mself\u001b[39m\u001b[38;5;241m.\u001b[39mobj\u001b[38;5;241m.\u001b[39m_get_axis(\u001b[38;5;241m0\u001b[39m)\n",
      "File \u001b[1;32m~\\anaconda3\\lib\\site-packages\\pandas\\core\\indexing.py:1017\u001b[0m, in \u001b[0;36m_LocationIndexer._getitem_nested_tuple\u001b[1;34m(self, tup)\u001b[0m\n\u001b[0;32m   1010\u001b[0m \u001b[38;5;28;01mif\u001b[39;00m \u001b[38;5;28mall\u001b[39m(is_hashable(x) \u001b[38;5;129;01mor\u001b[39;00m com\u001b[38;5;241m.\u001b[39mis_null_slice(x) \u001b[38;5;28;01mfor\u001b[39;00m x \u001b[38;5;129;01min\u001b[39;00m tup):\n\u001b[0;32m   1011\u001b[0m     \u001b[38;5;66;03m# GH#10521 Series should reduce MultiIndex dimensions instead of\u001b[39;00m\n\u001b[0;32m   1012\u001b[0m     \u001b[38;5;66;03m#  DataFrame, IndexingError is not raised when slice(None,None,None)\u001b[39;00m\n\u001b[0;32m   1013\u001b[0m     \u001b[38;5;66;03m#  with one row.\u001b[39;00m\n\u001b[0;32m   1014\u001b[0m     \u001b[38;5;28;01mwith\u001b[39;00m suppress(IndexingError):\n\u001b[0;32m   1015\u001b[0m         \u001b[38;5;66;03m# error \"_LocationIndexer\" has no attribute\u001b[39;00m\n\u001b[0;32m   1016\u001b[0m         \u001b[38;5;66;03m# \"_handle_lowerdim_multi_index_axis0\"\u001b[39;00m\n\u001b[1;32m-> 1017\u001b[0m         \u001b[38;5;28;01mreturn\u001b[39;00m \u001b[43mcast\u001b[49m\u001b[43m(\u001b[49m\u001b[43m_LocIndexer\u001b[49m\u001b[43m,\u001b[49m\u001b[43m \u001b[49m\u001b[38;5;28;43mself\u001b[39;49m\u001b[43m)\u001b[49m\u001b[38;5;241;43m.\u001b[39;49m\u001b[43m_handle_lowerdim_multi_index_axis0\u001b[49m\u001b[43m(\u001b[49m\n\u001b[0;32m   1018\u001b[0m \u001b[43m            \u001b[49m\u001b[43mtup\u001b[49m\n\u001b[0;32m   1019\u001b[0m \u001b[43m        \u001b[49m\u001b[43m)\u001b[49m\n\u001b[0;32m   1020\u001b[0m \u001b[38;5;28;01melif\u001b[39;00m \u001b[38;5;28misinstance\u001b[39m(\u001b[38;5;28mself\u001b[39m\u001b[38;5;241m.\u001b[39mobj, ABCSeries) \u001b[38;5;129;01mand\u001b[39;00m \u001b[38;5;28many\u001b[39m(\n\u001b[0;32m   1021\u001b[0m     \u001b[38;5;28misinstance\u001b[39m(k, \u001b[38;5;28mtuple\u001b[39m) \u001b[38;5;28;01mfor\u001b[39;00m k \u001b[38;5;129;01min\u001b[39;00m tup\n\u001b[0;32m   1022\u001b[0m ):\n\u001b[1;32m   (...)\u001b[0m\n\u001b[0;32m   1026\u001b[0m     \u001b[38;5;66;03m#  that themselves contain a slice entry\u001b[39;00m\n\u001b[0;32m   1027\u001b[0m     \u001b[38;5;66;03m# See test_loc_series_getitem_too_many_dimensions\u001b[39;00m\n\u001b[0;32m   1028\u001b[0m     \u001b[38;5;28;01mraise\u001b[39;00m IndexingError(\u001b[38;5;124m\"\u001b[39m\u001b[38;5;124mToo many indexers\u001b[39m\u001b[38;5;124m\"\u001b[39m)\n",
      "File \u001b[1;32m~\\anaconda3\\lib\\site-packages\\pandas\\core\\indexing.py:1267\u001b[0m, in \u001b[0;36m_LocIndexer._handle_lowerdim_multi_index_axis0\u001b[1;34m(self, tup)\u001b[0m\n\u001b[0;32m   1264\u001b[0m axis \u001b[38;5;241m=\u001b[39m \u001b[38;5;28mself\u001b[39m\u001b[38;5;241m.\u001b[39maxis \u001b[38;5;129;01mor\u001b[39;00m \u001b[38;5;241m0\u001b[39m\n\u001b[0;32m   1265\u001b[0m \u001b[38;5;28;01mtry\u001b[39;00m:\n\u001b[0;32m   1266\u001b[0m     \u001b[38;5;66;03m# fast path for series or for tup devoid of slices\u001b[39;00m\n\u001b[1;32m-> 1267\u001b[0m     \u001b[38;5;28;01mreturn\u001b[39;00m \u001b[38;5;28;43mself\u001b[39;49m\u001b[38;5;241;43m.\u001b[39;49m\u001b[43m_get_label\u001b[49m\u001b[43m(\u001b[49m\u001b[43mtup\u001b[49m\u001b[43m,\u001b[49m\u001b[43m \u001b[49m\u001b[43maxis\u001b[49m\u001b[38;5;241;43m=\u001b[39;49m\u001b[43maxis\u001b[49m\u001b[43m)\u001b[49m\n\u001b[0;32m   1269\u001b[0m \u001b[38;5;28;01mexcept\u001b[39;00m \u001b[38;5;167;01mKeyError\u001b[39;00m \u001b[38;5;28;01mas\u001b[39;00m ek:\n\u001b[0;32m   1270\u001b[0m     \u001b[38;5;66;03m# raise KeyError if number of indexers match\u001b[39;00m\n\u001b[0;32m   1271\u001b[0m     \u001b[38;5;66;03m# else IndexingError will be raised\u001b[39;00m\n\u001b[0;32m   1272\u001b[0m     \u001b[38;5;28;01mif\u001b[39;00m \u001b[38;5;28mself\u001b[39m\u001b[38;5;241m.\u001b[39mndim \u001b[38;5;241m<\u001b[39m \u001b[38;5;28mlen\u001b[39m(tup) \u001b[38;5;241m<\u001b[39m\u001b[38;5;241m=\u001b[39m \u001b[38;5;28mself\u001b[39m\u001b[38;5;241m.\u001b[39mobj\u001b[38;5;241m.\u001b[39mindex\u001b[38;5;241m.\u001b[39mnlevels:\n",
      "File \u001b[1;32m~\\anaconda3\\lib\\site-packages\\pandas\\core\\indexing.py:1260\u001b[0m, in \u001b[0;36m_LocIndexer._get_label\u001b[1;34m(self, label, axis)\u001b[0m\n\u001b[0;32m   1258\u001b[0m \u001b[38;5;28;01mdef\u001b[39;00m \u001b[38;5;21m_get_label\u001b[39m(\u001b[38;5;28mself\u001b[39m, label, axis: \u001b[38;5;28mint\u001b[39m):\n\u001b[0;32m   1259\u001b[0m     \u001b[38;5;66;03m# GH#5567 this will fail if the label is not present in the axis.\u001b[39;00m\n\u001b[1;32m-> 1260\u001b[0m     \u001b[38;5;28;01mreturn\u001b[39;00m \u001b[38;5;28;43mself\u001b[39;49m\u001b[38;5;241;43m.\u001b[39;49m\u001b[43mobj\u001b[49m\u001b[38;5;241;43m.\u001b[39;49m\u001b[43mxs\u001b[49m\u001b[43m(\u001b[49m\u001b[43mlabel\u001b[49m\u001b[43m,\u001b[49m\u001b[43m \u001b[49m\u001b[43maxis\u001b[49m\u001b[38;5;241;43m=\u001b[39;49m\u001b[43maxis\u001b[49m\u001b[43m)\u001b[49m\n",
      "File \u001b[1;32m~\\anaconda3\\lib\\site-packages\\pandas\\core\\generic.py:4049\u001b[0m, in \u001b[0;36mNDFrame.xs\u001b[1;34m(self, key, axis, level, drop_level)\u001b[0m\n\u001b[0;32m   4046\u001b[0m \u001b[38;5;28mself\u001b[39m\u001b[38;5;241m.\u001b[39m_consolidate_inplace()\n\u001b[0;32m   4048\u001b[0m \u001b[38;5;28;01mif\u001b[39;00m \u001b[38;5;28misinstance\u001b[39m(index, MultiIndex):\n\u001b[1;32m-> 4049\u001b[0m     loc, new_index \u001b[38;5;241m=\u001b[39m \u001b[43mindex\u001b[49m\u001b[38;5;241;43m.\u001b[39;49m\u001b[43m_get_loc_level\u001b[49m\u001b[43m(\u001b[49m\u001b[43mkey\u001b[49m\u001b[43m,\u001b[49m\u001b[43m \u001b[49m\u001b[43mlevel\u001b[49m\u001b[38;5;241;43m=\u001b[39;49m\u001b[38;5;241;43m0\u001b[39;49m\u001b[43m)\u001b[49m\n\u001b[0;32m   4050\u001b[0m     \u001b[38;5;28;01mif\u001b[39;00m \u001b[38;5;129;01mnot\u001b[39;00m drop_level:\n\u001b[0;32m   4051\u001b[0m         \u001b[38;5;28;01mif\u001b[39;00m lib\u001b[38;5;241m.\u001b[39mis_integer(loc):\n",
      "File \u001b[1;32m~\\anaconda3\\lib\\site-packages\\pandas\\core\\indexes\\multi.py:3158\u001b[0m, in \u001b[0;36mMultiIndex._get_loc_level\u001b[1;34m(self, key, level)\u001b[0m\n\u001b[0;32m   3156\u001b[0m             indexer \u001b[38;5;241m=\u001b[39m \u001b[38;5;28mslice\u001b[39m(\u001b[38;5;28;01mNone\u001b[39;00m, \u001b[38;5;28;01mNone\u001b[39;00m)\n\u001b[0;32m   3157\u001b[0m         ilevels \u001b[38;5;241m=\u001b[39m [i \u001b[38;5;28;01mfor\u001b[39;00m i \u001b[38;5;129;01min\u001b[39;00m \u001b[38;5;28mrange\u001b[39m(\u001b[38;5;28mlen\u001b[39m(key)) \u001b[38;5;28;01mif\u001b[39;00m key[i] \u001b[38;5;241m!=\u001b[39m \u001b[38;5;28mslice\u001b[39m(\u001b[38;5;28;01mNone\u001b[39;00m, \u001b[38;5;28;01mNone\u001b[39;00m)]\n\u001b[1;32m-> 3158\u001b[0m         \u001b[38;5;28;01mreturn\u001b[39;00m indexer, \u001b[43mmaybe_mi_droplevels\u001b[49m\u001b[43m(\u001b[49m\u001b[43mindexer\u001b[49m\u001b[43m,\u001b[49m\u001b[43m \u001b[49m\u001b[43milevels\u001b[49m\u001b[43m)\u001b[49m\n\u001b[0;32m   3159\u001b[0m \u001b[38;5;28;01melse\u001b[39;00m:\n\u001b[0;32m   3160\u001b[0m     indexer \u001b[38;5;241m=\u001b[39m \u001b[38;5;28mself\u001b[39m\u001b[38;5;241m.\u001b[39m_get_level_indexer(key, level\u001b[38;5;241m=\u001b[39mlevel)\n",
      "File \u001b[1;32m~\\anaconda3\\lib\\site-packages\\pandas\\core\\indexes\\multi.py:3041\u001b[0m, in \u001b[0;36mMultiIndex._get_loc_level.<locals>.maybe_mi_droplevels\u001b[1;34m(indexer, levels)\u001b[0m\n\u001b[0;32m   3038\u001b[0m new_index \u001b[38;5;241m=\u001b[39m \u001b[38;5;28mself\u001b[39m[indexer]\n\u001b[0;32m   3040\u001b[0m \u001b[38;5;28;01mfor\u001b[39;00m i \u001b[38;5;129;01min\u001b[39;00m \u001b[38;5;28msorted\u001b[39m(levels, reverse\u001b[38;5;241m=\u001b[39m\u001b[38;5;28;01mTrue\u001b[39;00m):\n\u001b[1;32m-> 3041\u001b[0m     new_index \u001b[38;5;241m=\u001b[39m \u001b[43mnew_index\u001b[49m\u001b[38;5;241;43m.\u001b[39;49m\u001b[43m_drop_level_numbers\u001b[49m\u001b[43m(\u001b[49m\u001b[43m[\u001b[49m\u001b[43mi\u001b[49m\u001b[43m]\u001b[49m\u001b[43m)\u001b[49m\n\u001b[0;32m   3043\u001b[0m \u001b[38;5;28;01mreturn\u001b[39;00m new_index\n",
      "File \u001b[1;32m~\\anaconda3\\lib\\site-packages\\pandas\\core\\indexes\\base.py:2193\u001b[0m, in \u001b[0;36mIndex._drop_level_numbers\u001b[1;34m(self, levnums)\u001b[0m\n\u001b[0;32m   2191\u001b[0m     \u001b[38;5;28;01mreturn\u001b[39;00m \u001b[38;5;28mself\u001b[39m\n\u001b[0;32m   2192\u001b[0m \u001b[38;5;28;01mif\u001b[39;00m \u001b[38;5;28mlen\u001b[39m(levnums) \u001b[38;5;241m>\u001b[39m\u001b[38;5;241m=\u001b[39m \u001b[38;5;28mself\u001b[39m\u001b[38;5;241m.\u001b[39mnlevels:\n\u001b[1;32m-> 2193\u001b[0m     \u001b[38;5;28;01mraise\u001b[39;00m \u001b[38;5;167;01mValueError\u001b[39;00m(\n\u001b[0;32m   2194\u001b[0m         \u001b[38;5;124mf\u001b[39m\u001b[38;5;124m\"\u001b[39m\u001b[38;5;124mCannot remove \u001b[39m\u001b[38;5;132;01m{\u001b[39;00m\u001b[38;5;28mlen\u001b[39m(levnums)\u001b[38;5;132;01m}\u001b[39;00m\u001b[38;5;124m levels from an index with \u001b[39m\u001b[38;5;124m\"\u001b[39m\n\u001b[0;32m   2195\u001b[0m         \u001b[38;5;124mf\u001b[39m\u001b[38;5;124m\"\u001b[39m\u001b[38;5;132;01m{\u001b[39;00m\u001b[38;5;28mself\u001b[39m\u001b[38;5;241m.\u001b[39mnlevels\u001b[38;5;132;01m}\u001b[39;00m\u001b[38;5;124m levels: at least one level must be left.\u001b[39m\u001b[38;5;124m\"\u001b[39m\n\u001b[0;32m   2196\u001b[0m     )\n\u001b[0;32m   2197\u001b[0m \u001b[38;5;66;03m# The two checks above guarantee that here self is a MultiIndex\u001b[39;00m\n\u001b[0;32m   2198\u001b[0m \u001b[38;5;28mself\u001b[39m \u001b[38;5;241m=\u001b[39m cast(\u001b[38;5;124m\"\u001b[39m\u001b[38;5;124mMultiIndex\u001b[39m\u001b[38;5;124m\"\u001b[39m, \u001b[38;5;28mself\u001b[39m)\n",
      "\u001b[1;31mValueError\u001b[0m: Cannot remove 1 levels from an index with 1 levels: at least one level must be left."
     ]
    }
   ],
   "source": [
    "\n",
    "from bokeh.models import ColumnDataSource\n",
    "from bokeh.models import HoverTool\n",
    "from bokeh.models import LinearInterpolator\n",
    "from bokeh.models import CategoricalColorMapper\n",
    "from bokeh.models import Circle\n",
    "from bokeh.palettes import Set1_9\n",
    "from bokeh.plotting import figure\n",
    "from ipywidgets import interact, interactive, fixed, interact_manual,widgets\n",
    "from bokeh.io import push_notebook,show\n",
    "\n",
    "data7 = pd.read_csv('nba-players-stats/SeasonStats1500MP3.1.csv',index_col=(\"Pos\",\"Year\"))\n",
    "# data8 = pd.read_csv('nba-players-stats/SeasonStats1500MP3.1.csv')\n",
    "source = ColumnDataSource(dict(\n",
    "    y = data7.loc['PG',2010,:].ThreeMade,  \n",
    "    x = data7.loc['PG',2010,:].ThreeAttempt,\n",
    "    PercentageThree = data7.loc['PG',2010,:].Threepercent,\n",
    "    MP = data7.loc['PG',2010,:].MP,\n",
    "    FG= data7.loc['PG',2010,:].FG,\n",
    "    FGA = data7.loc['PG',2010,:].FGA,\n",
    "    PTS= data7.loc['PG',2010,:].PTS,\n",
    "    Player = data7.loc['PG',2010,:].Player,\n",
    "    WS = data7.loc['PG',2010,:].WS,\n",
    "    Tm = data7.loc['PG',2010,:].Tm, \n",
    "    winshare = data7.loc['PG',2010,:].OWS\n",
    "                  ))\n",
    "\n",
    "relative_size = LinearInterpolator(\n",
    "    x = [data7.OWS.min(),data7.OWS.max()],\n",
    "    y = [5,65]\n",
    ")\n",
    "\n",
    "Hover_tool = HoverTool(tooltips = [\n",
    "    ('3P Mades Each Season', \"@y\"),\n",
    "     ('3Attempted Each Season', \"@x\"),\n",
    "    ('3P Percentage','@PercentageThree'),\n",
    "    ('Player','@Player'),\n",
    "    ('Team or TOT','@Tm'),\n",
    "    ('Offensive WinShare','@winshare')\n",
    "    \n",
    "])\n",
    "color_mapper = CategoricalColorMapper(\n",
    " factors=['C','PF','SF','SG','PG'],\n",
    " palette=['blue', 'red', 'green','purple','yellow'])\n",
    "\n",
    "# p3 = figure( tools = [Hover_tool,'pan', 'wheel_zoom','box_zoom','reset'],\n",
    "#             height = 1000,\n",
    "#            width = 1000,\n",
    "#            x_range = (-50,850),\n",
    "#            y_range=(-50,1000),\n",
    "#             title = \"3P Per Position\",\n",
    "#           y_axis_label = \"3P made per Totals/Season\",\n",
    "#            x_axis_label = \"3P attempts per Total/Season\",\n",
    "#           toolbar_location=\"right\")\n",
    "\n",
    "p3 = figure(height=500,\n",
    "           width = 700,\n",
    "           x_range = (-50,1000),\n",
    "           y_range=(-50,450),\n",
    "           tools = [Hover_tool,'pan', 'wheel_zoom','box_zoom','reset','crosshair'],\n",
    "         title = \"3 Point total attempts vs made by each Position----- Current Year:\",\n",
    "          x_axis_label = \"Three Attempted\",\n",
    "          y_axis_label = \"Three Made\")\n",
    "g = p3.circle(x = 'x',\n",
    "         y = 'y',\n",
    "        #size = 10 , \n",
    "         size = {'field':'WS','transform':relative_size},\n",
    "          #color = {'field': 'Times','transform': mapping_coloring},\n",
    "         alpha = 0.2,\n",
    "            color = 'blue',\n",
    "        #legend = 'Times',\n",
    "         source = source)\n",
    "p3.cross(x = 'x',\n",
    "         y = 'y',\n",
    "        #size = 10 , \n",
    "         size = {'field':'WS','transform':relative_size},\n",
    "          #color = {'field': 'Times','transform': mapping_coloring},\n",
    "         alpha = 0.2,\n",
    "            color = 'blue',\n",
    "        #legend = 'Times',\n",
    "         source = source)\n",
    "    \n",
    "\n",
    "def update(Pos,Year):\n",
    "    interactivedata = dict(\n",
    "    y = data7.loc[Pos,Year,:].ThreeMade,  \n",
    "    x = data7.loc[Pos,Year,:].ThreeAttempt,\n",
    "    G = data7.loc[Pos,Year,:].G,\n",
    "    PercentageThree = data7.loc[Pos,Year,:].Threepercent,\n",
    "    MP = data7.loc[Pos,Year,:].MP,\n",
    "    FG= data7.loc[Pos,Year,:].FG,\n",
    "    FGA = data7.loc[Pos,Year,:].FGA,\n",
    "    PTS= data7.loc[Pos,Year,:].PTS,\n",
    "    Player = data7.loc[Pos,Year,:].Player,\n",
    "    WS = data7.loc[Pos,Year,:].WS,\n",
    "    Tm = data7.loc[Pos,Year,:].Tm,\n",
    "    winshare = data7.loc[Pos,Year,:].OWS,\n",
    "#     Use = data7.loc[Pos,Year,:].get['%USG']\n",
    "   # Year = data7.loc['PG',2017].Year\n",
    "    )\n",
    "    \n",
    "    source.data = interactivedata\n",
    "    p3.title.text=\"3 Point attempts vs makes by each Position-- Current Year:\"+ \"(Season:\"+  str(int(Year-1)) + \"-\" + str(int(Year))+\")\"\n",
    "    push_notebook()\n",
    "    \n",
    "    \n",
    "\n",
    "show(p3,notebook_handle=True)\n",
    "\n",
    "interact(update,Pos=['C','PF','SF','SG','PG'],Year = widgets.Play( \n",
    "    value=0,\n",
    "    min=1980,\n",
    "    max=2017,\n",
    "    step=1,      \n",
    "    disabled=False\n",
    "    \n",
    "))\n",
    "\n",
    "interact(update,Pos=['C','PF','SF','SG','PG'],Year = widgets.IntSlider( \n",
    "    value=0,\n",
    "    min=1980,\n",
    "    max=2017,\n",
    "    step=1,      \n",
    "    disabled=False\n",
    "))"
   ]
  },
  {
   "cell_type": "code",
   "execution_count": null,
   "metadata": {
    "scrolled": true
   },
   "outputs": [],
   "source": [
    "# data4.ThreeMade.max()\n",
    "\n",
    "# b=data4[ (data4['Pos']=='SG')]\n",
    "# print(b.ThreeMade.max())"
   ]
  },
  {
   "cell_type": "code",
   "execution_count": null,
   "metadata": {},
   "outputs": [],
   "source": [
    "# d=data4[ (data4['ThreeMade']<=99)&(data4['ThreeMade']>=50)&(data4['Year']>=1980)&(data4['Year']<=2000)\n",
    "#         &(data4['Pos']=='C')]\n",
    "# g=data4[ (data4['ThreeMade']<=402)&(data4['ThreeMade']>=100)&(data4['Year']>=1980)&(data4['Year']<=2000)\n",
    "#         &(data4['Pos']=='C')]\n",
    "# z=data4[ (data4['ThreeMade']<=99)&(data4['ThreeMade']>=50)&(data4['Year']>=2001)&(data4['Year']<=2016)\n",
    "#         &(data4['Pos']=='C')]\n",
    "# j=data4[ (data4['ThreeMade']<=402)&(data4['ThreeMade']>=100)&(data4['Year']>=2001)&(data4['Year']<=2016)\n",
    "#         &(data4['Pos']=='C')]\n",
    "\n",
    "\n",
    "# print(\"Center:\")\n",
    "# print(len(d.Player.unique()))\n",
    "# print(str(\"1980-2000 50\"))\n",
    "# print(len(g.Player.unique()))\n",
    "# print(str(\"1980-2000 100\"))\n",
    "# print(len(z.Player.unique()))\n",
    "# print(str(\"2001-2016 50\"))\n",
    "# print(len(j.Player.unique()))\n",
    "# print(str(\"2001-2016 100\"))"
   ]
  },
  {
   "cell_type": "code",
   "execution_count": null,
   "metadata": {
    "scrolled": true
   },
   "outputs": [],
   "source": [
    "# zz=data4[ (data4['ThreeMade']<=402)&(data4['ThreeMade']>=50)&(data4['Year']>=2001)&(data4['Year']<=2016)\n",
    "#         &(data4['Pos']=='C')]\n",
    "\n",
    "# zz"
   ]
  },
  {
   "cell_type": "code",
   "execution_count": null,
   "metadata": {},
   "outputs": [],
   "source": [
    "# len(zz.Player.unique())"
   ]
  },
  {
   "cell_type": "code",
   "execution_count": null,
   "metadata": {},
   "outputs": [],
   "source": [
    "# c=data4[ (data4['ThreeMade']<=1000)&(data4['ThreeMade']>=30)&(data4['Year']==2017)\n",
    "#         &(data4['Pos']=='PF')]\n",
    "# c.Player.unique()\n",
    "\n",
    "# len(c.Player.unique())"
   ]
  },
  {
   "cell_type": "markdown",
   "metadata": {
    "extensions": {
     "jupyter_dashboards": {
      "version": 1,
      "views": {
       "grid_default": {
        "col": 7,
        "height": 4,
        "hidden": false,
        "row": 241,
        "width": 4
       },
       "report_default": {
        "hidden": false
       }
      }
     }
    }
   },
   "source": [
    "# Three Point and Two Pointers \n"
   ]
  },
  {
   "cell_type": "code",
   "execution_count": null,
   "metadata": {
    "extensions": {
     "jupyter_dashboards": {
      "version": 1,
      "views": {
       "grid_default": {
        "hidden": true
       },
       "report_default": {
        "hidden": true
       }
      }
     }
    }
   },
   "outputs": [],
   "source": [
    "from IPython.display import Javascript, display\n",
    "from ipywidgets import widgets\n",
    "\n",
    "\n",
    "def run_all(ev):\n",
    "    display(Javascript('IPython.notebook.execute_cell_range(IPython.notebook.get_selected_index()+1, IPython.notebook.get_selected_index()+2)'))\n",
    "\n",
    "button = widgets.Button(description=\"Run Cell Below\")\n",
    "button.on_click(run_all)\n",
    "display(button)"
   ]
  },
  {
   "cell_type": "code",
   "execution_count": null,
   "metadata": {},
   "outputs": [],
   "source": [
    "\n",
    "from bokeh.models import ColumnDataSource\n",
    "from bokeh.models import HoverTool\n",
    "from bokeh.models import LinearInterpolator\n",
    "from bokeh.models import CategoricalColorMapper\n",
    "from bokeh.models import Circle\n",
    "from bokeh.palettes import Set1_9\n",
    "from bokeh.plotting import figure\n",
    "from ipywidgets import interact, interactive, fixed, interact_manual,widgets\n",
    "from bokeh.io import push_notebook,show\n",
    "\n",
    "data7 = pd.read_csv('nba-players-stats/SeasonStats1500MP3.1.csv',index_col=(\"Pos\",\"Year\"))\n",
    "\n",
    "source = ColumnDataSource(dict(\n",
    "    y = data7.loc['PG',2010,:].ThreeMade,  \n",
    "    x = data7.loc['PG',2010,:].ThreeAttempt,\n",
    "    PercentageThree = data7.loc['PG',2010,:].Threepercent,\n",
    "    MP = data7.loc['PG',2010,:].MP,\n",
    "    FG= data7.loc['PG',2010,:].FG,\n",
    "    FGA = data7.loc['PG',2010,:].FGA,\n",
    "    PTS= data7.loc['PG',2010,:].PTS,\n",
    "    Player = data7.loc['PG',2010,:].Player,\n",
    "    WS = data7.loc['PG',2010,:].WS,\n",
    "    Tm = data7.loc['PG',2010,:].Tm, \n",
    "    winshare = data7.loc['PG',2010,:].OWS,\n",
    "    twopointa = data7.loc['PG',2010,:].get('2PA'),\n",
    "    twopoint = data7.loc['PG',2010,:].get('2P')\n",
    "                  ))\n",
    "relative_size = LinearInterpolator(\n",
    "    x = [data7.OWS.min(),data7.OWS.max()],\n",
    "    y = [5,65]\n",
    ")\n",
    "\n",
    "Hover_tool = HoverTool(tooltips = [\n",
    "    ('Three Points', \" Attempted @x and Made @y\"),\n",
    "     ('Two Points', \"Attempted @twopointa and Made @twopoint\"),\n",
    "    ('Player','@Player'),\n",
    "   # ('Team or TOT','@Tm'),\n",
    "    ('Offensive WinShare','@winshare')\n",
    "    \n",
    "])\n",
    "color_mapper = CategoricalColorMapper(\n",
    " factors=['C','PF','SF','SG','PG'],\n",
    " palette=['blue', 'red', 'green','purple','yellow'])\n",
    "\n",
    "# p3 = figure( tools = [Hover_tool,'pan', 'wheel_zoom','box_zoom','reset'],\n",
    "#             height = 1000,\n",
    "#            width = 1000,\n",
    "#            x_range = (-50,850),\n",
    "#            y_range=(-50,1000),\n",
    "#             title = \"3P Per Position\",\n",
    "#           y_axis_label = \"3P made per Totals/Season\",\n",
    "#            x_axis_label = \"3P attempts per Total/Season\",\n",
    "#           toolbar_location=\"right\")\n",
    "\n",
    "p3 = figure(height=500,\n",
    "           width = 700,\n",
    "           x_range = (-50,2000),\n",
    "           y_range=(-50,2000),\n",
    "           tools = [Hover_tool,'pan', 'wheel_zoom','box_zoom','reset','crosshair','tap'],\n",
    "         title = \" Totals 3 vs 2  by Pos ----- Current Year:\",\n",
    "          x_axis_label = \"Three and Two Attempted\",\n",
    "          y_axis_label = \"Three and Two Made\")\n",
    "g = p3.circle(x = 'x',\n",
    "         y = 'y',\n",
    "        #size = 10 , \n",
    "         size = {'field':'WS','transform':relative_size},\n",
    "          #color = {'field': 'Times','transform': mapping_coloring},\n",
    "         alpha = 0.2,\n",
    "            color = 'blue',\n",
    "        legend = 'Three Points',\n",
    "         source = source)\n",
    "p3.right = p3.legend\n",
    "d = p3.circle(x = 'twopointa',\n",
    "         y = 'twopoint',\n",
    "        #size = 10 , \n",
    "         size = {'field':'WS','transform':relative_size},\n",
    "          #color = {'field': 'Times','transform': mapping_coloring},\n",
    "         alpha = 0.2,\n",
    "            color = 'red',\n",
    "        legend = 'Twp Points',\n",
    "         source = source)\n",
    "\n",
    "\n",
    "    \n",
    "selected_circle = Circle(fill_alpha=1, fill_color=\"blue\", line_color=None)\n",
    "nonselected_circle = Circle(line_alpha=0.1,fill_alpha=0.1,fill_color=\"white\", line_color=\"blue\")\n",
    "\n",
    "g.selection_glyph = selected_circle\n",
    "g.nonselection_glyph = nonselected_circle\n",
    "\n",
    "selected_circle = Circle(line_alpha=1, fill_color=\"red\", line_color=None)\n",
    "nonselected_circle = Circle(line_alpha=0.1,fill_alpha=0.1,fill_color=\"white\", line_color=\"red\")\n",
    "\n",
    "d.selection_glyph = selected_circle\n",
    "d.nonselection_glyph = nonselected_circle\n",
    "    \n",
    "    \n",
    "    \n",
    "\n",
    "def update(Pos,Year):\n",
    "    interactivedata = dict(\n",
    "    y = data7.loc[Pos,Year,:].ThreeMade,  \n",
    "    x = data7.loc[Pos,Year,:].ThreeAttempt,\n",
    "    G = data7.loc[Pos,Year,:].G,\n",
    "    PercentageThree = data7.loc[Pos,Year,:].Threepercent,\n",
    "    MP = data7.loc[Pos,Year,:].MP,\n",
    "    FG= data7.loc[Pos,Year,:].FG,\n",
    "    FGA = data7.loc[Pos,Year,:].FGA,\n",
    "    PTS= data7.loc[Pos,Year,:].PTS,\n",
    "    Player = data7.loc[Pos,Year,:].Player,\n",
    "    WS = data7.loc[Pos,Year,:].WS,\n",
    "    Tm = data7.loc[Pos,Year,:].Tm,\n",
    "    winshare = data7.loc[Pos,Year,:].OWS,\n",
    "    twopointa = data7.loc[Pos,Year,:].get('2PA'),\n",
    "    twopoint = data7.loc[Pos,Year,:].get('2P')\n",
    "#     Use = data7.loc[Pos,Year,:].get['%USG']\n",
    "   # Year = data7.loc['PG',2017].Year\n",
    "    )\n",
    "    \n",
    "    source.data = interactivedata\n",
    "    p3.title.text=\" Totals 3 vs 2 by Pos ----- Current Year:\"+ str(Year)+ \"(Season:\"+  str(int(Year-1)) + \"-\" + str(int(Year))+\")\"\n",
    "    push_notebook()\n",
    "    \n",
    "   \n",
    "show(p3,notebook_handle=True)\n",
    "\n",
    "interact(update,Pos=['C','PF','SF','SG','PG'],Year = widgets.Play( \n",
    "    value=0,\n",
    "    min=1980,\n",
    "    max=2017,\n",
    "    step=1,      \n",
    "    disabled=False\n",
    "    \n",
    "))\n",
    "\n",
    "interact(update,Pos=['C','PF','SF','SG','PG'],Year = widgets.IntSlider( \n",
    "    value=0,\n",
    "    min=1980,\n",
    "    max=2017,\n",
    "    step=1,      \n",
    "    disabled=False\n",
    "))"
   ]
  },
  {
   "cell_type": "markdown",
   "metadata": {
    "extensions": {
     "jupyter_dashboards": {
      "version": 1,
      "views": {
       "grid_default": {
        "col": 8,
        "height": 4,
        "hidden": false,
        "row": 133,
        "width": 4
       },
       "report_default": {
        "hidden": false
       }
      }
     }
    }
   },
   "source": [
    "<hr style=\"height:1px;border:none;color:#333;background-color:#333;\" />"
   ]
  },
  {
   "cell_type": "markdown",
   "metadata": {
    "extensions": {
     "jupyter_dashboards": {
      "version": 1,
      "views": {
       "grid_default": {
        "col": 0,
        "height": 17,
        "hidden": false,
        "row": 220,
        "width": 12
       },
       "report_default": {
        "hidden": false
       }
      }
     }
    }
   },
   "source": [
    "# 3PA vs FGA  ( 3PA/FGA = 3Par) <a name=\"ThreePointRatio\"></a>\n",
    "- Show how the players have now evolved and adatped to the Three point line. \n",
    "- It also shows that they are willing to take more three pointers than 2 pointers in comparison. \n",
    "- Players from all positions are willing to take more 3 pointers than 2 pointers. \n",
    "\n",
    "# Caculation about the \n",
    "Three Point total attempts  divide by  Field Goal Total Attempts  = Percentage of FG Attempts from 3-Point Range\n",
    "- 3PA / FGA = 3PAr\n",
    "- Higher up the Y-Axis the more three pointer you take compared to the 2 pointers. \n",
    "- Futher to the X-Axis the more two points you take compared to the 3 pointers.\n",
    "\n",
    "## Axis\n",
    "- Y-Axis = 3PA (3 point Attempts)\n",
    "- X-Axis = 2PA (2 point Attempts)\n",
    "\n",
    "# Results\n",
    " Increase of three point attempts comparing to previous years. Show importance of three pointers\n"
   ]
  },
  {
   "cell_type": "markdown",
   "metadata": {
    "extensions": {
     "jupyter_dashboards": {
      "version": 1,
      "views": {
       "grid_default": {
        "col": 8,
        "height": 4,
        "hidden": false,
        "row": 197,
        "width": 4
       },
       "report_default": {
        "hidden": false
       }
      }
     }
    }
   },
   "source": [
    "**Click Run Cell Below.(Refresh)*** if no reactions "
   ]
  },
  {
   "cell_type": "code",
   "execution_count": null,
   "metadata": {
    "extensions": {
     "jupyter_dashboards": {
      "version": 1,
      "views": {
       "grid_default": {
        "col": 8,
        "height": 4,
        "hidden": false,
        "row": 201,
        "width": 4
       },
       "report_default": {
        "hidden": false
       }
      }
     }
    }
   },
   "outputs": [],
   "source": [
    "from IPython.display import Javascript, display\n",
    "from ipywidgets import widgets\n",
    "\n",
    "\n",
    "def run_all(ev):\n",
    "    display(Javascript('IPython.notebook.execute_cell_range(IPython.notebook.get_selected_index()+1, IPython.notebook.get_selected_index()+2)'))\n",
    "\n",
    "button = widgets.Button(description=\"Run Cell Below\")\n",
    "button.on_click(run_all)\n",
    "display(button)"
   ]
  },
  {
   "cell_type": "code",
   "execution_count": null,
   "metadata": {
    "extensions": {
     "jupyter_dashboards": {
      "version": 1,
      "views": {
       "grid_default": {
        "col": 0,
        "height": 35,
        "hidden": false,
        "row": 237,
        "width": 7
       },
       "report_default": {
        "hidden": false
       }
      }
     }
    },
    "scrolled": false
   },
   "outputs": [],
   "source": [
    "import pandas as pd\n",
    "from bokeh.models import ColumnDataSource\n",
    "from bokeh.models import HoverTool\n",
    "from bokeh.models import LinearInterpolator\n",
    "from bokeh.models import CategoricalColorMapper\n",
    "from bokeh.palettes import Set1_9\n",
    "from bokeh.models import Circle\n",
    "from bokeh.plotting import figure\n",
    "from ipywidgets import interact, interactive, fixed, interact_manual,widgets\n",
    "from bokeh.io import push_notebook,show\n",
    "\n",
    "\n",
    "data3 = pd.read_csv('nba-players-stats/SeasonStats1200MP3.0.csv',index_col=['Year'])\n",
    "\n",
    "source = ColumnDataSource(dict(\n",
    "     ThreeMade = data3.loc[2011].ThreeMade,  \n",
    "    ThreeAttempt  = data3.loc[2011].ThreeAttempt,\n",
    "    Percentages = data3.loc[2011].Threepercent,\n",
    "    Player = data3.loc[2011].Player,\n",
    "    Position = data3.loc[2011].Pos,\n",
    "    Team = data3.loc[2011].Tm,\n",
    "    MP = data3.loc[2011].MP,\n",
    "    ThreeRatio = data3.loc[2011].get('3PAr'),\n",
    "    FGA= data3.loc[2011].get('FGA'),\n",
    "    TwoPointMade = data3.loc[2011].get('2P'),\n",
    "    TwoPointAttempt = data3.loc[2011].get('2PA')\n",
    "))\n",
    "\n",
    "\n",
    "mapping_coloring = CategoricalColorMapper(\n",
    "    factors = list(data3.Pos.unique()),\n",
    "    palette = Set1_9\n",
    ")\n",
    "\n",
    "\n",
    "Hover_tools = HoverTool(tooltips = [\n",
    "     #('Year', '@Year'),\n",
    "    ('Field Goal Attempted Total per Season', \"@FGA\"),\n",
    "     ('3P Attempted total in a Season', \"@ThreeAttempt\"),\n",
    "     ('2P Attempted total in a Season','@TwoPointAttempt'),\n",
    "    ('Player', '@Player'),\n",
    "    ('3PAr','@ThreeRatio')])\n",
    "\n",
    "p5 = figure( tools = [Hover_tools,'pan', 'wheel_zoom','box_zoom','reset','crosshair'],\n",
    "            height=600,\n",
    "           width = 600,\n",
    "           x_range = (0,2000),\n",
    "           y_range=(0,1000),\n",
    "          title = \"3PA vs FGA (3PA/FGA = 3PAr )\",\n",
    "          x_axis_label = \"Field Goal Attempt Total in a  Season\",\n",
    "           y_axis_label = \"3P attempts Total in a Season\"\n",
    "        )\n",
    "\n",
    "\n",
    "p5.circle(x='FGA', \n",
    "         y='ThreeAttempt',\n",
    "         size = 10,\n",
    "         #size = {'field':'population','transform':relative_size},\n",
    "        color = {'field': 'Position','transform': mapping_coloring},\n",
    "         alpha = 0.6,\n",
    "         legend = 'Position',\n",
    "        source = source)\n",
    "\n",
    "\n",
    "def update(Year):\n",
    "    interactivedata = dict(\n",
    "    ThreeMade = data3.loc[Year].ThreeMade,  \n",
    "    ThreeAttempt  = data3.loc[Year].ThreeAttempt,\n",
    "    Percentages = data3.loc[Year].Threepercent,\n",
    "    Player = data3.loc[Year].Player,\n",
    "    Position = data3.loc[Year].Pos,\n",
    "    Team = data3.loc[Year].Tm,\n",
    "    MP = data3.loc[Year].MP,\n",
    "    ThreeRatio = data3.loc[Year].get('3PAr'),\n",
    "    FGA= data3.loc[Year].get('FGA'),\n",
    "    TwoPointMade = data3.loc[Year].get('2P'),\n",
    "    TwoPointAttempt = data3.loc[Year].get('2PA')\n",
    "    )\n",
    "    \n",
    "    \n",
    " \n",
    "    source.data = interactivedata\n",
    "    p5.title.text=\"FGA vs 3PA (3PA/FGA = 3PAr )\"+ \"Season:\"+  str(Year-1) + \"-\" + str(Year)\n",
    "   # p.title.text_font_size = fontsize 10;\n",
    "    push_notebook()\n",
    "\n",
    "show(p5,notebook_handle=True)\n",
    "interact(update,\n",
    "    Year = widgets.IntSlider(\n",
    "    value=0,\n",
    "    min=1980,\n",
    "    max=2017,\n",
    "    step=1,\n",
    "    description='Slider Year:',\n",
    "    continuous_update=True,\n",
    "    orientation='Horizontal',\n",
    "    readout=True,\n",
    "    readout_format='d',\n",
    "));\n",
    "\n",
    "interact(update,\n",
    "    Year = widgets.Play( \n",
    "    value=0,\n",
    "    min=1979,\n",
    "    max=2017,\n",
    "    step=1,\n",
    "    disabled=False\n",
    "));\n",
    "    \n",
    "\n",
    "interact(update,\n",
    "    Year = widgets.BoundedIntText(\n",
    "    value=0,\n",
    "    min=1980,\n",
    "    max=2017,\n",
    "   # continuous_update=True,\n",
    "    step=1,\n",
    "    description='Put A Year:',\n",
    "    disabled=False\n",
    "));\n",
    "#ryan ANderson 2012\n",
    "#richard Lewis 2009\n",
    "#Antonio Walker 2003,2002,2001\n"
   ]
  },
  {
   "cell_type": "markdown",
   "metadata": {
    "extensions": {
     "jupyter_dashboards": {
      "version": 1,
      "views": {
       "grid_default": {
        "col": 0,
        "height": 5,
        "hidden": false,
        "row": 472,
        "width": 12
       },
       "report_default": {
        "hidden": false
       }
      }
     }
    }
   },
   "source": [
    "# Teams displays make/attempt more three pointers per game \n",
    "\n",
    "\n",
    "### Explanation "
   ]
  },
  {
   "cell_type": "code",
   "execution_count": null,
   "metadata": {
    "extensions": {
     "jupyter_dashboards": {
      "version": 1,
      "views": {
       "grid_default": {
        "col": 7,
        "height": 4,
        "hidden": false,
        "row": 245,
        "width": 4
       },
       "report_default": {
        "hidden": false
       }
      }
     }
    }
   },
   "outputs": [],
   "source": [
    "from IPython.display import Javascript, display\n",
    "from ipywidgets import widgets\n",
    "\n",
    "\n",
    "def run_all(ev):\n",
    "    display(Javascript('IPython.notebook.execute_cell_range(IPython.notebook.get_selected_index()+1, IPython.notebook.get_selected_index()+2)'))\n",
    "\n",
    "button = widgets.Button(description=\"Run Cell Below\")\n",
    "button.on_click(run_all)\n",
    "display(button)"
   ]
  },
  {
   "cell_type": "code",
   "execution_count": null,
   "metadata": {
    "extensions": {
     "jupyter_dashboards": {
      "version": 1,
      "views": {
       "grid_default": {
        "col": 0,
        "height": 12,
        "hidden": false,
        "row": 477,
        "width": 9
       },
       "report_default": {
        "hidden": false
       }
      }
     }
    },
    "scrolled": false
   },
   "outputs": [],
   "source": [
    "from bokeh.models import ColumnDataSource\n",
    "from bokeh.models import HoverTool\n",
    "from bokeh.models import LinearInterpolator\n",
    "from bokeh.models import CategoricalColorMapper\n",
    "from bokeh.palettes import Category20\n",
    "from bokeh.models import Circle\n",
    "from bokeh.plotting import figure\n",
    "from ipywidgets import interact,interactive, fixed, interact_manual,widgets\n",
    "from bokeh.io import push_notebook,show\n",
    "\n",
    "\n",
    "datacom = pd.read_csv('nba-players-stats/allteamcombined.csv',index_col=['Season'])\n",
    "datawarriorschamp = pd.read_csv('nba-players-stats/WarriorsChamp.csv',index_col=[\"Rank\"])\n",
    "\n",
    "source = ColumnDataSource(dict( \n",
    "    tm = datacom.loc[2010].Tm, \n",
    "    x = datacom.loc[2010].get('3P'),\n",
    "    y = datacom.loc[2010].get('3PA'),\n",
    "    win = datacom.loc[2010].W,\n",
    "    pts = datacom.loc[2010].PTS\n",
    "))\n",
    "\n",
    "\n",
    "Hover_tools = HoverTool(tooltips = [\n",
    "    ('Attempt', \"@y\"),\n",
    "     ('Made', \"@x\"),\n",
    "    ('Team', '@tm'),])\n",
    "\n",
    "# relative_size = LinearInterpolator(\n",
    "#     x = [datacom.PTS.min(),datacom.PTS.max()],\n",
    "#     y = [2,40]\n",
    "# )\n",
    "\n",
    "color_mapper = CategoricalColorMapper(\n",
    "  factors= list(datacom.Tm.unique()),\n",
    "  palette= ['#1f77b4', '#aec7e8', '#ff7f0e', \n",
    "            '#ffbb78', '#2ca02c', '#98df8a', \n",
    "            '#d62728', \n",
    "            '#ff9896', '#9467bd', '#c5b0d5',\n",
    "            '#8c564b', '#c49c94', '#e377c2', \n",
    "            '#f7b6d2', \n",
    "            '#7f7f7f', '#c7c7c7', '#bcbd22', \n",
    "            '#dbdb8d', '#17becf', '#9edae5',\n",
    "            '#800026', '#bd0026','#e31a1c', \n",
    "            '#fc4e2a',\n",
    "            '#fd8d3c','#feb24c','#fed976',\n",
    "            '#ffeda0','#ffffcc','#a6cee3',\n",
    "            '#1f78b4','#b2df8a','#33a02c',\n",
    "            '#fb9a99','#e31a1c','#fdbf6f',\n",
    "            '#ff7f00','#cab2d6','#6a3d9a',\n",
    "            '#ffff99']\n",
    ")\n",
    "p5 = figure( tools = [Hover_tools,'pan', 'wheel_zoom','box_zoom','reset','crosshair'],\n",
    "            height=600,\n",
    "           width = 600,\n",
    "           x_range = (0,50),\n",
    "           y_range=(0,20),  \n",
    "            y_axis_label = \"3 point Made\",\n",
    "           x_axis_label = \"3 point Attempt\")\n",
    "\n",
    "p5.circle(x='y', \n",
    "         y='x',\n",
    "      size = 12,\n",
    "       # color = 'blue',\n",
    "      # size = {'field':'pts','transform':relative_size},\n",
    "       color = {'field':'tm','transform': color_mapper},\n",
    "         alpha = 1,\n",
    "         legend = 'tm',\n",
    "        source = source)\n",
    "p5.right = p5.legend\n",
    "\n",
    "\n",
    "def update(Season):\n",
    "    interactivedata = dict(\n",
    "     tm = datacom.loc[Season].Tm, \n",
    "      x = datacom.loc[Season].get('3P'),\n",
    "    y = datacom.loc[Season].get('3PA'), \n",
    "     win = datacom.loc[Season].W,\n",
    "        pts = datacom.loc[Season].PTS\n",
    "    )\n",
    "    \n",
    "    source.data = interactivedata\n",
    "    p5.title.text= \"Team 3PA vs 3PM    Year:\" + str(Season) +\"  Season:\" +str(Season)+'-'+str(int(Season)+1)\n",
    "    push_notebook()\n",
    "    \n",
    "\n",
    "# +\"-\"+ str(int(Season)+1)\n",
    "show(p5,notebook_handle=True)\n",
    "\n",
    "interact(update,\n",
    "Season = widgets.IntSlider(\n",
    "    value=1,\n",
    "    min=1980,\n",
    "    max=2018-1,\n",
    "    step=1,\n",
    "    description='Start Year:',\n",
    "    continuous_update=True,\n",
    "    orientation='Horizontal',\n",
    "    readout=True,\n",
    "    readout_format='d',\n",
    "));\n",
    "\n",
    "interact(update,\n",
    "    Season = widgets.Play( \n",
    "    value=0,\n",
    "    min=1980,\n",
    "    max=2018-1,\n",
    "    step=1,\n",
    "    disabled=False\n",
    "));"
   ]
  },
  {
   "cell_type": "markdown",
   "metadata": {
    "extensions": {
     "jupyter_dashboards": {
      "version": 1,
      "views": {
       "grid_default": {
        "col": 8,
        "height": 4,
        "hidden": false,
        "row": 137,
        "width": 4
       },
       "report_default": {
        "hidden": false
       }
      }
     }
    }
   },
   "source": [
    "<hr style=\"height:1px;border:none;color:#333;background-color:#333;\" />"
   ]
  },
  {
   "cell_type": "markdown",
   "metadata": {
    "extensions": {
     "jupyter_dashboards": {
      "version": 1,
      "views": {
       "grid_default": {
        "col": 8,
        "height": 4,
        "hidden": false,
        "row": 141,
        "width": 4
       },
       "report_default": {
        "hidden": false
       }
      }
     }
    }
   },
   "source": [
    "<a name=\"Aim2\"></a>\n",
    "# Second Aim :  Show Evidence of an more all-around playstyle in basketball\n"
   ]
  },
  {
   "cell_type": "markdown",
   "metadata": {
    "extensions": {
     "jupyter_dashboards": {
      "version": 1,
      "views": {
       "grid_default": {
        "col": 0,
        "height": 12,
        "hidden": false,
        "row": 272,
        "width": 12
       },
       "report_default": {
        "hidden": false
       }
      }
     }
    }
   },
   "source": [
    "## Weight Vs HEIGHT <a name=\"weightvsheight\"></a>\n",
    "### Notes about the graph\n",
    "- Comparing players that join the NBA \n",
    "### Axis\n",
    "- x = Height of players \n",
    "- y = Weight of players \n",
    "\n",
    "### Results \n",
    " Players are coming in taller and bigger overtime. \n",
    " You can see that players are coming more equal in size. \n",
    " Shows size shouldn't matter like before \n",
    " "
   ]
  },
  {
   "cell_type": "markdown",
   "metadata": {
    "extensions": {
     "jupyter_dashboards": {
      "version": 1,
      "views": {
       "grid_default": {
        "col": 8,
        "height": 4,
        "hidden": false,
        "row": 145,
        "width": 4
       },
       "report_default": {
        "hidden": false
       }
      }
     }
    }
   },
   "source": [
    "**Click Run Cell Below.(Refresh)*** if no reactions "
   ]
  },
  {
   "cell_type": "code",
   "execution_count": null,
   "metadata": {
    "extensions": {
     "jupyter_dashboards": {
      "version": 1,
      "views": {
       "grid_default": {
        "col": 8,
        "height": 4,
        "hidden": false,
        "row": 205,
        "width": 4
       },
       "report_default": {
        "hidden": false
       }
      }
     }
    }
   },
   "outputs": [],
   "source": [
    "from IPython.display import Javascript, display\n",
    "from ipywidgets import widgets\n",
    "\n",
    "\n",
    "def run_all(ev):\n",
    "    display(Javascript('IPython.notebook.execute_cell_range(IPython.notebook.get_selected_index()+1, IPython.notebook.get_selected_index()+2)'))\n",
    "\n",
    "button = widgets.Button(description=\"Run Cell Below\")\n",
    "button.on_click(run_all)\n",
    "display(button)"
   ]
  },
  {
   "cell_type": "code",
   "execution_count": null,
   "metadata": {
    "extensions": {
     "jupyter_dashboards": {
      "version": 1,
      "views": {
       "grid_default": {
        "col": 0,
        "height": 30,
        "hidden": false,
        "row": 284,
        "width": 7
       },
       "report_default": {
        "hidden": false
       }
      }
     }
    },
    "scrolled": false
   },
   "outputs": [],
   "source": [
    "from bokeh.models import ColumnDataSource\n",
    "from bokeh.models import HoverTool\n",
    "from bokeh.models import LinearInterpolator\n",
    "from bokeh.models import CategoricalColorMapper\n",
    "from bokeh.palettes import Set1_9\n",
    "from bokeh.plotting import figure\n",
    "from bokeh.models import Circle\n",
    "from ipywidgets import interact,interactive, fixed, interact_manual,widgets\n",
    "from bokeh.io import push_notebook,show\n",
    "\n",
    "data4 = pd.read_csv('nba-players-stats/player_data.csv',index_col=[\"yearstart\"])\n",
    "\n",
    "source = ColumnDataSource(dict( x = data4.loc[2010].weight, \n",
    "     y = data4.loc[2010].height,\n",
    "     name = data4.loc[2010].name,\n",
    "     position = data4.loc[2010].position))\n",
    "\n",
    "Hover_tools = HoverTool(tooltips = [\n",
    "    ('Cenimeter', \"@y\"),\n",
    "     ('Pounds', \"@x\"),\n",
    "    ('Player', '@name')])\n",
    "\n",
    "\n",
    "color_mapper = CategoricalColorMapper(\n",
    " factors=['PF-C', 'C-PF', 'C', 'G', 'F', 'G-SF', 'SF-G'],\n",
    " palette=['blue', 'red', 'green','grey','Purple','Black','orange'])\n",
    "\n",
    "\n",
    "p5 = figure( tools = [Hover_tools,'pan', 'wheel_zoom','box_zoom','reset','crosshair'],\n",
    "            height=600,\n",
    "           width = 600,\n",
    "           x_range = (140,250),\n",
    "           y_range=(100,400),  \n",
    "            y_axis_label = \"Weight(Pounds)\",\n",
    "           x_axis_label = \"Height(CM)\")\n",
    "\n",
    "p5.circle_cross(x='y', \n",
    "         y='x',\n",
    "          size = 7,\n",
    "       # color = 'blue',\n",
    "       color = {'field':'position','transform': color_mapper},\n",
    "         alpha = 0.4,\n",
    "         legend = 'position',\n",
    "        source = source)\n",
    "p5.right = p5.legend\n",
    "\n",
    "\n",
    "def update(yearstart):\n",
    "    interactivedata = dict(\n",
    "     x = data4.loc[yearstart].weight, \n",
    "     y = data4.loc[yearstart].height,\n",
    "     name = data4.loc[yearstart].name,\n",
    "     position = data4.loc[yearstart].position\n",
    "        \n",
    "    )\n",
    "    \n",
    "    source.data = interactivedata\n",
    "    push_notebook()\n",
    "    p5.title.text= \"HEIGHT vs WEIGHT: \" +  \"Season:\"+  str(yearstart-1) + \"-\" + str(yearstart)\n",
    "\n",
    "\n",
    "show(p5,notebook_handle=True)\n",
    "\n",
    "interact(update,\n",
    "yearstart = widgets.IntSlider(\n",
    "    value=0,\n",
    "    min=1947,\n",
    "    max=2018,\n",
    "    step=1,\n",
    "    description='Start Year:',\n",
    "    continuous_update=True,\n",
    "    orientation='Horizontal',\n",
    "    readout=True,\n",
    "    readout_format='d',\n",
    "));\n",
    "\n",
    "interact(update,\n",
    "    yearstart = widgets.Play( \n",
    "    value=0,\n",
    "    min=1947,\n",
    "    max=2018,\n",
    "    step=1,\n",
    "    disabled=False\n",
    "));\n",
    "\n"
   ]
  },
  {
   "cell_type": "markdown",
   "metadata": {
    "extensions": {
     "jupyter_dashboards": {
      "version": 1,
      "views": {
       "grid_default": {
        "col": 8,
        "height": 4,
        "hidden": false,
        "row": 149,
        "width": 4
       },
       "report_default": {
        "hidden": false
       }
      }
     }
    }
   },
   "source": [
    "<hr style=\"height:1px;border:none;color:#333;background-color:#333;\" />"
   ]
  },
  {
   "cell_type": "markdown",
   "metadata": {
    "extensions": {
     "jupyter_dashboards": {
      "version": 1,
      "views": {
       "grid_default": {
        "col": 0,
        "height": 15,
        "hidden": false,
        "row": 314,
        "width": 12
       },
       "report_default": {
        "hidden": false
       }
      }
     }
    }
   },
   "source": [
    "# 2p vs 3P <a name=\"2v3\"></a>\n",
    " \n",
    " ## Notes about the graph\n",
    "- 3p comparing the amount of shots to the 2p shots \n",
    "- After the creation of the 3 point nba, the players did not adapt to it perfectly in the beginning comparing to the 2 points since they consisten from shooting closer and dunking and anything within the line or shooting on the line. \n",
    "- It could be seent that from back then took more twos that consist of ( Layup , paint , dunks or mid range) but now it could be seen that the three point and two points are more mixed in the middle from attempts and mades. \n",
    "\n",
    "## Axis\n",
    "- x = shot attempts from 2 and 3 points \n",
    "- y = shots made from 2 and 3 points.\n",
    "\n",
    "# Results\n",
    "- Shots are almost uniform now. \n",
    "- Attempts/made from the three/Two Pointers are getting closer.\n",
    "- They are getting unifrom in 2p and 3p \n",
    " "
   ]
  },
  {
   "cell_type": "markdown",
   "metadata": {
    "extensions": {
     "jupyter_dashboards": {
      "version": 1,
      "views": {
       "grid_default": {
        "col": 8,
        "height": 4,
        "hidden": false,
        "row": 153,
        "width": 4
       },
       "report_default": {
        "hidden": false
       }
      }
     }
    }
   },
   "source": [
    "**Click Run Cell Below.(Refresh)*** if no reactions "
   ]
  },
  {
   "cell_type": "code",
   "execution_count": null,
   "metadata": {
    "extensions": {
     "jupyter_dashboards": {
      "version": 1,
      "views": {
       "grid_default": {
        "col": 8,
        "height": 4,
        "hidden": false,
        "row": 209,
        "width": 4
       },
       "report_default": {
        "hidden": false
       }
      }
     }
    }
   },
   "outputs": [],
   "source": [
    "from IPython.display import Javascript, display\n",
    "from ipywidgets import widgets\n",
    "\n",
    "\n",
    "def run_all(ev):\n",
    "    display(Javascript('IPython.notebook.execute_cell_range(IPython.notebook.get_selected_index()+1, IPython.notebook.get_selected_index()+2)'))\n",
    "\n",
    "button = widgets.Button(description=\"Run Cell Below\")\n",
    "button.on_click(run_all)\n",
    "display(button)"
   ]
  },
  {
   "cell_type": "code",
   "execution_count": null,
   "metadata": {
    "extensions": {
     "jupyter_dashboards": {
      "version": 1,
      "views": {
       "grid_default": {
        "col": 0,
        "height": 36,
        "hidden": false,
        "row": 329,
        "width": 7
       },
       "report_default": {
        "hidden": false
       }
      }
     }
    },
    "scrolled": false
   },
   "outputs": [],
   "source": [
    "from bokeh.models import ColumnDataSource\n",
    "from bokeh.models import HoverTool\n",
    "from bokeh.models import LinearInterpolator\n",
    "from bokeh.models import CategoricalColorMapper\n",
    "from bokeh.palettes import Set1_9\n",
    "from bokeh.plotting import figure\n",
    "from bokeh.models import Circle\n",
    "from ipywidgets import interact, interactive, fixed, interact_manual,widgets\n",
    "from bokeh.io import push_notebook,show\n",
    "\n",
    "\n",
    "data3 = pd.read_csv('nba-players-stats/SeasonStats1500MP3.1.csv',index_col=['Year'])\n",
    "#data3 = pd.read_csv('nba-players-stats/Seasons_Stats.csv',index_col=['Year'])\n",
    "source = ColumnDataSource(dict(\n",
    "    x = data3.loc[2010].ThreeMade,  \n",
    "    y = data3.loc[2010].ThreeAttempt,\n",
    "    Percentages = data3.loc[2010].Threepercent,\n",
    "    Player = data3.loc[2010].Player,\n",
    "    Position = data3.loc[2010].Pos,\n",
    "    Team = data3.loc[2010].Tm,\n",
    "    MP = data3.loc[2010].MP,\n",
    "    ThreeRatio = data3.loc[2010].get('3PAr'),\n",
    "    FGA= data3.loc[2010].get('FGA'),\n",
    "    TwoPointMade = data3.loc[2010].get('2P'),\n",
    "    TwoPointAttempt = data3.loc[2010].get('2PA')\n",
    "))\n",
    "\n",
    "Hover_tools = HoverTool(tooltips = [\n",
    "     #('Year', '@Year'),\n",
    "    ('FG Attempted Total/Season', \"@FGA\"),\n",
    "     ('3P Attempted/Season', \"@y\"),\n",
    "    ('3P Made/Season', '@x'),\n",
    "     ('2P Attempted/Season','@TwoPointAttempt'),\n",
    "    ('2P Made/Season','@TwoPointMade'),\n",
    "    ('Player', '@Player')])\n",
    "\n",
    "p4 = figure( tools = [Hover_tools,'pan', 'wheel_zoom','box_zoom','reset','crosshair','lasso_select','tap'],\n",
    "            height=800,\n",
    "           width = 600,\n",
    "           x_range = (-100,2000),\n",
    "           y_range=(-100,800),\n",
    "            title = \"2Points vs 3Points\",\n",
    "              x_axis_label = \"Shots Attemps \",\n",
    "           y_axis_label = \"Shots Made\"\n",
    "        )\n",
    "\n",
    "g = p4.circle(x='y', \n",
    "         y='x',\n",
    "          size = 10,\n",
    "         color = 'blue',\n",
    "         #size = {'field':'population','transform':relative_size},\n",
    "        #color = {'field': 'Position','transform': mapping_coloring},\n",
    "         alpha = 0.2,\n",
    "       legend = 'Circle : 3 pointers ',\n",
    "        source = source)\n",
    "\n",
    "p4.cross(x='TwoPointAttempt', \n",
    "         y='TwoPointMade',\n",
    "           color = 'red',\n",
    "#           width = 10,\n",
    "#           height = 10,\n",
    "          size = 10,\n",
    "#          size = {'field':'population','transform':relative_size},\n",
    "     #  color = {'field': 'Position','transform': mapping_coloring},\n",
    "         alpha = 0.7,\n",
    "         legend = 'Cross: 2 Pointers',\n",
    "        source = source)\n",
    "\n",
    "\n",
    "\n",
    "def update(Year):\n",
    "    interactivedata = dict(\n",
    "    x = data3.loc[Year].ThreeMade,  \n",
    "    y = data3.loc[Year].ThreeAttempt,\n",
    "    Percentages = data3.loc[Year].Threepercent,\n",
    "    Player = data3.loc[Year].Player,\n",
    "    Position = data3.loc[Year].Pos,\n",
    "    Team = data3.loc[Year].Tm,\n",
    "    MP = data3.loc[Year].MP,\n",
    "    ThreeRatio = data3.loc[Year].get('3PAr'),\n",
    "    FGA= data3.loc[Year].get('FGA'),\n",
    "    TwoPointMade = data3.loc[Year].get('2P'),\n",
    "    TwoPointAttempt = data3.loc[Year].get('2PA')\n",
    "    )\n",
    "    \n",
    "    source.data = interactivedata\n",
    "    p4.title.text='2Points vs 3Points'+ \"(Season:\"+  str(Year-1) + \"-\" + str(Year)+\")\"\n",
    "    push_notebook()\n",
    "    \n",
    "    \n",
    "selected_circle = Circle(fill_alpha=1, fill_color=\"blue\", line_color=None)\n",
    "nonselected_circle = Circle(line_alpha=0.1,fill_alpha=0.02,fill_color=\"grey\", line_color=\"blue\")\n",
    "\n",
    "    \n",
    "\n",
    "g.selection_glyph = selected_circle\n",
    "g.nonselection_glyph = nonselected_circle\n",
    "\n",
    "    \n",
    "    \n",
    "p4.legend.click_policy=\"hide\"\n",
    "p4.right = p4.legend\n",
    "show(p4,notebook_handle=True)\n",
    "\n",
    "interact(update,\n",
    "    Year = widgets.Play(\n",
    "    value=0,\n",
    "    min=1980,\n",
    "    max=2017,\n",
    "    step=1,\n",
    "    disabled=False\n",
    "))\n",
    "\n",
    "\n",
    "interact(update,\n",
    "    Year = widgets.IntSlider(\n",
    "    value=0,\n",
    "    min=1980,\n",
    "    max=2017,\n",
    "    step=1,\n",
    "    description='Years:',\n",
    "    continuous_update=True,\n",
    "    orientation='Horizontal',\n",
    "    readout=True,\n",
    "    readout_format='d',\n",
    "))\n",
    "\n",
    "\n",
    "interact(update,\n",
    "    Year = widgets.BoundedIntText(\n",
    "    value=0,\n",
    "    min=1980,\n",
    "    max=2017,\n",
    "    #continuous_update=True,\n",
    "    step=1,\n",
    "    description='Text:',\n",
    "    disabled=False\n",
    "))"
   ]
  },
  {
   "cell_type": "markdown",
   "metadata": {
    "extensions": {
     "jupyter_dashboards": {
      "version": 1,
      "views": {
       "grid_default": {
        "col": 7,
        "height": 4,
        "hidden": false,
        "row": 249,
        "width": 4
       },
       "report_default": {
        "hidden": false
       }
      }
     }
    }
   },
   "source": [
    "# Same Graph As Above but with  all players in the data. "
   ]
  },
  {
   "cell_type": "code",
   "execution_count": null,
   "metadata": {
    "extensions": {
     "jupyter_dashboards": {
      "version": 1,
      "views": {
       "grid_default": {
        "hidden": true
       },
       "report_default": {
        "hidden": true
       }
      }
     }
    }
   },
   "outputs": [],
   "source": [
    "from IPython.display import Javascript, display\n",
    "from ipywidgets import widgets\n",
    "\n",
    "\n",
    "def run_all(ev):\n",
    "    display(Javascript('IPython.notebook.execute_cell_range(IPython.notebook.get_selected_index()+1, IPython.notebook.get_selected_index()+2)'))\n",
    "\n",
    "button = widgets.Button(description=\"Run Cell Below\")\n",
    "button.on_click(run_all)\n",
    "display(button)"
   ]
  },
  {
   "cell_type": "code",
   "execution_count": null,
   "metadata": {
    "extensions": {
     "jupyter_dashboards": {
      "version": 1,
      "views": {
       "grid_default": {
        "col": 0,
        "height": 35,
        "hidden": false,
        "row": 489,
        "width": 9
       },
       "report_default": {
        "hidden": false
       }
      }
     }
    }
   },
   "outputs": [],
   "source": [
    "from bokeh.models import ColumnDataSource\n",
    "from bokeh.models import HoverTool\n",
    "from bokeh.models import LinearInterpolator\n",
    "from bokeh.models import CategoricalColorMapper\n",
    "from bokeh.palettes import Set1_9\n",
    "from bokeh.models import Circle\n",
    "from bokeh.plotting import figure\n",
    "from ipywidgets import interact, interactive, fixed, interact_manual,widgets\n",
    "from bokeh.io import push_notebook,show\n",
    "\n",
    "\n",
    "#data3 = pd.read_csv('nba-players-stats/SeasonStats1500MP3.1.csv',index_col=['Year'])\n",
    "data3 = pd.read_csv('nba-players-stats/Seasons_Stats.csv',index_col=['Year'])\n",
    "source = ColumnDataSource(dict(\n",
    "    x = data3.loc[2010].ThreeMade,  \n",
    "    y = data3.loc[2010].ThreeAttempt,\n",
    "    Percentages = data3.loc[2010].Threepercent,\n",
    "    Player = data3.loc[2010].Player,\n",
    "    Position = data3.loc[2010].Pos,\n",
    "    Team = data3.loc[2010].Tm,\n",
    "    MP = data3.loc[2010].MP,\n",
    "    ThreeRatio = data3.loc[2010].get('3PAr'),\n",
    "    FGA= data3.loc[2010].get('FGA'),\n",
    "    TwoPointMade = data3.loc[2010].get('2P'),\n",
    "    TwoPointAttempt = data3.loc[2010].get('2PA')\n",
    "))\n",
    "\n",
    "Hover_tools = HoverTool(tooltips = [\n",
    "     #('Year', '@Year'),\n",
    "    ('FG Attempted Total/Season', \"@FGA\"),\n",
    "     ('3P Attempted/Season', \"@y\"),\n",
    "    ('3P Made/Season', '@x'),\n",
    "     ('2P Attempted/Season','@TwoPointAttempt'),\n",
    "    ('2P Made/Season','@TwoPointMade'),\n",
    "    ('Player', '@Player')])\n",
    "\n",
    "p5 = figure( tools = [Hover_tools,'pan', 'wheel_zoom','box_zoom','reset','crosshair','lasso_select','tap'],\n",
    "            height=800,\n",
    "           width = 600,\n",
    "           x_range = (0,2000),\n",
    "           y_range=(0,800),\n",
    "            title = \"2Points vs 3Points\",\n",
    "              x_axis_label = \"Shots Attemps \",\n",
    "           y_axis_label = \"Shots Made\"\n",
    "        )\n",
    "\n",
    "g = p5.circle(x='y', \n",
    "         y='x',\n",
    "          size = 7,\n",
    "         color = 'blue',\n",
    "         #size = {'field':'population','transform':relative_size},\n",
    "        #color = {'field': 'Position','transform': mapping_coloring},\n",
    "         alpha = 0.2,\n",
    "       legend = 'Circle : 3 pointers ',\n",
    "        source = source)\n",
    "\n",
    "p5.cross(x='TwoPointAttempt', \n",
    "         y='TwoPointMade',\n",
    "           color = 'red',\n",
    "#           width = 10,\n",
    "#           height = 10,\n",
    "          size = 10,\n",
    "#          size = {'field':'population','transform':relative_size},\n",
    "     #  color = {'field': 'Position','transform': mapping_coloring},\n",
    "         alpha = 0.7,\n",
    "         legend = 'Cross: 2 Pointers',\n",
    "        source = source)\n",
    "\n",
    "def update(Year):\n",
    "    interactivedata = dict(\n",
    "    x = data3.loc[Year].ThreeMade,  \n",
    "    y = data3.loc[Year].ThreeAttempt,\n",
    "    Percentages = data3.loc[Year].Threepercent,\n",
    "    Player = data3.loc[Year].Player,\n",
    "    Position = data3.loc[Year].Pos,\n",
    "    Team = data3.loc[Year].Tm,\n",
    "    MP = data3.loc[Year].MP,\n",
    "    ThreeRatio = data3.loc[Year].get('3PAr'),\n",
    "    FGA= data3.loc[Year].get('FGA'),\n",
    "    TwoPointMade = data3.loc[Year].get('2P'),\n",
    "    TwoPointAttempt = data3.loc[Year].get('2PA')\n",
    "    )\n",
    "    \n",
    "    source.data = interactivedata\n",
    "    p5.title.text='2Points vs 3Points'+ \"(Season:\"+  str(Year-1) + \"-\" + str(Year)+\")\"\n",
    "    push_notebook()\n",
    "    \n",
    "    \n",
    "selected_circle = Circle(fill_alpha=1, fill_color=\"blue\", line_color=None)\n",
    "nonselected_circle = Circle(line_alpha=0.1,fill_alpha=0.02,fill_color=\"grey\", line_color=\"blue\")\n",
    "\n",
    "    \n",
    "\n",
    "g.selection_glyph = selected_circle\n",
    "g.nonselection_glyph = nonselected_circle\n",
    "    \n",
    "    \n",
    "    \n",
    "p5.legend.click_policy=\"hide\"\n",
    "p5.right = p5.legend\n",
    "show(p5,notebook_handle=True)\n",
    "\n",
    "interact(update,\n",
    "    Year = widgets.Play(\n",
    "    value=0,\n",
    "    min=1980,\n",
    "    max=2017,\n",
    "    step=1,\n",
    "    disabled=False\n",
    "))\n",
    "\n",
    "\n",
    "interact(update,\n",
    "    Year = widgets.IntSlider(\n",
    "    value=0,\n",
    "    min=1980,\n",
    "    max=2017,\n",
    "    step=1,\n",
    "    description='Years:',\n",
    "    continuous_update=True,\n",
    "    orientation='Horizontal',\n",
    "    readout=True,\n",
    "    readout_format='d',\n",
    "))\n",
    "\n",
    "\n",
    "interact(update,\n",
    "    Year = widgets.BoundedIntText(\n",
    "    value=0,\n",
    "    min=1980,\n",
    "    max=2017,\n",
    "    #continuous_update=True,\n",
    "    step=1,\n",
    "    description='Text:',\n",
    "    disabled=False\n",
    "))"
   ]
  },
  {
   "cell_type": "markdown",
   "metadata": {
    "extensions": {
     "jupyter_dashboards": {
      "version": 1,
      "views": {
       "grid_default": {
        "col": 0,
        "height": 4,
        "hidden": false,
        "row": 524,
        "width": 12
       },
       "report_default": {
        "hidden": false
       }
      }
     }
    }
   },
   "source": [
    "# Display the pace of the game or speed of the game. \n",
    "\n",
    "The number of possession in a game. THis is how fast the game is. "
   ]
  },
  {
   "cell_type": "code",
   "execution_count": null,
   "metadata": {
    "extensions": {
     "jupyter_dashboards": {
      "version": 1,
      "views": {
       "grid_default": {
        "col": 0,
        "height": 20,
        "hidden": false,
        "row": 528,
        "width": 12
       },
       "report_default": {
        "hidden": false
       }
      }
     }
    }
   },
   "outputs": [],
   "source": [
    "import pandas as pd\n",
    "from bokeh.models import ColumnDataSource\n",
    "from bokeh.models import HoverTool\n",
    "from bokeh.models import LinearInterpolator\n",
    "from bokeh.models import CategoricalColorMapper\n",
    "from bokeh.io import show \n",
    "from bokeh.models import Circle\n",
    "from bokeh.plotting import figure\n",
    "from bokeh.palettes import Set1_9\n",
    "from bokeh.io import output_notebook\n",
    "output_notebook()\n",
    "\n",
    "data = pd.read_csv('nba-players-stats/seasonpace.csv',index_col=\"Rk\")\n",
    "\n",
    "source  = ColumnDataSource(dict(\n",
    "    G = data.G,\n",
    "    pace = data.Pace,\n",
    "    seasont = data.Seasonplus,\n",
    "    season = data.Season,\n",
    "    ht = data.Height,\n",
    "    wt = data.Wt,\n",
    "    Times = data.Times,\n",
    "    PTS = data.PTS\n",
    "))\n",
    "\n",
    "mapping_coloring = CategoricalColorMapper(\n",
    "    factors = list(data.Times.unique()),\n",
    "    palette = ['red', 'blue', 'orange','pink', 'purple']\n",
    ")\n",
    "\n",
    "relative_size = LinearInterpolator(\n",
    "    x = [data.PTS.min(),data.PTS.max()],\n",
    "    y = [1,35]\n",
    ")\n",
    "\n",
    "Hover_tool = HoverTool(tooltips = [\n",
    "    ('Points per Season','@PTS'),\n",
    "    ('Pace','@pace'),\n",
    "     ('Height', '@ht'),\n",
    "    ('Weight', \"@wt\"),\n",
    "     ('Season', \"@seasont\")\n",
    "])\n",
    "\n",
    "p = figure( tools = [Hover_tool,'pan', 'wheel_zoom','box_zoom','reset','crosshair','lasso_select','tap'],\n",
    "            height = 500,\n",
    "           width = 800,\n",
    "           x_range = (1970,2020),\n",
    "           y_range=(50,150),\n",
    "           title = \"Pace Per Season\",\n",
    "          x_axis_label = \"Year\",\n",
    "           y_axis_label = \"Pace\",\n",
    "          toolbar_location=\"right\")\n",
    "\n",
    "p.circle_x(x = 'season',\n",
    "         y = 'pace',\n",
    "         size = {'field':'PTS','transform':relative_size},\n",
    "          color = {'field': 'Times','transform': mapping_coloring},\n",
    "         alpha = 0.4,\n",
    "         legend = 'Times',\n",
    "         source = source)\n",
    "p.line(x = 'season',\n",
    "         y = 'pace',\n",
    "         #size = {'field':'ThreeMAvgPerGame','transform':relative_size},\n",
    "       #color = {'field': 'Times','transform': mapping_coloring},\n",
    "         alpha = 0.4,\n",
    "        legend = 'Times',\n",
    "         source = source)\n",
    "p.right = p.legend\n",
    "\n",
    "show(p)"
   ]
  },
  {
   "cell_type": "markdown",
   "metadata": {
    "extensions": {
     "jupyter_dashboards": {
      "version": 1,
      "views": {
       "grid_default": {
        "col": 8,
        "height": 4,
        "hidden": false,
        "row": 185,
        "width": 4
       },
       "report_default": {
        "hidden": false
       }
      }
     }
    }
   },
   "source": [
    "<a name=\"Aim3\"></a>\n",
    "\n",
    " \n",
    "# Aim 3: Investigate statistics that  makes a player great and evidence on why they are great in their own duration."
   ]
  },
  {
   "cell_type": "markdown",
   "metadata": {
    "extensions": {
     "jupyter_dashboards": {
      "version": 1,
      "views": {
       "grid_default": {
        "col": 0,
        "height": 11,
        "hidden": false,
        "row": 365,
        "width": 12
       },
       "report_default": {
        "hidden": false
       }
      }
     }
    }
   },
   "source": [
    " <a name=\"ComparingPlayersStats\"></a>\n",
    "\n",
    "# Players\n",
    "    - Kobe Bryant\n",
    "    - Micheal Jordan \n",
    "    - LeBron James \n",
    "    - Magic Johnson \n",
    "        - Dominated in Assists \n",
    "    - Kareem Abdul-Jabbar\n",
    "    - Steph Curry \n",
    "        - Dominated in three point made\n",
    "    - Wilt chamberlin\n",
    "        - Dominated in points \n",
    "        - Dominated in Rebounds \n",
    "        - Dominated in two point field goals ( no three points in its years) \n",
    "    \n",
    "    \n",
    "### Compare Totals of entire Season and Per Game of Entire Season\n",
    "\n",
    "    "
   ]
  },
  {
   "cell_type": "code",
   "execution_count": null,
   "metadata": {
    "extensions": {
     "jupyter_dashboards": {
      "version": 1,
      "views": {
       "grid_default": {
        "hidden": true
       },
       "report_default": {
        "hidden": true
       }
      }
     }
    }
   },
   "outputs": [],
   "source": [
    "import pandas as pd\n",
    "from bokeh.models import ColumnDataSource\n",
    "from bokeh.models import HoverTool\n",
    "from bokeh.models import LinearInterpolator\n",
    "from bokeh.models import CategoricalColorMapper\n",
    "from bokeh.io import show \n",
    "from bokeh.models import Circle\n",
    "from bokeh.plotting import figure\n",
    "from bokeh.palettes import Set1_9\n",
    "\n",
    "datakb = pd.read_csv('nba-players-stats/KobeBryant.csv',index_col=[\"Rank\"])\n",
    "datasc = pd.read_csv('nba-players-stats/SC.csv',index_col=[\"Rank\"])\n",
    "datamj = pd.read_csv('nba-players-stats/MJ.csv',index_col=[\"Rank\"])\n",
    "datawc = pd.read_csv('nba-players-stats/WC.csv',index_col=[\"Rank\"])\n",
    "datalbj = pd.read_csv('nba-players-stats/lbj.csv',index_col=[\"Rank\"])\n",
    "datamagic = pd.read_csv('nba-players-stats/JohnsonMagic.csv',index_col=[\"Rank\"])\n",
    "datacaptain = pd.read_csv('nba-players-stats/KAJ.csv',index_col=[\"Rank\"])\n",
    "\n",
    "kb24 = \"Kobe Bryant(SG)\"\n",
    "mj23= \"Micheal Jordan (SG)\"\n",
    "lbj23=\"LeBron James(SF)\"\n",
    "mj32=\"Magic Johnson(PG)\"\n",
    "cap30= \"Kareem Abdul-Jabbar(C)\"\n",
    "sc30 = \"Steph Curry(PG)\" \n",
    "wil = \"Wilt Chamberlin(C)\"\n",
    "a = \"Average Stats of Stats\"\n",
    "\n",
    "\n",
    "c_p =\"purple\"\n",
    "c_g =\"gold\"\n",
    "c_s =\"Silver\"\n",
    "c_r =\"Red\"\n",
    "c_b =\"black\"\n",
    "c_o =\"Orange\"\n",
    "c_m =\"Pink\"\n",
    "\n",
    "\n",
    "PTS = [10.3, 10.2, 11.6, 11.3, 13.3,11.0,11.0]\n",
    "rebound = [4.0,4.3,4.5,4.4,5.4,5.8,5.4]\n",
    "threepointm = [1.6,0.5,0,0.1,0,0,0.8]\n",
    "Year = [2018, 2000, 1980, 1990, 1970,1960,2010]\n",
    "assist = [2.0,2.1,2.6,2.2,2.8,2.3,2.2]\n",
    "twopointm = [2.6,3.5,4.7,4.4,5.0,4.1,3.5]\n",
    "\n",
    "#2018-PTS(10.3)-Rebound(4.0)-Threepointmade(1.6)-Assist(2.0)-Twopointm(2.6)\n",
    "#2000-PTS(10.2)-Rebound(4.3)-Threepointmade(0.5)-Assist(2.1)-Twopointm(3.5)\n",
    "#1980-PTS(11.6)-Rebound(4.5)-Threepointmade(0)-Assist(2.6)-Twopointm(4.7)\n",
    "#1990-PTS(11.3)-Rebound(4.4)-Threepointmade(0.1)-Assist(2.2)-Twopointm(4.4)\n",
    "#1960-PTS(11.0)-Rebound(5.8)-Threepointmade(0)-Assist(2.3)-Twopointm(4.1)\n",
    "#1970-PTS(13.3)-Rebound(5.4)-Threepointmade(0)-Assist(2.8)-Twopointm(5.0)\n",
    "#2010-PTS(11.0)-Rebound(4.0)-Threepointmade(0.8)-Assist(2.2)-Twopointm(3.5)\n",
    "\n",
    "########################################################################################################################\n",
    "\n",
    "source  = ColumnDataSource(dict(\n",
    "    x = datakb.Season,\n",
    "    y = datakb.PTS,\n",
    "    name = datakb.Name,\n",
    "    Team = datakb.Tm,\n",
    "     assist = datakb.AST,\n",
    "     rebound  = datakb.TRB,\n",
    "     threepointm = datakb.get('3P'),\n",
    "     twopointm = datakb.get('2P')\n",
    "))\n",
    "sourceSC  = ColumnDataSource(dict(\n",
    "    x = datasc.Season,\n",
    "    y = datasc.PTS,\n",
    "    name = datasc.Name,\n",
    "      Team = datasc.Tm,\n",
    "     assist = datasc.AST,\n",
    "     rebound  = datasc.TRB,\n",
    "    threepointm = datasc.get('3P'),\n",
    "    twopointm = datasc.get('2P')\n",
    "))\n",
    "\n",
    "sourceWC  = ColumnDataSource(dict(\n",
    "    x = datawc.Season,\n",
    "    y = datawc.PTS,\n",
    "    name = datawc.Name,\n",
    "      Team = datawc.Tm,\n",
    "    assist = datawc.AST,\n",
    "    rebound  = datawc.TRB,\n",
    "    twopointm = datawc.get('FG')\n",
    "    #threepointm = datawc.get('3P')\n",
    "))\n",
    "sourceMJ  = ColumnDataSource(dict(\n",
    "    x = datamj.Season,\n",
    "    y = datamj.PTS,\n",
    "    name = datamj.Name,\n",
    "      Team = datamj.Tm,\n",
    "     assist = datamj.AST,\n",
    "     rebound  = datamj.TRB,\n",
    "    threepointm = datamj.get('3P'),\n",
    "    twopointm = datamj.get('2P')\n",
    "))\n",
    "sourceLBJ  = ColumnDataSource(dict(\n",
    "    x = datalbj.Season,\n",
    "    y = datalbj.PTS,\n",
    "    name = datalbj.Name,\n",
    "      Team = datalbj.Tm,\n",
    "     assist = datalbj.AST,\n",
    "     rebound  = datalbj.TRB,\n",
    "    threepointm = datalbj.get('3P'),\n",
    "    twopointm = datalbj.get('2P')\n",
    "))\n",
    "sourcemagic  = ColumnDataSource(dict(\n",
    "    x =datamagic.Season,\n",
    "    y = datamagic.PTS,\n",
    "    name = datamagic.Name,\n",
    "    Team = datamagic.Tm,\n",
    "     assist = datamagic.AST,\n",
    "     rebound  = datamagic.TRB,\n",
    "    threepointm = datamagic.get('3P'),\n",
    "    twopointm = datamagic.get('2P')\n",
    "))\n",
    "sourcecaptain = ColumnDataSource(dict(\n",
    "    x =datacaptain.Season,\n",
    "    y = datacaptain.PTS,\n",
    "    name = datacaptain.Name,\n",
    "    Team = datacaptain.Tm,\n",
    "     assist = datacaptain.AST,\n",
    "     rebound  = datacaptain.TRB,\n",
    "    threepointm = datacaptain.get('3P'),\n",
    "    twopointm = datacaptain.get('2P')\n",
    "))\n",
    "\n",
    "\n",
    "Hover_tool = HoverTool(tooltips = [\n",
    "     ('Season', '@x'),\n",
    "    ('Name','@name'),\n",
    "    ('Point Per Game','@y'),\n",
    "    ('Team','@Team')\n",
    "    \n",
    "])\n",
    "\n",
    "pPointsPerGame = figure( tools = [Hover_tool,'pan', 'wheel_zoom','box_zoom','reset','crosshair'],\n",
    "            height = 500,\n",
    "           width = 1000,\n",
    "           x_range = (1955,2019),\n",
    "           y_range=(0,60),\n",
    "           title = \"Point Per Game From Each Player\",\n",
    "          x_axis_label = \"Year Season\",\n",
    "           y_axis_label = \"Point Per Game\",\n",
    "          toolbar_location=\"left\")\n",
    "\n",
    "\n",
    "pPointsPerGame.line(x = 'x',\n",
    "         y = 'y',\n",
    "        line_color = c_p,\n",
    "        line_width=3,\n",
    "        legend=kb24,\n",
    "        muted_alpha=0.2,\n",
    "        muted_color=c_p,\n",
    "         source = source)\n",
    "\n",
    "\n",
    "pPointsPerGame.line(x = 'x',\n",
    "         y = 'y',\n",
    "          line_color = c_g,\n",
    "        line_width=3,\n",
    "        legend=sc30,\n",
    "        muted_alpha=0.2,\n",
    "        muted_color=c_g,\n",
    "         source = sourceSC)\n",
    "\n",
    "pPointsPerGame.line(x = 'x',\n",
    "         y = 'y',\n",
    "        line_width=3,\n",
    "         legend=wil,\n",
    "        line_color = c_s,\n",
    "        muted_alpha=0.2,\n",
    "        muted_color=c_s,\n",
    "         source = sourceWC)\n",
    "\n",
    "pPointsPerGame.line(x = 'x',\n",
    "         y = 'y',\n",
    "        line_width=3,\n",
    "         legend=mj23,\n",
    "        line_color = c_r,\n",
    "        muted_alpha=0.2,\n",
    "        muted_color=c_r,\n",
    "         source = sourceMJ)\n",
    "\n",
    "pPointsPerGame.line(x = 'x',\n",
    "         y = 'y',\n",
    "        line_width=3,\n",
    "        legend=lbj23,\n",
    "        line_color = c_b,\n",
    "        muted_alpha=0.2,\n",
    "        muted_color=c_b,\n",
    "        source = sourceLBJ)\n",
    "\n",
    "pPointsPerGame.line(x = 'x',\n",
    "         y = 'y',\n",
    "        line_width=3,\n",
    "        legend=mj32,\n",
    "        line_color = c_o,\n",
    "         muted_alpha=0.2,\n",
    "        muted_color=c_o,           \n",
    "         source = sourcemagic)\n",
    "\n",
    "pPointsPerGame.line(x = 'x',\n",
    "         y = 'y',\n",
    "        line_width=3,\n",
    "        legend=cap30,\n",
    "        line_color = c_m,\n",
    "          muted_alpha=0.2,\n",
    "        muted_color=c_m,          \n",
    "         source = sourcecaptain)\n",
    "\n",
    "\n",
    "##############################################################################################################\n",
    "# Assists\n",
    "\n",
    "Hover_toolA = HoverTool(tooltips = [\n",
    "     ('Season', '@x'),\n",
    "    ('Name','@name'),\n",
    "  #  ('Point Per Game','@y'),\n",
    "    ('Team','@Team'),\n",
    "    ('Assists','@assist')\n",
    "])\n",
    "passistsPerGame = figure( tools = [Hover_toolA,'pan', 'wheel_zoom','reset'],\n",
    "            height = 500,\n",
    "           width = 1000,\n",
    "           x_range = (1955,2019),\n",
    "           y_range=(0,15),\n",
    "           title = \"Assists Per Game\",\n",
    "          x_axis_label = \"Year Season\",\n",
    "           y_axis_label = \"Assits Per Game\",\n",
    "          toolbar_location=\"left\")\n",
    "\n",
    "passistsPerGame.line(x = 'x',\n",
    "         y = 'assist',\n",
    "         line_color = c_p,\n",
    "        line_width=3,\n",
    "        legend=kb24,\n",
    "        muted_alpha=0.2,\n",
    "        muted_color=c_p,\n",
    "         source = source)\n",
    "\n",
    "passistsPerGame.line(x = 'x',\n",
    "         y = 'assist',\n",
    "  line_color = c_g,\n",
    "        line_width=3,\n",
    "        legend=sc30,\n",
    "        muted_alpha=0.2,\n",
    "        muted_color=c_g,\n",
    "         source = sourceSC)\n",
    "\n",
    "passistsPerGame.line(x = 'x',\n",
    "         y = 'assist',\n",
    "        line_width=3,\n",
    "         legend=wil,\n",
    "        line_color = c_s,\n",
    "        muted_alpha=0.2,\n",
    "        muted_color=c_s,\n",
    "         source = sourceWC)\n",
    "\n",
    "passistsPerGame.line(x = 'x',\n",
    "         y = 'assist',\n",
    "        line_width=3,\n",
    "         legend=mj23,\n",
    "        line_color = c_r,\n",
    "        muted_alpha=0.2,\n",
    "        muted_color=c_r,\n",
    "         source = sourceMJ)\n",
    "\n",
    "passistsPerGame.line(x = 'x',\n",
    "         y = 'assist',\n",
    "        line_width=3,\n",
    "        legend=lbj23,\n",
    "        line_color = c_b,\n",
    "        muted_alpha=0.2,\n",
    "        muted_color=c_b,\n",
    "         source = sourceLBJ)\n",
    "\n",
    "passistsPerGame.line(x = 'x',\n",
    "         y = 'assist',\n",
    "        line_width=3,\n",
    "        legend=mj32,\n",
    "        line_color = c_o,\n",
    "         muted_alpha=0.2,\n",
    "        muted_color=c_o,  \n",
    "         source = sourcemagic)\n",
    "\n",
    "passistsPerGame.line(x = 'x',\n",
    "         y = 'assist',\n",
    "        line_width=3,\n",
    "        legend=cap30,\n",
    "        line_color = c_m,\n",
    "          muted_alpha=0.2,\n",
    "        muted_color=c_m,   \n",
    "         source = sourcecaptain)\n",
    "##############################################################################################################\n",
    "# Rebounds\n",
    "Hover_toolA = HoverTool(tooltips = [\n",
    "     ('Season', '@x'),\n",
    "    ('Name','@name'),\n",
    "    #('Point Per Game','@y'),\n",
    "    ('Team','@Team'),\n",
    "    ('Rebound','@rebound')\n",
    "])\n",
    "\n",
    "preboundPerGame = figure( tools = [Hover_toolA,'pan', 'wheel_zoom','reset'],\n",
    "            height = 500,\n",
    "           width = 1000,\n",
    "           x_range = (1955,2019),\n",
    "           y_range=(0,30),\n",
    "           title = \"Rebound Per Game\",\n",
    "          x_axis_label = \"Year Season\",\n",
    "           y_axis_label = \"Rebound Per Game\",\n",
    "          toolbar_location=\"left\")\n",
    "\n",
    "preboundPerGame.line(x = 'x',\n",
    "         y = 'rebound',\n",
    " line_color = c_p,\n",
    "        line_width=3,\n",
    "        legend=kb24,\n",
    "        muted_alpha=0.2,\n",
    "        muted_color=c_p,\n",
    "         source = source)\n",
    "\n",
    "preboundPerGame.line(x = 'x',\n",
    "         y = 'rebound',\n",
    "  line_color = c_g,\n",
    "        line_width=3,\n",
    "        legend=sc30,\n",
    "        muted_alpha=0.2,\n",
    "        muted_color=c_g,\n",
    "         source = sourceSC)\n",
    "\n",
    "preboundPerGame.line(x = 'x',\n",
    "         y = 'rebound',\n",
    "        line_width=3,\n",
    "         legend=wil,\n",
    "        line_color = c_s,\n",
    "        muted_alpha=0.2,\n",
    "        muted_color=c_s,\n",
    "         source = sourceWC)\n",
    "\n",
    "preboundPerGame.line(x = 'x',\n",
    "         y = 'rebound',\n",
    "        line_width=3,\n",
    "         legend=mj23,\n",
    "        line_color = c_r,\n",
    "        muted_alpha=0.2,\n",
    "        muted_color=c_r,\n",
    "         source = sourceMJ)\n",
    "\n",
    "preboundPerGame.line(x = 'x',\n",
    "        y = 'rebound',\n",
    "        line_width=3,\n",
    "        legend=lbj23,\n",
    "        line_color = c_b,\n",
    "        muted_alpha=0.2,\n",
    "        muted_color=c_b,\n",
    "         source = sourceLBJ)\n",
    "\n",
    "preboundPerGame.line(x = 'x',\n",
    "         y = 'rebound',\n",
    "        line_width=3,\n",
    "        legend=mj32,\n",
    "        line_color = c_o,\n",
    "         muted_alpha=0.2,\n",
    "        muted_color=c_o,  \n",
    "         source = sourcemagic)\n",
    "\n",
    "preboundPerGame.line(x = 'x',\n",
    "         y = 'rebound',\n",
    "        line_width=3,\n",
    "        legend=cap30,\n",
    "        line_color = c_m,\n",
    "          muted_alpha=0.2,\n",
    "        muted_color=c_m,   \n",
    "         source = sourcecaptain)\n",
    "\n",
    "##############################################################################################################\n",
    "#Three Pointer\n",
    "Hover_toolC = HoverTool(tooltips = [\n",
    "     ('Season', '@x'),\n",
    "    ('Name','@name'),\n",
    "    #('Point Per Game','@y'),\n",
    "    ('Team','@Team'),\n",
    "    ('Three Pointers','@threepointm')\n",
    "])\n",
    "\n",
    "prethreePerGame = figure( tools = [Hover_toolC,'pan', 'wheel_zoom','reset'],\n",
    "            height = 500,\n",
    "           width = 1000,\n",
    "           x_range = (1955,2019),\n",
    "           y_range=(-1,10),\n",
    "           title = \"Three Made Per Game\",\n",
    "          x_axis_label = \"Year Season\",\n",
    "           y_axis_label = \"Rebound Per Game\",\n",
    "          toolbar_location=\"left\")\n",
    "\n",
    "prethreePerGame.line(x = 'x',\n",
    "         y = 'threepointm',\n",
    "         line_color = c_p,\n",
    "        line_width=3,\n",
    "        legend=kb24,\n",
    "        muted_alpha=0.2,\n",
    "        muted_color=c_p,\n",
    "         source = source)\n",
    "\n",
    "prethreePerGame.line(x = 'x',\n",
    "         y = 'threepointm',\n",
    "  line_color = c_g,\n",
    "        line_width=3,\n",
    "        legend=sc30,\n",
    "        muted_alpha=0.2,\n",
    "        muted_color=c_g,\n",
    "         source = sourceSC)\n",
    "\n",
    "\n",
    "prethreePerGame.line(x = 'x',\n",
    "         y = 'threepointm',\n",
    "        line_width=3,\n",
    "         legend=mj23,\n",
    "        line_color = c_r,\n",
    "        muted_alpha=0.2,\n",
    "        muted_color=c_r,\n",
    "         source = sourceMJ)\n",
    "\n",
    "prethreePerGame.line(x = 'x',\n",
    "        y = 'threepointm',\n",
    "        line_width=3,\n",
    "        legend=lbj23,\n",
    "        line_color = c_b,\n",
    "        muted_alpha=0.2,\n",
    "        muted_color=c_b,\n",
    "         source = sourceLBJ)\n",
    "\n",
    "prethreePerGame.line(x = 'x',\n",
    "         y = 'threepointm',\n",
    "        line_width=3,\n",
    "        legend=mj32,\n",
    "        line_color = c_o,\n",
    "         muted_alpha=0.2,\n",
    "        muted_color=c_o,  \n",
    "         source = sourcemagic)\n",
    "\n",
    "prethreePerGame.line(x = 'x',\n",
    "         y = 'threepointm',\n",
    "        line_width=3,\n",
    "        legend=cap30,\n",
    "        line_color = c_m,\n",
    "          muted_alpha=0.2,\n",
    "        muted_color=c_m,   \n",
    "         source = sourcecaptain)\n",
    "\n",
    "###############################################\n",
    "#2pointer\n",
    "\n",
    "Hover_toolC = HoverTool(tooltips = [\n",
    "     ('Season', '@x'),\n",
    "    ('Name','@name'),\n",
    "   # ('Point Per Game','@y'),\n",
    "    ('Team','@Team'),\n",
    "    ('2PA','@twopointm')\n",
    "\n",
    "])\n",
    "\n",
    "pretwoPerGame = figure( tools = [Hover_toolC,'pan', 'wheel_zoom','reset'],\n",
    "            height = 500,\n",
    "           width = 1000,\n",
    "           x_range = (1955,2019),\n",
    "           y_range=(0,22),\n",
    "           title = \"Two Made Per Game\",\n",
    "          x_axis_label = \"Year Season\",\n",
    "           y_axis_label = \"Two Field Goal Made Per Game\",\n",
    "          toolbar_location=\"left\")\n",
    "\n",
    "pretwoPerGame.line(x = 'x',\n",
    "         y = 'twopointm',\n",
    "         line_color = c_p,\n",
    "        line_width=3,\n",
    "        legend=kb24,\n",
    "        muted_alpha=0.2,\n",
    "        muted_color=c_p,\n",
    "         source = source)\n",
    "\n",
    "pretwoPerGame.line(x = 'x',\n",
    "         y = 'twopointm',\n",
    "  line_color = c_g,\n",
    "        line_width=3,\n",
    "        legend=sc30,\n",
    "        muted_alpha=0.2,\n",
    "        muted_color=c_g,\n",
    "         source = sourceSC)\n",
    "\n",
    "pretwoPerGame.line(x = 'x',\n",
    "         y = 'twopointm',\n",
    "        line_width=3,\n",
    "         legend=wil,\n",
    "        line_color = c_s,\n",
    "        muted_alpha=0.2,\n",
    "        muted_color=c_s,\n",
    "         source = sourceWC)\n",
    "\n",
    "pretwoPerGame.line(x = 'x',\n",
    "         y = 'twopointm',\n",
    "        line_width=3,\n",
    "         legend=mj23,\n",
    "        line_color = c_r,\n",
    "        muted_alpha=0.2,\n",
    "        muted_color=c_r,\n",
    "         source = sourceMJ)\n",
    "\n",
    "pretwoPerGame.line(x = 'x',\n",
    "        y = 'twopointm',\n",
    "        line_width=3,\n",
    "        legend=lbj23,\n",
    "        line_color = c_b,\n",
    "        muted_alpha=0.2,\n",
    "        muted_color=c_b,\n",
    "         source = sourceLBJ)\n",
    "\n",
    "pretwoPerGame.line(x = 'x',\n",
    "         y = 'twopointm',\n",
    "        line_width=3,\n",
    "        legend=mj32,\n",
    "        line_color = c_o,\n",
    "         muted_alpha=0.2,\n",
    "        muted_color=c_o,  \n",
    "         source = sourcemagic)\n",
    "\n",
    "pretwoPerGame.line(x = 'x',\n",
    "         y = 'twopointm',\n",
    "        line_width=3,\n",
    "        legend=cap30,\n",
    "        line_color = c_m,\n",
    "          muted_alpha=0.2,\n",
    "        muted_color=c_m,   \n",
    "         source = sourcecaptain)\n",
    "\n",
    "\n",
    "\n",
    "\n",
    "\n",
    "passistsPerGame.circle( x = Year,y= assist,size=10,muted_alpha=0.2, muted_color=c_m, legend=a)\n",
    "pPointsPerGame.circle( x = Year,y= PTS,size=10,muted_alpha=0.2, muted_color=c_m,legend=a)\n",
    "preboundPerGame.circle( x = Year,y= rebound,size=10,muted_alpha=0.2, muted_color=c_m,legend=a)\n",
    "prethreePerGame.circle( x = Year,y= threepointm,size=10,muted_alpha=0.2, muted_color=c_m,\n",
    "                       legend=a)\n",
    "pretwoPerGame.circle( x = Year,y= twopointm,size=10,muted_alpha=0.2, muted_color=c_m,legend=a)\n",
    "\n",
    "\n",
    "\n"
   ]
  },
  {
   "cell_type": "code",
   "execution_count": null,
   "metadata": {
    "extensions": {
     "jupyter_dashboards": {
      "version": 1,
      "views": {
       "grid_default": {
        "col": 8,
        "height": 4,
        "hidden": false,
        "row": 213,
        "width": 4
       },
       "report_default": {
        "hidden": false
       }
      }
     }
    },
    "scrolled": true
   },
   "outputs": [],
   "source": [
    "from IPython.display import Javascript, display\n",
    "from ipywidgets import widgets\n",
    "\n",
    "\n",
    "def run_all(ev):\n",
    "    display(Javascript('IPython.notebook.execute_cell_range(IPython.notebook.get_selected_index()+1, IPython.notebook.get_selected_index()+2)'))\n",
    "\n",
    "button = widgets.Button(description=\"Run Cell Below\")\n",
    "button.on_click(run_all)\n",
    "display(button)"
   ]
  },
  {
   "cell_type": "code",
   "execution_count": null,
   "metadata": {
    "extensions": {
     "jupyter_dashboards": {
      "version": 1,
      "views": {
       "grid_default": {
        "col": 0,
        "height": 21,
        "hidden": false,
        "row": 376,
        "width": 11
       },
       "report_default": {
        "hidden": false
       }
      }
     }
    },
    "scrolled": false
   },
   "outputs": [],
   "source": [
    "pPointsPerGame.legend.click_policy='mute'\n",
    "passistsPerGame.legend.click_policy='mute'\n",
    "preboundPerGame.legend.click_policy='mute'\n",
    "prethreePerGame.legend.click_policy='mute'\n",
    "pretwoPerGame.legend.click_policy ='mute'\n",
    "\n",
    "\n",
    "pPointsPerGame.right = pPointsPerGame.legend\n",
    "passistsPerGame.right = passistsPerGame.legend\n",
    "preboundPerGame.right = preboundPerGame.legend\n",
    "prethreePerGame.right = prethreePerGame.legend\n",
    "pretwoPerGame.right = pretwoPerGame.legend\n",
    "\n",
    "from bokeh.models.widgets import Panel, Tabs\n",
    "tab1 = Panel(child=pPointsPerGame, title=\"Points Per Game\")\n",
    "tab2 = Panel(child=passistsPerGame, title=\"Assists Per Game\")\n",
    "tab3 = Panel(child=preboundPerGame, title=\"Rebound Per Game\")\n",
    "tab4 = Panel(child=prethreePerGame, title= \"Three Made Per Game\")\n",
    "tab5 = Panel(child=pretwoPerGame, title= \"Two Made Per Game\")\n",
    "layout1 = Tabs(tabs=[tab1, tab2, tab3,tab4,tab5])\n",
    "\n",
    "show(layout1)"
   ]
  },
  {
   "cell_type": "markdown",
   "metadata": {
    "extensions": {
     "jupyter_dashboards": {
      "version": 1,
      "views": {
       "grid_default": {
        "col": 8,
        "height": 4,
        "hidden": false,
        "row": 189,
        "width": 4
       },
       "report_default": {
        "hidden": false
       }
      }
     }
    }
   },
   "source": [
    "<hr style=\"height:1px;border:none;color:#333;background-color:#333;\" hr>"
   ]
  },
  {
   "cell_type": "markdown",
   "metadata": {
    "extensions": {
     "jupyter_dashboards": {
      "version": 1,
      "views": {
       "grid_default": {
        "col": 0,
        "height": 4,
        "hidden": false,
        "row": 548,
        "width": 12
       },
       "report_default": {
        "hidden": false
       }
      }
     }
    }
   },
   "source": [
    "# Why Warriors (current NBA champion team) is the best current/historic team ? \n"
   ]
  },
  {
   "cell_type": "code",
   "execution_count": null,
   "metadata": {
    "extensions": {
     "jupyter_dashboards": {
      "version": 1,
      "views": {
       "grid_default": {
        "hidden": true
       },
       "report_default": {
        "hidden": true
       }
      }
     }
    },
    "scrolled": false
   },
   "outputs": [],
   "source": [
    "\n",
    "import pandas as pd\n",
    "from bokeh.models import ColumnDataSource\n",
    "from bokeh.models import HoverTool\n",
    "from bokeh.models import LinearInterpolator\n",
    "from bokeh.models import CategoricalColorMapper\n",
    "from bokeh.io import show \n",
    "from bokeh.models import Circle\n",
    "from bokeh.plotting import figure\n",
    "from bokeh.palettes import Set1_9\n",
    "from bokeh.io import output_notebook\n",
    "output_notebook()\n",
    "\n",
    "\n",
    "\n",
    "datalakers = pd.read_csv('nba-players-stats/LakersOF.csv',index_col=[\"Rank\"])\n",
    "datawarriors = pd.read_csv('nba-players-stats/WarriorsOF.csv',index_col=[\"Rank\"])\n",
    "#datawarriorschamp = pd.read_csv('nba-players-stats/WarriorsChamp.csv',index_col=[\"Rank\"])\n",
    "datarockets = pd.read_csv('nba-players-stats/RocketsOF.csv',index_col=[\"Rank\"])\n",
    "databoston = pd.read_csv('nba-players-stats/BostonOF.csv',index_col=[\"Rank\"])\n",
    "databull = pd.read_csv('nba-players-stats/ChicagoBullsOF.csv',index_col=[\"Rank\"])\n",
    "datapiston = pd.read_csv('nba-players-stats/detOF.csv',index_col=[\"Rank\"])\n",
    "databuck = pd.read_csv('nba-players-stats/BuckOF.csv',index_col=[\"Rank\"])\n",
    "datacle = pd.read_csv('nba-players-stats/CleOF.csv',index_col=[\"Rank\"])\n",
    "datawash = pd.read_csv('nba-players-stats/washOF.csv',index_col=[\"Rank\"])\n",
    "dataatl = pd.read_csv('nba-players-stats/atlOF.csv',index_col=[\"Rank\"])\n",
    "datanyk = pd.read_csv('nba-players-stats/nykOF.csv',index_col=[\"Rank\"])\n",
    "dataokc = pd.read_csv('nba-players-stats/okcOF.csv',index_col=[\"Rank\"])\n",
    "dataheat = pd.read_csv('nba-players-stats/HeatOF.csv',index_col=[\"Rank\"])\n",
    "dataspurs = pd.read_csv('nba-players-stats/SpursOF.csv',index_col=[\"Rank\"])\n",
    "datasixer = pd.read_csv('nba-players-stats/sixerOF.csv',index_col=[\"Rank\"])\n",
    "datakings = pd.read_csv('nba-players-stats/kingsOF.csv',index_col=[\"Rank\"])\n",
    "##\n",
    "datawarriorsC = pd.read_csv('nba-players-stats/WarriorsOF1.csv',index_col=[\"Rank\"])\n",
    "datawarriorschamp = pd.read_csv('nba-players-stats/WarriorsChamp.csv',index_col=[\"Rank\"])\n",
    "datarocketsC = pd.read_csv('nba-players-stats/RocketsOF1.csv',index_col=[\"Rank\"])\n",
    "databostonC = pd.read_csv('nba-players-stats/BostonOF1.csv',index_col=[\"Rank\"])\n",
    "databullC = pd.read_csv('nba-players-stats/ChicagoBullsOF1.csv',index_col=[\"Rank\"])\n",
    "datapistonC = pd.read_csv('nba-players-stats/detOF1.csv',index_col=[\"Rank\"])\n",
    "databuckC = pd.read_csv('nba-players-stats/BuckOF1.csv',index_col=[\"Rank\"])\n",
    "datacleC = pd.read_csv('nba-players-stats/CleOF1.csv',index_col=[\"Rank\"])\n",
    "datawashC = pd.read_csv('nba-players-stats/washOF1.csv',index_col=[\"Rank\"])\n",
    "dataatlC = pd.read_csv('nba-players-stats/atlOF1.csv',index_col=[\"Rank\"])\n",
    "datanykC = pd.read_csv('nba-players-stats/nykOF1.csv',index_col=[\"Rank\"])\n",
    "dataokcC = pd.read_csv('nba-players-stats/okcOF1.csv',index_col=[\"Rank\"])\n",
    "dataheatC = pd.read_csv('nba-players-stats/HeatOF1.csv',index_col=[\"Rank\"])\n",
    "dataspursC = pd.read_csv('nba-players-stats/SpursOF1.csv',index_col=[\"Rank\"])\n",
    "datasixerC = pd.read_csv('nba-players-stats/sixerOF1.csv',index_col=[\"Rank\"])\n",
    "datakingsC = pd.read_csv('nba-players-stats/kingsOF1.csv',index_col=[\"Rank\"])\n",
    "datalakersChamps = pd.read_csv('nba-players-stats/LakersOF1.csv',index_col=[\"Rank\"])\n",
    "\n",
    "\n",
    "\n",
    "\n",
    "lakers  = ColumnDataSource(dict(\n",
    "    y = datalakers.PTS,  \n",
    "    x = datalakers.Season,\n",
    "    wins = datalakers.W,\n",
    "    team = datalakers.Tm,\n",
    "    a = datalakers.AST\n",
    "))\n",
    "lakersChamps  = ColumnDataSource(dict(\n",
    "    y = datalakersChamps.PTS,  \n",
    "    x = datalakersChamps.Season,\n",
    "    wins = datalakersChamps.W,\n",
    "    team = datalakersChamps.Tm,\n",
    "    a = datalakersChamps.AST\n",
    "))\n",
    "\n",
    "warriors  = ColumnDataSource(dict(\n",
    "    y = datawarriors.PTS,  \n",
    "    x = datawarriors.Season,\n",
    "    wins = datawarriors.W,\n",
    "    team = datawarriors.Tm,\n",
    "    a = datawarriors.AST\n",
    "))\n",
    "warriorschamp = ColumnDataSource(dict(\n",
    "    y = datawarriorschamp.PTS,  \n",
    "    x = datawarriorschamp.Season,\n",
    "    wins = datawarriorschamp.W,\n",
    "    team = datawarriorschamp.Tm,\n",
    "    a = datawarriorschamp.AST\n",
    "))\n",
    "warriorsC = ColumnDataSource(dict(\n",
    "    y = datawarriorsC.PTS,  \n",
    "    x = datawarriorsC.Season,\n",
    "    wins = datawarriorsC.W,\n",
    "    team = datawarriorsC.Tm,\n",
    "     a = datawarriorsC.AST\n",
    "))\n",
    "rockets = ColumnDataSource(dict(\n",
    "    y = datarockets.PTS,  \n",
    "    x = datarockets.Season,\n",
    "    wins = datarockets.W,\n",
    "    team = datarockets.Tm,\n",
    "     a = datarockets.AST\n",
    ")) \n",
    "rocketsC = ColumnDataSource(dict(\n",
    "    y = datarocketsC.PTS,  \n",
    "    x = datarocketsC.Season,\n",
    "    wins = datarocketsC.W,\n",
    "    team = datarocketsC.Tm,\n",
    "     a = datarocketsC.AST\n",
    ")) \n",
    "\n",
    "boston = ColumnDataSource(dict(\n",
    "    y = databoston.PTS,  \n",
    "    x = databoston.Season,\n",
    "    wins = databoston.W,\n",
    "    team = databoston.Tm,\n",
    "     a = databoston.AST\n",
    "))\n",
    "bostonC = ColumnDataSource(dict(\n",
    "    y = databostonC.PTS,  \n",
    "    x = databostonC.Season,\n",
    "    wins = databostonC.W,\n",
    "    team = databostonC.Tm,\n",
    "     a = databostonC.AST\n",
    "))\n",
    "bull= ColumnDataSource(dict(\n",
    "    y = databull.PTS,  \n",
    "    x = databull.Season,\n",
    "    wins = databull.W,\n",
    "    team = databull.Tm,\n",
    "     a = databull.AST\n",
    "))\n",
    "bullC= ColumnDataSource(dict(\n",
    "    y = databullC.PTS,  \n",
    "    x = databullC.Season,\n",
    "    wins = databullC.W,\n",
    "    team = databullC.Tm,\n",
    "     a = databullC.AST\n",
    "))\n",
    "piston = ColumnDataSource(dict(\n",
    "    y = datapiston.PTS,  \n",
    "    x = datapiston.Season,\n",
    "     wins = datapiston.W,\n",
    "    team = datapiston.Tm,\n",
    "     a = datapiston.AST\n",
    "))\n",
    "pistonC = ColumnDataSource(dict(\n",
    "    y = datapistonC.PTS,  \n",
    "    x = datapistonC.Season,\n",
    "     wins = datapistonC.W,\n",
    "    team = datapistonC.Tm,\n",
    "     a = datapistonC.AST\n",
    "))\n",
    "buck= ColumnDataSource(dict(\n",
    "    y = databuck.PTS,  \n",
    "    x = databuck.Season,\n",
    "     wins = databuck.W,\n",
    "    team = databuck.Tm,\n",
    "     a = databuck.AST\n",
    "))\n",
    "buckC= ColumnDataSource(dict(\n",
    "    y = databuckC.PTS,  \n",
    "    x = databuckC.Season,\n",
    "     wins = databuckC.W,\n",
    "    team = databuckC.Tm,\n",
    "     a = databuckC.AST\n",
    "))\n",
    "cle= ColumnDataSource(dict(\n",
    "    y = datacle.PTS,  \n",
    "    x = datacle.Season,\n",
    "     wins = datacle.W,\n",
    "    team = datacle.Tm,\n",
    "     a = datacle.AST\n",
    "))\n",
    "cleC= ColumnDataSource(dict(\n",
    "    y = datacleC.PTS,  \n",
    "    x = datacleC.Season,\n",
    "     wins = datacleC.W,\n",
    "    team = datacleC.Tm,\n",
    "     a = datacleC.AST\n",
    "))\n",
    "wash= ColumnDataSource(dict(\n",
    "    y = datawash.PTS,  \n",
    "    x = datawash.Season,\n",
    "     wins = datawash.W,\n",
    "    team = datawash.Tm,\n",
    "     a = datawash.AST\n",
    "))\n",
    "washC= ColumnDataSource(dict(\n",
    "    y = datawashC.PTS,  \n",
    "    x = datawashC.Season,\n",
    "     wins = datawashC.W,\n",
    "    team = datawashC.Tm,\n",
    "     a = datawashC.AST\n",
    "))\n",
    "atl= ColumnDataSource(dict(\n",
    "    y = dataatl.PTS,  \n",
    "    x = dataatl.Season,\n",
    "     wins = dataatl.W,\n",
    "    team = dataatl.Tm,\n",
    "     a = dataatl.AST\n",
    "))\n",
    "atlC= ColumnDataSource(dict(\n",
    "    y = dataatlC.PTS,  \n",
    "    x = dataatlC.Season,\n",
    "     wins = dataatlC.W,\n",
    "    team = dataatlC.Tm,\n",
    "     a = dataatlC.AST\n",
    "))\n",
    "nyk = ColumnDataSource(dict(\n",
    "    y = datanyk.PTS,  \n",
    "    x = datanyk.Season,\n",
    "     wins = datanyk.W,\n",
    "    team = datanyk.Tm,\n",
    "     a = datanyk.AST\n",
    "))\n",
    "nykC = ColumnDataSource(dict(\n",
    "    y = datanykC.PTS,  \n",
    "    x = datanykC.Season,\n",
    "     wins = datanykC.W,\n",
    "    team = datanykC.Tm,\n",
    "     a = datanykC.AST\n",
    "))\n",
    "okc = ColumnDataSource(dict(\n",
    "    y = dataokc.PTS,  \n",
    "    x = dataokc.Season,\n",
    "     wins = dataokc.W,\n",
    "    team = dataokc.Tm,\n",
    "     a = dataokc.AST\n",
    "))\n",
    "okcC = ColumnDataSource(dict(\n",
    "    y = dataokcC.PTS,  \n",
    "    x = dataokcC.Season,\n",
    "     wins = dataokcC.W,\n",
    "    team = dataokcC.Tm,\n",
    "     a = dataokcC.AST\n",
    "))\n",
    "heat = ColumnDataSource(dict(\n",
    "    y = dataheat.PTS,  \n",
    "    x = dataheat.Season,\n",
    "     wins = dataheat.W,\n",
    "    team = dataheat.Tm,\n",
    "     a = dataheat.AST\n",
    "))\n",
    "heatC = ColumnDataSource(dict(\n",
    "    y = dataheatC.PTS,  \n",
    "    x = dataheatC.Season,\n",
    "     wins = dataheatC.W,\n",
    "    team = dataheatC.Tm,\n",
    "     a = dataheatC.AST\n",
    "))\n",
    "spurs = ColumnDataSource(dict(\n",
    "    y = dataspurs.PTS,  \n",
    "    x = dataspurs.Season,\n",
    "     wins = dataspurs.W,\n",
    "    team = dataspurs.Tm,\n",
    "     a = dataspurs.AST\n",
    "))\n",
    "spursC = ColumnDataSource(dict(\n",
    "    y = dataspursC.PTS,  \n",
    "    x = dataspursC.Season,\n",
    "     wins = dataspursC.W,\n",
    "    team = dataspursC.Tm,\n",
    "     a = dataspursC.AST\n",
    "))\n",
    "sixer = ColumnDataSource(dict(\n",
    "    y = datasixer.PTS,  \n",
    "    x = datasixer.Season,\n",
    "     wins = datasixer.W,\n",
    "    team = datasixer.Tm,\n",
    "     a = datasixer.AST\n",
    "))\n",
    "sixerC = ColumnDataSource(dict(\n",
    "    y = datasixerC.PTS,  \n",
    "    x = datasixerC.Season,\n",
    "     wins = datasixerC.W,\n",
    "    team = datasixerC.Tm,\n",
    "     a = datasixerC.AST\n",
    "))\n",
    "kings = ColumnDataSource(dict(\n",
    "    y = datakings.PTS,  \n",
    "    x = datakings.Season,\n",
    "     wins = datakings.W,\n",
    "    team = datakings.Tm,\n",
    "     a = datakings.AST\n",
    "))\n",
    "kingsC = ColumnDataSource(dict(\n",
    "    y = datakingsC.PTS,  \n",
    "    x = datakingsC.Season,\n",
    "     wins = datakingsC.W,\n",
    "    team = datakingsC.Tm,\n",
    "     a = datakingsC.AST\n",
    "))\n",
    "\n",
    "Hover_toolTeamPoints = HoverTool(tooltips = [\n",
    "     ('Season', '@x'),\n",
    "    ('Point Per Game','@y'),\n",
    "    ('Team','@team')\n",
    "    \n",
    "])\n",
    "Hover_tool= HoverTool(tooltips = [\n",
    "     ('Season', '@x'),\n",
    "    ('AST Per Game','@a'),\n",
    "    ('Team','@team')\n",
    "])\n",
    "\n",
    "#####  points \n",
    "\n",
    "a = figure( tools = [Hover_tool,'pan', 'wheel_zoom','reset'],\n",
    "            height = 500,\n",
    "           width = 1000,\n",
    "           x_range = (1940,2020),\n",
    "           y_range=(-5,40),\n",
    "           title = \"Teams Points per Season\",\n",
    "          x_axis_label = \"Season(year)\",\n",
    "           y_axis_label = \"Points Per Game\",         \n",
    "          toolbar_location=\"right\")\n",
    "\n",
    "# pts.line(x = 'x',\n",
    "#          y = 'y',\n",
    "#         # alpha = 0.4,\n",
    "#          legend = 'Lakers',\n",
    "#          line_color = \"Gold\",\n",
    "#         line_width=2,\n",
    "#          source = lakers)\n",
    "a.circle(x = 'x',\n",
    "         y = 'a',\n",
    "           size = 4,\n",
    "        alpha = 0.2,\n",
    "         legend = 'Lakers',\n",
    "         color = \"Gold\",\n",
    "        #line_width=10,\n",
    "         source = lakers)\n",
    "a.circle(x = 'x',\n",
    "         y = 'a',\n",
    "           size = 10,\n",
    "        # alpha = 0.4,\n",
    "         legend = 'Lakers',\n",
    "         color = \"Gold\",\n",
    "        #line_width=10,\n",
    "         source = lakersChamps)\n",
    "# pts.line(x = 'x',\n",
    "#          y = 'y',\n",
    "#          legend = 'Warriors',\n",
    "#          line_color = \"dodgerblue\",\n",
    "#         line_width=2,\n",
    "#          source = warriors)\n",
    "a.circle(x = 'x',\n",
    "         y = 'a',\n",
    "           size = 4,\n",
    "         alpha = 0.2,\n",
    "         legend = 'Warriors',\n",
    "         color = \"dodgerblue\",\n",
    "        #line_width=10,\n",
    "         source = warriors)\n",
    "\n",
    "a.circle(x = 'x',\n",
    "         y = 'a',\n",
    "           size = 10,\n",
    "         #alpha = 0.2,\n",
    "         legend = 'Warriors',\n",
    "         color = \"dodgerblue\",\n",
    "        #line_width=10,\n",
    "         source = warriorsC)\n",
    "# pts.line(x = 'x',\n",
    "#          y = 'y',\n",
    "#          legend = 'Warrior Dynasty',\n",
    "#          line_color = \"Black\",\n",
    "#         line_width=6.5,\n",
    "#          source = warriorschamp)\n",
    "a.circle_cross(x = 'x',\n",
    "         y = 'a',\n",
    "        alpha = 0.2,\n",
    "         legend = 'Warrior Dynasty',\n",
    "         color = \"black\",\n",
    "         size= 15,\n",
    "        #line_width=10,\n",
    "         source = warriorschamp)\n",
    "# pts.line(x = 'x',\n",
    "#          y = 'y',\n",
    "#          legend = 'Rockets',\n",
    "#         line_color = \"red\",\n",
    "#         line_width=2,\n",
    "#          source = rockets)\n",
    "a.circle(x = 'x',\n",
    "         y = 'a',\n",
    "         alpha = 0.4,\n",
    "            size = 4,\n",
    "         legend = 'Rockets',\n",
    "        color = \"red\",\n",
    "        #line_width=10,\n",
    "         source = rockets)\n",
    "a.circle(x = 'x',\n",
    "         y = 'a',\n",
    "        # alpha = 0.4,\n",
    "            size = 10,\n",
    "         legend = 'Rockets',\n",
    "        color = \"red\",\n",
    "        #line_width=10,\n",
    "         source = rocketsC)\n",
    "# pts.line(x = 'x',\n",
    "#          y = 'y',\n",
    "#          legend = 'Boston',\n",
    "#          line_color = \"Green\",\n",
    "#         line_width=2,\n",
    "#          source = boston)\n",
    "a.circle(x = 'x',\n",
    "         y = 'a',\n",
    "         alpha = 0.4,\n",
    "            size = 4,\n",
    "         legend = 'Boston',\n",
    "         color = \"Green\",\n",
    "        #line_width=10,\n",
    "         source = boston)\n",
    "a.circle(x = 'x',\n",
    "         y = 'a',\n",
    "         #alpha = 0.4,\n",
    "            size = 10,\n",
    "         legend = 'Boston',\n",
    "         color = \"Green\",\n",
    "        #line_width=10,\n",
    "         source = bostonC)\n",
    "# pts.line(x = 'x',\n",
    "#          y = 'y',\n",
    "#          legend = 'Bulls',\n",
    "#          line_color = \"Crimson\",\n",
    "#         line_width=2,\n",
    "#          source = bull)\n",
    "a.circle(x = 'x',\n",
    "         y = 'a',\n",
    "         alpha = 0.4,\n",
    "            size = 4,\n",
    "         legend = 'Bulls',\n",
    "         color = 'lightsalmon',\n",
    "        #line_width=10,\n",
    "         source = bull)\n",
    "a.circle(x = 'x',\n",
    "         y = 'a',\n",
    "         #alpha = 0.4,\n",
    "            size = 10,\n",
    "         legend = 'Bulls',\n",
    "         color = 'lightsalmon',\n",
    "        #line_width=10,\n",
    "         source = bullC)\n",
    "# pts.line(x = 'x',\n",
    "#          y = 'y',\n",
    "#          legend = 'Piston',\n",
    "#          line_color = \"royalblue\",\n",
    "#         line_width=2,\n",
    "#          source = piston)\n",
    "a.circle(x = 'x',\n",
    "         y = 'a',\n",
    "         alpha = 0.4,\n",
    "            size = 4,\n",
    "         legend = 'Piston',\n",
    "         color = \"Royalblue\",\n",
    "        #line_width=10,\n",
    "         source = piston)\n",
    "a.circle(x = 'x',\n",
    "         y = 'a',\n",
    "        # alpha = 0.4,\n",
    "            size = 10,\n",
    "         legend = 'Piston',\n",
    "         color = \"Royalblue\",\n",
    "        #line_width=10,\n",
    "         source = pistonC)\n",
    "\n",
    "\n",
    "# pts.line(x = 'x',\n",
    "#          y = 'y',\n",
    "#          legend = 'Buck',\n",
    "#          line_color = \"seagreen\",\n",
    "#         line_width=2,\n",
    "#          source = buck)\n",
    "a.circle(x = 'x',\n",
    "         y = 'a',\n",
    "         alpha = 0.4,\n",
    "            size = 4,\n",
    "         legend = 'Buck',\n",
    "         color = \"seagreen\",\n",
    "        #line_width=10,\n",
    "         source = buck)\n",
    "a.circle(x = 'x',\n",
    "         y = 'a',\n",
    "         #alpha = 0.4,\n",
    "            size = 10,\n",
    "         legend = 'Buck',\n",
    "         color = \"seagreen\",\n",
    "        #line_width=10,\n",
    "         source = buckC)\n",
    "# pts.line(x = 'x',\n",
    "#          y = 'y',\n",
    "#          legend = 'Cavaliers',\n",
    "#          line_color = \"firebrick\",\n",
    "#         line_width=2,\n",
    "#          source = cle)\n",
    "a.circle(x = 'x',\n",
    "         y = 'a',\n",
    "         alpha = 0.4,\n",
    "            size = 4,\n",
    "         legend = 'Cavaliers',\n",
    "         color = \"firebrick\",\n",
    "        #line_width=10,\n",
    "         source = cle)\n",
    "a.circle(x = 'x',\n",
    "         y = 'a',\n",
    "         #alpha = 0.4,\n",
    "            size = 10,\n",
    "         legend = 'Cavaliers',\n",
    "         color = \"firebrick\",\n",
    "        #line_width=10,\n",
    "         source = cleC)\n",
    "# pts.line(x = 'x',\n",
    "#          y = 'y',\n",
    "#          legend = 'Wizards',\n",
    "#          line_color = \"midnightblue\",\n",
    "#         line_width=2,\n",
    "#          source = wash)\n",
    "a.circle(x = 'x',\n",
    "         y = 'a',\n",
    "         alpha = 0.4,\n",
    "            size = 4,\n",
    "         legend = 'Wizards',\n",
    "         color = \"midnightblue\",\n",
    "        #line_width=10,\n",
    "         source = wash)\n",
    "a.circle(x = 'x',\n",
    "         y = 'a',\n",
    "         #alpha = 0.4,\n",
    "            size = 10,\n",
    "         legend = 'Wizards',\n",
    "         color = \"midnightblue\",\n",
    "        #line_width=10,\n",
    "         source = washC)\n",
    "# pts.line(x = 'x',\n",
    "#          y = 'y',\n",
    "#          legend = 'Hawks',\n",
    "#          line_color = \"brown\",\n",
    "#         line_width=2,\n",
    "#          source = atl)\n",
    "a.circle(x = 'x',\n",
    "         y = 'a',\n",
    "            size = 4,\n",
    "         alpha = 0.4,\n",
    "         legend = 'Hawks',\n",
    "         color = \"brown\",\n",
    "        #line_width=10,\n",
    "         source = atl)\n",
    "a.circle(x = 'x',\n",
    "         y = 'a',\n",
    "            size = 10,\n",
    "         #alpha = 0.4,\n",
    "         legend = 'Hawks',\n",
    "         color = \"brown\",\n",
    "        #line_width=10,\n",
    "         source = atlC)\n",
    "# pts.line(x = 'x',\n",
    "#          y = 'y',\n",
    "#          legend = 'Knicks',\n",
    "#          line_color = \"Orange\",\n",
    "#         line_width=2,\n",
    "#          source = nyk)\n",
    "a.circle(x = 'x',\n",
    "         y = 'a',\n",
    "            size = 4,\n",
    "         alpha = 0.4,\n",
    "         legend = 'Knicks',\n",
    "         color = \"Orange\",\n",
    "        #line_width=10,\n",
    "         source = nyk)\n",
    "a.circle(x = 'x',\n",
    "         y = 'a',\n",
    "            size = 10,\n",
    "        # alpha = 0.4,\n",
    "         legend = 'Knicks',\n",
    "         color = \"Orange\",\n",
    "        #line_width=10,\n",
    "         source = nykC)\n",
    "# pts.line(x = 'x',\n",
    "#          y = 'y',\n",
    "#          alpha = 0.9,\n",
    "#          legend = 'Thunder',\n",
    "#          line_color = \"cyan\",\n",
    "#         line_width=2,\n",
    "#          source = okc)\n",
    "a.circle(x = 'x',\n",
    "         y = 'a',\n",
    "         alpha = 0.4,\n",
    "            size = 4,\n",
    "         legend = 'Thunder',\n",
    "         color = \"cyan\",\n",
    "        #line_width=10,\n",
    "         source = okc)\n",
    "a.circle(x = 'x',\n",
    "         y = 'a',\n",
    "        # alpha = 0.9,\n",
    "            size = 10,\n",
    "         legend = 'Thunder',\n",
    "         color = \"cyan\",\n",
    "        #line_width=10,\n",
    "         source = okcC)\n",
    "# pts.line(x = 'x',\n",
    "#          y = 'y',\n",
    "#          legend = 'Heat',\n",
    "#          line_color = \"tan\",\n",
    "#         line_width=2,\n",
    "#          source = heat)\n",
    "a.circle(x = 'x',\n",
    "         y = 'a',\n",
    "            size = 4,\n",
    "         alpha = 0.4,\n",
    "         legend = 'Heat',\n",
    "         color = \"tan\",\n",
    "        #line_width=10,\n",
    "         source = heat)\n",
    "a.circle(x = 'x',\n",
    "         y = 'a',\n",
    "            size = 10,\n",
    "         #alpha = 0.4,\n",
    "         legend = 'Heat',\n",
    "         color = \"tan\",\n",
    "        #line_width=10,\n",
    "         source = heatC)\n",
    "# pts.line(x = 'x',\n",
    "#          y = 'y',\n",
    "#          legend = 'Spurs',\n",
    "#          line_color = \"grey\",\n",
    "#         line_width=2,\n",
    "#          source = spurs)\n",
    "a.circle(x = 'x',\n",
    "         y = 'a',\n",
    "            size = 4,\n",
    "         alpha = 0.4,\n",
    "         legend = 'Spurs',\n",
    "         color = \"grey\",\n",
    "        #line_width=10,\n",
    "         source = spurs)\n",
    "a.circle(x = 'x',\n",
    "         y = 'a',\n",
    "            size = 10,\n",
    "         #alpha = 0.4,\n",
    "         legend = 'Spurs',\n",
    "         color = \"grey\",\n",
    "        #line_width=10,\n",
    "         source = spursC)\n",
    "# pts.line(x = 'x',\n",
    "#          y = 'y',\n",
    "#          legend = 'Sixer',\n",
    "#          line_color = \"blue\",\n",
    "#         line_width=2,\n",
    "#          source = sixer)\n",
    "a.circle(x = 'x',\n",
    "         y = 'a',\n",
    "            size = 4,\n",
    "         #alpha = 0.4,\n",
    "         legend = 'Sixer',\n",
    "         color = \"blue\",\n",
    "        #line_width=10,\n",
    "         source = sixer)\n",
    "a.circle(x = 'x',\n",
    "         y = 'a',\n",
    "            size = 10,\n",
    "         #alpha = 0.4,\n",
    "         legend = 'Sixer',\n",
    "         color = \"blue\",\n",
    "        #line_width=10,\n",
    "         source = sixerC)\n",
    "# pts.line(x = 'x',\n",
    "#          y = 'y',\n",
    "#          legend = 'Kings',\n",
    "#          line_color = \"Violet\",\n",
    "#         line_width=2,\n",
    "#          source = kings)\n",
    "a.circle(x = 'x',\n",
    "         y = 'a',\n",
    "            size = 4,\n",
    "         alpha = 0.4,\n",
    "         legend = 'Kings',\n",
    "         color = \"Violet\",\n",
    "        #line_width=10,\n",
    "         source = kings)\n",
    "a.circle(x = 'x',\n",
    "         y = 'a',\n",
    "            size = 10,\n",
    "         #alpha = 0.4,\n",
    "         legend = 'Kings',\n",
    "         color = \"Violet\",\n",
    "        #line_width=10,\n",
    "         source = kingsC)\n",
    "\n",
    "pts= figure( tools = [Hover_toolTeamPoints,'pan', 'wheel_zoom','reset'],\n",
    "            height = 500,\n",
    "           width = 1000,\n",
    "           x_range = (1940,2020),\n",
    "           y_range=(55,140),\n",
    "           title = \"Teams Points per Season\",\n",
    "          x_axis_label = \"Season(year)\",\n",
    "           y_axis_label = \"Points Per Game\",         \n",
    "          toolbar_location=\"right\")\n",
    "\n",
    "# pts.line(x = 'x',\n",
    "#          y = 'y',\n",
    "#         # alpha = 0.4,\n",
    "#          legend = 'Lakers',\n",
    "#          line_color = \"Gold\",\n",
    "#         line_width=2,\n",
    "#          source = lakers)\n",
    "pts.circle(x = 'x',\n",
    "         y = 'y',\n",
    "           size = 4,\n",
    "        alpha = 0.2,\n",
    "         legend = 'Lakers',\n",
    "         color = \"Gold\",\n",
    "        #line_width=10,\n",
    "         source = lakers)\n",
    "pts.circle(x = 'x',\n",
    "         y = 'y',\n",
    "           size = 10,\n",
    "        # alpha = 0.4,\n",
    "         legend = 'Lakers',\n",
    "         color = \"Gold\",\n",
    "        #line_width=10,\n",
    "         source = lakersChamps)\n",
    "# pts.line(x = 'x',\n",
    "#          y = 'y',\n",
    "#          legend = 'Warriors',\n",
    "#          line_color = \"dodgerblue\",\n",
    "#         line_width=2,\n",
    "#          source = warriors)\n",
    "pts.circle(x = 'x',\n",
    "         y = 'y',\n",
    "           size = 4,\n",
    "         alpha = 0.2,\n",
    "         legend = 'Warriors',\n",
    "         color = \"dodgerblue\",\n",
    "        #line_width=10,\n",
    "         source = warriors)\n",
    "\n",
    "pts.circle(x = 'x',\n",
    "         y = 'y',\n",
    "           size = 10,\n",
    "         #alpha = 0.2,\n",
    "         legend = 'Warriors',\n",
    "         color = \"dodgerblue\",\n",
    "        #line_width=10,\n",
    "         source = warriorsC)\n",
    "# pts.line(x = 'x',\n",
    "#          y = 'y',\n",
    "#          legend = 'Warrior Dynasty',\n",
    "#          line_color = \"Black\",\n",
    "#         line_width=6.5,\n",
    "#          source = warriorschamp)\n",
    "pts.circle_cross(x = 'x',\n",
    "         y = 'y',\n",
    "        alpha = 0.2,\n",
    "         legend = 'Warrior Dynasty',\n",
    "         color = \"black\",\n",
    "         size= 15,\n",
    "        #line_width=10,\n",
    "         source = warriorschamp)\n",
    "# pts.line(x = 'x',\n",
    "#          y = 'y',\n",
    "#          legend = 'Rockets',\n",
    "#         line_color = \"red\",\n",
    "#         line_width=2,\n",
    "#          source = rockets)\n",
    "pts.circle(x = 'x',\n",
    "         y = 'y',\n",
    "         alpha = 0.4,\n",
    "            size = 4,\n",
    "         legend = 'Rockets',\n",
    "        color = \"red\",\n",
    "        #line_width=10,\n",
    "         source = rockets)\n",
    "pts.circle(x = 'x',\n",
    "         y = 'y',\n",
    "        # alpha = 0.4,\n",
    "            size = 10,\n",
    "         legend = 'Rockets',\n",
    "        color = \"red\",\n",
    "        #line_width=10,\n",
    "         source = rocketsC)\n",
    "# pts.line(x = 'x',\n",
    "#          y = 'y',\n",
    "#          legend = 'Boston',\n",
    "#          line_color = \"Green\",\n",
    "#         line_width=2,\n",
    "#          source = boston)\n",
    "pts.circle(x = 'x',\n",
    "         y = 'y',\n",
    "         alpha = 0.4,\n",
    "            size = 4,\n",
    "         legend = 'Boston',\n",
    "         color = \"Green\",\n",
    "        #line_width=10,\n",
    "         source = boston)\n",
    "pts.circle(x = 'x',\n",
    "         y = 'y',\n",
    "         #alpha = 0.4,\n",
    "            size = 10,\n",
    "         legend = 'Boston',\n",
    "         color = \"Green\",\n",
    "        #line_width=10,\n",
    "         source = bostonC)\n",
    "# pts.line(x = 'x',\n",
    "#          y = 'y',\n",
    "#          legend = 'Bulls',\n",
    "#          line_color = \"Crimson\",\n",
    "#         line_width=2,\n",
    "#          source = bull)\n",
    "pts.circle(x = 'x',\n",
    "         y = 'y',\n",
    "         alpha = 0.4,\n",
    "            size = 4,\n",
    "         legend = 'Bulls',\n",
    "         color = 'lightsalmon',\n",
    "        #line_width=10,\n",
    "         source = bull)\n",
    "pts.circle(x = 'x',\n",
    "         y = 'y',\n",
    "         #alpha = 0.4,\n",
    "            size = 10,\n",
    "         legend = 'Bulls',\n",
    "         color = 'lightsalmon',\n",
    "        #line_width=10,\n",
    "         source = bullC)\n",
    "# pts.line(x = 'x',\n",
    "#          y = 'y',\n",
    "#          legend = 'Piston',\n",
    "#          line_color = \"royalblue\",\n",
    "#         line_width=2,\n",
    "#          source = piston)\n",
    "pts.circle(x = 'x',\n",
    "         y = 'y',\n",
    "         alpha = 0.4,\n",
    "            size = 4,\n",
    "         legend = 'Piston',\n",
    "         color = \"Royalblue\",\n",
    "        #line_width=10,\n",
    "         source = piston)\n",
    "pts.circle(x = 'x',\n",
    "         y = 'y',\n",
    "        # alpha = 0.4,\n",
    "            size = 10,\n",
    "         legend = 'Piston',\n",
    "         color = \"Royalblue\",\n",
    "        #line_width=10,\n",
    "         source = pistonC)\n",
    "\n",
    "\n",
    "# pts.line(x = 'x',\n",
    "#          y = 'y',\n",
    "#          legend = 'Buck',\n",
    "#          line_color = \"seagreen\",\n",
    "#         line_width=2,\n",
    "#          source = buck)\n",
    "pts.circle(x = 'x',\n",
    "         y = 'y',\n",
    "         alpha = 0.4,\n",
    "            size = 4,\n",
    "         legend = 'Buck',\n",
    "         color = \"seagreen\",\n",
    "        #line_width=10,\n",
    "         source = buck)\n",
    "pts.circle(x = 'x',\n",
    "         y = 'y',\n",
    "         #alpha = 0.4,\n",
    "            size = 10,\n",
    "         legend = 'Buck',\n",
    "         color = \"seagreen\",\n",
    "        #line_width=10,\n",
    "         source = buckC)\n",
    "# pts.line(x = 'x',\n",
    "#          y = 'y',\n",
    "#          legend = 'Cavaliers',\n",
    "#          line_color = \"firebrick\",\n",
    "#         line_width=2,\n",
    "#          source = cle)\n",
    "pts.circle(x = 'x',\n",
    "         y = 'y',\n",
    "         alpha = 0.4,\n",
    "            size = 4,\n",
    "         legend = 'Cavaliers',\n",
    "         color = \"firebrick\",\n",
    "        #line_width=10,\n",
    "         source = cle)\n",
    "pts.circle(x = 'x',\n",
    "         y = 'y',\n",
    "         #alpha = 0.4,\n",
    "            size = 10,\n",
    "         legend = 'Cavaliers',\n",
    "         color = \"firebrick\",\n",
    "        #line_width=10,\n",
    "         source = cleC)\n",
    "# pts.line(x = 'x',\n",
    "#          y = 'y',\n",
    "#          legend = 'Wizards',\n",
    "#          line_color = \"midnightblue\",\n",
    "#         line_width=2,\n",
    "#          source = wash)\n",
    "pts.circle(x = 'x',\n",
    "         y = 'y',\n",
    "         alpha = 0.4,\n",
    "            size = 4,\n",
    "         legend = 'Wizards',\n",
    "         color = \"midnightblue\",\n",
    "        #line_width=10,\n",
    "         source = wash)\n",
    "pts.circle(x = 'x',\n",
    "         y = 'y',\n",
    "         #alpha = 0.4,\n",
    "            size = 10,\n",
    "         legend = 'Wizards',\n",
    "         color = \"midnightblue\",\n",
    "        #line_width=10,\n",
    "         source = washC)\n",
    "# pts.line(x = 'x',\n",
    "#          y = 'y',\n",
    "#          legend = 'Hawks',\n",
    "#          line_color = \"brown\",\n",
    "#         line_width=2,\n",
    "#          source = atl)\n",
    "pts.circle(x = 'x',\n",
    "         y = 'y',\n",
    "            size = 4,\n",
    "         alpha = 0.4,\n",
    "         legend = 'Hawks',\n",
    "         color = \"brown\",\n",
    "        #line_width=10,\n",
    "         source = atl)\n",
    "pts.circle(x = 'x',\n",
    "         y = 'y',\n",
    "            size = 10,\n",
    "         #alpha = 0.4,\n",
    "         legend = 'Hawks',\n",
    "         color = \"brown\",\n",
    "        #line_width=10,\n",
    "         source = atlC)\n",
    "# pts.line(x = 'x',\n",
    "#          y = 'y',\n",
    "#          legend = 'Knicks',\n",
    "#          line_color = \"Orange\",\n",
    "#         line_width=2,\n",
    "#          source = nyk)\n",
    "pts.circle(x = 'x',\n",
    "         y = 'y',\n",
    "            size = 4,\n",
    "         alpha = 0.4,\n",
    "         legend = 'Knicks',\n",
    "         color = \"Orange\",\n",
    "        #line_width=10,\n",
    "         source = nyk)\n",
    "pts.circle(x = 'x',\n",
    "         y = 'y',\n",
    "            size = 10,\n",
    "        # alpha = 0.4,\n",
    "         legend = 'Knicks',\n",
    "         color = \"Orange\",\n",
    "        #line_width=10,\n",
    "         source = nykC)\n",
    "# pts.line(x = 'x',\n",
    "#          y = 'y',\n",
    "#          alpha = 0.9,\n",
    "#          legend = 'Thunder',\n",
    "#          line_color = \"cyan\",\n",
    "#         line_width=2,\n",
    "#          source = okc)\n",
    "pts.circle(x = 'x',\n",
    "         y = 'y',\n",
    "         alpha = 0.4,\n",
    "            size = 4,\n",
    "         legend = 'Thunder',\n",
    "         color = \"cyan\",\n",
    "        #line_width=10,\n",
    "         source = okc)\n",
    "pts.circle(x = 'x',\n",
    "         y = 'y',\n",
    "        # alpha = 0.9,\n",
    "            size = 10,\n",
    "         legend = 'Thunder',\n",
    "         color = \"cyan\",\n",
    "        #line_width=10,\n",
    "         source = okcC)\n",
    "# pts.line(x = 'x',\n",
    "#          y = 'y',\n",
    "#          legend = 'Heat',\n",
    "#          line_color = \"tan\",\n",
    "#         line_width=2,\n",
    "#          source = heat)\n",
    "pts.circle(x = 'x',\n",
    "         y = 'y',\n",
    "            size = 4,\n",
    "         alpha = 0.4,\n",
    "         legend = 'Heat',\n",
    "         color = \"tan\",\n",
    "        #line_width=10,\n",
    "         source = heat)\n",
    "pts.circle(x = 'x',\n",
    "         y = 'y',\n",
    "            size = 10,\n",
    "         #alpha = 0.4,\n",
    "         legend = 'Heat',\n",
    "         color = \"tan\",\n",
    "        #line_width=10,\n",
    "         source = heatC)\n",
    "# pts.line(x = 'x',\n",
    "#          y = 'y',\n",
    "#          legend = 'Spurs',\n",
    "#          line_color = \"grey\",\n",
    "#         line_width=2,\n",
    "#          source = spurs)\n",
    "pts.circle(x = 'x',\n",
    "         y = 'y',\n",
    "            size = 4,\n",
    "         alpha = 0.4,\n",
    "         legend = 'Spurs',\n",
    "         color = \"grey\",\n",
    "        #line_width=10,\n",
    "         source = spurs)\n",
    "pts.circle(x = 'x',\n",
    "         y = 'y',\n",
    "            size = 10,\n",
    "         #alpha = 0.4,\n",
    "         legend = 'Spurs',\n",
    "         color = \"grey\",\n",
    "        #line_width=10,\n",
    "         source = spursC)\n",
    "# pts.line(x = 'x',\n",
    "#          y = 'y',\n",
    "#          legend = 'Sixer',\n",
    "#          line_color = \"blue\",\n",
    "#         line_width=2,\n",
    "#          source = sixer)\n",
    "pts.circle(x = 'x',\n",
    "         y = 'y',\n",
    "            size = 4,\n",
    "         #alpha = 0.4,\n",
    "         legend = 'Sixer',\n",
    "         color = \"blue\",\n",
    "        #line_width=10,\n",
    "         source = sixer)\n",
    "pts.circle(x = 'x',\n",
    "         y = 'y',\n",
    "            size = 10,\n",
    "         #alpha = 0.4,\n",
    "         legend = 'Sixer',\n",
    "         color = \"blue\",\n",
    "        #line_width=10,\n",
    "         source = sixerC)\n",
    "# pts.line(x = 'x',\n",
    "#          y = 'y',\n",
    "#          legend = 'Kings',\n",
    "#          line_color = \"Violet\",\n",
    "#         line_width=2,\n",
    "#          source = kings)\n",
    "pts.circle(x = 'x',\n",
    "         y = 'y',\n",
    "            size = 4,\n",
    "         alpha = 0.4,\n",
    "         legend = 'Kings',\n",
    "         color = \"Violet\",\n",
    "        #line_width=10,\n",
    "         source = kings)\n",
    "pts.circle(x = 'x',\n",
    "         y = 'y',\n",
    "            size = 10,\n",
    "         #alpha = 0.4,\n",
    "         legend = 'Kings',\n",
    "         color = \"Violet\",\n",
    "        #line_width=10,\n",
    "         source = kingsC)\n",
    "\n",
    "pts.legend.click_policy=\"hide\"\n",
    "a.legend.click_policy=\"hide\"\n",
    "#wins.legend.click_policy='hide'\n",
    "\n",
    "pts.right = pts.legend\n",
    "a.right = a.legend\n",
    "\n",
    "\n",
    "from bokeh.models.widgets import Panel, Tabs\n",
    "tab1 = Panel(child= pts, title=\"Points Per Game\")\n",
    "tab2 = Panel(child= a, title=\"Assists Per Game\")\n",
    "# tab3 = Panel(child=preboundPerGame, title=\"Rebound Per Game\")\n",
    "# tab4 = Panel(child=prethreePerGame, title= \"Three Made Per Game\")\n",
    "# tab5 = Panel(child=pretwoPerGame, title= \"Two Made Per Game\")\n",
    "layoutTeam = Tabs(tabs=[tab1,tab2])\n",
    "\n",
    "show(layoutTeam)"
   ]
  },
  {
   "cell_type": "markdown",
   "metadata": {
    "extensions": {
     "jupyter_dashboards": {
      "version": 1,
      "views": {
       "grid_default": {
        "col": 0,
        "height": 5,
        "hidden": false,
        "row": 552,
        "width": 12
       },
       "report_default": {
        "hidden": false
       }
      }
     }
    }
   },
   "source": [
    "# Warriors vs Teams (TEams that have won one championship)\n",
    "\n",
    "# 3PA vs 3P"
   ]
  },
  {
   "cell_type": "markdown",
   "metadata": {
    "extensions": {
     "jupyter_dashboards": {
      "version": 1,
      "views": {
       "grid_default": {
        "hidden": true
       },
       "report_default": {
        "hidden": true
       }
      }
     }
    }
   },
   "source": [
    "**Click Run Cell Below.(Refresh)*** if no reactions "
   ]
  },
  {
   "cell_type": "code",
   "execution_count": null,
   "metadata": {
    "extensions": {
     "jupyter_dashboards": {
      "version": 1,
      "views": {
       "grid_default": {
        "col": 7,
        "height": 4,
        "hidden": false,
        "row": 253,
        "width": 4
       },
       "report_default": {
        "hidden": false
       }
      }
     }
    }
   },
   "outputs": [],
   "source": [
    "from IPython.display import Javascript, display\n",
    "from ipywidgets import widgets\n",
    "\n",
    "\n",
    "def run_all(ev):\n",
    "    display(Javascript('IPython.notebook.execute_cell_range(IPython.notebook.get_selected_index()+1, IPython.notebook.get_selected_index()+2)'))\n",
    "\n",
    "button = widgets.Button(description=\"Run Cell Below\")\n",
    "button.on_click(run_all)\n",
    "display(button)"
   ]
  },
  {
   "cell_type": "code",
   "execution_count": null,
   "metadata": {
    "extensions": {
     "jupyter_dashboards": {
      "version": 1,
      "views": {
       "grid_default": {
        "col": 0,
        "height": 25,
        "hidden": false,
        "row": 557,
        "width": 9
       },
       "report_default": {
        "hidden": false
       }
      }
     }
    }
   },
   "outputs": [],
   "source": [
    "from bokeh.models import ColumnDataSource\n",
    "from bokeh.models import HoverTool\n",
    "from bokeh.models import LinearInterpolator\n",
    "from bokeh.models import CategoricalColorMapper\n",
    "from bokeh.palettes import Category20\n",
    "from bokeh.plotting import figure\n",
    "from bokeh.models import Circle\n",
    "from ipywidgets import interact,interactive, fixed, interact_manual,widgets\n",
    "from bokeh.io import push_notebook,show\n",
    "\n",
    "\n",
    "datacom = pd.read_csv('nba-players-stats/allteamcombined.csv',index_col=['Season'])\n",
    "datawarriorschamp = pd.read_csv('nba-players-stats/WarriorsChamp.csv',index_col=[\"Rank\"])\n",
    "\n",
    "source = ColumnDataSource(dict( \n",
    "    tm = datacom.loc[2010].Tm, \n",
    "    x = datacom.loc[2010].get('3P'),\n",
    "    y = datacom.loc[2010].get('3PA'),\n",
    "    win = datacom.loc[2010].W,\n",
    "    pts = datacom.loc[2010].PTS\n",
    "))\n",
    "sourcewr = ColumnDataSource(dict(\n",
    "    tm = datawarriorschamp.Tm,\n",
    "    x = datawarriorschamp.get('3P'),\n",
    "    y = datawarriorschamp.get('3PA'),\n",
    "    win = datawarriorschamp.W,\n",
    "    pts = datawarriorschamp.PTS\n",
    "))\n",
    "Hover_tools = HoverTool(tooltips = [\n",
    "    ('Attempt', \"@y\"),\n",
    "     ('Made', \"@x\"),\n",
    "    ('Player', '@tm'),])\n",
    "\n",
    "# relative_size = LinearInterpolator(\n",
    "#     x = [datacom.PTS.min(),datacom.PTS.max()],\n",
    "#     y = [2,40]\n",
    "# )\n",
    "\n",
    "color_mapper = CategoricalColorMapper(\n",
    "  factors= list(datacom.Tm.unique()),\n",
    "  palette= ['#1f77b4', '#aec7e8', '#ff7f0e', \n",
    "            '#ffbb78', '#2ca02c', '#98df8a', \n",
    "            '#d62728', \n",
    "            '#ff9896', '#9467bd', '#c5b0d5',\n",
    "            '#8c564b', '#c49c94', '#e377c2', \n",
    "            '#f7b6d2', \n",
    "            '#7f7f7f', '#c7c7c7', '#bcbd22', \n",
    "            '#dbdb8d', '#17becf', '#9edae5',\n",
    "            '#800026', '#bd0026','#e31a1c', \n",
    "            '#fc4e2a',\n",
    "            '#fd8d3c','#feb24c','#fed976',\n",
    "            '#ffeda0','#ffffcc','#a6cee3',\n",
    "            '#1f78b4','#b2df8a','#33a02c',\n",
    "            '#fb9a99','#e31a1c','#fdbf6f',\n",
    "            '#ff7f00','#cab2d6','#6a3d9a',\n",
    "            '#ffff99']\n",
    ")\n",
    "\n",
    "\n",
    "# color_mapper = CategoricalColorMapper(\n",
    "#  factors=['PF-C', 'C-PF', 'C', 'G', 'F', 'G-SF', 'SF-G'],\n",
    "#  palette=['blue', 'red', 'green','grey','Purple','Black','orange'])\n",
    "\n",
    "\n",
    "p5 = figure( tools = [Hover_tools,'pan', 'wheel_zoom','box_zoom','reset','crosshair'],\n",
    "            height=600,\n",
    "           width = 600,\n",
    "           x_range = (0,50),\n",
    "           y_range=(0,20),  \n",
    "            y_axis_label = \"3 point Made\",\n",
    "           x_axis_label = \"3 point Attempt\")\n",
    "\n",
    "p5.circle(x='y', \n",
    "         y='x',\n",
    "      size = 12,\n",
    "       # color = 'blue',\n",
    "      # size = {'field':'pts','transform':relative_size},\n",
    "       color = {'field':'tm','transform': color_mapper},\n",
    "         alpha = 1,\n",
    "         legend = 'tm',\n",
    "        source = source)\n",
    "\n",
    "p5.circle(x='y', \n",
    "         y='x',\n",
    "      size = 12,\n",
    "       color = 'gold',\n",
    "      # size = {'field':'pts','transform':relative_size},\n",
    "       #color = {'field':'tm','transform': color_mapper},\n",
    "         alpha = 1,\n",
    "         legend = 'tm',\n",
    "        source = sourcewr)\n",
    "p5.right = p5.legend\n",
    "\n",
    "\n",
    "\n",
    "def update(Season):\n",
    "    interactivedata = dict(\n",
    "     tm = datacom.loc[Season].Tm, \n",
    "      x = datacom.loc[Season].get('3P'),\n",
    "    y = datacom.loc[Season].get('3PA'), \n",
    "     win = datacom.loc[Season].W,\n",
    "        pts = datacom.loc[Season].PTS\n",
    "    )\n",
    "    \n",
    "    source.data = interactivedata\n",
    "    p5.title.text= \"Warriors Vs Other Teams(3 Pointers) Year:\" + str(Season) +\"  Season:\" +str(Season)+'-'+str(int(Season)+1)\n",
    "    push_notebook()\n",
    "    \n",
    "\n",
    "# +\"-\"+ str(int(Season)+1)\n",
    "show(p5,notebook_handle=True)\n",
    "\n",
    "interact(update,\n",
    "Season = widgets.IntSlider(\n",
    "    value=1,\n",
    "    min=1980,\n",
    "    max=2018-1,\n",
    "    step=1,\n",
    "    description='Start Year:',\n",
    "    continuous_update=True,\n",
    "    orientation='Horizontal',\n",
    "    readout=True,\n",
    "    readout_format='d',\n",
    "));\n",
    "\n",
    "interact(update,\n",
    "    Season = widgets.Play( \n",
    "    value=0,\n",
    "    min=1980,\n",
    "    max=2018-1,\n",
    "    step=1,\n",
    "    disabled=False\n",
    "));"
   ]
  },
  {
   "cell_type": "markdown",
   "metadata": {
    "extensions": {
     "jupyter_dashboards": {
      "version": 1,
      "views": {
       "grid_default": {
        "col": 0,
        "height": 5,
        "hidden": false,
        "row": 582,
        "width": 12
       },
       "report_default": {
        "hidden": false
       }
      }
     }
    }
   },
   "source": [
    "# Warriors vs Teams (TEams that have won one championship)\n",
    "\n",
    "# 2PA vs 2P"
   ]
  },
  {
   "cell_type": "markdown",
   "metadata": {
    "extensions": {
     "jupyter_dashboards": {
      "version": 1,
      "views": {
       "grid_default": {
        "hidden": true
       },
       "report_default": {
        "hidden": true
       }
      }
     }
    }
   },
   "source": [
    "**Click Run Cell Below.(Refresh)*** if no reactions "
   ]
  },
  {
   "cell_type": "code",
   "execution_count": null,
   "metadata": {
    "extensions": {
     "jupyter_dashboards": {
      "version": 1,
      "views": {
       "grid_default": {
        "col": 7,
        "height": 4,
        "hidden": false,
        "row": 257,
        "width": 4
       },
       "report_default": {
        "hidden": false
       }
      }
     }
    }
   },
   "outputs": [],
   "source": [
    "\n",
    "from IPython.display import Javascript, display\n",
    "from ipywidgets import widgets\n",
    "\n",
    "\n",
    "def run_all(ev):\n",
    "    display(Javascript('IPython.notebook.execute_cell_range(IPython.notebook.get_selected_index()+1, IPython.notebook.get_selected_index()+2)'))\n",
    "\n",
    "button = widgets.Button(description=\"Run Cell Below\")\n",
    "button.on_click(run_all)\n",
    "display(button)"
   ]
  },
  {
   "cell_type": "code",
   "execution_count": null,
   "metadata": {
    "extensions": {
     "jupyter_dashboards": {
      "version": 1,
      "views": {
       "grid_default": {
        "col": 0,
        "height": 25,
        "hidden": false,
        "row": 587,
        "width": 9
       },
       "report_default": {
        "hidden": false
       }
      }
     }
    },
    "scrolled": false
   },
   "outputs": [],
   "source": [
    "from bokeh.models import ColumnDataSource\n",
    "from bokeh.models import HoverTool\n",
    "from bokeh.models import LinearInterpolator\n",
    "from bokeh.models import CategoricalColorMapper\n",
    "from bokeh.palettes import Category20\n",
    "from bokeh.plotting import figure\n",
    "from bokeh.models import Circle\n",
    "from ipywidgets import interact,interactive, fixed, interact_manual,widgets\n",
    "from bokeh.io import push_notebook,show\n",
    "\n",
    "\n",
    "datacom = pd.read_csv('nba-players-stats/allteamcombined.csv',index_col=['Season'])\n",
    "datawarriorschamp = pd.read_csv('nba-players-stats/WarriorsChamp.csv',index_col=[\"Rank\"])\n",
    "\n",
    "source = ColumnDataSource(dict( \n",
    "    tm = datacom.loc[2010].Tm, \n",
    "    x = datacom.loc[2010].get('2P'),\n",
    "    y = datacom.loc[2010].get('2PA'),\n",
    "    win = datacom.loc[2010].W,\n",
    "    pts = datacom.loc[2010].PTS\n",
    "))\n",
    "sourcewr = ColumnDataSource(dict(\n",
    "    tm = datawarriorschamp.Tm,\n",
    "    x = datawarriorschamp.get('2P'),\n",
    "    y = datawarriorschamp.get('2PA'),\n",
    "    win = datawarriorschamp.W,\n",
    "    pts = datawarriorschamp.PTS\n",
    "))\n",
    "Hover_tools = HoverTool(tooltips = [\n",
    "    ('Attempt', \"@y\"),\n",
    "     ('Made', \"@x\"),\n",
    "    ('Player', '@tm'),])\n",
    "\n",
    "# relative_size = LinearInterpolator(\n",
    "#     x = [datacom.PTS.min(),datacom.PTS.max()],\n",
    "#     y = [2,40]\n",
    "# )\n",
    "\n",
    "color_mapper = CategoricalColorMapper(\n",
    "  factors= list(datacom.Tm.unique()),\n",
    "  palette= ['#1f77b4', '#aec7e8', '#ff7f0e', \n",
    "            '#ffbb78', '#2ca02c', '#98df8a', \n",
    "            '#d62728', \n",
    "            '#ff9896', '#9467bd', '#c5b0d5',\n",
    "            '#8c564b', '#c49c94', '#e377c2', \n",
    "            '#f7b6d2', \n",
    "            '#7f7f7f', '#c7c7c7', '#bcbd22', \n",
    "            '#dbdb8d', '#17becf', '#9edae5',\n",
    "            '#800026', '#bd0026','#e31a1c', \n",
    "            '#fc4e2a',\n",
    "            '#fd8d3c','#feb24c','#fed976',\n",
    "            '#ffeda0','#ffffcc','#a6cee3',\n",
    "            '#1f78b4','#b2df8a','#33a02c',\n",
    "            '#fb9a99','#e31a1c','#fdbf6f',\n",
    "            '#ff7f00','#cab2d6','#6a3d9a',\n",
    "            '#ffff99']\n",
    ")\n",
    "\n",
    "\n",
    "# color_mapper = CategoricalColorMapper(\n",
    "#  factors=['PF-C', 'C-PF', 'C', 'G', 'F', 'G-SF', 'SF-G'],\n",
    "#  palette=['blue', 'red', 'green','grey','Purple','Black','orange'])\n",
    "\n",
    "\n",
    "p5 = figure( tools = [Hover_tools,'pan', 'wheel_zoom','box_zoom','reset','crosshair','lasso_select'],\n",
    "            height=600,\n",
    "           width = 600,\n",
    "           x_range = (40,100),\n",
    "           y_range=(20,60),  \n",
    "            y_axis_label = \"2 point Made\",\n",
    "           x_axis_label = \"2 point Attempt\")\n",
    "\n",
    "p5.circle(x='y', \n",
    "         y='x',\n",
    "      size = 12,\n",
    "       # color = 'blue',\n",
    "      # size = {'field':'pts','transform':relative_size},\n",
    "       color = {'field':'tm','transform': color_mapper},\n",
    "         alpha = 1,\n",
    "         legend = 'tm',\n",
    "        source = source)\n",
    "\n",
    "p5.circle(x='y', \n",
    "         y='x',\n",
    "      size = 12,\n",
    "       color = 'gold',\n",
    "      # size = {'field':'pts','transform':relative_size},\n",
    "       #color = {'field':'tm','transform': color_mapper},\n",
    "         alpha = 1,\n",
    "         legend = 'tm',\n",
    "        source = sourcewr)\n",
    "p5.right = p5.legend\n",
    "\n",
    "\n",
    "\n",
    "def update(Season):\n",
    "    interactivedata = dict(\n",
    "     tm = datacom.loc[Season].Tm, \n",
    "      x = datacom.loc[Season].get('2P'),\n",
    "    y = datacom.loc[Season].get('2PA'), \n",
    "     win = datacom.loc[Season].W,\n",
    "        pts = datacom.loc[Season].PTS\n",
    "    )\n",
    "    \n",
    "    source.data = interactivedata\n",
    "    p5.title.text= \"warriors vs other team (2PA vs 2PM)    Year:\" + str(Season) +\"  Season:\" +str(Season)+'-'+str(int(Season)+1)\n",
    "    push_notebook()\n",
    "    \n",
    "\n",
    "# +\"-\"+ str(int(Season)+1)\n",
    "show(p5,notebook_handle=True)\n",
    "\n",
    "interact(update,\n",
    "Season = widgets.IntSlider(\n",
    "    value=1,\n",
    "    min=1980,\n",
    "    max=2018-1,\n",
    "    step=1,\n",
    "    description='Start Year:',\n",
    "    continuous_update=True,\n",
    "    orientation='Horizontal',\n",
    "    readout=True,\n",
    "    readout_format='d',\n",
    "));\n",
    "\n",
    "interact(update,\n",
    "    Season = widgets.Play( \n",
    "    value=0,\n",
    "    min=1980,\n",
    "    max=2018-1,\n",
    "    step=1,\n",
    "    disabled=False\n",
    "));"
   ]
  },
  {
   "cell_type": "markdown",
   "metadata": {
    "extensions": {
     "jupyter_dashboards": {
      "version": 1,
      "views": {
       "grid_default": {
        "col": 0,
        "height": 5,
        "hidden": false,
        "row": 612,
        "width": 12
       },
       "report_default": {
        "hidden": false
       }
      }
     }
    }
   },
   "source": [
    "# Warriors vs Teams (TEams that have won one championship)\n",
    "\n",
    "# FGA vs FG"
   ]
  },
  {
   "cell_type": "markdown",
   "metadata": {
    "extensions": {
     "jupyter_dashboards": {
      "version": 1,
      "views": {
       "grid_default": {
        "hidden": true
       },
       "report_default": {
        "hidden": true
       }
      }
     }
    }
   },
   "source": [
    "**Click Run Cell Below.(Refresh)*** if no reactions "
   ]
  },
  {
   "cell_type": "code",
   "execution_count": null,
   "metadata": {
    "extensions": {
     "jupyter_dashboards": {
      "version": 1,
      "views": {
       "grid_default": {
        "col": 7,
        "height": 4,
        "hidden": false,
        "row": 261,
        "width": 4
       },
       "report_default": {
        "hidden": false
       }
      }
     }
    }
   },
   "outputs": [],
   "source": [
    "from IPython.display import Javascript, display\n",
    "from ipywidgets import widgets\n",
    "\n",
    "\n",
    "def run_all(ev):\n",
    "    display(Javascript('IPython.notebook.execute_cell_range(IPython.notebook.get_selected_index()+1, IPython.notebook.get_selected_index()+2)'))\n",
    "\n",
    "button = widgets.Button(description=\"Run Cell Below\")\n",
    "button.on_click(run_all)\n",
    "display(button)"
   ]
  },
  {
   "cell_type": "code",
   "execution_count": null,
   "metadata": {
    "extensions": {
     "jupyter_dashboards": {
      "version": 1,
      "views": {
       "grid_default": {
        "col": 0,
        "height": 25,
        "hidden": false,
        "row": 617,
        "width": 9
       },
       "report_default": {
        "hidden": false
       }
      }
     }
    }
   },
   "outputs": [],
   "source": [
    "from bokeh.models import ColumnDataSource\n",
    "from bokeh.models import HoverTool\n",
    "from bokeh.models import LinearInterpolator\n",
    "from bokeh.models import CategoricalColorMapper\n",
    "from bokeh.palettes import Category20\n",
    "from bokeh.plotting import figure\n",
    "from bokeh.models import Circle\n",
    "from ipywidgets import interact,interactive, fixed, interact_manual,widgets\n",
    "from bokeh.io import push_notebook,show\n",
    "\n",
    "\n",
    "datacom = pd.read_csv('nba-players-stats/allteamcombined.csv',index_col=['Season'])\n",
    "datawarriorschamp = pd.read_csv('nba-players-stats/WarriorsChamp.csv',index_col=[\"Rank\"])\n",
    "\n",
    "source = ColumnDataSource(dict( \n",
    "    tm = datacom.loc[2010].Tm, \n",
    "    x = datacom.loc[2010].get('FG'),\n",
    "    y = datacom.loc[2010].get('FGA'),\n",
    "    win = datacom.loc[2010].W,\n",
    "    pts = datacom.loc[2010].PTS\n",
    "))\n",
    "sourcewr = ColumnDataSource(dict(\n",
    "    tm = datawarriorschamp.Tm,\n",
    "    x = datawarriorschamp.get('FG'),\n",
    "    y = datawarriorschamp.get('FGA'),\n",
    "    win = datawarriorschamp.W,\n",
    "    pts = datawarriorschamp.PTS,\n",
    "    season = datawarriorschamp.Season\n",
    "))\n",
    "Hover_tools = HoverTool(tooltips = [\n",
    "    ('Attempt', \"@y\"),\n",
    "     ('Made', \"@x\"),\n",
    "    ('Player', '@tm'),\n",
    "('Warriors Season', \"@season\")])\n",
    "\n",
    "\n",
    "\n",
    "\n",
    "# relative_size = LinearInterpolator(\n",
    "#     x = [datacom.PTS.min(),datacom.PTS.max()],\n",
    "#     y = [2,40]\n",
    "# )\n",
    "\n",
    "color_mapper = CategoricalColorMapper(\n",
    "  factors= list(datacom.Tm.unique()),\n",
    "  palette= ['#1f77b4', '#aec7e8', '#ff7f0e', \n",
    "            '#ffbb78', '#2ca02c', '#98df8a', \n",
    "            '#d62728', \n",
    "            '#ff9896', '#9467bd', '#c5b0d5',\n",
    "            '#8c564b', '#c49c94', '#e377c2', \n",
    "            '#f7b6d2', \n",
    "            '#7f7f7f', '#c7c7c7', '#bcbd22', \n",
    "            '#dbdb8d', '#17becf', '#9edae5',\n",
    "            '#800026', '#bd0026','#e31a1c', \n",
    "            '#fc4e2a',\n",
    "            '#fd8d3c','#feb24c','#fed976',\n",
    "            '#ffeda0','#ffffcc','#a6cee3',\n",
    "            '#1f78b4','#b2df8a','#33a02c',\n",
    "            '#fb9a99','#e31a1c','#fdbf6f',\n",
    "            '#ff7f00','#cab2d6','#6a3d9a',\n",
    "            '#ffff99']\n",
    ")\n",
    "\n",
    "\n",
    "# color_mapper = CategoricalColorMapper(\n",
    "#  factors=['PF-C', 'C-PF', 'C', 'G', 'F', 'G-SF', 'SF-G'],\n",
    "#  palette=['blue', 'red', 'green','grey','Purple','Black','orange'])\n",
    "p5 = figure( tools = [Hover_tools,'pan', 'wheel_zoom','box_zoom','reset','crosshair'],\n",
    "            height=600,\n",
    "           width = 600,\n",
    "           x_range = (65,100),\n",
    "           y_range=(20,60),  \n",
    "            y_axis_label = \"Field Goal Made\",\n",
    "           x_axis_label = \"Field GOal Attempt\")\n",
    "\n",
    "p5.circle(x='y', \n",
    "         y='x',\n",
    "      size = 12,\n",
    "       # color = 'blue',\n",
    "      # size = {'field':'pts','transform':relative_size},\n",
    "       color = {'field':'tm','transform': color_mapper},\n",
    "         alpha = 1,\n",
    "         legend = 'tm',\n",
    "        source = source)\n",
    "\n",
    "p5.circle(x='y', \n",
    "         y='x',\n",
    "      size = 12,\n",
    "       color = 'gold',\n",
    "      # size = {'field':'pts','transform':relative_size},\n",
    "       #color = {'field':'tm','transform': color_mapper},\n",
    "         alpha = 1,\n",
    "         legend = 'tm',\n",
    "        source = sourcewr)\n",
    "p5.right = p5.legend\n",
    "\n",
    "\n",
    "\n",
    "def update(Season):\n",
    "    interactivedata = dict(\n",
    "     tm = datacom.loc[Season].Tm, \n",
    "      x = datacom.loc[Season].get('FG'),\n",
    "    y = datacom.loc[Season].get('FGA'), \n",
    "     win = datacom.loc[Season].W,\n",
    "        pts = datacom.loc[Season].PTS\n",
    "    )\n",
    "    \n",
    "    source.data = interactivedata\n",
    "    p5.title.text= \"FGA vs FG    Year:\" + str(Season) +\"  Season:\" +str(Season)+'-'+str(int(Season)+1)\n",
    "    push_notebook()\n",
    "    \n",
    "\n",
    "# +\"-\"+ str(int(Season)+1)\n",
    "show(p5,notebook_handle=True)\n",
    "\n",
    "interact(update,\n",
    "Season = widgets.IntSlider(\n",
    "    value=1,\n",
    "    min=1980,\n",
    "    max=2017,\n",
    "    step=1,\n",
    "    description='Start Year:',\n",
    "    continuous_update=True,\n",
    "    orientation='Horizontal',\n",
    "    readout=True,\n",
    "    readout_format='d',\n",
    "));\n",
    "\n",
    "interact(update,\n",
    "    Season = widgets.Play( \n",
    "    value=0,\n",
    "    min=1980,\n",
    "    max=2017,\n",
    "    step=1,\n",
    "    disabled=False\n",
    "));"
   ]
  },
  {
   "cell_type": "markdown",
   "metadata": {
    "extensions": {
     "jupyter_dashboards": {
      "version": 1,
      "views": {
       "grid_default": {
        "col": 0,
        "height": 24,
        "hidden": false,
        "row": 397,
        "width": 12
       },
       "report_default": {
        "hidden": false
       }
      }
     }
    }
   },
   "source": [
    "# References \n",
    "https://towardsdatascience.com/the-evolution-of-the-nba-3-point-line-da6700714ad2<br>\n",
    "http://www.cad.zju.edu.cn/home/vagblog/VAG_Work/TMM_NBA.pdf<br>\n",
    "https://romain.vuillemot.net/publis/eurovis18-star-sports-data-visualization.pdf<br>\n",
    "http://www.gregreda.com/2015/02/15/web-scraping-finding-the-api/<br>\n",
    "https://thedatagame.com.au/2015/09/27/how-to-create-nba-shot-charts-in-r/ <-- NBASHOTCHART<br>\n",
    "http://nbviewer.jupyter.org/github/savvastj/nbashots/blob/master/tutorial/Tutorial.ipynb <-- nbashotchart<br>\n",
    "https://danielwelch.github.io/nba-team-shot-charts.html<--- shot chart<br>\n",
    "https://res.mdpi.com/data/data-02-00002/article_deploy/data-02-00002.pdf?filename=&attachment=1<br>\n",
    "http://positionlessbasketball.com/ <- Postionless basketball<br>\n",
    "https://digit.hbs.org/submission/moreyball-the-houston-rockets-and-analytics/ Analytical things about houston rockets<br>\n",
    "https://towardsdatascience.com/the-evolution-of-the-nba-3-point-line-da6700714ad2<br>\n",
    "https://pdfs.semanticscholar.org/8413/cc6a30ce8813a60bb85a1d039bc5ad70e39a.pdf<br>\n",
    "http://analytics-magazine.org/beyond-moneyball-the-rapidly-evolving-world-of-sports-analytics-part-i/<br>\n",
    "http://uk.businessinsider.com/warriors-small-ball-lineup-nba-finals-game-1-2015-6?r=US&IR=T<br>\n",
    "https://pdfs.semanticscholar.org/46e4/a7271de62e9118625dec935c4aef1bc0ea74.pdf<br>\n",
    "https://research.tableau.com/sites/default/files/Huang_PVA.pdf<br>\n",
    "https://www.researchgate.net/publication/46554952_Scoring_and_Shooting_Abilities_of_NBA_Players<br>\n",
    "https://pdfs.semanticscholar.org/c557/9e6cef7c5aa2a8ce96aa66f6273aaa2a9c0d.pdf<br>\n",
    "https://pdfs.semanticscholar.org/46e4/a7271de62e9118625dec935c4aef1bc0ea74.pdf<br>\n",
    "https://www.nytimes.com/interactive/2016/04/16/upshot/stephen-curry-golden-state-warriors-3-pointers.html<br>\n",
    "http://romain.vuillemot.net/publis/eurovis18-star-sports-data-visualization.pdf<br>\n",
    "# Fix the Mulitindex Bug\n",
    "https://www.somebits.com/~nelson/pandas-multiindex-slice-demo.html <br>\n",
    "\n",
    "# Data Sources \n",
    "Basketball Reference - https://www.basketball-reference.com/ <br>\n",
    "Kraggle- https://www.kaggle.com/drgilermo/nba-players-stats<br>"
   ]
  },
  {
   "cell_type": "markdown",
   "metadata": {
    "extensions": {
     "jupyter_dashboards": {
      "version": 1,
      "views": {
       "grid_default": {
        "col": 7,
        "height": 4,
        "hidden": false,
        "row": 237,
        "width": 4
       },
       "report_default": {
        "hidden": false
       }
      }
     }
    }
   },
   "source": [
    " ##### [Return Back To The Top](#TableOfContent)"
   ]
  },
  {
   "cell_type": "code",
   "execution_count": null,
   "metadata": {
    "extensions": {
     "jupyter_dashboards": {
      "version": 1,
      "views": {
       "grid_default": {
        "hidden": true
       },
       "report_default": {
        "hidden": true
       }
      }
     }
    }
   },
   "outputs": [],
   "source": []
  },
  {
   "cell_type": "code",
   "execution_count": null,
   "metadata": {},
   "outputs": [],
   "source": []
  },
  {
   "cell_type": "code",
   "execution_count": null,
   "metadata": {},
   "outputs": [],
   "source": []
  },
  {
   "cell_type": "code",
   "execution_count": null,
   "metadata": {},
   "outputs": [],
   "source": []
  },
  {
   "cell_type": "code",
   "execution_count": null,
   "metadata": {},
   "outputs": [],
   "source": []
  },
  {
   "cell_type": "code",
   "execution_count": null,
   "metadata": {},
   "outputs": [],
   "source": []
  },
  {
   "cell_type": "code",
   "execution_count": null,
   "metadata": {},
   "outputs": [],
   "source": []
  },
  {
   "cell_type": "code",
   "execution_count": null,
   "metadata": {},
   "outputs": [],
   "source": []
  },
  {
   "cell_type": "code",
   "execution_count": null,
   "metadata": {},
   "outputs": [],
   "source": []
  },
  {
   "cell_type": "code",
   "execution_count": null,
   "metadata": {},
   "outputs": [],
   "source": []
  },
  {
   "cell_type": "code",
   "execution_count": null,
   "metadata": {},
   "outputs": [],
   "source": []
  },
  {
   "cell_type": "code",
   "execution_count": null,
   "metadata": {},
   "outputs": [],
   "source": []
  },
  {
   "cell_type": "code",
   "execution_count": null,
   "metadata": {},
   "outputs": [],
   "source": []
  },
  {
   "cell_type": "code",
   "execution_count": null,
   "metadata": {},
   "outputs": [],
   "source": []
  },
  {
   "cell_type": "code",
   "execution_count": null,
   "metadata": {},
   "outputs": [],
   "source": []
  }
 ],
 "metadata": {
  "extensions": {
   "jupyter_dashboards": {
    "activeView": "report_default",
    "version": 1,
    "views": {
     "grid_default": {
      "cellMargin": 10,
      "defaultCellHeight": 20,
      "maxColumns": 12,
      "name": "grid",
      "type": "grid"
     },
     "report_default": {
      "name": "report",
      "type": "report"
     }
    }
   }
  },
  "kernelspec": {
   "display_name": "Python 3 (ipykernel)",
   "language": "python",
   "name": "python3"
  },
  "language_info": {
   "codemirror_mode": {
    "name": "ipython",
    "version": 3
   },
   "file_extension": ".py",
   "mimetype": "text/x-python",
   "name": "python",
   "nbconvert_exporter": "python",
   "pygments_lexer": "ipython3",
   "version": "3.10.9"
  }
 },
 "nbformat": 4,
 "nbformat_minor": 2
}
