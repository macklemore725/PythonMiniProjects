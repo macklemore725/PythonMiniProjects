{
 "cells": [
  {
   "cell_type": "code",
   "execution_count": 1,
   "metadata": {
    "extensions": {
     "jupyter_dashboards": {
      "version": 1,
      "views": {
       "grid_default": {
        "col": 0,
        "height": 4,
        "hidden": true,
        "row": 0,
        "width": 2
       },
       "report_default": {
        "hidden": false
       }
      }
     }
    }
   },
   "outputs": [
    {
     "data": {
      "text/html": [
       "<script>\n",
       "code_show=true; \n",
       "function code_toggle() {\n",
       " if (code_show){\n",
       " $('div.input').hide();\n",
       " } else {\n",
       " $('div.input').show();\n",
       " }\n",
       " code_show = !code_show\n",
       "} \n",
       "$( document ).ready(code_toggle);\n",
       "</script>\n",
       "<form action=\"javascript:code_toggle()\"><input type=\"submit\" value=\"on/off\"></form>"
      ],
      "text/plain": [
       "<IPython.core.display.HTML object>"
      ]
     },
     "execution_count": 1,
     "metadata": {},
     "output_type": "execute_result"
    }
   ],
   "source": [
    "from IPython.display import HTML\n",
    "\n",
    "HTML('''<script>\n",
    "code_show=true; \n",
    "function code_toggle() {\n",
    " if (code_show){\n",
    " $('div.input').hide();\n",
    " } else {\n",
    " $('div.input').show();\n",
    " }\n",
    " code_show = !code_show\n",
    "} \n",
    "$( document ).ready(code_toggle);\n",
    "</script>\n",
    "<form action=\"javascript:code_toggle()\"><input type=\"submit\" value=\"on/off\"></form>''')\n",
    "\n"
   ]
  },
  {
   "cell_type": "code",
   "execution_count": 2,
   "metadata": {
    "extensions": {
     "jupyter_dashboards": {
      "version": 1,
      "views": {
       "grid_default": {
        "col": 8,
        "height": 4,
        "hidden": false,
        "row": 161,
        "width": 4
       },
       "report_default": {
        "hidden": false
       }
      }
     }
    }
   },
   "outputs": [
    {
     "data": {
      "text/html": [
       "<style>.container { width:75% !important; }</style>"
      ],
      "text/plain": [
       "<IPython.core.display.HTML object>"
      ]
     },
     "metadata": {},
     "output_type": "display_data"
    }
   ],
   "source": [
    "from IPython.core.display import display, HTML\n",
    "display(HTML(\"<style>.container { width:75% !important; }</style>\"))\n",
    "# from IPython.core.display import display, HTML\n",
    "# display(HTML(\"<style>.container { width:100% !important; }</style>\"))\n",
    "\n",
    "# #Change size codes\n",
    "# #Change size codes"
   ]
  },
  {
   "cell_type": "code",
   "execution_count": 3,
   "metadata": {
    "extensions": {
     "jupyter_dashboards": {
      "version": 1,
      "views": {
       "grid_default": {
        "hidden": true
       },
       "report_default": {
        "hidden": true
       }
      }
     }
    }
   },
   "outputs": [],
   "source": [
    "# from IPython.core.display import display, HTML\n",
    "# display(HTML(\"<style>.container { width:45% !important; }</style>\"))"
   ]
  },
  {
   "cell_type": "markdown",
   "metadata": {
    "extensions": {
     "jupyter_dashboards": {
      "version": 1,
      "views": {
       "grid_default": {
        "col": 0,
        "height": 4,
        "hidden": true,
        "row": 0,
        "width": 4
       },
       "report_default": {
        "hidden": false
       }
      }
     }
    }
   },
   "source": [
    "<a name=\"TableOfContent\"></a>\n",
    "<h1 style=\"text-align:center;font-family:verdana;\"> Basketball Data Visualisation</h1>"
   ]
  },
  {
   "cell_type": "code",
   "execution_count": 4,
   "metadata": {
    "extensions": {
     "jupyter_dashboards": {
      "version": 1,
      "views": {
       "grid_default": {
        "col": 8,
        "height": 4,
        "hidden": false,
        "row": 0,
        "width": 4
       },
       "report_default": {
        "hidden": false
       }
      }
     }
    }
   },
   "outputs": [
    {
     "data": {
      "text/html": [
       "\n",
       "    <div class=\"bk-root\">\n",
       "        <a href=\"https://bokeh.pydata.org\" target=\"_blank\" class=\"bk-logo bk-logo-small bk-logo-notebook\"></a>\n",
       "        <span id=\"9192969a-f0f0-4b43-b22d-989c1fb061b8\">Loading BokehJS ...</span>\n",
       "    </div>"
      ]
     },
     "metadata": {},
     "output_type": "display_data"
    },
    {
     "data": {
      "application/javascript": [
       "\n",
       "(function(root) {\n",
       "  function now() {\n",
       "    return new Date();\n",
       "  }\n",
       "\n",
       "  var force = true;\n",
       "\n",
       "  if (typeof (root._bokeh_onload_callbacks) === \"undefined\" || force === true) {\n",
       "    root._bokeh_onload_callbacks = [];\n",
       "    root._bokeh_is_loading = undefined;\n",
       "  }\n",
       "\n",
       "  var JS_MIME_TYPE = 'application/javascript';\n",
       "  var HTML_MIME_TYPE = 'text/html';\n",
       "  var EXEC_MIME_TYPE = 'application/vnd.bokehjs_exec.v0+json';\n",
       "  var CLASS_NAME = 'output_bokeh rendered_html';\n",
       "\n",
       "  /**\n",
       "   * Render data to the DOM node\n",
       "   */\n",
       "  function render(props, node) {\n",
       "    var script = document.createElement(\"script\");\n",
       "    node.appendChild(script);\n",
       "  }\n",
       "\n",
       "  /**\n",
       "   * Handle when an output is cleared or removed\n",
       "   */\n",
       "  function handleClearOutput(event, handle) {\n",
       "    var cell = handle.cell;\n",
       "\n",
       "    var id = cell.output_area._bokeh_element_id;\n",
       "    var server_id = cell.output_area._bokeh_server_id;\n",
       "    // Clean up Bokeh references\n",
       "    if (id !== undefined) {\n",
       "      Bokeh.index[id].model.document.clear();\n",
       "      delete Bokeh.index[id];\n",
       "    }\n",
       "\n",
       "    if (server_id !== undefined) {\n",
       "      // Clean up Bokeh references\n",
       "      var cmd = \"from bokeh.io.state import curstate; print(curstate().uuid_to_server['\" + server_id + \"'].get_sessions()[0].document.roots[0]._id)\";\n",
       "      cell.notebook.kernel.execute(cmd, {\n",
       "        iopub: {\n",
       "          output: function(msg) {\n",
       "            var element_id = msg.content.text.trim();\n",
       "            Bokeh.index[element_id].model.document.clear();\n",
       "            delete Bokeh.index[element_id];\n",
       "          }\n",
       "        }\n",
       "      });\n",
       "      // Destroy server and session\n",
       "      var cmd = \"import bokeh.io.notebook as ion; ion.destroy_server('\" + server_id + \"')\";\n",
       "      cell.notebook.kernel.execute(cmd);\n",
       "    }\n",
       "  }\n",
       "\n",
       "  /**\n",
       "   * Handle when a new output is added\n",
       "   */\n",
       "  function handleAddOutput(event, handle) {\n",
       "    var output_area = handle.output_area;\n",
       "    var output = handle.output;\n",
       "\n",
       "    // limit handleAddOutput to display_data with EXEC_MIME_TYPE content only\n",
       "    if ((output.output_type != \"display_data\") || (!output.data.hasOwnProperty(EXEC_MIME_TYPE))) {\n",
       "      return\n",
       "    }\n",
       "\n",
       "    var toinsert = output_area.element.find(\".\" + CLASS_NAME.split(' ')[0]);\n",
       "\n",
       "    if (output.metadata[EXEC_MIME_TYPE][\"id\"] !== undefined) {\n",
       "      toinsert[toinsert.length - 1].firstChild.textContent = output.data[JS_MIME_TYPE];\n",
       "      // store reference to embed id on output_area\n",
       "      output_area._bokeh_element_id = output.metadata[EXEC_MIME_TYPE][\"id\"];\n",
       "    }\n",
       "    if (output.metadata[EXEC_MIME_TYPE][\"server_id\"] !== undefined) {\n",
       "      var bk_div = document.createElement(\"div\");\n",
       "      bk_div.innerHTML = output.data[HTML_MIME_TYPE];\n",
       "      var script_attrs = bk_div.children[0].attributes;\n",
       "      for (var i = 0; i < script_attrs.length; i++) {\n",
       "        toinsert[toinsert.length - 1].firstChild.setAttribute(script_attrs[i].name, script_attrs[i].value);\n",
       "      }\n",
       "      // store reference to server id on output_area\n",
       "      output_area._bokeh_server_id = output.metadata[EXEC_MIME_TYPE][\"server_id\"];\n",
       "    }\n",
       "  }\n",
       "\n",
       "  function register_renderer(events, OutputArea) {\n",
       "\n",
       "    function append_mime(data, metadata, element) {\n",
       "      // create a DOM node to render to\n",
       "      var toinsert = this.create_output_subarea(\n",
       "        metadata,\n",
       "        CLASS_NAME,\n",
       "        EXEC_MIME_TYPE\n",
       "      );\n",
       "      this.keyboard_manager.register_events(toinsert);\n",
       "      // Render to node\n",
       "      var props = {data: data, metadata: metadata[EXEC_MIME_TYPE]};\n",
       "      render(props, toinsert[toinsert.length - 1]);\n",
       "      element.append(toinsert);\n",
       "      return toinsert\n",
       "    }\n",
       "\n",
       "    /* Handle when an output is cleared or removed */\n",
       "    events.on('clear_output.CodeCell', handleClearOutput);\n",
       "    events.on('delete.Cell', handleClearOutput);\n",
       "\n",
       "    /* Handle when a new output is added */\n",
       "    events.on('output_added.OutputArea', handleAddOutput);\n",
       "\n",
       "    /**\n",
       "     * Register the mime type and append_mime function with output_area\n",
       "     */\n",
       "    OutputArea.prototype.register_mime_type(EXEC_MIME_TYPE, append_mime, {\n",
       "      /* Is output safe? */\n",
       "      safe: true,\n",
       "      /* Index of renderer in `output_area.display_order` */\n",
       "      index: 0\n",
       "    });\n",
       "  }\n",
       "\n",
       "  // register the mime type if in Jupyter Notebook environment and previously unregistered\n",
       "  if (root.Jupyter !== undefined) {\n",
       "    var events = require('base/js/events');\n",
       "    var OutputArea = require('notebook/js/outputarea').OutputArea;\n",
       "\n",
       "    if (OutputArea.prototype.mime_types().indexOf(EXEC_MIME_TYPE) == -1) {\n",
       "      register_renderer(events, OutputArea);\n",
       "    }\n",
       "  }\n",
       "\n",
       "  \n",
       "  if (typeof (root._bokeh_timeout) === \"undefined\" || force === true) {\n",
       "    root._bokeh_timeout = Date.now() + 5000;\n",
       "    root._bokeh_failed_load = false;\n",
       "  }\n",
       "\n",
       "  var NB_LOAD_WARNING = {'data': {'text/html':\n",
       "     \"<div style='background-color: #fdd'>\\n\"+\n",
       "     \"<p>\\n\"+\n",
       "     \"BokehJS does not appear to have successfully loaded. If loading BokehJS from CDN, this \\n\"+\n",
       "     \"may be due to a slow or bad network connection. Possible fixes:\\n\"+\n",
       "     \"</p>\\n\"+\n",
       "     \"<ul>\\n\"+\n",
       "     \"<li>re-rerun `output_notebook()` to attempt to load from CDN again, or</li>\\n\"+\n",
       "     \"<li>use INLINE resources instead, as so:</li>\\n\"+\n",
       "     \"</ul>\\n\"+\n",
       "     \"<code>\\n\"+\n",
       "     \"from bokeh.resources import INLINE\\n\"+\n",
       "     \"output_notebook(resources=INLINE)\\n\"+\n",
       "     \"</code>\\n\"+\n",
       "     \"</div>\"}};\n",
       "\n",
       "  function display_loaded() {\n",
       "    var el = document.getElementById(\"9192969a-f0f0-4b43-b22d-989c1fb061b8\");\n",
       "    if (el != null) {\n",
       "      el.textContent = \"BokehJS is loading...\";\n",
       "    }\n",
       "    if (root.Bokeh !== undefined) {\n",
       "      if (el != null) {\n",
       "        el.textContent = \"BokehJS \" + root.Bokeh.version + \" successfully loaded.\";\n",
       "      }\n",
       "    } else if (Date.now() < root._bokeh_timeout) {\n",
       "      setTimeout(display_loaded, 100)\n",
       "    }\n",
       "  }\n",
       "\n",
       "\n",
       "  function run_callbacks() {\n",
       "    try {\n",
       "      root._bokeh_onload_callbacks.forEach(function(callback) { callback() });\n",
       "    }\n",
       "    finally {\n",
       "      delete root._bokeh_onload_callbacks\n",
       "    }\n",
       "    console.info(\"Bokeh: all callbacks have finished\");\n",
       "  }\n",
       "\n",
       "  function load_libs(js_urls, callback) {\n",
       "    root._bokeh_onload_callbacks.push(callback);\n",
       "    if (root._bokeh_is_loading > 0) {\n",
       "      console.log(\"Bokeh: BokehJS is being loaded, scheduling callback at\", now());\n",
       "      return null;\n",
       "    }\n",
       "    if (js_urls == null || js_urls.length === 0) {\n",
       "      run_callbacks();\n",
       "      return null;\n",
       "    }\n",
       "    console.log(\"Bokeh: BokehJS not loaded, scheduling load and callback at\", now());\n",
       "    root._bokeh_is_loading = js_urls.length;\n",
       "    for (var i = 0; i < js_urls.length; i++) {\n",
       "      var url = js_urls[i];\n",
       "      var s = document.createElement('script');\n",
       "      s.src = url;\n",
       "      s.async = false;\n",
       "      s.onreadystatechange = s.onload = function() {\n",
       "        root._bokeh_is_loading--;\n",
       "        if (root._bokeh_is_loading === 0) {\n",
       "          console.log(\"Bokeh: all BokehJS libraries loaded\");\n",
       "          run_callbacks()\n",
       "        }\n",
       "      };\n",
       "      s.onerror = function() {\n",
       "        console.warn(\"failed to load library \" + url);\n",
       "      };\n",
       "      console.log(\"Bokeh: injecting script tag for BokehJS library: \", url);\n",
       "      document.getElementsByTagName(\"head\")[0].appendChild(s);\n",
       "    }\n",
       "  };var element = document.getElementById(\"9192969a-f0f0-4b43-b22d-989c1fb061b8\");\n",
       "  if (element == null) {\n",
       "    console.log(\"Bokeh: ERROR: autoload.js configured with elementid '9192969a-f0f0-4b43-b22d-989c1fb061b8' but no matching script tag was found. \")\n",
       "    return false;\n",
       "  }\n",
       "\n",
       "  var js_urls = [\"https://cdn.pydata.org/bokeh/release/bokeh-0.12.16.min.js\", \"https://cdn.pydata.org/bokeh/release/bokeh-widgets-0.12.16.min.js\", \"https://cdn.pydata.org/bokeh/release/bokeh-tables-0.12.16.min.js\", \"https://cdn.pydata.org/bokeh/release/bokeh-gl-0.12.16.min.js\"];\n",
       "\n",
       "  var inline_js = [\n",
       "    function(Bokeh) {\n",
       "      Bokeh.set_log_level(\"info\");\n",
       "    },\n",
       "    \n",
       "    function(Bokeh) {\n",
       "      \n",
       "    },\n",
       "    function(Bokeh) {\n",
       "      console.log(\"Bokeh: injecting CSS: https://cdn.pydata.org/bokeh/release/bokeh-0.12.16.min.css\");\n",
       "      Bokeh.embed.inject_css(\"https://cdn.pydata.org/bokeh/release/bokeh-0.12.16.min.css\");\n",
       "      console.log(\"Bokeh: injecting CSS: https://cdn.pydata.org/bokeh/release/bokeh-widgets-0.12.16.min.css\");\n",
       "      Bokeh.embed.inject_css(\"https://cdn.pydata.org/bokeh/release/bokeh-widgets-0.12.16.min.css\");\n",
       "      console.log(\"Bokeh: injecting CSS: https://cdn.pydata.org/bokeh/release/bokeh-tables-0.12.16.min.css\");\n",
       "      Bokeh.embed.inject_css(\"https://cdn.pydata.org/bokeh/release/bokeh-tables-0.12.16.min.css\");\n",
       "    }\n",
       "  ];\n",
       "\n",
       "  function run_inline_js() {\n",
       "    \n",
       "    if ((root.Bokeh !== undefined) || (force === true)) {\n",
       "      for (var i = 0; i < inline_js.length; i++) {\n",
       "        inline_js[i].call(root, root.Bokeh);\n",
       "      }if (force === true) {\n",
       "        display_loaded();\n",
       "      }} else if (Date.now() < root._bokeh_timeout) {\n",
       "      setTimeout(run_inline_js, 100);\n",
       "    } else if (!root._bokeh_failed_load) {\n",
       "      console.log(\"Bokeh: BokehJS failed to load within specified timeout.\");\n",
       "      root._bokeh_failed_load = true;\n",
       "    } else if (force !== true) {\n",
       "      var cell = $(document.getElementById(\"9192969a-f0f0-4b43-b22d-989c1fb061b8\")).parents('.cell').data().cell;\n",
       "      cell.output_area.append_execute_result(NB_LOAD_WARNING)\n",
       "    }\n",
       "\n",
       "  }\n",
       "\n",
       "  if (root._bokeh_is_loading === 0) {\n",
       "    console.log(\"Bokeh: BokehJS loaded, going straight to plotting\");\n",
       "    run_inline_js();\n",
       "  } else {\n",
       "    load_libs(js_urls, function() {\n",
       "      console.log(\"Bokeh: BokehJS plotting callback run at\", now());\n",
       "      run_inline_js();\n",
       "    });\n",
       "  }\n",
       "}(window));"
      ],
      "application/vnd.bokehjs_load.v0+json": "\n(function(root) {\n  function now() {\n    return new Date();\n  }\n\n  var force = true;\n\n  if (typeof (root._bokeh_onload_callbacks) === \"undefined\" || force === true) {\n    root._bokeh_onload_callbacks = [];\n    root._bokeh_is_loading = undefined;\n  }\n\n  \n\n  \n  if (typeof (root._bokeh_timeout) === \"undefined\" || force === true) {\n    root._bokeh_timeout = Date.now() + 5000;\n    root._bokeh_failed_load = false;\n  }\n\n  var NB_LOAD_WARNING = {'data': {'text/html':\n     \"<div style='background-color: #fdd'>\\n\"+\n     \"<p>\\n\"+\n     \"BokehJS does not appear to have successfully loaded. If loading BokehJS from CDN, this \\n\"+\n     \"may be due to a slow or bad network connection. Possible fixes:\\n\"+\n     \"</p>\\n\"+\n     \"<ul>\\n\"+\n     \"<li>re-rerun `output_notebook()` to attempt to load from CDN again, or</li>\\n\"+\n     \"<li>use INLINE resources instead, as so:</li>\\n\"+\n     \"</ul>\\n\"+\n     \"<code>\\n\"+\n     \"from bokeh.resources import INLINE\\n\"+\n     \"output_notebook(resources=INLINE)\\n\"+\n     \"</code>\\n\"+\n     \"</div>\"}};\n\n  function display_loaded() {\n    var el = document.getElementById(\"9192969a-f0f0-4b43-b22d-989c1fb061b8\");\n    if (el != null) {\n      el.textContent = \"BokehJS is loading...\";\n    }\n    if (root.Bokeh !== undefined) {\n      if (el != null) {\n        el.textContent = \"BokehJS \" + root.Bokeh.version + \" successfully loaded.\";\n      }\n    } else if (Date.now() < root._bokeh_timeout) {\n      setTimeout(display_loaded, 100)\n    }\n  }\n\n\n  function run_callbacks() {\n    try {\n      root._bokeh_onload_callbacks.forEach(function(callback) { callback() });\n    }\n    finally {\n      delete root._bokeh_onload_callbacks\n    }\n    console.info(\"Bokeh: all callbacks have finished\");\n  }\n\n  function load_libs(js_urls, callback) {\n    root._bokeh_onload_callbacks.push(callback);\n    if (root._bokeh_is_loading > 0) {\n      console.log(\"Bokeh: BokehJS is being loaded, scheduling callback at\", now());\n      return null;\n    }\n    if (js_urls == null || js_urls.length === 0) {\n      run_callbacks();\n      return null;\n    }\n    console.log(\"Bokeh: BokehJS not loaded, scheduling load and callback at\", now());\n    root._bokeh_is_loading = js_urls.length;\n    for (var i = 0; i < js_urls.length; i++) {\n      var url = js_urls[i];\n      var s = document.createElement('script');\n      s.src = url;\n      s.async = false;\n      s.onreadystatechange = s.onload = function() {\n        root._bokeh_is_loading--;\n        if (root._bokeh_is_loading === 0) {\n          console.log(\"Bokeh: all BokehJS libraries loaded\");\n          run_callbacks()\n        }\n      };\n      s.onerror = function() {\n        console.warn(\"failed to load library \" + url);\n      };\n      console.log(\"Bokeh: injecting script tag for BokehJS library: \", url);\n      document.getElementsByTagName(\"head\")[0].appendChild(s);\n    }\n  };var element = document.getElementById(\"9192969a-f0f0-4b43-b22d-989c1fb061b8\");\n  if (element == null) {\n    console.log(\"Bokeh: ERROR: autoload.js configured with elementid '9192969a-f0f0-4b43-b22d-989c1fb061b8' but no matching script tag was found. \")\n    return false;\n  }\n\n  var js_urls = [\"https://cdn.pydata.org/bokeh/release/bokeh-0.12.16.min.js\", \"https://cdn.pydata.org/bokeh/release/bokeh-widgets-0.12.16.min.js\", \"https://cdn.pydata.org/bokeh/release/bokeh-tables-0.12.16.min.js\", \"https://cdn.pydata.org/bokeh/release/bokeh-gl-0.12.16.min.js\"];\n\n  var inline_js = [\n    function(Bokeh) {\n      Bokeh.set_log_level(\"info\");\n    },\n    \n    function(Bokeh) {\n      \n    },\n    function(Bokeh) {\n      console.log(\"Bokeh: injecting CSS: https://cdn.pydata.org/bokeh/release/bokeh-0.12.16.min.css\");\n      Bokeh.embed.inject_css(\"https://cdn.pydata.org/bokeh/release/bokeh-0.12.16.min.css\");\n      console.log(\"Bokeh: injecting CSS: https://cdn.pydata.org/bokeh/release/bokeh-widgets-0.12.16.min.css\");\n      Bokeh.embed.inject_css(\"https://cdn.pydata.org/bokeh/release/bokeh-widgets-0.12.16.min.css\");\n      console.log(\"Bokeh: injecting CSS: https://cdn.pydata.org/bokeh/release/bokeh-tables-0.12.16.min.css\");\n      Bokeh.embed.inject_css(\"https://cdn.pydata.org/bokeh/release/bokeh-tables-0.12.16.min.css\");\n    }\n  ];\n\n  function run_inline_js() {\n    \n    if ((root.Bokeh !== undefined) || (force === true)) {\n      for (var i = 0; i < inline_js.length; i++) {\n        inline_js[i].call(root, root.Bokeh);\n      }if (force === true) {\n        display_loaded();\n      }} else if (Date.now() < root._bokeh_timeout) {\n      setTimeout(run_inline_js, 100);\n    } else if (!root._bokeh_failed_load) {\n      console.log(\"Bokeh: BokehJS failed to load within specified timeout.\");\n      root._bokeh_failed_load = true;\n    } else if (force !== true) {\n      var cell = $(document.getElementById(\"9192969a-f0f0-4b43-b22d-989c1fb061b8\")).parents('.cell').data().cell;\n      cell.output_area.append_execute_result(NB_LOAD_WARNING)\n    }\n\n  }\n\n  if (root._bokeh_is_loading === 0) {\n    console.log(\"Bokeh: BokehJS loaded, going straight to plotting\");\n    run_inline_js();\n  } else {\n    load_libs(js_urls, function() {\n      console.log(\"Bokeh: BokehJS plotting callback run at\", now());\n      run_inline_js();\n    });\n  }\n}(window));"
     },
     "metadata": {},
     "output_type": "display_data"
    }
   ],
   "source": [
    "import pandas as pd\n",
    "from bokeh.io import output_notebook \n",
    "output_notebook()"
   ]
  },
  {
   "cell_type": "markdown",
   "metadata": {
    "extensions": {
     "jupyter_dashboards": {
      "version": 1,
      "views": {
       "grid_default": {
        "col": 0,
        "height": 21,
        "hidden": false,
        "row": 421,
        "width": 12
       },
       "report_default": {
        "hidden": false
       }
      }
     }
    }
   },
   "source": [
    "\n",
    "# Table of contents  \n",
    "##  [Motivation/Aims](#motivation)\n",
    "##  [Information about Basketball](#BasicBasketball)\n",
    "## [Aim 1](#Aim1)\n",
    "   ### - [Three Points Stats per Season](#ThreePointAim)\n",
    "   ### - [Three Points Stats per Season of Players Total](#ThreePointPlayer)\n",
    "   ### - [Three Points Stats per Season by each Positions Total](#ThreePointPosition)\n",
    "   ### - [Three Points Stats 3PA / FGA (3PAR)](#ThreePointRatio) \n",
    "## [Aim 2](#Aim2)\n",
    "   ### - [Players Weight Vs Height ](#weightvsheight)\n",
    "   ### - [2 Points Attempts Verses 3 Point Attempts](#2v3)\n",
    "## [Aim 3](#Aim3)\n",
    "   ### - [Players Comparison Stats Investigation](#ComparingPlayersStats)\n",
    "   \n"
   ]
  },
  {
   "cell_type": "markdown",
   "metadata": {
    "extensions": {
     "jupyter_dashboards": {
      "version": 1,
      "views": {
       "grid_default": {
        "col": 0,
        "height": 4,
        "hidden": false,
        "row": 0,
        "width": 4
       },
       "report_default": {
        "hidden": false
       }
      }
     }
    }
   },
   "source": [
    "<hr style=\"height:1px;border:none;color:#333;background-color:#333;\" />"
   ]
  },
  {
   "cell_type": "markdown",
   "metadata": {
    "extensions": {
     "jupyter_dashboards": {
      "version": 1,
      "views": {
       "grid_default": {
        "col": 0,
        "height": 14,
        "hidden": true,
        "row": 0,
        "width": 12
       },
       "report_default": {
        "hidden": false
       }
      }
     }
    }
   },
   "source": [
    " <a name=\"motivation\"></a>\n",
    "# Motivation \n",
    "\n",
    "### During the Duration of 1942-2018   the basketball game has changed from player getting bigger,faster,shooting better. My goal is  to display these evidence through  data visualisation.\n",
    "\n",
    "\n",
    "### Explain how it used in the modern day : \n",
    "- Gives team analytics for them to analysis and help them gain an advantage over teams.\n",
    "- Moneyball comes from stats anaylsis. Which is for a team to sell overvalued players to other teams and buy undervalued players from teams to stay compete. \n",
    "\n",
    "\n",
    "# Aims \n",
    "    1.Show evidence of Evolution of the three points from 1980 to 2018 \n",
    "    2.Show evidence of an more all-around play style in basketball\n",
    "    3.Investigate statistics that  makes a player great and evidence on why they are great in their own duration.\n",
    "    4.Show evidence of why Warriors (current NBA champion team)is the best current/historic team ?  \n"
   ]
  },
  {
   "cell_type": "markdown",
   "metadata": {
    "extensions": {
     "jupyter_dashboards": {
      "version": 1,
      "views": {
       "grid_default": {
        "col": 4,
        "height": 4,
        "hidden": false,
        "row": 0,
        "width": 4
       },
       "report_default": {
        "hidden": false
       }
      }
     }
    }
   },
   "source": [
    "<hr style=\"height:1px;border:none;color:#333;background-color:#333;\" />"
   ]
  },
  {
   "cell_type": "markdown",
   "metadata": {
    "extensions": {
     "jupyter_dashboards": {
      "version": 1,
      "views": {
       "grid_default": {
        "col": 0,
        "height": 18,
        "hidden": false,
        "row": 8,
        "width": 12
       },
       "report_default": {
        "hidden": false
       }
      }
     }
    }
   },
   "source": [
    "# Some Basic Information about Basketball <a name=\"BasicBasketball\"></a>\n",
    " \n",
    " - Basketball was first played in 1891 \n",
    " - Its primary objectives are having a team of 5 players to score in a hoop(18 inch or 46 cm), with a ball(9.4 inches or 24 cm).\n",
    " - The three pointer was impletemented during 1980 thats when to famous player called Magic Johnson and Larry Bird Had join the league of the NBA. \n",
    "     \n",
    "### Positions of the for each player is \n",
    "- Point Guard called a  1\n",
    "- Shooting Guard called a 2 \n",
    "- Small Forward called a 3 \n",
    "- Power Forward called a 4 \n",
    "- Center called a 5 \n",
    "         \n",
    "### Court Size  (NBA)\n",
    " - Court length - 94ft or 28.65m(NBA)\n",
    " - Court Width  - 50ft or 15.24m(NBA)\n",
    " \n",
    "### Three Point Distance  (NBA)\n",
    " - Three Pointer  23.75ft or 7.24m (NBA)\n",
    " - Corner Pointer 22ft or 6.70m(NBA)\n",
    " \n",
    "(Three Pointers only count when the person shoots behind it if your foot is on the line it counts as a two point) "
   ]
  },
  {
   "cell_type": "markdown",
   "metadata": {
    "extensions": {
     "jupyter_dashboards": {
      "version": 1,
      "views": {
       "grid_default": {
        "col": 0,
        "height": 19,
        "hidden": false,
        "row": 26,
        "width": 12
       },
       "report_default": {
        "hidden": false
       }
      }
     }
    }
   },
   "source": [
    "![Image of Yaktocat](https://upload.wikimedia.org/wikipedia/commons/a/ac/Basketball_Positions.png)"
   ]
  },
  {
   "cell_type": "markdown",
   "metadata": {
    "extensions": {
     "jupyter_dashboards": {
      "version": 1,
      "views": {
       "grid_default": {
        "col": 0,
        "height": 22,
        "hidden": false,
        "row": 45,
        "width": 12
       },
       "report_default": {
        "hidden": false
       }
      }
     }
    }
   },
   "source": [
    "# NBA Questions to Create Data Visuals.  \n",
    "   \n",
    "### 3 Point Question \n",
    "   - How important is the three pointer now ? \n",
    "   - How the evolution/importance of 3 pointer changed from the first years in the nba ? \n",
    "   - How has the nba 3 point changed over years since 1980? \n",
    "   - Which year did the Nba THree pointer start to bloom and showed a big role ?\n",
    "   - 3PA Ratio Comparing to Field Goal Attempts. ( 3PA / FGA ) \n",
    "\n",
    "### NBA player being more equal and displaying more all-around play style in basketball ?\n",
    "   - Are we moving towards positionless basketball ? ( more around players)\n",
    "   - Show how players has gotten bigger. \n",
    "   - Show how 2 and 3 and more equal than ever assuming that all players are expected to do everything\n",
    "   - 3PA Ratio Comparing to Field Goal Attempts. ( 3PA / FGA ) \n",
    "    \n",
    "### How is it defined to be a great Player ? \n",
    "   - what do they do in common ? \n",
    "   - What do they do differently ? \n",
    "   - What do they do best comparing to them all ? \n",
    "   - Compare their averages per game and totals in their in their career. \n",
    "     \n",
    "### How is the warriors the best team ? \n",
    "   - what do they do in common ? \n",
    "   - What do they do differently ?\n",
    "   - What do they do best comparing to them all ? \n"
   ]
  },
  {
   "cell_type": "markdown",
   "metadata": {
    "extensions": {
     "jupyter_dashboards": {
      "version": 1,
      "views": {
       "grid_default": {
        "col": 0,
        "height": 8,
        "hidden": false,
        "row": 67,
        "width": 12
       },
       "report_default": {
        "hidden": false
       }
      }
     }
    }
   },
   "source": [
    "# Graphs that might be neeeded to show for aim 1\n",
    "\n",
    "- Over years difference the seasons average  comparing it till the the 3 pointer was introduced to the nba. \n",
    "- Compare the attempts of three pointers comparing the previous years as season. \n",
    "- Compare the attempts of three pointers made as a season. \n",
    "- Compare the attempts of total of three points made and attempted every season.\n",
    "- Compare the attempts of fields goals that are being shot comparing to before. \n",
    "- Compare all the players every season from now to since and see the difference in the three pointers. \n",
    "- Compare the 3par where you can c the difference between the 3 points and the others. \n"
   ]
  },
  {
   "cell_type": "markdown",
   "metadata": {
    "extensions": {
     "jupyter_dashboards": {
      "version": 1,
      "views": {
       "grid_default": {
        "col": 0,
        "height": 8,
        "hidden": false,
        "row": 75,
        "width": 12
       },
       "report_default": {
        "hidden": false
       }
      }
     }
    }
   },
   "source": [
    "### Think of reasons why the 3 pointers are being more important than it used to be. \n",
    "\n",
    "- 3 is always bigger than 2 (3>2)\n",
    "- Times has changed the players are more skilled than they were use to \n",
    "- Points come in more efficent \n",
    "- Houston ROckets Daryl Morey/Mike D'Antoni System got Houston Rockets to WCF. 7 Games with the Warriors.\n",
    "- Proper Centers are gone.  \n",
    "- The league is now going forward the stage where their is now postionless roles and are expected to be able to shoot from everyone"
   ]
  },
  {
   "cell_type": "markdown",
   "metadata": {
    "extensions": {
     "jupyter_dashboards": {
      "version": 1,
      "views": {
       "grid_default": {
        "col": 0,
        "height": 7,
        "hidden": false,
        "row": 83,
        "width": 12
       },
       "report_default": {
        "hidden": false
       }
      }
     }
    }
   },
   "source": [
    "\n",
    "# Incidents that has happened or Major Rules changes that occured that enables Smaller Players\n",
    "\n",
    "- 2003-2004 season hand checking was banned from the nba. \n",
    "    - hand checking is when you put \"Hand Checking: A defender may not place and keep his hand on an opponent unless he is in the area near the basket with his back to the basket. A defender may momentarily touch an opponent with his hand anywhere on the court as long as it does not affect the opponent's movement\"\n"
   ]
  },
  {
   "cell_type": "markdown",
   "metadata": {
    "extensions": {
     "jupyter_dashboards": {
      "version": 1,
      "views": {
       "grid_default": {
        "col": 8,
        "height": 4,
        "hidden": false,
        "row": 4,
        "width": 4
       },
       "report_default": {
        "hidden": false
       }
      }
     }
    }
   },
   "source": [
    "<hr style=\"height:1px;border:none;color:#333;background-color:#333;\" />"
   ]
  },
  {
   "cell_type": "markdown",
   "metadata": {
    "extensions": {
     "jupyter_dashboards": {
      "version": 1,
      "views": {
       "grid_default": {
        "col": 0,
        "height": 4,
        "hidden": false,
        "row": 442,
        "width": 12
       },
       "report_default": {
        "hidden": false
       }
      }
     }
    }
   },
   "source": [
    "<a name=\"Aim1\"></a>\n",
    "\n",
    "# Aim 1: Show evidence of Evolution of the three points from 1980 to 2018 "
   ]
  },
  {
   "cell_type": "markdown",
   "metadata": {
    "extensions": {
     "jupyter_dashboards": {
      "version": 1,
      "views": {
       "grid_default": {
        "col": 0,
        "height": 13,
        "hidden": false,
        "row": 90,
        "width": 12
       },
       "report_default": {
        "hidden": false
       }
      }
     }
    }
   },
   "source": [
    "# Three Points Stats per Season   <a name=\"ThreePointAim\"></a>\n",
    "This Graphs shows that that nba increasing shot more and attempted more shots. I am gonna assume that this number would increase more as times go. Only if their was a sudden change of rules and court in the nba. \n",
    "\n",
    "Take account there are some years that are lockseason where players and owners cant come in an agreement on the money that they make and their season are shorter. \n",
    "\n",
    "- nba season 2011-2012 and 1998-1999 is having a lockouts so they might are outliers to the graph due to lack of games being cut in half. \n",
    "- 1994-95 season through the 1996-97 season. Three Point line was 22 feet all around not just the corners.\n",
    "- https://americansportshistory.com/2014/02/13/the-history-of-the-three-point-line-in-the-nba/\n",
    "# Explanation of the Visual Data.\n",
    "- x axis is 3P made per game average \n",
    "- y axis is 3P attempt per team average \n",
    "- Circle size = League Average of the amount of three made by teams.\n",
    "\n",
    "# Results \n",
    "Shows the INcrease of three pointers from each span. \n",
    "Line Graph indicates the increase. \n",
    "\n",
    "\n"
   ]
  },
  {
   "cell_type": "markdown",
   "metadata": {
    "extensions": {
     "jupyter_dashboards": {
      "version": 1,
      "views": {
       "grid_default": {
        "col": 0,
        "height": 4,
        "hidden": false,
        "row": 4,
        "width": 4
       },
       "report_default": {
        "hidden": false
       }
      }
     }
    }
   },
   "source": [
    "**Click Run Cell Below.(Refresh)*** if no reactions "
   ]
  },
  {
   "cell_type": "code",
   "execution_count": 10,
   "metadata": {
    "extensions": {
     "jupyter_dashboards": {
      "version": 1,
      "views": {
       "grid_default": {
        "col": 4,
        "height": 4,
        "hidden": false,
        "row": 4,
        "width": 4
       },
       "report_default": {
        "hidden": false
       }
      }
     }
    }
   },
   "outputs": [
    {
     "data": {
      "application/vnd.jupyter.widget-view+json": {
       "model_id": "ab225043c3614bfd8c042e09266bd7b2",
       "version_major": 2,
       "version_minor": 0
      },
      "text/plain": [
       "Button(description='Run Cell Below', style=ButtonStyle())"
      ]
     },
     "metadata": {},
     "output_type": "display_data"
    }
   ],
   "source": [
    "from IPython.display import Javascript, display\n",
    "from ipywidgets import widgets\n",
    "\n",
    "\n",
    "def run_all(ev):\n",
    "    display(Javascript('IPython.notebook.execute_cell_range(IPython.notebook.get_selected_index()+1, IPython.notebook.get_selected_index()+2)'))\n",
    "\n",
    "button = widgets.Button(description=\"Run Cell Below\")\n",
    "button.on_click(run_all)\n",
    "display(button)"
   ]
  },
  {
   "cell_type": "code",
   "execution_count": 11,
   "metadata": {
    "extensions": {
     "jupyter_dashboards": {
      "version": 1,
      "views": {
       "grid_default": {
        "col": 0,
        "height": 18,
        "hidden": false,
        "row": 103,
        "width": 8
       },
       "report_default": {
        "hidden": false
       }
      }
     }
    }
   },
   "outputs": [
    {
     "data": {
      "text/html": [
       "\n",
       "<div class=\"bk-root\">\n",
       "    <div class=\"bk-plotdiv\" id=\"7fffd565-d949-4082-9a1b-463a0e64b626\"></div>\n",
       "</div>"
      ]
     },
     "metadata": {},
     "output_type": "display_data"
    },
    {
     "data": {
      "application/javascript": [
       "(function(root) {\n",
       "  function embed_document(root) {\n",
       "    \n",
       "  var docs_json = {\"ae0e2137-db77-4762-84b6-234fde9e4c1c\":{\"roots\":{\"references\":[{\"attributes\":{},\"id\":\"dcde4c9a-83f0-47fa-a59e-8426f41299ac\",\"type\":\"BasicTickFormatter\"},{\"attributes\":{\"bottom_units\":\"screen\",\"fill_alpha\":{\"value\":0.5},\"fill_color\":{\"value\":\"lightgrey\"},\"left_units\":\"screen\",\"level\":\"overlay\",\"line_alpha\":{\"value\":1.0},\"line_color\":{\"value\":\"black\"},\"line_dash\":[4,4],\"line_width\":{\"value\":2},\"plot\":null,\"render_mode\":\"css\",\"right_units\":\"screen\",\"top_units\":\"screen\"},\"id\":\"96f11fe9-3911-4bbd-b9f8-cf66ff6dc276\",\"type\":\"BoxAnnotation\"},{\"attributes\":{},\"id\":\"80087ca9-3435-4963-9f55-8d19c282e071\",\"type\":\"PanTool\"},{\"attributes\":{\"bottom_units\":\"screen\",\"fill_alpha\":{\"value\":0.5},\"fill_color\":{\"value\":\"lightgrey\"},\"left_units\":\"screen\",\"level\":\"overlay\",\"line_alpha\":{\"value\":1.0},\"line_color\":{\"value\":\"black\"},\"line_dash\":[4,4],\"line_width\":{\"value\":2},\"plot\":null,\"render_mode\":\"css\",\"right_units\":\"screen\",\"top_units\":\"screen\"},\"id\":\"76c49d6e-1929-40ec-a189-02177d2c2ea5\",\"type\":\"BoxAnnotation\"},{\"attributes\":{},\"id\":\"f3c742da-510a-43af-8517-8c1a43390595\",\"type\":\"WheelZoomTool\"},{\"attributes\":{\"overlay\":{\"id\":\"96f11fe9-3911-4bbd-b9f8-cf66ff6dc276\",\"type\":\"BoxAnnotation\"}},\"id\":\"1cabe844-cc21-4423-957a-8f45913d1f04\",\"type\":\"BoxZoomTool\"},{\"attributes\":{\"fill_alpha\":{\"value\":0.1},\"fill_color\":{\"value\":\"#1f77b4\"},\"line_alpha\":{\"value\":0.1},\"line_color\":{\"value\":\"#1f77b4\"},\"size\":{\"field\":\"TotalThree\",\"transform\":{\"id\":\"e1b5dbc2-fbb8-4c72-b949-935cb1fb9dfc\",\"type\":\"LinearInterpolator\"},\"units\":\"screen\"},\"x\":{\"field\":\"threePA\"},\"y\":{\"field\":\"threeP\"}},\"id\":\"5939ac79-087c-4db9-a1f7-204a39001000\",\"type\":\"Cross\"},{\"attributes\":{},\"id\":\"9e5732e1-a513-4a68-b580-00184cde3bd8\",\"type\":\"ResetTool\"},{\"attributes\":{},\"id\":\"8659fdc8-b4ce-43c8-b988-799c377fdfe7\",\"type\":\"CrosshairTool\"},{\"attributes\":{\"callback\":null,\"overlay\":{\"id\":\"596344de-e053-49a0-9ee7-464a5fd9f827\",\"type\":\"PolyAnnotation\"}},\"id\":\"43fd9779-4ee6-48f6-9481-e4fdc2c5bd0f\",\"type\":\"LassoSelectTool\"},{\"attributes\":{\"callback\":null},\"id\":\"fc3b343d-6aaa-49d8-bc87-31fabc6ee877\",\"type\":\"TapTool\"},{\"attributes\":{\"callback\":null,\"overlay\":{\"id\":\"76c49d6e-1929-40ec-a189-02177d2c2ea5\",\"type\":\"BoxAnnotation\"}},\"id\":\"114d0197-d744-4634-a263-9b4a0797685a\",\"type\":\"BoxSelectTool\"},{\"attributes\":{\"data_source\":{\"id\":\"f4ac6a84-b405-49ad-9c66-42a9ccf2d7e5\",\"type\":\"ColumnDataSource\"},\"glyph\":{\"id\":\"02408fac-e97e-44d8-a971-2cd0ccc81321\",\"type\":\"Circle\"},\"hover_glyph\":null,\"muted_glyph\":null,\"nonselection_glyph\":{\"id\":\"638a9892-8a73-4ea4-bb25-e4d51bb5b96d\",\"type\":\"Circle\"},\"selection_glyph\":{\"id\":\"4764b64e-aa02-4420-8b10-25de7dfbb3aa\",\"type\":\"Circle\"},\"view\":{\"id\":\"3c66bebd-aea7-44f9-a07b-5d4b67827d1b\",\"type\":\"CDSView\"}},\"id\":\"2d7f667e-a8df-463b-981d-9c84d2d8a139\",\"type\":\"GlyphRenderer\"},{\"attributes\":{\"fill_alpha\":{\"value\":0.5},\"fill_color\":{\"value\":\"lightgrey\"},\"level\":\"overlay\",\"line_alpha\":{\"value\":1.0},\"line_color\":{\"value\":\"black\"},\"line_dash\":[4,4],\"line_width\":{\"value\":2},\"plot\":null,\"xs_units\":\"screen\",\"ys_units\":\"screen\"},\"id\":\"596344de-e053-49a0-9ee7-464a5fd9f827\",\"type\":\"PolyAnnotation\"},{\"attributes\":{\"callback\":null,\"data\":{\"G\":[1230,1230,1230,1230,1230,1230,1229,990,1230,1230,1230,1230,1230,1230,1230,1189,1189,1189,1189,1189,725,1189,1189,1189,1107,1107,1107,1107,1107,1107,1025,943,943,943,943,943,943,943,943,902],\"P\":{\"__ndarray__\":\"uB6F61G41j9fukkMAivXP7bz/dR46dY/Di2yne+n1j9mZmZmZmbWPwrXo3A9Ctc/YOXQItv51j+8dJMYBFbWP7bz/dR46dY/uB6F61G41j+xcmiR7XzXP1+6SQwCK9c/tvP91Hjp1j+28/3UeOnWP2MQWDm0yNY/aZHtfD811j+8dJMYBFbWPw4tsp3vp9Y/Di2yne+n1j9kO99PjZfWPxgEVg4tstU/v58aL90k1j8K16NwPQrXP7FyaJHtfNc/YOXQItv51j8cWmQ730/VPxsv3SQGgdU/yXa+nxov1T97FK5H4XrUP8l2vp8aL9U/eOkmMQis1D/TTWIQWDnUP90kBoGVQ9M/PzVeukkM0j8/NV66SQzSPwAAAAAAANA/EVg5tMh2zj/4U+Olm8TQP1yPwvUoXM8/7FG4HoXr0T8=\",\"dtype\":\"float64\",\"shape\":[40]},\"Season\":[2018,2017,2016,2015,2014,2013,2012,2011,2010,2009,2008,2007,2006,2005,2004,2003,2002,2001,2000,1999,1998,1997,1996,1995,1994,1993,1992,1991,1990,1989,1988,1987,1986,1985,1984,1983,1982,1981,1980,1979],\"Times\":[\"2010-2018\",\"2010-2018\",\"2010-2018\",\"2010-2018\",\"2010-2018\",\"2010-2018\",\"2010-2018\",\"2010-2018\",\"2010-2018\",\"2001-2009\",\"2001-2009\",\"2001-2009\",\"2001-2009\",\"2001-2009\",\"2001-2009\",\"2001-2009\",\"2001-2009\",\"2001-2009\",\"2001-2009\",\"1991-2000\",\"1991-2000\",\"1991-2000\",\"1991-2000\",\"1991-2000\",\"1991-2000\",\"1991-2000\",\"1991-2000\",\"1991-2000\",\"1991-2000\",\"1979-1990\",\"1979-1990\",\"1979-1990\",\"1979-1990\",\"1979-1990\",\"1979-1990\",\"1979-1990\",\"1979-1990\",\"1979-1990\",\"1979-1990\",\"1979-1990\"],\"TotalAttemptThree\":[78742,71337,66422,59241,55137,52974,49067,36395,44313,44622,44583,42092,41672,39313,38748,35492,34912,35074,32597,32614,19080,30231,39943,38161,33889,21907,19824,16898,15812,14608,13431,9421,8913,6293,5917,4484,4248,4308,3815,5003],\"TotalThree\":[27955,25807,23748,20953,19300,19054,17603,12693,15886,15822,16352,16124,14926,14086,13777,12321,12200,12402,11524,11513,6463,10450,14383,14000,12153,7301,6668,5587,5055,4829,4332,2979,2687,1774,1671,1120,1011,1129,936,1403],\"seasont\":[\"2018-19\",\"2017-18\",\"2016-17\",\"2015-16\",\"2014-15\",\"2013-14\",\"2012-13\",\"2011-12\",\"2010-11\",\"2009-10\",\"2008-09\",\"2007-08\",\"2006-07\",\"2005-06\",\"2004-05\",\"2003-04\",\"2002-03\",\"2001-02\",\"2000-01\",\"1999-00\",\"1998-99\",\"1997-98\",\"1996-97\",\"1995-96\",\"1994-95\",\"1993-94\",\"1992-93\",\"1991-92\",\"1990-91\",\"1989-90\",\"1988-89\",\"1987-88\",\"1986-87\",\"1985-86\",\"1984-85\",\"1983-84\",\"1982-83\",\"1981-82\",\"1980-81\",\"1979-80\"],\"threeP\":{\"__ndarray__\":\"zczMzMzMJkAAAAAAAAAlQGZmZmZmZiNAAAAAAAAAIUAzMzMzMzMfQM3MzMzMzB5AzczMzMzMHECamZmZmZkZQAAAAAAAABpAmpmZmZmZGUBmZmZmZmYaQGZmZmZmZhpAZmZmZmZmGEDNzMzMzMwWQGZmZmZmZhZAzczMzMzMFEBmZmZmZmYUQM3MzMzMzBRAMzMzMzMzE0AzMzMzMzMTQAAAAAAAABJAmpmZmZmZEUAAAAAAAAAYQJqZmZmZmRdAAAAAAAAAFkBmZmZmZmYKQAAAAAAAAAhAAAAAAAAABEBmZmZmZmYCQJqZmZmZmQFAzczMzMzMAECamZmZmZn5P2ZmZmZmZvY/zczMzMzM7D/NzMzMzMzsPzMzMzMzM+M/AAAAAAAA4D8zMzMzMzPjPwAAAAAAAOA/mpmZmZmZ6T8=\",\"dtype\":\"float64\",\"shape\":[40]},\"threePA\":{\"__ndarray__\":\"AAAAAAAAQEAAAAAAAAA9QAAAAAAAADtAmpmZmZkZOEBmZmZmZmY2QAAAAAAAgDVAAAAAAAAANEBmZmZmZmYyQAAAAAAAADJAmpmZmZkZMkCamZmZmRkyQJqZmZmZGTJAZmZmZmbmMEAAAAAAAAAwQJqZmZmZmS9AzczMzMzMLUBmZmZmZmYtQGZmZmZmZi1AZmZmZmZmK0BmZmZmZmYrQGZmZmZmZipAZmZmZmZmKUDNzMzMzMwwQAAAAAAAADBAmpmZmZmZLkDNzMzMzMwjQAAAAAAAACJAZmZmZmZmHkBmZmZmZmYcQGZmZmZmZhpAZmZmZmZmGkAAAAAAAAAUQM3MzMzMzBJAZmZmZmZmCkDNzMzMzMwIQDMzMzMzMwNAZmZmZmZmAkBmZmZmZmYCQAAAAAAAAABAZmZmZmZmBkA=\",\"dtype\":\"float64\",\"shape\":[40]}},\"selected\":{\"id\":\"ac50e3d1-a1f7-46ae-b1e5-3eea9a09b4ad\",\"type\":\"Selection\"},\"selection_policy\":{\"id\":\"b3fdcaa4-4f73-4a40-971c-679189e89c60\",\"type\":\"UnionRenderers\"}},\"id\":\"f4ac6a84-b405-49ad-9c66-42a9ccf2d7e5\",\"type\":\"ColumnDataSource\"},{\"attributes\":{\"click_policy\":\"hide\",\"items\":[{\"id\":\"e5f51919-ebd7-4902-bdad-88215e1994f1\",\"type\":\"LegendItem\"}],\"plot\":{\"id\":\"ae2aaec6-88db-474c-9d77-84a8cf09bf3b\",\"subtype\":\"Figure\",\"type\":\"Plot\"}},\"id\":\"9ad727dc-8a98-42d2-9f7a-691a827f9bcc\",\"type\":\"Legend\"},{\"attributes\":{\"callback\":null,\"renderers\":\"auto\",\"tooltips\":[[\"Season\",\"@seasont\"],[\"3P Mades per Game\",\"@threeP\"],[\"3P Attempted Per Game\",\"@threePA\"],[\"Total Three Made\",\"@TotalThree\"],[\"Percentage\",\"@P\"]]},\"id\":\"31379d92-f8e3-478d-9aab-e80680fb2d2e\",\"type\":\"HoverTool\"},{\"attributes\":{\"callback\":null,\"renderers\":\"auto\",\"tooltips\":[[\"Season\",\"@seasont\"],[\"3P Attempted Per Game\",\"@threePA\"],[\"Total Three Made\",\"@TotalThree\"],[\"Percentage\",\"@P\"]]},\"id\":\"2cdae61e-bb77-49c0-92b1-96139ca15fd6\",\"type\":\"HoverTool\"},{\"attributes\":{\"source\":{\"id\":\"f4ac6a84-b405-49ad-9c66-42a9ccf2d7e5\",\"type\":\"ColumnDataSource\"}},\"id\":\"3c66bebd-aea7-44f9-a07b-5d4b67827d1b\",\"type\":\"CDSView\"},{\"attributes\":{\"source\":{\"id\":\"f4ac6a84-b405-49ad-9c66-42a9ccf2d7e5\",\"type\":\"ColumnDataSource\"}},\"id\":\"0a449496-5368-42fb-a1b2-1568f8f6fcb6\",\"type\":\"CDSView\"},{\"attributes\":{\"fill_alpha\":{\"value\":0.2},\"fill_color\":{\"field\":\"Times\",\"transform\":{\"id\":\"bd207702-1759-4f50-8121-3f377e4481f0\",\"type\":\"CategoricalColorMapper\"}},\"line_color\":{\"value\":null}},\"id\":\"638a9892-8a73-4ea4-bb25-e4d51bb5b96d\",\"type\":\"Circle\"},{\"attributes\":{\"below\":[{\"id\":\"b83e547e-b9c5-4a80-9a30-d8ff1a577b7d\",\"type\":\"LinearAxis\"}],\"left\":[{\"id\":\"fec3b0eb-bc24-4da9-a300-61cf5339b956\",\"type\":\"LinearAxis\"}],\"plot_height\":500,\"plot_width\":500,\"renderers\":[{\"id\":\"b83e547e-b9c5-4a80-9a30-d8ff1a577b7d\",\"type\":\"LinearAxis\"},{\"id\":\"87bc0aa2-e84d-4da2-bdb0-f49d81559c02\",\"type\":\"Grid\"},{\"id\":\"fec3b0eb-bc24-4da9-a300-61cf5339b956\",\"type\":\"LinearAxis\"},{\"id\":\"e91d3c01-ceaf-4d94-ba9f-ad06288b37fa\",\"type\":\"Grid\"},{\"id\":\"803869b8-140e-4f36-ae15-fe89f7d47538\",\"type\":\"BoxAnnotation\"},{\"id\":\"eebe4949-5aaf-44a2-bf9e-c1f09eab563c\",\"type\":\"BoxAnnotation\"},{\"id\":\"504ce88c-0499-4ca3-9a1a-f4366b71f95f\",\"type\":\"PolyAnnotation\"},{\"id\":\"695af02e-3083-402e-a5c4-8c272efd35d5\",\"type\":\"Legend\"},{\"id\":\"bbdfa547-d8c8-44ce-81c4-282ff618a16f\",\"type\":\"GlyphRenderer\"},{\"id\":\"b2386b1b-7a69-496e-aac8-47915e165427\",\"type\":\"GlyphRenderer\"}],\"right\":[{\"id\":\"695af02e-3083-402e-a5c4-8c272efd35d5\",\"type\":\"Legend\"}],\"title\":{\"id\":\"d70138ec-7cf3-4579-89e2-f9742fd98f59\",\"type\":\"Title\"},\"toolbar\":{\"id\":\"ebdcd7e3-b76e-4f87-bad8-81daa3fb1401\",\"type\":\"Toolbar\"},\"x_range\":{\"id\":\"52b45326-c58a-4d84-9aef-04cb91fa9d09\",\"type\":\"Range1d\"},\"x_scale\":{\"id\":\"bd6e65e7-4eef-4dde-8132-b883e9af8739\",\"type\":\"LinearScale\"},\"y_range\":{\"id\":\"736da41c-a673-4971-ae93-653aa655c11a\",\"type\":\"Range1d\"},\"y_scale\":{\"id\":\"d2a3b250-7ffd-4401-9fac-8ebdcf9619b5\",\"type\":\"LinearScale\"}},\"id\":\"fa1feb5d-f308-4d52-8f6f-30a9486a1f68\",\"subtype\":\"Figure\",\"type\":\"Plot\"},{\"attributes\":{},\"id\":\"18d23318-3789-4a4d-a4a7-862f9af0732d\",\"type\":\"BasicTickFormatter\"},{\"attributes\":{\"fill_alpha\":{\"value\":0.8},\"fill_color\":{\"value\":\"firebrick\"},\"line_color\":{\"value\":null}},\"id\":\"4764b64e-aa02-4420-8b10-25de7dfbb3aa\",\"type\":\"Circle\"},{\"attributes\":{\"label\":{\"field\":\"Times\"},\"renderers\":[{\"id\":\"2d7f667e-a8df-463b-981d-9c84d2d8a139\",\"type\":\"GlyphRenderer\"},{\"id\":\"0e9a2c4f-4ac0-4ec8-b7c3-3598becb0492\",\"type\":\"GlyphRenderer\"}]},\"id\":\"e5f51919-ebd7-4902-bdad-88215e1994f1\",\"type\":\"LegendItem\"},{\"attributes\":{\"line_alpha\":0.4,\"line_color\":\"#1f77b4\",\"line_width\":3,\"x\":{\"field\":\"Season\"},\"y\":{\"field\":\"threePA\"}},\"id\":\"e5cb4813-f42b-4450-a333-f4cfa7312777\",\"type\":\"Line\"},{\"attributes\":{\"active_drag\":\"auto\",\"active_inspect\":\"auto\",\"active_scroll\":\"auto\",\"active_tap\":\"auto\",\"tools\":[{\"id\":\"31379d92-f8e3-478d-9aab-e80680fb2d2e\",\"type\":\"HoverTool\"},{\"id\":\"2f046659-0f5e-4641-90b7-b01e6204cb27\",\"type\":\"BoxSelectTool\"},{\"id\":\"094d88a9-3594-4abe-8b17-7a1e08c8eaf0\",\"type\":\"ZoomInTool\"},{\"id\":\"e5cbf125-046c-4d5d-89b4-b7aee3f0e8c4\",\"type\":\"PanTool\"},{\"id\":\"d66a8232-0a5f-4b68-9c0e-7c3724ad7556\",\"type\":\"WheelZoomTool\"},{\"id\":\"d751ba81-8361-4013-831c-d919c0ec6d37\",\"type\":\"BoxZoomTool\"},{\"id\":\"eb536f2b-f46c-47bd-a55b-329b5397d5ca\",\"type\":\"ResetTool\"},{\"id\":\"945f6b05-3387-47bf-be0a-f3b466fef012\",\"type\":\"CrosshairTool\"},{\"id\":\"0bc501f3-493d-4930-bcee-e24f89f50e9a\",\"type\":\"LassoSelectTool\"},{\"id\":\"f8a05f19-47db-4ec7-88f2-fe846acd164e\",\"type\":\"TapTool\"}]},\"id\":\"ebdcd7e3-b76e-4f87-bad8-81daa3fb1401\",\"type\":\"Toolbar\"},{\"attributes\":{\"fill_alpha\":{\"value\":0.1},\"fill_color\":{\"value\":\"#1f77b4\"},\"line_alpha\":{\"value\":0.1},\"line_color\":{\"value\":\"#1f77b4\"},\"size\":{\"field\":\"TotalThree\",\"transform\":{\"id\":\"e1b5dbc2-fbb8-4c72-b949-935cb1fb9dfc\",\"type\":\"LinearInterpolator\"},\"units\":\"screen\"},\"x\":{\"field\":\"Season\"},\"y\":{\"field\":\"threePA\"}},\"id\":\"12ee418f-02c2-41ee-8aab-820b6ba0c96e\",\"type\":\"Cross\"},{\"attributes\":{\"plot\":null,\"text\":\"Three Points Stats per Season\"},\"id\":\"d70138ec-7cf3-4579-89e2-f9742fd98f59\",\"type\":\"Title\"},{\"attributes\":{\"data_source\":{\"id\":\"f4ac6a84-b405-49ad-9c66-42a9ccf2d7e5\",\"type\":\"ColumnDataSource\"},\"glyph\":{\"id\":\"74df3ab3-cb3c-4957-ad53-f9880ae6348c\",\"type\":\"Cross\"},\"hover_glyph\":null,\"muted_glyph\":null,\"nonselection_glyph\":{\"id\":\"12ee418f-02c2-41ee-8aab-820b6ba0c96e\",\"type\":\"Cross\"},\"selection_glyph\":null,\"view\":{\"id\":\"528b1f5d-89ac-4963-badf-7532c8159bf0\",\"type\":\"CDSView\"}},\"id\":\"0e9a2c4f-4ac0-4ec8-b7c3-3598becb0492\",\"type\":\"GlyphRenderer\"},{\"attributes\":{\"callback\":null,\"end\":2020,\"start\":1978},\"id\":\"d39620e8-22ed-4e5c-b538-fd29155d5a15\",\"type\":\"Range1d\"},{\"attributes\":{\"callback\":null,\"end\":40},\"id\":\"52b45326-c58a-4d84-9aef-04cb91fa9d09\",\"type\":\"Range1d\"},{\"attributes\":{\"fill_alpha\":{\"value\":0.4},\"fill_color\":{\"field\":\"Times\",\"transform\":{\"id\":\"bd207702-1759-4f50-8121-3f377e4481f0\",\"type\":\"CategoricalColorMapper\"}},\"line_alpha\":{\"value\":0.4},\"line_color\":{\"field\":\"Times\",\"transform\":{\"id\":\"bd207702-1759-4f50-8121-3f377e4481f0\",\"type\":\"CategoricalColorMapper\"}},\"size\":{\"field\":\"TotalThree\",\"transform\":{\"id\":\"e1b5dbc2-fbb8-4c72-b949-935cb1fb9dfc\",\"type\":\"LinearInterpolator\"},\"units\":\"screen\"},\"x\":{\"field\":\"threePA\"},\"y\":{\"field\":\"threeP\"}},\"id\":\"a6061e1c-1cb6-4634-ae9a-93fa014cbd22\",\"type\":\"Circle\"},{\"attributes\":{\"fill_alpha\":{\"value\":0.4},\"fill_color\":{\"field\":\"Times\",\"transform\":{\"id\":\"bd207702-1759-4f50-8121-3f377e4481f0\",\"type\":\"CategoricalColorMapper\"}},\"line_alpha\":{\"value\":0.4},\"line_color\":{\"field\":\"Times\",\"transform\":{\"id\":\"bd207702-1759-4f50-8121-3f377e4481f0\",\"type\":\"CategoricalColorMapper\"}},\"size\":{\"field\":\"TotalThree\",\"transform\":{\"id\":\"e1b5dbc2-fbb8-4c72-b949-935cb1fb9dfc\",\"type\":\"LinearInterpolator\"},\"units\":\"screen\"},\"x\":{\"field\":\"Season\"},\"y\":{\"field\":\"threePA\"}},\"id\":\"74df3ab3-cb3c-4957-ad53-f9880ae6348c\",\"type\":\"Cross\"},{\"attributes\":{\"below\":[{\"id\":\"c538a597-6268-4a9b-949c-455e2ff28904\",\"type\":\"LinearAxis\"}],\"left\":[{\"id\":\"c873e856-69c2-4127-acab-385965aa100c\",\"type\":\"LinearAxis\"}],\"plot_height\":500,\"plot_width\":500,\"renderers\":[{\"id\":\"c538a597-6268-4a9b-949c-455e2ff28904\",\"type\":\"LinearAxis\"},{\"id\":\"c0fd08e2-ab4b-426c-9b68-632235463876\",\"type\":\"Grid\"},{\"id\":\"c873e856-69c2-4127-acab-385965aa100c\",\"type\":\"LinearAxis\"},{\"id\":\"6f250fdb-9b56-43b3-b736-eab7fc44d8e4\",\"type\":\"Grid\"},{\"id\":\"0fa74189-e17a-4ede-8a1d-577cb26956b3\",\"type\":\"BoxAnnotation\"},{\"id\":\"cdd68c0e-9bc8-4db5-9396-5e463cecdc00\",\"type\":\"PolyAnnotation\"},{\"id\":\"bfc01800-b4bc-4d5f-994f-8138b632ef08\",\"type\":\"BoxAnnotation\"},{\"id\":\"7cf25290-41a9-49eb-b343-e2cff9b0b7f4\",\"type\":\"Legend\"},{\"id\":\"b8434655-4105-4f04-b3ab-498f1769dd9b\",\"type\":\"GlyphRenderer\"},{\"id\":\"99f87bfe-d54d-4588-bc0a-47c1103e05f0\",\"type\":\"GlyphRenderer\"},{\"id\":\"098f0da6-d903-4635-9c84-a31a8ff86467\",\"type\":\"GlyphRenderer\"}],\"right\":[{\"id\":\"7cf25290-41a9-49eb-b343-e2cff9b0b7f4\",\"type\":\"Legend\"}],\"title\":{\"id\":\"e20532dd-4b93-40d0-a2c4-40f05cfa705b\",\"type\":\"Title\"},\"toolbar\":{\"id\":\"33b98107-5cf7-49ea-b74b-501c072cf04b\",\"type\":\"Toolbar\"},\"x_range\":{\"id\":\"d39620e8-22ed-4e5c-b538-fd29155d5a15\",\"type\":\"Range1d\"},\"x_scale\":{\"id\":\"cfacbab0-f8a6-4119-8b13-a1a0b269de3c\",\"type\":\"LinearScale\"},\"y_range\":{\"id\":\"2d94de75-6aea-4567-8748-a7519ea2ac11\",\"type\":\"Range1d\"},\"y_scale\":{\"id\":\"c339626e-7cef-443d-8eac-510b59c01d3b\",\"type\":\"LinearScale\"}},\"id\":\"c4eb4da1-e518-48ee-b1c3-8c4aeac50404\",\"subtype\":\"Figure\",\"type\":\"Plot\"},{\"attributes\":{\"callback\":null,\"end\":15},\"id\":\"736da41c-a673-4971-ae93-653aa655c11a\",\"type\":\"Range1d\"},{\"attributes\":{},\"id\":\"bd6e65e7-4eef-4dde-8132-b883e9af8739\",\"type\":\"LinearScale\"},{\"attributes\":{\"source\":{\"id\":\"f4ac6a84-b405-49ad-9c66-42a9ccf2d7e5\",\"type\":\"ColumnDataSource\"}},\"id\":\"528b1f5d-89ac-4963-badf-7532c8159bf0\",\"type\":\"CDSView\"},{\"attributes\":{},\"id\":\"d2a3b250-7ffd-4401-9fac-8ebdcf9619b5\",\"type\":\"LinearScale\"},{\"attributes\":{\"plot\":{\"id\":\"fa1feb5d-f308-4d52-8f6f-30a9486a1f68\",\"subtype\":\"Figure\",\"type\":\"Plot\"},\"ticker\":{\"id\":\"c1270c43-f796-4464-aa10-82f5ca0e2518\",\"type\":\"BasicTicker\"}},\"id\":\"87bc0aa2-e84d-4da2-bdb0-f49d81559c02\",\"type\":\"Grid\"},{\"attributes\":{\"data_source\":{\"id\":\"f4ac6a84-b405-49ad-9c66-42a9ccf2d7e5\",\"type\":\"ColumnDataSource\"},\"glyph\":{\"id\":\"e5cb4813-f42b-4450-a333-f4cfa7312777\",\"type\":\"Line\"},\"hover_glyph\":null,\"muted_glyph\":null,\"nonselection_glyph\":{\"id\":\"ec838b4d-e961-4c86-acbb-e5e09e4b22bd\",\"type\":\"Line\"},\"selection_glyph\":null,\"view\":{\"id\":\"2c9129e3-8a6d-4014-9488-94b98de94a1a\",\"type\":\"CDSView\"}},\"id\":\"adccb398-86da-4496-840c-e782c06a62c3\",\"type\":\"GlyphRenderer\"},{\"attributes\":{\"axis_label\":\"3P attempts per Game Average\",\"formatter\":{\"id\":\"538259f9-0c1c-47e0-ac80-b78880103481\",\"type\":\"BasicTickFormatter\"},\"plot\":{\"id\":\"fa1feb5d-f308-4d52-8f6f-30a9486a1f68\",\"subtype\":\"Figure\",\"type\":\"Plot\"},\"ticker\":{\"id\":\"c1270c43-f796-4464-aa10-82f5ca0e2518\",\"type\":\"BasicTicker\"}},\"id\":\"b83e547e-b9c5-4a80-9a30-d8ff1a577b7d\",\"type\":\"LinearAxis\"},{\"attributes\":{\"source\":{\"id\":\"f4ac6a84-b405-49ad-9c66-42a9ccf2d7e5\",\"type\":\"ColumnDataSource\"}},\"id\":\"2c9129e3-8a6d-4014-9488-94b98de94a1a\",\"type\":\"CDSView\"},{\"attributes\":{},\"id\":\"c1270c43-f796-4464-aa10-82f5ca0e2518\",\"type\":\"BasicTicker\"},{\"attributes\":{\"plot\":null,\"text\":\"Three Point Make Per Season\"},\"id\":\"e20532dd-4b93-40d0-a2c4-40f05cfa705b\",\"type\":\"Title\"},{\"attributes\":{\"axis_label\":\"3P made per Game Average\",\"formatter\":{\"id\":\"c727817e-67ad-4571-8e29-10ac90821648\",\"type\":\"BasicTickFormatter\"},\"plot\":{\"id\":\"fa1feb5d-f308-4d52-8f6f-30a9486a1f68\",\"subtype\":\"Figure\",\"type\":\"Plot\"},\"ticker\":{\"id\":\"715403f9-e8e3-42c9-8816-abae27f18f4c\",\"type\":\"BasicTicker\"}},\"id\":\"fec3b0eb-bc24-4da9-a300-61cf5339b956\",\"type\":\"LinearAxis\"},{\"attributes\":{\"callback\":null,\"renderers\":\"auto\",\"tooltips\":[[\"Season\",\"@seasont\"],[\"3P Mades per Game\",\"@threeP\"],[\"Total Three Made\",\"@TotalThree\"],[\"Percentage\",\"@P\"]]},\"id\":\"73b8c781-4059-43fa-97f0-5abb515e16a6\",\"type\":\"HoverTool\"},{\"attributes\":{},\"id\":\"f820160e-5a83-4546-8a19-b301ce4def01\",\"type\":\"BasicTickFormatter\"},{\"attributes\":{},\"id\":\"715403f9-e8e3-42c9-8816-abae27f18f4c\",\"type\":\"BasicTicker\"},{\"attributes\":{\"active_drag\":\"auto\",\"active_inspect\":\"auto\",\"active_scroll\":\"auto\",\"active_tap\":\"auto\",\"tools\":[{\"id\":\"73b8c781-4059-43fa-97f0-5abb515e16a6\",\"type\":\"HoverTool\"},{\"id\":\"be4b8023-d064-4030-b560-97a1f5d031aa\",\"type\":\"PanTool\"},{\"id\":\"e02edb79-18f6-4555-ba84-540cd2d0594d\",\"type\":\"WheelZoomTool\"},{\"id\":\"4037ac99-949a-48c6-a063-17eb67a6147a\",\"type\":\"BoxZoomTool\"},{\"id\":\"0ac496c2-b0c0-41b2-b7cd-a2c328dd0cd3\",\"type\":\"ResetTool\"},{\"id\":\"bfae8aac-5b38-4703-bed1-a7fd420a2c69\",\"type\":\"CrosshairTool\"},{\"id\":\"750bfb52-1c06-4d29-98a5-02aac4d0ccd6\",\"type\":\"LassoSelectTool\"},{\"id\":\"031475e4-8bfd-47ff-a3ad-57133e97bfda\",\"type\":\"TapTool\"},{\"id\":\"754e09ee-249f-4d6f-838a-af5e9e38b4c5\",\"type\":\"BoxSelectTool\"}]},\"id\":\"33b98107-5cf7-49ea-b74b-501c072cf04b\",\"type\":\"Toolbar\"},{\"attributes\":{\"dimension\":1,\"plot\":{\"id\":\"fa1feb5d-f308-4d52-8f6f-30a9486a1f68\",\"subtype\":\"Figure\",\"type\":\"Plot\"},\"ticker\":{\"id\":\"715403f9-e8e3-42c9-8816-abae27f18f4c\",\"type\":\"BasicTicker\"}},\"id\":\"e91d3c01-ceaf-4d94-ba9f-ad06288b37fa\",\"type\":\"Grid\"},{\"attributes\":{\"callback\":null,\"end\":20},\"id\":\"2d94de75-6aea-4567-8748-a7519ea2ac11\",\"type\":\"Range1d\"},{\"attributes\":{},\"id\":\"538259f9-0c1c-47e0-ac80-b78880103481\",\"type\":\"BasicTickFormatter\"},{\"attributes\":{\"label\":{\"field\":\"Times\"},\"renderers\":[{\"id\":\"bbdfa547-d8c8-44ce-81c4-282ff618a16f\",\"type\":\"GlyphRenderer\"},{\"id\":\"b2386b1b-7a69-496e-aac8-47915e165427\",\"type\":\"GlyphRenderer\"}]},\"id\":\"cb92057c-db26-4c52-af88-9c9a20bb8ec9\",\"type\":\"LegendItem\"},{\"attributes\":{},\"id\":\"cfacbab0-f8a6-4119-8b13-a1a0b269de3c\",\"type\":\"LinearScale\"},{\"attributes\":{},\"id\":\"c339626e-7cef-443d-8eac-510b59c01d3b\",\"type\":\"LinearScale\"},{\"attributes\":{\"fill_alpha\":{\"value\":0.8},\"fill_color\":{\"value\":\"firebrick\"},\"line_color\":{\"value\":null}},\"id\":\"b290eecd-49f1-498b-9b80-bc991534cf39\",\"type\":\"Circle\"},{\"attributes\":{\"bottom_units\":\"screen\",\"fill_alpha\":{\"value\":0.5},\"fill_color\":{\"value\":\"lightgrey\"},\"left_units\":\"screen\",\"level\":\"overlay\",\"line_alpha\":{\"value\":1.0},\"line_color\":{\"value\":\"black\"},\"line_dash\":[4,4],\"line_width\":{\"value\":2},\"plot\":null,\"render_mode\":\"css\",\"right_units\":\"screen\",\"top_units\":\"screen\"},\"id\":\"803869b8-140e-4f36-ae15-fe89f7d47538\",\"type\":\"BoxAnnotation\"},{\"attributes\":{\"plot\":{\"id\":\"c4eb4da1-e518-48ee-b1c3-8c4aeac50404\",\"subtype\":\"Figure\",\"type\":\"Plot\"},\"ticker\":{\"id\":\"5593474f-e2fd-4879-8759-72d10a20c64b\",\"type\":\"BasicTicker\"}},\"id\":\"c0fd08e2-ab4b-426c-9b68-632235463876\",\"type\":\"Grid\"},{\"attributes\":{\"axis_label\":\"Year\",\"formatter\":{\"id\":\"f820160e-5a83-4546-8a19-b301ce4def01\",\"type\":\"BasicTickFormatter\"},\"plot\":{\"id\":\"c4eb4da1-e518-48ee-b1c3-8c4aeac50404\",\"subtype\":\"Figure\",\"type\":\"Plot\"},\"ticker\":{\"id\":\"5593474f-e2fd-4879-8759-72d10a20c64b\",\"type\":\"BasicTicker\"}},\"id\":\"c538a597-6268-4a9b-949c-455e2ff28904\",\"type\":\"LinearAxis\"},{\"attributes\":{\"items\":[{\"id\":\"cb92057c-db26-4c52-af88-9c9a20bb8ec9\",\"type\":\"LegendItem\"}],\"plot\":{\"id\":\"fa1feb5d-f308-4d52-8f6f-30a9486a1f68\",\"subtype\":\"Figure\",\"type\":\"Plot\"}},\"id\":\"695af02e-3083-402e-a5c4-8c272efd35d5\",\"type\":\"Legend\"},{\"attributes\":{\"callback\":null,\"overlay\":{\"id\":\"803869b8-140e-4f36-ae15-fe89f7d47538\",\"type\":\"BoxAnnotation\"}},\"id\":\"2f046659-0f5e-4641-90b7-b01e6204cb27\",\"type\":\"BoxSelectTool\"},{\"attributes\":{},\"id\":\"5593474f-e2fd-4879-8759-72d10a20c64b\",\"type\":\"BasicTicker\"},{\"attributes\":{},\"id\":\"c727817e-67ad-4571-8e29-10ac90821648\",\"type\":\"BasicTickFormatter\"},{\"attributes\":{\"axis_label\":\"Made\",\"formatter\":{\"id\":\"daf801b4-f1ee-4289-911d-d427d4b137bf\",\"type\":\"BasicTickFormatter\"},\"plot\":{\"id\":\"c4eb4da1-e518-48ee-b1c3-8c4aeac50404\",\"subtype\":\"Figure\",\"type\":\"Plot\"},\"ticker\":{\"id\":\"a9729954-9c6f-4337-8092-22b43bb0e39a\",\"type\":\"BasicTicker\"}},\"id\":\"c873e856-69c2-4127-acab-385965aa100c\",\"type\":\"LinearAxis\"},{\"attributes\":{},\"id\":\"094d88a9-3594-4abe-8b17-7a1e08c8eaf0\",\"type\":\"ZoomInTool\"},{\"attributes\":{},\"id\":\"a9729954-9c6f-4337-8092-22b43bb0e39a\",\"type\":\"BasicTicker\"},{\"attributes\":{},\"id\":\"e5cbf125-046c-4d5d-89b4-b7aee3f0e8c4\",\"type\":\"PanTool\"},{\"attributes\":{\"dimension\":1,\"plot\":{\"id\":\"c4eb4da1-e518-48ee-b1c3-8c4aeac50404\",\"subtype\":\"Figure\",\"type\":\"Plot\"},\"ticker\":{\"id\":\"a9729954-9c6f-4337-8092-22b43bb0e39a\",\"type\":\"BasicTicker\"}},\"id\":\"6f250fdb-9b56-43b3-b736-eab7fc44d8e4\",\"type\":\"Grid\"},{\"attributes\":{},\"id\":\"d66a8232-0a5f-4b68-9c0e-7c3724ad7556\",\"type\":\"WheelZoomTool\"},{\"attributes\":{\"fill_alpha\":{\"value\":0.4},\"fill_color\":{\"field\":\"Times\",\"transform\":{\"id\":\"bd207702-1759-4f50-8121-3f377e4481f0\",\"type\":\"CategoricalColorMapper\"}},\"line_alpha\":{\"value\":0.4},\"line_color\":{\"field\":\"Times\",\"transform\":{\"id\":\"bd207702-1759-4f50-8121-3f377e4481f0\",\"type\":\"CategoricalColorMapper\"}},\"size\":{\"field\":\"TotalThree\",\"transform\":{\"id\":\"e1b5dbc2-fbb8-4c72-b949-935cb1fb9dfc\",\"type\":\"LinearInterpolator\"},\"units\":\"screen\"},\"x\":{\"field\":\"Season\"},\"y\":{\"field\":\"threeP\"}},\"id\":\"3013be07-e1fd-4be0-b094-4a967d76a0eb\",\"type\":\"Circle\"},{\"attributes\":{\"overlay\":{\"id\":\"eebe4949-5aaf-44a2-bf9e-c1f09eab563c\",\"type\":\"BoxAnnotation\"}},\"id\":\"d751ba81-8361-4013-831c-d919c0ec6d37\",\"type\":\"BoxZoomTool\"},{\"attributes\":{},\"id\":\"eb536f2b-f46c-47bd-a55b-329b5397d5ca\",\"type\":\"ResetTool\"},{\"attributes\":{\"bottom_units\":\"screen\",\"fill_alpha\":{\"value\":0.5},\"fill_color\":{\"value\":\"lightgrey\"},\"left_units\":\"screen\",\"level\":\"overlay\",\"line_alpha\":{\"value\":1.0},\"line_color\":{\"value\":\"black\"},\"line_dash\":[4,4],\"line_width\":{\"value\":2},\"plot\":null,\"render_mode\":\"css\",\"right_units\":\"screen\",\"top_units\":\"screen\"},\"id\":\"0fa74189-e17a-4ede-8a1d-577cb26956b3\",\"type\":\"BoxAnnotation\"},{\"attributes\":{},\"id\":\"945f6b05-3387-47bf-be0a-f3b466fef012\",\"type\":\"CrosshairTool\"},{\"attributes\":{},\"id\":\"be4b8023-d064-4030-b560-97a1f5d031aa\",\"type\":\"PanTool\"},{\"attributes\":{\"callback\":null,\"overlay\":{\"id\":\"504ce88c-0499-4ca3-9a1a-f4366b71f95f\",\"type\":\"PolyAnnotation\"}},\"id\":\"0bc501f3-493d-4930-bcee-e24f89f50e9a\",\"type\":\"LassoSelectTool\"},{\"attributes\":{\"bottom_units\":\"screen\",\"fill_alpha\":{\"value\":0.5},\"fill_color\":{\"value\":\"lightgrey\"},\"left_units\":\"screen\",\"level\":\"overlay\",\"line_alpha\":{\"value\":1.0},\"line_color\":{\"value\":\"black\"},\"line_dash\":[4,4],\"line_width\":{\"value\":2},\"plot\":null,\"render_mode\":\"css\",\"right_units\":\"screen\",\"top_units\":\"screen\"},\"id\":\"bfc01800-b4bc-4d5f-994f-8138b632ef08\",\"type\":\"BoxAnnotation\"},{\"attributes\":{\"callback\":null},\"id\":\"f8a05f19-47db-4ec7-88f2-fe846acd164e\",\"type\":\"TapTool\"},{\"attributes\":{\"fill_alpha\":{\"value\":0.5},\"fill_color\":{\"value\":\"lightgrey\"},\"level\":\"overlay\",\"line_alpha\":{\"value\":1.0},\"line_color\":{\"value\":\"black\"},\"line_dash\":[4,4],\"line_width\":{\"value\":2},\"plot\":null,\"xs_units\":\"screen\",\"ys_units\":\"screen\"},\"id\":\"504ce88c-0499-4ca3-9a1a-f4366b71f95f\",\"type\":\"PolyAnnotation\"},{\"attributes\":{},\"id\":\"e02edb79-18f6-4555-ba84-540cd2d0594d\",\"type\":\"WheelZoomTool\"},{\"attributes\":{\"bottom_units\":\"screen\",\"fill_alpha\":{\"value\":0.5},\"fill_color\":{\"value\":\"lightgrey\"},\"left_units\":\"screen\",\"level\":\"overlay\",\"line_alpha\":{\"value\":1.0},\"line_color\":{\"value\":\"black\"},\"line_dash\":[4,4],\"line_width\":{\"value\":2},\"plot\":null,\"render_mode\":\"css\",\"right_units\":\"screen\",\"top_units\":\"screen\"},\"id\":\"eebe4949-5aaf-44a2-bf9e-c1f09eab563c\",\"type\":\"BoxAnnotation\"},{\"attributes\":{\"overlay\":{\"id\":\"0fa74189-e17a-4ede-8a1d-577cb26956b3\",\"type\":\"BoxAnnotation\"}},\"id\":\"4037ac99-949a-48c6-a063-17eb67a6147a\",\"type\":\"BoxZoomTool\"},{\"attributes\":{\"data_source\":{\"id\":\"f4ac6a84-b405-49ad-9c66-42a9ccf2d7e5\",\"type\":\"ColumnDataSource\"},\"glyph\":{\"id\":\"a6061e1c-1cb6-4634-ae9a-93fa014cbd22\",\"type\":\"Circle\"},\"hover_glyph\":null,\"muted_glyph\":null,\"nonselection_glyph\":{\"id\":\"1d8820d3-33f4-4eae-8fe8-2d7cce47a94b\",\"type\":\"Circle\"},\"selection_glyph\":{\"id\":\"b290eecd-49f1-498b-9b80-bc991534cf39\",\"type\":\"Circle\"},\"view\":{\"id\":\"0a449496-5368-42fb-a1b2-1568f8f6fcb6\",\"type\":\"CDSView\"}},\"id\":\"bbdfa547-d8c8-44ce-81c4-282ff618a16f\",\"type\":\"GlyphRenderer\"},{\"attributes\":{},\"id\":\"0ac496c2-b0c0-41b2-b7cd-a2c328dd0cd3\",\"type\":\"ResetTool\"},{\"attributes\":{},\"id\":\"bfae8aac-5b38-4703-bed1-a7fd420a2c69\",\"type\":\"CrosshairTool\"},{\"attributes\":{\"fill_alpha\":{\"value\":0.4},\"fill_color\":{\"field\":\"Times\",\"transform\":{\"id\":\"bd207702-1759-4f50-8121-3f377e4481f0\",\"type\":\"CategoricalColorMapper\"}},\"line_alpha\":{\"value\":0.4},\"line_color\":{\"field\":\"Times\",\"transform\":{\"id\":\"bd207702-1759-4f50-8121-3f377e4481f0\",\"type\":\"CategoricalColorMapper\"}},\"size\":{\"field\":\"TotalThree\",\"transform\":{\"id\":\"e1b5dbc2-fbb8-4c72-b949-935cb1fb9dfc\",\"type\":\"LinearInterpolator\"},\"units\":\"screen\"},\"x\":{\"field\":\"threePA\"},\"y\":{\"field\":\"threeP\"}},\"id\":\"0476789d-a70a-4d35-a794-70118c1901f6\",\"type\":\"Cross\"},{\"attributes\":{\"callback\":null,\"overlay\":{\"id\":\"cdd68c0e-9bc8-4db5-9396-5e463cecdc00\",\"type\":\"PolyAnnotation\"}},\"id\":\"750bfb52-1c06-4d29-98a5-02aac4d0ccd6\",\"type\":\"LassoSelectTool\"},{\"attributes\":{\"fill_alpha\":{\"value\":0.2},\"fill_color\":{\"field\":\"Times\",\"transform\":{\"id\":\"bd207702-1759-4f50-8121-3f377e4481f0\",\"type\":\"CategoricalColorMapper\"}},\"line_color\":{\"value\":null}},\"id\":\"1d8820d3-33f4-4eae-8fe8-2d7cce47a94b\",\"type\":\"Circle\"},{\"attributes\":{\"callback\":null},\"id\":\"031475e4-8bfd-47ff-a3ad-57133e97bfda\",\"type\":\"TapTool\"},{\"attributes\":{},\"id\":\"b3fdcaa4-4f73-4a40-971c-679189e89c60\",\"type\":\"UnionRenderers\"},{\"attributes\":{\"callback\":null,\"overlay\":{\"id\":\"bfc01800-b4bc-4d5f-994f-8138b632ef08\",\"type\":\"BoxAnnotation\"}},\"id\":\"754e09ee-249f-4d6f-838a-af5e9e38b4c5\",\"type\":\"BoxSelectTool\"},{\"attributes\":{\"line_alpha\":0.1,\"line_color\":\"#1f77b4\",\"line_width\":3,\"x\":{\"field\":\"Season\"},\"y\":{\"field\":\"threePA\"}},\"id\":\"ec838b4d-e961-4c86-acbb-e5e09e4b22bd\",\"type\":\"Line\"},{\"attributes\":{\"data_source\":{\"id\":\"f4ac6a84-b405-49ad-9c66-42a9ccf2d7e5\",\"type\":\"ColumnDataSource\"},\"glyph\":{\"id\":\"3013be07-e1fd-4be0-b094-4a967d76a0eb\",\"type\":\"Circle\"},\"hover_glyph\":null,\"muted_glyph\":null,\"nonselection_glyph\":{\"id\":\"24c4ab33-2882-49e0-9b1f-50431daed9ff\",\"type\":\"Circle\"},\"selection_glyph\":{\"id\":\"e85f892f-f6f0-46d3-8b9a-0a1f2ebe9e8c\",\"type\":\"Circle\"},\"view\":{\"id\":\"9b4114f9-3740-464c-bde6-5da878648170\",\"type\":\"CDSView\"}},\"id\":\"b8434655-4105-4f04-b3ab-498f1769dd9b\",\"type\":\"GlyphRenderer\"},{\"attributes\":{\"callback\":null,\"end\":2020,\"start\":1978},\"id\":\"4781cfd5-63d4-4ee3-9efc-7e1a22b40612\",\"type\":\"Range1d\"},{\"attributes\":{\"fill_alpha\":{\"value\":0.5},\"fill_color\":{\"value\":\"lightgrey\"},\"level\":\"overlay\",\"line_alpha\":{\"value\":1.0},\"line_color\":{\"value\":\"black\"},\"line_dash\":[4,4],\"line_width\":{\"value\":2},\"plot\":null,\"xs_units\":\"screen\",\"ys_units\":\"screen\"},\"id\":\"cdd68c0e-9bc8-4db5-9396-5e463cecdc00\",\"type\":\"PolyAnnotation\"},{\"attributes\":{\"source\":{\"id\":\"f4ac6a84-b405-49ad-9c66-42a9ccf2d7e5\",\"type\":\"ColumnDataSource\"}},\"id\":\"15dc76c7-2291-42db-b7c9-d49e9578ca07\",\"type\":\"CDSView\"},{\"attributes\":{\"click_policy\":\"hide\",\"items\":[{\"id\":\"3a1c1028-c5e4-4880-b7c4-f284df2319f8\",\"type\":\"LegendItem\"}],\"plot\":{\"id\":\"c4eb4da1-e518-48ee-b1c3-8c4aeac50404\",\"subtype\":\"Figure\",\"type\":\"Plot\"}},\"id\":\"7cf25290-41a9-49eb-b343-e2cff9b0b7f4\",\"type\":\"Legend\"},{\"attributes\":{},\"id\":\"ac50e3d1-a1f7-46ae-b1e5-3eea9a09b4ad\",\"type\":\"Selection\"},{\"attributes\":{\"data_source\":{\"id\":\"f4ac6a84-b405-49ad-9c66-42a9ccf2d7e5\",\"type\":\"ColumnDataSource\"},\"glyph\":{\"id\":\"0476789d-a70a-4d35-a794-70118c1901f6\",\"type\":\"Cross\"},\"hover_glyph\":null,\"muted_glyph\":null,\"nonselection_glyph\":{\"id\":\"5939ac79-087c-4db9-a1f7-204a39001000\",\"type\":\"Cross\"},\"selection_glyph\":null,\"view\":{\"id\":\"15dc76c7-2291-42db-b7c9-d49e9578ca07\",\"type\":\"CDSView\"}},\"id\":\"b2386b1b-7a69-496e-aac8-47915e165427\",\"type\":\"GlyphRenderer\"},{\"attributes\":{\"source\":{\"id\":\"f4ac6a84-b405-49ad-9c66-42a9ccf2d7e5\",\"type\":\"ColumnDataSource\"}},\"id\":\"9b4114f9-3740-464c-bde6-5da878648170\",\"type\":\"CDSView\"},{\"attributes\":{\"line_alpha\":0.4,\"line_color\":\"#1f77b4\",\"line_width\":3,\"x\":{\"field\":\"Season\"},\"y\":{\"field\":\"threeP\"}},\"id\":\"08a431f0-9015-429d-ba4f-31ed4bda38bb\",\"type\":\"Line\"},{\"attributes\":{\"fill_alpha\":{\"value\":0.4},\"fill_color\":{\"field\":\"Times\",\"transform\":{\"id\":\"bd207702-1759-4f50-8121-3f377e4481f0\",\"type\":\"CategoricalColorMapper\"}},\"line_alpha\":{\"value\":0.4},\"line_color\":{\"field\":\"Times\",\"transform\":{\"id\":\"bd207702-1759-4f50-8121-3f377e4481f0\",\"type\":\"CategoricalColorMapper\"}},\"size\":{\"field\":\"TotalThree\",\"transform\":{\"id\":\"e1b5dbc2-fbb8-4c72-b949-935cb1fb9dfc\",\"type\":\"LinearInterpolator\"},\"units\":\"screen\"},\"x\":{\"field\":\"Season\"},\"y\":{\"field\":\"threePA\"}},\"id\":\"02408fac-e97e-44d8-a971-2cd0ccc81321\",\"type\":\"Circle\"},{\"attributes\":{\"plot\":null,\"text\":\"Three Points Attempts Per Season\"},\"id\":\"378417f1-1bdf-47b8-a8f1-3c63a7606800\",\"type\":\"Title\"},{\"attributes\":{},\"id\":\"daf801b4-f1ee-4289-911d-d427d4b137bf\",\"type\":\"BasicTickFormatter\"},{\"attributes\":{\"below\":[{\"id\":\"995d5c22-bac6-474c-bf8d-83fdeaf03aa8\",\"type\":\"LinearAxis\"}],\"left\":[{\"id\":\"603ea869-202d-48e0-869a-37d3ffa885b5\",\"type\":\"LinearAxis\"}],\"plot_height\":500,\"plot_width\":500,\"renderers\":[{\"id\":\"995d5c22-bac6-474c-bf8d-83fdeaf03aa8\",\"type\":\"LinearAxis\"},{\"id\":\"4a3f0d9f-a998-426a-bd18-c5b78670a1e5\",\"type\":\"Grid\"},{\"id\":\"603ea869-202d-48e0-869a-37d3ffa885b5\",\"type\":\"LinearAxis\"},{\"id\":\"5438aaa3-aad5-460a-a428-a418d148a6ee\",\"type\":\"Grid\"},{\"id\":\"96f11fe9-3911-4bbd-b9f8-cf66ff6dc276\",\"type\":\"BoxAnnotation\"},{\"id\":\"596344de-e053-49a0-9ee7-464a5fd9f827\",\"type\":\"PolyAnnotation\"},{\"id\":\"76c49d6e-1929-40ec-a189-02177d2c2ea5\",\"type\":\"BoxAnnotation\"},{\"id\":\"9ad727dc-8a98-42d2-9f7a-691a827f9bcc\",\"type\":\"Legend\"},{\"id\":\"2d7f667e-a8df-463b-981d-9c84d2d8a139\",\"type\":\"GlyphRenderer\"},{\"id\":\"0e9a2c4f-4ac0-4ec8-b7c3-3598becb0492\",\"type\":\"GlyphRenderer\"},{\"id\":\"adccb398-86da-4496-840c-e782c06a62c3\",\"type\":\"GlyphRenderer\"}],\"right\":[{\"id\":\"9ad727dc-8a98-42d2-9f7a-691a827f9bcc\",\"type\":\"Legend\"}],\"title\":{\"id\":\"378417f1-1bdf-47b8-a8f1-3c63a7606800\",\"type\":\"Title\"},\"toolbar\":{\"id\":\"56d0ceff-610c-40af-ac72-7016fc81abec\",\"type\":\"Toolbar\"},\"x_range\":{\"id\":\"4781cfd5-63d4-4ee3-9efc-7e1a22b40612\",\"type\":\"Range1d\"},\"x_scale\":{\"id\":\"f0da2056-6938-4cd5-af9b-608694b71d9a\",\"type\":\"LinearScale\"},\"y_range\":{\"id\":\"9d3517f5-3459-4256-a939-1e43e9298c96\",\"type\":\"Range1d\"},\"y_scale\":{\"id\":\"313875cc-ea14-4caa-869d-59703cb8d46f\",\"type\":\"LinearScale\"}},\"id\":\"ae2aaec6-88db-474c-9d77-84a8cf09bf3b\",\"subtype\":\"Figure\",\"type\":\"Plot\"},{\"attributes\":{\"label\":{\"field\":\"Times\"},\"renderers\":[{\"id\":\"b8434655-4105-4f04-b3ab-498f1769dd9b\",\"type\":\"GlyphRenderer\"},{\"id\":\"99f87bfe-d54d-4588-bc0a-47c1103e05f0\",\"type\":\"GlyphRenderer\"}]},\"id\":\"3a1c1028-c5e4-4880-b7c4-f284df2319f8\",\"type\":\"LegendItem\"},{\"attributes\":{\"active_drag\":\"auto\",\"active_inspect\":\"auto\",\"active_scroll\":\"auto\",\"active_tap\":\"auto\",\"tools\":[{\"id\":\"2cdae61e-bb77-49c0-92b1-96139ca15fd6\",\"type\":\"HoverTool\"},{\"id\":\"80087ca9-3435-4963-9f55-8d19c282e071\",\"type\":\"PanTool\"},{\"id\":\"f3c742da-510a-43af-8517-8c1a43390595\",\"type\":\"WheelZoomTool\"},{\"id\":\"1cabe844-cc21-4423-957a-8f45913d1f04\",\"type\":\"BoxZoomTool\"},{\"id\":\"9e5732e1-a513-4a68-b580-00184cde3bd8\",\"type\":\"ResetTool\"},{\"id\":\"8659fdc8-b4ce-43c8-b988-799c377fdfe7\",\"type\":\"CrosshairTool\"},{\"id\":\"43fd9779-4ee6-48f6-9481-e4fdc2c5bd0f\",\"type\":\"LassoSelectTool\"},{\"id\":\"fc3b343d-6aaa-49d8-bc87-31fabc6ee877\",\"type\":\"TapTool\"},{\"id\":\"114d0197-d744-4634-a263-9b4a0797685a\",\"type\":\"BoxSelectTool\"}]},\"id\":\"56d0ceff-610c-40af-ac72-7016fc81abec\",\"type\":\"Toolbar\"},{\"attributes\":{\"fill_alpha\":{\"value\":0.1},\"fill_color\":{\"value\":\"#1f77b4\"},\"line_alpha\":{\"value\":0.1},\"line_color\":{\"value\":\"#1f77b4\"},\"size\":{\"field\":\"TotalThree\",\"transform\":{\"id\":\"e1b5dbc2-fbb8-4c72-b949-935cb1fb9dfc\",\"type\":\"LinearInterpolator\"},\"units\":\"screen\"},\"x\":{\"field\":\"Season\"},\"y\":{\"field\":\"threeP\"}},\"id\":\"6ef07874-ef04-41af-9a56-5c32d569e99c\",\"type\":\"Cross\"},{\"attributes\":{\"data_source\":{\"id\":\"f4ac6a84-b405-49ad-9c66-42a9ccf2d7e5\",\"type\":\"ColumnDataSource\"},\"glyph\":{\"id\":\"8b480d20-a23a-4947-b13b-ea539b5c9394\",\"type\":\"Cross\"},\"hover_glyph\":null,\"muted_glyph\":null,\"nonselection_glyph\":{\"id\":\"6ef07874-ef04-41af-9a56-5c32d569e99c\",\"type\":\"Cross\"},\"selection_glyph\":null,\"view\":{\"id\":\"74614198-6a1e-45b6-af07-b29fbe4495ae\",\"type\":\"CDSView\"}},\"id\":\"99f87bfe-d54d-4588-bc0a-47c1103e05f0\",\"type\":\"GlyphRenderer\"},{\"attributes\":{\"callback\":null,\"end\":40},\"id\":\"9d3517f5-3459-4256-a939-1e43e9298c96\",\"type\":\"Range1d\"},{\"attributes\":{},\"id\":\"f0da2056-6938-4cd5-af9b-608694b71d9a\",\"type\":\"LinearScale\"},{\"attributes\":{\"fill_alpha\":{\"value\":0.8},\"fill_color\":{\"value\":\"firebrick\"},\"line_color\":{\"value\":null}},\"id\":\"e85f892f-f6f0-46d3-8b9a-0a1f2ebe9e8c\",\"type\":\"Circle\"},{\"attributes\":{},\"id\":\"313875cc-ea14-4caa-869d-59703cb8d46f\",\"type\":\"LinearScale\"},{\"attributes\":{\"fill_alpha\":{\"value\":0.4},\"fill_color\":{\"field\":\"Times\",\"transform\":{\"id\":\"bd207702-1759-4f50-8121-3f377e4481f0\",\"type\":\"CategoricalColorMapper\"}},\"line_alpha\":{\"value\":0.4},\"line_color\":{\"field\":\"Times\",\"transform\":{\"id\":\"bd207702-1759-4f50-8121-3f377e4481f0\",\"type\":\"CategoricalColorMapper\"}},\"size\":{\"field\":\"TotalThree\",\"transform\":{\"id\":\"e1b5dbc2-fbb8-4c72-b949-935cb1fb9dfc\",\"type\":\"LinearInterpolator\"},\"units\":\"screen\"},\"x\":{\"field\":\"Season\"},\"y\":{\"field\":\"threeP\"}},\"id\":\"8b480d20-a23a-4947-b13b-ea539b5c9394\",\"type\":\"Cross\"},{\"attributes\":{\"plot\":{\"id\":\"ae2aaec6-88db-474c-9d77-84a8cf09bf3b\",\"subtype\":\"Figure\",\"type\":\"Plot\"},\"ticker\":{\"id\":\"d5406010-7fde-4fca-b9b2-ca92fea54d79\",\"type\":\"BasicTicker\"}},\"id\":\"4a3f0d9f-a998-426a-bd18-c5b78670a1e5\",\"type\":\"Grid\"},{\"attributes\":{\"line_alpha\":0.1,\"line_color\":\"#1f77b4\",\"line_width\":3,\"x\":{\"field\":\"Season\"},\"y\":{\"field\":\"threeP\"}},\"id\":\"85b8ae2d-bd95-4f02-bfd0-3aae15d80a3e\",\"type\":\"Line\"},{\"attributes\":{\"data\":null,\"x\":[936,27955],\"y\":[10,70]},\"id\":\"e1b5dbc2-fbb8-4c72-b949-935cb1fb9dfc\",\"type\":\"LinearInterpolator\"},{\"attributes\":{\"axis_label\":\"Year\",\"formatter\":{\"id\":\"dcde4c9a-83f0-47fa-a59e-8426f41299ac\",\"type\":\"BasicTickFormatter\"},\"plot\":{\"id\":\"ae2aaec6-88db-474c-9d77-84a8cf09bf3b\",\"subtype\":\"Figure\",\"type\":\"Plot\"},\"ticker\":{\"id\":\"d5406010-7fde-4fca-b9b2-ca92fea54d79\",\"type\":\"BasicTicker\"}},\"id\":\"995d5c22-bac6-474c-bf8d-83fdeaf03aa8\",\"type\":\"LinearAxis\"},{\"attributes\":{\"source\":{\"id\":\"f4ac6a84-b405-49ad-9c66-42a9ccf2d7e5\",\"type\":\"ColumnDataSource\"}},\"id\":\"74614198-6a1e-45b6-af07-b29fbe4495ae\",\"type\":\"CDSView\"},{\"attributes\":{\"source\":{\"id\":\"f4ac6a84-b405-49ad-9c66-42a9ccf2d7e5\",\"type\":\"ColumnDataSource\"}},\"id\":\"78cc2fb2-e9e7-47fe-bd5d-5fbff1bb4e2f\",\"type\":\"CDSView\"},{\"attributes\":{},\"id\":\"d5406010-7fde-4fca-b9b2-ca92fea54d79\",\"type\":\"BasicTicker\"},{\"attributes\":{\"axis_label\":\"Attempt\",\"formatter\":{\"id\":\"18d23318-3789-4a4d-a4a7-862f9af0732d\",\"type\":\"BasicTickFormatter\"},\"plot\":{\"id\":\"ae2aaec6-88db-474c-9d77-84a8cf09bf3b\",\"subtype\":\"Figure\",\"type\":\"Plot\"},\"ticker\":{\"id\":\"7a3905ba-f00d-487c-85b7-b8ee0b774b66\",\"type\":\"BasicTicker\"}},\"id\":\"603ea869-202d-48e0-869a-37d3ffa885b5\",\"type\":\"LinearAxis\"},{\"attributes\":{\"fill_alpha\":{\"value\":0.2},\"fill_color\":{\"field\":\"Times\",\"transform\":{\"id\":\"bd207702-1759-4f50-8121-3f377e4481f0\",\"type\":\"CategoricalColorMapper\"}},\"line_color\":{\"value\":null}},\"id\":\"24c4ab33-2882-49e0-9b1f-50431daed9ff\",\"type\":\"Circle\"},{\"attributes\":{},\"id\":\"7a3905ba-f00d-487c-85b7-b8ee0b774b66\",\"type\":\"BasicTicker\"},{\"attributes\":{\"dimension\":1,\"plot\":{\"id\":\"ae2aaec6-88db-474c-9d77-84a8cf09bf3b\",\"subtype\":\"Figure\",\"type\":\"Plot\"},\"ticker\":{\"id\":\"7a3905ba-f00d-487c-85b7-b8ee0b774b66\",\"type\":\"BasicTicker\"}},\"id\":\"5438aaa3-aad5-460a-a428-a418d148a6ee\",\"type\":\"Grid\"},{\"attributes\":{\"data_source\":{\"id\":\"f4ac6a84-b405-49ad-9c66-42a9ccf2d7e5\",\"type\":\"ColumnDataSource\"},\"glyph\":{\"id\":\"08a431f0-9015-429d-ba4f-31ed4bda38bb\",\"type\":\"Line\"},\"hover_glyph\":null,\"muted_glyph\":null,\"nonselection_glyph\":{\"id\":\"85b8ae2d-bd95-4f02-bfd0-3aae15d80a3e\",\"type\":\"Line\"},\"selection_glyph\":null,\"view\":{\"id\":\"78cc2fb2-e9e7-47fe-bd5d-5fbff1bb4e2f\",\"type\":\"CDSView\"}},\"id\":\"098f0da6-d903-4635-9c84-a31a8ff86467\",\"type\":\"GlyphRenderer\"},{\"attributes\":{\"children\":[{\"id\":\"fa1feb5d-f308-4d52-8f6f-30a9486a1f68\",\"subtype\":\"Figure\",\"type\":\"Plot\"},{\"id\":\"ae2aaec6-88db-474c-9d77-84a8cf09bf3b\",\"subtype\":\"Figure\",\"type\":\"Plot\"}]},\"id\":\"134312d1-1463-47fd-bcde-7a326ca0362f\",\"type\":\"Column\"},{\"attributes\":{\"children\":[{\"id\":\"134312d1-1463-47fd-bcde-7a326ca0362f\",\"type\":\"Column\"},{\"id\":\"c4eb4da1-e518-48ee-b1c3-8c4aeac50404\",\"subtype\":\"Figure\",\"type\":\"Plot\"}]},\"id\":\"dee4e26c-3b46-4703-9298-02f4bcb679d3\",\"type\":\"Row\"},{\"attributes\":{\"factors\":[\"2010-2018\",\"2001-2009\",\"1991-2000\",\"1979-1990\"],\"palette\":[\"#e41a1c\",\"#377eb8\",\"#4daf4a\",\"#984ea3\",\"#ff7f00\"]},\"id\":\"bd207702-1759-4f50-8121-3f377e4481f0\",\"type\":\"CategoricalColorMapper\"}],\"root_ids\":[\"dee4e26c-3b46-4703-9298-02f4bcb679d3\"]},\"title\":\"Bokeh Application\",\"version\":\"0.12.16\"}};\n",
       "  var render_items = [{\"docid\":\"ae0e2137-db77-4762-84b6-234fde9e4c1c\",\"elementid\":\"7fffd565-d949-4082-9a1b-463a0e64b626\",\"modelid\":\"dee4e26c-3b46-4703-9298-02f4bcb679d3\"}];\n",
       "  root.Bokeh.embed.embed_items_notebook(docs_json, render_items);\n",
       "\n",
       "  }\n",
       "  if (root.Bokeh !== undefined) {\n",
       "    embed_document(root);\n",
       "  } else {\n",
       "    var attempts = 0;\n",
       "    var timer = setInterval(function(root) {\n",
       "      if (root.Bokeh !== undefined) {\n",
       "        embed_document(root);\n",
       "        clearInterval(timer);\n",
       "      }\n",
       "      attempts++;\n",
       "      if (attempts > 100) {\n",
       "        console.log(\"Bokeh: ERROR: Unable to run BokehJS code because BokehJS library is missing\")\n",
       "        clearInterval(timer);\n",
       "      }\n",
       "    }, 10, root)\n",
       "  }\n",
       "})(window);"
      ],
      "application/vnd.bokehjs_exec.v0+json": ""
     },
     "metadata": {
      "application/vnd.bokehjs_exec.v0+json": {
       "id": "dee4e26c-3b46-4703-9298-02f4bcb679d3"
      }
     },
     "output_type": "display_data"
    }
   ],
   "source": [
    "from bokeh.io import output_notebook\n",
    "import pandas as pd\n",
    "from bokeh.models import ColumnDataSource\n",
    "from bokeh.models import HoverTool\n",
    "from bokeh.models import LinearInterpolator\n",
    "from bokeh.models import CategoricalColorMapper\n",
    "from bokeh.models import Circle\n",
    "from bokeh.io import show \n",
    "from bokeh.plotting import figure\n",
    "\n",
    "data = pd.read_csv('nba-players-stats/ShootingOverTheYears1.csv' ,index_col='Rank')\n",
    "\n",
    "source = ColumnDataSource(dict(\n",
    "    threeP = data.ThreeP,  \n",
    "    threePA = data.ThreePA,\n",
    "    Season=data.Season,\n",
    "    G = data.G,\n",
    "    TotalThree = data.TotalThree,\n",
    "    TotalAttemptThree = data.TotalAttemptThree,\n",
    "    Times = data.Times,\n",
    "    P = data.ThreePPercent,\n",
    "    seasont = data.Seasonplus\n",
    "))\n",
    "\n",
    "mapping_coloring = CategoricalColorMapper(\n",
    "    factors = list(data.Times.unique()),\n",
    "    palette = ['#e41a1c',\n",
    " '#377eb8',\n",
    " '#4daf4a',\n",
    " '#984ea3',\n",
    " '#ff7f00',]\n",
    ")\n",
    "\n",
    "relative_size = LinearInterpolator(\n",
    "    x = [data.TotalThree.min(),data.TotalThree.max()],\n",
    "    y = [10,70]\n",
    ")\n",
    "\n",
    "Hover_tool = HoverTool(tooltips = [\n",
    "     ('Season', '@seasont'),\n",
    "    ('3P Mades per Game', \"@threeP\"),\n",
    "     ('3P Attempted Per Game', \"@threePA\"),\n",
    "      ('Total Three Made', \"@TotalThree\"),\n",
    "   ('Percentage', '@P')\n",
    "])\n",
    "Hover_tool1 = HoverTool(tooltips = [\n",
    "     ('Season', '@seasont'),\n",
    "   # ('3P Mades per Game', \"@threeP\"),\n",
    "     ('3P Attempted Per Game', \"@threePA\"),\n",
    "      ('Total Three Made', \"@TotalThree\"),\n",
    "   ('Percentage', '@P')\n",
    "])\n",
    "Hover_tool2 = HoverTool(tooltips = [\n",
    "     ('Season', '@seasont'),\n",
    " ('3P Mades per Game', \"@threeP\"),\n",
    "    # ('3P Attempted Per Game', \"@ThreePA\"),\n",
    "      ('Total Three Made', \"@TotalThree\"),\n",
    "   ('Percentage', '@P')\n",
    "])\n",
    "\n",
    "p1 = figure( tools = [Hover_tool,'box_select','zoom_in','pan', 'wheel_zoom','box_zoom','reset','crosshair','lasso_select','tap'],\n",
    "            height = 500,\n",
    "           width = 500,\n",
    "           x_range = (0,40),\n",
    "           y_range=(0,15),\n",
    "           title = \"Three Points Stats per Season\",\n",
    "          x_axis_label = \"3P attempts per Game Average\",\n",
    "           y_axis_label = \"3P made per Game Average\",\n",
    "          toolbar_location=\"right\")\n",
    "\n",
    "g = p1.circle(x ='threePA',\n",
    "         y ='threeP',\n",
    "         size = {'field':'TotalThree','transform':relative_size},\n",
    "          color = {'field': 'Times','transform': mapping_coloring},\n",
    "         alpha = 0.4,\n",
    "         legend = 'Times',\n",
    "         source = source)\n",
    "p1.cross(x ='threePA',\n",
    "         y ='threeP',\n",
    "         size = {'field':'TotalThree','transform':relative_size},\n",
    "          color = {'field': 'Times','transform': mapping_coloring},\n",
    "         alpha = 0.4,\n",
    "         legend = 'Times',\n",
    "         source = source)\n",
    "\n",
    "\n",
    "selected_circle = Circle(fill_alpha=0.8, fill_color=\"firebrick\", line_color=None)\n",
    "nonselected_circle = Circle(fill_alpha=0.2, fill_color={'field': 'Times','transform': mapping_coloring},line_color=None)\n",
    "g.selection_glyph = selected_circle\n",
    "g.nonselection_glyph = nonselected_circle\n",
    "\n",
    "\n",
    "p2 = figure( tools = [Hover_tool1,'pan', 'wheel_zoom','box_zoom','reset','crosshair','lasso_select','tap','box_select'],\n",
    "            height = 500,\n",
    "           width = 500,\n",
    "           y_range = (0,40),\n",
    "           x_range=(1978,2020),\n",
    "           title = \"Three Points Attempts Per Season\",\n",
    "          x_axis_label = \"Year\",\n",
    "           y_axis_label = \"Attempt\",\n",
    "          toolbar_location=\"right\")\n",
    "\n",
    "g = p2.circle(y ='threePA',\n",
    "         x ='Season',\n",
    "         size = {'field':'TotalThree','transform':relative_size},\n",
    "          color = {'field': 'Times','transform': mapping_coloring},\n",
    "         alpha = 0.4,\n",
    "         legend = 'Times',\n",
    "         source = source)\n",
    "p2.cross(y ='threePA',\n",
    "         x ='Season',\n",
    "         size = {'field':'TotalThree','transform':relative_size},\n",
    "          color = {'field': 'Times','transform': mapping_coloring},\n",
    "         alpha = 0.4,\n",
    "         legend = 'Times',\n",
    "         source = source)\n",
    "p2.line( y= 'threePA',\n",
    "         x ='Season',\n",
    "         alpha = 0.4,\n",
    "        line_width = 3,\n",
    "         source = source)\n",
    "\n",
    "selected_circle = Circle(fill_alpha=0.8, fill_color=\"firebrick\", line_color=None)\n",
    "nonselected_circle = Circle(fill_alpha=0.2, fill_color={'field': 'Times','transform': mapping_coloring},line_color=None)\n",
    "\n",
    "g.selection_glyph = selected_circle\n",
    "g.nonselection_glyph = nonselected_circle\n",
    "\n",
    "p3 = figure( tools = [Hover_tool2,'pan', 'wheel_zoom','box_zoom','reset','crosshair','lasso_select','tap','box_select'],\n",
    "            height =500,\n",
    "           width = 500,\n",
    "           y_range = (0,20),\n",
    "           x_range=(1978,2020),\n",
    "           title = \"Three Point Make Per Season\",\n",
    "          x_axis_label = \"Year\",\n",
    "           y_axis_label = \"Made\",\n",
    "          toolbar_location=\"right\")\n",
    "\n",
    "g = p3.circle(y ='threeP',\n",
    "         x ='Season',\n",
    "         size = {'field':'TotalThree','transform':relative_size},\n",
    "          color = {'field': 'Times','transform': mapping_coloring},\n",
    "         alpha = 0.4,\n",
    "         legend = 'Times',\n",
    "         source = source)\n",
    "p3.cross(y ='threeP',\n",
    "         x ='Season',\n",
    "         size = {'field':'TotalThree','transform':relative_size},\n",
    "          color = {'field': 'Times','transform': mapping_coloring},\n",
    "         alpha = 0.4,\n",
    "         legend = 'Times',\n",
    "         source = source)\n",
    "p3.line( y = 'threeP',\n",
    "         x ='Season',\n",
    "         alpha = 0.4,\n",
    "        line_width = 3,\n",
    "         source = source)\n",
    "\n",
    "\n",
    "\n",
    "selected_circle = Circle(fill_alpha=0.8, fill_color=\"firebrick\", line_color=None)\n",
    "nonselected_circle = Circle(fill_alpha=0.2, fill_color={'field': 'Times','transform': mapping_coloring},line_color=None)\n",
    "\n",
    "g.selection_glyph = selected_circle\n",
    "g.nonselection_glyph = nonselected_circle\n",
    "\n",
    "\n",
    "# p1.legend.click_policy=\"hide\"\n",
    "\n",
    "p2.legend.click_policy=\"hide\"\n",
    "p3.legend.click_policy=\"hide\"\n",
    "p1.right= p1.legend\n",
    "p2.right = p2.legend\n",
    "p3.right = p3.legend\n",
    "\n",
    "\n",
    "from bokeh.layouts import gridplot,row,column\n",
    "# row1 = [p1,p2]\n",
    "# row2 = [p3]\n",
    "# layout = gridplot([[p1,p2],[p3]])\n",
    "\n",
    "\n",
    "\n",
    "layout = row(column(p1,p2), p3)\n",
    "show(layout)"
   ]
  },
  {
   "cell_type": "markdown",
   "metadata": {
    "extensions": {
     "jupyter_dashboards": {
      "version": 1,
      "views": {
       "grid_default": {
        "col": 8,
        "height": 4,
        "hidden": false,
        "row": 115,
        "width": 4
       },
       "report_default": {
        "hidden": false
       }
      }
     }
    }
   },
   "source": [
    "<hr>"
   ]
  },
  {
   "cell_type": "markdown",
   "metadata": {
    "extensions": {
     "jupyter_dashboards": {
      "version": 1,
      "views": {
       "grid_default": {
        "col": 0,
        "height": 12,
        "hidden": false,
        "row": 121,
        "width": 12
       },
       "report_default": {
        "hidden": false
       }
      }
     }
    }
   },
   "source": [
    "# Showing of all players togother of each year of the amount of mades and attempts of threes.   <a name=\"ThreePointPlayer\"></a>\n",
    "Players that are play more than <b>1500 minutes</b> played and year that are starting from 1980.\n",
    "This shows how every player combined from each season or year has taken then importance of the three pointer shot and have slowly adapted into and have more made/attempts from that distance. \n",
    "\n",
    "## Axis\n",
    "- x = shot attempts from  3 points \n",
    "- y = shots made from 3 points.\n",
    "\n",
    "## Results \n",
    "- Show the increase overall of three pointers from all roles and the entire league of players shooting more. \n",
    "\n",
    "* Highest Record By A Player is \n"
   ]
  },
  {
   "cell_type": "markdown",
   "metadata": {
    "extensions": {
     "jupyter_dashboards": {
      "version": 1,
      "views": {
       "grid_default": {
        "col": 8,
        "height": 4,
        "hidden": false,
        "row": 103,
        "width": 4
       },
       "report_default": {
        "hidden": false
       }
      }
     }
    }
   },
   "source": [
    "**Click Run Cell Below.(Refresh)*** if no reactions "
   ]
  },
  {
   "cell_type": "code",
   "execution_count": 7,
   "metadata": {
    "extensions": {
     "jupyter_dashboards": {
      "version": 1,
      "views": {
       "grid_default": {
        "col": 8,
        "height": 4,
        "hidden": false,
        "row": 157,
        "width": 4
       },
       "report_default": {
        "hidden": false
       }
      }
     }
    }
   },
   "outputs": [
    {
     "data": {
      "application/vnd.jupyter.widget-view+json": {
       "model_id": "fde465fedf644de0a0c5a1b9cfb02c55",
       "version_major": 2,
       "version_minor": 0
      },
      "text/plain": [
       "Button(description=' Run Cell Below', style=ButtonStyle())"
      ]
     },
     "metadata": {},
     "output_type": "display_data"
    },
    {
     "data": {
      "application/javascript": [
       "IPython.notebook.execute_cell_range(IPython.notebook.get_selected_index()+1, IPython.notebook.get_selected_index()+2)"
      ],
      "text/plain": [
       "<IPython.core.display.Javascript object>"
      ]
     },
     "metadata": {},
     "output_type": "display_data"
    }
   ],
   "source": [
    "\n",
    "from IPython.display import Javascript, display\n",
    "from ipywidgets import widgets\n",
    "\n",
    "\n",
    "def run_all(ev):\n",
    "    display(Javascript('IPython.notebook.execute_cell_range(IPython.notebook.get_selected_index()+1, IPython.notebook.get_selected_index()+2)'))\n",
    "\n",
    "button = widgets.Button(description=\" Run Cell Below\")\n",
    "button.on_click(run_all)\n",
    "display(button)"
   ]
  },
  {
   "cell_type": "code",
   "execution_count": 12,
   "metadata": {
    "extensions": {
     "jupyter_dashboards": {
      "version": 1,
      "views": {
       "grid_default": {
        "col": 0,
        "height": 35,
        "hidden": false,
        "row": 133,
        "width": 8
       },
       "report_default": {
        "hidden": false
       }
      }
     }
    },
    "scrolled": true
   },
   "outputs": [
    {
     "data": {
      "text/html": [
       "\n",
       "<div class=\"bk-root\">\n",
       "    <div class=\"bk-plotdiv\" id=\"9e9a5aa8-733d-4ae6-bab3-355902b2413b\"></div>\n",
       "</div>"
      ]
     },
     "metadata": {},
     "output_type": "display_data"
    },
    {
     "data": {
      "application/javascript": [
       "(function(root) {\n",
       "  function embed_document(root) {\n",
       "    \n",
       "  var docs_json = {\"61860dd4-9428-4445-89b5-35b78943b8c8\":{\"roots\":{\"references\":[{\"attributes\":{\"below\":[{\"id\":\"8561051a-9431-4002-bb8a-a0dd64a4c99a\",\"type\":\"LinearAxis\"}],\"left\":[{\"id\":\"61ad08f5-ab6f-4432-bc48-e0fc22c38348\",\"type\":\"LinearAxis\"}],\"plot_width\":700,\"renderers\":[{\"id\":\"8561051a-9431-4002-bb8a-a0dd64a4c99a\",\"type\":\"LinearAxis\"},{\"id\":\"938f3bcd-508d-4f36-b2bd-1afd029ff774\",\"type\":\"Grid\"},{\"id\":\"61ad08f5-ab6f-4432-bc48-e0fc22c38348\",\"type\":\"LinearAxis\"},{\"id\":\"96e15d1e-1580-4006-9fdc-c6b336c9869f\",\"type\":\"Grid\"},{\"id\":\"d73ab983-e97a-4b94-bcc1-a29324beae86\",\"type\":\"BoxAnnotation\"},{\"id\":\"bb9062de-0227-4847-bda4-0746c85070b4\",\"type\":\"Legend\"},{\"id\":\"81e56f56-b52e-4cbf-bbb2-397cf95a5f19\",\"type\":\"GlyphRenderer\"},{\"id\":\"530ee839-624c-42bf-a5d3-96274b5b05e1\",\"type\":\"GlyphRenderer\"}],\"right\":[{\"id\":\"bb9062de-0227-4847-bda4-0746c85070b4\",\"type\":\"Legend\"}],\"title\":{\"id\":\"9cdef342-afbc-40a7-9638-460e0ac4d9f8\",\"type\":\"Title\"},\"toolbar\":{\"id\":\"d1249872-a16e-4168-aee2-956a3eade417\",\"type\":\"Toolbar\"},\"x_range\":{\"id\":\"9cc7c251-c5e2-4f0d-be4a-66b3a58009f3\",\"type\":\"Range1d\"},\"x_scale\":{\"id\":\"e39007a4-93c6-4c2e-8b96-bdca7e344da5\",\"type\":\"LinearScale\"},\"y_range\":{\"id\":\"1a88e9cc-b040-490d-bdec-f2bb654857cb\",\"type\":\"Range1d\"},\"y_scale\":{\"id\":\"39de80f7-ef24-48b8-aadc-16fea368760f\",\"type\":\"LinearScale\"}},\"id\":\"d8e97f3a-ff88-4459-9299-843fbe423b07\",\"subtype\":\"Figure\",\"type\":\"Plot\"},{\"attributes\":{\"fill_alpha\":{\"value\":0.4},\"fill_color\":{\"field\":\"Position\",\"transform\":{\"id\":\"ba07010b-7f78-4d29-be5e-8c3030b9c46e\",\"type\":\"CategoricalColorMapper\"}},\"line_alpha\":{\"value\":0.4},\"line_color\":{\"field\":\"Position\",\"transform\":{\"id\":\"ba07010b-7f78-4d29-be5e-8c3030b9c46e\",\"type\":\"CategoricalColorMapper\"}},\"size\":{\"units\":\"screen\",\"value\":10},\"x\":{\"field\":\"x\"},\"y\":{\"field\":\"y\"}},\"id\":\"4f90c68a-de6c-4c82-a025-49765e18739b\",\"type\":\"Circle\"},{\"attributes\":{\"plot\":null,\"text\":\"Players Three Mades and Attempts Comparisons through the years.\"},\"id\":\"9cdef342-afbc-40a7-9638-460e0ac4d9f8\",\"type\":\"Title\"},{\"attributes\":{\"callback\":null,\"end\":1000},\"id\":\"9cc7c251-c5e2-4f0d-be4a-66b3a58009f3\",\"type\":\"Range1d\"},{\"attributes\":{\"active_drag\":\"auto\",\"active_inspect\":\"auto\",\"active_scroll\":\"auto\",\"active_tap\":\"auto\",\"tools\":[{\"id\":\"042eab5f-bbac-40f7-ab46-c64126790293\",\"type\":\"HoverTool\"},{\"id\":\"57a24254-86e8-4d2e-97de-6b1d407a1dc5\",\"type\":\"PanTool\"},{\"id\":\"df5d8b75-174f-4e54-baf3-80db04ba5e25\",\"type\":\"WheelZoomTool\"},{\"id\":\"01f2ef2e-ef59-4dbf-a803-c9757245dbc4\",\"type\":\"BoxZoomTool\"},{\"id\":\"243b719f-5555-4e74-bf9f-a5b9c521f982\",\"type\":\"ResetTool\"}]},\"id\":\"d1249872-a16e-4168-aee2-956a3eade417\",\"type\":\"Toolbar\"},{\"attributes\":{\"callback\":null,\"end\":450},\"id\":\"1a88e9cc-b040-490d-bdec-f2bb654857cb\",\"type\":\"Range1d\"},{\"attributes\":{},\"id\":\"e39007a4-93c6-4c2e-8b96-bdca7e344da5\",\"type\":\"LinearScale\"},{\"attributes\":{\"callback\":null,\"data\":{\"Percentages\":{\"__ndarray__\":\"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\",\"dtype\":\"float64\",\"shape\":[204]},\"Player\":[\"Arron Afflalo\",\"LaMarcus Aldridge\",\"Ray Allen\",\"Chris Andersen\",\"Carmelo Anthony\",\"Trevor Ariza\",\"Carlos Arroyo\",\"J.J. Barea\",\"Andrea Bargnani\",\"Matt Barnes\",\"Shane Battier\",\"Michael Beasley\",\"Charlie Bell\",\"Mike Bibby\",\"Chauncey Billups\",\"Steve Blake\",\"Andray Blatche\",\"Keith Bogans\",\"Andrew Bogut\",\"Carlos Boozer\",\"Chris Bosh\",\"Elton Brand\",\"Corey Brewer\",\"Ronnie Brewer\",\"Ronnie Brewer\",\"Aaron Brooks\",\"Shannon Brown\",\"Kobe Bryant\",\"Caron Butler\",\"Caron Butler\",\"Rasual Butler\",\"Andrew Bynum\",\"Will Bynum\",\"Jose Calderon\",\"Marcus Camby\",\"Marcus Camby\",\"Vince Carter\",\"Omri Casspi\",\"Mario Chalmers\",\"Wilson Chandler\",\"Darren Collison\",\"Nick Collison\",\"Mike Conley\",\"Jamal Crawford\",\"Stephen Curry\",\"Samuel Dalembert\",\"Baron Davis\",\"Carlos Delfino\",\"Luol Deng\",\"DeMar DeRozan\",\"Boris Diaw\",\"Chris Douglas-Roberts\",\"Jared Dudley\",\"Chris Duhon\",\"Tim Duncan\",\"Kevin Durant\",\"Monta Ellis\",\"Tyreke Evans\",\"Raymond Felton\",\"Derek Fisher\",\"Jonny Flynn\",\"Randy Foye\",\"Channing Frye\",\"Danilo Gallinari\",\"Kevin Garnett\",\"Marc Gasol\",\"Pau Gasol\",\"Rudy Gay\",\"Taj Gibson\",\"Manu Ginobili\",\"Ryan Gomes\",\"Drew Gooden\",\"Ben Gordon\",\"Eric Gordon\",\"Danny Granger\",\"Jeff Green\",\"Willie Green\",\"Donte Greene\",\"Richard Hamilton\",\"James Harden\",\"Al Harrington\",\"Devin Harris\",\"Udonis Haslem\",\"Spencer Hawes\",\"Chuck Hayes\",\"Brendan Haywood\",\"Brendan Haywood\",\"Roy Hibbert\",\"J.J. Hickson\",\"Nene Hilario\",\"George Hill\",\"Grant Hill\",\"Kirk Hinrich\",\"Jrue Holiday\",\"Al Horford\",\"Dwight Howard\",\"Juwan Howard\",\"Andre Iguodala\",\"Ersan Ilyasova\",\"Jarrett Jack\",\"Stephen Jackson\",\"Stephen Jackson\",\"LeBron James\",\"Antawn Jamison\",\"Antawn Jamison\",\"Al Jefferson\",\"Richard Jefferson\",\"Jared Jeffries\",\"Brandon Jennings\",\"Jonas Jerebko\",\"Yi Jianlian\",\"Joe Johnson\",\"Dahntay Jones\",\"Chris Kaman\",\"Jason Kidd\",\"Andrei Kirilenko\",\"Nenad Krstic\",\"Carl Landry\",\"Courtney Lee\",\"David Lee\",\"Rashard Lewis\",\"Brook Lopez\",\"Kevin Love\",\"Kyle Lowry\",\"Corey Maggette\",\"Shawn Marion\",\"Kenyon Martin\",\"Kevin Martin\",\"Roger Mason\",\"Wesley Matthews\",\"Jason Maxiell\",\"O.J. Mayo\",\"Luc Mbah\",\"Antonio McDyess\",\"Andre Miller\",\"Brad Miller\",\"Mike Miller\",\"Paul Millsap\",\"Anthony Morrow\",\"Troy Murphy\",\"Ronald Murray\",\"Steve Nash\",\"Jameer Nelson\",\"Joakim Noah\",\"Dirk Nowitzki\",\"Jermaine O'Neal\",\"Lamar Odom\",\"Emeka Okafor\",\"Mehmet Okur\",\"Anthony Parker\",\"Tony Parker\",\"Chris Paul\",\"Kendrick Perkins\",\"Paul Pierce\",\"Mickael Pietrus\",\"James Posey\",\"Tayshaun Prince\",\"Zach Randolph\",\"J.J. Redick\",\"Jason Richardson\",\"Quentin Richardson\",\"Luke Ridnour\",\"Rajon Rondo\",\"Derrick Rose\",\"Brandon Roy\",\"Brandon Rush\",\"John Salmons\",\"John Salmons\",\"Luis Scola\",\"Thabo Sefolosha\",\"Ramon Sessions\",\"J.R. Smith\",\"Josh Smith\",\"Peja Stojakovic\",\"Amar'e Stoudemire\",\"Rodney Stuckey\",\"Jason Terry\",\"Jason Thompson\",\"Al Thornton\",\"Marcus Thornton\",\"Hedo Turkoglu\",\"Beno Udrih\",\"Anderson Varejao\",\"Charlie Villanueva\",\"Dwyane Wade\",\"Ben Wallace\",\"Gerald Wallace\",\"Rasheed Wallace\",\"Hakim Warrick\",\"C.J. Watson\",\"Earl Watson\",\"Martell Webster\",\"David West\",\"Delonte West\",\"Russell Westbrook\",\"Damien Wilkins\",\"Deron Williams\",\"Jason Williams\",\"Lou Williams\",\"Marvin Williams\",\"Mo Williams\",\"Terrence Williams\",\"Metta World\",\"Thaddeus Young\"],\"Position\":[\"SG\",\"PF\",\"SG\",\"PF\",\"SF\",\"SF\",\"PG\",\"PG\",\"PF\",\"SF\",\"SG\",\"PF\",\"SG\",\"PG\",\"PG\",\"PG\",\"PF\",\"SF\",\"C\",\"PF\",\"C\",\"PF\",\"SG\",\"SG\",\"SG\",\"PG\",\"SG\",\"SG\",\"SF\",\"SF\",\"SF\",\"C\",\"PG\",\"PG\",\"PF\",\"PF\",\"SG\",\"SF\",\"PG\",\"SG\",\"PG\",\"C\",\"PG\",\"SG\",\"PG\",\"C\",\"PG\",\"SF\",\"SF\",\"SG\",\"PF\",\"SF\",\"SF\",\"PG\",\"C\",\"SF\",\"SG\",\"SG\",\"PG\",\"PG\",\"PG\",\"PG\",\"C\",\"SF\",\"PF\",\"C\",\"C\",\"SF\",\"PF\",\"SG\",\"SF\",\"C\",\"SG\",\"SG\",\"SF\",\"PF\",\"SG\",\"SF\",\"SG\",\"SG\",\"PF\",\"PG\",\"PF\",\"C\",\"C\",\"C\",\"C\",\"C\",\"PF\",\"C\",\"PG\",\"SF\",\"SG\",\"PG\",\"C\",\"C\",\"C\",\"SF\",\"PF\",\"PG\",\"SG\",\"SG\",\"SF\",\"PF\",\"PF\",\"C\",\"SF\",\"PF\",\"PG\",\"PF\",\"PF\",\"SG\",\"SF\",\"C\",\"PG\",\"SF\",\"C\",\"PF\",\"SG\",\"C\",\"PF\",\"C\",\"PF\",\"PG\",\"PF\",\"SF\",\"PF\",\"SG\",\"SG\",\"SG\",\"C\",\"SG\",\"PF\",\"PF\",\"PG\",\"C\",\"SG\",\"PF\",\"SG\",\"PF\",\"SG\",\"PG\",\"PG\",\"C\",\"PF\",\"C\",\"PF\",\"C\",\"C\",\"SG\",\"PG\",\"PG\",\"C\",\"SF\",\"SF\",\"SF\",\"SF\",\"PF\",\"SG\",\"SG\",\"SF\",\"PG\",\"PG\",\"PG\",\"SG\",\"SG\",\"SG\",\"SG\",\"PF\",\"SG\",\"PG\",\"SG\",\"PF\",\"SF\",\"PF\",\"PG\",\"SG\",\"C\",\"SF\",\"SG\",\"SF\",\"PG\",\"PF\",\"PF\",\"SG\",\"C\",\"SF\",\"C\",\"PF\",\"PG\",\"PG\",\"SF\",\"PF\",\"SG\",\"PG\",\"SF\",\"PG\",\"PG\",\"PG\",\"SF\",\"PG\",\"SF\",\"SF\",\"PF\"],\"x\":{\"__ndarray__\":\"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\",\"dtype\":\"float64\",\"shape\":[204]},\"y\":{\"__ndarray__\":\"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\",\"dtype\":\"float64\",\"shape\":[204]}},\"selected\":{\"id\":\"1444261b-88ec-4eaa-8b76-effc9b7bef69\",\"type\":\"Selection\"},\"selection_policy\":{\"id\":\"b11e4e38-7c97-4d6e-8ff2-285593ac4bdc\",\"type\":\"UnionRenderers\"}},\"id\":\"73edd181-d412-4d0a-baf5-af40965b3a3b\",\"type\":\"ColumnDataSource\"},{\"attributes\":{},\"id\":\"39de80f7-ef24-48b8-aadc-16fea368760f\",\"type\":\"LinearScale\"},{\"attributes\":{\"plot\":{\"id\":\"d8e97f3a-ff88-4459-9299-843fbe423b07\",\"subtype\":\"Figure\",\"type\":\"Plot\"},\"ticker\":{\"id\":\"25788ff1-c6ff-4034-ae66-0a9a82da0886\",\"type\":\"BasicTicker\"}},\"id\":\"938f3bcd-508d-4f36-b2bd-1afd029ff774\",\"type\":\"Grid\"},{\"attributes\":{\"axis_label\":\"Three Attempted\",\"formatter\":{\"id\":\"34fe4e88-f8a6-4f9a-aef8-e94994d77aae\",\"type\":\"BasicTickFormatter\"},\"plot\":{\"id\":\"d8e97f3a-ff88-4459-9299-843fbe423b07\",\"subtype\":\"Figure\",\"type\":\"Plot\"},\"ticker\":{\"id\":\"25788ff1-c6ff-4034-ae66-0a9a82da0886\",\"type\":\"BasicTicker\"}},\"id\":\"8561051a-9431-4002-bb8a-a0dd64a4c99a\",\"type\":\"LinearAxis\"},{\"attributes\":{},\"id\":\"25788ff1-c6ff-4034-ae66-0a9a82da0886\",\"type\":\"BasicTicker\"},{\"attributes\":{\"axis_label\":\"Three Made\",\"formatter\":{\"id\":\"c43f5b26-7441-4e87-af4e-a2f826db8927\",\"type\":\"BasicTickFormatter\"},\"plot\":{\"id\":\"d8e97f3a-ff88-4459-9299-843fbe423b07\",\"subtype\":\"Figure\",\"type\":\"Plot\"},\"ticker\":{\"id\":\"8fc56c84-97bb-4042-b70a-ef4718f8d838\",\"type\":\"BasicTicker\"}},\"id\":\"61ad08f5-ab6f-4432-bc48-e0fc22c38348\",\"type\":\"LinearAxis\"},{\"attributes\":{},\"id\":\"8fc56c84-97bb-4042-b70a-ef4718f8d838\",\"type\":\"BasicTicker\"},{\"attributes\":{\"dimension\":1,\"plot\":{\"id\":\"d8e97f3a-ff88-4459-9299-843fbe423b07\",\"subtype\":\"Figure\",\"type\":\"Plot\"},\"ticker\":{\"id\":\"8fc56c84-97bb-4042-b70a-ef4718f8d838\",\"type\":\"BasicTicker\"}},\"id\":\"96e15d1e-1580-4006-9fdc-c6b336c9869f\",\"type\":\"Grid\"},{\"attributes\":{\"factors\":[\"SF\",\"PF\",\"SG\",\"PG\",\"C\",\"G\"],\"palette\":[\"#e41a1c\",\"#377eb8\",\"#4daf4a\",\"#984ea3\",\"#ff7f00\",\"#ffff33\",\"#a65628\",\"#f781bf\",\"#999999\"]},\"id\":\"ba07010b-7f78-4d29-be5e-8c3030b9c46e\",\"type\":\"CategoricalColorMapper\"},{\"attributes\":{\"background_fill_color\":{\"value\":\"white\"},\"border_line_color\":{\"value\":\"blue\"},\"items\":[{\"id\":\"1064fcdd-8162-4698-8228-bca2823dffe0\",\"type\":\"LegendItem\"}],\"plot\":{\"id\":\"d8e97f3a-ff88-4459-9299-843fbe423b07\",\"subtype\":\"Figure\",\"type\":\"Plot\"}},\"id\":\"bb9062de-0227-4847-bda4-0746c85070b4\",\"type\":\"Legend\"},{\"attributes\":{\"bottom_units\":\"screen\",\"fill_alpha\":{\"value\":0.5},\"fill_color\":{\"value\":\"lightgrey\"},\"left_units\":\"screen\",\"level\":\"overlay\",\"line_alpha\":{\"value\":1.0},\"line_color\":{\"value\":\"black\"},\"line_dash\":[4,4],\"line_width\":{\"value\":2},\"plot\":null,\"render_mode\":\"css\",\"right_units\":\"screen\",\"top_units\":\"screen\"},\"id\":\"d73ab983-e97a-4b94-bcc1-a29324beae86\",\"type\":\"BoxAnnotation\"},{\"attributes\":{},\"id\":\"57a24254-86e8-4d2e-97de-6b1d407a1dc5\",\"type\":\"PanTool\"},{\"attributes\":{},\"id\":\"c43f5b26-7441-4e87-af4e-a2f826db8927\",\"type\":\"BasicTickFormatter\"},{\"attributes\":{},\"id\":\"df5d8b75-174f-4e54-baf3-80db04ba5e25\",\"type\":\"WheelZoomTool\"},{\"attributes\":{\"overlay\":{\"id\":\"d73ab983-e97a-4b94-bcc1-a29324beae86\",\"type\":\"BoxAnnotation\"}},\"id\":\"01f2ef2e-ef59-4dbf-a803-c9757245dbc4\",\"type\":\"BoxZoomTool\"},{\"attributes\":{},\"id\":\"243b719f-5555-4e74-bf9f-a5b9c521f982\",\"type\":\"ResetTool\"},{\"attributes\":{},\"id\":\"34fe4e88-f8a6-4f9a-aef8-e94994d77aae\",\"type\":\"BasicTickFormatter\"},{\"attributes\":{\"data_source\":{\"id\":\"73edd181-d412-4d0a-baf5-af40965b3a3b\",\"type\":\"ColumnDataSource\"},\"glyph\":{\"id\":\"4f90c68a-de6c-4c82-a025-49765e18739b\",\"type\":\"Circle\"},\"hover_glyph\":null,\"muted_glyph\":null,\"nonselection_glyph\":{\"id\":\"10bd5e30-5acd-432d-b0e6-1df342c12981\",\"type\":\"Circle\"},\"selection_glyph\":null,\"view\":{\"id\":\"306d3b96-53c9-4bd8-897b-efa98b1307dc\",\"type\":\"CDSView\"}},\"id\":\"81e56f56-b52e-4cbf-bbb2-397cf95a5f19\",\"type\":\"GlyphRenderer\"},{\"attributes\":{\"fill_alpha\":{\"value\":0.1},\"fill_color\":{\"value\":\"#1f77b4\"},\"line_alpha\":{\"value\":0.1},\"line_color\":{\"value\":\"#1f77b4\"},\"size\":{\"units\":\"screen\",\"value\":10},\"x\":{\"field\":\"x\"},\"y\":{\"field\":\"y\"}},\"id\":\"10bd5e30-5acd-432d-b0e6-1df342c12981\",\"type\":\"Circle\"},{\"attributes\":{\"source\":{\"id\":\"73edd181-d412-4d0a-baf5-af40965b3a3b\",\"type\":\"ColumnDataSource\"}},\"id\":\"306d3b96-53c9-4bd8-897b-efa98b1307dc\",\"type\":\"CDSView\"},{\"attributes\":{\"label\":{\"field\":\"Position\"},\"renderers\":[{\"id\":\"81e56f56-b52e-4cbf-bbb2-397cf95a5f19\",\"type\":\"GlyphRenderer\"},{\"id\":\"530ee839-624c-42bf-a5d3-96274b5b05e1\",\"type\":\"GlyphRenderer\"}]},\"id\":\"1064fcdd-8162-4698-8228-bca2823dffe0\",\"type\":\"LegendItem\"},{\"attributes\":{\"fill_alpha\":{\"value\":0.1},\"fill_color\":{\"value\":\"#1f77b4\"},\"line_alpha\":{\"value\":0.1},\"line_color\":{\"value\":\"#1f77b4\"},\"size\":{\"units\":\"screen\",\"value\":25},\"x\":{\"field\":\"x\"},\"y\":{\"field\":\"y\"}},\"id\":\"56b507b1-3c87-44a4-8ed4-943fc8162329\",\"type\":\"Cross\"},{\"attributes\":{\"source\":{\"id\":\"73edd181-d412-4d0a-baf5-af40965b3a3b\",\"type\":\"ColumnDataSource\"}},\"id\":\"4e1f7e7f-9096-4efd-a202-ae1ab1844caf\",\"type\":\"CDSView\"},{\"attributes\":{},\"id\":\"1444261b-88ec-4eaa-8b76-effc9b7bef69\",\"type\":\"Selection\"},{\"attributes\":{\"data_source\":{\"id\":\"73edd181-d412-4d0a-baf5-af40965b3a3b\",\"type\":\"ColumnDataSource\"},\"glyph\":{\"id\":\"b0751ac9-dc9f-4f2e-8523-353f44599ba2\",\"type\":\"Cross\"},\"hover_glyph\":null,\"muted_glyph\":null,\"nonselection_glyph\":{\"id\":\"56b507b1-3c87-44a4-8ed4-943fc8162329\",\"type\":\"Cross\"},\"selection_glyph\":null,\"view\":{\"id\":\"4e1f7e7f-9096-4efd-a202-ae1ab1844caf\",\"type\":\"CDSView\"}},\"id\":\"530ee839-624c-42bf-a5d3-96274b5b05e1\",\"type\":\"GlyphRenderer\"},{\"attributes\":{\"fill_alpha\":{\"value\":0.4},\"fill_color\":{\"field\":\"Position\",\"transform\":{\"id\":\"ba07010b-7f78-4d29-be5e-8c3030b9c46e\",\"type\":\"CategoricalColorMapper\"}},\"line_alpha\":{\"value\":0.4},\"line_color\":{\"field\":\"Position\",\"transform\":{\"id\":\"ba07010b-7f78-4d29-be5e-8c3030b9c46e\",\"type\":\"CategoricalColorMapper\"}},\"size\":{\"units\":\"screen\",\"value\":25},\"x\":{\"field\":\"x\"},\"y\":{\"field\":\"y\"}},\"id\":\"b0751ac9-dc9f-4f2e-8523-353f44599ba2\",\"type\":\"Cross\"},{\"attributes\":{},\"id\":\"b11e4e38-7c97-4d6e-8ff2-285593ac4bdc\",\"type\":\"UnionRenderers\"},{\"attributes\":{\"callback\":null,\"renderers\":\"auto\",\"tooltips\":[[\"3P Mades per Game\",\"@y\"],[\"3P Attempted Per Game\",\"@x\"],[\"3P Percentage\",\"@Percentages\"],[\"Position\",\"@Position\"]]},\"id\":\"042eab5f-bbac-40f7-ab46-c64126790293\",\"type\":\"HoverTool\"}],\"root_ids\":[\"d8e97f3a-ff88-4459-9299-843fbe423b07\"]},\"title\":\"Bokeh Application\",\"version\":\"0.12.16\"}};\n",
       "  var render_items = [{\"docid\":\"61860dd4-9428-4445-89b5-35b78943b8c8\",\"elementid\":\"9e9a5aa8-733d-4ae6-bab3-355902b2413b\",\"modelid\":\"d8e97f3a-ff88-4459-9299-843fbe423b07\",\"notebook_comms_target\":\"58055b71-4095-4839-ab08-06c9ab961108\"}];\n",
       "  root.Bokeh.embed.embed_items_notebook(docs_json, render_items);\n",
       "\n",
       "  }\n",
       "  if (root.Bokeh !== undefined) {\n",
       "    embed_document(root);\n",
       "  } else {\n",
       "    var attempts = 0;\n",
       "    var timer = setInterval(function(root) {\n",
       "      if (root.Bokeh !== undefined) {\n",
       "        embed_document(root);\n",
       "        clearInterval(timer);\n",
       "      }\n",
       "      attempts++;\n",
       "      if (attempts > 100) {\n",
       "        console.log(\"Bokeh: ERROR: Unable to run BokehJS code because BokehJS library is missing\")\n",
       "        clearInterval(timer);\n",
       "      }\n",
       "    }, 10, root)\n",
       "  }\n",
       "})(window);"
      ],
      "application/vnd.bokehjs_exec.v0+json": ""
     },
     "metadata": {
      "application/vnd.bokehjs_exec.v0+json": {
       "id": "d8e97f3a-ff88-4459-9299-843fbe423b07"
      }
     },
     "output_type": "display_data"
    },
    {
     "data": {
      "application/vnd.jupyter.widget-view+json": {
       "model_id": "99493e96250146438123be29e772ad92",
       "version_major": 2,
       "version_minor": 0
      },
      "text/plain": [
       "interactive(children=(IntSlider(value=1980, description='Slider Year:', max=2017, min=1980), Output()), _dom_c…"
      ]
     },
     "metadata": {},
     "output_type": "display_data"
    },
    {
     "data": {
      "application/vnd.jupyter.widget-view+json": {
       "model_id": "ba17cf21bf3941c6a8bd2b102d77f905",
       "version_major": 2,
       "version_minor": 0
      },
      "text/plain": [
       "interactive(children=(Play(value=1979, description='Year', max=2017, min=1979), Output()), _dom_classes=('widg…"
      ]
     },
     "metadata": {},
     "output_type": "display_data"
    },
    {
     "data": {
      "application/vnd.jupyter.widget-view+json": {
       "model_id": "a5a51d05012a4aeb97dadce917dc55eb",
       "version_major": 2,
       "version_minor": 0
      },
      "text/plain": [
       "interactive(children=(BoundedIntText(value=1980, description='Put A Year:', max=2017, min=1980), Output()), _d…"
      ]
     },
     "metadata": {},
     "output_type": "display_data"
    }
   ],
   "source": [
    "\n",
    "import pandas as pd\n",
    "from bokeh.models import ColumnDataSource\n",
    "from bokeh.models import HoverTool\n",
    "from bokeh.models import LinearInterpolator\n",
    "from bokeh.models import CategoricalColorMapper\n",
    "from bokeh.palettes import Set1_9\n",
    "from ipywidgets import interact, interactive, fixed, interact_manual,widgets\n",
    "from bokeh.io import push_notebook,show\n",
    "\n",
    "data3 = pd.read_csv('nba-players-stats/SeasonStats1500MP3.0.csv',index_col=['Year'])\n",
    "source = ColumnDataSource(dict(\n",
    "     y = data3.loc[2010].ThreeMade,  \n",
    "    x  = data3.loc[2010].ThreeAttempt,\n",
    "    Percentages = data3.loc[2010].Threepercent,\n",
    "    Player = data3.loc[2010].Player,\n",
    "   Position = data3.loc[2010].Pos\n",
    "))\n",
    "\n",
    "mapping_coloring = CategoricalColorMapper(\n",
    "    factors = list(data3.Pos.unique()),\n",
    "    palette = Set1_9\n",
    ")\n",
    "\n",
    "Hover_tools = HoverTool(tooltips = [\n",
    "    ('3P Mades per Game', \"@y\"),\n",
    "     ('3P Attempted Per Game', \"@x\"),\n",
    "    ('3P Percentage','@Percentages'),\n",
    " ('Position', '@Position')])\n",
    "\n",
    "p = figure(height=600,\n",
    "           width = 700,\n",
    "           x_range = (0,1000),\n",
    "           y_range=(0,450),\n",
    "           tools = [Hover_tools,'pan', 'wheel_zoom','box_zoom','reset'],\n",
    "         title = \"Players Three Mades and Attempts Comparisons through the years.\",\n",
    "          x_axis_label = \"Three Attempted\",\n",
    "          y_axis_label = \"Three Made\")\n",
    "\n",
    "p.circle('x',\n",
    "         'y', \n",
    "         size = 10,\n",
    "         #size = {'field':'population','transform':relative_size},\n",
    "       #  title = \"Players Three Mades and Attempts Comparisons through the years.\",\n",
    "         color = {'field': 'Position','transform': mapping_coloring},\n",
    "         alpha = 0.4,\n",
    "         legend = 'Position',\n",
    "        source = source)\n",
    "\n",
    "p.cross('x',\n",
    "         'y', \n",
    "         size = 25,\n",
    "         #size = {'field':'population','transform':relative_size},\n",
    "        color = {'field': 'Position','transform': mapping_coloring},\n",
    "         alpha = 0.4,\n",
    "         legend = 'Position',\n",
    "        source = source)\n",
    "\n",
    "\n",
    "def update(Year):\n",
    "    interactivedata = dict(\n",
    "    y = data3.loc[Year].ThreeMade,  \n",
    "    x  = data3.loc[Year].ThreeAttempt,\n",
    "    Percentages = data3.loc[Year].Threepercent,\n",
    "    Player = data3.loc[Year].Player,\n",
    "   Position = data3.loc[Year].Pos,\n",
    "   # Team = data3.loc[Year].Tm,\n",
    "    #MP = data3.loc[Year].MP\n",
    "    )\n",
    "    \n",
    "    source.data = interactivedata\n",
    "    p.title.text=\"Players Three Mades and Attempts Comparisons through the years. \" + \" Current Years:\"+ str(Year)\n",
    "   # p.title.text_font_size = fontsize 10;\n",
    "    push_notebook()\n",
    "\n",
    "\n",
    "p.legend.orientation = \"vertical\"\n",
    "p.legend.border_line_color = \"blue\"\n",
    "p.legend.background_fill_color = \"white\"\n",
    "p.right = p.legend\n",
    "show(p,notebook_handle=True)\n",
    "\n",
    "interact(update,\n",
    "    Year = widgets.IntSlider(\n",
    "    value=0,\n",
    "    min=1980,\n",
    "    max=2017,\n",
    "    step=1,\n",
    "    description='Slider Year:',\n",
    "    continuous_update=True,\n",
    "    orientation='Horizontal',\n",
    "    readout=True,\n",
    "    readout_format='d',\n",
    "));\n",
    "\n",
    "interact(update,\n",
    "    Year = widgets.Play( \n",
    "    value=0,\n",
    "    min=1979,\n",
    "    max=2017,\n",
    "    step=1,\n",
    "    disabled=False\n",
    "));\n",
    "    \n",
    "\n",
    "interact(update,\n",
    "    Year = widgets.BoundedIntText(\n",
    "    value=0,\n",
    "    min=1980,\n",
    "    max=2017,\n",
    "   # continuous_update=True,\n",
    "    step=1,\n",
    "    description='Put A Year:',\n",
    "    disabled=False\n",
    "));\n",
    "\n",
    "\n"
   ]
  },
  {
   "cell_type": "code",
   "execution_count": 13,
   "metadata": {
    "scrolled": false
   },
   "outputs": [
    {
     "ename": "NameError",
     "evalue": "name 'd' is not defined",
     "output_type": "error",
     "traceback": [
      "\u001b[0;31m---------------------------------------------------------------------------\u001b[0m",
      "\u001b[0;31mNameError\u001b[0m                                 Traceback (most recent call last)",
      "\u001b[0;32m<ipython-input-13-141b072bc193>\u001b[0m in \u001b[0;36m<module>\u001b[0;34m()\u001b[0m\n\u001b[1;32m     37\u001b[0m \u001b[0;31m#2016 8\u001b[0m\u001b[0;34m\u001b[0m\u001b[0;34m\u001b[0m\u001b[0m\n\u001b[1;32m     38\u001b[0m \u001b[0;31m#2017 11\u001b[0m\u001b[0;34m\u001b[0m\u001b[0;34m\u001b[0m\u001b[0m\n\u001b[0;32m---> 39\u001b[0;31m \u001b[0md\u001b[0m\u001b[0;34m\u001b[0m\u001b[0m\n\u001b[0m",
      "\u001b[0;31mNameError\u001b[0m: name 'd' is not defined"
     ]
    }
   ],
   "source": [
    "# d=data4[ (data4['Player']== 'Michael Jordan')] \n",
    "# #1988 3 \n",
    "#1989 6\n",
    "#1990 6\n",
    "#1991 7 \n",
    "#1992 12\n",
    "#1993 17\n",
    "#1994 18\n",
    "#1995 38\n",
    "#1996 46\n",
    "#1997 46\n",
    "#1998 31\n",
    "#1999 3 due to that fact there was a lockout suppose to have 4 but due that player did not play more than 1500 mins \n",
    "#2000 30\n",
    "#2010 50 \n",
    "#2017 75\n",
    "\n",
    "# 200 threes \n",
    "#1995 1\n",
    "#1996 4\n",
    "#1997 5\n",
    " \n",
    "#2001 2 \n",
    "#2002 3\n",
    "#2003 1\n",
    "#2004 1\n",
    "#2005 5\n",
    "#2006 1\n",
    "#2007 3\n",
    "#2008 3 \n",
    "#2009 1\n",
    "#2010 1\n",
    "\n",
    "#2013 3\n",
    "#2014 5\n",
    "#2015 5\n",
    "#2016 8\n",
    "#2017 11\n",
    "d"
   ]
  },
  {
   "cell_type": "code",
   "execution_count": 14,
   "metadata": {},
   "outputs": [
    {
     "ename": "NameError",
     "evalue": "name 'd' is not defined",
     "output_type": "error",
     "traceback": [
      "\u001b[0;31m---------------------------------------------------------------------------\u001b[0m",
      "\u001b[0;31mNameError\u001b[0m                                 Traceback (most recent call last)",
      "\u001b[0;32m<ipython-input-14-ed73d20a3557>\u001b[0m in \u001b[0;36m<module>\u001b[0;34m()\u001b[0m\n\u001b[0;32m----> 1\u001b[0;31m \u001b[0md\u001b[0m\u001b[0;34m.\u001b[0m\u001b[0mThreeMade\u001b[0m\u001b[0;34m\u001b[0m\u001b[0m\n\u001b[0m",
      "\u001b[0;31mNameError\u001b[0m: name 'd' is not defined"
     ]
    }
   ],
   "source": [
    "d.ThreeMade"
   ]
  },
  {
   "cell_type": "markdown",
   "metadata": {
    "extensions": {
     "jupyter_dashboards": {
      "version": 1,
      "views": {
       "grid_default": {
        "col": 8,
        "height": 4,
        "hidden": false,
        "row": 107,
        "width": 4
       },
       "report_default": {
        "hidden": false
       }
      }
     }
    }
   },
   "source": [
    "<hr style=\"height:1px;border:none;color:#333;background-color:#333;\" />"
   ]
  },
  {
   "cell_type": "markdown",
   "metadata": {
    "extensions": {
     "jupyter_dashboards": {
      "version": 1,
      "views": {
       "grid_default": {
        "col": 0,
        "height": 17,
        "hidden": false,
        "row": 168,
        "width": 12
       },
       "report_default": {
        "hidden": false
       }
      }
     }
    }
   },
   "source": [
    "<a name=\"ThreePointPosition\"></a>\n",
    "## Showing each position  amount of three points that they made and attempted\n",
    "\n",
    "- They show how each role have vastly improve on three pointers since showing the importance of it as years have showed that they have more increased.  \n",
    "- This also shows how the center position is now more of a niche than an important role than it was. Years when centers dominated the game now might not be as dominate for exceptional of some players that are more flexible. \n",
    "- The Size of the cirlce defines , the WS \n",
    "- The players in this list entire season at least plays for 1500 minutes for the entire season.\n",
    "\n",
    "TOT - Total from your entire season this only TOT only occurs when you are traded on a team.\n",
    "<br>WS(Win Shares) - An estimate of the number of wins contributed by a player.(one win is equivalent to three )\n",
    "\n",
    "## Axis\n",
    "- x = shot made from 3\n",
    "- y = shot attempt from 3\n",
    "\n",
    "# Results\n",
    "- Shows that each position shooting more three pointers. \n",
    "- Even Centers are shooting more than ever and is increasing shooting more than ever. \n",
    "- Players are all-around. Sufficient to do all things"
   ]
  },
  {
   "cell_type": "markdown",
   "metadata": {
    "extensions": {
     "jupyter_dashboards": {
      "version": 1,
      "views": {
       "grid_default": {
        "col": 8,
        "height": 4,
        "hidden": false,
        "row": 111,
        "width": 4
       },
       "report_default": {
        "hidden": false
       }
      }
     }
    }
   },
   "source": [
    "**Click Run Cell Below.(Refresh)*** if no reactions "
   ]
  },
  {
   "cell_type": "code",
   "execution_count": 15,
   "metadata": {
    "extensions": {
     "jupyter_dashboards": {
      "version": 1,
      "views": {
       "grid_default": {
        "col": 8,
        "height": 4,
        "hidden": false,
        "row": 193,
        "width": 4
       },
       "report_default": {
        "hidden": false
       }
      }
     }
    }
   },
   "outputs": [
    {
     "data": {
      "application/vnd.jupyter.widget-view+json": {
       "model_id": "5b74f1caccd94e0ca0bffe30e8790f5b",
       "version_major": 2,
       "version_minor": 0
      },
      "text/plain": [
       "Button(description='Run Cell Below', style=ButtonStyle())"
      ]
     },
     "metadata": {},
     "output_type": "display_data"
    },
    {
     "data": {
      "application/javascript": [
       "IPython.notebook.execute_cell_range(IPython.notebook.get_selected_index()+1, IPython.notebook.get_selected_index()+2)"
      ],
      "text/plain": [
       "<IPython.core.display.Javascript object>"
      ]
     },
     "metadata": {},
     "output_type": "display_data"
    },
    {
     "data": {
      "application/javascript": [
       "IPython.notebook.execute_cell_range(IPython.notebook.get_selected_index()+1, IPython.notebook.get_selected_index()+2)"
      ],
      "text/plain": [
       "<IPython.core.display.Javascript object>"
      ]
     },
     "metadata": {},
     "output_type": "display_data"
    },
    {
     "data": {
      "application/javascript": [
       "IPython.notebook.execute_cell_range(IPython.notebook.get_selected_index()+1, IPython.notebook.get_selected_index()+2)"
      ],
      "text/plain": [
       "<IPython.core.display.Javascript object>"
      ]
     },
     "metadata": {},
     "output_type": "display_data"
    }
   ],
   "source": [
    "from IPython.display import Javascript, display\n",
    "from ipywidgets import widgets\n",
    "\n",
    "\n",
    "def run_all(ev):\n",
    "    display(Javascript('IPython.notebook.execute_cell_range(IPython.notebook.get_selected_index()+1, IPython.notebook.get_selected_index()+2)'))\n",
    "\n",
    "button = widgets.Button(description=\"Run Cell Below\")\n",
    "button.on_click(run_all)\n",
    "display(button)"
   ]
  },
  {
   "cell_type": "code",
   "execution_count": 18,
   "metadata": {
    "extensions": {
     "jupyter_dashboards": {
      "version": 1,
      "views": {
       "grid_default": {
        "col": 0,
        "height": 35,
        "hidden": false,
        "row": 185,
        "width": 8
       },
       "report_default": {
        "hidden": false
       }
      }
     }
    },
    "scrolled": false
   },
   "outputs": [
    {
     "data": {
      "text/html": [
       "\n",
       "<div class=\"bk-root\">\n",
       "    <div class=\"bk-plotdiv\" id=\"564bed39-e1f7-409e-8089-075b0c3ab337\"></div>\n",
       "</div>"
      ]
     },
     "metadata": {},
     "output_type": "display_data"
    },
    {
     "data": {
      "application/javascript": [
       "(function(root) {\n",
       "  function embed_document(root) {\n",
       "    \n",
       "  var docs_json = {\"6c88771b-4781-4734-a7e0-b46a7cf4ebfb\":{\"roots\":{\"references\":[{\"attributes\":{\"plot\":{\"id\":\"07649fc8-259d-4fa3-88b6-20da75dcd1ae\",\"subtype\":\"Figure\",\"type\":\"Plot\"},\"ticker\":{\"id\":\"a5305e65-fa78-432b-be42-176fb8c0a588\",\"type\":\"BasicTicker\"}},\"id\":\"4fb5e67e-d019-4b0a-adf2-2cb61564f746\",\"type\":\"Grid\"},{\"attributes\":{},\"id\":\"753106c3-ca9d-4478-9fa0-2e27644c91a8\",\"type\":\"Selection\"},{\"attributes\":{\"source\":{\"id\":\"a66b59ae-0e0a-441c-9a7e-aad2f385ffec\",\"type\":\"ColumnDataSource\"}},\"id\":\"e3af0ff1-30ac-45cd-a3c4-2e3b53b6c39a\",\"type\":\"CDSView\"},{\"attributes\":{},\"id\":\"57d81579-378b-4457-ad9a-e46a190da134\",\"type\":\"BasicTickFormatter\"},{\"attributes\":{\"data_source\":{\"id\":\"a66b59ae-0e0a-441c-9a7e-aad2f385ffec\",\"type\":\"ColumnDataSource\"},\"glyph\":{\"id\":\"6213ad00-53e6-49ac-b4c7-cdc7339e12c5\",\"type\":\"Cross\"},\"hover_glyph\":null,\"muted_glyph\":null,\"nonselection_glyph\":{\"id\":\"14d412dc-06e2-41c5-b2a4-4d908f2a06c5\",\"type\":\"Cross\"},\"selection_glyph\":null,\"view\":{\"id\":\"e3af0ff1-30ac-45cd-a3c4-2e3b53b6c39a\",\"type\":\"CDSView\"}},\"id\":\"3f16703e-6c5d-452c-8a6f-c14ede9998a3\",\"type\":\"GlyphRenderer\"},{\"attributes\":{},\"id\":\"1480a7c7-410a-47f6-9cd7-080d63b35b1e\",\"type\":\"LinearScale\"},{\"attributes\":{},\"id\":\"46408d15-b3f7-40bf-b26f-e6f9dd862e55\",\"type\":\"BasicTickFormatter\"},{\"attributes\":{\"fill_alpha\":{\"value\":0.2},\"fill_color\":{\"value\":\"blue\"},\"line_alpha\":{\"value\":0.2},\"line_color\":{\"value\":\"blue\"},\"size\":{\"field\":\"WS\",\"transform\":{\"id\":\"f37abfde-6a3b-4b1a-af86-6ce4626548dc\",\"type\":\"LinearInterpolator\"},\"units\":\"screen\"},\"x\":{\"field\":\"x\"},\"y\":{\"field\":\"y\"}},\"id\":\"6213ad00-53e6-49ac-b4c7-cdc7339e12c5\",\"type\":\"Cross\"},{\"attributes\":{\"source\":{\"id\":\"a66b59ae-0e0a-441c-9a7e-aad2f385ffec\",\"type\":\"ColumnDataSource\"}},\"id\":\"0b714dd8-98d4-48e9-be3f-7ac029cf10bc\",\"type\":\"CDSView\"},{\"attributes\":{},\"id\":\"6dbee9d5-6288-483f-8a6f-75e372a1fd36\",\"type\":\"CrosshairTool\"},{\"attributes\":{\"overlay\":{\"id\":\"0cdbcedd-346f-4f76-bfc6-ac5f62d24123\",\"type\":\"BoxAnnotation\"}},\"id\":\"d8f14a4b-044d-499e-b9f3-2108757697d3\",\"type\":\"BoxZoomTool\"},{\"attributes\":{},\"id\":\"b768f956-5639-4131-95e6-614e3f65d75e\",\"type\":\"ResetTool\"},{\"attributes\":{\"data\":null,\"x\":[-4.5,18.3],\"y\":[5,65]},\"id\":\"f37abfde-6a3b-4b1a-af86-6ce4626548dc\",\"type\":\"LinearInterpolator\"},{\"attributes\":{},\"id\":\"4b0c8254-eaae-493b-89ee-f77a5ff8b315\",\"type\":\"WheelZoomTool\"},{\"attributes\":{\"callback\":null,\"end\":1000,\"start\":-50},\"id\":\"3d3c3842-d8f6-4b5e-8dee-08730551137c\",\"type\":\"Range1d\"},{\"attributes\":{\"callback\":null,\"renderers\":\"auto\",\"tooltips\":[[\"3P Mades Each Season\",\"@y\"],[\"3Attempted Each Season\",\"@x\"],[\"3P Percentage\",\"@PercentageThree\"],[\"Player\",\"@Player\"],[\"Team or TOT\",\"@Tm\"],[\"Offensive WinShare\",\"@winshare\"]]},\"id\":\"e8e30d89-7934-412c-90db-4ae3a4723fdb\",\"type\":\"HoverTool\"},{\"attributes\":{\"dimension\":1,\"plot\":{\"id\":\"07649fc8-259d-4fa3-88b6-20da75dcd1ae\",\"subtype\":\"Figure\",\"type\":\"Plot\"},\"ticker\":{\"id\":\"f1451022-7225-4dd6-9fe6-2b5c7daba15d\",\"type\":\"BasicTicker\"}},\"id\":\"86ad1adb-7133-42dd-a52e-d7bf63656faf\",\"type\":\"Grid\"},{\"attributes\":{\"fill_alpha\":{\"value\":0.2},\"fill_color\":{\"value\":\"blue\"},\"line_alpha\":{\"value\":0.2},\"line_color\":{\"value\":\"blue\"},\"size\":{\"field\":\"WS\",\"transform\":{\"id\":\"f37abfde-6a3b-4b1a-af86-6ce4626548dc\",\"type\":\"LinearInterpolator\"},\"units\":\"screen\"},\"x\":{\"field\":\"x\"},\"y\":{\"field\":\"y\"}},\"id\":\"77656788-e464-4d09-b704-4582ad8e971d\",\"type\":\"Circle\"},{\"attributes\":{},\"id\":\"a5305e65-fa78-432b-be42-176fb8c0a588\",\"type\":\"BasicTicker\"},{\"attributes\":{\"active_drag\":\"auto\",\"active_inspect\":\"auto\",\"active_scroll\":\"auto\",\"active_tap\":\"auto\",\"tools\":[{\"id\":\"e8e30d89-7934-412c-90db-4ae3a4723fdb\",\"type\":\"HoverTool\"},{\"id\":\"15e8d1f4-112f-4adc-b2d2-b0263025dfc2\",\"type\":\"PanTool\"},{\"id\":\"4b0c8254-eaae-493b-89ee-f77a5ff8b315\",\"type\":\"WheelZoomTool\"},{\"id\":\"d8f14a4b-044d-499e-b9f3-2108757697d3\",\"type\":\"BoxZoomTool\"},{\"id\":\"b768f956-5639-4131-95e6-614e3f65d75e\",\"type\":\"ResetTool\"},{\"id\":\"6dbee9d5-6288-483f-8a6f-75e372a1fd36\",\"type\":\"CrosshairTool\"}]},\"id\":\"416d9ed6-76b5-4a2b-a49a-0b7d1d4e3988\",\"type\":\"Toolbar\"},{\"attributes\":{},\"id\":\"15e8d1f4-112f-4adc-b2d2-b0263025dfc2\",\"type\":\"PanTool\"},{\"attributes\":{\"axis_label\":\"Three Made\",\"formatter\":{\"id\":\"46408d15-b3f7-40bf-b26f-e6f9dd862e55\",\"type\":\"BasicTickFormatter\"},\"plot\":{\"id\":\"07649fc8-259d-4fa3-88b6-20da75dcd1ae\",\"subtype\":\"Figure\",\"type\":\"Plot\"},\"ticker\":{\"id\":\"f1451022-7225-4dd6-9fe6-2b5c7daba15d\",\"type\":\"BasicTicker\"}},\"id\":\"2bea97c3-c8be-465b-b974-efcfac61c3bd\",\"type\":\"LinearAxis\"},{\"attributes\":{\"below\":[{\"id\":\"ee469322-d391-4f94-af59-d9220f33bf17\",\"type\":\"LinearAxis\"}],\"left\":[{\"id\":\"2bea97c3-c8be-465b-b974-efcfac61c3bd\",\"type\":\"LinearAxis\"}],\"plot_height\":500,\"plot_width\":700,\"renderers\":[{\"id\":\"ee469322-d391-4f94-af59-d9220f33bf17\",\"type\":\"LinearAxis\"},{\"id\":\"4fb5e67e-d019-4b0a-adf2-2cb61564f746\",\"type\":\"Grid\"},{\"id\":\"2bea97c3-c8be-465b-b974-efcfac61c3bd\",\"type\":\"LinearAxis\"},{\"id\":\"86ad1adb-7133-42dd-a52e-d7bf63656faf\",\"type\":\"Grid\"},{\"id\":\"0cdbcedd-346f-4f76-bfc6-ac5f62d24123\",\"type\":\"BoxAnnotation\"},{\"id\":\"0d613c2d-ca16-4f71-ac3c-a994ef31ac7d\",\"type\":\"GlyphRenderer\"},{\"id\":\"3f16703e-6c5d-452c-8a6f-c14ede9998a3\",\"type\":\"GlyphRenderer\"}],\"title\":{\"id\":\"7f175e97-8016-4910-89f4-b35e800d0c9b\",\"type\":\"Title\"},\"toolbar\":{\"id\":\"416d9ed6-76b5-4a2b-a49a-0b7d1d4e3988\",\"type\":\"Toolbar\"},\"x_range\":{\"id\":\"3d3c3842-d8f6-4b5e-8dee-08730551137c\",\"type\":\"Range1d\"},\"x_scale\":{\"id\":\"1480a7c7-410a-47f6-9cd7-080d63b35b1e\",\"type\":\"LinearScale\"},\"y_range\":{\"id\":\"0bda0a47-30f3-4f30-8170-e7af2cc8b310\",\"type\":\"Range1d\"},\"y_scale\":{\"id\":\"6890a373-561d-4781-b255-ff2f1fd05195\",\"type\":\"LinearScale\"}},\"id\":\"07649fc8-259d-4fa3-88b6-20da75dcd1ae\",\"subtype\":\"Figure\",\"type\":\"Plot\"},{\"attributes\":{\"bottom_units\":\"screen\",\"fill_alpha\":{\"value\":0.5},\"fill_color\":{\"value\":\"lightgrey\"},\"left_units\":\"screen\",\"level\":\"overlay\",\"line_alpha\":{\"value\":1.0},\"line_color\":{\"value\":\"black\"},\"line_dash\":[4,4],\"line_width\":{\"value\":2},\"plot\":null,\"render_mode\":\"css\",\"right_units\":\"screen\",\"top_units\":\"screen\"},\"id\":\"0cdbcedd-346f-4f76-bfc6-ac5f62d24123\",\"type\":\"BoxAnnotation\"},{\"attributes\":{\"callback\":null,\"data\":{\"FG\":{\"__ndarray__\":\"AAAAAABAZkAAAAAAAABtQAAAAAAAwHBAAAAAAAAgeUAAAAAAACBrQAAAAAAA+IFAAAAAAACgbUAAAAAAACBxQAAAAAAAwGZAAAAAAACAd0AAAAAAABB3QAAAAAAAgIBAAAAAAADAeUAAAAAAAABlQAAAAAAAQHhAAAAAAACAakAAAAAAANB4QAAAAAAAAHBAAAAAAABAdkAAAAAAABB2QAAAAAAAwGxAAAAAAAAwdEAAAAAAADB8QAAAAAAAwHFAAAAAAAAAZ0AAAAAAAEB5QAAAAAAAMH9AAAAAAADQc0AAAAAAANB1QAAAAAAAoHNAAAAAAACAdEAAAAAAALB8QAAAAAAAAIVAAAAAAACgb0AAAAAAABB8QAAAAAAA8HlAAAAAAADgbkAAAAAAAOBrQAAAAAAAUH5AAAAAAADgfkAAAAAAAKBnQAAAAAAA4HNAAAAAAACgd0A=\",\"dtype\":\"float64\",\"shape\":[43]},\"FGA\":{\"__ndarray__\":\"AAAAAABwd0AAAAAAAHiAQAAAAAAAIIRAAAAAAAAQjkAAAAAAAFCAQAAAAAAAzJRAAAAAAACwgEAAAAAAAMCBQAAAAAAAYHxAAAAAAACoiEAAAAAAAPCJQAAAAAAA3JFAAAAAAAC4j0AAAAAAADB8QAAAAAAAcIpAAAAAAABwgUAAAAAAAMCNQAAAAAAAWINAAAAAAACgi0AAAAAAABCHQAAAAAAAQIBAAAAAAAD4hEAAAAAAAACTQAAAAAAA+IRAAAAAAAAAfUAAAAAAAGCMQAAAAAAAyI5AAAAAAAAQhkAAAAAAAGCGQAAAAAAA6INAAAAAAABwhUAAAAAAAECMQAAAAAAAdJVAAAAAAABYgUAAAAAAAFSRQAAAAAAASIpAAAAAAACAgEAAAAAAAGCAQAAAAAAAIJJAAAAAAAB0kEAAAAAAAKB6QAAAAAAAKIVAAAAAAAC4ikA=\",\"dtype\":\"float64\",\"shape\":[43]},\"MP\":{\"__ndarray__\":\"AAAAAADEmEAAAAAAACiYQAAAAAAAJqFAAAAAAAB0o0AAAAAAAN6gQAAAAAAAzqZAAAAAAAAMmkAAAAAAAGScQAAAAAAAPJxAAAAAAAB6oEAAAAAAABKkQAAAAAAAoKZAAAAAAAC2o0AAAAAAADCgQAAAAAAApqRAAAAAAABmoUAAAAAAAEaiQAAAAAAADJpAAAAAAABaoUAAAAAAAMihQAAAAAAAnJtAAAAAAACGoUAAAAAAAN6kQAAAAAAAgqZAAAAAAADMmUAAAAAAAIijQAAAAAAAyKRAAAAAAAAQnUAAAAAAAACbQAAAAAAAwJpAAAAAAAB8m0AAAAAAACanQAAAAAAAbqZAAAAAAAAQm0AAAAAAAIajQAAAAAAAWqNAAAAAAADwm0AAAAAAACSiQAAAAAAA+qVAAAAAAADkpUAAAAAAAJyaQAAAAAAA4J1AAAAAAABuokA=\",\"dtype\":\"float64\",\"shape\":[43]},\"PTS\":{\"__ndarray__\":\"AAAAAABwe0AAAAAAAKCCQAAAAAAA0IZAAAAAAABMlkAAAAAAAFCCQAAAAAAAEJlAAAAAAACgg0AAAAAAANiFQAAAAAAASIBAAAAAAACQjUAAAAAAAPiNQAAAAAAA3JVAAAAAAADkkUAAAAAAAOB+QAAAAAAAQI5AAAAAAAA4g0AAAAAAABiRQAAAAAAAAIZAAAAAAADgkEAAAAAAACCOQAAAAAAAWIJAAAAAAAAYjUAAAAAAANiTQAAAAAAAwIlAAAAAAABgg0AAAAAAAOiRQAAAAAAA1JRAAAAAAACQiUAAAAAAAPCLQAAAAAAASIpAAAAAAACgikAAAAAAAFiRQAAAAAAATJlAAAAAAAAQhUAAAAAAAPySQAAAAAAA+I9AAAAAAADYhEAAAAAAAFiDQAAAAAAAqJRAAAAAAAAslkAAAAAAANB+QAAAAAAAEIxAAAAAAAAQkUA=\",\"dtype\":\"float64\",\"shape\":[43]},\"PercentageThree\":{\"__ndarray__\":\"7FG4HoXr0T8NAiuHFtnWP0w3iUFg5dg/TmIQWDm02D9I4XoUrkfZP0W28/3UeNk/gZVDi2znyz9FtvP91HjZPycxCKwcWtQ/mpmZmZmZ2T/4U+Olm8TYPyyHFtnO99s/7Xw/NV660T+8dJMYBFbWP6RwPQrXo9g/EoPAyqFF1j+28/3UeOnWP7+fGi/dJNY/RIts5/up0T/vp8ZLN4nZP/YoXI/C9dg/ku18PzVe2j9WDi2yne/XPzMzMzMzM9s/nMQgsHJo0T+amZmZmZnJP90kBoGVQ9s//Knx0k1i2D83iUFg5dDSP5MYBFYOLdo//Knx0k1i2D/dJAaBlUPLP0oMAiuHFtE/9P3UeOkmsT/Jdr6fGi/NP1TjpZvEINg/16NwPQrX0z8830+Nl27SP30/NV66Scw/WDm0yHa+1z9SuB6F61HYP8P1KFyPwtU/2/l+arx02z8=\",\"dtype\":\"float64\",\"shape\":[43]},\"Player\":[\"Carlos Arroyo\",\"J.J. Barea\",\"Mike Bibby\",\"Chauncey Billups\",\"Steve Blake\",\"Aaron Brooks\",\"Will Bynum\",\"Jose Calderon\",\"Mario Chalmers\",\"Darren Collison\",\"Mike Conley\",\"Stephen Curry\",\"Baron Davis\",\"Chris Duhon\",\"Raymond Felton\",\"Derek Fisher\",\"Jonny Flynn\",\"Randy Foye\",\"Devin Harris\",\"George Hill\",\"Jrue Holiday\",\"Jarrett Jack\",\"Brandon Jennings\",\"Jason Kidd\",\"Kyle Lowry\",\"Andre Miller\",\"Steve Nash\",\"Jameer Nelson\",\"Tony Parker\",\"Chris Paul\",\"Luke Ridnour\",\"Rajon Rondo\",\"Derrick Rose\",\"Ramon Sessions\",\"Rodney Stuckey\",\"Beno Udrih\",\"C.J. Watson\",\"Earl Watson\",\"Russell Westbrook\",\"Deron Williams\",\"Jason Williams\",\"Lou Williams\",\"Mo Williams\"],\"Tm\":[\"MIA\",\"DAL\",\"ATL\",\"DEN\",\"TOT\",\"HOU\",\"DET\",\"TOR\",\"MIA\",\"NOH\",\"MEM\",\"GSW\",\"LAC\",\"NYK\",\"CHA\",\"LAL\",\"MIN\",\"WAS\",\"NJN\",\"SAS\",\"PHI\",\"TOR\",\"MIL\",\"DAL\",\"HOU\",\"POR\",\"PHO\",\"ORL\",\"SAS\",\"NOH\",\"MIL\",\"BOS\",\"CHI\",\"MIN\",\"DET\",\"SAC\",\"GSW\",\"IND\",\"OKC\",\"UTA\",\"ORL\",\"PHI\",\"CLE\"],\"WS\":{\"__ndarray__\":\"mpmZmZmZDUCamZmZmZkBQDMzMzMzMxNAAAAAAAAAI0BmZmZmZmYKQAAAAAAAABZAZmZmZmZm/j/NzMzMzMwQQJqZmZmZmQVAMzMzMzMzB0AAAAAAAAAQQM3MzMzMzBJAAAAAAAAAEkBmZmZmZmb+PwAAAAAAABpAMzMzMzMzD0CamZmZmZm5P5qZmZmZmQFAmpmZmZmZBUDNzMzMzMwaQDMzMzMzM/M/MzMzMzMzE0DNzMzMzMwQQM3MzMzMzCFAMzMzMzMzEUAAAAAAAAAcQM3MzMzMzCNAAAAAAAAAFEDNzMzMzMwMQDMzMzMzMx1AzczMzMzMGEAzMzMzMzMjQAAAAAAAABhAmpmZmZmZ8T+amZmZmZkFQAAAAAAAABZAzczMzMzMCEDNzMzMzMwEQGZmZmZmZhhAmpmZmZmZJEAAAAAAAAASQM3MzMzMzBRAzczMzMzMGkA=\",\"dtype\":\"float64\",\"shape\":[43]},\"winshare\":{\"__ndarray__\":\"mpmZmZmZAUAAAAAAAADwPwAAAAAAAAhAzczMzMzMHkBmZmZmZmb+PzMzMzMzMw9AzczMzMzM9D/NzMzMzMwQQDMzMzMzM9M/ZmZmZmZm/j/NzMzMzMwEQAAAAAAAAAhAAAAAAAAABEAAAAAAAAD4PwAAAAAAAARAMzMzMzMz8z8zMzMzMzPjv5qZmZmZmfk/AAAAAAAA+D9mZmZmZmYQQJqZmZmZmck/AAAAAAAAEkAzMzMzMzPTPzMzMzMzMxNAMzMzMzMzB0BmZmZmZmYSQDMzMzMzMyJAZmZmZmZmBkAAAAAAAAAAQM3MzMzMzBZAAAAAAAAAEECamZmZmZkTQAAAAAAAAAxAAAAAAAAA4D9mZmZmZmb2P83MzMzMzBBAmpmZmZmZAUAzMzMzMzPTP5qZmZmZmQVAmpmZmZmZHUAAAAAAAAAEQGZmZmZmZhBAAAAAAAAAEEA=\",\"dtype\":\"float64\",\"shape\":[43]},\"x\":{\"__ndarray__\":\"AAAAAAAAOUAAAAAAAKBjQAAAAAAAQHRAAAAAAABweUAAAAAAAGByQAAAAAAAaIBAAAAAAACAS0AAAAAAAGBlQAAAAAAAgG1AAAAAAADAXEAAAAAAAIBqQAAAAAAAwHdAAAAAAACAckAAAAAAACBwQAAAAAAAgGNAAAAAAAAAbEAAAAAAAOBqQAAAAAAAwGZAAAAAAAAga0AAAAAAAIBnQAAAAAAA4GNAAAAAAADgaEAAAAAAAEB4QAAAAAAA4HlAAAAAAAAAYUAAAAAAAABUQAAAAAAAMHJAAAAAAABAbEAAAAAAAABBQAAAAAAAwF9AAAAAAACgZkAAAAAAAABUQAAAAAAAAE5AAAAAAAAALkAAAAAAAMBTQAAAAAAA4GhAAAAAAAAgYkAAAAAAAABnQAAAAAAAAFpAAAAAAAAwcEAAAAAAAKBrQAAAAAAAwGlAAAAAAAAwd0A=\",\"dtype\":\"float64\",\"shape\":[43]},\"y\":{\"__ndarray__\":\"AAAAAAAAHEAAAAAAAABMQAAAAAAAgF9AAAAAAACgY0AAAAAAAABdQAAAAAAAIGpAAAAAAAAAKEAAAAAAAABRQAAAAAAAwFJAAAAAAAAAR0AAAAAAAIBUQAAAAAAAwGRAAAAAAACAVEAAAAAAAIBWQAAAAAAAAE5AAAAAAACAU0AAAAAAAEBTQAAAAAAAgE9AAAAAAAAATkAAAAAAAMBSQAAAAAAAAE9AAAAAAACAVEAAAAAAACBiQAAAAAAAAGZAAAAAAACAQkAAAAAAAAAwQAAAAAAAAF9AAAAAAACAVUAAAAAAAAAkQAAAAAAAAEpAAAAAAABAUUAAAAAAAAAxQAAAAAAAADBAAAAAAAAA8D8AAAAAAAAyQAAAAAAAwFJAAAAAAACARkAAAAAAAIBKQAAAAAAAADdAAAAAAAAAWEAAAAAAAABVQAAAAAAAgFFAAAAAAADgY0A=\",\"dtype\":\"float64\",\"shape\":[43]}},\"selected\":{\"id\":\"753106c3-ca9d-4478-9fa0-2e27644c91a8\",\"type\":\"Selection\"},\"selection_policy\":{\"id\":\"a8ce2ce1-ab2f-4a80-9d5e-0a1155fefc1b\",\"type\":\"UnionRenderers\"}},\"id\":\"a66b59ae-0e0a-441c-9a7e-aad2f385ffec\",\"type\":\"ColumnDataSource\"},{\"attributes\":{\"axis_label\":\"Three Attempted\",\"formatter\":{\"id\":\"57d81579-378b-4457-ad9a-e46a190da134\",\"type\":\"BasicTickFormatter\"},\"plot\":{\"id\":\"07649fc8-259d-4fa3-88b6-20da75dcd1ae\",\"subtype\":\"Figure\",\"type\":\"Plot\"},\"ticker\":{\"id\":\"a5305e65-fa78-432b-be42-176fb8c0a588\",\"type\":\"BasicTicker\"}},\"id\":\"ee469322-d391-4f94-af59-d9220f33bf17\",\"type\":\"LinearAxis\"},{\"attributes\":{\"plot\":null,\"text\":\"3 Point total attempts vs made by each Position----- Current Year:\"},\"id\":\"7f175e97-8016-4910-89f4-b35e800d0c9b\",\"type\":\"Title\"},{\"attributes\":{},\"id\":\"f1451022-7225-4dd6-9fe6-2b5c7daba15d\",\"type\":\"BasicTicker\"},{\"attributes\":{\"data_source\":{\"id\":\"a66b59ae-0e0a-441c-9a7e-aad2f385ffec\",\"type\":\"ColumnDataSource\"},\"glyph\":{\"id\":\"77656788-e464-4d09-b704-4582ad8e971d\",\"type\":\"Circle\"},\"hover_glyph\":null,\"muted_glyph\":null,\"nonselection_glyph\":{\"id\":\"bd9beefb-b5a7-4933-a206-1c0178c94116\",\"type\":\"Circle\"},\"selection_glyph\":null,\"view\":{\"id\":\"0b714dd8-98d4-48e9-be3f-7ac029cf10bc\",\"type\":\"CDSView\"}},\"id\":\"0d613c2d-ca16-4f71-ac3c-a994ef31ac7d\",\"type\":\"GlyphRenderer\"},{\"attributes\":{\"callback\":null,\"end\":450,\"start\":-50},\"id\":\"0bda0a47-30f3-4f30-8170-e7af2cc8b310\",\"type\":\"Range1d\"},{\"attributes\":{\"fill_alpha\":{\"value\":0.1},\"fill_color\":{\"value\":\"#1f77b4\"},\"line_alpha\":{\"value\":0.1},\"line_color\":{\"value\":\"#1f77b4\"},\"size\":{\"field\":\"WS\",\"transform\":{\"id\":\"f37abfde-6a3b-4b1a-af86-6ce4626548dc\",\"type\":\"LinearInterpolator\"},\"units\":\"screen\"},\"x\":{\"field\":\"x\"},\"y\":{\"field\":\"y\"}},\"id\":\"bd9beefb-b5a7-4933-a206-1c0178c94116\",\"type\":\"Circle\"},{\"attributes\":{\"fill_alpha\":{\"value\":0.1},\"fill_color\":{\"value\":\"#1f77b4\"},\"line_alpha\":{\"value\":0.1},\"line_color\":{\"value\":\"#1f77b4\"},\"size\":{\"field\":\"WS\",\"transform\":{\"id\":\"f37abfde-6a3b-4b1a-af86-6ce4626548dc\",\"type\":\"LinearInterpolator\"},\"units\":\"screen\"},\"x\":{\"field\":\"x\"},\"y\":{\"field\":\"y\"}},\"id\":\"14d412dc-06e2-41c5-b2a4-4d908f2a06c5\",\"type\":\"Cross\"},{\"attributes\":{},\"id\":\"a8ce2ce1-ab2f-4a80-9d5e-0a1155fefc1b\",\"type\":\"UnionRenderers\"},{\"attributes\":{},\"id\":\"6890a373-561d-4781-b255-ff2f1fd05195\",\"type\":\"LinearScale\"}],\"root_ids\":[\"07649fc8-259d-4fa3-88b6-20da75dcd1ae\"]},\"title\":\"Bokeh Application\",\"version\":\"0.12.16\"}};\n",
       "  var render_items = [{\"docid\":\"6c88771b-4781-4734-a7e0-b46a7cf4ebfb\",\"elementid\":\"564bed39-e1f7-409e-8089-075b0c3ab337\",\"modelid\":\"07649fc8-259d-4fa3-88b6-20da75dcd1ae\",\"notebook_comms_target\":\"889ca4f7-15e0-4d35-9c00-6e7ded07ab06\"}];\n",
       "  root.Bokeh.embed.embed_items_notebook(docs_json, render_items);\n",
       "\n",
       "  }\n",
       "  if (root.Bokeh !== undefined) {\n",
       "    embed_document(root);\n",
       "  } else {\n",
       "    var attempts = 0;\n",
       "    var timer = setInterval(function(root) {\n",
       "      if (root.Bokeh !== undefined) {\n",
       "        embed_document(root);\n",
       "        clearInterval(timer);\n",
       "      }\n",
       "      attempts++;\n",
       "      if (attempts > 100) {\n",
       "        console.log(\"Bokeh: ERROR: Unable to run BokehJS code because BokehJS library is missing\")\n",
       "        clearInterval(timer);\n",
       "      }\n",
       "    }, 10, root)\n",
       "  }\n",
       "})(window);"
      ],
      "application/vnd.bokehjs_exec.v0+json": ""
     },
     "metadata": {
      "application/vnd.bokehjs_exec.v0+json": {
       "id": "07649fc8-259d-4fa3-88b6-20da75dcd1ae"
      }
     },
     "output_type": "display_data"
    },
    {
     "data": {
      "application/vnd.jupyter.widget-view+json": {
       "model_id": "de8ab9bf77804865ba4d809e7bfad4c1",
       "version_major": 2,
       "version_minor": 0
      },
      "text/plain": [
       "interactive(children=(Dropdown(description='Pos', options=('C', 'PF', 'SF', 'SG', 'PG'), value='C'), Play(valu…"
      ]
     },
     "metadata": {},
     "output_type": "display_data"
    },
    {
     "data": {
      "application/vnd.jupyter.widget-view+json": {
       "model_id": "e31c348b51224f128d9ac725fb5ced41",
       "version_major": 2,
       "version_minor": 0
      },
      "text/plain": [
       "interactive(children=(Dropdown(description='Pos', options=('C', 'PF', 'SF', 'SG', 'PG'), value='C'), IntSlider…"
      ]
     },
     "metadata": {},
     "output_type": "display_data"
    },
    {
     "data": {
      "text/plain": [
       "<function __main__.update(Pos, Year)>"
      ]
     },
     "execution_count": 18,
     "metadata": {},
     "output_type": "execute_result"
    }
   ],
   "source": [
    "\n",
    "from bokeh.models import ColumnDataSource\n",
    "from bokeh.models import HoverTool\n",
    "from bokeh.models import LinearInterpolator\n",
    "from bokeh.models import CategoricalColorMapper\n",
    "from bokeh.models import Circle\n",
    "from bokeh.palettes import Set1_9\n",
    "from bokeh.plotting import figure\n",
    "from ipywidgets import interact, interactive, fixed, interact_manual,widgets\n",
    "from bokeh.io import push_notebook,show\n",
    "\n",
    "data7 = pd.read_csv('nba-players-stats/SeasonStats1500MP3.1.csv',index_col=(\"Pos\",\"Year\"))\n",
    "# data8 = pd.read_csv('nba-players-stats/SeasonStats1500MP3.1.csv')\n",
    "source = ColumnDataSource(dict(\n",
    "    y = data7.loc['PG',2010,:].ThreeMade,  \n",
    "    x = data7.loc['PG',2010,:].ThreeAttempt,\n",
    "    PercentageThree = data7.loc['PG',2010,:].Threepercent,\n",
    "    MP = data7.loc['PG',2010,:].MP,\n",
    "    FG= data7.loc['PG',2010,:].FG,\n",
    "    FGA = data7.loc['PG',2010,:].FGA,\n",
    "    PTS= data7.loc['PG',2010,:].PTS,\n",
    "    Player = data7.loc['PG',2010,:].Player,\n",
    "    WS = data7.loc['PG',2010,:].WS,\n",
    "    Tm = data7.loc['PG',2010,:].Tm, \n",
    "    winshare = data7.loc['PG',2010,:].OWS\n",
    "                  ))\n",
    "\n",
    "relative_size = LinearInterpolator(\n",
    "    x = [data7.OWS.min(),data7.OWS.max()],\n",
    "    y = [5,65]\n",
    ")\n",
    "\n",
    "Hover_tool = HoverTool(tooltips = [\n",
    "    ('3P Mades Each Season', \"@y\"),\n",
    "     ('3Attempted Each Season', \"@x\"),\n",
    "    ('3P Percentage','@PercentageThree'),\n",
    "    ('Player','@Player'),\n",
    "    ('Team or TOT','@Tm'),\n",
    "    ('Offensive WinShare','@winshare')\n",
    "    \n",
    "])\n",
    "color_mapper = CategoricalColorMapper(\n",
    " factors=['C','PF','SF','SG','PG'],\n",
    " palette=['blue', 'red', 'green','purple','yellow'])\n",
    "\n",
    "# p3 = figure( tools = [Hover_tool,'pan', 'wheel_zoom','box_zoom','reset'],\n",
    "#             height = 1000,\n",
    "#            width = 1000,\n",
    "#            x_range = (-50,850),\n",
    "#            y_range=(-50,1000),\n",
    "#             title = \"3P Per Position\",\n",
    "#           y_axis_label = \"3P made per Totals/Season\",\n",
    "#            x_axis_label = \"3P attempts per Total/Season\",\n",
    "#           toolbar_location=\"right\")\n",
    "\n",
    "p3 = figure(height=500,\n",
    "           width = 700,\n",
    "           x_range = (-50,1000),\n",
    "           y_range=(-50,450),\n",
    "           tools = [Hover_tool,'pan', 'wheel_zoom','box_zoom','reset','crosshair'],\n",
    "         title = \"3 Point total attempts vs made by each Position----- Current Year:\",\n",
    "          x_axis_label = \"Three Attempted\",\n",
    "          y_axis_label = \"Three Made\")\n",
    "g = p3.circle(x = 'x',\n",
    "         y = 'y',\n",
    "        #size = 10 , \n",
    "         size = {'field':'WS','transform':relative_size},\n",
    "          #color = {'field': 'Times','transform': mapping_coloring},\n",
    "         alpha = 0.2,\n",
    "            color = 'blue',\n",
    "        #legend = 'Times',\n",
    "         source = source)\n",
    "p3.cross(x = 'x',\n",
    "         y = 'y',\n",
    "        #size = 10 , \n",
    "         size = {'field':'WS','transform':relative_size},\n",
    "          #color = {'field': 'Times','transform': mapping_coloring},\n",
    "         alpha = 0.2,\n",
    "            color = 'blue',\n",
    "        #legend = 'Times',\n",
    "         source = source)\n",
    "    \n",
    "\n",
    "def update(Pos,Year):\n",
    "    interactivedata = dict(\n",
    "    y = data7.loc[Pos,Year,:].ThreeMade,  \n",
    "    x = data7.loc[Pos,Year,:].ThreeAttempt,\n",
    "    G = data7.loc[Pos,Year,:].G,\n",
    "    PercentageThree = data7.loc[Pos,Year,:].Threepercent,\n",
    "    MP = data7.loc[Pos,Year,:].MP,\n",
    "    FG= data7.loc[Pos,Year,:].FG,\n",
    "    FGA = data7.loc[Pos,Year,:].FGA,\n",
    "    PTS= data7.loc[Pos,Year,:].PTS,\n",
    "    Player = data7.loc[Pos,Year,:].Player,\n",
    "    WS = data7.loc[Pos,Year,:].WS,\n",
    "    Tm = data7.loc[Pos,Year,:].Tm,\n",
    "    winshare = data7.loc[Pos,Year,:].OWS,\n",
    "#     Use = data7.loc[Pos,Year,:].get['%USG']\n",
    "   # Year = data7.loc['PG',2017].Year\n",
    "    )\n",
    "    \n",
    "    source.data = interactivedata\n",
    "    p3.title.text=\"3 Point attempts vs makes by each Position-- Current Year:\"+ \"(Season:\"+  str(int(Year-1)) + \"-\" + str(int(Year))+\")\"\n",
    "    push_notebook()\n",
    "    \n",
    "    \n",
    "\n",
    "show(p3,notebook_handle=True)\n",
    "\n",
    "interact(update,Pos=['C','PF','SF','SG','PG'],Year = widgets.Play( \n",
    "    value=0,\n",
    "    min=1980,\n",
    "    max=2017,\n",
    "    step=1,      \n",
    "    disabled=False\n",
    "    \n",
    "))\n",
    "\n",
    "interact(update,Pos=['C','PF','SF','SG','PG'],Year = widgets.IntSlider( \n",
    "    value=0,\n",
    "    min=1980,\n",
    "    max=2017,\n",
    "    step=1,      \n",
    "    disabled=False\n",
    "))"
   ]
  },
  {
   "cell_type": "code",
   "execution_count": null,
   "metadata": {
    "scrolled": true
   },
   "outputs": [],
   "source": [
    "data4.ThreeMade.max()\n",
    "\n",
    "b=data4[ (data4['Pos']=='SG')]\n",
    "print(b.ThreeMade.max())"
   ]
  },
  {
   "cell_type": "code",
   "execution_count": 19,
   "metadata": {},
   "outputs": [
    {
     "ename": "NameError",
     "evalue": "name 'data4' is not defined",
     "output_type": "error",
     "traceback": [
      "\u001b[0;31m---------------------------------------------------------------------------\u001b[0m",
      "\u001b[0;31mNameError\u001b[0m                                 Traceback (most recent call last)",
      "\u001b[0;32m<ipython-input-19-1f092b40c72f>\u001b[0m in \u001b[0;36m<module>\u001b[0;34m()\u001b[0m\n\u001b[0;32m----> 1\u001b[0;31m d=data4[ (data4['ThreeMade']<=99)&(data4['ThreeMade']>=50)&(data4['Year']>=1980)&(data4['Year']<=2000)\n\u001b[0m\u001b[1;32m      2\u001b[0m         &(data4['Pos']=='C')]\n\u001b[1;32m      3\u001b[0m g=data4[ (data4['ThreeMade']<=402)&(data4['ThreeMade']>=100)&(data4['Year']>=1980)&(data4['Year']<=2000)\n\u001b[1;32m      4\u001b[0m         &(data4['Pos']=='C')]\n\u001b[1;32m      5\u001b[0m z=data4[ (data4['ThreeMade']<=99)&(data4['ThreeMade']>=50)&(data4['Year']>=2001)&(data4['Year']<=2016)\n",
      "\u001b[0;31mNameError\u001b[0m: name 'data4' is not defined"
     ]
    }
   ],
   "source": [
    "d=data4[ (data4['ThreeMade']<=99)&(data4['ThreeMade']>=50)&(data4['Year']>=1980)&(data4['Year']<=2000)\n",
    "        &(data4['Pos']=='C')]\n",
    "g=data4[ (data4['ThreeMade']<=402)&(data4['ThreeMade']>=100)&(data4['Year']>=1980)&(data4['Year']<=2000)\n",
    "        &(data4['Pos']=='C')]\n",
    "z=data4[ (data4['ThreeMade']<=99)&(data4['ThreeMade']>=50)&(data4['Year']>=2001)&(data4['Year']<=2016)\n",
    "        &(data4['Pos']=='C')]\n",
    "j=data4[ (data4['ThreeMade']<=402)&(data4['ThreeMade']>=100)&(data4['Year']>=2001)&(data4['Year']<=2016)\n",
    "        &(data4['Pos']=='C')]\n",
    "\n",
    "\n",
    "print(\"Center:\")\n",
    "print(len(d.Player.unique()))\n",
    "print(str(\"1980-2000 50\"))\n",
    "print(len(g.Player.unique()))\n",
    "print(str(\"1980-2000 100\"))\n",
    "print(len(z.Player.unique()))\n",
    "print(str(\"2001-2016 50\"))\n",
    "print(len(j.Player.unique()))\n",
    "print(str(\"2001-2016 100\"))"
   ]
  },
  {
   "cell_type": "code",
   "execution_count": 20,
   "metadata": {
    "scrolled": true
   },
   "outputs": [
    {
     "ename": "NameError",
     "evalue": "name 'data4' is not defined",
     "output_type": "error",
     "traceback": [
      "\u001b[0;31m---------------------------------------------------------------------------\u001b[0m",
      "\u001b[0;31mNameError\u001b[0m                                 Traceback (most recent call last)",
      "\u001b[0;32m<ipython-input-20-bde65d5d99de>\u001b[0m in \u001b[0;36m<module>\u001b[0;34m()\u001b[0m\n\u001b[0;32m----> 1\u001b[0;31m zz=data4[ (data4['ThreeMade']<=402)&(data4['ThreeMade']>=50)&(data4['Year']>=2001)&(data4['Year']<=2016)\n\u001b[0m\u001b[1;32m      2\u001b[0m         &(data4['Pos']=='C')]\n\u001b[1;32m      3\u001b[0m \u001b[0;34m\u001b[0m\u001b[0m\n\u001b[1;32m      4\u001b[0m \u001b[0mzz\u001b[0m\u001b[0;34m\u001b[0m\u001b[0m\n",
      "\u001b[0;31mNameError\u001b[0m: name 'data4' is not defined"
     ]
    }
   ],
   "source": [
    "zz=data4[ (data4['ThreeMade']<=402)&(data4['ThreeMade']>=50)&(data4['Year']>=2001)&(data4['Year']<=2016)\n",
    "        &(data4['Pos']=='C')]\n",
    "\n",
    "zz"
   ]
  },
  {
   "cell_type": "code",
   "execution_count": 21,
   "metadata": {},
   "outputs": [
    {
     "ename": "NameError",
     "evalue": "name 'zz' is not defined",
     "output_type": "error",
     "traceback": [
      "\u001b[0;31m---------------------------------------------------------------------------\u001b[0m",
      "\u001b[0;31mNameError\u001b[0m                                 Traceback (most recent call last)",
      "\u001b[0;32m<ipython-input-21-420ede43005a>\u001b[0m in \u001b[0;36m<module>\u001b[0;34m()\u001b[0m\n\u001b[0;32m----> 1\u001b[0;31m \u001b[0mlen\u001b[0m\u001b[0;34m(\u001b[0m\u001b[0mzz\u001b[0m\u001b[0;34m.\u001b[0m\u001b[0mPlayer\u001b[0m\u001b[0;34m.\u001b[0m\u001b[0munique\u001b[0m\u001b[0;34m(\u001b[0m\u001b[0;34m)\u001b[0m\u001b[0;34m)\u001b[0m\u001b[0;34m\u001b[0m\u001b[0m\n\u001b[0m",
      "\u001b[0;31mNameError\u001b[0m: name 'zz' is not defined"
     ]
    }
   ],
   "source": [
    "len(zz.Player.unique())"
   ]
  },
  {
   "cell_type": "code",
   "execution_count": 26,
   "metadata": {},
   "outputs": [
    {
     "ename": "NameError",
     "evalue": "name 'data4' is not defined",
     "output_type": "error",
     "traceback": [
      "\u001b[0;31m---------------------------------------------------------------------------\u001b[0m",
      "\u001b[0;31mNameError\u001b[0m                                 Traceback (most recent call last)",
      "\u001b[0;32m<ipython-input-26-defe2800d70c>\u001b[0m in \u001b[0;36m<module>\u001b[0;34m()\u001b[0m\n\u001b[0;32m----> 1\u001b[0;31m c=data4[ (data4['ThreeMade']<=1000)&(data4['ThreeMade']>=30)&(data4['Year']==2017)\n\u001b[0m\u001b[1;32m      2\u001b[0m         &(data4['Pos']=='PF')]\n\u001b[1;32m      3\u001b[0m \u001b[0mc\u001b[0m\u001b[0;34m.\u001b[0m\u001b[0mPlayer\u001b[0m\u001b[0;34m.\u001b[0m\u001b[0munique\u001b[0m\u001b[0;34m(\u001b[0m\u001b[0;34m)\u001b[0m\u001b[0;34m\u001b[0m\u001b[0m\n\u001b[1;32m      4\u001b[0m \u001b[0;34m\u001b[0m\u001b[0m\n\u001b[1;32m      5\u001b[0m \u001b[0mlen\u001b[0m\u001b[0;34m(\u001b[0m\u001b[0mc\u001b[0m\u001b[0;34m.\u001b[0m\u001b[0mPlayer\u001b[0m\u001b[0;34m.\u001b[0m\u001b[0munique\u001b[0m\u001b[0;34m(\u001b[0m\u001b[0;34m)\u001b[0m\u001b[0;34m)\u001b[0m\u001b[0;34m\u001b[0m\u001b[0m\n",
      "\u001b[0;31mNameError\u001b[0m: name 'data4' is not defined"
     ]
    }
   ],
   "source": [
    "c=data4[ (data4['ThreeMade']<=1000)&(data4['ThreeMade']>=30)&(data4['Year']==2017)\n",
    "        &(data4['Pos']=='PF')]\n",
    "c.Player.unique()\n",
    "\n",
    "len(c.Player.unique())"
   ]
  },
  {
   "cell_type": "markdown",
   "metadata": {
    "extensions": {
     "jupyter_dashboards": {
      "version": 1,
      "views": {
       "grid_default": {
        "col": 7,
        "height": 4,
        "hidden": false,
        "row": 241,
        "width": 4
       },
       "report_default": {
        "hidden": false
       }
      }
     }
    }
   },
   "source": [
    "# Three Point and Two Pointers \n"
   ]
  },
  {
   "cell_type": "code",
   "execution_count": 27,
   "metadata": {
    "extensions": {
     "jupyter_dashboards": {
      "version": 1,
      "views": {
       "grid_default": {
        "hidden": true
       },
       "report_default": {
        "hidden": true
       }
      }
     }
    }
   },
   "outputs": [
    {
     "data": {
      "application/vnd.jupyter.widget-view+json": {
       "model_id": "8cda2103644743e0944a276e03f08c40",
       "version_major": 2,
       "version_minor": 0
      },
      "text/plain": [
       "Button(description='Run Cell Below', style=ButtonStyle())"
      ]
     },
     "metadata": {},
     "output_type": "display_data"
    }
   ],
   "source": [
    "from IPython.display import Javascript, display\n",
    "from ipywidgets import widgets\n",
    "\n",
    "\n",
    "def run_all(ev):\n",
    "    display(Javascript('IPython.notebook.execute_cell_range(IPython.notebook.get_selected_index()+1, IPython.notebook.get_selected_index()+2)'))\n",
    "\n",
    "button = widgets.Button(description=\"Run Cell Below\")\n",
    "button.on_click(run_all)\n",
    "display(button)"
   ]
  },
  {
   "cell_type": "code",
   "execution_count": 28,
   "metadata": {},
   "outputs": [
    {
     "data": {
      "text/html": [
       "\n",
       "<div class=\"bk-root\">\n",
       "    <div class=\"bk-plotdiv\" id=\"9e9340c4-3dff-4758-8208-0eac301e158a\"></div>\n",
       "</div>"
      ]
     },
     "metadata": {},
     "output_type": "display_data"
    },
    {
     "data": {
      "application/javascript": [
       "(function(root) {\n",
       "  function embed_document(root) {\n",
       "    \n",
       "  var docs_json = {\"335978c1-2d9e-48c1-85d6-c21e4445709a\":{\"roots\":{\"references\":[{\"attributes\":{\"below\":[{\"id\":\"d8f93593-6e92-4356-9cde-f703988db425\",\"type\":\"LinearAxis\"}],\"left\":[{\"id\":\"7ee191ea-e987-412a-b433-b9506f006580\",\"type\":\"LinearAxis\"}],\"plot_height\":500,\"plot_width\":700,\"renderers\":[{\"id\":\"d8f93593-6e92-4356-9cde-f703988db425\",\"type\":\"LinearAxis\"},{\"id\":\"fe3729bf-5d45-4e19-9b4f-6a41422e8a71\",\"type\":\"Grid\"},{\"id\":\"7ee191ea-e987-412a-b433-b9506f006580\",\"type\":\"LinearAxis\"},{\"id\":\"155eaff9-ad02-4ba8-8da0-f435a0b44173\",\"type\":\"Grid\"},{\"id\":\"49069b6c-84a2-40be-a76a-49b2eb64c8be\",\"type\":\"BoxAnnotation\"},{\"id\":\"3f3a8da0-d553-4d2c-8e64-3d742689f771\",\"type\":\"Legend\"},{\"id\":\"566b13a3-da8c-4410-ae60-b08e05f791f3\",\"type\":\"GlyphRenderer\"},{\"id\":\"8d5082da-a5f5-49be-8757-536599cad331\",\"type\":\"GlyphRenderer\"}],\"right\":[{\"id\":\"3f3a8da0-d553-4d2c-8e64-3d742689f771\",\"type\":\"Legend\"}],\"title\":{\"id\":\"e3cf77db-fcbe-4895-bc63-16eb8c459cc9\",\"type\":\"Title\"},\"toolbar\":{\"id\":\"c11cea79-6cf3-4d42-9280-d5f5b95c2e3d\",\"type\":\"Toolbar\"},\"x_range\":{\"id\":\"ab8cd0e7-a1b5-4c0c-adcc-cbb0c1847c5c\",\"type\":\"Range1d\"},\"x_scale\":{\"id\":\"7d753df3-57d3-4c02-bfd2-bf25d307d46a\",\"type\":\"LinearScale\"},\"y_range\":{\"id\":\"3c59286c-93d7-4d04-92f7-b742668e3f5b\",\"type\":\"Range1d\"},\"y_scale\":{\"id\":\"220c61f4-8410-4061-8277-8eb7a0caff95\",\"type\":\"LinearScale\"}},\"id\":\"27e3e904-20ff-4034-a9d4-12cc759a197d\",\"subtype\":\"Figure\",\"type\":\"Plot\"},{\"attributes\":{\"label\":{\"value\":\"Three Points\"},\"renderers\":[{\"id\":\"566b13a3-da8c-4410-ae60-b08e05f791f3\",\"type\":\"GlyphRenderer\"}]},\"id\":\"11a92b70-4f7e-4b8d-99d7-73d6c34984a7\",\"type\":\"LegendItem\"},{\"attributes\":{\"items\":[{\"id\":\"11a92b70-4f7e-4b8d-99d7-73d6c34984a7\",\"type\":\"LegendItem\"},{\"id\":\"a68d306c-1157-4f63-8e07-5038e8b8fad4\",\"type\":\"LegendItem\"}],\"plot\":{\"id\":\"27e3e904-20ff-4034-a9d4-12cc759a197d\",\"subtype\":\"Figure\",\"type\":\"Plot\"}},\"id\":\"3f3a8da0-d553-4d2c-8e64-3d742689f771\",\"type\":\"Legend\"},{\"attributes\":{\"fill_color\":{\"value\":\"blue\"},\"line_color\":{\"value\":null}},\"id\":\"dbbe40f9-630e-42cf-b89a-9be612b3cd4f\",\"type\":\"Circle\"},{\"attributes\":{\"fill_alpha\":{\"value\":0.2},\"fill_color\":{\"value\":\"red\"},\"line_alpha\":{\"value\":0.2},\"line_color\":{\"value\":\"red\"},\"size\":{\"field\":\"WS\",\"transform\":{\"id\":\"5ce53f62-9bac-4d3c-9890-ba230efaaea8\",\"type\":\"LinearInterpolator\"},\"units\":\"screen\"},\"x\":{\"field\":\"twopointa\"},\"y\":{\"field\":\"twopoint\"}},\"id\":\"f062f393-f1d2-48ea-b275-bc8232f9df5d\",\"type\":\"Circle\"},{\"attributes\":{\"data_source\":{\"id\":\"bde2a3fd-ef6c-4b23-956f-c78c5552a71e\",\"type\":\"ColumnDataSource\"},\"glyph\":{\"id\":\"1e0b0fab-ffe9-41ff-a244-3826d78bf1ec\",\"type\":\"Circle\"},\"hover_glyph\":null,\"muted_glyph\":null,\"nonselection_glyph\":{\"id\":\"ca1ca1f4-8159-4199-b2c1-4d7eb1fd5bd0\",\"type\":\"Circle\"},\"selection_glyph\":{\"id\":\"dbbe40f9-630e-42cf-b89a-9be612b3cd4f\",\"type\":\"Circle\"},\"view\":{\"id\":\"c323591a-eeff-4fba-a603-930a54a45ea3\",\"type\":\"CDSView\"}},\"id\":\"566b13a3-da8c-4410-ae60-b08e05f791f3\",\"type\":\"GlyphRenderer\"},{\"attributes\":{},\"id\":\"3af9cc99-1122-4175-a9a6-cb2b039cef25\",\"type\":\"CrosshairTool\"},{\"attributes\":{\"callback\":null,\"renderers\":\"auto\",\"tooltips\":[[\"Three Points\",\" Attempted @x and Made @y\"],[\"Two Points\",\"Attempted @twopointa and Made @twopoint\"],[\"Player\",\"@Player\"],[\"Offensive WinShare\",\"@winshare\"]]},\"id\":\"98185b45-6210-4e5c-a35c-8f4f0c8d8cd8\",\"type\":\"HoverTool\"},{\"attributes\":{\"overlay\":{\"id\":\"49069b6c-84a2-40be-a76a-49b2eb64c8be\",\"type\":\"BoxAnnotation\"}},\"id\":\"fd39a2a1-981b-4221-80de-b2817ff67ece\",\"type\":\"BoxZoomTool\"},{\"attributes\":{\"fill_color\":{\"value\":\"red\"},\"line_color\":{\"value\":null}},\"id\":\"3c70bfea-4b25-4de5-9699-2a3776276170\",\"type\":\"Circle\"},{\"attributes\":{},\"id\":\"020d7c11-5055-4071-bab4-cb2add8f5be1\",\"type\":\"WheelZoomTool\"},{\"attributes\":{},\"id\":\"faf455e1-e6e9-4c74-9afa-dea86da8d1fc\",\"type\":\"ResetTool\"},{\"attributes\":{},\"id\":\"2f5f3919-9d80-446d-8dd4-fe5289cd193e\",\"type\":\"BasicTicker\"},{\"attributes\":{\"data\":null,\"x\":[-4.5,18.3],\"y\":[5,65]},\"id\":\"5ce53f62-9bac-4d3c-9890-ba230efaaea8\",\"type\":\"LinearInterpolator\"},{\"attributes\":{\"axis_label\":\"Three and Two Attempted\",\"formatter\":{\"id\":\"5d7e4159-fabc-472e-a92f-d5aaba3406ae\",\"type\":\"BasicTickFormatter\"},\"plot\":{\"id\":\"27e3e904-20ff-4034-a9d4-12cc759a197d\",\"subtype\":\"Figure\",\"type\":\"Plot\"},\"ticker\":{\"id\":\"bd41e612-83c5-4c6f-8bee-8a03b809a3d7\",\"type\":\"BasicTicker\"}},\"id\":\"d8f93593-6e92-4356-9cde-f703988db425\",\"type\":\"LinearAxis\"},{\"attributes\":{},\"id\":\"db154f82-1b79-4590-905d-2dbc837b6185\",\"type\":\"PanTool\"},{\"attributes\":{},\"id\":\"fc21bf68-7d06-44a7-9b05-4f184ee63830\",\"type\":\"UnionRenderers\"},{\"attributes\":{\"bottom_units\":\"screen\",\"fill_alpha\":{\"value\":0.5},\"fill_color\":{\"value\":\"lightgrey\"},\"left_units\":\"screen\",\"level\":\"overlay\",\"line_alpha\":{\"value\":1.0},\"line_color\":{\"value\":\"black\"},\"line_dash\":[4,4],\"line_width\":{\"value\":2},\"plot\":null,\"render_mode\":\"css\",\"right_units\":\"screen\",\"top_units\":\"screen\"},\"id\":\"49069b6c-84a2-40be-a76a-49b2eb64c8be\",\"type\":\"BoxAnnotation\"},{\"attributes\":{\"fill_alpha\":{\"value\":0.1},\"fill_color\":{\"value\":\"white\"},\"line_alpha\":{\"value\":0.1},\"line_color\":{\"value\":\"blue\"}},\"id\":\"ca1ca1f4-8159-4199-b2c1-4d7eb1fd5bd0\",\"type\":\"Circle\"},{\"attributes\":{},\"id\":\"5d7e4159-fabc-472e-a92f-d5aaba3406ae\",\"type\":\"BasicTickFormatter\"},{\"attributes\":{\"fill_alpha\":{\"value\":0.1},\"fill_color\":{\"value\":\"white\"},\"line_alpha\":{\"value\":0.1},\"line_color\":{\"value\":\"red\"}},\"id\":\"c88a02c7-8be5-4a22-bca7-75b01ccfb598\",\"type\":\"Circle\"},{\"attributes\":{\"label\":{\"value\":\"Twp Points\"},\"renderers\":[{\"id\":\"8d5082da-a5f5-49be-8757-536599cad331\",\"type\":\"GlyphRenderer\"}]},\"id\":\"a68d306c-1157-4f63-8e07-5038e8b8fad4\",\"type\":\"LegendItem\"},{\"attributes\":{},\"id\":\"762c585c-ecf7-40de-b907-60c6a15a2307\",\"type\":\"BasicTickFormatter\"},{\"attributes\":{},\"id\":\"18ff60e2-4b6e-46ff-99f7-5fe860e38025\",\"type\":\"Selection\"},{\"attributes\":{\"dimension\":1,\"plot\":{\"id\":\"27e3e904-20ff-4034-a9d4-12cc759a197d\",\"subtype\":\"Figure\",\"type\":\"Plot\"},\"ticker\":{\"id\":\"2f5f3919-9d80-446d-8dd4-fe5289cd193e\",\"type\":\"BasicTicker\"}},\"id\":\"155eaff9-ad02-4ba8-8da0-f435a0b44173\",\"type\":\"Grid\"},{\"attributes\":{\"fill_alpha\":{\"value\":0.2},\"fill_color\":{\"value\":\"blue\"},\"line_alpha\":{\"value\":0.2},\"line_color\":{\"value\":\"blue\"},\"size\":{\"field\":\"WS\",\"transform\":{\"id\":\"5ce53f62-9bac-4d3c-9890-ba230efaaea8\",\"type\":\"LinearInterpolator\"},\"units\":\"screen\"},\"x\":{\"field\":\"x\"},\"y\":{\"field\":\"y\"}},\"id\":\"1e0b0fab-ffe9-41ff-a244-3826d78bf1ec\",\"type\":\"Circle\"},{\"attributes\":{},\"id\":\"7d753df3-57d3-4c02-bfd2-bf25d307d46a\",\"type\":\"LinearScale\"},{\"attributes\":{\"callback\":null,\"end\":2000,\"start\":-50},\"id\":\"ab8cd0e7-a1b5-4c0c-adcc-cbb0c1847c5c\",\"type\":\"Range1d\"},{\"attributes\":{},\"id\":\"bd41e612-83c5-4c6f-8bee-8a03b809a3d7\",\"type\":\"BasicTicker\"},{\"attributes\":{\"active_drag\":\"auto\",\"active_inspect\":\"auto\",\"active_scroll\":\"auto\",\"active_tap\":\"auto\",\"tools\":[{\"id\":\"98185b45-6210-4e5c-a35c-8f4f0c8d8cd8\",\"type\":\"HoverTool\"},{\"id\":\"db154f82-1b79-4590-905d-2dbc837b6185\",\"type\":\"PanTool\"},{\"id\":\"020d7c11-5055-4071-bab4-cb2add8f5be1\",\"type\":\"WheelZoomTool\"},{\"id\":\"fd39a2a1-981b-4221-80de-b2817ff67ece\",\"type\":\"BoxZoomTool\"},{\"id\":\"faf455e1-e6e9-4c74-9afa-dea86da8d1fc\",\"type\":\"ResetTool\"},{\"id\":\"3af9cc99-1122-4175-a9a6-cb2b039cef25\",\"type\":\"CrosshairTool\"},{\"id\":\"b8997233-0aa0-423f-a30d-e420eb83a53e\",\"type\":\"TapTool\"}]},\"id\":\"c11cea79-6cf3-4d42-9280-d5f5b95c2e3d\",\"type\":\"Toolbar\"},{\"attributes\":{\"axis_label\":\"Three and Two Made\",\"formatter\":{\"id\":\"762c585c-ecf7-40de-b907-60c6a15a2307\",\"type\":\"BasicTickFormatter\"},\"plot\":{\"id\":\"27e3e904-20ff-4034-a9d4-12cc759a197d\",\"subtype\":\"Figure\",\"type\":\"Plot\"},\"ticker\":{\"id\":\"2f5f3919-9d80-446d-8dd4-fe5289cd193e\",\"type\":\"BasicTicker\"}},\"id\":\"7ee191ea-e987-412a-b433-b9506f006580\",\"type\":\"LinearAxis\"},{\"attributes\":{\"plot\":{\"id\":\"27e3e904-20ff-4034-a9d4-12cc759a197d\",\"subtype\":\"Figure\",\"type\":\"Plot\"},\"ticker\":{\"id\":\"bd41e612-83c5-4c6f-8bee-8a03b809a3d7\",\"type\":\"BasicTicker\"}},\"id\":\"fe3729bf-5d45-4e19-9b4f-6a41422e8a71\",\"type\":\"Grid\"},{\"attributes\":{\"callback\":null,\"data\":{\"FG\":{\"__ndarray__\":\"AAAAAABAZkAAAAAAAABtQAAAAAAAwHBAAAAAAAAgeUAAAAAAACBrQAAAAAAA+IFAAAAAAACgbUAAAAAAACBxQAAAAAAAwGZAAAAAAACAd0AAAAAAABB3QAAAAAAAgIBAAAAAAADAeUAAAAAAAABlQAAAAAAAQHhAAAAAAACAakAAAAAAANB4QAAAAAAAAHBAAAAAAABAdkAAAAAAABB2QAAAAAAAwGxAAAAAAAAwdEAAAAAAADB8QAAAAAAAwHFAAAAAAAAAZ0AAAAAAAEB5QAAAAAAAMH9AAAAAAADQc0AAAAAAANB1QAAAAAAAoHNAAAAAAACAdEAAAAAAALB8QAAAAAAAAIVAAAAAAACgb0AAAAAAABB8QAAAAAAA8HlAAAAAAADgbkAAAAAAAOBrQAAAAAAAUH5AAAAAAADgfkAAAAAAAKBnQAAAAAAA4HNAAAAAAACgd0A=\",\"dtype\":\"float64\",\"shape\":[43]},\"FGA\":{\"__ndarray__\":\"AAAAAABwd0AAAAAAAHiAQAAAAAAAIIRAAAAAAAAQjkAAAAAAAFCAQAAAAAAAzJRAAAAAAACwgEAAAAAAAMCBQAAAAAAAYHxAAAAAAACoiEAAAAAAAPCJQAAAAAAA3JFAAAAAAAC4j0AAAAAAADB8QAAAAAAAcIpAAAAAAABwgUAAAAAAAMCNQAAAAAAAWINAAAAAAACgi0AAAAAAABCHQAAAAAAAQIBAAAAAAAD4hEAAAAAAAACTQAAAAAAA+IRAAAAAAAAAfUAAAAAAAGCMQAAAAAAAyI5AAAAAAAAQhkAAAAAAAGCGQAAAAAAA6INAAAAAAABwhUAAAAAAAECMQAAAAAAAdJVAAAAAAABYgUAAAAAAAFSRQAAAAAAASIpAAAAAAACAgEAAAAAAAGCAQAAAAAAAIJJAAAAAAAB0kEAAAAAAAKB6QAAAAAAAKIVAAAAAAAC4ikA=\",\"dtype\":\"float64\",\"shape\":[43]},\"MP\":{\"__ndarray__\":\"AAAAAADEmEAAAAAAACiYQAAAAAAAJqFAAAAAAAB0o0AAAAAAAN6gQAAAAAAAzqZAAAAAAAAMmkAAAAAAAGScQAAAAAAAPJxAAAAAAAB6oEAAAAAAABKkQAAAAAAAoKZAAAAAAAC2o0AAAAAAADCgQAAAAAAApqRAAAAAAABmoUAAAAAAAEaiQAAAAAAADJpAAAAAAABaoUAAAAAAAMihQAAAAAAAnJtAAAAAAACGoUAAAAAAAN6kQAAAAAAAgqZAAAAAAADMmUAAAAAAAIijQAAAAAAAyKRAAAAAAAAQnUAAAAAAAACbQAAAAAAAwJpAAAAAAAB8m0AAAAAAACanQAAAAAAAbqZAAAAAAAAQm0AAAAAAAIajQAAAAAAAWqNAAAAAAADwm0AAAAAAACSiQAAAAAAA+qVAAAAAAADkpUAAAAAAAJyaQAAAAAAA4J1AAAAAAABuokA=\",\"dtype\":\"float64\",\"shape\":[43]},\"PTS\":{\"__ndarray__\":\"AAAAAABwe0AAAAAAAKCCQAAAAAAA0IZAAAAAAABMlkAAAAAAAFCCQAAAAAAAEJlAAAAAAACgg0AAAAAAANiFQAAAAAAASIBAAAAAAACQjUAAAAAAAPiNQAAAAAAA3JVAAAAAAADkkUAAAAAAAOB+QAAAAAAAQI5AAAAAAAA4g0AAAAAAABiRQAAAAAAAAIZAAAAAAADgkEAAAAAAACCOQAAAAAAAWIJAAAAAAAAYjUAAAAAAANiTQAAAAAAAwIlAAAAAAABgg0AAAAAAAOiRQAAAAAAA1JRAAAAAAACQiUAAAAAAAPCLQAAAAAAASIpAAAAAAACgikAAAAAAAFiRQAAAAAAATJlAAAAAAAAQhUAAAAAAAPySQAAAAAAA+I9AAAAAAADYhEAAAAAAAFiDQAAAAAAAqJRAAAAAAAAslkAAAAAAANB+QAAAAAAAEIxAAAAAAAAQkUA=\",\"dtype\":\"float64\",\"shape\":[43]},\"PercentageThree\":{\"__ndarray__\":\"7FG4HoXr0T8NAiuHFtnWP0w3iUFg5dg/TmIQWDm02D9I4XoUrkfZP0W28/3UeNk/gZVDi2znyz9FtvP91HjZPycxCKwcWtQ/mpmZmZmZ2T/4U+Olm8TYPyyHFtnO99s/7Xw/NV660T+8dJMYBFbWP6RwPQrXo9g/EoPAyqFF1j+28/3UeOnWP7+fGi/dJNY/RIts5/up0T/vp8ZLN4nZP/YoXI/C9dg/ku18PzVe2j9WDi2yne/XPzMzMzMzM9s/nMQgsHJo0T+amZmZmZnJP90kBoGVQ9s//Knx0k1i2D83iUFg5dDSP5MYBFYOLdo//Knx0k1i2D/dJAaBlUPLP0oMAiuHFtE/9P3UeOkmsT/Jdr6fGi/NP1TjpZvEINg/16NwPQrX0z8830+Nl27SP30/NV66Scw/WDm0yHa+1z9SuB6F61HYP8P1KFyPwtU/2/l+arx02z8=\",\"dtype\":\"float64\",\"shape\":[43]},\"Player\":[\"Carlos Arroyo\",\"J.J. Barea\",\"Mike Bibby\",\"Chauncey Billups\",\"Steve Blake\",\"Aaron Brooks\",\"Will Bynum\",\"Jose Calderon\",\"Mario Chalmers\",\"Darren Collison\",\"Mike Conley\",\"Stephen Curry\",\"Baron Davis\",\"Chris Duhon\",\"Raymond Felton\",\"Derek Fisher\",\"Jonny Flynn\",\"Randy Foye\",\"Devin Harris\",\"George Hill\",\"Jrue Holiday\",\"Jarrett Jack\",\"Brandon Jennings\",\"Jason Kidd\",\"Kyle Lowry\",\"Andre Miller\",\"Steve Nash\",\"Jameer Nelson\",\"Tony Parker\",\"Chris Paul\",\"Luke Ridnour\",\"Rajon Rondo\",\"Derrick Rose\",\"Ramon Sessions\",\"Rodney Stuckey\",\"Beno Udrih\",\"C.J. Watson\",\"Earl Watson\",\"Russell Westbrook\",\"Deron Williams\",\"Jason Williams\",\"Lou Williams\",\"Mo Williams\"],\"Tm\":[\"MIA\",\"DAL\",\"ATL\",\"DEN\",\"TOT\",\"HOU\",\"DET\",\"TOR\",\"MIA\",\"NOH\",\"MEM\",\"GSW\",\"LAC\",\"NYK\",\"CHA\",\"LAL\",\"MIN\",\"WAS\",\"NJN\",\"SAS\",\"PHI\",\"TOR\",\"MIL\",\"DAL\",\"HOU\",\"POR\",\"PHO\",\"ORL\",\"SAS\",\"NOH\",\"MIL\",\"BOS\",\"CHI\",\"MIN\",\"DET\",\"SAC\",\"GSW\",\"IND\",\"OKC\",\"UTA\",\"ORL\",\"PHI\",\"CLE\"],\"WS\":{\"__ndarray__\":\"mpmZmZmZDUCamZmZmZkBQDMzMzMzMxNAAAAAAAAAI0BmZmZmZmYKQAAAAAAAABZAZmZmZmZm/j/NzMzMzMwQQJqZmZmZmQVAMzMzMzMzB0AAAAAAAAAQQM3MzMzMzBJAAAAAAAAAEkBmZmZmZmb+PwAAAAAAABpAMzMzMzMzD0CamZmZmZm5P5qZmZmZmQFAmpmZmZmZBUDNzMzMzMwaQDMzMzMzM/M/MzMzMzMzE0DNzMzMzMwQQM3MzMzMzCFAMzMzMzMzEUAAAAAAAAAcQM3MzMzMzCNAAAAAAAAAFEDNzMzMzMwMQDMzMzMzMx1AzczMzMzMGEAzMzMzMzMjQAAAAAAAABhAmpmZmZmZ8T+amZmZmZkFQAAAAAAAABZAzczMzMzMCEDNzMzMzMwEQGZmZmZmZhhAmpmZmZmZJEAAAAAAAAASQM3MzMzMzBRAzczMzMzMGkA=\",\"dtype\":\"float64\",\"shape\":[43]},\"twopoint\":{\"__ndarray__\":\"AAAAAABgZUAAAAAAAABmQAAAAAAAwGFAAAAAAACgbkAAAAAAAEBZQAAAAAAA4HZAAAAAAAAgbEAAAAAAAMBpQAAAAAAAwFpAAAAAAACgdEAAAAAAAPBxQAAAAAAAoHZAAAAAAACgdEAAAAAAAIBTQAAAAAAAgHRAAAAAAADAYEAAAAAAAAB0QAAAAAAAIGhAAAAAAACAckAAAAAAAGBxQAAAAAAAAGVAAAAAAAAgbkAAAAAAACBzQAAAAAAAAFtAAAAAAABgYkAAAAAAAEB4QAAAAAAAcHdAAAAAAADgbEAAAAAAADB1QAAAAAAAYHBAAAAAAAAwcEAAAAAAAKB7QAAAAAAAgIRAAAAAAACAb0AAAAAAAPB6QAAAAAAAQHVAAAAAAABAaUAAAAAAAEBlQAAAAAAA4HxAAAAAAADgeEAAAAAAAEBaQAAAAAAAAG9AAAAAAABga0A=\",\"dtype\":\"float64\",\"shape\":[43]},\"twopointa\":{\"__ndarray__\":\"AAAAAADgdUAAAAAAACB3QAAAAAAAAHRAAAAAAABYgUAAAAAAAIBsQAAAAAAAMIlAAAAAAADwfUAAAAAAANB4QAAAAAAAQGtAAAAAAAAQhUAAAAAAAFCDQAAAAAAA2IdAAAAAAAB4hkAAAAAAACBoQAAAAAAAkIVAAAAAAADgdEAAAAAAAAiHQAAAAAAAUHtAAAAAAADYhEAAAAAAADCBQAAAAAAAkHZAAAAAAACAfUAAAAAAAOCJQAAAAAAAEHBAAAAAAACAdEAAAAAAAOCJQAAAAAAAsIVAAAAAAAAAfkAAAAAAAFCFQAAAAAAA4H9AAAAAAACQf0AAAAAAAMCJQAAAAAAAhJRAAAAAAADggEAAAAAAABiQQAAAAAAAEIRAAAAAAADwd0AAAAAAAEB1QAAAAAAAgJBAAAAAAADQiEAAAAAAAKBpQAAAAAAAcH1AAAAAAABAfkA=\",\"dtype\":\"float64\",\"shape\":[43]},\"winshare\":{\"__ndarray__\":\"mpmZmZmZAUAAAAAAAADwPwAAAAAAAAhAzczMzMzMHkBmZmZmZmb+PzMzMzMzMw9AzczMzMzM9D/NzMzMzMwQQDMzMzMzM9M/ZmZmZmZm/j/NzMzMzMwEQAAAAAAAAAhAAAAAAAAABEAAAAAAAAD4PwAAAAAAAARAMzMzMzMz8z8zMzMzMzPjv5qZmZmZmfk/AAAAAAAA+D9mZmZmZmYQQJqZmZmZmck/AAAAAAAAEkAzMzMzMzPTPzMzMzMzMxNAMzMzMzMzB0BmZmZmZmYSQDMzMzMzMyJAZmZmZmZmBkAAAAAAAAAAQM3MzMzMzBZAAAAAAAAAEECamZmZmZkTQAAAAAAAAAxAAAAAAAAA4D9mZmZmZmb2P83MzMzMzBBAmpmZmZmZAUAzMzMzMzPTP5qZmZmZmQVAmpmZmZmZHUAAAAAAAAAEQGZmZmZmZhBAAAAAAAAAEEA=\",\"dtype\":\"float64\",\"shape\":[43]},\"x\":{\"__ndarray__\":\"AAAAAAAAOUAAAAAAAKBjQAAAAAAAQHRAAAAAAABweUAAAAAAAGByQAAAAAAAaIBAAAAAAACAS0AAAAAAAGBlQAAAAAAAgG1AAAAAAADAXEAAAAAAAIBqQAAAAAAAwHdAAAAAAACAckAAAAAAACBwQAAAAAAAgGNAAAAAAAAAbEAAAAAAAOBqQAAAAAAAwGZAAAAAAAAga0AAAAAAAIBnQAAAAAAA4GNAAAAAAADgaEAAAAAAAEB4QAAAAAAA4HlAAAAAAAAAYUAAAAAAAABUQAAAAAAAMHJAAAAAAABAbEAAAAAAAABBQAAAAAAAwF9AAAAAAACgZkAAAAAAAABUQAAAAAAAAE5AAAAAAAAALkAAAAAAAMBTQAAAAAAA4GhAAAAAAAAgYkAAAAAAAABnQAAAAAAAAFpAAAAAAAAwcEAAAAAAAKBrQAAAAAAAwGlAAAAAAAAwd0A=\",\"dtype\":\"float64\",\"shape\":[43]},\"y\":{\"__ndarray__\":\"AAAAAAAAHEAAAAAAAABMQAAAAAAAgF9AAAAAAACgY0AAAAAAAABdQAAAAAAAIGpAAAAAAAAAKEAAAAAAAABRQAAAAAAAwFJAAAAAAAAAR0AAAAAAAIBUQAAAAAAAwGRAAAAAAACAVEAAAAAAAIBWQAAAAAAAAE5AAAAAAACAU0AAAAAAAEBTQAAAAAAAgE9AAAAAAAAATkAAAAAAAMBSQAAAAAAAAE9AAAAAAACAVEAAAAAAACBiQAAAAAAAAGZAAAAAAACAQkAAAAAAAAAwQAAAAAAAAF9AAAAAAACAVUAAAAAAAAAkQAAAAAAAAEpAAAAAAABAUUAAAAAAAAAxQAAAAAAAADBAAAAAAAAA8D8AAAAAAAAyQAAAAAAAwFJAAAAAAACARkAAAAAAAIBKQAAAAAAAADdAAAAAAAAAWEAAAAAAAABVQAAAAAAAgFFAAAAAAADgY0A=\",\"dtype\":\"float64\",\"shape\":[43]}},\"selected\":{\"id\":\"18ff60e2-4b6e-46ff-99f7-5fe860e38025\",\"type\":\"Selection\"},\"selection_policy\":{\"id\":\"fc21bf68-7d06-44a7-9b05-4f184ee63830\",\"type\":\"UnionRenderers\"}},\"id\":\"bde2a3fd-ef6c-4b23-956f-c78c5552a71e\",\"type\":\"ColumnDataSource\"},{\"attributes\":{\"callback\":null,\"end\":2000,\"start\":-50},\"id\":\"3c59286c-93d7-4d04-92f7-b742668e3f5b\",\"type\":\"Range1d\"},{\"attributes\":{\"callback\":null},\"id\":\"b8997233-0aa0-423f-a30d-e420eb83a53e\",\"type\":\"TapTool\"},{\"attributes\":{\"source\":{\"id\":\"bde2a3fd-ef6c-4b23-956f-c78c5552a71e\",\"type\":\"ColumnDataSource\"}},\"id\":\"c323591a-eeff-4fba-a603-930a54a45ea3\",\"type\":\"CDSView\"},{\"attributes\":{},\"id\":\"220c61f4-8410-4061-8277-8eb7a0caff95\",\"type\":\"LinearScale\"},{\"attributes\":{\"data_source\":{\"id\":\"bde2a3fd-ef6c-4b23-956f-c78c5552a71e\",\"type\":\"ColumnDataSource\"},\"glyph\":{\"id\":\"f062f393-f1d2-48ea-b275-bc8232f9df5d\",\"type\":\"Circle\"},\"hover_glyph\":null,\"muted_glyph\":null,\"nonselection_glyph\":{\"id\":\"c88a02c7-8be5-4a22-bca7-75b01ccfb598\",\"type\":\"Circle\"},\"selection_glyph\":{\"id\":\"3c70bfea-4b25-4de5-9699-2a3776276170\",\"type\":\"Circle\"},\"view\":{\"id\":\"615206a5-4f05-4094-99c2-85de7293d21d\",\"type\":\"CDSView\"}},\"id\":\"8d5082da-a5f5-49be-8757-536599cad331\",\"type\":\"GlyphRenderer\"},{\"attributes\":{\"plot\":null,\"text\":\" Totals 3 vs 2  by Pos ----- Current Year:\"},\"id\":\"e3cf77db-fcbe-4895-bc63-16eb8c459cc9\",\"type\":\"Title\"},{\"attributes\":{\"source\":{\"id\":\"bde2a3fd-ef6c-4b23-956f-c78c5552a71e\",\"type\":\"ColumnDataSource\"}},\"id\":\"615206a5-4f05-4094-99c2-85de7293d21d\",\"type\":\"CDSView\"}],\"root_ids\":[\"27e3e904-20ff-4034-a9d4-12cc759a197d\"]},\"title\":\"Bokeh Application\",\"version\":\"0.12.16\"}};\n",
       "  var render_items = [{\"docid\":\"335978c1-2d9e-48c1-85d6-c21e4445709a\",\"elementid\":\"9e9340c4-3dff-4758-8208-0eac301e158a\",\"modelid\":\"27e3e904-20ff-4034-a9d4-12cc759a197d\",\"notebook_comms_target\":\"262bf908-2e88-49b0-97a2-1d7c1600b375\"}];\n",
       "  root.Bokeh.embed.embed_items_notebook(docs_json, render_items);\n",
       "\n",
       "  }\n",
       "  if (root.Bokeh !== undefined) {\n",
       "    embed_document(root);\n",
       "  } else {\n",
       "    var attempts = 0;\n",
       "    var timer = setInterval(function(root) {\n",
       "      if (root.Bokeh !== undefined) {\n",
       "        embed_document(root);\n",
       "        clearInterval(timer);\n",
       "      }\n",
       "      attempts++;\n",
       "      if (attempts > 100) {\n",
       "        console.log(\"Bokeh: ERROR: Unable to run BokehJS code because BokehJS library is missing\")\n",
       "        clearInterval(timer);\n",
       "      }\n",
       "    }, 10, root)\n",
       "  }\n",
       "})(window);"
      ],
      "application/vnd.bokehjs_exec.v0+json": ""
     },
     "metadata": {
      "application/vnd.bokehjs_exec.v0+json": {
       "id": "27e3e904-20ff-4034-a9d4-12cc759a197d"
      }
     },
     "output_type": "display_data"
    },
    {
     "data": {
      "application/vnd.jupyter.widget-view+json": {
       "model_id": "deb90c8b867a454fa6c526b347422c95",
       "version_major": 2,
       "version_minor": 0
      },
      "text/plain": [
       "interactive(children=(Dropdown(description='Pos', options=('C', 'PF', 'SF', 'SG', 'PG'), value='C'), Play(valu…"
      ]
     },
     "metadata": {},
     "output_type": "display_data"
    },
    {
     "data": {
      "application/vnd.jupyter.widget-view+json": {
       "model_id": "2e015289b32942b08afd45b4f17f1a37",
       "version_major": 2,
       "version_minor": 0
      },
      "text/plain": [
       "interactive(children=(Dropdown(description='Pos', options=('C', 'PF', 'SF', 'SG', 'PG'), value='C'), IntSlider…"
      ]
     },
     "metadata": {},
     "output_type": "display_data"
    },
    {
     "data": {
      "text/plain": [
       "<function __main__.update(Pos, Year)>"
      ]
     },
     "execution_count": 28,
     "metadata": {},
     "output_type": "execute_result"
    }
   ],
   "source": [
    "\n",
    "from bokeh.models import ColumnDataSource\n",
    "from bokeh.models import HoverTool\n",
    "from bokeh.models import LinearInterpolator\n",
    "from bokeh.models import CategoricalColorMapper\n",
    "from bokeh.models import Circle\n",
    "from bokeh.palettes import Set1_9\n",
    "from bokeh.plotting import figure\n",
    "from ipywidgets import interact, interactive, fixed, interact_manual,widgets\n",
    "from bokeh.io import push_notebook,show\n",
    "\n",
    "data7 = pd.read_csv('nba-players-stats/SeasonStats1500MP3.1.csv',index_col=(\"Pos\",\"Year\"))\n",
    "\n",
    "source = ColumnDataSource(dict(\n",
    "    y = data7.loc['PG',2010,:].ThreeMade,  \n",
    "    x = data7.loc['PG',2010,:].ThreeAttempt,\n",
    "    PercentageThree = data7.loc['PG',2010,:].Threepercent,\n",
    "    MP = data7.loc['PG',2010,:].MP,\n",
    "    FG= data7.loc['PG',2010,:].FG,\n",
    "    FGA = data7.loc['PG',2010,:].FGA,\n",
    "    PTS= data7.loc['PG',2010,:].PTS,\n",
    "    Player = data7.loc['PG',2010,:].Player,\n",
    "    WS = data7.loc['PG',2010,:].WS,\n",
    "    Tm = data7.loc['PG',2010,:].Tm, \n",
    "    winshare = data7.loc['PG',2010,:].OWS,\n",
    "    twopointa = data7.loc['PG',2010,:].get('2PA'),\n",
    "    twopoint = data7.loc['PG',2010,:].get('2P')\n",
    "                  ))\n",
    "relative_size = LinearInterpolator(\n",
    "    x = [data7.OWS.min(),data7.OWS.max()],\n",
    "    y = [5,65]\n",
    ")\n",
    "\n",
    "Hover_tool = HoverTool(tooltips = [\n",
    "    ('Three Points', \" Attempted @x and Made @y\"),\n",
    "     ('Two Points', \"Attempted @twopointa and Made @twopoint\"),\n",
    "    ('Player','@Player'),\n",
    "   # ('Team or TOT','@Tm'),\n",
    "    ('Offensive WinShare','@winshare')\n",
    "    \n",
    "])\n",
    "color_mapper = CategoricalColorMapper(\n",
    " factors=['C','PF','SF','SG','PG'],\n",
    " palette=['blue', 'red', 'green','purple','yellow'])\n",
    "\n",
    "# p3 = figure( tools = [Hover_tool,'pan', 'wheel_zoom','box_zoom','reset'],\n",
    "#             height = 1000,\n",
    "#            width = 1000,\n",
    "#            x_range = (-50,850),\n",
    "#            y_range=(-50,1000),\n",
    "#             title = \"3P Per Position\",\n",
    "#           y_axis_label = \"3P made per Totals/Season\",\n",
    "#            x_axis_label = \"3P attempts per Total/Season\",\n",
    "#           toolbar_location=\"right\")\n",
    "\n",
    "p3 = figure(height=500,\n",
    "           width = 700,\n",
    "           x_range = (-50,2000),\n",
    "           y_range=(-50,2000),\n",
    "           tools = [Hover_tool,'pan', 'wheel_zoom','box_zoom','reset','crosshair','tap'],\n",
    "         title = \" Totals 3 vs 2  by Pos ----- Current Year:\",\n",
    "          x_axis_label = \"Three and Two Attempted\",\n",
    "          y_axis_label = \"Three and Two Made\")\n",
    "g = p3.circle(x = 'x',\n",
    "         y = 'y',\n",
    "        #size = 10 , \n",
    "         size = {'field':'WS','transform':relative_size},\n",
    "          #color = {'field': 'Times','transform': mapping_coloring},\n",
    "         alpha = 0.2,\n",
    "            color = 'blue',\n",
    "        legend = 'Three Points',\n",
    "         source = source)\n",
    "p3.right = p3.legend\n",
    "d = p3.circle(x = 'twopointa',\n",
    "         y = 'twopoint',\n",
    "        #size = 10 , \n",
    "         size = {'field':'WS','transform':relative_size},\n",
    "          #color = {'field': 'Times','transform': mapping_coloring},\n",
    "         alpha = 0.2,\n",
    "            color = 'red',\n",
    "        legend = 'Twp Points',\n",
    "         source = source)\n",
    "\n",
    "\n",
    "    \n",
    "selected_circle = Circle(fill_alpha=1, fill_color=\"blue\", line_color=None)\n",
    "nonselected_circle = Circle(line_alpha=0.1,fill_alpha=0.1,fill_color=\"white\", line_color=\"blue\")\n",
    "\n",
    "g.selection_glyph = selected_circle\n",
    "g.nonselection_glyph = nonselected_circle\n",
    "\n",
    "selected_circle = Circle(line_alpha=1, fill_color=\"red\", line_color=None)\n",
    "nonselected_circle = Circle(line_alpha=0.1,fill_alpha=0.1,fill_color=\"white\", line_color=\"red\")\n",
    "\n",
    "d.selection_glyph = selected_circle\n",
    "d.nonselection_glyph = nonselected_circle\n",
    "    \n",
    "    \n",
    "    \n",
    "\n",
    "def update(Pos,Year):\n",
    "    interactivedata = dict(\n",
    "    y = data7.loc[Pos,Year,:].ThreeMade,  \n",
    "    x = data7.loc[Pos,Year,:].ThreeAttempt,\n",
    "    G = data7.loc[Pos,Year,:].G,\n",
    "    PercentageThree = data7.loc[Pos,Year,:].Threepercent,\n",
    "    MP = data7.loc[Pos,Year,:].MP,\n",
    "    FG= data7.loc[Pos,Year,:].FG,\n",
    "    FGA = data7.loc[Pos,Year,:].FGA,\n",
    "    PTS= data7.loc[Pos,Year,:].PTS,\n",
    "    Player = data7.loc[Pos,Year,:].Player,\n",
    "    WS = data7.loc[Pos,Year,:].WS,\n",
    "    Tm = data7.loc[Pos,Year,:].Tm,\n",
    "    winshare = data7.loc[Pos,Year,:].OWS,\n",
    "    twopointa = data7.loc[Pos,Year,:].get('2PA'),\n",
    "    twopoint = data7.loc[Pos,Year,:].get('2P')\n",
    "#     Use = data7.loc[Pos,Year,:].get['%USG']\n",
    "   # Year = data7.loc['PG',2017].Year\n",
    "    )\n",
    "    \n",
    "    source.data = interactivedata\n",
    "    p3.title.text=\" Totals 3 vs 2 by Pos ----- Current Year:\"+ str(Year)+ \"(Season:\"+  str(int(Year-1)) + \"-\" + str(int(Year))+\")\"\n",
    "    push_notebook()\n",
    "    \n",
    "   \n",
    "show(p3,notebook_handle=True)\n",
    "\n",
    "interact(update,Pos=['C','PF','SF','SG','PG'],Year = widgets.Play( \n",
    "    value=0,\n",
    "    min=1980,\n",
    "    max=2017,\n",
    "    step=1,      \n",
    "    disabled=False\n",
    "    \n",
    "))\n",
    "\n",
    "interact(update,Pos=['C','PF','SF','SG','PG'],Year = widgets.IntSlider( \n",
    "    value=0,\n",
    "    min=1980,\n",
    "    max=2017,\n",
    "    step=1,      \n",
    "    disabled=False\n",
    "))"
   ]
  },
  {
   "cell_type": "markdown",
   "metadata": {
    "extensions": {
     "jupyter_dashboards": {
      "version": 1,
      "views": {
       "grid_default": {
        "col": 8,
        "height": 4,
        "hidden": false,
        "row": 133,
        "width": 4
       },
       "report_default": {
        "hidden": false
       }
      }
     }
    }
   },
   "source": [
    "<hr style=\"height:1px;border:none;color:#333;background-color:#333;\" />"
   ]
  },
  {
   "cell_type": "markdown",
   "metadata": {
    "extensions": {
     "jupyter_dashboards": {
      "version": 1,
      "views": {
       "grid_default": {
        "col": 0,
        "height": 17,
        "hidden": false,
        "row": 220,
        "width": 12
       },
       "report_default": {
        "hidden": false
       }
      }
     }
    }
   },
   "source": [
    "# 3PA vs FGA  ( 3PA/FGA = 3Par) <a name=\"ThreePointRatio\"></a>\n",
    "- Show how the players have now evolved and adatped to the Three point line. \n",
    "- It also shows that they are willing to take more three pointers than 2 pointers in comparison. \n",
    "- Players from all positions are willing to take more 3 pointers than 2 pointers. \n",
    "\n",
    "# Caculation about the \n",
    "Three Point total attempts  divide by  Field Goal Total Attempts  = Percentage of FG Attempts from 3-Point Range\n",
    "- 3PA / FGA = 3PAr\n",
    "- Higher up the Y-Axis the more three pointer you take compared to the 2 pointers. \n",
    "- Futher to the X-Axis the more two points you take compared to the 3 pointers.\n",
    "\n",
    "## Axis\n",
    "- Y-Axis = 3PA (3 point Attempts)\n",
    "- X-Axis = 2PA (2 point Attempts)\n",
    "\n",
    "# Results\n",
    " Increase of three point attempts comparing to previous years. Show importance of three pointers\n"
   ]
  },
  {
   "cell_type": "markdown",
   "metadata": {
    "extensions": {
     "jupyter_dashboards": {
      "version": 1,
      "views": {
       "grid_default": {
        "col": 8,
        "height": 4,
        "hidden": false,
        "row": 197,
        "width": 4
       },
       "report_default": {
        "hidden": false
       }
      }
     }
    }
   },
   "source": [
    "**Click Run Cell Below.(Refresh)*** if no reactions "
   ]
  },
  {
   "cell_type": "code",
   "execution_count": 29,
   "metadata": {
    "extensions": {
     "jupyter_dashboards": {
      "version": 1,
      "views": {
       "grid_default": {
        "col": 8,
        "height": 4,
        "hidden": false,
        "row": 201,
        "width": 4
       },
       "report_default": {
        "hidden": false
       }
      }
     }
    }
   },
   "outputs": [
    {
     "data": {
      "application/vnd.jupyter.widget-view+json": {
       "model_id": "805e1b5b642e410ea0e820a635f81ff3",
       "version_major": 2,
       "version_minor": 0
      },
      "text/plain": [
       "Button(description='Run Cell Below', style=ButtonStyle())"
      ]
     },
     "metadata": {},
     "output_type": "display_data"
    }
   ],
   "source": [
    "from IPython.display import Javascript, display\n",
    "from ipywidgets import widgets\n",
    "\n",
    "\n",
    "def run_all(ev):\n",
    "    display(Javascript('IPython.notebook.execute_cell_range(IPython.notebook.get_selected_index()+1, IPython.notebook.get_selected_index()+2)'))\n",
    "\n",
    "button = widgets.Button(description=\"Run Cell Below\")\n",
    "button.on_click(run_all)\n",
    "display(button)"
   ]
  },
  {
   "cell_type": "code",
   "execution_count": 30,
   "metadata": {
    "extensions": {
     "jupyter_dashboards": {
      "version": 1,
      "views": {
       "grid_default": {
        "col": 0,
        "height": 35,
        "hidden": false,
        "row": 237,
        "width": 7
       },
       "report_default": {
        "hidden": false
       }
      }
     }
    },
    "scrolled": false
   },
   "outputs": [
    {
     "data": {
      "text/html": [
       "\n",
       "<div class=\"bk-root\">\n",
       "    <div class=\"bk-plotdiv\" id=\"41fe7b99-97a1-46b1-92ca-a77b9152c197\"></div>\n",
       "</div>"
      ]
     },
     "metadata": {},
     "output_type": "display_data"
    },
    {
     "data": {
      "application/javascript": [
       "(function(root) {\n",
       "  function embed_document(root) {\n",
       "    \n",
       "  var docs_json = {\"bd838783-f36f-4bc4-b0cb-6d61c8433903\":{\"roots\":{\"references\":[{\"attributes\":{\"callback\":null,\"renderers\":\"auto\",\"tooltips\":[[\"Field Goal Attempted Total per Season\",\"@FGA\"],[\"3P Attempted total in a Season\",\"@ThreeAttempt\"],[\"2P Attempted total in a Season\",\"@TwoPointAttempt\"],[\"Player\",\"@Player\"],[\"3PAr\",\"@ThreeRatio\"]]},\"id\":\"7bf2ff31-bb32-4d90-b9f8-c12e6fb57cdf\",\"type\":\"HoverTool\"},{\"attributes\":{\"fill_alpha\":{\"value\":0.6},\"fill_color\":{\"field\":\"Position\",\"transform\":{\"id\":\"4fece064-de14-4aa1-8159-8d6a51093f1e\",\"type\":\"CategoricalColorMapper\"}},\"line_alpha\":{\"value\":0.6},\"line_color\":{\"field\":\"Position\",\"transform\":{\"id\":\"4fece064-de14-4aa1-8159-8d6a51093f1e\",\"type\":\"CategoricalColorMapper\"}},\"size\":{\"units\":\"screen\",\"value\":10},\"x\":{\"field\":\"FGA\"},\"y\":{\"field\":\"ThreeAttempt\"}},\"id\":\"71ef4e11-a775-4550-8eda-30661f4e422c\",\"type\":\"Circle\"},{\"attributes\":{\"plot\":null,\"text\":\"3PA vs FGA (3PA/FGA = 3PAr )\"},\"id\":\"41672ca9-c198-41b6-89bf-673a71789362\",\"type\":\"Title\"},{\"attributes\":{\"callback\":null,\"end\":2000},\"id\":\"36a05c42-f55c-4c91-980d-c4c82b312959\",\"type\":\"Range1d\"},{\"attributes\":{\"active_drag\":\"auto\",\"active_inspect\":\"auto\",\"active_scroll\":\"auto\",\"active_tap\":\"auto\",\"tools\":[{\"id\":\"7bf2ff31-bb32-4d90-b9f8-c12e6fb57cdf\",\"type\":\"HoverTool\"},{\"id\":\"eb322fef-e818-4763-80ec-e10ca29417e9\",\"type\":\"PanTool\"},{\"id\":\"d97af4b7-5370-458b-8771-5ca70bdb1ec2\",\"type\":\"WheelZoomTool\"},{\"id\":\"8abeb6d3-e4a8-483a-8e1c-4e2a570c4373\",\"type\":\"BoxZoomTool\"},{\"id\":\"30410ad9-0c48-4442-9581-ee07838d7b19\",\"type\":\"ResetTool\"},{\"id\":\"2b252f8e-68bb-4009-987c-127259b739b1\",\"type\":\"CrosshairTool\"}]},\"id\":\"a8385703-04a4-4034-8647-52be28253b84\",\"type\":\"Toolbar\"},{\"attributes\":{},\"id\":\"5578d1a9-b678-4300-9c02-d18275e57fc7\",\"type\":\"BasicTickFormatter\"},{\"attributes\":{\"below\":[{\"id\":\"53c77778-809a-407c-aace-bc1647355070\",\"type\":\"LinearAxis\"}],\"left\":[{\"id\":\"3d1315de-7e8d-4018-a42e-fbe4f34382d1\",\"type\":\"LinearAxis\"}],\"renderers\":[{\"id\":\"53c77778-809a-407c-aace-bc1647355070\",\"type\":\"LinearAxis\"},{\"id\":\"527fe89a-b3ed-4a38-a24a-c282ee47bcbe\",\"type\":\"Grid\"},{\"id\":\"3d1315de-7e8d-4018-a42e-fbe4f34382d1\",\"type\":\"LinearAxis\"},{\"id\":\"96372d45-1bfb-453a-a2ce-177e928e0d59\",\"type\":\"Grid\"},{\"id\":\"d6a76e97-4e35-46f9-b25f-20794cecaf21\",\"type\":\"BoxAnnotation\"},{\"id\":\"401fa809-5068-4244-a23e-39c75537244b\",\"type\":\"Legend\"},{\"id\":\"f7f39dc3-d6b0-476f-8ca8-bd818d13df59\",\"type\":\"GlyphRenderer\"}],\"title\":{\"id\":\"41672ca9-c198-41b6-89bf-673a71789362\",\"type\":\"Title\"},\"toolbar\":{\"id\":\"a8385703-04a4-4034-8647-52be28253b84\",\"type\":\"Toolbar\"},\"x_range\":{\"id\":\"36a05c42-f55c-4c91-980d-c4c82b312959\",\"type\":\"Range1d\"},\"x_scale\":{\"id\":\"02a3ad74-e03a-4825-974b-809229853869\",\"type\":\"LinearScale\"},\"y_range\":{\"id\":\"fc2fecb2-0614-41c1-b78a-fef7db478f00\",\"type\":\"Range1d\"},\"y_scale\":{\"id\":\"0eef2897-a485-4442-90eb-e972a495f97f\",\"type\":\"LinearScale\"}},\"id\":\"4a34a450-cb8e-4e2c-baba-09bdc6e21383\",\"subtype\":\"Figure\",\"type\":\"Plot\"},{\"attributes\":{\"callback\":null,\"end\":1000},\"id\":\"fc2fecb2-0614-41c1-b78a-fef7db478f00\",\"type\":\"Range1d\"},{\"attributes\":{},\"id\":\"02a3ad74-e03a-4825-974b-809229853869\",\"type\":\"LinearScale\"},{\"attributes\":{},\"id\":\"0eef2897-a485-4442-90eb-e972a495f97f\",\"type\":\"LinearScale\"},{\"attributes\":{\"plot\":{\"id\":\"4a34a450-cb8e-4e2c-baba-09bdc6e21383\",\"subtype\":\"Figure\",\"type\":\"Plot\"},\"ticker\":{\"id\":\"c7d43320-a4d0-409d-b57d-3ab516dd2f9c\",\"type\":\"BasicTicker\"}},\"id\":\"527fe89a-b3ed-4a38-a24a-c282ee47bcbe\",\"type\":\"Grid\"},{\"attributes\":{\"axis_label\":\"Field Goal Attempt Total in a  Season\",\"formatter\":{\"id\":\"5578d1a9-b678-4300-9c02-d18275e57fc7\",\"type\":\"BasicTickFormatter\"},\"plot\":{\"id\":\"4a34a450-cb8e-4e2c-baba-09bdc6e21383\",\"subtype\":\"Figure\",\"type\":\"Plot\"},\"ticker\":{\"id\":\"c7d43320-a4d0-409d-b57d-3ab516dd2f9c\",\"type\":\"BasicTicker\"}},\"id\":\"53c77778-809a-407c-aace-bc1647355070\",\"type\":\"LinearAxis\"},{\"attributes\":{},\"id\":\"c7d43320-a4d0-409d-b57d-3ab516dd2f9c\",\"type\":\"BasicTicker\"},{\"attributes\":{\"axis_label\":\"3P attempts Total in a Season\",\"formatter\":{\"id\":\"57721311-ad99-4d05-a2e8-0e8cc4e326b4\",\"type\":\"BasicTickFormatter\"},\"plot\":{\"id\":\"4a34a450-cb8e-4e2c-baba-09bdc6e21383\",\"subtype\":\"Figure\",\"type\":\"Plot\"},\"ticker\":{\"id\":\"1bb7ca06-c8bd-41ad-a7d1-9b80162546c7\",\"type\":\"BasicTicker\"}},\"id\":\"3d1315de-7e8d-4018-a42e-fbe4f34382d1\",\"type\":\"LinearAxis\"},{\"attributes\":{},\"id\":\"1bb7ca06-c8bd-41ad-a7d1-9b80162546c7\",\"type\":\"BasicTicker\"},{\"attributes\":{\"dimension\":1,\"plot\":{\"id\":\"4a34a450-cb8e-4e2c-baba-09bdc6e21383\",\"subtype\":\"Figure\",\"type\":\"Plot\"},\"ticker\":{\"id\":\"1bb7ca06-c8bd-41ad-a7d1-9b80162546c7\",\"type\":\"BasicTicker\"}},\"id\":\"96372d45-1bfb-453a-a2ce-177e928e0d59\",\"type\":\"Grid\"},{\"attributes\":{\"label\":{\"field\":\"Position\"},\"renderers\":[{\"id\":\"f7f39dc3-d6b0-476f-8ca8-bd818d13df59\",\"type\":\"GlyphRenderer\"}]},\"id\":\"f4c6dcee-b29c-438e-b0a9-b80883624fbb\",\"type\":\"LegendItem\"},{\"attributes\":{\"bottom_units\":\"screen\",\"fill_alpha\":{\"value\":0.5},\"fill_color\":{\"value\":\"lightgrey\"},\"left_units\":\"screen\",\"level\":\"overlay\",\"line_alpha\":{\"value\":1.0},\"line_color\":{\"value\":\"black\"},\"line_dash\":[4,4],\"line_width\":{\"value\":2},\"plot\":null,\"render_mode\":\"css\",\"right_units\":\"screen\",\"top_units\":\"screen\"},\"id\":\"d6a76e97-4e35-46f9-b25f-20794cecaf21\",\"type\":\"BoxAnnotation\"},{\"attributes\":{},\"id\":\"eb322fef-e818-4763-80ec-e10ca29417e9\",\"type\":\"PanTool\"},{\"attributes\":{},\"id\":\"d97af4b7-5370-458b-8771-5ca70bdb1ec2\",\"type\":\"WheelZoomTool\"},{\"attributes\":{\"overlay\":{\"id\":\"d6a76e97-4e35-46f9-b25f-20794cecaf21\",\"type\":\"BoxAnnotation\"}},\"id\":\"8abeb6d3-e4a8-483a-8e1c-4e2a570c4373\",\"type\":\"BoxZoomTool\"},{\"attributes\":{},\"id\":\"30410ad9-0c48-4442-9581-ee07838d7b19\",\"type\":\"ResetTool\"},{\"attributes\":{},\"id\":\"57721311-ad99-4d05-a2e8-0e8cc4e326b4\",\"type\":\"BasicTickFormatter\"},{\"attributes\":{\"factors\":[\"SF\",\"PF\",\"SG\",\"PG\",\"C\",\"G\"],\"palette\":[\"#e41a1c\",\"#377eb8\",\"#4daf4a\",\"#984ea3\",\"#ff7f00\",\"#ffff33\",\"#a65628\",\"#f781bf\",\"#999999\"]},\"id\":\"4fece064-de14-4aa1-8159-8d6a51093f1e\",\"type\":\"CategoricalColorMapper\"},{\"attributes\":{},\"id\":\"2b252f8e-68bb-4009-987c-127259b739b1\",\"type\":\"CrosshairTool\"},{\"attributes\":{},\"id\":\"0082238f-9b80-499c-97a2-c22feff1370a\",\"type\":\"UnionRenderers\"},{\"attributes\":{\"data_source\":{\"id\":\"56a1b45e-1124-42f9-b500-cd7a75e1e98a\",\"type\":\"ColumnDataSource\"},\"glyph\":{\"id\":\"71ef4e11-a775-4550-8eda-30661f4e422c\",\"type\":\"Circle\"},\"hover_glyph\":null,\"muted_glyph\":null,\"nonselection_glyph\":{\"id\":\"17ede10f-982a-48b2-ae69-374b2e6ad042\",\"type\":\"Circle\"},\"selection_glyph\":null,\"view\":{\"id\":\"cc64a4c9-f3fb-4a2a-a827-12a7b399de9a\",\"type\":\"CDSView\"}},\"id\":\"f7f39dc3-d6b0-476f-8ca8-bd818d13df59\",\"type\":\"GlyphRenderer\"},{\"attributes\":{\"source\":{\"id\":\"56a1b45e-1124-42f9-b500-cd7a75e1e98a\",\"type\":\"ColumnDataSource\"}},\"id\":\"cc64a4c9-f3fb-4a2a-a827-12a7b399de9a\",\"type\":\"CDSView\"},{\"attributes\":{},\"id\":\"e4fc2048-cda0-441e-96bd-ce973fd1856e\",\"type\":\"Selection\"},{\"attributes\":{\"fill_alpha\":{\"value\":0.1},\"fill_color\":{\"value\":\"#1f77b4\"},\"line_alpha\":{\"value\":0.1},\"line_color\":{\"value\":\"#1f77b4\"},\"size\":{\"units\":\"screen\",\"value\":10},\"x\":{\"field\":\"FGA\"},\"y\":{\"field\":\"ThreeAttempt\"}},\"id\":\"17ede10f-982a-48b2-ae69-374b2e6ad042\",\"type\":\"Circle\"},{\"attributes\":{\"callback\":null,\"data\":{\"FGA\":[627,1415,978,1503,967,734,762,624,958,649,1173,645,509,408,807,1246,691,467,576,441,794,536,583,306,957,486,742,845,1056,981,488,427,375,643,1639,656,413,596,294,891,546,388,407,953,712,870,242,953,1004,874,472,1053,567,693,373,801,513,1155,1154,774,519,755,629,838,520,1538,1611,424,933,651,416,1005,801,575,602,529,531,829,640,509,822,691,1120,869,660,502,1018,505,770,949,603,522,1260,820,618,609,1376,613,684,675,813,612,568,463,570,890,936,654,633,825,623,999,921,1044,583,617,759,507,637,1059,1485,876,1319,642,926,495,1161,682,346,341,596,542,557,452,687,688,576,978,582,1309,1026,809,834,1267,979,747,428,604,514,386,570,899,578,844,988,550,620,811,632,838,402,1179,893,524,731,552,1069,928,1021,1001,1188,447,1056,667,681,670,1597,515,898,1129,333,776,784,1041,1482,827,1091,534,807,722,529,529,824,708,595,572,1384,972,851,582,307,1040,1390,975,806,795,537,730,572,658,1146,935,494,847],\"MP\":[2324,3211,2890,2751,1774,1796,2600,1609,2757,1669,2353,1980,2375,1818,2522,2361,1957,2097,2285,1674,2310,1646,1734,1581,2172,1841,2297,1882,2795,2809,1510,1781,1714,1568,2779,1738,1500,2102,1540,2051,1702,1579,2059,2401,1759,2360,1524,2872,2309,2297,1637,2489,1938,1649,1602,2298,1590,3208,2851,2778,1757,1971,2140,2156,1683,3038,3227,1549,2107,1796,1535,2737,2074,1821,2541,2297,1551,2541,2104,1671,2220,2586,3037,2152,1865,1742,2426,2095,2131,2112,2032,1636,2763,2427,1815,1674,3112,1535,2189,1665,2254,1724,1718,2079,1661,2244,2256,2291,2148,2409,2157,2901,2704,2935,2061,2216,2469,1505,1722,2405,3063,1842,2940,2459,2169,1853,2554,2069,1549,2047,2653,1999,1649,1571,2008,2103,1723,2634,1824,2889,2611,2563,2253,2603,2758,1869,2093,2193,1686,1597,2062,1969,1686,2650,2605,2222,1856,2497,1685,2319,1576,2504,2639,2287,2358,2091,2528,2880,2774,2562,2724,1513,2715,1919,2159,2527,3026,1754,2554,2412,2049,2133,1968,2645,2870,2183,2564,1748,1775,2540,1910,1797,2734,1666,1648,1594,2823,2606,2693,1872,1567,2451,2847,2465,2009,1747,1865,1788,1626,2410,3147,2034,1577,2135],\"Percentages\":{\"__ndarray__\":\"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\",\"dtype\":\"float64\",\"shape\":[214]},\"Player\":[\"Arron Afflalo\",\"LaMarcus Aldridge\",\"Ray Allen\",\"Carmelo Anthony\",\"Carmelo Anthony\",\"Gilbert Arenas\",\"Trevor Ariza\",\"Darrell Arthur\",\"D.J. Augustin\",\"J.J. Barea\",\"Andrea Bargnani\",\"Brandon Bass\",\"Shane Battier\",\"Shane Battier\",\"Nicolas Batum\",\"Michael Beasley\",\"Marco Belinelli\",\"Raja Bell\",\"Mike Bibby\",\"Mike Bibby\",\"Chauncey Billups\",\"Chauncey Billups\",\"DeJuan Blair\",\"Steve Blake\",\"Andray Blatche\",\"Eric Bledsoe\",\"Andrew Bogut\",\"Carlos Boozer\",\"Chris Bosh\",\"Elton Brand\",\"Corey Brewer\",\"Ronnie Brewer\",\"Kwame Brown\",\"Shannon Brown\",\"Kobe Bryant\",\"Chase Budinger\",\"Andrew Bynum\",\"Jose Calderon\",\"Marcus Camby\",\"Vince Carter\",\"Omri Casspi\",\"Mario Chalmers\",\"Tyson Chandler\",\"Wilson Chandler\",\"Wilson Chandler\",\"Darren Collison\",\"Nick Collison\",\"Mike Conley\",\"DeMarcus Cousins\",\"Jamal Crawford\",\"Dante Cunningham\",\"Stephen Curry\",\"Samuel Dalembert\",\"Baron Davis\",\"Ed Davis\",\"Glen Davis\",\"Carlos Delfino\",\"Luol Deng\",\"DeMar DeRozan\",\"Boris Diaw\",\"Keyon Dooling\",\"Toney Douglas\",\"Jared Dudley\",\"Tim Duncan\",\"Mike Dunleavy\",\"Kevin Durant\",\"Monta Ellis\",\"Maurice Evans\",\"Tyreke Evans\",\"Jordan Farmar\",\"Derrick Favors\",\"Raymond Felton\",\"Raymond Felton\",\"Rudy Fernandez\",\"Landry Fields\",\"Derek Fisher\",\"Randy Foye\",\"Channing Frye\",\"Danilo Gallinari\",\"Danilo Gallinari\",\"Kevin Garnett\",\"Marc Gasol\",\"Pau Gasol\",\"Rudy Gay\",\"Daniel Gibson\",\"Taj Gibson\",\"Manu Ginobili\",\"Ryan Gomes\",\"Ben Gordon\",\"Eric Gordon\",\"Marcin Gortat\",\"Marcin Gortat\",\"Danny Granger\",\"Jeff Green\",\"Jeff Green\",\"Willie Green\",\"Blake Griffin\",\"Tyler Hansbrough\",\"James Harden\",\"Al Harrington\",\"Devin Harris\",\"Devin Harris\",\"Spencer Hawes\",\"Chuck Hayes\",\"Gerald Henderson\",\"Roy Hibbert\",\"J.J. Hickson\",\"Nene Hilario\",\"George Hill\",\"Grant Hill\",\"Kirk Hinrich\",\"Jrue Holiday\",\"Al Horford\",\"Dwight Howard\",\"Kris Humphries\",\"Serge Ibaka\",\"Andre Iguodala\",\"Ersan Ilyasova\",\"Jarrett Jack\",\"Stephen Jackson\",\"LeBron James\",\"Antawn Jamison\",\"Al Jefferson\",\"Richard Jefferson\",\"Brandon Jennings\",\"Amir Johnson\",\"Joe Johnson\",\"Wesley Johnson\",\"James Jones\",\"DeAndre Jordan\",\"Jason Kidd\",\"Andrei Kirilenko\",\"Kyle Korver\",\"Nenad Krstic\",\"Carl Landry\",\"Ty Lawson\",\"Courtney Lee\",\"David Lee\",\"Rashard Lewis\",\"Brook Lopez\",\"Kevin Love\",\"Kyle Lowry\",\"Shawn Marion\",\"Kevin Martin\",\"Wesley Matthews\",\"O.J. Mayo\",\"Luc Mbah\",\"JaVale McGee\",\"Tracy McGrady\",\"Josh McRoberts\",\"Jodie Meeks\",\"C.J. Miles\",\"Darko Milicic\",\"Andre Miller\",\"Paul Millsap\",\"Greg Monroe\",\"Anthony Morrow\",\"Steve Nash\",\"Gary Neal\",\"Jameer Nelson\",\"Joakim Noah\",\"Dirk Nowitzki\",\"Lamar Odom\",\"Emeka Okafor\",\"Travis Outlaw\",\"Anthony Parker\",\"Tony Parker\",\"Chris Paul\",\"Paul Pierce\",\"Tayshaun Prince\",\"Zach Randolph\",\"J.J. Redick\",\"Jason Richardson\",\"Jason Richardson\",\"Luke Ridnour\",\"Rajon Rondo\",\"Derrick Rose\",\"Brandon Rush\",\"John Salmons\",\"Luis Scola\",\"Thabo Sefolosha\",\"Ramon Sessions\",\"J.R. Smith\",\"Josh Smith\",\"Amar'e Stoudemire\",\"Rodney Stuckey\",\"Jason Terry\",\"Jason Thompson\",\"Marcus Thornton\",\"Hedo Turkoglu\",\"Hedo Turkoglu\",\"Evan Turner\",\"Beno Udrih\",\"Charlie Villanueva\",\"Sasha Vujacic\",\"Sasha Vujacic\",\"Dwyane Wade\",\"John Wall\",\"Gerald Wallace\",\"Gerald Wallace\",\"Earl Watson\",\"David West\",\"Russell Westbrook\",\"Deron Williams\",\"Deron Williams\",\"Lou Williams\",\"Marvin Williams\",\"Mo Williams\",\"Reggie Williams\",\"Metta World\",\"Dorell Wright\",\"Nick Young\",\"Sam Young\",\"Thaddeus Young\"],\"Position\":[\"SG\",\"PF\",\"SG\",\"SF\",\"SF\",\"PG\",\"SF\",\"PF\",\"PG\",\"PG\",\"C\",\"PF\",\"SF\",\"SF\",\"SF\",\"SF\",\"SG\",\"SG\",\"PG\",\"PG\",\"PG\",\"PG\",\"PF\",\"PG\",\"PF\",\"PG\",\"C\",\"C\",\"PF\",\"PF\",\"SF\",\"SG\",\"C\",\"SG\",\"SG\",\"SF\",\"C\",\"PG\",\"C\",\"SG\",\"SF\",\"PG\",\"C\",\"SF\",\"SF\",\"PG\",\"C\",\"PG\",\"C\",\"SG\",\"PF\",\"PG\",\"C\",\"PG\",\"PF\",\"C\",\"SF\",\"SF\",\"SG\",\"PF\",\"PG\",\"SG\",\"SF\",\"C\",\"SG\",\"SF\",\"SG\",\"SF\",\"SG\",\"PG\",\"PF\",\"PG\",\"PG\",\"SG\",\"SG\",\"PG\",\"SG\",\"PF\",\"PF\",\"PF\",\"PF\",\"C\",\"C\",\"SF\",\"SG\",\"PF\",\"SG\",\"SF\",\"SG\",\"SG\",\"C\",\"C\",\"SF\",\"PF\",\"PF\",\"SG\",\"PF\",\"PF\",\"SG\",\"PF\",\"PG\",\"PG\",\"C\",\"C\",\"SG\",\"C\",\"C\",\"C\",\"PG\",\"SF\",\"SG\",\"PG\",\"C\",\"C\",\"PF\",\"PF\",\"SF\",\"PF\",\"SG\",\"SG\",\"SF\",\"PF\",\"C\",\"SF\",\"PG\",\"PF\",\"SG\",\"SG\",\"SF\",\"C\",\"PG\",\"SF\",\"SG\",\"C\",\"PF\",\"PG\",\"SG\",\"PF\",\"SF\",\"C\",\"PF\",\"PG\",\"SF\",\"SG\",\"SG\",\"SG\",\"PF\",\"C\",\"SG\",\"PF\",\"SG\",\"SF\",\"C\",\"PG\",\"PF\",\"C\",\"SG\",\"PG\",\"SG\",\"PG\",\"C\",\"PF\",\"PF\",\"C\",\"SF\",\"SF\",\"PG\",\"PG\",\"SF\",\"SF\",\"PF\",\"SG\",\"SG\",\"SG\",\"PG\",\"PG\",\"PG\",\"SG\",\"SG\",\"PF\",\"SG\",\"PG\",\"SF\",\"PF\",\"C\",\"PG\",\"SG\",\"PF\",\"SG\",\"SF\",\"SF\",\"SG\",\"PG\",\"PF\",\"SG\",\"SG\",\"SG\",\"PG\",\"SF\",\"SF\",\"PG\",\"PF\",\"PG\",\"PG\",\"PG\",\"SG\",\"SF\",\"PG\",\"SF\",\"SF\",\"SF\",\"SG\",\"SF\",\"PF\"],\"Team\":[\"DEN\",\"POR\",\"BOS\",\"TOT\",\"DEN\",\"TOT\",\"NOH\",\"MEM\",\"CHA\",\"DAL\",\"TOR\",\"ORL\",\"TOT\",\"HOU\",\"POR\",\"MIN\",\"NOH\",\"UTA\",\"TOT\",\"ATL\",\"TOT\",\"DEN\",\"SAS\",\"LAL\",\"WAS\",\"LAC\",\"MIL\",\"CHI\",\"MIA\",\"PHI\",\"TOT\",\"CHI\",\"CHA\",\"LAL\",\"LAL\",\"HOU\",\"LAL\",\"TOR\",\"POR\",\"TOT\",\"SAC\",\"MIA\",\"DAL\",\"TOT\",\"NYK\",\"IND\",\"OKC\",\"MEM\",\"SAC\",\"ATL\",\"TOT\",\"GSW\",\"SAC\",\"TOT\",\"TOR\",\"BOS\",\"MIL\",\"CHI\",\"TOR\",\"CHA\",\"MIL\",\"NYK\",\"PHO\",\"SAS\",\"IND\",\"OKC\",\"GSW\",\"TOT\",\"SAC\",\"NJN\",\"TOT\",\"TOT\",\"NYK\",\"POR\",\"NYK\",\"LAL\",\"LAC\",\"PHO\",\"TOT\",\"NYK\",\"BOS\",\"MEM\",\"LAL\",\"MEM\",\"CLE\",\"CHI\",\"SAS\",\"LAC\",\"DET\",\"LAC\",\"TOT\",\"PHO\",\"IND\",\"TOT\",\"OKC\",\"NOH\",\"LAC\",\"IND\",\"OKC\",\"DEN\",\"TOT\",\"NJN\",\"PHI\",\"HOU\",\"CHA\",\"IND\",\"CLE\",\"DEN\",\"SAS\",\"PHO\",\"TOT\",\"PHI\",\"ATL\",\"ORL\",\"NJN\",\"OKC\",\"PHI\",\"MIL\",\"TOT\",\"CHA\",\"MIA\",\"CLE\",\"UTA\",\"SAS\",\"MIL\",\"TOR\",\"ATL\",\"MIN\",\"MIA\",\"LAC\",\"DAL\",\"UTA\",\"CHI\",\"TOT\",\"TOT\",\"DEN\",\"HOU\",\"GSW\",\"TOT\",\"NJN\",\"MIN\",\"HOU\",\"DAL\",\"HOU\",\"POR\",\"MEM\",\"MIL\",\"WAS\",\"DET\",\"IND\",\"PHI\",\"UTA\",\"MIN\",\"POR\",\"UTA\",\"DET\",\"NJN\",\"PHO\",\"SAS\",\"ORL\",\"CHI\",\"DAL\",\"LAL\",\"NOH\",\"NJN\",\"CLE\",\"SAS\",\"NOH\",\"BOS\",\"DET\",\"MEM\",\"ORL\",\"TOT\",\"ORL\",\"MIN\",\"BOS\",\"CHI\",\"IND\",\"MIL\",\"HOU\",\"OKC\",\"CLE\",\"DEN\",\"ATL\",\"NYK\",\"DET\",\"DAL\",\"SAC\",\"TOT\",\"TOT\",\"ORL\",\"PHI\",\"SAC\",\"DET\",\"TOT\",\"NJN\",\"MIA\",\"WAS\",\"TOT\",\"CHA\",\"UTA\",\"NOH\",\"OKC\",\"TOT\",\"UTA\",\"PHI\",\"ATL\",\"TOT\",\"GSW\",\"LAL\",\"GSW\",\"WAS\",\"MEM\",\"PHI\"],\"ThreeAttempt\":{\"__ndarray__\":\"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\",\"dtype\":\"float64\",\"shape\":[214]},\"ThreeMade\":{\"__ndarray__\":\"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\",\"dtype\":\"float64\",\"shape\":[214]},\"ThreeRatio\":{\"__ndarray__\":\"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\",\"dtype\":\"float64\",\"shape\":[214]},\"TwoPointAttempt\":[379,1392,600,1252,841,407,491,618,625,460,950,643,242,183,465,1082,367,274,228,185,431,298,581,113,939,370,738,845,1031,980,376,400,375,431,1283,382,413,440,293,570,299,157,407,633,467,746,242,736,986,525,459,711,565,454,373,786,229,822,1102,548,285,372,376,834,266,1124,1232,257,785,347,416,676,533,214,383,370,314,390,347,270,817,684,1117,725,367,494,577,294,504,658,599,518,853,609,434,454,1352,611,360,347,633,502,531,461,534,886,931,649,429,711,435,777,917,1037,582,616,578,386,529,700,1206,613,1319,335,623,494,861,393,59,340,205,444,268,452,683,517,402,975,338,1308,815,466,801,808,601,483,421,601,426,326,222,560,578,807,965,549,360,606,324,541,401,1011,715,523,479,325,999,745,724,903,1145,228,577,336,497,627,1212,292,679,1126,231,761,466,887,1459,737,740,531,567,412,316,485,642,385,333,317,1178,857,665,476,200,1031,1287,658,548,542,427,486,331,425,630,664,444,825],\"TwoPointMade\":[207,703,312,589,395,172,221,310,288,219,448,332,127,98,249,501,168,123,95,79,193,130,292,37,422,174,367,431,518,502,163,199,194,199,625,190,237,205,117,273,133,72,266,317,242,357,137,343,429,249,217,354,268,208,215,357,95,416,534,303,125,171,195,419,138,566,589,122,339,146,215,311,251,97,213,143,135,187,162,128,433,361,592,352,146,233,287,135,232,321,337,293,378,304,214,216,689,285,185,164,285,227,255,244,252,410,429,401,210,354,203,365,511,619,307,335,277,185,227,314,666,283,654,169,263,281,425,168,23,234,82,217,122,231,345,277,182,495,165,644,394,216,429,377,286,208,198,332,197,188,104,257,271,384,516,303,169,318,156,255,211,544,405,300,198,134,530,359,396,439,590,110,283,162,238,308,583,124,290,569,129,359,217,446,734,337,365,271,262,195,151,211,347,188,142,137,629,364,324,217,90,526,580,323,280,235,209,212,166,178,291,307,216,452]},\"selected\":{\"id\":\"e4fc2048-cda0-441e-96bd-ce973fd1856e\",\"type\":\"Selection\"},\"selection_policy\":{\"id\":\"0082238f-9b80-499c-97a2-c22feff1370a\",\"type\":\"UnionRenderers\"}},\"id\":\"56a1b45e-1124-42f9-b500-cd7a75e1e98a\",\"type\":\"ColumnDataSource\"},{\"attributes\":{\"items\":[{\"id\":\"f4c6dcee-b29c-438e-b0a9-b80883624fbb\",\"type\":\"LegendItem\"}],\"plot\":{\"id\":\"4a34a450-cb8e-4e2c-baba-09bdc6e21383\",\"subtype\":\"Figure\",\"type\":\"Plot\"}},\"id\":\"401fa809-5068-4244-a23e-39c75537244b\",\"type\":\"Legend\"}],\"root_ids\":[\"4a34a450-cb8e-4e2c-baba-09bdc6e21383\"]},\"title\":\"Bokeh Application\",\"version\":\"0.12.16\"}};\n",
       "  var render_items = [{\"docid\":\"bd838783-f36f-4bc4-b0cb-6d61c8433903\",\"elementid\":\"41fe7b99-97a1-46b1-92ca-a77b9152c197\",\"modelid\":\"4a34a450-cb8e-4e2c-baba-09bdc6e21383\",\"notebook_comms_target\":\"1d5831cc-8290-4881-817a-d485003566f5\"}];\n",
       "  root.Bokeh.embed.embed_items_notebook(docs_json, render_items);\n",
       "\n",
       "  }\n",
       "  if (root.Bokeh !== undefined) {\n",
       "    embed_document(root);\n",
       "  } else {\n",
       "    var attempts = 0;\n",
       "    var timer = setInterval(function(root) {\n",
       "      if (root.Bokeh !== undefined) {\n",
       "        embed_document(root);\n",
       "        clearInterval(timer);\n",
       "      }\n",
       "      attempts++;\n",
       "      if (attempts > 100) {\n",
       "        console.log(\"Bokeh: ERROR: Unable to run BokehJS code because BokehJS library is missing\")\n",
       "        clearInterval(timer);\n",
       "      }\n",
       "    }, 10, root)\n",
       "  }\n",
       "})(window);"
      ],
      "application/vnd.bokehjs_exec.v0+json": ""
     },
     "metadata": {
      "application/vnd.bokehjs_exec.v0+json": {
       "id": "4a34a450-cb8e-4e2c-baba-09bdc6e21383"
      }
     },
     "output_type": "display_data"
    },
    {
     "data": {
      "application/vnd.jupyter.widget-view+json": {
       "model_id": "445fcbc96c0f49f8b05c360ba0bee703",
       "version_major": 2,
       "version_minor": 0
      },
      "text/plain": [
       "interactive(children=(IntSlider(value=1980, description='Slider Year:', max=2017, min=1980), Output()), _dom_c…"
      ]
     },
     "metadata": {},
     "output_type": "display_data"
    },
    {
     "data": {
      "application/vnd.jupyter.widget-view+json": {
       "model_id": "d605d03d48d44b9b9e0da253f67093bb",
       "version_major": 2,
       "version_minor": 0
      },
      "text/plain": [
       "interactive(children=(Play(value=1979, description='Year', max=2017, min=1979), Output()), _dom_classes=('widg…"
      ]
     },
     "metadata": {},
     "output_type": "display_data"
    },
    {
     "data": {
      "application/vnd.jupyter.widget-view+json": {
       "model_id": "9cab6d52004345239937bc1129704886",
       "version_major": 2,
       "version_minor": 0
      },
      "text/plain": [
       "interactive(children=(BoundedIntText(value=1980, description='Put A Year:', max=2017, min=1980), Output()), _d…"
      ]
     },
     "metadata": {},
     "output_type": "display_data"
    }
   ],
   "source": [
    "import pandas as pd\n",
    "from bokeh.models import ColumnDataSource\n",
    "from bokeh.models import HoverTool\n",
    "from bokeh.models import LinearInterpolator\n",
    "from bokeh.models import CategoricalColorMapper\n",
    "from bokeh.palettes import Set1_9\n",
    "from bokeh.models import Circle\n",
    "from bokeh.plotting import figure\n",
    "from ipywidgets import interact, interactive, fixed, interact_manual,widgets\n",
    "from bokeh.io import push_notebook,show\n",
    "\n",
    "\n",
    "data3 = pd.read_csv('nba-players-stats/SeasonStats1200MP3.0.csv',index_col=['Year'])\n",
    "\n",
    "source = ColumnDataSource(dict(\n",
    "     ThreeMade = data3.loc[2011].ThreeMade,  \n",
    "    ThreeAttempt  = data3.loc[2011].ThreeAttempt,\n",
    "    Percentages = data3.loc[2011].Threepercent,\n",
    "    Player = data3.loc[2011].Player,\n",
    "    Position = data3.loc[2011].Pos,\n",
    "    Team = data3.loc[2011].Tm,\n",
    "    MP = data3.loc[2011].MP,\n",
    "    ThreeRatio = data3.loc[2011].get('3PAr'),\n",
    "    FGA= data3.loc[2011].get('FGA'),\n",
    "    TwoPointMade = data3.loc[2011].get('2P'),\n",
    "    TwoPointAttempt = data3.loc[2011].get('2PA')\n",
    "))\n",
    "\n",
    "\n",
    "mapping_coloring = CategoricalColorMapper(\n",
    "    factors = list(data3.Pos.unique()),\n",
    "    palette = Set1_9\n",
    ")\n",
    "\n",
    "\n",
    "Hover_tools = HoverTool(tooltips = [\n",
    "     #('Year', '@Year'),\n",
    "    ('Field Goal Attempted Total per Season', \"@FGA\"),\n",
    "     ('3P Attempted total in a Season', \"@ThreeAttempt\"),\n",
    "     ('2P Attempted total in a Season','@TwoPointAttempt'),\n",
    "    ('Player', '@Player'),\n",
    "    ('3PAr','@ThreeRatio')])\n",
    "\n",
    "p5 = figure( tools = [Hover_tools,'pan', 'wheel_zoom','box_zoom','reset','crosshair'],\n",
    "            height=600,\n",
    "           width = 600,\n",
    "           x_range = (0,2000),\n",
    "           y_range=(0,1000),\n",
    "          title = \"3PA vs FGA (3PA/FGA = 3PAr )\",\n",
    "          x_axis_label = \"Field Goal Attempt Total in a  Season\",\n",
    "           y_axis_label = \"3P attempts Total in a Season\"\n",
    "        )\n",
    "\n",
    "\n",
    "p5.circle(x='FGA', \n",
    "         y='ThreeAttempt',\n",
    "         size = 10,\n",
    "         #size = {'field':'population','transform':relative_size},\n",
    "        color = {'field': 'Position','transform': mapping_coloring},\n",
    "         alpha = 0.6,\n",
    "         legend = 'Position',\n",
    "        source = source)\n",
    "\n",
    "\n",
    "def update(Year):\n",
    "    interactivedata = dict(\n",
    "    ThreeMade = data3.loc[Year].ThreeMade,  \n",
    "    ThreeAttempt  = data3.loc[Year].ThreeAttempt,\n",
    "    Percentages = data3.loc[Year].Threepercent,\n",
    "    Player = data3.loc[Year].Player,\n",
    "    Position = data3.loc[Year].Pos,\n",
    "    Team = data3.loc[Year].Tm,\n",
    "    MP = data3.loc[Year].MP,\n",
    "    ThreeRatio = data3.loc[Year].get('3PAr'),\n",
    "    FGA= data3.loc[Year].get('FGA'),\n",
    "    TwoPointMade = data3.loc[Year].get('2P'),\n",
    "    TwoPointAttempt = data3.loc[Year].get('2PA')\n",
    "    )\n",
    "    \n",
    "    \n",
    " \n",
    "    source.data = interactivedata\n",
    "    p5.title.text=\"FGA vs 3PA (3PA/FGA = 3PAr )\"+ \"Season:\"+  str(Year-1) + \"-\" + str(Year)\n",
    "   # p.title.text_font_size = fontsize 10;\n",
    "    push_notebook()\n",
    "\n",
    "show(p5,notebook_handle=True)\n",
    "interact(update,\n",
    "    Year = widgets.IntSlider(\n",
    "    value=0,\n",
    "    min=1980,\n",
    "    max=2017,\n",
    "    step=1,\n",
    "    description='Slider Year:',\n",
    "    continuous_update=True,\n",
    "    orientation='Horizontal',\n",
    "    readout=True,\n",
    "    readout_format='d',\n",
    "));\n",
    "\n",
    "interact(update,\n",
    "    Year = widgets.Play( \n",
    "    value=0,\n",
    "    min=1979,\n",
    "    max=2017,\n",
    "    step=1,\n",
    "    disabled=False\n",
    "));\n",
    "    \n",
    "\n",
    "interact(update,\n",
    "    Year = widgets.BoundedIntText(\n",
    "    value=0,\n",
    "    min=1980,\n",
    "    max=2017,\n",
    "   # continuous_update=True,\n",
    "    step=1,\n",
    "    description='Put A Year:',\n",
    "    disabled=False\n",
    "));\n",
    "#ryan ANderson 2012\n",
    "#richard Lewis 2009\n",
    "#Antonio Walker 2003,2002,2001\n"
   ]
  },
  {
   "cell_type": "markdown",
   "metadata": {
    "extensions": {
     "jupyter_dashboards": {
      "version": 1,
      "views": {
       "grid_default": {
        "col": 0,
        "height": 5,
        "hidden": false,
        "row": 472,
        "width": 12
       },
       "report_default": {
        "hidden": false
       }
      }
     }
    }
   },
   "source": [
    "# Teams displays make/attempt more three pointers per game \n",
    "\n",
    "\n",
    "### Explanation "
   ]
  },
  {
   "cell_type": "code",
   "execution_count": 31,
   "metadata": {
    "extensions": {
     "jupyter_dashboards": {
      "version": 1,
      "views": {
       "grid_default": {
        "col": 7,
        "height": 4,
        "hidden": false,
        "row": 245,
        "width": 4
       },
       "report_default": {
        "hidden": false
       }
      }
     }
    }
   },
   "outputs": [
    {
     "data": {
      "application/vnd.jupyter.widget-view+json": {
       "model_id": "0e4a8efa1c1f4892a1ba98a1b3ca4e35",
       "version_major": 2,
       "version_minor": 0
      },
      "text/plain": [
       "Button(description='Run Cell Below', style=ButtonStyle())"
      ]
     },
     "metadata": {},
     "output_type": "display_data"
    }
   ],
   "source": [
    "from IPython.display import Javascript, display\n",
    "from ipywidgets import widgets\n",
    "\n",
    "\n",
    "def run_all(ev):\n",
    "    display(Javascript('IPython.notebook.execute_cell_range(IPython.notebook.get_selected_index()+1, IPython.notebook.get_selected_index()+2)'))\n",
    "\n",
    "button = widgets.Button(description=\"Run Cell Below\")\n",
    "button.on_click(run_all)\n",
    "display(button)"
   ]
  },
  {
   "cell_type": "code",
   "execution_count": 32,
   "metadata": {
    "extensions": {
     "jupyter_dashboards": {
      "version": 1,
      "views": {
       "grid_default": {
        "col": 0,
        "height": 12,
        "hidden": false,
        "row": 477,
        "width": 9
       },
       "report_default": {
        "hidden": false
       }
      }
     }
    },
    "scrolled": false
   },
   "outputs": [
    {
     "data": {
      "text/html": [
       "\n",
       "<div class=\"bk-root\">\n",
       "    <div class=\"bk-plotdiv\" id=\"7e147efd-ff0b-4ca9-ba66-4cb701209d21\"></div>\n",
       "</div>"
      ]
     },
     "metadata": {},
     "output_type": "display_data"
    },
    {
     "data": {
      "application/javascript": [
       "(function(root) {\n",
       "  function embed_document(root) {\n",
       "    \n",
       "  var docs_json = {\"d3b8aa91-95c1-41f0-ba2e-f22d9974cdd7\":{\"roots\":{\"references\":[{\"attributes\":{},\"id\":\"16ebbf0c-cd00-49a1-9442-a8f54fece842\",\"type\":\"WheelZoomTool\"},{\"attributes\":{\"overlay\":{\"id\":\"fd479fd3-e1bf-4c3e-819b-85a98fba65f2\",\"type\":\"BoxAnnotation\"}},\"id\":\"704ec61d-e649-4759-b6db-be0c12a9bfa0\",\"type\":\"BoxZoomTool\"},{\"attributes\":{},\"id\":\"1534928c-8183-4e8b-a441-61b1bbd36e64\",\"type\":\"ResetTool\"},{\"attributes\":{},\"id\":\"43271bc2-8d1f-4ca7-af89-04f79c395d3d\",\"type\":\"CrosshairTool\"},{\"attributes\":{\"plot\":null,\"text\":\"\"},\"id\":\"6cebb599-4ce3-40a8-8750-ba31196dc42b\",\"type\":\"Title\"},{\"attributes\":{\"data_source\":{\"id\":\"3c7ae4e4-1ce7-4455-bc97-7573f705e336\",\"type\":\"ColumnDataSource\"},\"glyph\":{\"id\":\"d4126395-d497-4262-ac11-b792b3dbe846\",\"type\":\"Circle\"},\"hover_glyph\":null,\"muted_glyph\":null,\"nonselection_glyph\":{\"id\":\"4ecd2c74-ce7e-4339-b941-ed3cac7d4010\",\"type\":\"Circle\"},\"selection_glyph\":null,\"view\":{\"id\":\"3f85deb9-9137-453d-8ce1-d9e0fe43548b\",\"type\":\"CDSView\"}},\"id\":\"95045570-dd9c-455b-ba1c-67049acfa46d\",\"type\":\"GlyphRenderer\"},{\"attributes\":{\"source\":{\"id\":\"3c7ae4e4-1ce7-4455-bc97-7573f705e336\",\"type\":\"ColumnDataSource\"}},\"id\":\"3f85deb9-9137-453d-8ce1-d9e0fe43548b\",\"type\":\"CDSView\"},{\"attributes\":{},\"id\":\"ba0cab89-016d-450a-bd01-9e7d1e6154a3\",\"type\":\"UnionRenderers\"},{\"attributes\":{\"callback\":null,\"renderers\":\"auto\",\"tooltips\":[[\"Attempt\",\"@y\"],[\"Made\",\"@x\"],[\"Team\",\"@tm\"]]},\"id\":\"f9d06cdf-bc39-4bea-bc68-4c9669fa575e\",\"type\":\"HoverTool\"},{\"attributes\":{},\"id\":\"fa0d8031-77aa-4d90-8826-9b6d63be17c3\",\"type\":\"BasicTickFormatter\"},{\"attributes\":{\"callback\":null,\"data\":{\"pts\":{\"__ndarray__\":\"AAAAAAAgWECamZmZmflWQGZmZmZmplhAAAAAAADgV0BmZmZmZoZZQAAAAAAAYFlAmpmZmZl5WkDNzMzMzOxZQJqZmZmZ2VlAAAAAAADAV0DNzMzMzAxZQAAAAAAAQFhAmpmZmZnZWEAAAAAAAKBaQDMzMzMzM1pAMzMzMzMTWEAAAAAAAMBYQDMzMzMzU1hA\",\"dtype\":\"float64\",\"shape\":[18]},\"tm\":[\"BOS\",\"MIL\",\"CHI\",\"CLE\",\"MIA\",\"LAL\",\"HOU\",\"SAS\",\"GSW\",\"ATL\",\"DAL\",\"DET\",\"SAC\",\"NYK\",\"OKC\",\"POR\",\"PHI\",\"WAS\"],\"win\":[56,35,62,19,58,57,43,61,36,44,57,30,24,42,55,48,41,23],\"x\":{\"__ndarray__\":\"AAAAAAAAFECamZmZmZkXQM3MzMzMzBhAzczMzMzMGEDNzMzMzMwaQJqZmZmZmRlAmpmZmZmZIEDNzMzMzMwgQM3MzMzMzCBAZmZmZmZmGECamZmZmZkfQDMzMzMzMxdAzczMzMzMFECamZmZmZkiQJqZmZmZmRdAMzMzMzMzGUCamZmZmZkVQDMzMzMzMxNA\",\"dtype\":\"float64\",\"shape\":[18]},\"y\":{\"__ndarray__\":\"MzMzMzMzK0AzMzMzMzMxQM3MzMzMTDFAMzMzMzMzMkAAAAAAAAAyQJqZmZmZGTJAAAAAAACANkCamZmZmRk1QM3MzMzMTDVAZmZmZmZmMUCamZmZmZk1QJqZmZmZmS5AMzMzMzMzL0BmZmZmZmY5QJqZmZmZGTFAzczMzMxMMkBmZmZmZmYuQM3MzMzMzCxA\",\"dtype\":\"float64\",\"shape\":[18]}},\"selected\":{\"id\":\"eedc8ad4-ef70-46d8-a419-dea2e8d3ef99\",\"type\":\"Selection\"},\"selection_policy\":{\"id\":\"ba0cab89-016d-450a-bd01-9e7d1e6154a3\",\"type\":\"UnionRenderers\"}},\"id\":\"3c7ae4e4-1ce7-4455-bc97-7573f705e336\",\"type\":\"ColumnDataSource\"},{\"attributes\":{\"fill_color\":{\"field\":\"tm\",\"transform\":{\"id\":\"b78ce120-d96b-4967-bed1-0838a411bf16\",\"type\":\"CategoricalColorMapper\"}},\"line_color\":{\"field\":\"tm\",\"transform\":{\"id\":\"b78ce120-d96b-4967-bed1-0838a411bf16\",\"type\":\"CategoricalColorMapper\"}},\"size\":{\"units\":\"screen\",\"value\":12},\"x\":{\"field\":\"y\"},\"y\":{\"field\":\"x\"}},\"id\":\"d4126395-d497-4262-ac11-b792b3dbe846\",\"type\":\"Circle\"},{\"attributes\":{\"factors\":[\"BOS\",\"MIL\",\"CHI\",\"CLE\",\"MIA\",\"LAL\",\"MNL\",\"HOU\",\"SDR\",\"SAS\",\"SAA\",\"DLC\",\"TEX\",\"GSW\",\"SFW\",\"PHW\",\"ATL\",\"STL\",\"MLH\",\"TRI\",\"DAL\",\"DET\",\"FTW\",\"SAC\",\"KCK\",\"KCO\",\"CIN\",\"ROC\",\"NYK\",\"OKC\",\"SEA\",\"POR\",\"PHI\",\"SYR\",\"WAS\",\"WSB\",\"CAP\",\"BAL\",\"CHZ\",\"CHP\"],\"palette\":[\"#1f77b4\",\"#aec7e8\",\"#ff7f0e\",\"#ffbb78\",\"#2ca02c\",\"#98df8a\",\"#d62728\",\"#ff9896\",\"#9467bd\",\"#c5b0d5\",\"#8c564b\",\"#c49c94\",\"#e377c2\",\"#f7b6d2\",\"#7f7f7f\",\"#c7c7c7\",\"#bcbd22\",\"#dbdb8d\",\"#17becf\",\"#9edae5\",\"#800026\",\"#bd0026\",\"#e31a1c\",\"#fc4e2a\",\"#fd8d3c\",\"#feb24c\",\"#fed976\",\"#ffeda0\",\"#ffffcc\",\"#a6cee3\",\"#1f78b4\",\"#b2df8a\",\"#33a02c\",\"#fb9a99\",\"#e31a1c\",\"#fdbf6f\",\"#ff7f00\",\"#cab2d6\",\"#6a3d9a\",\"#ffff99\"]},\"id\":\"b78ce120-d96b-4967-bed1-0838a411bf16\",\"type\":\"CategoricalColorMapper\"},{\"attributes\":{},\"id\":\"eedc8ad4-ef70-46d8-a419-dea2e8d3ef99\",\"type\":\"Selection\"},{\"attributes\":{\"fill_alpha\":{\"value\":0.1},\"fill_color\":{\"value\":\"#1f77b4\"},\"line_alpha\":{\"value\":0.1},\"line_color\":{\"value\":\"#1f77b4\"},\"size\":{\"units\":\"screen\",\"value\":12},\"x\":{\"field\":\"y\"},\"y\":{\"field\":\"x\"}},\"id\":\"4ecd2c74-ce7e-4339-b941-ed3cac7d4010\",\"type\":\"Circle\"},{\"attributes\":{\"below\":[{\"id\":\"2a1fbc3d-afcc-4e2a-8f69-09d6f36b1bdb\",\"type\":\"LinearAxis\"}],\"left\":[{\"id\":\"6e695f85-3daa-4b6b-8e0a-683d39808bfb\",\"type\":\"LinearAxis\"}],\"renderers\":[{\"id\":\"2a1fbc3d-afcc-4e2a-8f69-09d6f36b1bdb\",\"type\":\"LinearAxis\"},{\"id\":\"97059fda-f82d-4714-8bdc-f1235e3d481a\",\"type\":\"Grid\"},{\"id\":\"6e695f85-3daa-4b6b-8e0a-683d39808bfb\",\"type\":\"LinearAxis\"},{\"id\":\"223f559e-4b7b-4a59-bea6-c88c8a559fd3\",\"type\":\"Grid\"},{\"id\":\"fd479fd3-e1bf-4c3e-819b-85a98fba65f2\",\"type\":\"BoxAnnotation\"},{\"id\":\"327886d5-59c5-49e0-bfaa-593f2d53dcfd\",\"type\":\"Legend\"},{\"id\":\"95045570-dd9c-455b-ba1c-67049acfa46d\",\"type\":\"GlyphRenderer\"}],\"right\":[{\"id\":\"327886d5-59c5-49e0-bfaa-593f2d53dcfd\",\"type\":\"Legend\"}],\"title\":{\"id\":\"6cebb599-4ce3-40a8-8750-ba31196dc42b\",\"type\":\"Title\"},\"toolbar\":{\"id\":\"8e2fdd36-d601-4985-a888-6592e52e1d85\",\"type\":\"Toolbar\"},\"x_range\":{\"id\":\"fcff5c14-c42d-41b0-ae20-053780edea03\",\"type\":\"Range1d\"},\"x_scale\":{\"id\":\"dd9d940b-393b-404f-85c9-70a3e6988f90\",\"type\":\"LinearScale\"},\"y_range\":{\"id\":\"3e8666da-b617-4b61-82ee-2c53b698f2bb\",\"type\":\"Range1d\"},\"y_scale\":{\"id\":\"f4689b27-2489-49ce-b5bb-53d054e52f56\",\"type\":\"LinearScale\"}},\"id\":\"13879077-4af5-4c8a-8bed-d442e10a3c93\",\"subtype\":\"Figure\",\"type\":\"Plot\"},{\"attributes\":{\"active_drag\":\"auto\",\"active_inspect\":\"auto\",\"active_scroll\":\"auto\",\"active_tap\":\"auto\",\"tools\":[{\"id\":\"f9d06cdf-bc39-4bea-bc68-4c9669fa575e\",\"type\":\"HoverTool\"},{\"id\":\"a94b5538-1196-491f-94f1-ee72ab41c13f\",\"type\":\"PanTool\"},{\"id\":\"16ebbf0c-cd00-49a1-9442-a8f54fece842\",\"type\":\"WheelZoomTool\"},{\"id\":\"704ec61d-e649-4759-b6db-be0c12a9bfa0\",\"type\":\"BoxZoomTool\"},{\"id\":\"1534928c-8183-4e8b-a441-61b1bbd36e64\",\"type\":\"ResetTool\"},{\"id\":\"43271bc2-8d1f-4ca7-af89-04f79c395d3d\",\"type\":\"CrosshairTool\"}]},\"id\":\"8e2fdd36-d601-4985-a888-6592e52e1d85\",\"type\":\"Toolbar\"},{\"attributes\":{\"callback\":null,\"end\":20},\"id\":\"3e8666da-b617-4b61-82ee-2c53b698f2bb\",\"type\":\"Range1d\"},{\"attributes\":{\"callback\":null,\"end\":50},\"id\":\"fcff5c14-c42d-41b0-ae20-053780edea03\",\"type\":\"Range1d\"},{\"attributes\":{},\"id\":\"f4689b27-2489-49ce-b5bb-53d054e52f56\",\"type\":\"LinearScale\"},{\"attributes\":{},\"id\":\"dd9d940b-393b-404f-85c9-70a3e6988f90\",\"type\":\"LinearScale\"},{\"attributes\":{\"plot\":{\"id\":\"13879077-4af5-4c8a-8bed-d442e10a3c93\",\"subtype\":\"Figure\",\"type\":\"Plot\"},\"ticker\":{\"id\":\"6127904b-a5ff-484b-ab6b-44d3610fc7e5\",\"type\":\"BasicTicker\"}},\"id\":\"97059fda-f82d-4714-8bdc-f1235e3d481a\",\"type\":\"Grid\"},{\"attributes\":{\"axis_label\":\"3 point Attempt\",\"formatter\":{\"id\":\"fa0d8031-77aa-4d90-8826-9b6d63be17c3\",\"type\":\"BasicTickFormatter\"},\"plot\":{\"id\":\"13879077-4af5-4c8a-8bed-d442e10a3c93\",\"subtype\":\"Figure\",\"type\":\"Plot\"},\"ticker\":{\"id\":\"6127904b-a5ff-484b-ab6b-44d3610fc7e5\",\"type\":\"BasicTicker\"}},\"id\":\"2a1fbc3d-afcc-4e2a-8f69-09d6f36b1bdb\",\"type\":\"LinearAxis\"},{\"attributes\":{},\"id\":\"6127904b-a5ff-484b-ab6b-44d3610fc7e5\",\"type\":\"BasicTicker\"},{\"attributes\":{\"axis_label\":\"3 point Made\",\"formatter\":{\"id\":\"ca670d21-aed5-4e66-b881-55a08b7a331d\",\"type\":\"BasicTickFormatter\"},\"plot\":{\"id\":\"13879077-4af5-4c8a-8bed-d442e10a3c93\",\"subtype\":\"Figure\",\"type\":\"Plot\"},\"ticker\":{\"id\":\"7f4ad8eb-a00a-4aa9-a8ed-c22c3f48f4a1\",\"type\":\"BasicTicker\"}},\"id\":\"6e695f85-3daa-4b6b-8e0a-683d39808bfb\",\"type\":\"LinearAxis\"},{\"attributes\":{},\"id\":\"7f4ad8eb-a00a-4aa9-a8ed-c22c3f48f4a1\",\"type\":\"BasicTicker\"},{\"attributes\":{\"dimension\":1,\"plot\":{\"id\":\"13879077-4af5-4c8a-8bed-d442e10a3c93\",\"subtype\":\"Figure\",\"type\":\"Plot\"},\"ticker\":{\"id\":\"7f4ad8eb-a00a-4aa9-a8ed-c22c3f48f4a1\",\"type\":\"BasicTicker\"}},\"id\":\"223f559e-4b7b-4a59-bea6-c88c8a559fd3\",\"type\":\"Grid\"},{\"attributes\":{\"items\":[{\"id\":\"7346a5f0-1a8e-48e1-80e3-fa951d4de3c9\",\"type\":\"LegendItem\"}],\"plot\":{\"id\":\"13879077-4af5-4c8a-8bed-d442e10a3c93\",\"subtype\":\"Figure\",\"type\":\"Plot\"}},\"id\":\"327886d5-59c5-49e0-bfaa-593f2d53dcfd\",\"type\":\"Legend\"},{\"attributes\":{\"label\":{\"field\":\"tm\"},\"renderers\":[{\"id\":\"95045570-dd9c-455b-ba1c-67049acfa46d\",\"type\":\"GlyphRenderer\"}]},\"id\":\"7346a5f0-1a8e-48e1-80e3-fa951d4de3c9\",\"type\":\"LegendItem\"},{\"attributes\":{\"bottom_units\":\"screen\",\"fill_alpha\":{\"value\":0.5},\"fill_color\":{\"value\":\"lightgrey\"},\"left_units\":\"screen\",\"level\":\"overlay\",\"line_alpha\":{\"value\":1.0},\"line_color\":{\"value\":\"black\"},\"line_dash\":[4,4],\"line_width\":{\"value\":2},\"plot\":null,\"render_mode\":\"css\",\"right_units\":\"screen\",\"top_units\":\"screen\"},\"id\":\"fd479fd3-e1bf-4c3e-819b-85a98fba65f2\",\"type\":\"BoxAnnotation\"},{\"attributes\":{},\"id\":\"a94b5538-1196-491f-94f1-ee72ab41c13f\",\"type\":\"PanTool\"},{\"attributes\":{},\"id\":\"ca670d21-aed5-4e66-b881-55a08b7a331d\",\"type\":\"BasicTickFormatter\"}],\"root_ids\":[\"13879077-4af5-4c8a-8bed-d442e10a3c93\"]},\"title\":\"Bokeh Application\",\"version\":\"0.12.16\"}};\n",
       "  var render_items = [{\"docid\":\"d3b8aa91-95c1-41f0-ba2e-f22d9974cdd7\",\"elementid\":\"7e147efd-ff0b-4ca9-ba66-4cb701209d21\",\"modelid\":\"13879077-4af5-4c8a-8bed-d442e10a3c93\",\"notebook_comms_target\":\"bd4f7a1a-e676-4ee5-b376-e79c207b5e7d\"}];\n",
       "  root.Bokeh.embed.embed_items_notebook(docs_json, render_items);\n",
       "\n",
       "  }\n",
       "  if (root.Bokeh !== undefined) {\n",
       "    embed_document(root);\n",
       "  } else {\n",
       "    var attempts = 0;\n",
       "    var timer = setInterval(function(root) {\n",
       "      if (root.Bokeh !== undefined) {\n",
       "        embed_document(root);\n",
       "        clearInterval(timer);\n",
       "      }\n",
       "      attempts++;\n",
       "      if (attempts > 100) {\n",
       "        console.log(\"Bokeh: ERROR: Unable to run BokehJS code because BokehJS library is missing\")\n",
       "        clearInterval(timer);\n",
       "      }\n",
       "    }, 10, root)\n",
       "  }\n",
       "})(window);"
      ],
      "application/vnd.bokehjs_exec.v0+json": ""
     },
     "metadata": {
      "application/vnd.bokehjs_exec.v0+json": {
       "id": "13879077-4af5-4c8a-8bed-d442e10a3c93"
      }
     },
     "output_type": "display_data"
    },
    {
     "data": {
      "application/vnd.jupyter.widget-view+json": {
       "model_id": "355ddcd84d514e7db36875aaa210c197",
       "version_major": 2,
       "version_minor": 0
      },
      "text/plain": [
       "interactive(children=(IntSlider(value=1980, description='Start Year:', max=2017, min=1980), Output()), _dom_cl…"
      ]
     },
     "metadata": {},
     "output_type": "display_data"
    },
    {
     "data": {
      "application/vnd.jupyter.widget-view+json": {
       "model_id": "19503ea9748d4a1a96828c36216e3955",
       "version_major": 2,
       "version_minor": 0
      },
      "text/plain": [
       "interactive(children=(Play(value=1980, description='Season', max=2017, min=1980), Output()), _dom_classes=('wi…"
      ]
     },
     "metadata": {},
     "output_type": "display_data"
    }
   ],
   "source": [
    "from bokeh.models import ColumnDataSource\n",
    "from bokeh.models import HoverTool\n",
    "from bokeh.models import LinearInterpolator\n",
    "from bokeh.models import CategoricalColorMapper\n",
    "from bokeh.palettes import Category20\n",
    "from bokeh.models import Circle\n",
    "from bokeh.plotting import figure\n",
    "from ipywidgets import interact,interactive, fixed, interact_manual,widgets\n",
    "from bokeh.io import push_notebook,show\n",
    "\n",
    "\n",
    "datacom = pd.read_csv('nba-players-stats/allteamcombined.csv',index_col=['Season'])\n",
    "datawarriorschamp = pd.read_csv('nba-players-stats/WarriorsChamp.csv',index_col=[\"Rank\"])\n",
    "\n",
    "source = ColumnDataSource(dict( \n",
    "    tm = datacom.loc[2010].Tm, \n",
    "    x = datacom.loc[2010].get('3P'),\n",
    "    y = datacom.loc[2010].get('3PA'),\n",
    "    win = datacom.loc[2010].W,\n",
    "    pts = datacom.loc[2010].PTS\n",
    "))\n",
    "\n",
    "\n",
    "Hover_tools = HoverTool(tooltips = [\n",
    "    ('Attempt', \"@y\"),\n",
    "     ('Made', \"@x\"),\n",
    "    ('Team', '@tm'),])\n",
    "\n",
    "# relative_size = LinearInterpolator(\n",
    "#     x = [datacom.PTS.min(),datacom.PTS.max()],\n",
    "#     y = [2,40]\n",
    "# )\n",
    "\n",
    "color_mapper = CategoricalColorMapper(\n",
    "  factors= list(datacom.Tm.unique()),\n",
    "  palette= ['#1f77b4', '#aec7e8', '#ff7f0e', \n",
    "            '#ffbb78', '#2ca02c', '#98df8a', \n",
    "            '#d62728', \n",
    "            '#ff9896', '#9467bd', '#c5b0d5',\n",
    "            '#8c564b', '#c49c94', '#e377c2', \n",
    "            '#f7b6d2', \n",
    "            '#7f7f7f', '#c7c7c7', '#bcbd22', \n",
    "            '#dbdb8d', '#17becf', '#9edae5',\n",
    "            '#800026', '#bd0026','#e31a1c', \n",
    "            '#fc4e2a',\n",
    "            '#fd8d3c','#feb24c','#fed976',\n",
    "            '#ffeda0','#ffffcc','#a6cee3',\n",
    "            '#1f78b4','#b2df8a','#33a02c',\n",
    "            '#fb9a99','#e31a1c','#fdbf6f',\n",
    "            '#ff7f00','#cab2d6','#6a3d9a',\n",
    "            '#ffff99']\n",
    ")\n",
    "p5 = figure( tools = [Hover_tools,'pan', 'wheel_zoom','box_zoom','reset','crosshair'],\n",
    "            height=600,\n",
    "           width = 600,\n",
    "           x_range = (0,50),\n",
    "           y_range=(0,20),  \n",
    "            y_axis_label = \"3 point Made\",\n",
    "           x_axis_label = \"3 point Attempt\")\n",
    "\n",
    "p5.circle(x='y', \n",
    "         y='x',\n",
    "      size = 12,\n",
    "       # color = 'blue',\n",
    "      # size = {'field':'pts','transform':relative_size},\n",
    "       color = {'field':'tm','transform': color_mapper},\n",
    "         alpha = 1,\n",
    "         legend = 'tm',\n",
    "        source = source)\n",
    "p5.right = p5.legend\n",
    "\n",
    "\n",
    "def update(Season):\n",
    "    interactivedata = dict(\n",
    "     tm = datacom.loc[Season].Tm, \n",
    "      x = datacom.loc[Season].get('3P'),\n",
    "    y = datacom.loc[Season].get('3PA'), \n",
    "     win = datacom.loc[Season].W,\n",
    "        pts = datacom.loc[Season].PTS\n",
    "    )\n",
    "    \n",
    "    source.data = interactivedata\n",
    "    p5.title.text= \"Team 3PA vs 3PM    Year:\" + str(Season) +\"  Season:\" +str(Season)+'-'+str(int(Season)+1)\n",
    "    push_notebook()\n",
    "    \n",
    "\n",
    "# +\"-\"+ str(int(Season)+1)\n",
    "show(p5,notebook_handle=True)\n",
    "\n",
    "interact(update,\n",
    "Season = widgets.IntSlider(\n",
    "    value=1,\n",
    "    min=1980,\n",
    "    max=2018-1,\n",
    "    step=1,\n",
    "    description='Start Year:',\n",
    "    continuous_update=True,\n",
    "    orientation='Horizontal',\n",
    "    readout=True,\n",
    "    readout_format='d',\n",
    "));\n",
    "\n",
    "interact(update,\n",
    "    Season = widgets.Play( \n",
    "    value=0,\n",
    "    min=1980,\n",
    "    max=2018-1,\n",
    "    step=1,\n",
    "    disabled=False\n",
    "));"
   ]
  },
  {
   "cell_type": "markdown",
   "metadata": {
    "extensions": {
     "jupyter_dashboards": {
      "version": 1,
      "views": {
       "grid_default": {
        "col": 8,
        "height": 4,
        "hidden": false,
        "row": 137,
        "width": 4
       },
       "report_default": {
        "hidden": false
       }
      }
     }
    }
   },
   "source": [
    "<hr style=\"height:1px;border:none;color:#333;background-color:#333;\" />"
   ]
  },
  {
   "cell_type": "markdown",
   "metadata": {
    "extensions": {
     "jupyter_dashboards": {
      "version": 1,
      "views": {
       "grid_default": {
        "col": 8,
        "height": 4,
        "hidden": false,
        "row": 141,
        "width": 4
       },
       "report_default": {
        "hidden": false
       }
      }
     }
    }
   },
   "source": [
    "<a name=\"Aim2\"></a>\n",
    "# Second Aim :  Show Evidence of an more all-around playstyle in basketball\n"
   ]
  },
  {
   "cell_type": "markdown",
   "metadata": {
    "extensions": {
     "jupyter_dashboards": {
      "version": 1,
      "views": {
       "grid_default": {
        "col": 0,
        "height": 12,
        "hidden": false,
        "row": 272,
        "width": 12
       },
       "report_default": {
        "hidden": false
       }
      }
     }
    }
   },
   "source": [
    "## Weight Vs HEIGHT <a name=\"weightvsheight\"></a>\n",
    "### Notes about the graph\n",
    "- Comparing players that join the NBA \n",
    "### Axis\n",
    "- x = Height of players \n",
    "- y = Weight of players \n",
    "\n",
    "### Results \n",
    " Players are coming in taller and bigger overtime. \n",
    " You can see that players are coming more equal in size. \n",
    " Shows size shouldn't matter like before \n",
    " "
   ]
  },
  {
   "cell_type": "markdown",
   "metadata": {
    "extensions": {
     "jupyter_dashboards": {
      "version": 1,
      "views": {
       "grid_default": {
        "col": 8,
        "height": 4,
        "hidden": false,
        "row": 145,
        "width": 4
       },
       "report_default": {
        "hidden": false
       }
      }
     }
    }
   },
   "source": [
    "**Click Run Cell Below.(Refresh)*** if no reactions "
   ]
  },
  {
   "cell_type": "code",
   "execution_count": 33,
   "metadata": {
    "extensions": {
     "jupyter_dashboards": {
      "version": 1,
      "views": {
       "grid_default": {
        "col": 8,
        "height": 4,
        "hidden": false,
        "row": 205,
        "width": 4
       },
       "report_default": {
        "hidden": false
       }
      }
     }
    }
   },
   "outputs": [
    {
     "data": {
      "application/vnd.jupyter.widget-view+json": {
       "model_id": "0af0236a8c82486a8065f96d489a4f6e",
       "version_major": 2,
       "version_minor": 0
      },
      "text/plain": [
       "Button(description='Run Cell Below', style=ButtonStyle())"
      ]
     },
     "metadata": {},
     "output_type": "display_data"
    }
   ],
   "source": [
    "from IPython.display import Javascript, display\n",
    "from ipywidgets import widgets\n",
    "\n",
    "\n",
    "def run_all(ev):\n",
    "    display(Javascript('IPython.notebook.execute_cell_range(IPython.notebook.get_selected_index()+1, IPython.notebook.get_selected_index()+2)'))\n",
    "\n",
    "button = widgets.Button(description=\"Run Cell Below\")\n",
    "button.on_click(run_all)\n",
    "display(button)"
   ]
  },
  {
   "cell_type": "code",
   "execution_count": 34,
   "metadata": {
    "extensions": {
     "jupyter_dashboards": {
      "version": 1,
      "views": {
       "grid_default": {
        "col": 0,
        "height": 30,
        "hidden": false,
        "row": 284,
        "width": 7
       },
       "report_default": {
        "hidden": false
       }
      }
     }
    },
    "scrolled": false
   },
   "outputs": [
    {
     "data": {
      "text/html": [
       "\n",
       "<div class=\"bk-root\">\n",
       "    <div class=\"bk-plotdiv\" id=\"0ace1990-c9b8-4282-9e79-3536fb75cf84\"></div>\n",
       "</div>"
      ]
     },
     "metadata": {},
     "output_type": "display_data"
    },
    {
     "data": {
      "application/javascript": [
       "(function(root) {\n",
       "  function embed_document(root) {\n",
       "    \n",
       "  var docs_json = {\"f3b178e0-bc14-4e2d-93ef-a5cd6670538d\":{\"roots\":{\"references\":[{\"attributes\":{\"factors\":[\"PF-C\",\"C-PF\",\"C\",\"G\",\"F\",\"G-SF\",\"SF-G\"],\"palette\":[\"blue\",\"red\",\"green\",\"grey\",\"Purple\",\"Black\",\"orange\"]},\"id\":\"4d35f930-4bc9-4556-b277-c6fbe8263c37\",\"type\":\"CategoricalColorMapper\"},{\"attributes\":{\"fill_alpha\":{\"value\":0.1},\"fill_color\":{\"value\":\"#1f77b4\"},\"line_alpha\":{\"value\":0.1},\"line_color\":{\"value\":\"#1f77b4\"},\"size\":{\"units\":\"screen\",\"value\":7},\"x\":{\"field\":\"y\"},\"y\":{\"field\":\"x\"}},\"id\":\"a659c90d-fdb1-444d-904b-380d3e74db22\",\"type\":\"CircleCross\"},{\"attributes\":{},\"id\":\"a91967df-abc5-420c-82c1-f062ed15cde6\",\"type\":\"BasicTicker\"},{\"attributes\":{\"callback\":null,\"end\":250,\"start\":140},\"id\":\"328605ec-0921-4262-b085-51862b1f7d71\",\"type\":\"Range1d\"},{\"attributes\":{},\"id\":\"e5bedc95-75c6-4d01-a3cd-3ac8241ef250\",\"type\":\"LinearScale\"},{\"attributes\":{\"data_source\":{\"id\":\"00fad1c1-2901-4eef-bf2b-d776529ecc87\",\"type\":\"ColumnDataSource\"},\"glyph\":{\"id\":\"d9b70df8-76a6-4f51-9ab3-695a1fde1871\",\"type\":\"CircleCross\"},\"hover_glyph\":null,\"muted_glyph\":null,\"nonselection_glyph\":{\"id\":\"a659c90d-fdb1-444d-904b-380d3e74db22\",\"type\":\"CircleCross\"},\"selection_glyph\":null,\"view\":{\"id\":\"021c99bb-5167-4b38-a23c-04428799cb39\",\"type\":\"CDSView\"}},\"id\":\"22f6669c-9bbd-4bd9-96ca-8c5e30037be9\",\"type\":\"GlyphRenderer\"},{\"attributes\":{\"plot\":null,\"text\":\"\"},\"id\":\"5c28f1e0-abd4-4a36-af07-88d583e8899c\",\"type\":\"Title\"},{\"attributes\":{\"source\":{\"id\":\"00fad1c1-2901-4eef-bf2b-d776529ecc87\",\"type\":\"ColumnDataSource\"}},\"id\":\"021c99bb-5167-4b38-a23c-04428799cb39\",\"type\":\"CDSView\"},{\"attributes\":{\"callback\":null,\"data\":{\"name\":[\"David Andersen\",\"Antonio Anderson\",\"Jeff Ayres\",\"Rodrigue Beaubois\",\"DeJuan Blair\",\"Jon Brockman\",\"Derrick Brown\",\"Chase Budinger\",\"DeMarre Carroll\",\"Omri Casspi\",\"Earl Clark\",\"Darren Collison\",\"Dante Cunningham\",\"JamesOn Curry\",\"Stephen Curry\",\"Austin Daye\",\"DeMar DeRozan\",\"Toney Douglas\",\"Wayne Ellington\",\"Tyreke Evans\",\"Jonny Flynn\",\"Sundiata Gaines\",\"Alonzo Gee\",\"Taj Gibson\",\"Trey Gilder\",\"Danny Green\",\"Taylor Griffin\",\"Tyler Hansbrough\",\"James Harden\",\"Gerald Henderson\",\"Jordan Hill\",\"Jrue Holiday\",\"Lester Hudson\",\"Chris Hunter\",\"Serge Ibaka\",\"Cedric Jackson\",\"Othyus Jeffers\",\"Brandon Jennings\",\"Jonas Jerebko\",\"James Johnson\",\"Oliver Lafayette\",\"Marcus Landry\",\"Ty Lawson\",\"Wesley Matthews\",\"Eric Maynor\",\"Jodie Meeks\",\"Patty Mills\",\"Byron Mullens\",\"A.J. Price\",\"DaJuan Summers\",\"Jermaine Taylor\",\"Jeff Teague\",\"Garrett Temple\",\"Hasheem Thabeet\",\"Marcus Thornton\",\"Reggie Williams\",\"Terrence Williams\",\"Sam Young\"],\"position\":[\"C\",\"G\",\"F\",\"G\",\"PF-C\",\"F\",\"F\",\"F\",\"F\",\"F\",\"F\",\"G\",\"F\",\"G\",\"G\",\"F\",\"G-SF\",\"G\",\"G\",\"G-SF\",\"G\",\"G\",\"G\",\"F\",\"F\",\"G-SF\",\"F\",\"F\",\"G\",\"G\",\"C-PF\",\"G\",\"G\",\"F\",\"PF-C\",\"G\",\"G\",\"G\",\"F\",\"F\",\"G\",\"F\",\"G\",\"G\",\"G\",\"G\",\"G\",\"C\",\"G\",\"F\",\"G\",\"G\",\"G\",\"C\",\"G\",\"F\",\"F\",\"F\"],\"x\":{\"__ndarray__\":\"AAAAAACgbkAAAAAAAOBqQAAAAAAAAG5AAAAAAABAZUAAAAAAAOBwQAAAAAAA4G9AAAAAAAAgbEAAAAAAACBqQAAAAAAA4GpAAAAAAAAgbEAAAAAAACBsQAAAAAAA4GVAAAAAAADAbEAAAAAAAMBnQAAAAAAAwGdAAAAAAACAa0AAAAAAAKBrQAAAAAAAYGhAAAAAAAAAaUAAAAAAAIBrQAAAAAAAIGdAAAAAAAAgZ0AAAAAAACBsQAAAAAAAIGxAAAAAAAAgZ0AAAAAAAOBqQAAAAAAAwG1AAAAAAABAb0AAAAAAAIBrQAAAAAAA4GpAAAAAAABgbUAAAAAAAKBpQAAAAAAAwGdAAAAAAAAAbkAAAAAAAGBtQAAAAAAA4GdAAAAAAAAAaUAAAAAAAEBlQAAAAAAA4GxAAAAAAABAb0AAAAAAAMBnQAAAAAAAwGxAAAAAAABgaEAAAAAAAIBrQAAAAAAA4GVAAAAAAABAakAAAAAAACBnQAAAAAAAMHFAAAAAAACgZkAAAAAAAMBsQAAAAAAAQGpAAAAAAABAZ0AAAAAAAGBoQAAAAAAAcHBAAAAAAACgaUAAAAAAAKBpQAAAAAAAgGtAAAAAAACAa0A=\",\"dtype\":\"float64\",\"shape\":[58]},\"y\":{\"__ndarray__\":\"CtejcD1aakDD9Shcj3JoQEjhehSut2lAXI/C9SjcZkCF61G4HhVpQIXrUbgeFWlAhetRuB4VaUCF61G4HhVpQGZmZmZmZmlASOF6FK63aUApXI/C9QhqQFyPwvUo3GZAZmZmZmZmaUAAAAAAANBnQAAAAAAA0GdACtejcD1aakCF61G4HhVpQOxRuB6Fe2dA4XoUrkchaEDD9Shcj3JoQFyPwvUo3GZAPQrXo3AtZ0DD9Shcj3JoQEjhehSut2lASOF6FK63aUDD9Shcj3JoQIXrUbgeFWlASOF6FK63aUDD9Shcj3JoQMP1KFyPcmhAKVyPwvUIakDhehSuRyFoQAAAAAAA0GdACtejcD1aakApXI/C9QhqQAAAAAAA0GdAw/UoXI9yaEA9CtejcC1nQClcj8L1CGpASOF6FK63aUDsUbgehXtnQIXrUbgeFWlAexSuR+GKZkDD9Shcj3JoQAAAAAAA0GdA4XoUrkchaEBcj8L1KNxmQOxRuB6Fq2pA7FG4HoV7Z0BmZmZmZmZpQOF6FK5HIWhA7FG4HoV7Z0DD9Shcj3JoQI/C9Shcn2tA4XoUrkchaEDD9Shcj3JoQMP1KFyPcmhAw/UoXI9yaEA=\",\"dtype\":\"float64\",\"shape\":[58]}},\"selected\":{\"id\":\"6acd2b93-55a6-4a39-a326-fd89458e4f17\",\"type\":\"Selection\"},\"selection_policy\":{\"id\":\"0a48a7d3-e5b9-4bf8-83d1-74f0f736c92b\",\"type\":\"UnionRenderers\"}},\"id\":\"00fad1c1-2901-4eef-bf2b-d776529ecc87\",\"type\":\"ColumnDataSource\"},{\"attributes\":{},\"id\":\"9eda8773-0357-4ea3-bb15-25b9821c3ca2\",\"type\":\"LinearScale\"},{\"attributes\":{},\"id\":\"db087ec5-0b51-4af6-b899-b60b6fe54431\",\"type\":\"ResetTool\"},{\"attributes\":{\"axis_label\":\"Height(CM)\",\"formatter\":{\"id\":\"1cd2e031-2a3d-4482-9a71-2ae85fabf056\",\"type\":\"BasicTickFormatter\"},\"plot\":{\"id\":\"adab743b-6aeb-4d10-82b2-fed25bc85b51\",\"subtype\":\"Figure\",\"type\":\"Plot\"},\"ticker\":{\"id\":\"e4cd55ac-bf5e-4e18-b3f7-692a15f11a26\",\"type\":\"BasicTicker\"}},\"id\":\"feab1173-4bec-4540-b87d-b9f50b4da130\",\"type\":\"LinearAxis\"},{\"attributes\":{\"overlay\":{\"id\":\"0dbbe628-0cf8-45ee-9a86-2a41c0586569\",\"type\":\"BoxAnnotation\"}},\"id\":\"0bae9b19-5fe0-4a12-82a7-3af5df7a1e89\",\"type\":\"BoxZoomTool\"},{\"attributes\":{\"callback\":null,\"renderers\":\"auto\",\"tooltips\":[[\"Cenimeter\",\"@y\"],[\"Pounds\",\"@x\"],[\"Player\",\"@name\"]]},\"id\":\"c9df7a39-923e-42ee-889b-827b92365035\",\"type\":\"HoverTool\"},{\"attributes\":{},\"id\":\"a441e46a-e74a-4a8a-a4ac-fce87da6b4b3\",\"type\":\"WheelZoomTool\"},{\"attributes\":{},\"id\":\"06d54c90-cf5c-4357-9bc3-e013523cf9f4\",\"type\":\"CrosshairTool\"},{\"attributes\":{},\"id\":\"2d50c0bd-e9b4-4ca3-af5f-23da2b199dc6\",\"type\":\"PanTool\"},{\"attributes\":{\"below\":[{\"id\":\"feab1173-4bec-4540-b87d-b9f50b4da130\",\"type\":\"LinearAxis\"}],\"left\":[{\"id\":\"1dd77d2d-c307-455f-8b8d-09948a9bb214\",\"type\":\"LinearAxis\"}],\"renderers\":[{\"id\":\"feab1173-4bec-4540-b87d-b9f50b4da130\",\"type\":\"LinearAxis\"},{\"id\":\"dbc8ee01-b5e2-4538-a0fe-0249302ab944\",\"type\":\"Grid\"},{\"id\":\"1dd77d2d-c307-455f-8b8d-09948a9bb214\",\"type\":\"LinearAxis\"},{\"id\":\"7524a2a8-4e40-4577-919f-57c4af54e39b\",\"type\":\"Grid\"},{\"id\":\"0dbbe628-0cf8-45ee-9a86-2a41c0586569\",\"type\":\"BoxAnnotation\"},{\"id\":\"33718b10-9d5f-4de9-ae7f-8d3ecb47f921\",\"type\":\"Legend\"},{\"id\":\"22f6669c-9bbd-4bd9-96ca-8c5e30037be9\",\"type\":\"GlyphRenderer\"}],\"right\":[{\"id\":\"33718b10-9d5f-4de9-ae7f-8d3ecb47f921\",\"type\":\"Legend\"}],\"title\":{\"id\":\"5c28f1e0-abd4-4a36-af07-88d583e8899c\",\"type\":\"Title\"},\"toolbar\":{\"id\":\"3b9213ff-2b75-4332-a026-86f56f487c6c\",\"type\":\"Toolbar\"},\"x_range\":{\"id\":\"328605ec-0921-4262-b085-51862b1f7d71\",\"type\":\"Range1d\"},\"x_scale\":{\"id\":\"9eda8773-0357-4ea3-bb15-25b9821c3ca2\",\"type\":\"LinearScale\"},\"y_range\":{\"id\":\"3fc52d64-26f8-415a-99ba-3ad60bf19112\",\"type\":\"Range1d\"},\"y_scale\":{\"id\":\"e5bedc95-75c6-4d01-a3cd-3ac8241ef250\",\"type\":\"LinearScale\"}},\"id\":\"adab743b-6aeb-4d10-82b2-fed25bc85b51\",\"subtype\":\"Figure\",\"type\":\"Plot\"},{\"attributes\":{},\"id\":\"c6066b75-3f1c-46bf-ab8a-7b3e4528f20d\",\"type\":\"BasicTickFormatter\"},{\"attributes\":{},\"id\":\"6acd2b93-55a6-4a39-a326-fd89458e4f17\",\"type\":\"Selection\"},{\"attributes\":{},\"id\":\"e4cd55ac-bf5e-4e18-b3f7-692a15f11a26\",\"type\":\"BasicTicker\"},{\"attributes\":{\"items\":[{\"id\":\"eb5f691f-2b37-4e01-a95c-c24456d9e78d\",\"type\":\"LegendItem\"}],\"plot\":{\"id\":\"adab743b-6aeb-4d10-82b2-fed25bc85b51\",\"subtype\":\"Figure\",\"type\":\"Plot\"}},\"id\":\"33718b10-9d5f-4de9-ae7f-8d3ecb47f921\",\"type\":\"Legend\"},{\"attributes\":{\"active_drag\":\"auto\",\"active_inspect\":\"auto\",\"active_scroll\":\"auto\",\"active_tap\":\"auto\",\"tools\":[{\"id\":\"c9df7a39-923e-42ee-889b-827b92365035\",\"type\":\"HoverTool\"},{\"id\":\"2d50c0bd-e9b4-4ca3-af5f-23da2b199dc6\",\"type\":\"PanTool\"},{\"id\":\"a441e46a-e74a-4a8a-a4ac-fce87da6b4b3\",\"type\":\"WheelZoomTool\"},{\"id\":\"0bae9b19-5fe0-4a12-82a7-3af5df7a1e89\",\"type\":\"BoxZoomTool\"},{\"id\":\"db087ec5-0b51-4af6-b899-b60b6fe54431\",\"type\":\"ResetTool\"},{\"id\":\"06d54c90-cf5c-4357-9bc3-e013523cf9f4\",\"type\":\"CrosshairTool\"}]},\"id\":\"3b9213ff-2b75-4332-a026-86f56f487c6c\",\"type\":\"Toolbar\"},{\"attributes\":{\"label\":{\"field\":\"position\"},\"renderers\":[{\"id\":\"22f6669c-9bbd-4bd9-96ca-8c5e30037be9\",\"type\":\"GlyphRenderer\"}]},\"id\":\"eb5f691f-2b37-4e01-a95c-c24456d9e78d\",\"type\":\"LegendItem\"},{\"attributes\":{\"bottom_units\":\"screen\",\"fill_alpha\":{\"value\":0.5},\"fill_color\":{\"value\":\"lightgrey\"},\"left_units\":\"screen\",\"level\":\"overlay\",\"line_alpha\":{\"value\":1.0},\"line_color\":{\"value\":\"black\"},\"line_dash\":[4,4],\"line_width\":{\"value\":2},\"plot\":null,\"render_mode\":\"css\",\"right_units\":\"screen\",\"top_units\":\"screen\"},\"id\":\"0dbbe628-0cf8-45ee-9a86-2a41c0586569\",\"type\":\"BoxAnnotation\"},{\"attributes\":{},\"id\":\"1cd2e031-2a3d-4482-9a71-2ae85fabf056\",\"type\":\"BasicTickFormatter\"},{\"attributes\":{\"axis_label\":\"Weight(Pounds)\",\"formatter\":{\"id\":\"c6066b75-3f1c-46bf-ab8a-7b3e4528f20d\",\"type\":\"BasicTickFormatter\"},\"plot\":{\"id\":\"adab743b-6aeb-4d10-82b2-fed25bc85b51\",\"subtype\":\"Figure\",\"type\":\"Plot\"},\"ticker\":{\"id\":\"a91967df-abc5-420c-82c1-f062ed15cde6\",\"type\":\"BasicTicker\"}},\"id\":\"1dd77d2d-c307-455f-8b8d-09948a9bb214\",\"type\":\"LinearAxis\"},{\"attributes\":{},\"id\":\"0a48a7d3-e5b9-4bf8-83d1-74f0f736c92b\",\"type\":\"UnionRenderers\"},{\"attributes\":{\"fill_alpha\":{\"value\":0.4},\"fill_color\":{\"field\":\"position\",\"transform\":{\"id\":\"4d35f930-4bc9-4556-b277-c6fbe8263c37\",\"type\":\"CategoricalColorMapper\"}},\"line_alpha\":{\"value\":0.4},\"line_color\":{\"field\":\"position\",\"transform\":{\"id\":\"4d35f930-4bc9-4556-b277-c6fbe8263c37\",\"type\":\"CategoricalColorMapper\"}},\"size\":{\"units\":\"screen\",\"value\":7},\"x\":{\"field\":\"y\"},\"y\":{\"field\":\"x\"}},\"id\":\"d9b70df8-76a6-4f51-9ab3-695a1fde1871\",\"type\":\"CircleCross\"},{\"attributes\":{\"dimension\":1,\"plot\":{\"id\":\"adab743b-6aeb-4d10-82b2-fed25bc85b51\",\"subtype\":\"Figure\",\"type\":\"Plot\"},\"ticker\":{\"id\":\"a91967df-abc5-420c-82c1-f062ed15cde6\",\"type\":\"BasicTicker\"}},\"id\":\"7524a2a8-4e40-4577-919f-57c4af54e39b\",\"type\":\"Grid\"},{\"attributes\":{\"plot\":{\"id\":\"adab743b-6aeb-4d10-82b2-fed25bc85b51\",\"subtype\":\"Figure\",\"type\":\"Plot\"},\"ticker\":{\"id\":\"e4cd55ac-bf5e-4e18-b3f7-692a15f11a26\",\"type\":\"BasicTicker\"}},\"id\":\"dbc8ee01-b5e2-4538-a0fe-0249302ab944\",\"type\":\"Grid\"},{\"attributes\":{\"callback\":null,\"end\":400,\"start\":100},\"id\":\"3fc52d64-26f8-415a-99ba-3ad60bf19112\",\"type\":\"Range1d\"}],\"root_ids\":[\"adab743b-6aeb-4d10-82b2-fed25bc85b51\"]},\"title\":\"Bokeh Application\",\"version\":\"0.12.16\"}};\n",
       "  var render_items = [{\"docid\":\"f3b178e0-bc14-4e2d-93ef-a5cd6670538d\",\"elementid\":\"0ace1990-c9b8-4282-9e79-3536fb75cf84\",\"modelid\":\"adab743b-6aeb-4d10-82b2-fed25bc85b51\",\"notebook_comms_target\":\"7f37b78f-7251-4f98-bed9-3f673ef10ab6\"}];\n",
       "  root.Bokeh.embed.embed_items_notebook(docs_json, render_items);\n",
       "\n",
       "  }\n",
       "  if (root.Bokeh !== undefined) {\n",
       "    embed_document(root);\n",
       "  } else {\n",
       "    var attempts = 0;\n",
       "    var timer = setInterval(function(root) {\n",
       "      if (root.Bokeh !== undefined) {\n",
       "        embed_document(root);\n",
       "        clearInterval(timer);\n",
       "      }\n",
       "      attempts++;\n",
       "      if (attempts > 100) {\n",
       "        console.log(\"Bokeh: ERROR: Unable to run BokehJS code because BokehJS library is missing\")\n",
       "        clearInterval(timer);\n",
       "      }\n",
       "    }, 10, root)\n",
       "  }\n",
       "})(window);"
      ],
      "application/vnd.bokehjs_exec.v0+json": ""
     },
     "metadata": {
      "application/vnd.bokehjs_exec.v0+json": {
       "id": "adab743b-6aeb-4d10-82b2-fed25bc85b51"
      }
     },
     "output_type": "display_data"
    },
    {
     "data": {
      "application/vnd.jupyter.widget-view+json": {
       "model_id": "589956e34deb4a97ab49599ed3a49a42",
       "version_major": 2,
       "version_minor": 0
      },
      "text/plain": [
       "interactive(children=(IntSlider(value=1947, description='Start Year:', max=2018, min=1947), Output()), _dom_cl…"
      ]
     },
     "metadata": {},
     "output_type": "display_data"
    },
    {
     "data": {
      "application/vnd.jupyter.widget-view+json": {
       "model_id": "80e3ea05939946859a33ad6319a51eb8",
       "version_major": 2,
       "version_minor": 0
      },
      "text/plain": [
       "interactive(children=(Play(value=1947, description='yearstart', max=2018, min=1947), Output()), _dom_classes=(…"
      ]
     },
     "metadata": {},
     "output_type": "display_data"
    }
   ],
   "source": [
    "from bokeh.models import ColumnDataSource\n",
    "from bokeh.models import HoverTool\n",
    "from bokeh.models import LinearInterpolator\n",
    "from bokeh.models import CategoricalColorMapper\n",
    "from bokeh.palettes import Set1_9\n",
    "from bokeh.plotting import figure\n",
    "from bokeh.models import Circle\n",
    "from ipywidgets import interact,interactive, fixed, interact_manual,widgets\n",
    "from bokeh.io import push_notebook,show\n",
    "\n",
    "data4 = pd.read_csv('nba-players-stats/player_data.csv',index_col=[\"yearstart\"])\n",
    "\n",
    "source = ColumnDataSource(dict( x = data4.loc[2010].weight, \n",
    "     y = data4.loc[2010].height,\n",
    "     name = data4.loc[2010].name,\n",
    "     position = data4.loc[2010].position))\n",
    "\n",
    "Hover_tools = HoverTool(tooltips = [\n",
    "    ('Cenimeter', \"@y\"),\n",
    "     ('Pounds', \"@x\"),\n",
    "    ('Player', '@name')])\n",
    "\n",
    "\n",
    "color_mapper = CategoricalColorMapper(\n",
    " factors=['PF-C', 'C-PF', 'C', 'G', 'F', 'G-SF', 'SF-G'],\n",
    " palette=['blue', 'red', 'green','grey','Purple','Black','orange'])\n",
    "\n",
    "\n",
    "p5 = figure( tools = [Hover_tools,'pan', 'wheel_zoom','box_zoom','reset','crosshair'],\n",
    "            height=600,\n",
    "           width = 600,\n",
    "           x_range = (140,250),\n",
    "           y_range=(100,400),  \n",
    "            y_axis_label = \"Weight(Pounds)\",\n",
    "           x_axis_label = \"Height(CM)\")\n",
    "\n",
    "p5.circle_cross(x='y', \n",
    "         y='x',\n",
    "          size = 7,\n",
    "       # color = 'blue',\n",
    "       color = {'field':'position','transform': color_mapper},\n",
    "         alpha = 0.4,\n",
    "         legend = 'position',\n",
    "        source = source)\n",
    "p5.right = p5.legend\n",
    "\n",
    "\n",
    "def update(yearstart):\n",
    "    interactivedata = dict(\n",
    "     x = data4.loc[yearstart].weight, \n",
    "     y = data4.loc[yearstart].height,\n",
    "     name = data4.loc[yearstart].name,\n",
    "     position = data4.loc[yearstart].position\n",
    "        \n",
    "    )\n",
    "    \n",
    "    source.data = interactivedata\n",
    "    push_notebook()\n",
    "    p5.title.text= \"HEIGHT vs WEIGHT: \" +  \"Season:\"+  str(yearstart-1) + \"-\" + str(yearstart)\n",
    "\n",
    "\n",
    "show(p5,notebook_handle=True)\n",
    "\n",
    "interact(update,\n",
    "yearstart = widgets.IntSlider(\n",
    "    value=0,\n",
    "    min=1947,\n",
    "    max=2018,\n",
    "    step=1,\n",
    "    description='Start Year:',\n",
    "    continuous_update=True,\n",
    "    orientation='Horizontal',\n",
    "    readout=True,\n",
    "    readout_format='d',\n",
    "));\n",
    "\n",
    "interact(update,\n",
    "    yearstart = widgets.Play( \n",
    "    value=0,\n",
    "    min=1947,\n",
    "    max=2018,\n",
    "    step=1,\n",
    "    disabled=False\n",
    "));\n",
    "\n"
   ]
  },
  {
   "cell_type": "markdown",
   "metadata": {
    "extensions": {
     "jupyter_dashboards": {
      "version": 1,
      "views": {
       "grid_default": {
        "col": 8,
        "height": 4,
        "hidden": false,
        "row": 149,
        "width": 4
       },
       "report_default": {
        "hidden": false
       }
      }
     }
    }
   },
   "source": [
    "<hr style=\"height:1px;border:none;color:#333;background-color:#333;\" />"
   ]
  },
  {
   "cell_type": "markdown",
   "metadata": {
    "extensions": {
     "jupyter_dashboards": {
      "version": 1,
      "views": {
       "grid_default": {
        "col": 0,
        "height": 15,
        "hidden": false,
        "row": 314,
        "width": 12
       },
       "report_default": {
        "hidden": false
       }
      }
     }
    }
   },
   "source": [
    "# 2p vs 3P <a name=\"2v3\"></a>\n",
    " \n",
    " ## Notes about the graph\n",
    "- 3p comparing the amount of shots to the 2p shots \n",
    "- After the creation of the 3 point nba, the players did not adapt to it perfectly in the beginning comparing to the 2 points since they consisten from shooting closer and dunking and anything within the line or shooting on the line. \n",
    "- It could be seent that from back then took more twos that consist of ( Layup , paint , dunks or mid range) but now it could be seen that the three point and two points are more mixed in the middle from attempts and mades. \n",
    "\n",
    "## Axis\n",
    "- x = shot attempts from 2 and 3 points \n",
    "- y = shots made from 2 and 3 points.\n",
    "\n",
    "# Results\n",
    "- Shots are almost uniform now. \n",
    "- Attempts/made from the three/Two Pointers are getting closer.\n",
    "- They are getting unifrom in 2p and 3p \n",
    " "
   ]
  },
  {
   "cell_type": "markdown",
   "metadata": {
    "extensions": {
     "jupyter_dashboards": {
      "version": 1,
      "views": {
       "grid_default": {
        "col": 8,
        "height": 4,
        "hidden": false,
        "row": 153,
        "width": 4
       },
       "report_default": {
        "hidden": false
       }
      }
     }
    }
   },
   "source": [
    "**Click Run Cell Below.(Refresh)*** if no reactions "
   ]
  },
  {
   "cell_type": "code",
   "execution_count": 35,
   "metadata": {
    "extensions": {
     "jupyter_dashboards": {
      "version": 1,
      "views": {
       "grid_default": {
        "col": 8,
        "height": 4,
        "hidden": false,
        "row": 209,
        "width": 4
       },
       "report_default": {
        "hidden": false
       }
      }
     }
    }
   },
   "outputs": [
    {
     "data": {
      "application/vnd.jupyter.widget-view+json": {
       "model_id": "ed494c1bf7ad4b1bb4d48968d7fae55c",
       "version_major": 2,
       "version_minor": 0
      },
      "text/plain": [
       "Button(description='Run Cell Below', style=ButtonStyle())"
      ]
     },
     "metadata": {},
     "output_type": "display_data"
    }
   ],
   "source": [
    "from IPython.display import Javascript, display\n",
    "from ipywidgets import widgets\n",
    "\n",
    "\n",
    "def run_all(ev):\n",
    "    display(Javascript('IPython.notebook.execute_cell_range(IPython.notebook.get_selected_index()+1, IPython.notebook.get_selected_index()+2)'))\n",
    "\n",
    "button = widgets.Button(description=\"Run Cell Below\")\n",
    "button.on_click(run_all)\n",
    "display(button)"
   ]
  },
  {
   "cell_type": "code",
   "execution_count": 36,
   "metadata": {
    "extensions": {
     "jupyter_dashboards": {
      "version": 1,
      "views": {
       "grid_default": {
        "col": 0,
        "height": 36,
        "hidden": false,
        "row": 329,
        "width": 7
       },
       "report_default": {
        "hidden": false
       }
      }
     }
    },
    "scrolled": false
   },
   "outputs": [
    {
     "data": {
      "text/html": [
       "\n",
       "<div class=\"bk-root\">\n",
       "    <div class=\"bk-plotdiv\" id=\"cd5ba195-643f-4921-b18b-b89bcade4964\"></div>\n",
       "</div>"
      ]
     },
     "metadata": {},
     "output_type": "display_data"
    },
    {
     "data": {
      "application/javascript": [
       "(function(root) {\n",
       "  function embed_document(root) {\n",
       "    \n",
       "  var docs_json = {\"98be6b44-7748-4f04-9cd5-0a030f9ce09b\":{\"roots\":{\"references\":[{\"attributes\":{\"bottom_units\":\"screen\",\"fill_alpha\":{\"value\":0.5},\"fill_color\":{\"value\":\"lightgrey\"},\"left_units\":\"screen\",\"level\":\"overlay\",\"line_alpha\":{\"value\":1.0},\"line_color\":{\"value\":\"black\"},\"line_dash\":[4,4],\"line_width\":{\"value\":2},\"plot\":null,\"render_mode\":\"css\",\"right_units\":\"screen\",\"top_units\":\"screen\"},\"id\":\"2b72a1a8-b0cf-4b15-807a-7ec960e034a3\",\"type\":\"BoxAnnotation\"},{\"attributes\":{\"below\":[{\"id\":\"fde0eb24-8161-49fd-bd1a-cfc198de33e5\",\"type\":\"LinearAxis\"}],\"left\":[{\"id\":\"f34d09b6-0ca4-4cf6-a8aa-230a590a4e31\",\"type\":\"LinearAxis\"}],\"plot_height\":800,\"renderers\":[{\"id\":\"fde0eb24-8161-49fd-bd1a-cfc198de33e5\",\"type\":\"LinearAxis\"},{\"id\":\"9d4fd66f-b587-4dea-a657-2ae668723d40\",\"type\":\"Grid\"},{\"id\":\"f34d09b6-0ca4-4cf6-a8aa-230a590a4e31\",\"type\":\"LinearAxis\"},{\"id\":\"2866ab77-42ae-494e-ac0e-da58a04511c7\",\"type\":\"Grid\"},{\"id\":\"2b72a1a8-b0cf-4b15-807a-7ec960e034a3\",\"type\":\"BoxAnnotation\"},{\"id\":\"09d74aa4-f506-4d37-a90b-0e38c0027e34\",\"type\":\"PolyAnnotation\"},{\"id\":\"e48928bb-9346-4c83-913e-986af498f31f\",\"type\":\"Legend\"},{\"id\":\"cb48e7ae-286f-4842-bf42-6ffbef53ad44\",\"type\":\"GlyphRenderer\"},{\"id\":\"c2e7af26-379f-44e6-b9bf-1a6b26a80aaa\",\"type\":\"GlyphRenderer\"}],\"right\":[{\"id\":\"e48928bb-9346-4c83-913e-986af498f31f\",\"type\":\"Legend\"}],\"title\":{\"id\":\"d7ebc06f-f806-4ea6-bb9e-eee629d9b585\",\"type\":\"Title\"},\"toolbar\":{\"id\":\"98a6a88b-60df-4106-835a-2343a8b4999c\",\"type\":\"Toolbar\"},\"x_range\":{\"id\":\"a783eb4a-efac-4982-a496-0c8263fe0a08\",\"type\":\"Range1d\"},\"x_scale\":{\"id\":\"082b5f74-21ce-4a78-89da-934f90279d2f\",\"type\":\"LinearScale\"},\"y_range\":{\"id\":\"8dea3731-0105-4683-af6c-84129da8403c\",\"type\":\"Range1d\"},\"y_scale\":{\"id\":\"876fddc2-8353-4fe9-bdf6-8a6028da777a\",\"type\":\"LinearScale\"}},\"id\":\"a4d788fa-da0a-44e6-a27a-b2b695bcc53c\",\"subtype\":\"Figure\",\"type\":\"Plot\"},{\"attributes\":{},\"id\":\"9a42e868-63d0-4678-a3c2-1ee03581e598\",\"type\":\"WheelZoomTool\"},{\"attributes\":{\"overlay\":{\"id\":\"2b72a1a8-b0cf-4b15-807a-7ec960e034a3\",\"type\":\"BoxAnnotation\"}},\"id\":\"dac89002-eb03-4a6e-9f1d-2a7c7dd31daf\",\"type\":\"BoxZoomTool\"},{\"attributes\":{},\"id\":\"2667cf98-4ec1-4911-ad5d-3832ef005617\",\"type\":\"ResetTool\"},{\"attributes\":{},\"id\":\"42bb2184-c47e-4db2-af13-571141854ae9\",\"type\":\"CrosshairTool\"},{\"attributes\":{\"callback\":null,\"overlay\":{\"id\":\"09d74aa4-f506-4d37-a90b-0e38c0027e34\",\"type\":\"PolyAnnotation\"}},\"id\":\"4906761f-17cf-4350-bd4b-4bad2f3dd932\",\"type\":\"LassoSelectTool\"},{\"attributes\":{\"callback\":null},\"id\":\"418d4aea-316f-4401-bf4a-74b78cdbc3dd\",\"type\":\"TapTool\"},{\"attributes\":{\"click_policy\":\"hide\",\"items\":[{\"id\":\"ff48d31e-287b-4682-9a10-bf394c65c456\",\"type\":\"LegendItem\"},{\"id\":\"97572442-10cb-402b-8fcf-929d24c63a23\",\"type\":\"LegendItem\"}],\"plot\":{\"id\":\"a4d788fa-da0a-44e6-a27a-b2b695bcc53c\",\"subtype\":\"Figure\",\"type\":\"Plot\"}},\"id\":\"e48928bb-9346-4c83-913e-986af498f31f\",\"type\":\"Legend\"},{\"attributes\":{\"fill_alpha\":{\"value\":0.5},\"fill_color\":{\"value\":\"lightgrey\"},\"level\":\"overlay\",\"line_alpha\":{\"value\":1.0},\"line_color\":{\"value\":\"black\"},\"line_dash\":[4,4],\"line_width\":{\"value\":2},\"plot\":null,\"xs_units\":\"screen\",\"ys_units\":\"screen\"},\"id\":\"09d74aa4-f506-4d37-a90b-0e38c0027e34\",\"type\":\"PolyAnnotation\"},{\"attributes\":{},\"id\":\"f6186c92-f36c-492a-b4c6-d83d72dc8831\",\"type\":\"Selection\"},{\"attributes\":{},\"id\":\"b6fba549-4370-4ef7-9cc4-acc592d90f6e\",\"type\":\"BasicTickFormatter\"},{\"attributes\":{\"fill_alpha\":{\"value\":0.1},\"fill_color\":{\"value\":\"#1f77b4\"},\"line_alpha\":{\"value\":0.1},\"line_color\":{\"value\":\"#1f77b4\"},\"size\":{\"units\":\"screen\",\"value\":10},\"x\":{\"field\":\"TwoPointAttempt\"},\"y\":{\"field\":\"TwoPointMade\"}},\"id\":\"e5fbd546-ac2d-4b78-b6c7-76ce0a909a9f\",\"type\":\"Cross\"},{\"attributes\":{\"data_source\":{\"id\":\"da234587-fa60-4e16-8132-8d7c160bfc34\",\"type\":\"ColumnDataSource\"},\"glyph\":{\"id\":\"d665e7db-ce9f-40f7-9cdd-d2a80c98fe54\",\"type\":\"Cross\"},\"hover_glyph\":null,\"muted_glyph\":null,\"nonselection_glyph\":{\"id\":\"e5fbd546-ac2d-4b78-b6c7-76ce0a909a9f\",\"type\":\"Cross\"},\"selection_glyph\":null,\"view\":{\"id\":\"bed98034-656c-4f19-8625-57f78df356bc\",\"type\":\"CDSView\"}},\"id\":\"c2e7af26-379f-44e6-b9bf-1a6b26a80aaa\",\"type\":\"GlyphRenderer\"},{\"attributes\":{\"fill_alpha\":{\"value\":0.02},\"fill_color\":{\"value\":\"grey\"},\"line_alpha\":{\"value\":0.1},\"line_color\":{\"value\":\"blue\"}},\"id\":\"e7d9221a-e434-4314-856a-530ead69dd30\",\"type\":\"Circle\"},{\"attributes\":{\"label\":{\"value\":\"Circle : 3 pointers \"},\"renderers\":[{\"id\":\"cb48e7ae-286f-4842-bf42-6ffbef53ad44\",\"type\":\"GlyphRenderer\"}]},\"id\":\"ff48d31e-287b-4682-9a10-bf394c65c456\",\"type\":\"LegendItem\"},{\"attributes\":{\"fill_alpha\":{\"value\":0.7},\"fill_color\":{\"value\":\"red\"},\"line_alpha\":{\"value\":0.7},\"line_color\":{\"value\":\"red\"},\"size\":{\"units\":\"screen\",\"value\":10},\"x\":{\"field\":\"TwoPointAttempt\"},\"y\":{\"field\":\"TwoPointMade\"}},\"id\":\"d665e7db-ce9f-40f7-9cdd-d2a80c98fe54\",\"type\":\"Cross\"},{\"attributes\":{\"callback\":null,\"data\":{\"FGA\":{\"__ndarray__\":\"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\",\"dtype\":\"float64\",\"shape\":[204]},\"MP\":{\"__ndarray__\":\"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\",\"dtype\":\"float64\",\"shape\":[204]},\"Percentages\":{\"__ndarray__\":\"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\",\"dtype\":\"float64\",\"shape\":[204]},\"Player\":[\"Arron Afflalo\",\"LaMarcus Aldridge\",\"Ray Allen\",\"Chris Andersen\",\"Carmelo Anthony\",\"Trevor Ariza\",\"Carlos Arroyo\",\"J.J. Barea\",\"Andrea Bargnani\",\"Matt Barnes\",\"Shane Battier\",\"Michael Beasley\",\"Charlie Bell\",\"Mike Bibby\",\"Chauncey Billups\",\"Steve Blake\",\"Andray Blatche\",\"Keith Bogans\",\"Andrew Bogut\",\"Carlos Boozer\",\"Chris Bosh\",\"Elton Brand\",\"Corey Brewer\",\"Ronnie Brewer\",\"Ronnie Brewer\",\"Aaron Brooks\",\"Shannon Brown\",\"Kobe Bryant\",\"Caron Butler\",\"Caron Butler\",\"Rasual Butler\",\"Andrew Bynum\",\"Will Bynum\",\"Jose Calderon\",\"Marcus Camby\",\"Marcus Camby\",\"Vince Carter\",\"Omri Casspi\",\"Mario Chalmers\",\"Wilson Chandler\",\"Darren Collison\",\"Nick Collison\",\"Mike Conley\",\"Jamal Crawford\",\"Stephen Curry\",\"Samuel Dalembert\",\"Baron Davis\",\"Carlos Delfino\",\"Luol Deng\",\"DeMar DeRozan\",\"Boris Diaw\",\"Chris Douglas-Roberts\",\"Jared Dudley\",\"Chris Duhon\",\"Tim Duncan\",\"Kevin Durant\",\"Monta Ellis\",\"Tyreke Evans\",\"Raymond Felton\",\"Derek Fisher\",\"Jonny Flynn\",\"Randy Foye\",\"Channing Frye\",\"Danilo Gallinari\",\"Kevin Garnett\",\"Marc Gasol\",\"Pau Gasol\",\"Rudy Gay\",\"Taj Gibson\",\"Manu Ginobili\",\"Ryan Gomes\",\"Drew Gooden\",\"Ben Gordon\",\"Eric Gordon\",\"Danny Granger\",\"Jeff Green\",\"Willie Green\",\"Donte Greene\",\"Richard Hamilton\",\"James Harden\",\"Al Harrington\",\"Devin Harris\",\"Udonis Haslem\",\"Spencer Hawes\",\"Chuck Hayes\",\"Brendan Haywood\",\"Brendan Haywood\",\"Roy Hibbert\",\"J.J. Hickson\",\"Nene Hilario\",\"George Hill\",\"Grant Hill\",\"Kirk Hinrich\",\"Jrue Holiday\",\"Al Horford\",\"Dwight Howard\",\"Juwan Howard\",\"Andre Iguodala\",\"Ersan Ilyasova\",\"Jarrett Jack\",\"Stephen Jackson\",\"Stephen Jackson\",\"LeBron James\",\"Antawn Jamison\",\"Antawn Jamison\",\"Al Jefferson\",\"Richard Jefferson\",\"Jared Jeffries\",\"Brandon Jennings\",\"Jonas Jerebko\",\"Yi Jianlian\",\"Joe Johnson\",\"Dahntay Jones\",\"Chris Kaman\",\"Jason Kidd\",\"Andrei Kirilenko\",\"Nenad Krstic\",\"Carl Landry\",\"Courtney Lee\",\"David Lee\",\"Rashard Lewis\",\"Brook Lopez\",\"Kevin Love\",\"Kyle Lowry\",\"Corey Maggette\",\"Shawn Marion\",\"Kenyon Martin\",\"Kevin Martin\",\"Roger Mason\",\"Wesley Matthews\",\"Jason Maxiell\",\"O.J. Mayo\",\"Luc Mbah\",\"Antonio McDyess\",\"Andre Miller\",\"Brad Miller\",\"Mike Miller\",\"Paul Millsap\",\"Anthony Morrow\",\"Troy Murphy\",\"Ronald Murray\",\"Steve Nash\",\"Jameer Nelson\",\"Joakim Noah\",\"Dirk Nowitzki\",\"Jermaine O'Neal\",\"Lamar Odom\",\"Emeka Okafor\",\"Mehmet Okur\",\"Anthony Parker\",\"Tony Parker\",\"Chris Paul\",\"Kendrick Perkins\",\"Paul Pierce\",\"Mickael Pietrus\",\"James Posey\",\"Tayshaun Prince\",\"Zach Randolph\",\"J.J. Redick\",\"Jason Richardson\",\"Quentin Richardson\",\"Luke Ridnour\",\"Rajon Rondo\",\"Derrick Rose\",\"Brandon Roy\",\"Brandon Rush\",\"John Salmons\",\"John Salmons\",\"Luis Scola\",\"Thabo Sefolosha\",\"Ramon Sessions\",\"J.R. Smith\",\"Josh Smith\",\"Peja Stojakovic\",\"Amar'e Stoudemire\",\"Rodney Stuckey\",\"Jason Terry\",\"Jason Thompson\",\"Al Thornton\",\"Marcus Thornton\",\"Hedo Turkoglu\",\"Beno Udrih\",\"Anderson Varejao\",\"Charlie Villanueva\",\"Dwyane Wade\",\"Ben Wallace\",\"Gerald Wallace\",\"Rasheed Wallace\",\"Hakim Warrick\",\"C.J. Watson\",\"Earl Watson\",\"Martell Webster\",\"David West\",\"Delonte West\",\"Russell Westbrook\",\"Damien Wilkins\",\"Deron Williams\",\"Jason Williams\",\"Lou Williams\",\"Marvin Williams\",\"Mo Williams\",\"Terrence Williams\",\"Metta World\",\"Thaddeus Young\"],\"Position\":[\"SG\",\"PF\",\"SG\",\"PF\",\"SF\",\"SF\",\"PG\",\"PG\",\"PF\",\"SF\",\"SG\",\"PF\",\"SG\",\"PG\",\"PG\",\"PG\",\"PF\",\"SF\",\"C\",\"PF\",\"C\",\"PF\",\"SG\",\"SG\",\"SG\",\"PG\",\"SG\",\"SG\",\"SF\",\"SF\",\"SF\",\"C\",\"PG\",\"PG\",\"PF\",\"PF\",\"SG\",\"SF\",\"PG\",\"SG\",\"PG\",\"C\",\"PG\",\"SG\",\"PG\",\"C\",\"PG\",\"SF\",\"SF\",\"SG\",\"PF\",\"SF\",\"SF\",\"PG\",\"C\",\"SF\",\"SG\",\"SG\",\"PG\",\"PG\",\"PG\",\"PG\",\"C\",\"SF\",\"PF\",\"C\",\"C\",\"SF\",\"PF\",\"SG\",\"SF\",\"C\",\"SG\",\"SG\",\"SF\",\"PF\",\"SG\",\"SF\",\"SG\",\"SG\",\"PF\",\"PG\",\"PF\",\"C\",\"C\",\"C\",\"C\",\"C\",\"PF\",\"C\",\"PG\",\"SF\",\"SG\",\"PG\",\"C\",\"C\",\"C\",\"SF\",\"PF\",\"PG\",\"SG\",\"SG\",\"SF\",\"PF\",\"PF\",\"C\",\"SF\",\"PF\",\"PG\",\"PF\",\"PF\",\"SG\",\"SF\",\"C\",\"PG\",\"SF\",\"C\",\"PF\",\"SG\",\"C\",\"PF\",\"C\",\"PF\",\"PG\",\"PF\",\"SF\",\"PF\",\"SG\",\"SG\",\"SG\",\"C\",\"SG\",\"PF\",\"PF\",\"PG\",\"C\",\"SG\",\"PF\",\"SG\",\"PF\",\"SG\",\"PG\",\"PG\",\"C\",\"PF\",\"C\",\"PF\",\"C\",\"C\",\"SG\",\"PG\",\"PG\",\"C\",\"SF\",\"SF\",\"SF\",\"SF\",\"PF\",\"SG\",\"SG\",\"SF\",\"PG\",\"PG\",\"PG\",\"SG\",\"SG\",\"SG\",\"SG\",\"PF\",\"SG\",\"PG\",\"SG\",\"PF\",\"SF\",\"PF\",\"PG\",\"SG\",\"C\",\"SF\",\"SG\",\"SF\",\"PG\",\"PF\",\"PF\",\"SG\",\"C\",\"SF\",\"C\",\"PF\",\"PG\",\"PG\",\"SF\",\"PF\",\"SG\",\"PG\",\"SF\",\"PG\",\"PG\",\"PG\",\"SF\",\"PG\",\"SF\",\"SF\",\"PF\"],\"Team\":[\"DEN\",\"POR\",\"BOS\",\"DEN\",\"DEN\",\"HOU\",\"MIA\",\"DAL\",\"TOR\",\"ORL\",\"HOU\",\"MIA\",\"MIL\",\"ATL\",\"DEN\",\"TOT\",\"WAS\",\"SAS\",\"MIL\",\"UTA\",\"TOR\",\"PHI\",\"MIN\",\"TOT\",\"UTA\",\"HOU\",\"LAL\",\"LAL\",\"TOT\",\"WAS\",\"LAC\",\"LAL\",\"DET\",\"TOR\",\"TOT\",\"LAC\",\"ORL\",\"SAC\",\"MIA\",\"NYK\",\"NOH\",\"OKC\",\"MEM\",\"ATL\",\"GSW\",\"PHI\",\"LAC\",\"MIL\",\"CHI\",\"TOR\",\"CHA\",\"NJN\",\"PHO\",\"NYK\",\"SAS\",\"OKC\",\"GSW\",\"SAC\",\"CHA\",\"LAL\",\"MIN\",\"WAS\",\"PHO\",\"NYK\",\"BOS\",\"MEM\",\"LAL\",\"MEM\",\"CHI\",\"SAS\",\"MIN\",\"TOT\",\"DET\",\"LAC\",\"IND\",\"OKC\",\"PHI\",\"SAC\",\"DET\",\"OKC\",\"NYK\",\"NJN\",\"MIA\",\"SAC\",\"HOU\",\"TOT\",\"WAS\",\"IND\",\"CLE\",\"DEN\",\"SAS\",\"PHO\",\"CHI\",\"PHI\",\"ATL\",\"ORL\",\"POR\",\"PHI\",\"MIL\",\"TOR\",\"TOT\",\"CHA\",\"CLE\",\"TOT\",\"WAS\",\"MIN\",\"SAS\",\"TOT\",\"MIL\",\"DET\",\"NJN\",\"ATL\",\"IND\",\"LAC\",\"DAL\",\"UTA\",\"OKC\",\"TOT\",\"NJN\",\"NYK\",\"ORL\",\"NJN\",\"MIN\",\"HOU\",\"GSW\",\"DAL\",\"DEN\",\"TOT\",\"SAS\",\"UTA\",\"DET\",\"MEM\",\"MIL\",\"SAS\",\"POR\",\"CHI\",\"WAS\",\"UTA\",\"GSW\",\"IND\",\"TOT\",\"PHO\",\"ORL\",\"CHI\",\"DAL\",\"MIA\",\"LAL\",\"NOH\",\"UTA\",\"CLE\",\"SAS\",\"NOH\",\"BOS\",\"BOS\",\"ORL\",\"NOH\",\"DET\",\"MEM\",\"ORL\",\"PHO\",\"MIA\",\"MIL\",\"BOS\",\"CHI\",\"POR\",\"IND\",\"TOT\",\"CHI\",\"HOU\",\"OKC\",\"MIN\",\"DEN\",\"ATL\",\"NOH\",\"PHO\",\"DET\",\"DAL\",\"SAC\",\"TOT\",\"NOH\",\"TOR\",\"SAC\",\"CLE\",\"DET\",\"MIA\",\"DET\",\"CHA\",\"BOS\",\"TOT\",\"GSW\",\"IND\",\"POR\",\"NOH\",\"CLE\",\"OKC\",\"MIN\",\"UTA\",\"ORL\",\"PHI\",\"ATL\",\"CLE\",\"NJN\",\"LAL\",\"PHI\"],\"ThreeRatio\":{\"__ndarray__\":\"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\",\"dtype\":\"float64\",\"shape\":[204]},\"TwoPointAttempt\":{\"__ndarray__\":\"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\",\"dtype\":\"float64\",\"shape\":[204]},\"TwoPointMade\":{\"__ndarray__\":\"AAAAAACAZEAAAAAAAPCBQAAAAAAA8HNAAAAAAADAYUAAAAAAAKiDQAAAAAAAIHBAAAAAAABgZUAAAAAAAABmQAAAAAAAAHpAAAAAAACgaUAAAAAAAEBTQAAAAAAAgHtAAAAAAAAAWEAAAAAAAMBhQAAAAAAAoG5AAAAAAABAWUAAAAAAABB9QAAAAAAAAElAAAAAAACQfUAAAAAAAEiDQAAAAAAAgIJAAAAAAADAeUAAAAAAAHB0QAAAAAAAIGlAAAAAAADAaEAAAAAAAOB2QAAAAAAA4GdAAAAAAABIg0AAAAAAAIB5QAAAAAAAwHBAAAAAAABgakAAAAAAAIB4QAAAAAAAIGxAAAAAAADAaUAAAAAAAIBtQAAAAAAAgGRAAAAAAACwc0AAAAAAACBsQAAAAAAAwFpAAAAAAABAd0AAAAAAAKB0QAAAAAAAoGZAAAAAAADwcUAAAAAAANB0QAAAAAAAoHZAAAAAAADQcUAAAAAAAKB0QAAAAAAAoGRAAAAAAACQe0AAAAAAAGBvQAAAAAAAMHNAAAAAAAAgbkAAAAAAAEBaQAAAAAAAgFNAAAAAAAB4gUAAAAAAANCEQAAAAAAAUIFAAAAAAAAQf0AAAAAAAIB0QAAAAAAAwGBAAAAAAAAAdEAAAAAAACBoQAAAAAAAIGJAAAAAAADAaUAAAAAAABB5QAAAAAAAoHdAAAAAAABAfEAAAAAAALCAQAAAAAAAcHNAAAAAAACgcEAAAAAAAKBvQAAAAAAA8HFAAAAAAAAAa0AAAAAAACBtQAAAAAAAoHRAAAAAAADQd0AAAAAAACBpQAAAAAAA4GVAAAAAAACAb0AAAAAAAIBhQAAAAAAAQHNAAAAAAACAckAAAAAAAIBzQAAAAAAA4HFAAAAAAAAgZEAAAAAAAEBxQAAAAAAAgGdAAAAAAAAAeEAAAAAAABByQAAAAAAAUHpAAAAAAABgcUAAAAAAANByQAAAAAAAgGlAAAAAAAAAZUAAAAAAACB9QAAAAAAA4H9AAAAAAADgZ0AAAAAAACB5QAAAAAAAQG5AAAAAAAAgbkAAAAAAAHB9QAAAAAAAoHpAAAAAAAD4g0AAAAAAAJB4QAAAAAAAEHBAAAAAAACAgUAAAAAAAPByQAAAAAAAQF1AAAAAAAAgc0AAAAAAAMBvQAAAAAAAgGpAAAAAAACgf0AAAAAAALBxQAAAAAAAaIJAAAAAAAAAW0AAAAAAAEBrQAAAAAAAgHFAAAAAAAAgf0AAAAAAAGBwQAAAAAAAcIVAAAAAAADAZkAAAAAAAJiBQAAAAAAAAHBAAAAAAABgYkAAAAAAAMB7QAAAAAAAgHhAAAAAAAAwcUAAAAAAAGBrQAAAAAAAQFpAAAAAAABAakAAAAAAAIBqQAAAAAAAYHlAAAAAAABgZUAAAAAAAKBpQAAAAAAAQHhAAAAAAACgakAAAAAAAOBgQAAAAAAAAHhAAAAAAACgZ0AAAAAAAABwQAAAAAAA4GhAAAAAAABwd0AAAAAAAOBsQAAAAAAAYHBAAAAAAADohEAAAAAAAKB4QAAAAAAAwHFAAAAAAADAdUAAAAAAABBxQAAAAAAAgFhAAAAAAAAwdUAAAAAAAGBwQAAAAAAAoHNAAAAAAADAckAAAAAAAEBdQAAAAAAAgEZAAAAAAADgb0AAAAAAAOiDQAAAAAAAgGBAAAAAAADAc0AAAAAAAABZQAAAAAAAMHBAAAAAAACge0AAAAAAAICEQAAAAAAAIHpAAAAAAACgZUAAAAAAAPBzQAAAAAAAoGNAAAAAAAB4gUAAAAAAACBjQAAAAAAAgG9AAAAAAADgcEAAAAAAAIB/QAAAAAAAQGJAAAAAAAD4hUAAAAAAAPB6QAAAAAAAAHRAAAAAAAAQd0AAAAAAAFBzQAAAAAAAkHFAAAAAAAAAZUAAAAAAAEB1QAAAAAAAoHBAAAAAAACAcEAAAAAAADCEQAAAAAAAwGNAAAAAAABAeUAAAAAAAABnQAAAAAAAgHBAAAAAAABAaUAAAAAAAEBlQAAAAAAA4GBAAAAAAAAgg0AAAAAAACBlQAAAAAAA4HxAAAAAAABgYkAAAAAAAOB4QAAAAAAAQFpAAAAAAAAAb0AAAAAAAGBwQAAAAAAAYGtAAAAAAADAbEAAAAAAACBpQAAAAAAA4HRA\",\"dtype\":\"float64\",\"shape\":[204]},\"x\":{\"__ndarray__\":\"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\",\"dtype\":\"float64\",\"shape\":[204]},\"y\":{\"__ndarray__\":\"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\",\"dtype\":\"float64\",\"shape\":[204]}},\"selected\":{\"id\":\"f6186c92-f36c-492a-b4c6-d83d72dc8831\",\"type\":\"Selection\"},\"selection_policy\":{\"id\":\"58b95cab-43f6-4bbe-9675-a5387cf5dff5\",\"type\":\"UnionRenderers\"}},\"id\":\"da234587-fa60-4e16-8132-8d7c160bfc34\",\"type\":\"ColumnDataSource\"},{\"attributes\":{\"source\":{\"id\":\"da234587-fa60-4e16-8132-8d7c160bfc34\",\"type\":\"ColumnDataSource\"}},\"id\":\"bed98034-656c-4f19-8625-57f78df356bc\",\"type\":\"CDSView\"},{\"attributes\":{\"callback\":null,\"renderers\":\"auto\",\"tooltips\":[[\"FG Attempted Total/Season\",\"@FGA\"],[\"3P Attempted/Season\",\"@y\"],[\"3P Made/Season\",\"@x\"],[\"2P Attempted/Season\",\"@TwoPointAttempt\"],[\"2P Made/Season\",\"@TwoPointMade\"],[\"Player\",\"@Player\"]]},\"id\":\"8f7e70a2-3efd-4b3e-b5f3-c4dd3d6f96cd\",\"type\":\"HoverTool\"},{\"attributes\":{},\"id\":\"58b95cab-43f6-4bbe-9675-a5387cf5dff5\",\"type\":\"UnionRenderers\"},{\"attributes\":{},\"id\":\"894a779e-8bea-4a21-b168-97e8b41d0c8f\",\"type\":\"BasicTickFormatter\"},{\"attributes\":{\"label\":{\"value\":\"Cross: 2 Pointers\"},\"renderers\":[{\"id\":\"c2e7af26-379f-44e6-b9bf-1a6b26a80aaa\",\"type\":\"GlyphRenderer\"}]},\"id\":\"97572442-10cb-402b-8fcf-929d24c63a23\",\"type\":\"LegendItem\"},{\"attributes\":{\"fill_color\":{\"value\":\"blue\"},\"line_color\":{\"value\":null}},\"id\":\"5ea334a1-47fb-4e5f-88a4-e3a4732f48dd\",\"type\":\"Circle\"},{\"attributes\":{\"plot\":null,\"text\":\"2Points vs 3Points\"},\"id\":\"d7ebc06f-f806-4ea6-bb9e-eee629d9b585\",\"type\":\"Title\"},{\"attributes\":{\"callback\":null,\"end\":2000,\"start\":-100},\"id\":\"a783eb4a-efac-4982-a496-0c8263fe0a08\",\"type\":\"Range1d\"},{\"attributes\":{\"active_drag\":\"auto\",\"active_inspect\":\"auto\",\"active_scroll\":\"auto\",\"active_tap\":\"auto\",\"tools\":[{\"id\":\"8f7e70a2-3efd-4b3e-b5f3-c4dd3d6f96cd\",\"type\":\"HoverTool\"},{\"id\":\"8b8eaf81-1db8-4e9a-9d2c-7b36801d35ef\",\"type\":\"PanTool\"},{\"id\":\"9a42e868-63d0-4678-a3c2-1ee03581e598\",\"type\":\"WheelZoomTool\"},{\"id\":\"dac89002-eb03-4a6e-9f1d-2a7c7dd31daf\",\"type\":\"BoxZoomTool\"},{\"id\":\"2667cf98-4ec1-4911-ad5d-3832ef005617\",\"type\":\"ResetTool\"},{\"id\":\"42bb2184-c47e-4db2-af13-571141854ae9\",\"type\":\"CrosshairTool\"},{\"id\":\"4906761f-17cf-4350-bd4b-4bad2f3dd932\",\"type\":\"LassoSelectTool\"},{\"id\":\"418d4aea-316f-4401-bf4a-74b78cdbc3dd\",\"type\":\"TapTool\"}]},\"id\":\"98a6a88b-60df-4106-835a-2343a8b4999c\",\"type\":\"Toolbar\"},{\"attributes\":{\"data_source\":{\"id\":\"da234587-fa60-4e16-8132-8d7c160bfc34\",\"type\":\"ColumnDataSource\"},\"glyph\":{\"id\":\"9052f407-d405-4b9e-80cb-484249db05ba\",\"type\":\"Circle\"},\"hover_glyph\":null,\"muted_glyph\":null,\"nonselection_glyph\":{\"id\":\"e7d9221a-e434-4314-856a-530ead69dd30\",\"type\":\"Circle\"},\"selection_glyph\":{\"id\":\"5ea334a1-47fb-4e5f-88a4-e3a4732f48dd\",\"type\":\"Circle\"},\"view\":{\"id\":\"9333d420-bcf1-4ca8-856e-e1e8c906e5c4\",\"type\":\"CDSView\"}},\"id\":\"cb48e7ae-286f-4842-bf42-6ffbef53ad44\",\"type\":\"GlyphRenderer\"},{\"attributes\":{\"callback\":null,\"end\":800,\"start\":-100},\"id\":\"8dea3731-0105-4683-af6c-84129da8403c\",\"type\":\"Range1d\"},{\"attributes\":{},\"id\":\"082b5f74-21ce-4a78-89da-934f90279d2f\",\"type\":\"LinearScale\"},{\"attributes\":{},\"id\":\"876fddc2-8353-4fe9-bdf6-8a6028da777a\",\"type\":\"LinearScale\"},{\"attributes\":{\"plot\":{\"id\":\"a4d788fa-da0a-44e6-a27a-b2b695bcc53c\",\"subtype\":\"Figure\",\"type\":\"Plot\"},\"ticker\":{\"id\":\"9b19c5d2-4595-4a5f-88e8-d2118335bb9a\",\"type\":\"BasicTicker\"}},\"id\":\"9d4fd66f-b587-4dea-a657-2ae668723d40\",\"type\":\"Grid\"},{\"attributes\":{\"axis_label\":\"Shots Attemps \",\"formatter\":{\"id\":\"b6fba549-4370-4ef7-9cc4-acc592d90f6e\",\"type\":\"BasicTickFormatter\"},\"plot\":{\"id\":\"a4d788fa-da0a-44e6-a27a-b2b695bcc53c\",\"subtype\":\"Figure\",\"type\":\"Plot\"},\"ticker\":{\"id\":\"9b19c5d2-4595-4a5f-88e8-d2118335bb9a\",\"type\":\"BasicTicker\"}},\"id\":\"fde0eb24-8161-49fd-bd1a-cfc198de33e5\",\"type\":\"LinearAxis\"},{\"attributes\":{},\"id\":\"9b19c5d2-4595-4a5f-88e8-d2118335bb9a\",\"type\":\"BasicTicker\"},{\"attributes\":{\"axis_label\":\"Shots Made\",\"formatter\":{\"id\":\"894a779e-8bea-4a21-b168-97e8b41d0c8f\",\"type\":\"BasicTickFormatter\"},\"plot\":{\"id\":\"a4d788fa-da0a-44e6-a27a-b2b695bcc53c\",\"subtype\":\"Figure\",\"type\":\"Plot\"},\"ticker\":{\"id\":\"d7e4a7e4-9b93-40f7-8882-d514644a66d5\",\"type\":\"BasicTicker\"}},\"id\":\"f34d09b6-0ca4-4cf6-a8aa-230a590a4e31\",\"type\":\"LinearAxis\"},{\"attributes\":{},\"id\":\"d7e4a7e4-9b93-40f7-8882-d514644a66d5\",\"type\":\"BasicTicker\"},{\"attributes\":{\"dimension\":1,\"plot\":{\"id\":\"a4d788fa-da0a-44e6-a27a-b2b695bcc53c\",\"subtype\":\"Figure\",\"type\":\"Plot\"},\"ticker\":{\"id\":\"d7e4a7e4-9b93-40f7-8882-d514644a66d5\",\"type\":\"BasicTicker\"}},\"id\":\"2866ab77-42ae-494e-ac0e-da58a04511c7\",\"type\":\"Grid\"},{\"attributes\":{\"source\":{\"id\":\"da234587-fa60-4e16-8132-8d7c160bfc34\",\"type\":\"ColumnDataSource\"}},\"id\":\"9333d420-bcf1-4ca8-856e-e1e8c906e5c4\",\"type\":\"CDSView\"},{\"attributes\":{},\"id\":\"8b8eaf81-1db8-4e9a-9d2c-7b36801d35ef\",\"type\":\"PanTool\"},{\"attributes\":{\"fill_alpha\":{\"value\":0.2},\"fill_color\":{\"value\":\"blue\"},\"line_alpha\":{\"value\":0.2},\"line_color\":{\"value\":\"blue\"},\"size\":{\"units\":\"screen\",\"value\":10},\"x\":{\"field\":\"y\"},\"y\":{\"field\":\"x\"}},\"id\":\"9052f407-d405-4b9e-80cb-484249db05ba\",\"type\":\"Circle\"}],\"root_ids\":[\"a4d788fa-da0a-44e6-a27a-b2b695bcc53c\"]},\"title\":\"Bokeh Application\",\"version\":\"0.12.16\"}};\n",
       "  var render_items = [{\"docid\":\"98be6b44-7748-4f04-9cd5-0a030f9ce09b\",\"elementid\":\"cd5ba195-643f-4921-b18b-b89bcade4964\",\"modelid\":\"a4d788fa-da0a-44e6-a27a-b2b695bcc53c\",\"notebook_comms_target\":\"f20316cb-41a0-4e12-836e-ca0d24541c19\"}];\n",
       "  root.Bokeh.embed.embed_items_notebook(docs_json, render_items);\n",
       "\n",
       "  }\n",
       "  if (root.Bokeh !== undefined) {\n",
       "    embed_document(root);\n",
       "  } else {\n",
       "    var attempts = 0;\n",
       "    var timer = setInterval(function(root) {\n",
       "      if (root.Bokeh !== undefined) {\n",
       "        embed_document(root);\n",
       "        clearInterval(timer);\n",
       "      }\n",
       "      attempts++;\n",
       "      if (attempts > 100) {\n",
       "        console.log(\"Bokeh: ERROR: Unable to run BokehJS code because BokehJS library is missing\")\n",
       "        clearInterval(timer);\n",
       "      }\n",
       "    }, 10, root)\n",
       "  }\n",
       "})(window);"
      ],
      "application/vnd.bokehjs_exec.v0+json": ""
     },
     "metadata": {
      "application/vnd.bokehjs_exec.v0+json": {
       "id": "a4d788fa-da0a-44e6-a27a-b2b695bcc53c"
      }
     },
     "output_type": "display_data"
    },
    {
     "data": {
      "application/vnd.jupyter.widget-view+json": {
       "model_id": "782c22fb5b294163b1a2f2ad6d431b78",
       "version_major": 2,
       "version_minor": 0
      },
      "text/plain": [
       "interactive(children=(Play(value=1980, description='Year', max=2017, min=1980), Output()), _dom_classes=('widg…"
      ]
     },
     "metadata": {},
     "output_type": "display_data"
    },
    {
     "data": {
      "application/vnd.jupyter.widget-view+json": {
       "model_id": "fcae6ac43c9444d4afc655b114c041c5",
       "version_major": 2,
       "version_minor": 0
      },
      "text/plain": [
       "interactive(children=(IntSlider(value=1980, description='Years:', max=2017, min=1980), Output()), _dom_classes…"
      ]
     },
     "metadata": {},
     "output_type": "display_data"
    },
    {
     "data": {
      "application/vnd.jupyter.widget-view+json": {
       "model_id": "eaed70553e4e48e0a26ae95ba817e8aa",
       "version_major": 2,
       "version_minor": 0
      },
      "text/plain": [
       "interactive(children=(BoundedIntText(value=1980, description='Text:', max=2017, min=1980), Output()), _dom_cla…"
      ]
     },
     "metadata": {},
     "output_type": "display_data"
    },
    {
     "data": {
      "text/plain": [
       "<function __main__.update(Year)>"
      ]
     },
     "execution_count": 36,
     "metadata": {},
     "output_type": "execute_result"
    }
   ],
   "source": [
    "from bokeh.models import ColumnDataSource\n",
    "from bokeh.models import HoverTool\n",
    "from bokeh.models import LinearInterpolator\n",
    "from bokeh.models import CategoricalColorMapper\n",
    "from bokeh.palettes import Set1_9\n",
    "from bokeh.plotting import figure\n",
    "from bokeh.models import Circle\n",
    "from ipywidgets import interact, interactive, fixed, interact_manual,widgets\n",
    "from bokeh.io import push_notebook,show\n",
    "\n",
    "\n",
    "data3 = pd.read_csv('nba-players-stats/SeasonStats1500MP3.1.csv',index_col=['Year'])\n",
    "#data3 = pd.read_csv('nba-players-stats/Seasons_Stats.csv',index_col=['Year'])\n",
    "source = ColumnDataSource(dict(\n",
    "    x = data3.loc[2010].ThreeMade,  \n",
    "    y = data3.loc[2010].ThreeAttempt,\n",
    "    Percentages = data3.loc[2010].Threepercent,\n",
    "    Player = data3.loc[2010].Player,\n",
    "    Position = data3.loc[2010].Pos,\n",
    "    Team = data3.loc[2010].Tm,\n",
    "    MP = data3.loc[2010].MP,\n",
    "    ThreeRatio = data3.loc[2010].get('3PAr'),\n",
    "    FGA= data3.loc[2010].get('FGA'),\n",
    "    TwoPointMade = data3.loc[2010].get('2P'),\n",
    "    TwoPointAttempt = data3.loc[2010].get('2PA')\n",
    "))\n",
    "\n",
    "Hover_tools = HoverTool(tooltips = [\n",
    "     #('Year', '@Year'),\n",
    "    ('FG Attempted Total/Season', \"@FGA\"),\n",
    "     ('3P Attempted/Season', \"@y\"),\n",
    "    ('3P Made/Season', '@x'),\n",
    "     ('2P Attempted/Season','@TwoPointAttempt'),\n",
    "    ('2P Made/Season','@TwoPointMade'),\n",
    "    ('Player', '@Player')])\n",
    "\n",
    "p4 = figure( tools = [Hover_tools,'pan', 'wheel_zoom','box_zoom','reset','crosshair','lasso_select','tap'],\n",
    "            height=800,\n",
    "           width = 600,\n",
    "           x_range = (-100,2000),\n",
    "           y_range=(-100,800),\n",
    "            title = \"2Points vs 3Points\",\n",
    "              x_axis_label = \"Shots Attemps \",\n",
    "           y_axis_label = \"Shots Made\"\n",
    "        )\n",
    "\n",
    "g = p4.circle(x='y', \n",
    "         y='x',\n",
    "          size = 10,\n",
    "         color = 'blue',\n",
    "         #size = {'field':'population','transform':relative_size},\n",
    "        #color = {'field': 'Position','transform': mapping_coloring},\n",
    "         alpha = 0.2,\n",
    "       legend = 'Circle : 3 pointers ',\n",
    "        source = source)\n",
    "\n",
    "p4.cross(x='TwoPointAttempt', \n",
    "         y='TwoPointMade',\n",
    "           color = 'red',\n",
    "#           width = 10,\n",
    "#           height = 10,\n",
    "          size = 10,\n",
    "#          size = {'field':'population','transform':relative_size},\n",
    "     #  color = {'field': 'Position','transform': mapping_coloring},\n",
    "         alpha = 0.7,\n",
    "         legend = 'Cross: 2 Pointers',\n",
    "        source = source)\n",
    "\n",
    "\n",
    "\n",
    "def update(Year):\n",
    "    interactivedata = dict(\n",
    "    x = data3.loc[Year].ThreeMade,  \n",
    "    y = data3.loc[Year].ThreeAttempt,\n",
    "    Percentages = data3.loc[Year].Threepercent,\n",
    "    Player = data3.loc[Year].Player,\n",
    "    Position = data3.loc[Year].Pos,\n",
    "    Team = data3.loc[Year].Tm,\n",
    "    MP = data3.loc[Year].MP,\n",
    "    ThreeRatio = data3.loc[Year].get('3PAr'),\n",
    "    FGA= data3.loc[Year].get('FGA'),\n",
    "    TwoPointMade = data3.loc[Year].get('2P'),\n",
    "    TwoPointAttempt = data3.loc[Year].get('2PA')\n",
    "    )\n",
    "    \n",
    "    source.data = interactivedata\n",
    "    p4.title.text='2Points vs 3Points'+ \"(Season:\"+  str(Year-1) + \"-\" + str(Year)+\")\"\n",
    "    push_notebook()\n",
    "    \n",
    "    \n",
    "selected_circle = Circle(fill_alpha=1, fill_color=\"blue\", line_color=None)\n",
    "nonselected_circle = Circle(line_alpha=0.1,fill_alpha=0.02,fill_color=\"grey\", line_color=\"blue\")\n",
    "\n",
    "    \n",
    "\n",
    "g.selection_glyph = selected_circle\n",
    "g.nonselection_glyph = nonselected_circle\n",
    "\n",
    "    \n",
    "    \n",
    "p4.legend.click_policy=\"hide\"\n",
    "p4.right = p4.legend\n",
    "show(p4,notebook_handle=True)\n",
    "\n",
    "interact(update,\n",
    "    Year = widgets.Play(\n",
    "    value=0,\n",
    "    min=1980,\n",
    "    max=2017,\n",
    "    step=1,\n",
    "    disabled=False\n",
    "))\n",
    "\n",
    "\n",
    "interact(update,\n",
    "    Year = widgets.IntSlider(\n",
    "    value=0,\n",
    "    min=1980,\n",
    "    max=2017,\n",
    "    step=1,\n",
    "    description='Years:',\n",
    "    continuous_update=True,\n",
    "    orientation='Horizontal',\n",
    "    readout=True,\n",
    "    readout_format='d',\n",
    "))\n",
    "\n",
    "\n",
    "interact(update,\n",
    "    Year = widgets.BoundedIntText(\n",
    "    value=0,\n",
    "    min=1980,\n",
    "    max=2017,\n",
    "    #continuous_update=True,\n",
    "    step=1,\n",
    "    description='Text:',\n",
    "    disabled=False\n",
    "))"
   ]
  },
  {
   "cell_type": "markdown",
   "metadata": {
    "extensions": {
     "jupyter_dashboards": {
      "version": 1,
      "views": {
       "grid_default": {
        "col": 7,
        "height": 4,
        "hidden": false,
        "row": 249,
        "width": 4
       },
       "report_default": {
        "hidden": false
       }
      }
     }
    }
   },
   "source": [
    "# Same Graph As Above but with  all players in the data. "
   ]
  },
  {
   "cell_type": "code",
   "execution_count": 37,
   "metadata": {
    "extensions": {
     "jupyter_dashboards": {
      "version": 1,
      "views": {
       "grid_default": {
        "hidden": true
       },
       "report_default": {
        "hidden": true
       }
      }
     }
    }
   },
   "outputs": [
    {
     "data": {
      "application/vnd.jupyter.widget-view+json": {
       "model_id": "4546b54d2d414517af09d8fdf3def5d1",
       "version_major": 2,
       "version_minor": 0
      },
      "text/plain": [
       "Button(description='Run Cell Below', style=ButtonStyle())"
      ]
     },
     "metadata": {},
     "output_type": "display_data"
    }
   ],
   "source": [
    "from IPython.display import Javascript, display\n",
    "from ipywidgets import widgets\n",
    "\n",
    "\n",
    "def run_all(ev):\n",
    "    display(Javascript('IPython.notebook.execute_cell_range(IPython.notebook.get_selected_index()+1, IPython.notebook.get_selected_index()+2)'))\n",
    "\n",
    "button = widgets.Button(description=\"Run Cell Below\")\n",
    "button.on_click(run_all)\n",
    "display(button)"
   ]
  },
  {
   "cell_type": "code",
   "execution_count": 38,
   "metadata": {
    "extensions": {
     "jupyter_dashboards": {
      "version": 1,
      "views": {
       "grid_default": {
        "col": 0,
        "height": 35,
        "hidden": false,
        "row": 489,
        "width": 9
       },
       "report_default": {
        "hidden": false
       }
      }
     }
    }
   },
   "outputs": [
    {
     "data": {
      "text/html": [
       "\n",
       "<div class=\"bk-root\">\n",
       "    <div class=\"bk-plotdiv\" id=\"ee0c17b7-db56-4489-898c-60ee7ff97b96\"></div>\n",
       "</div>"
      ]
     },
     "metadata": {},
     "output_type": "display_data"
    },
    {
     "data": {
      "application/javascript": [
       "(function(root) {\n",
       "  function embed_document(root) {\n",
       "    \n",
       "  var docs_json = {\"f79a9479-55ad-4cd9-a227-c985357dfdde\":{\"roots\":{\"references\":[{\"attributes\":{\"label\":{\"value\":\"Circle : 3 pointers \"},\"renderers\":[{\"id\":\"ce6c499d-f8ad-4e15-a52b-cdeb42384563\",\"type\":\"GlyphRenderer\"}]},\"id\":\"06b54503-1825-42de-bfeb-d87dc7d0579c\",\"type\":\"LegendItem\"},{\"attributes\":{\"source\":{\"id\":\"8e4b6500-6a07-424f-8eae-e49ca0c8d314\",\"type\":\"ColumnDataSource\"}},\"id\":\"beec1e00-0484-4fd3-b4f6-aea8ffd0110b\",\"type\":\"CDSView\"},{\"attributes\":{\"callback\":null,\"data\":{\"FGA\":{\"__ndarray__\":\"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\",\"dtype\":\"float64\",\"shape\":[578]},\"MP\":{\"__ndarray__\":\"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\",\"dtype\":\"float64\",\"shape\":[578]},\"Percentages\":{\"__ndarray__\":\"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\",\"dtype\":\"float64\",\"shape\":[578]},\"Player\":[\"Arron Afflalo\",\"Alexis Ajinca\",\"LaMarcus Aldridge\",\"Joe Alexander\",\"Malik Allen\",\"Ray Allen\",\"Tony Allen\",\"Rafer Alston\",\"Rafer Alston\",\"Rafer Alston\",\"Lou Amundson\",\"Chris Andersen\",\"David Andersen\",\"Antonio Anderson\",\"Ryan Anderson\",\"Carmelo Anthony\",\"Joel Anthony\",\"Gilbert Arenas\",\"Trevor Ariza\",\"Hilton Armstrong\",\"Hilton Armstrong\",\"Hilton Armstrong\",\"Hilton Armstrong\",\"Carlos Arroyo\",\"Darrell Arthur\",\"Chucky Atkins\",\"D.J. Augustin\",\"Jeff Ayres\",\"Kelenna Azubuike\",\"Renaldo Balkman\",\"Marcus Banks\",\"Leandro Barbosa\",\"J.J. Barea\",\"Andrea Bargnani\",\"Matt Barnes\",\"Earl Barron\",\"Brandon Bass\",\"Tony Battie\",\"Shane Battier\",\"Nicolas Batum\",\"Jerryd Bayless\",\"Michael Beasley\",\"Rodrigue Beaubois\",\"Marco Belinelli\",\"Charlie Bell\",\"Raja Bell\",\"Raja Bell\",\"Raja Bell\",\"Jonathan Bender\",\"Mike Bibby\",\"Andris Biedrins\",\"Chauncey Billups\",\"DeJuan Blair\",\"Steve Blake\",\"Steve Blake\",\"Steve Blake\",\"Andray Blatche\",\"Keith Bogans\",\"Andrew Bogut\",\"Matt Bonner\",\"Josh Boone\",\"Carlos Boozer\",\"Chris Bosh\",\"Ryan Bowen\",\"Earl Boykins\",\"Elton Brand\",\"Corey Brewer\",\"Ronnie Brewer\",\"Ronnie Brewer\",\"Ronnie Brewer\",\"Primoz Brezec\",\"Primoz Brezec\",\"Primoz Brezec\",\"Jon Brockman\",\"Aaron Brooks\",\"Bobby Brown\",\"Bobby Brown\",\"Bobby Brown\",\"Derrick Brown\",\"Devin Brown\",\"Devin Brown\",\"Devin Brown\",\"Kwame Brown\",\"Shannon Brown\",\"Kobe Bryant\",\"Chase Budinger\",\"Caron Butler\",\"Caron Butler\",\"Caron Butler\",\"Rasual Butler\",\"Andrew Bynum\",\"Will Bynum\",\"Jose Calderon\",\"Marcus Camby\",\"Marcus Camby\",\"Marcus Camby\",\"Brian Cardinal\",\"Rodney Carney\",\"DeMarre Carroll\",\"Matt Carroll\",\"Anthony Carter\",\"Vince Carter\",\"Omri Casspi\",\"Mario Chalmers\",\"Tyson Chandler\",\"Wilson Chandler\",\"Earl Clark\",\"Jarron Collins\",\"Jason Collins\",\"Mardy Collins\",\"Darren Collison\",\"Nick Collison\",\"Mike Conley\",\"Will Conroy\",\"Brian Cook\",\"Daequan Cook\",\"Jamal Crawford\",\"Dante Cunningham\",\"Eddy Curry\",\"JamesOn Curry\",\"Stephen Curry\",\"Samuel Dalembert\",\"Erick Dampier\",\"Marquis Daniels\",\"Baron Davis\",\"Glen Davis\",\"Paul Davis\",\"Ricky Davis\",\"Austin Daye\",\"Carlos Delfino\",\"Luol Deng\",\"DeMar DeRozan\",\"Boris Diaw\",\"Yakhouba Diawara\",\"Travis Diener\",\"Travis Diener\",\"Travis Diener\",\"DeSagana Diop\",\"Keyon Dooling\",\"Joey Dorsey\",\"Joey Dorsey\",\"Joey Dorsey\",\"Toney Douglas\",\"Chris Douglas-Roberts\",\"Goran Dragic\",\"Jared Dudley\",\"Chris Duhon\",\"Tim Duncan\",\"Mike Dunleavy\",\"Kevin Durant\",\"Wayne Ellington\",\"Monta Ellis\",\"Francisco Elson\",\"Francisco Elson\",\"Francisco Elson\",\"Maurice Evans\",\"Reggie Evans\",\"Tyreke Evans\",\"Jordan Farmar\",\"Raymond Felton\",\"Rudy Fernandez\",\"Kyrylo Fesenko\",\"Michael Finley\",\"Michael Finley\",\"Michael Finley\",\"Derek Fisher\",\"Jonny Flynn\",\"T.J. Ford\",\"Jeff Foster\",\"Randy Foye\",\"Channing Frye\",\"Dan Gadzuric\",\"Sundiata Gaines\",\"Danilo Gallinari\",\"Francisco Garcia\",\"Kevin Garnett\",\"Marc Gasol\",\"Pau Gasol\",\"Rudy Gay\",\"Alonzo Gee\",\"Devean George\",\"Daniel Gibson\",\"Taj Gibson\",\"J.R. Giddens\",\"J.R. Giddens\",\"J.R. Giddens\",\"Trey Gilder\",\"Manu Ginobili\",\"Ryan Gomes\",\"Drew Gooden\",\"Drew Gooden\",\"Drew Gooden\",\"Ben Gordon\",\"Eric Gordon\",\"Marcin Gortat\",\"Joey Graham\",\"Stephen Graham\",\"Danny Granger\",\"Aaron Gray\",\"Aaron Gray\",\"Aaron Gray\",\"Danny Green\",\"Jeff Green\",\"Willie Green\",\"Donte Greene\",\"Taylor Griffin\",\"Hamed Haddadi\",\"Malik Hairston\",\"Marcus Haislip\",\"Richard Hamilton\",\"Tyler Hansbrough\",\"James Harden\",\"Al Harrington\",\"Devin Harris\",\"Mike Harris\",\"Mike Harris\",\"Mike Harris\",\"Jason Hart\",\"Jason Hart\",\"Jason Hart\",\"Udonis Haslem\",\"Trenton Hassell\",\"Spencer Hawes\",\"Chuck Hayes\",\"Jarvis Hayes\",\"Brendan Haywood\",\"Brendan Haywood\",\"Brendan Haywood\",\"Luther Head\",\"Gerald Henderson\",\"Roy Hibbert\",\"J.J. Hickson\",\"Nene Hilario\",\"George Hill\",\"Grant Hill\",\"Jordan Hill\",\"Jordan Hill\",\"Jordan Hill\",\"Kirk Hinrich\",\"Jrue Holiday\",\"Ryan Hollins\",\"Al Horford\",\"Eddie House\",\"Eddie House\",\"Eddie House\",\"Dwight Howard\",\"Josh Howard\",\"Josh Howard\",\"Josh Howard\",\"Juwan Howard\",\"Lester Hudson\",\"Lester Hudson\",\"Lester Hudson\",\"Larry Hughes\",\"Larry Hughes\",\"Larry Hughes\",\"Kris Humphries\",\"Kris Humphries\",\"Kris Humphries\",\"Chris Hunter\",\"Lindsey Hunter\",\"Othello Hunter\",\"Steven Hunter\",\"Serge Ibaka\",\"Andre Iguodala\",\"Zydrunas Ilgauskas\",\"Didier Ilunga-Mbenga\",\"Ersan Ilyasova\",\"Allen Iverson*\",\"Allen Iverson*\",\"Allen Iverson*\",\"Royal Ivey\",\"Royal Ivey\",\"Royal Ivey\",\"Jarrett Jack\",\"Cedric Jackson\",\"Cedric Jackson\",\"Cedric Jackson\",\"Cedric Jackson\",\"Darnell Jackson\",\"Darnell Jackson\",\"Darnell Jackson\",\"Stephen Jackson\",\"Stephen Jackson\",\"Stephen Jackson\",\"LeBron James\",\"Mike James\",\"Antawn Jamison\",\"Antawn Jamison\",\"Antawn Jamison\",\"Nathan Jawai\",\"Othyus Jeffers\",\"Al Jefferson\",\"Richard Jefferson\",\"Jared Jeffries\",\"Jared Jeffries\",\"Jared Jeffries\",\"Brandon Jennings\",\"Jonas Jerebko\",\"Yi Jianlian\",\"Amir Johnson\",\"Anthony Johnson\",\"James Johnson\",\"Joe Johnson\",\"Dahntay Jones\",\"Dwayne Jones\",\"James Jones\",\"Solomon Jones\",\"DeAndre Jordan\",\"Chris Kaman\",\"Jason Kapono\",\"Coby Karl\",\"Coby Karl\",\"Coby Karl\",\"Jason Kidd\",\"Andrei Kirilenko\",\"Kyle Korver\",\"Kosta Koufos\",\"Nenad Krstic\",\"Oliver Lafayette\",\"Carl Landry\",\"Carl Landry\",\"Carl Landry\",\"Marcus Landry\",\"Marcus Landry\",\"Marcus Landry\",\"Acie Law\",\"Acie Law\",\"Acie Law\",\"Acie Law\",\"Ty Lawson\",\"Courtney Lee\",\"David Lee\",\"Rashard Lewis\",\"Shaun Livingston\",\"Shaun Livingston\",\"Shaun Livingston\",\"Brook Lopez\",\"Robin Lopez\",\"Kevin Love\",\"Kyle Lowry\",\"Corey Maggette\",\"Jamaal Magloire\",\"Ian Mahinmi\",\"Shawn Marion\",\"Sean Marks\",\"Cartier Martin\",\"Cartier Martin\",\"Cartier Martin\",\"Kenyon Martin\",\"Kevin Martin\",\"Kevin Martin\",\"Kevin Martin\",\"Desmond Mason\",\"Roger Mason\",\"Wesley Matthews\",\"Jason Maxiell\",\"Sean May\",\"Eric Maynor\",\"Eric Maynor\",\"Eric Maynor\",\"O.J. Mayo\",\"Luc Mbah\",\"Antonio McDyess\",\"JaVale McGee\",\"Tracy McGrady\",\"Tracy McGrady\",\"Tracy McGrady\",\"Dominic McGuire\",\"Dominic McGuire\",\"Dominic McGuire\",\"Josh McRoberts\",\"Jodie Meeks\",\"Jodie Meeks\",\"Jodie Meeks\",\"Pops Mensah-Bonsu\",\"Pops Mensah-Bonsu\",\"Pops Mensah-Bonsu\",\"C.J. Miles\",\"Darko Milicic\",\"Darko Milicic\",\"Darko Milicic\",\"Andre Miller\",\"Brad Miller\",\"Mike Miller\",\"Patty Mills\",\"Paul Millsap\",\"Nazr Mohammed\",\"Jamario Moon\",\"Mikki Moore\",\"Randolph Morris\",\"Adam Morrison\",\"Anthony Morrow\",\"Byron Mullens\",\"Troy Murphy\",\"Ronald Murray\",\"Ronald Murray\",\"Ronald Murray\",\"Eduardo Najera\",\"Eduardo Najera\",\"Eduardo Najera\",\"Steve Nash\",\"Jameer Nelson\",\"Rasho Nesterovic\",\"Joakim Noah\",\"Andres Nocioni\",\"Steve Novak\",\"Dirk Nowitzki\",\"Patrick O'Bryant\",\"Jermaine O'Neal\",\"Shaquille O'Neal*\",\"Fabricio Oberto\",\"Greg Oden\",\"Lamar Odom\",\"Emeka Okafor\",\"Mehmet Okur\",\"Kevin Ollie\",\"Travis Outlaw\",\"Travis Outlaw\",\"Travis Outlaw\",\"Zaza Pachulia\",\"Jannero Pargo\",\"Anthony Parker\",\"Tony Parker\",\"Chris Paul\",\"Sasha Pavlovic\",\"Oleksiy Pecherov\",\"Kendrick Perkins\",\"Morris Peterson\",\"Johan Petro\",\"Paul Pierce\",\"Mickael Pietrus\",\"James Posey\",\"Leon Powe\",\"Josh Powell\",\"A.J. Price\",\"Ronnie Price\",\"Tayshaun Prince\",\"Joel Przybilla\",\"Chris Quinn\",\"Vladimir Radmanovic\",\"Vladimir Radmanovic\",\"Vladimir Radmanovic\",\"Anthony Randolph\",\"Shavlik Randolph\",\"Shavlik Randolph\",\"Shavlik Randolph\",\"Zach Randolph\",\"Theo Ratliff\",\"Theo Ratliff\",\"Theo Ratliff\",\"Michael Redd\",\"J.J. Redick\",\"Chris Richard\",\"Jason Richardson\",\"Quentin Richardson\",\"Luke Ridnour\",\"Nate Robinson\",\"Nate Robinson\",\"Nate Robinson\",\"Sergio Rodriguez\",\"Sergio Rodriguez\",\"Sergio Rodriguez\",\"Rajon Rondo\",\"Derrick Rose\",\"Quinton Ross\",\"Quinton Ross\",\"Quinton Ross\",\"Brandon Roy\",\"Brandon Rush\",\"Kareem Rush\",\"John Salmons\",\"John Salmons\",\"John Salmons\",\"Brian Scalabrine\",\"Luis Scola\",\"Thabo Sefolosha\",\"Ramon Sessions\",\"Bobby Simmons\",\"James Singleton\",\"James Singleton\",\"James Singleton\",\"Brian Skinner\",\"Craig Smith\",\"J.R. Smith\",\"Jason Smith\",\"Joe Smith\",\"Josh Smith\",\"Darius Songaila\",\"Marreese Speights\",\"Jerry Stackhouse\",\"DeShawn Stevenson\",\"DeShawn Stevenson\",\"DeShawn Stevenson\",\"Peja Stojakovic\",\"Amar'e Stoudemire\",\"Rodney Stuckey\",\"DaJuan Summers\",\"Jermaine Taylor\",\"Jeff Teague\",\"Sebastian Telfair\",\"Sebastian Telfair\",\"Sebastian Telfair\",\"Garrett Temple\",\"Garrett Temple\",\"Garrett Temple\",\"Garrett Temple\",\"Jason Terry\",\"Hasheem Thabeet\",\"Etan Thomas\",\"Kenny Thomas\",\"Kurt Thomas\",\"Tim Thomas\",\"Tyrus Thomas\",\"Tyrus Thomas\",\"Tyrus Thomas\",\"Jason Thompson\",\"Al Thornton\",\"Al Thornton\",\"Al Thornton\",\"Marcus Thornton\",\"Jamaal Tinsley\",\"Anthony Tolliver\",\"Anthony Tolliver\",\"Anthony Tolliver\",\"Alando Tucker\",\"Alando Tucker\",\"Alando Tucker\",\"Ronny Turiaf\",\"Hedo Turkoglu\",\"Ime Udoka\",\"Beno Udrih\",\"Roko Ukic\",\"Anderson Varejao\",\"Charlie Villanueva\",\"Sasha Vujacic\",\"Dwyane Wade\",\"Henry Walker\",\"Henry Walker\",\"Henry Walker\",\"Ben Wallace\",\"Gerald Wallace\",\"Rasheed Wallace\",\"Luke Walton\",\"Hakim Warrick\",\"Hakim Warrick\",\"Hakim Warrick\",\"C.J. Watson\",\"Earl Watson\",\"Kyle Weaver\",\"Martell Webster\",\"Sonny Weems\",\"David West\",\"Delonte West\",\"Mario West\",\"Russell Westbrook\",\"D.J. White\",\"Chris Wilcox\",\"Damien Wilkins\",\"Mike Wilks\",\"Deron Williams\",\"Jason Williams\",\"Jawad Williams\",\"Lou Williams\",\"Marcus Williams\",\"Marvin Williams\",\"Mo Williams\",\"Reggie Williams\",\"Sean Williams\",\"Shelden Williams\",\"Terrence Williams\",\"Metta World\",\"Antoine Wright\",\"Dorell Wright\",\"Julian Wright\",\"Nick Young\",\"Sam Young\",\"Thaddeus Young\"],\"Position\":[\"SG\",\"C\",\"PF\",\"SF\",\"PF\",\"SG\",\"SG\",\"PG\",\"PG\",\"PG\",\"PF\",\"PF\",\"C\",\"SF\",\"PF\",\"SF\",\"C\",\"PG\",\"SF\",\"PF-C\",\"PF\",\"C\",\"C\",\"PG\",\"PF\",\"PG\",\"PG\",\"C\",\"SF\",\"SF\",\"PG\",\"PG\",\"PG\",\"PF\",\"SF\",\"C\",\"PF\",\"C\",\"SG\",\"SF\",\"SG\",\"PF\",\"PG\",\"SG\",\"SG\",\"SG\",\"SG\",\"SG\",\"SF\",\"PG\",\"C\",\"PG\",\"PF\",\"PG\",\"PG\",\"PG\",\"PF\",\"SF\",\"C\",\"PF\",\"PF\",\"PF\",\"C\",\"SF\",\"PG\",\"PF\",\"SG\",\"SG\",\"SG\",\"SG\",\"C\",\"C\",\"C\",\"PF\",\"PG\",\"PG\",\"PG\",\"PG\",\"SF\",\"SG\",\"SG\",\"SG\",\"C\",\"SG\",\"SG\",\"SF\",\"SF-SG\",\"SF\",\"SG\",\"SF\",\"C\",\"PG\",\"PG\",\"PF-C\",\"PF\",\"C\",\"PF\",\"SG\",\"SF\",\"SG\",\"PG\",\"SG\",\"SF\",\"PG\",\"C\",\"SG\",\"PF\",\"C\",\"C\",\"SG\",\"PG\",\"C\",\"PG\",\"PG\",\"PF\",\"SG\",\"SG\",\"PF\",\"C\",\"PG\",\"PG\",\"C\",\"C\",\"SF\",\"PG\",\"PF\",\"PF\",\"SF\",\"SF\",\"SF\",\"SF\",\"SG\",\"PF\",\"SG\",\"PG\",\"PG\",\"PG\",\"C\",\"PG\",\"PF\",\"PF\",\"PF\",\"PG\",\"SF\",\"PG\",\"SF\",\"PG\",\"C\",\"SF\",\"SF\",\"SG\",\"SG\",\"C\",\"C\",\"C\",\"SF\",\"PF\",\"SG\",\"PG\",\"PG\",\"SG\",\"C\",\"SF\",\"SF\",\"SF\",\"PG\",\"PG\",\"PG\",\"C\",\"PG\",\"C\",\"C\",\"PG\",\"SF\",\"SG\",\"PF\",\"C\",\"C\",\"SF\",\"SG\",\"SF\",\"PG\",\"PF\",\"SF\",\"SF\",\"SF\",\"SF\",\"SG\",\"SF\",\"C-PF\",\"C\",\"PF\",\"SG\",\"SG\",\"C\",\"SF\",\"SG\",\"SF\",\"C\",\"C\",\"C\",\"SG\",\"PF\",\"SG\",\"SF\",\"SF\",\"C\",\"SG\",\"SF\",\"SG\",\"PF\",\"SG\",\"PF\",\"PG\",\"PF\",\"PF\",\"PF\",\"PG\",\"PG\",\"PG\",\"PF\",\"SF\",\"C\",\"C\",\"SF\",\"C\",\"C\",\"C\",\"SG\",\"SG\",\"C\",\"PF\",\"C\",\"PG\",\"SF\",\"PF\",\"PF\",\"PF\",\"SG\",\"PG\",\"C\",\"C\",\"PG-SG\",\"PG\",\"SG\",\"C\",\"SF\",\"SF\",\"SF\",\"C\",\"PG\",\"PG\",\"PG\",\"SG\",\"SG\",\"SG\",\"PF\",\"PF\",\"PF\",\"C\",\"PG\",\"SF\",\"C\",\"PF\",\"SF\",\"C\",\"C\",\"PF\",\"SG-PG\",\"PG\",\"SG\",\"SG\",\"SG\",\"SG\",\"PG\",\"PG\",\"PG\",\"PG\",\"PG\",\"PF\",\"PF\",\"PF\",\"SG-PF\",\"PF\",\"SG\",\"SF\",\"PG\",\"PF\",\"PF\",\"PF\",\"C\",\"SG\",\"C\",\"SF\",\"PF-SF\",\"PF\",\"SF\",\"PG\",\"PF\",\"PF\",\"PF\",\"PG\",\"PF\",\"SG\",\"SF\",\"PF\",\"SF\",\"C\",\"C\",\"C\",\"SF\",\"SF-SG\",\"SG\",\"SF\",\"PG\",\"SF\",\"SG\",\"C\",\"C\",\"SG\",\"PF\",\"PF\",\"PF\",\"SF\",\"SF\",\"SF\",\"PG\",\"PG\",\"PG\",\"PG\",\"PG\",\"SG\",\"C\",\"PF\",\"PG\",\"PG\",\"PG\",\"C\",\"C\",\"PF\",\"PG\",\"PF\",\"C\",\"C\",\"SF\",\"C\",\"SF\",\"SF\",\"SF\",\"PF\",\"SG\",\"SG\",\"SG\",\"SF\",\"SG\",\"SG\",\"C\",\"C\",\"PG\",\"PG\",\"PG\",\"SG\",\"PF\",\"PF\",\"C\",\"SG\",\"SG\",\"SG\",\"SF\",\"SF\",\"SF\",\"C\",\"SG\",\"SG\",\"SG\",\"PF\",\"PF\",\"PF\",\"SF\",\"C\",\"C\",\"C\",\"PG\",\"C\",\"SG\",\"PG\",\"PF\",\"C\",\"SF\",\"C\",\"PF\",\"SF\",\"SG\",\"PF\",\"PF\",\"SG\",\"SG\",\"SG\",\"PF\",\"PF\",\"PF\",\"PG\",\"PG\",\"C\",\"C\",\"SF\",\"SF\",\"PF\",\"C\",\"C\",\"C\",\"C\",\"C\",\"PF\",\"C\",\"C\",\"PG\",\"SF\",\"SF\",\"SF\",\"C\",\"PG\",\"SG\",\"PG\",\"PG\",\"SF\",\"C\",\"C\",\"SG\",\"C\",\"SF\",\"SF\",\"SF\",\"SF\",\"PF\",\"PG\",\"PG\",\"SF\",\"C\",\"PG\",\"PF\",\"PF\",\"PF\",\"C\",\"PF\",\"PF\",\"PF\",\"PF\",\"C\",\"C\",\"C\",\"SG\",\"SG\",\"PF\",\"SG\",\"SF\",\"PG\",\"PG\",\"PG\",\"PG\",\"PG\",\"PG\",\"PG\",\"PG\",\"PG\",\"SF-SG\",\"SF\",\"SG\",\"SG\",\"SG\",\"SG\",\"SG\",\"SG\",\"SG\",\"PF\",\"PF\",\"SG\",\"PG\",\"PF\",\"PF-SF\",\"SF\",\"PF\",\"PF\",\"PF\",\"SG\",\"PF\",\"PF\",\"PF\",\"C\",\"C\",\"SG\",\"SG\",\"SG\",\"SG\",\"SF\",\"PF\",\"PG\",\"SF\",\"SG\",\"PG\",\"PG\",\"PG\",\"PG\",\"SG\",\"SG\",\"SG\",\"SG\",\"SG\",\"C\",\"C\",\"PF\",\"C\",\"SF\",\"PF-C\",\"PF\",\"C\",\"C\",\"SF\",\"SF\",\"SF\",\"SG\",\"PG\",\"PF\",\"PF\",\"PF\",\"SF\",\"SF\",\"SF\",\"C\",\"SF\",\"SG\",\"PG\",\"PG\",\"PF\",\"PF\",\"SG\",\"SG\",\"SG-SF\",\"SF\",\"SG\",\"C\",\"SF\",\"C\",\"SF\",\"PF\",\"PF\",\"PF\",\"PG\",\"PG\",\"SG\",\"SF\",\"SG\",\"PF\",\"SG\",\"SG\",\"PG\",\"PF\",\"PF\",\"SF\",\"PG\",\"PG\",\"PG\",\"PG\",\"PG\",\"PG\",\"SF\",\"PG\",\"SF\",\"PF\",\"PF\",\"SF\",\"SF\",\"SF\",\"SF\",\"SF\",\"SG\",\"SF\",\"PF\"],\"Team\":[\"DEN\",\"CHA\",\"POR\",\"CHI\",\"DEN\",\"BOS\",\"BOS\",\"TOT\",\"NJN\",\"MIA\",\"PHO\",\"DEN\",\"HOU\",\"OKC\",\"ORL\",\"DEN\",\"MIA\",\"WAS\",\"HOU\",\"TOT\",\"NOH\",\"SAC\",\"HOU\",\"MIA\",\"MEM\",\"DET\",\"CHA\",\"POR\",\"GSW\",\"DEN\",\"TOR\",\"PHO\",\"DAL\",\"TOR\",\"ORL\",\"NYK\",\"ORL\",\"NJN\",\"HOU\",\"POR\",\"POR\",\"MIA\",\"DAL\",\"TOR\",\"MIL\",\"TOT\",\"CHA\",\"GSW\",\"NYK\",\"ATL\",\"GSW\",\"DEN\",\"SAS\",\"TOT\",\"POR\",\"LAC\",\"WAS\",\"SAS\",\"MIL\",\"SAS\",\"NJN\",\"UTA\",\"TOR\",\"OKC\",\"WAS\",\"PHI\",\"MIN\",\"TOT\",\"UTA\",\"MEM\",\"TOT\",\"PHI\",\"MIL\",\"SAC\",\"HOU\",\"TOT\",\"NOH\",\"LAC\",\"CHA\",\"TOT\",\"NOH\",\"CHI\",\"DET\",\"LAL\",\"LAL\",\"HOU\",\"TOT\",\"WAS\",\"DAL\",\"LAC\",\"LAL\",\"DET\",\"TOR\",\"TOT\",\"LAC\",\"POR\",\"MIN\",\"PHI\",\"MEM\",\"DAL\",\"DEN\",\"ORL\",\"SAC\",\"MIA\",\"CHA\",\"NYK\",\"PHO\",\"PHO\",\"ATL\",\"LAC\",\"NOH\",\"OKC\",\"MEM\",\"HOU\",\"HOU\",\"MIA\",\"ATL\",\"POR\",\"NYK\",\"LAC\",\"GSW\",\"PHI\",\"DAL\",\"BOS\",\"LAC\",\"BOS\",\"WAS\",\"LAC\",\"DET\",\"MIL\",\"CHI\",\"TOR\",\"CHA\",\"MIA\",\"TOT\",\"IND\",\"POR\",\"CHA\",\"NJN\",\"TOT\",\"HOU\",\"SAC\",\"NYK\",\"NJN\",\"PHO\",\"PHO\",\"NYK\",\"SAS\",\"IND\",\"OKC\",\"MIN\",\"GSW\",\"TOT\",\"MIL\",\"PHI\",\"ATL\",\"TOR\",\"SAC\",\"LAL\",\"CHA\",\"POR\",\"UTA\",\"TOT\",\"SAS\",\"BOS\",\"LAL\",\"MIN\",\"IND\",\"IND\",\"WAS\",\"PHO\",\"MIL\",\"UTA\",\"NYK\",\"SAC\",\"BOS\",\"MEM\",\"LAL\",\"MEM\",\"WAS\",\"GSW\",\"CLE\",\"CHI\",\"TOT\",\"BOS\",\"NYK\",\"MEM\",\"SAS\",\"MIN\",\"TOT\",\"DAL\",\"LAC\",\"DET\",\"LAC\",\"ORL\",\"DEN\",\"CHA\",\"IND\",\"TOT\",\"CHI\",\"NOH\",\"CLE\",\"OKC\",\"PHI\",\"SAC\",\"PHO\",\"MEM\",\"SAS\",\"SAS\",\"DET\",\"IND\",\"OKC\",\"NYK\",\"NJN\",\"TOT\",\"HOU\",\"WAS\",\"TOT\",\"MIN\",\"NOH\",\"MIA\",\"NJN\",\"SAC\",\"HOU\",\"NJN\",\"TOT\",\"WAS\",\"DAL\",\"IND\",\"CHA\",\"IND\",\"CLE\",\"DEN\",\"SAS\",\"PHO\",\"TOT\",\"NYK\",\"HOU\",\"CHI\",\"PHI\",\"MIN\",\"ATL\",\"TOT\",\"BOS\",\"NYK\",\"ORL\",\"TOT\",\"DAL\",\"WAS\",\"POR\",\"TOT\",\"BOS\",\"MEM\",\"TOT\",\"NYK\",\"CHA\",\"TOT\",\"DAL\",\"NJN\",\"GSW\",\"CHI\",\"ATL\",\"MEM\",\"OKC\",\"PHI\",\"CLE\",\"LAL\",\"MIL\",\"TOT\",\"MEM\",\"PHI\",\"TOT\",\"PHI\",\"MIL\",\"TOR\",\"TOT\",\"CLE\",\"SAS\",\"WAS\",\"TOT\",\"CLE\",\"MIL\",\"TOT\",\"GSW\",\"CHA\",\"CLE\",\"WAS\",\"TOT\",\"WAS\",\"CLE\",\"MIN\",\"UTA\",\"MIN\",\"SAS\",\"TOT\",\"NYK\",\"HOU\",\"MIL\",\"DET\",\"NJN\",\"TOR\",\"ORL\",\"CHI\",\"ATL\",\"IND\",\"PHO\",\"MIA\",\"IND\",\"LAC\",\"LAC\",\"PHI\",\"TOT\",\"CLE\",\"GSW\",\"DAL\",\"UTA\",\"UTA\",\"UTA\",\"OKC\",\"BOS\",\"TOT\",\"HOU\",\"SAC\",\"TOT\",\"NYK\",\"BOS\",\"TOT\",\"GSW\",\"CHA\",\"CHI\",\"DEN\",\"NJN\",\"NYK\",\"ORL\",\"TOT\",\"OKC\",\"WAS\",\"NJN\",\"PHO\",\"MIN\",\"HOU\",\"GSW\",\"MIA\",\"SAS\",\"DAL\",\"NOH\",\"TOT\",\"GSW\",\"WAS\",\"DEN\",\"TOT\",\"SAC\",\"HOU\",\"SAC\",\"SAS\",\"UTA\",\"DET\",\"SAC\",\"TOT\",\"UTA\",\"OKC\",\"MEM\",\"MIL\",\"SAS\",\"WAS\",\"TOT\",\"HOU\",\"NYK\",\"TOT\",\"WAS\",\"SAC\",\"IND\",\"TOT\",\"MIL\",\"PHI\",\"TOT\",\"HOU\",\"TOR\",\"UTA\",\"TOT\",\"NYK\",\"MIN\",\"POR\",\"CHI\",\"WAS\",\"POR\",\"UTA\",\"CHA\",\"CLE\",\"GSW\",\"ATL\",\"LAL\",\"GSW\",\"OKC\",\"IND\",\"TOT\",\"CHA\",\"CHI\",\"TOT\",\"NJN\",\"DAL\",\"PHO\",\"ORL\",\"TOR\",\"CHI\",\"SAC\",\"LAC\",\"DAL\",\"TOR\",\"MIA\",\"CLE\",\"WAS\",\"POR\",\"LAL\",\"NOH\",\"UTA\",\"OKC\",\"TOT\",\"POR\",\"LAC\",\"ATL\",\"CHI\",\"CLE\",\"SAS\",\"NOH\",\"MIN\",\"MIN\",\"BOS\",\"NOH\",\"DEN\",\"BOS\",\"ORL\",\"NOH\",\"CLE\",\"LAL\",\"IND\",\"UTA\",\"DET\",\"POR\",\"NJN\",\"TOT\",\"CHA\",\"GSW\",\"GSW\",\"TOT\",\"MIA\",\"POR\",\"MEM\",\"TOT\",\"SAS\",\"CHA\",\"MIL\",\"ORL\",\"CHI\",\"PHO\",\"MIA\",\"MIL\",\"TOT\",\"NYK\",\"BOS\",\"TOT\",\"SAC\",\"NYK\",\"BOS\",\"CHI\",\"TOT\",\"DAL\",\"WAS\",\"POR\",\"IND\",\"LAC\",\"TOT\",\"CHI\",\"MIL\",\"BOS\",\"HOU\",\"OKC\",\"MIN\",\"NJN\",\"TOT\",\"DAL\",\"WAS\",\"LAC\",\"LAC\",\"DEN\",\"PHI\",\"ATL\",\"ATL\",\"NOH\",\"PHI\",\"MIL\",\"TOT\",\"WAS\",\"DAL\",\"NOH\",\"PHO\",\"DET\",\"DET\",\"HOU\",\"ATL\",\"TOT\",\"LAC\",\"CLE\",\"TOT\",\"HOU\",\"SAC\",\"SAS\",\"DAL\",\"MEM\",\"OKC\",\"SAC\",\"MIL\",\"DAL\",\"TOT\",\"CHI\",\"CHA\",\"SAC\",\"TOT\",\"LAC\",\"WAS\",\"NOH\",\"MEM\",\"TOT\",\"POR\",\"GSW\",\"TOT\",\"PHO\",\"MIN\",\"GSW\",\"TOR\",\"SAC\",\"SAC\",\"MIL\",\"CLE\",\"DET\",\"LAL\",\"MIA\",\"TOT\",\"BOS\",\"NYK\",\"DET\",\"CHA\",\"BOS\",\"LAL\",\"TOT\",\"MIL\",\"CHI\",\"GSW\",\"IND\",\"OKC\",\"POR\",\"TOR\",\"NOH\",\"CLE\",\"ATL\",\"OKC\",\"OKC\",\"DET\",\"MIN\",\"OKC\",\"UTA\",\"ORL\",\"CLE\",\"PHI\",\"MEM\",\"ATL\",\"CLE\",\"GSW\",\"NJN\",\"BOS\",\"NJN\",\"LAL\",\"TOR\",\"MIA\",\"NOH\",\"WAS\",\"MEM\",\"PHI\"],\"ThreeRatio\":{\"__ndarray__\":\"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\",\"dtype\":\"float64\",\"shape\":[578]},\"TwoPointAttempt\":{\"__ndarray__\":\"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\",\"dtype\":\"float64\",\"shape\":[578]},\"TwoPointMade\":{\"__ndarray__\":\"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\",\"dtype\":\"float64\",\"shape\":[578]},\"x\":{\"__ndarray__\":\"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\",\"dtype\":\"float64\",\"shape\":[578]},\"y\":{\"__ndarray__\":\"AAAAAAAgb0AAAAAAAAAAAAAAAAAAADBAAAAAAAAA8D8AAAAAAAAYQAAAAAAA8HhAAAAAAAAAFEAAAAAAAABlQAAAAAAAwFVAAAAAAABAVEAAAAAAAADwPwAAAAAAAAhAAAAAAACAU0AAAAAAAAAAAAAAAAAAYGpAAAAAAABgZ0AAAAAAAAAAAAAAAAAAoGZAAAAAAABweUAAAAAAAADwPwAAAAAAAAAAAAAAAAAAAAAAAAAAAADwPwAAAAAAADlAAAAAAAAA8D8AAAAAAEBSQAAAAAAAQGZAAAAAAAAAAAAAAAAAAAA7QAAAAAAAABxAAAAAAAAAOEAAAAAAAABhQAAAAAAAoGNAAAAAAABQdEAAAAAAAOBpQAAAAAAAAAAAAAAAAAAAAAAAAAAAAAAQQAAAAAAAcHFAAAAAAACAYEAAAAAAAABXQAAAAAAAgFlAAAAAAACAW0AAAAAAAMBjQAAAAAAAAGlAAAAAAAAAO0AAAAAAAAA4QAAAAAAAAAhAAAAAAACAQ0AAAAAAAEB0QAAAAAAAAAAAAAAAAABweUAAAAAAAAAAQAAAAAAAYHJAAAAAAADgaUAAAAAAAMBVQAAAAAAAAEZAAAAAAACAaEAAAAAAAAAAQAAAAAAA4GxAAAAAAAAAAAAAAAAAAAAAAAAAAAAAADZAAAAAAAAAAAAAAAAAAABOQAAAAAAAAPA/AAAAAACgbUAAAAAAAAA/QAAAAAAAAD9AAAAAAAAAAAAAAAAAAAAAAAAAAAAAAAAAAAAAAAAAAAAAAAAAAAAAAAAAAAAAaIBAAAAAAACAWEAAAAAAAIBQQAAAAAAAAEBAAAAAAAAAHEAAAAAAAIBkQAAAAAAAYGJAAAAAAAAAMUAAAAAAAADwPwAAAAAAoGdAAAAAAADQckAAAAAAACBvQAAAAAAAIGJAAAAAAADAV0AAAAAAAABJQAAAAAAAAHtAAAAAAAAA8D8AAAAAAIBLQAAAAAAAYGVAAAAAAAAAHEAAAAAAAAAYQAAAAAAAAPA/AAAAAAAAIkAAAAAAAOBgQAAAAAAAABhAAAAAAAAAM0AAAAAAAIBPQAAAAAAAQHRAAAAAAABgaUAAAAAAAIBtQAAAAAAAAAAAAAAAAADAYkAAAAAAAAAUQAAAAAAAAAAAAAAAAAAA8D8AAAAAAAAxQAAAAAAAwFxAAAAAAAAAEEAAAAAAAIBqQAAAAAAAAAhAAAAAAAAAIkAAAAAAAIBfQAAAAAAAsHpAAAAAAAAAAEAAAAAAAAAAAAAAAAAAAAAAAAAAAADAd0AAAAAAAAAAAAAAAAAAAAhAAAAAAAAAPEAAAAAAAIByQAAAAAAAABBAAAAAAAAAAAAAAAAAAABFQAAAAAAAwFdAAAAAAADQdkAAAAAAAMBUQAAAAAAAADBAAAAAAADAaUAAAAAAAAAYQAAAAAAAABxAAAAAAAAAFEAAAAAAAAAAQAAAAAAAAAAAAAAAAACgY0AAAAAAAAAAAAAAAAAAAAAAAAAAAAAAAAAAAAAAAOBlQAAAAAAAAEtAAAAAAACAZ0AAAAAAAGBwQAAAAAAAIHBAAAAAAAAAJkAAAAAAAIBtQAAAAAAA8HVAAAAAAABAZEAAAAAAAIBsQAAAAAAAAAAAAAAAAAAAAAAAAAAAAAAAAAAAAAAAIGVAAAAAAAAAAAAAAAAAAKBhQAAAAAAAoGxAAAAAAACAY0AAAAAAAKBwQAAAAAAAAPA/AAAAAACAVEAAAAAAAIBEQAAAAAAAgERAAAAAAAAAbEAAAAAAAOBqQAAAAAAAAElAAAAAAAAA8D8AAAAAAMBmQAAAAAAAgHhAAAAAAAAAAAAAAAAAAAA6QAAAAAAAgH5AAAAAAACATUAAAAAAAAAUQAAAAAAAAPA/AAAAAAAAFEAAAAAAAEBpQAAAAAAAACJAAAAAAADAXkAAAAAAAKBiQAAAAAAAAAAAAAAAAAAAJEAAAAAAAAAAQAAAAAAAACBAAAAAAAAAAAAAAAAAAOB1QAAAAAAA4GhAAAAAAAAAIEAAAAAAAAAYQAAAAAAAAABAAAAAAABAbUAAAAAAABB0QAAAAAAAAAhAAAAAAAAAKkAAAAAAAABJQAAAAAAAYHtAAAAAAAAAAAAAAAAAAAAAAAAAAAAAAAAAAAAAAAAANkAAAAAAAIBzQAAAAAAAAGFAAAAAAADgZkAAAAAAAAAAQAAAAAAAAAhAAAAAAAAAJkAAAAAAAAAUQAAAAAAAQGFAAAAAAAAAEEAAAAAAAABvQAAAAAAAkHlAAAAAAAAga0AAAAAAAADwPwAAAAAAAPA/AAAAAAAAAAAAAAAAAAAAAAAAAAAAAAAAAAAAAAAAAAAAAAAAAAAAAAAAAAAAABRAAAAAAADAVUAAAAAAAAAAAAAAAAAAYGZAAAAAAAAA8D8AAAAAAAAAAAAAAAAAAPA/AAAAAABAWkAAAAAAAAAzQAAAAAAAABhAAAAAAAAA8D8AAAAAAAAAQAAAAAAAgGdAAAAAAAAAVEAAAAAAAAAAQAAAAAAAAABAAAAAAAAAAAAAAAAAAIBxQAAAAAAA4GNAAAAAAAAA8D8AAAAAAADwPwAAAAAAYGxAAAAAAADgZEAAAAAAAABOQAAAAAAAABxAAAAAAACAVUAAAAAAAMBSQAAAAAAAACZAAAAAAAAA8D8AAAAAAAAwQAAAAAAAABRAAAAAAAAAJkAAAAAAAGBhQAAAAAAAQFhAAAAAAAAARUAAAAAAAADwPwAAAAAAAAAAAAAAAAAA8D8AAAAAAAAQQAAAAAAAACpAAAAAAAAAAAAAAAAAAAAAAAAAAAAAAABAAAAAAADwckAAAAAAAAA3QAAAAAAAAAAAAAAAAAAgbkAAAAAAAAA5QAAAAAAAAPA/AAAAAAAAOEAAAAAAAIBBQAAAAAAAADhAAAAAAAAAJkAAAAAAAOBoQAAAAAAAABhAAAAAAAAA8D8AAAAAAAAAQAAAAAAAAAhAAAAAAAAAEEAAAAAAAAAIQAAAAAAAAPA/AAAAAACQeEAAAAAAAABEQAAAAAAAEHZAAAAAAAAweEAAAAAAAAAYQAAAAAAA4G5AAAAAAAAAZUAAAAAAAMBTQAAAAAAAAPA/AAAAAAAAAAAAAAAAAAAQQAAAAAAAYGdAAAAAAADAUUAAAAAAAABPQAAAAAAAACJAAAAAAABAeEAAAAAAAMBcQAAAAAAAgERAAAAAAAAAEEAAAAAAAIBDQAAAAAAAAEdAAAAAAADgdUAAAAAAAABAQAAAAAAAAAAAAAAAAACAVkAAAAAAAAAIQAAAAAAAAABAAAAAAAAAGEAAAAAAAGBlQAAAAAAAACZAAAAAAAAAAAAAAAAAAAAmQAAAAAAA4HlAAAAAAABAVkAAAAAAAIBbQAAAAAAAAAAAAAAAAAAAFEAAAAAAAAAAQAAAAAAAAAhAAAAAAAAAAAAAAAAAAAAIQAAAAAAAADxAAAAAAAAAOkAAAAAAAAAAQAAAAAAAADBAAAAAAAAACEAAAAAAAADwPwAAAAAAAChAAAAAAADAVEAAAAAAACBsQAAAAAAAACBAAAAAAABwekAAAAAAAAAYQAAAAAAAAABAAAAAAAAAEEAAAAAAAAAAQAAAAAAAAAAAAAAAAACAWkAAAAAAAABhQAAAAAAAAElAAAAAAAAAAAAAAAAAAAAAAAAAAAAAADNAAAAAAAAAAAAAAAAAAIBIQAAAAAAAAD9AAAAAAAAAMkAAAAAAAAA9QAAAAAAAQGpAAAAAAACAW0AAAAAAAABZQAAAAAAAAAAAAAAAAACAcEAAAAAAAKBkQAAAAAAAAPA/AAAAAAAAEEAAAAAAAMBRQAAAAAAAADhAAAAAAACAR0AAAAAAADB2QAAAAAAAADFAAAAAAAAAAEAAAAAAAADwPwAAAAAAAFBAAAAAAAAAAEAAAAAAAABPQAAAAAAAAAAAAAAAAAAAAAAAAAAAAAAAAAAAAAAAADdAAAAAAACAYEAAAAAAAIBUQAAAAAAAAElAAAAAAAAAAAAAAAAAAAAAAAAAAAAAAAAAAAAAAAAga0AAAAAAAADwPwAAAAAAAAAAAAAAAAAA8D8AAAAAAABUQAAAAAAAgGBAAAAAAABgZUAAAAAAAAAQQAAAAAAAACJAAAAAAAAAAAAAAAAAAABZQAAAAAAAAAAAAAAAAAAAAAAAAAAAAAA1QAAAAAAAMHNAAAAAAAAAAAAAAAAAANB0QAAAAAAAoGtAAAAAAABgYEAAAAAAAIBWQAAAAAAAAFBAAAAAAAAAMUAAAAAAAIBHQAAAAAAAMHJAAAAAAABAbEAAAAAAAAAAAAAAAAAAAAAAAAAAAAAgb0AAAAAAAMBRQAAAAAAAQF5AAAAAAAAA8D8AAAAAAAAAQAAAAAAAAPA/AAAAAAAAAAAAAAAAAAAAAAAAAAAAwGZAAAAAAAAAAAAAAAAAAKBqQAAAAAAAAPA/AAAAAABAWkAAAAAAAAA/QAAAAAAAgFJAAAAAAAAAEEAAAAAAAEBhQAAAAAAAUHBAAAAAAAAAQUAAAAAAAMBfQAAAAAAAgF1AAAAAAAAASkAAAAAAAAAIQAAAAAAAYGVAAAAAAAAA8D8AAAAAAHBwQAAAAAAAIHNAAAAAAABAbkAAAAAAAAAAAAAAAAAAADBAAAAAAADAZUAAAAAAAIBPQAAAAAAAQFJAAAAAAAAAAAAAAAAAAABAQAAAAAAAAFtAAAAAAAAANkAAAAAAAIBVQAAAAAAAABRAAAAAAAAAAAAAAAAAAAAAAAAAAAAAAAAAAAAAAAAASkAAAAAAAAAAAAAAAAAAAAAAAAAAAAAAAAAAAAAAAABOQAAAAAAAIHFAAAAAAAAAAAAAAAAAAAB5QAAAAAAAYHZAAAAAAACgZkAAAAAAAOBrQAAAAAAAAGFAAAAAAADAVUAAAAAAAMBWQAAAAAAAAEVAAAAAAACASEAAAAAAAABUQAAAAAAAAE5AAAAAAAAANUAAAAAAAAAqQAAAAAAAACBAAAAAAACga0AAAAAAAOByQAAAAAAAAAhAAAAAAABQc0AAAAAAAABoQAAAAAAAQF1AAAAAAACASEAAAAAAAAAUQAAAAAAAYGBAAAAAAAAALkAAAAAAAIBPQAAAAAAAgEJAAAAAAAAANkAAAAAAAAAuQAAAAAAAAAAAAAAAAAAAFEAAAAAAADB9QAAAAAAAAD1AAAAAAAAAHEAAAAAAAAAcQAAAAAAAABhAAAAAAAAAFEAAAAAAAEBgQAAAAAAAwFVAAAAAAAAAT0AAAAAAAAA5QAAAAAAAAHZAAAAAAAAAGEAAAAAAAMBTQAAAAAAAAEVAAAAAAAAANkAAAAAAAABAQAAAAAAAAExAAAAAAACAR0AAAAAAAAAiQAAAAAAAgEJAAAAAAAAAKEAAAAAAAAAAQAAAAAAAADdAAAAAAABQd0AAAAAAAAAAAAAAAAAAAAAAAAAAAAAAAAAAAAAAAAAAAAAAAAAAgEVAAAAAAAAACEAAAAAAAADwPwAAAAAAAABAAAAAAAAAJEAAAAAAAAA/QAAAAAAAACxAAAAAAAAAMUAAAAAAAJBzQAAAAAAAgENAAAAAAAAAY0AAAAAAAADwPwAAAAAA4GJAAAAAAAAAHEAAAAAAAAAcQAAAAAAAAAAAAAAAAAAA8D8AAAAAABByQAAAAAAAwFZAAAAAAADgaEAAAAAAAAAoQAAAAAAAABRAAAAAAACgcUAAAAAAAEBUQAAAAAAAYG5AAAAAAAAAXUAAAAAAAAAAAAAAAAAAAF1AAAAAAAAAAEAAAAAAAIBhQAAAAAAAIHJAAAAAAAAAMUAAAAAAAAAcQAAAAAAAABhAAAAAAAAA8D8AAAAAACBiQAAAAAAAAGdAAAAAAAAAM0AAAAAAAMB0QAAAAAAAAC5AAAAAAAAAO0AAAAAAAEBTQAAAAAAAAPA/AAAAAAAAWkAAAAAAAAAAAAAAAAAAAAAAAAAAAACATkAAAAAAAAAIQAAAAAAAMHBAAAAAAACga0AAAAAAAEBXQAAAAAAAwGlAAAAAAABAVEAAAAAAAIBgQAAAAAAAMHdAAAAAAAAAV0AAAAAAAADwPwAAAAAAAPA/AAAAAAAAWUAAAAAAAIByQAAAAAAAoGVAAAAAAACgY0AAAAAAAAAYQAAAAAAAQGVAAAAAAAAATEAAAAAAAEBhQA==\",\"dtype\":\"float64\",\"shape\":[578]}},\"selected\":{\"id\":\"1b28d425-8f55-41bb-8584-3671c6ae3d75\",\"type\":\"Selection\"},\"selection_policy\":{\"id\":\"c28b1e70-6794-4acc-bf0b-df111f5e65c3\",\"type\":\"UnionRenderers\"}},\"id\":\"8e4b6500-6a07-424f-8eae-e49ca0c8d314\",\"type\":\"ColumnDataSource\"},{\"attributes\":{\"bottom_units\":\"screen\",\"fill_alpha\":{\"value\":0.5},\"fill_color\":{\"value\":\"lightgrey\"},\"left_units\":\"screen\",\"level\":\"overlay\",\"line_alpha\":{\"value\":1.0},\"line_color\":{\"value\":\"black\"},\"line_dash\":[4,4],\"line_width\":{\"value\":2},\"plot\":null,\"render_mode\":\"css\",\"right_units\":\"screen\",\"top_units\":\"screen\"},\"id\":\"8f30387f-f4ea-4eaa-8015-5fceb07d2d4f\",\"type\":\"BoxAnnotation\"},{\"attributes\":{\"callback\":null,\"renderers\":\"auto\",\"tooltips\":[[\"FG Attempted Total/Season\",\"@FGA\"],[\"3P Attempted/Season\",\"@y\"],[\"3P Made/Season\",\"@x\"],[\"2P Attempted/Season\",\"@TwoPointAttempt\"],[\"2P Made/Season\",\"@TwoPointMade\"],[\"Player\",\"@Player\"]]},\"id\":\"6bdca796-82a0-45f9-ae6c-2d16c3b3db7b\",\"type\":\"HoverTool\"},{\"attributes\":{},\"id\":\"40ee89fd-33b4-44be-980a-6c4f02ab4a0f\",\"type\":\"CrosshairTool\"},{\"attributes\":{\"plot\":null,\"text\":\"2Points vs 3Points\"},\"id\":\"3ba825ef-542c-40b3-96a1-a8baac3c8fe4\",\"type\":\"Title\"},{\"attributes\":{},\"id\":\"1b28d425-8f55-41bb-8584-3671c6ae3d75\",\"type\":\"Selection\"},{\"attributes\":{\"fill_alpha\":{\"value\":0.1},\"fill_color\":{\"value\":\"#1f77b4\"},\"line_alpha\":{\"value\":0.1},\"line_color\":{\"value\":\"#1f77b4\"},\"size\":{\"units\":\"screen\",\"value\":10},\"x\":{\"field\":\"TwoPointAttempt\"},\"y\":{\"field\":\"TwoPointMade\"}},\"id\":\"ad98e5d1-0c71-4a88-a740-4452bb14fac4\",\"type\":\"Cross\"},{\"attributes\":{\"callback\":null,\"overlay\":{\"id\":\"05db53df-880d-456e-b943-ffe5f58427c9\",\"type\":\"PolyAnnotation\"}},\"id\":\"dd78c13e-5a7e-4ab1-a2f9-317824683a05\",\"type\":\"LassoSelectTool\"},{\"attributes\":{\"data_source\":{\"id\":\"8e4b6500-6a07-424f-8eae-e49ca0c8d314\",\"type\":\"ColumnDataSource\"},\"glyph\":{\"id\":\"31e38744-e086-484e-92ca-db43d2469395\",\"type\":\"Circle\"},\"hover_glyph\":null,\"muted_glyph\":null,\"nonselection_glyph\":{\"id\":\"2521edb2-fb0b-4f27-9cf7-8030cabe276c\",\"type\":\"Circle\"},\"selection_glyph\":{\"id\":\"33c612bf-746f-4af3-9582-601319af4dea\",\"type\":\"Circle\"},\"view\":{\"id\":\"ffc4765b-2105-4327-853a-6fc4af1549ca\",\"type\":\"CDSView\"}},\"id\":\"ce6c499d-f8ad-4e15-a52b-cdeb42384563\",\"type\":\"GlyphRenderer\"},{\"attributes\":{\"overlay\":{\"id\":\"8f30387f-f4ea-4eaa-8015-5fceb07d2d4f\",\"type\":\"BoxAnnotation\"}},\"id\":\"afade400-0b9b-4e06-99f5-27c63334ecc5\",\"type\":\"BoxZoomTool\"},{\"attributes\":{\"label\":{\"value\":\"Cross: 2 Pointers\"},\"renderers\":[{\"id\":\"0c0cfe1b-a065-4973-b73a-847e83e80730\",\"type\":\"GlyphRenderer\"}]},\"id\":\"514cb9e2-87fa-4f4a-9c95-0f9b4bf5ef42\",\"type\":\"LegendItem\"},{\"attributes\":{},\"id\":\"8e27b618-a8a6-466f-b3fd-2b81982ae739\",\"type\":\"PanTool\"},{\"attributes\":{\"data_source\":{\"id\":\"8e4b6500-6a07-424f-8eae-e49ca0c8d314\",\"type\":\"ColumnDataSource\"},\"glyph\":{\"id\":\"3ea14010-4364-45a3-9186-13729a4eeb7d\",\"type\":\"Cross\"},\"hover_glyph\":null,\"muted_glyph\":null,\"nonselection_glyph\":{\"id\":\"ad98e5d1-0c71-4a88-a740-4452bb14fac4\",\"type\":\"Cross\"},\"selection_glyph\":null,\"view\":{\"id\":\"beec1e00-0484-4fd3-b4f6-aea8ffd0110b\",\"type\":\"CDSView\"}},\"id\":\"0c0cfe1b-a065-4973-b73a-847e83e80730\",\"type\":\"GlyphRenderer\"},{\"attributes\":{\"callback\":null,\"end\":2000},\"id\":\"1f1dbc83-2c46-48a9-9b1c-c0cb236462ed\",\"type\":\"Range1d\"},{\"attributes\":{\"callback\":null},\"id\":\"6d25c9d7-594f-4cc8-b542-a9d9cfaa2e05\",\"type\":\"TapTool\"},{\"attributes\":{\"fill_color\":{\"value\":\"blue\"},\"line_color\":{\"value\":null}},\"id\":\"33c612bf-746f-4af3-9582-601319af4dea\",\"type\":\"Circle\"},{\"attributes\":{\"fill_alpha\":{\"value\":0.5},\"fill_color\":{\"value\":\"lightgrey\"},\"level\":\"overlay\",\"line_alpha\":{\"value\":1.0},\"line_color\":{\"value\":\"black\"},\"line_dash\":[4,4],\"line_width\":{\"value\":2},\"plot\":null,\"xs_units\":\"screen\",\"ys_units\":\"screen\"},\"id\":\"05db53df-880d-456e-b943-ffe5f58427c9\",\"type\":\"PolyAnnotation\"},{\"attributes\":{\"click_policy\":\"hide\",\"items\":[{\"id\":\"06b54503-1825-42de-bfeb-d87dc7d0579c\",\"type\":\"LegendItem\"},{\"id\":\"514cb9e2-87fa-4f4a-9c95-0f9b4bf5ef42\",\"type\":\"LegendItem\"}],\"plot\":{\"id\":\"2a419436-0334-4665-8845-9aa5dcd03cb2\",\"subtype\":\"Figure\",\"type\":\"Plot\"}},\"id\":\"ae2cad08-b774-4a1c-878f-0e75be0962ea\",\"type\":\"Legend\"},{\"attributes\":{\"fill_alpha\":{\"value\":0.02},\"fill_color\":{\"value\":\"grey\"},\"line_alpha\":{\"value\":0.1},\"line_color\":{\"value\":\"blue\"}},\"id\":\"2521edb2-fb0b-4f27-9cf7-8030cabe276c\",\"type\":\"Circle\"},{\"attributes\":{},\"id\":\"c28b1e70-6794-4acc-bf0b-df111f5e65c3\",\"type\":\"UnionRenderers\"},{\"attributes\":{},\"id\":\"0701df96-148d-4ef6-979a-33b9178cc984\",\"type\":\"ResetTool\"},{\"attributes\":{},\"id\":\"0486a3fd-ea30-4a96-80e2-52b78b3d11e6\",\"type\":\"BasicTickFormatter\"},{\"attributes\":{\"source\":{\"id\":\"8e4b6500-6a07-424f-8eae-e49ca0c8d314\",\"type\":\"ColumnDataSource\"}},\"id\":\"ffc4765b-2105-4327-853a-6fc4af1549ca\",\"type\":\"CDSView\"},{\"attributes\":{\"active_drag\":\"auto\",\"active_inspect\":\"auto\",\"active_scroll\":\"auto\",\"active_tap\":\"auto\",\"tools\":[{\"id\":\"6bdca796-82a0-45f9-ae6c-2d16c3b3db7b\",\"type\":\"HoverTool\"},{\"id\":\"8e27b618-a8a6-466f-b3fd-2b81982ae739\",\"type\":\"PanTool\"},{\"id\":\"44ae6c05-93be-4e3a-91f4-9da41106299b\",\"type\":\"WheelZoomTool\"},{\"id\":\"afade400-0b9b-4e06-99f5-27c63334ecc5\",\"type\":\"BoxZoomTool\"},{\"id\":\"0701df96-148d-4ef6-979a-33b9178cc984\",\"type\":\"ResetTool\"},{\"id\":\"40ee89fd-33b4-44be-980a-6c4f02ab4a0f\",\"type\":\"CrosshairTool\"},{\"id\":\"dd78c13e-5a7e-4ab1-a2f9-317824683a05\",\"type\":\"LassoSelectTool\"},{\"id\":\"6d25c9d7-594f-4cc8-b542-a9d9cfaa2e05\",\"type\":\"TapTool\"}]},\"id\":\"13bd17bb-194b-4814-a37b-b2f5868e0f0a\",\"type\":\"Toolbar\"},{\"attributes\":{},\"id\":\"44ae6c05-93be-4e3a-91f4-9da41106299b\",\"type\":\"WheelZoomTool\"},{\"attributes\":{\"axis_label\":\"Shots Made\",\"formatter\":{\"id\":\"0486a3fd-ea30-4a96-80e2-52b78b3d11e6\",\"type\":\"BasicTickFormatter\"},\"plot\":{\"id\":\"2a419436-0334-4665-8845-9aa5dcd03cb2\",\"subtype\":\"Figure\",\"type\":\"Plot\"},\"ticker\":{\"id\":\"9ea4ebae-a389-40d0-9719-3f81b9002853\",\"type\":\"BasicTicker\"}},\"id\":\"1485237a-c416-43f8-9e4b-9804dcf506cd\",\"type\":\"LinearAxis\"},{\"attributes\":{},\"id\":\"86100fb5-7847-42a5-8659-9a4717331eef\",\"type\":\"BasicTicker\"},{\"attributes\":{},\"id\":\"a06b78a5-9b64-4753-b571-4cb1f689f269\",\"type\":\"LinearScale\"},{\"attributes\":{\"fill_alpha\":{\"value\":0.2},\"fill_color\":{\"value\":\"blue\"},\"line_alpha\":{\"value\":0.2},\"line_color\":{\"value\":\"blue\"},\"size\":{\"units\":\"screen\",\"value\":7},\"x\":{\"field\":\"y\"},\"y\":{\"field\":\"x\"}},\"id\":\"31e38744-e086-484e-92ca-db43d2469395\",\"type\":\"Circle\"},{\"attributes\":{\"plot\":{\"id\":\"2a419436-0334-4665-8845-9aa5dcd03cb2\",\"subtype\":\"Figure\",\"type\":\"Plot\"},\"ticker\":{\"id\":\"86100fb5-7847-42a5-8659-9a4717331eef\",\"type\":\"BasicTicker\"}},\"id\":\"1686d363-7bdb-4c12-85a4-28fa1aa25b68\",\"type\":\"Grid\"},{\"attributes\":{\"axis_label\":\"Shots Attemps \",\"formatter\":{\"id\":\"95d5e616-b3b7-4e8a-b5ea-30e3c6c3e404\",\"type\":\"BasicTickFormatter\"},\"plot\":{\"id\":\"2a419436-0334-4665-8845-9aa5dcd03cb2\",\"subtype\":\"Figure\",\"type\":\"Plot\"},\"ticker\":{\"id\":\"86100fb5-7847-42a5-8659-9a4717331eef\",\"type\":\"BasicTicker\"}},\"id\":\"8936620c-b3eb-4869-a72f-a172863254b5\",\"type\":\"LinearAxis\"},{\"attributes\":{\"fill_alpha\":{\"value\":0.7},\"fill_color\":{\"value\":\"red\"},\"line_alpha\":{\"value\":0.7},\"line_color\":{\"value\":\"red\"},\"size\":{\"units\":\"screen\",\"value\":10},\"x\":{\"field\":\"TwoPointAttempt\"},\"y\":{\"field\":\"TwoPointMade\"}},\"id\":\"3ea14010-4364-45a3-9186-13729a4eeb7d\",\"type\":\"Cross\"},{\"attributes\":{},\"id\":\"2cdd33c7-84a2-4115-bec0-cc947bb65d11\",\"type\":\"LinearScale\"},{\"attributes\":{\"below\":[{\"id\":\"8936620c-b3eb-4869-a72f-a172863254b5\",\"type\":\"LinearAxis\"}],\"left\":[{\"id\":\"1485237a-c416-43f8-9e4b-9804dcf506cd\",\"type\":\"LinearAxis\"}],\"plot_height\":800,\"renderers\":[{\"id\":\"8936620c-b3eb-4869-a72f-a172863254b5\",\"type\":\"LinearAxis\"},{\"id\":\"1686d363-7bdb-4c12-85a4-28fa1aa25b68\",\"type\":\"Grid\"},{\"id\":\"1485237a-c416-43f8-9e4b-9804dcf506cd\",\"type\":\"LinearAxis\"},{\"id\":\"cd6f8fcd-4615-4bfb-ba14-cc5bb2a60b87\",\"type\":\"Grid\"},{\"id\":\"8f30387f-f4ea-4eaa-8015-5fceb07d2d4f\",\"type\":\"BoxAnnotation\"},{\"id\":\"05db53df-880d-456e-b943-ffe5f58427c9\",\"type\":\"PolyAnnotation\"},{\"id\":\"ae2cad08-b774-4a1c-878f-0e75be0962ea\",\"type\":\"Legend\"},{\"id\":\"ce6c499d-f8ad-4e15-a52b-cdeb42384563\",\"type\":\"GlyphRenderer\"},{\"id\":\"0c0cfe1b-a065-4973-b73a-847e83e80730\",\"type\":\"GlyphRenderer\"}],\"right\":[{\"id\":\"ae2cad08-b774-4a1c-878f-0e75be0962ea\",\"type\":\"Legend\"}],\"title\":{\"id\":\"3ba825ef-542c-40b3-96a1-a8baac3c8fe4\",\"type\":\"Title\"},\"toolbar\":{\"id\":\"13bd17bb-194b-4814-a37b-b2f5868e0f0a\",\"type\":\"Toolbar\"},\"x_range\":{\"id\":\"1f1dbc83-2c46-48a9-9b1c-c0cb236462ed\",\"type\":\"Range1d\"},\"x_scale\":{\"id\":\"2cdd33c7-84a2-4115-bec0-cc947bb65d11\",\"type\":\"LinearScale\"},\"y_range\":{\"id\":\"6553497d-2c9d-4c70-9a42-98663683ca94\",\"type\":\"Range1d\"},\"y_scale\":{\"id\":\"a06b78a5-9b64-4753-b571-4cb1f689f269\",\"type\":\"LinearScale\"}},\"id\":\"2a419436-0334-4665-8845-9aa5dcd03cb2\",\"subtype\":\"Figure\",\"type\":\"Plot\"},{\"attributes\":{\"callback\":null,\"end\":800},\"id\":\"6553497d-2c9d-4c70-9a42-98663683ca94\",\"type\":\"Range1d\"},{\"attributes\":{},\"id\":\"9ea4ebae-a389-40d0-9719-3f81b9002853\",\"type\":\"BasicTicker\"},{\"attributes\":{\"dimension\":1,\"plot\":{\"id\":\"2a419436-0334-4665-8845-9aa5dcd03cb2\",\"subtype\":\"Figure\",\"type\":\"Plot\"},\"ticker\":{\"id\":\"9ea4ebae-a389-40d0-9719-3f81b9002853\",\"type\":\"BasicTicker\"}},\"id\":\"cd6f8fcd-4615-4bfb-ba14-cc5bb2a60b87\",\"type\":\"Grid\"},{\"attributes\":{},\"id\":\"95d5e616-b3b7-4e8a-b5ea-30e3c6c3e404\",\"type\":\"BasicTickFormatter\"}],\"root_ids\":[\"2a419436-0334-4665-8845-9aa5dcd03cb2\"]},\"title\":\"Bokeh Application\",\"version\":\"0.12.16\"}};\n",
       "  var render_items = [{\"docid\":\"f79a9479-55ad-4cd9-a227-c985357dfdde\",\"elementid\":\"ee0c17b7-db56-4489-898c-60ee7ff97b96\",\"modelid\":\"2a419436-0334-4665-8845-9aa5dcd03cb2\",\"notebook_comms_target\":\"166c0085-c7e8-4832-801d-ef13bc0dfd02\"}];\n",
       "  root.Bokeh.embed.embed_items_notebook(docs_json, render_items);\n",
       "\n",
       "  }\n",
       "  if (root.Bokeh !== undefined) {\n",
       "    embed_document(root);\n",
       "  } else {\n",
       "    var attempts = 0;\n",
       "    var timer = setInterval(function(root) {\n",
       "      if (root.Bokeh !== undefined) {\n",
       "        embed_document(root);\n",
       "        clearInterval(timer);\n",
       "      }\n",
       "      attempts++;\n",
       "      if (attempts > 100) {\n",
       "        console.log(\"Bokeh: ERROR: Unable to run BokehJS code because BokehJS library is missing\")\n",
       "        clearInterval(timer);\n",
       "      }\n",
       "    }, 10, root)\n",
       "  }\n",
       "})(window);"
      ],
      "application/vnd.bokehjs_exec.v0+json": ""
     },
     "metadata": {
      "application/vnd.bokehjs_exec.v0+json": {
       "id": "2a419436-0334-4665-8845-9aa5dcd03cb2"
      }
     },
     "output_type": "display_data"
    },
    {
     "data": {
      "application/vnd.jupyter.widget-view+json": {
       "model_id": "a99040d15f64414f8363b426f3ffa6a3",
       "version_major": 2,
       "version_minor": 0
      },
      "text/plain": [
       "interactive(children=(Play(value=1980, description='Year', max=2017, min=1980), Output()), _dom_classes=('widg…"
      ]
     },
     "metadata": {},
     "output_type": "display_data"
    },
    {
     "data": {
      "application/vnd.jupyter.widget-view+json": {
       "model_id": "45d4567738f64e96be01fd7f59b0fe59",
       "version_major": 2,
       "version_minor": 0
      },
      "text/plain": [
       "interactive(children=(IntSlider(value=1980, description='Years:', max=2017, min=1980), Output()), _dom_classes…"
      ]
     },
     "metadata": {},
     "output_type": "display_data"
    },
    {
     "data": {
      "application/vnd.jupyter.widget-view+json": {
       "model_id": "53426b9b90ce4f9783c888d5865c6664",
       "version_major": 2,
       "version_minor": 0
      },
      "text/plain": [
       "interactive(children=(BoundedIntText(value=1980, description='Text:', max=2017, min=1980), Output()), _dom_cla…"
      ]
     },
     "metadata": {},
     "output_type": "display_data"
    },
    {
     "data": {
      "text/plain": [
       "<function __main__.update(Year)>"
      ]
     },
     "execution_count": 38,
     "metadata": {},
     "output_type": "execute_result"
    }
   ],
   "source": [
    "from bokeh.models import ColumnDataSource\n",
    "from bokeh.models import HoverTool\n",
    "from bokeh.models import LinearInterpolator\n",
    "from bokeh.models import CategoricalColorMapper\n",
    "from bokeh.palettes import Set1_9\n",
    "from bokeh.models import Circle\n",
    "from bokeh.plotting import figure\n",
    "from ipywidgets import interact, interactive, fixed, interact_manual,widgets\n",
    "from bokeh.io import push_notebook,show\n",
    "\n",
    "\n",
    "#data3 = pd.read_csv('nba-players-stats/SeasonStats1500MP3.1.csv',index_col=['Year'])\n",
    "data3 = pd.read_csv('nba-players-stats/Seasons_Stats.csv',index_col=['Year'])\n",
    "source = ColumnDataSource(dict(\n",
    "    x = data3.loc[2010].ThreeMade,  \n",
    "    y = data3.loc[2010].ThreeAttempt,\n",
    "    Percentages = data3.loc[2010].Threepercent,\n",
    "    Player = data3.loc[2010].Player,\n",
    "    Position = data3.loc[2010].Pos,\n",
    "    Team = data3.loc[2010].Tm,\n",
    "    MP = data3.loc[2010].MP,\n",
    "    ThreeRatio = data3.loc[2010].get('3PAr'),\n",
    "    FGA= data3.loc[2010].get('FGA'),\n",
    "    TwoPointMade = data3.loc[2010].get('2P'),\n",
    "    TwoPointAttempt = data3.loc[2010].get('2PA')\n",
    "))\n",
    "\n",
    "Hover_tools = HoverTool(tooltips = [\n",
    "     #('Year', '@Year'),\n",
    "    ('FG Attempted Total/Season', \"@FGA\"),\n",
    "     ('3P Attempted/Season', \"@y\"),\n",
    "    ('3P Made/Season', '@x'),\n",
    "     ('2P Attempted/Season','@TwoPointAttempt'),\n",
    "    ('2P Made/Season','@TwoPointMade'),\n",
    "    ('Player', '@Player')])\n",
    "\n",
    "p5 = figure( tools = [Hover_tools,'pan', 'wheel_zoom','box_zoom','reset','crosshair','lasso_select','tap'],\n",
    "            height=800,\n",
    "           width = 600,\n",
    "           x_range = (0,2000),\n",
    "           y_range=(0,800),\n",
    "            title = \"2Points vs 3Points\",\n",
    "              x_axis_label = \"Shots Attemps \",\n",
    "           y_axis_label = \"Shots Made\"\n",
    "        )\n",
    "\n",
    "g = p5.circle(x='y', \n",
    "         y='x',\n",
    "          size = 7,\n",
    "         color = 'blue',\n",
    "         #size = {'field':'population','transform':relative_size},\n",
    "        #color = {'field': 'Position','transform': mapping_coloring},\n",
    "         alpha = 0.2,\n",
    "       legend = 'Circle : 3 pointers ',\n",
    "        source = source)\n",
    "\n",
    "p5.cross(x='TwoPointAttempt', \n",
    "         y='TwoPointMade',\n",
    "           color = 'red',\n",
    "#           width = 10,\n",
    "#           height = 10,\n",
    "          size = 10,\n",
    "#          size = {'field':'population','transform':relative_size},\n",
    "     #  color = {'field': 'Position','transform': mapping_coloring},\n",
    "         alpha = 0.7,\n",
    "         legend = 'Cross: 2 Pointers',\n",
    "        source = source)\n",
    "\n",
    "def update(Year):\n",
    "    interactivedata = dict(\n",
    "    x = data3.loc[Year].ThreeMade,  \n",
    "    y = data3.loc[Year].ThreeAttempt,\n",
    "    Percentages = data3.loc[Year].Threepercent,\n",
    "    Player = data3.loc[Year].Player,\n",
    "    Position = data3.loc[Year].Pos,\n",
    "    Team = data3.loc[Year].Tm,\n",
    "    MP = data3.loc[Year].MP,\n",
    "    ThreeRatio = data3.loc[Year].get('3PAr'),\n",
    "    FGA= data3.loc[Year].get('FGA'),\n",
    "    TwoPointMade = data3.loc[Year].get('2P'),\n",
    "    TwoPointAttempt = data3.loc[Year].get('2PA')\n",
    "    )\n",
    "    \n",
    "    source.data = interactivedata\n",
    "    p5.title.text='2Points vs 3Points'+ \"(Season:\"+  str(Year-1) + \"-\" + str(Year)+\")\"\n",
    "    push_notebook()\n",
    "    \n",
    "    \n",
    "selected_circle = Circle(fill_alpha=1, fill_color=\"blue\", line_color=None)\n",
    "nonselected_circle = Circle(line_alpha=0.1,fill_alpha=0.02,fill_color=\"grey\", line_color=\"blue\")\n",
    "\n",
    "    \n",
    "\n",
    "g.selection_glyph = selected_circle\n",
    "g.nonselection_glyph = nonselected_circle\n",
    "    \n",
    "    \n",
    "    \n",
    "p5.legend.click_policy=\"hide\"\n",
    "p5.right = p5.legend\n",
    "show(p5,notebook_handle=True)\n",
    "\n",
    "interact(update,\n",
    "    Year = widgets.Play(\n",
    "    value=0,\n",
    "    min=1980,\n",
    "    max=2017,\n",
    "    step=1,\n",
    "    disabled=False\n",
    "))\n",
    "\n",
    "\n",
    "interact(update,\n",
    "    Year = widgets.IntSlider(\n",
    "    value=0,\n",
    "    min=1980,\n",
    "    max=2017,\n",
    "    step=1,\n",
    "    description='Years:',\n",
    "    continuous_update=True,\n",
    "    orientation='Horizontal',\n",
    "    readout=True,\n",
    "    readout_format='d',\n",
    "))\n",
    "\n",
    "\n",
    "interact(update,\n",
    "    Year = widgets.BoundedIntText(\n",
    "    value=0,\n",
    "    min=1980,\n",
    "    max=2017,\n",
    "    #continuous_update=True,\n",
    "    step=1,\n",
    "    description='Text:',\n",
    "    disabled=False\n",
    "))"
   ]
  },
  {
   "cell_type": "markdown",
   "metadata": {
    "extensions": {
     "jupyter_dashboards": {
      "version": 1,
      "views": {
       "grid_default": {
        "col": 0,
        "height": 4,
        "hidden": false,
        "row": 524,
        "width": 12
       },
       "report_default": {
        "hidden": false
       }
      }
     }
    }
   },
   "source": [
    "# Display the pace of the game or speed of the game. \n",
    "\n",
    "The number of possession in a game. THis is how fast the game is. "
   ]
  },
  {
   "cell_type": "code",
   "execution_count": 39,
   "metadata": {
    "extensions": {
     "jupyter_dashboards": {
      "version": 1,
      "views": {
       "grid_default": {
        "col": 0,
        "height": 20,
        "hidden": false,
        "row": 528,
        "width": 12
       },
       "report_default": {
        "hidden": false
       }
      }
     }
    }
   },
   "outputs": [
    {
     "data": {
      "text/html": [
       "\n",
       "    <div class=\"bk-root\">\n",
       "        <a href=\"https://bokeh.pydata.org\" target=\"_blank\" class=\"bk-logo bk-logo-small bk-logo-notebook\"></a>\n",
       "        <span id=\"0e489272-3b76-40f4-ae2d-f783444aa456\">Loading BokehJS ...</span>\n",
       "    </div>"
      ]
     },
     "metadata": {},
     "output_type": "display_data"
    },
    {
     "data": {
      "application/javascript": [
       "\n",
       "(function(root) {\n",
       "  function now() {\n",
       "    return new Date();\n",
       "  }\n",
       "\n",
       "  var force = true;\n",
       "\n",
       "  if (typeof (root._bokeh_onload_callbacks) === \"undefined\" || force === true) {\n",
       "    root._bokeh_onload_callbacks = [];\n",
       "    root._bokeh_is_loading = undefined;\n",
       "  }\n",
       "\n",
       "  var JS_MIME_TYPE = 'application/javascript';\n",
       "  var HTML_MIME_TYPE = 'text/html';\n",
       "  var EXEC_MIME_TYPE = 'application/vnd.bokehjs_exec.v0+json';\n",
       "  var CLASS_NAME = 'output_bokeh rendered_html';\n",
       "\n",
       "  /**\n",
       "   * Render data to the DOM node\n",
       "   */\n",
       "  function render(props, node) {\n",
       "    var script = document.createElement(\"script\");\n",
       "    node.appendChild(script);\n",
       "  }\n",
       "\n",
       "  /**\n",
       "   * Handle when an output is cleared or removed\n",
       "   */\n",
       "  function handleClearOutput(event, handle) {\n",
       "    var cell = handle.cell;\n",
       "\n",
       "    var id = cell.output_area._bokeh_element_id;\n",
       "    var server_id = cell.output_area._bokeh_server_id;\n",
       "    // Clean up Bokeh references\n",
       "    if (id !== undefined) {\n",
       "      Bokeh.index[id].model.document.clear();\n",
       "      delete Bokeh.index[id];\n",
       "    }\n",
       "\n",
       "    if (server_id !== undefined) {\n",
       "      // Clean up Bokeh references\n",
       "      var cmd = \"from bokeh.io.state import curstate; print(curstate().uuid_to_server['\" + server_id + \"'].get_sessions()[0].document.roots[0]._id)\";\n",
       "      cell.notebook.kernel.execute(cmd, {\n",
       "        iopub: {\n",
       "          output: function(msg) {\n",
       "            var element_id = msg.content.text.trim();\n",
       "            Bokeh.index[element_id].model.document.clear();\n",
       "            delete Bokeh.index[element_id];\n",
       "          }\n",
       "        }\n",
       "      });\n",
       "      // Destroy server and session\n",
       "      var cmd = \"import bokeh.io.notebook as ion; ion.destroy_server('\" + server_id + \"')\";\n",
       "      cell.notebook.kernel.execute(cmd);\n",
       "    }\n",
       "  }\n",
       "\n",
       "  /**\n",
       "   * Handle when a new output is added\n",
       "   */\n",
       "  function handleAddOutput(event, handle) {\n",
       "    var output_area = handle.output_area;\n",
       "    var output = handle.output;\n",
       "\n",
       "    // limit handleAddOutput to display_data with EXEC_MIME_TYPE content only\n",
       "    if ((output.output_type != \"display_data\") || (!output.data.hasOwnProperty(EXEC_MIME_TYPE))) {\n",
       "      return\n",
       "    }\n",
       "\n",
       "    var toinsert = output_area.element.find(\".\" + CLASS_NAME.split(' ')[0]);\n",
       "\n",
       "    if (output.metadata[EXEC_MIME_TYPE][\"id\"] !== undefined) {\n",
       "      toinsert[toinsert.length - 1].firstChild.textContent = output.data[JS_MIME_TYPE];\n",
       "      // store reference to embed id on output_area\n",
       "      output_area._bokeh_element_id = output.metadata[EXEC_MIME_TYPE][\"id\"];\n",
       "    }\n",
       "    if (output.metadata[EXEC_MIME_TYPE][\"server_id\"] !== undefined) {\n",
       "      var bk_div = document.createElement(\"div\");\n",
       "      bk_div.innerHTML = output.data[HTML_MIME_TYPE];\n",
       "      var script_attrs = bk_div.children[0].attributes;\n",
       "      for (var i = 0; i < script_attrs.length; i++) {\n",
       "        toinsert[toinsert.length - 1].firstChild.setAttribute(script_attrs[i].name, script_attrs[i].value);\n",
       "      }\n",
       "      // store reference to server id on output_area\n",
       "      output_area._bokeh_server_id = output.metadata[EXEC_MIME_TYPE][\"server_id\"];\n",
       "    }\n",
       "  }\n",
       "\n",
       "  function register_renderer(events, OutputArea) {\n",
       "\n",
       "    function append_mime(data, metadata, element) {\n",
       "      // create a DOM node to render to\n",
       "      var toinsert = this.create_output_subarea(\n",
       "        metadata,\n",
       "        CLASS_NAME,\n",
       "        EXEC_MIME_TYPE\n",
       "      );\n",
       "      this.keyboard_manager.register_events(toinsert);\n",
       "      // Render to node\n",
       "      var props = {data: data, metadata: metadata[EXEC_MIME_TYPE]};\n",
       "      render(props, toinsert[toinsert.length - 1]);\n",
       "      element.append(toinsert);\n",
       "      return toinsert\n",
       "    }\n",
       "\n",
       "    /* Handle when an output is cleared or removed */\n",
       "    events.on('clear_output.CodeCell', handleClearOutput);\n",
       "    events.on('delete.Cell', handleClearOutput);\n",
       "\n",
       "    /* Handle when a new output is added */\n",
       "    events.on('output_added.OutputArea', handleAddOutput);\n",
       "\n",
       "    /**\n",
       "     * Register the mime type and append_mime function with output_area\n",
       "     */\n",
       "    OutputArea.prototype.register_mime_type(EXEC_MIME_TYPE, append_mime, {\n",
       "      /* Is output safe? */\n",
       "      safe: true,\n",
       "      /* Index of renderer in `output_area.display_order` */\n",
       "      index: 0\n",
       "    });\n",
       "  }\n",
       "\n",
       "  // register the mime type if in Jupyter Notebook environment and previously unregistered\n",
       "  if (root.Jupyter !== undefined) {\n",
       "    var events = require('base/js/events');\n",
       "    var OutputArea = require('notebook/js/outputarea').OutputArea;\n",
       "\n",
       "    if (OutputArea.prototype.mime_types().indexOf(EXEC_MIME_TYPE) == -1) {\n",
       "      register_renderer(events, OutputArea);\n",
       "    }\n",
       "  }\n",
       "\n",
       "  \n",
       "  if (typeof (root._bokeh_timeout) === \"undefined\" || force === true) {\n",
       "    root._bokeh_timeout = Date.now() + 5000;\n",
       "    root._bokeh_failed_load = false;\n",
       "  }\n",
       "\n",
       "  var NB_LOAD_WARNING = {'data': {'text/html':\n",
       "     \"<div style='background-color: #fdd'>\\n\"+\n",
       "     \"<p>\\n\"+\n",
       "     \"BokehJS does not appear to have successfully loaded. If loading BokehJS from CDN, this \\n\"+\n",
       "     \"may be due to a slow or bad network connection. Possible fixes:\\n\"+\n",
       "     \"</p>\\n\"+\n",
       "     \"<ul>\\n\"+\n",
       "     \"<li>re-rerun `output_notebook()` to attempt to load from CDN again, or</li>\\n\"+\n",
       "     \"<li>use INLINE resources instead, as so:</li>\\n\"+\n",
       "     \"</ul>\\n\"+\n",
       "     \"<code>\\n\"+\n",
       "     \"from bokeh.resources import INLINE\\n\"+\n",
       "     \"output_notebook(resources=INLINE)\\n\"+\n",
       "     \"</code>\\n\"+\n",
       "     \"</div>\"}};\n",
       "\n",
       "  function display_loaded() {\n",
       "    var el = document.getElementById(\"0e489272-3b76-40f4-ae2d-f783444aa456\");\n",
       "    if (el != null) {\n",
       "      el.textContent = \"BokehJS is loading...\";\n",
       "    }\n",
       "    if (root.Bokeh !== undefined) {\n",
       "      if (el != null) {\n",
       "        el.textContent = \"BokehJS \" + root.Bokeh.version + \" successfully loaded.\";\n",
       "      }\n",
       "    } else if (Date.now() < root._bokeh_timeout) {\n",
       "      setTimeout(display_loaded, 100)\n",
       "    }\n",
       "  }\n",
       "\n",
       "\n",
       "  function run_callbacks() {\n",
       "    try {\n",
       "      root._bokeh_onload_callbacks.forEach(function(callback) { callback() });\n",
       "    }\n",
       "    finally {\n",
       "      delete root._bokeh_onload_callbacks\n",
       "    }\n",
       "    console.info(\"Bokeh: all callbacks have finished\");\n",
       "  }\n",
       "\n",
       "  function load_libs(js_urls, callback) {\n",
       "    root._bokeh_onload_callbacks.push(callback);\n",
       "    if (root._bokeh_is_loading > 0) {\n",
       "      console.log(\"Bokeh: BokehJS is being loaded, scheduling callback at\", now());\n",
       "      return null;\n",
       "    }\n",
       "    if (js_urls == null || js_urls.length === 0) {\n",
       "      run_callbacks();\n",
       "      return null;\n",
       "    }\n",
       "    console.log(\"Bokeh: BokehJS not loaded, scheduling load and callback at\", now());\n",
       "    root._bokeh_is_loading = js_urls.length;\n",
       "    for (var i = 0; i < js_urls.length; i++) {\n",
       "      var url = js_urls[i];\n",
       "      var s = document.createElement('script');\n",
       "      s.src = url;\n",
       "      s.async = false;\n",
       "      s.onreadystatechange = s.onload = function() {\n",
       "        root._bokeh_is_loading--;\n",
       "        if (root._bokeh_is_loading === 0) {\n",
       "          console.log(\"Bokeh: all BokehJS libraries loaded\");\n",
       "          run_callbacks()\n",
       "        }\n",
       "      };\n",
       "      s.onerror = function() {\n",
       "        console.warn(\"failed to load library \" + url);\n",
       "      };\n",
       "      console.log(\"Bokeh: injecting script tag for BokehJS library: \", url);\n",
       "      document.getElementsByTagName(\"head\")[0].appendChild(s);\n",
       "    }\n",
       "  };var element = document.getElementById(\"0e489272-3b76-40f4-ae2d-f783444aa456\");\n",
       "  if (element == null) {\n",
       "    console.log(\"Bokeh: ERROR: autoload.js configured with elementid '0e489272-3b76-40f4-ae2d-f783444aa456' but no matching script tag was found. \")\n",
       "    return false;\n",
       "  }\n",
       "\n",
       "  var js_urls = [\"https://cdn.pydata.org/bokeh/release/bokeh-0.12.16.min.js\", \"https://cdn.pydata.org/bokeh/release/bokeh-widgets-0.12.16.min.js\", \"https://cdn.pydata.org/bokeh/release/bokeh-tables-0.12.16.min.js\", \"https://cdn.pydata.org/bokeh/release/bokeh-gl-0.12.16.min.js\"];\n",
       "\n",
       "  var inline_js = [\n",
       "    function(Bokeh) {\n",
       "      Bokeh.set_log_level(\"info\");\n",
       "    },\n",
       "    \n",
       "    function(Bokeh) {\n",
       "      \n",
       "    },\n",
       "    function(Bokeh) {\n",
       "      console.log(\"Bokeh: injecting CSS: https://cdn.pydata.org/bokeh/release/bokeh-0.12.16.min.css\");\n",
       "      Bokeh.embed.inject_css(\"https://cdn.pydata.org/bokeh/release/bokeh-0.12.16.min.css\");\n",
       "      console.log(\"Bokeh: injecting CSS: https://cdn.pydata.org/bokeh/release/bokeh-widgets-0.12.16.min.css\");\n",
       "      Bokeh.embed.inject_css(\"https://cdn.pydata.org/bokeh/release/bokeh-widgets-0.12.16.min.css\");\n",
       "      console.log(\"Bokeh: injecting CSS: https://cdn.pydata.org/bokeh/release/bokeh-tables-0.12.16.min.css\");\n",
       "      Bokeh.embed.inject_css(\"https://cdn.pydata.org/bokeh/release/bokeh-tables-0.12.16.min.css\");\n",
       "    }\n",
       "  ];\n",
       "\n",
       "  function run_inline_js() {\n",
       "    \n",
       "    if ((root.Bokeh !== undefined) || (force === true)) {\n",
       "      for (var i = 0; i < inline_js.length; i++) {\n",
       "        inline_js[i].call(root, root.Bokeh);\n",
       "      }if (force === true) {\n",
       "        display_loaded();\n",
       "      }} else if (Date.now() < root._bokeh_timeout) {\n",
       "      setTimeout(run_inline_js, 100);\n",
       "    } else if (!root._bokeh_failed_load) {\n",
       "      console.log(\"Bokeh: BokehJS failed to load within specified timeout.\");\n",
       "      root._bokeh_failed_load = true;\n",
       "    } else if (force !== true) {\n",
       "      var cell = $(document.getElementById(\"0e489272-3b76-40f4-ae2d-f783444aa456\")).parents('.cell').data().cell;\n",
       "      cell.output_area.append_execute_result(NB_LOAD_WARNING)\n",
       "    }\n",
       "\n",
       "  }\n",
       "\n",
       "  if (root._bokeh_is_loading === 0) {\n",
       "    console.log(\"Bokeh: BokehJS loaded, going straight to plotting\");\n",
       "    run_inline_js();\n",
       "  } else {\n",
       "    load_libs(js_urls, function() {\n",
       "      console.log(\"Bokeh: BokehJS plotting callback run at\", now());\n",
       "      run_inline_js();\n",
       "    });\n",
       "  }\n",
       "}(window));"
      ],
      "application/vnd.bokehjs_load.v0+json": "\n(function(root) {\n  function now() {\n    return new Date();\n  }\n\n  var force = true;\n\n  if (typeof (root._bokeh_onload_callbacks) === \"undefined\" || force === true) {\n    root._bokeh_onload_callbacks = [];\n    root._bokeh_is_loading = undefined;\n  }\n\n  \n\n  \n  if (typeof (root._bokeh_timeout) === \"undefined\" || force === true) {\n    root._bokeh_timeout = Date.now() + 5000;\n    root._bokeh_failed_load = false;\n  }\n\n  var NB_LOAD_WARNING = {'data': {'text/html':\n     \"<div style='background-color: #fdd'>\\n\"+\n     \"<p>\\n\"+\n     \"BokehJS does not appear to have successfully loaded. If loading BokehJS from CDN, this \\n\"+\n     \"may be due to a slow or bad network connection. Possible fixes:\\n\"+\n     \"</p>\\n\"+\n     \"<ul>\\n\"+\n     \"<li>re-rerun `output_notebook()` to attempt to load from CDN again, or</li>\\n\"+\n     \"<li>use INLINE resources instead, as so:</li>\\n\"+\n     \"</ul>\\n\"+\n     \"<code>\\n\"+\n     \"from bokeh.resources import INLINE\\n\"+\n     \"output_notebook(resources=INLINE)\\n\"+\n     \"</code>\\n\"+\n     \"</div>\"}};\n\n  function display_loaded() {\n    var el = document.getElementById(\"0e489272-3b76-40f4-ae2d-f783444aa456\");\n    if (el != null) {\n      el.textContent = \"BokehJS is loading...\";\n    }\n    if (root.Bokeh !== undefined) {\n      if (el != null) {\n        el.textContent = \"BokehJS \" + root.Bokeh.version + \" successfully loaded.\";\n      }\n    } else if (Date.now() < root._bokeh_timeout) {\n      setTimeout(display_loaded, 100)\n    }\n  }\n\n\n  function run_callbacks() {\n    try {\n      root._bokeh_onload_callbacks.forEach(function(callback) { callback() });\n    }\n    finally {\n      delete root._bokeh_onload_callbacks\n    }\n    console.info(\"Bokeh: all callbacks have finished\");\n  }\n\n  function load_libs(js_urls, callback) {\n    root._bokeh_onload_callbacks.push(callback);\n    if (root._bokeh_is_loading > 0) {\n      console.log(\"Bokeh: BokehJS is being loaded, scheduling callback at\", now());\n      return null;\n    }\n    if (js_urls == null || js_urls.length === 0) {\n      run_callbacks();\n      return null;\n    }\n    console.log(\"Bokeh: BokehJS not loaded, scheduling load and callback at\", now());\n    root._bokeh_is_loading = js_urls.length;\n    for (var i = 0; i < js_urls.length; i++) {\n      var url = js_urls[i];\n      var s = document.createElement('script');\n      s.src = url;\n      s.async = false;\n      s.onreadystatechange = s.onload = function() {\n        root._bokeh_is_loading--;\n        if (root._bokeh_is_loading === 0) {\n          console.log(\"Bokeh: all BokehJS libraries loaded\");\n          run_callbacks()\n        }\n      };\n      s.onerror = function() {\n        console.warn(\"failed to load library \" + url);\n      };\n      console.log(\"Bokeh: injecting script tag for BokehJS library: \", url);\n      document.getElementsByTagName(\"head\")[0].appendChild(s);\n    }\n  };var element = document.getElementById(\"0e489272-3b76-40f4-ae2d-f783444aa456\");\n  if (element == null) {\n    console.log(\"Bokeh: ERROR: autoload.js configured with elementid '0e489272-3b76-40f4-ae2d-f783444aa456' but no matching script tag was found. \")\n    return false;\n  }\n\n  var js_urls = [\"https://cdn.pydata.org/bokeh/release/bokeh-0.12.16.min.js\", \"https://cdn.pydata.org/bokeh/release/bokeh-widgets-0.12.16.min.js\", \"https://cdn.pydata.org/bokeh/release/bokeh-tables-0.12.16.min.js\", \"https://cdn.pydata.org/bokeh/release/bokeh-gl-0.12.16.min.js\"];\n\n  var inline_js = [\n    function(Bokeh) {\n      Bokeh.set_log_level(\"info\");\n    },\n    \n    function(Bokeh) {\n      \n    },\n    function(Bokeh) {\n      console.log(\"Bokeh: injecting CSS: https://cdn.pydata.org/bokeh/release/bokeh-0.12.16.min.css\");\n      Bokeh.embed.inject_css(\"https://cdn.pydata.org/bokeh/release/bokeh-0.12.16.min.css\");\n      console.log(\"Bokeh: injecting CSS: https://cdn.pydata.org/bokeh/release/bokeh-widgets-0.12.16.min.css\");\n      Bokeh.embed.inject_css(\"https://cdn.pydata.org/bokeh/release/bokeh-widgets-0.12.16.min.css\");\n      console.log(\"Bokeh: injecting CSS: https://cdn.pydata.org/bokeh/release/bokeh-tables-0.12.16.min.css\");\n      Bokeh.embed.inject_css(\"https://cdn.pydata.org/bokeh/release/bokeh-tables-0.12.16.min.css\");\n    }\n  ];\n\n  function run_inline_js() {\n    \n    if ((root.Bokeh !== undefined) || (force === true)) {\n      for (var i = 0; i < inline_js.length; i++) {\n        inline_js[i].call(root, root.Bokeh);\n      }if (force === true) {\n        display_loaded();\n      }} else if (Date.now() < root._bokeh_timeout) {\n      setTimeout(run_inline_js, 100);\n    } else if (!root._bokeh_failed_load) {\n      console.log(\"Bokeh: BokehJS failed to load within specified timeout.\");\n      root._bokeh_failed_load = true;\n    } else if (force !== true) {\n      var cell = $(document.getElementById(\"0e489272-3b76-40f4-ae2d-f783444aa456\")).parents('.cell').data().cell;\n      cell.output_area.append_execute_result(NB_LOAD_WARNING)\n    }\n\n  }\n\n  if (root._bokeh_is_loading === 0) {\n    console.log(\"Bokeh: BokehJS loaded, going straight to plotting\");\n    run_inline_js();\n  } else {\n    load_libs(js_urls, function() {\n      console.log(\"Bokeh: BokehJS plotting callback run at\", now());\n      run_inline_js();\n    });\n  }\n}(window));"
     },
     "metadata": {},
     "output_type": "display_data"
    },
    {
     "data": {
      "text/html": [
       "\n",
       "<div class=\"bk-root\">\n",
       "    <div class=\"bk-plotdiv\" id=\"77a3dc76-6b9c-4cc2-8af3-c50a2d63f8ff\"></div>\n",
       "</div>"
      ]
     },
     "metadata": {},
     "output_type": "display_data"
    },
    {
     "data": {
      "application/javascript": [
       "(function(root) {\n",
       "  function embed_document(root) {\n",
       "    \n",
       "  var docs_json = {\"80513b43-e230-4506-a6be-ce02b72efe10\":{\"roots\":{\"references\":[{\"attributes\":{\"axis_label\":\"Pace\",\"formatter\":{\"id\":\"3dadf3cf-9cfa-4598-a308-723a7589d05f\",\"type\":\"BasicTickFormatter\"},\"plot\":{\"id\":\"0a9125fd-6325-4cd1-a9a9-69d0493acbb7\",\"subtype\":\"Figure\",\"type\":\"Plot\"},\"ticker\":{\"id\":\"76787576-1a03-4c35-81a7-e82c217b3753\",\"type\":\"BasicTicker\"}},\"id\":\"1f3faaa2-9e3b-43a8-98f6-46d22cac8f74\",\"type\":\"LinearAxis\"},{\"attributes\":{\"callback\":null},\"id\":\"ab61062f-ad97-45d9-9c6e-758d843e8600\",\"type\":\"TapTool\"},{\"attributes\":{\"below\":[{\"id\":\"aca9b7f8-0312-4288-8444-2d2d2577c75b\",\"type\":\"LinearAxis\"}],\"left\":[{\"id\":\"1f3faaa2-9e3b-43a8-98f6-46d22cac8f74\",\"type\":\"LinearAxis\"}],\"plot_height\":500,\"plot_width\":800,\"renderers\":[{\"id\":\"aca9b7f8-0312-4288-8444-2d2d2577c75b\",\"type\":\"LinearAxis\"},{\"id\":\"88277b54-9a9e-42f6-844f-5219ea84a21a\",\"type\":\"Grid\"},{\"id\":\"1f3faaa2-9e3b-43a8-98f6-46d22cac8f74\",\"type\":\"LinearAxis\"},{\"id\":\"67fb665e-768c-44c8-9fda-a94f7699c0bc\",\"type\":\"Grid\"},{\"id\":\"6d682193-2ba2-4642-9655-23f85676a1f6\",\"type\":\"BoxAnnotation\"},{\"id\":\"65f38c81-0421-4bc0-8420-409e172c328b\",\"type\":\"PolyAnnotation\"},{\"id\":\"2dac5cb9-2cf9-49c6-af03-02b3987ac34b\",\"type\":\"Legend\"},{\"id\":\"dba37054-ab97-4415-a4be-d59a752fe6d1\",\"type\":\"GlyphRenderer\"},{\"id\":\"ceb163f3-465d-4c29-8601-b2b5acfee40b\",\"type\":\"GlyphRenderer\"}],\"right\":[{\"id\":\"2dac5cb9-2cf9-49c6-af03-02b3987ac34b\",\"type\":\"Legend\"}],\"title\":{\"id\":\"17457fdc-fc65-4631-ace3-c04fe5f11310\",\"type\":\"Title\"},\"toolbar\":{\"id\":\"d1b6045e-6dce-488c-8400-9fea9c8a1549\",\"type\":\"Toolbar\"},\"x_range\":{\"id\":\"5e3f1c79-19fa-4855-874a-8b56b51eaeba\",\"type\":\"Range1d\"},\"x_scale\":{\"id\":\"278b2ecf-5ea7-4a7a-99b8-9ebe187d06da\",\"type\":\"LinearScale\"},\"y_range\":{\"id\":\"69b4daeb-109f-404a-84e5-30043e15aa41\",\"type\":\"Range1d\"},\"y_scale\":{\"id\":\"d491d66b-851b-490f-bbc9-6c33193a5210\",\"type\":\"LinearScale\"}},\"id\":\"0a9125fd-6325-4cd1-a9a9-69d0493acbb7\",\"subtype\":\"Figure\",\"type\":\"Plot\"},{\"attributes\":{\"callback\":null,\"data\":{\"G\":[1230,1230,1230,1230,1230,1230,1229,990,1230,1230,1230,1230,1230,1230,1230,1189,1189,1189,1189,1189,725,1189,1189,1189,1107,1107,1107,1107,1107,1107,1025,943,943,943,943,943,943,943,943,902,902,902,902,738,738,697],\"PTS\":{\"__ndarray__\":\"zczMzMzMW0AzMzMzM5NaQGZmZmZmZlpAzczMzMysWUAAAAAAAABZQAAAAAAAQFlAZmZmZmaGWEAzMzMzMxNYQGZmZmZm5lhAmpmZmZkZWUAAAAAAAABZQJqZmZmZ+VhAzczMzMysWEAAAAAAAEBYQM3MzMzMTFhAmpmZmZlZV0BmZmZmZsZXQAAAAAAA4FdAMzMzMzOzV0AAAAAAAGBYQGZmZmZm5lZAZmZmZmbmV0CamZmZmTlYQAAAAAAA4FhAmpmZmZlZWUAAAAAAAGBZQDMzMzMzU1pAMzMzMzNTWkAzMzMzM5NaQAAAAAAAwFpAzczMzMxMW0DNzMzMzAxbQJqZmZmZeVtAzczMzMyMW0AzMzMzM7NbQGZmZmZmhltAAAAAAAAgW0BmZmZmZiZbQGZmZmZmBltAMzMzMzNTW0AzMzMzM5NbQAAAAAAAIFtAAAAAAACgWkAzMzMzMxNaQGZmZmZmpllAzczMzMxsWkA=\",\"dtype\":\"float64\",\"shape\":[46]},\"Times\":[\"2010-2018\",\"2010-2018\",\"2010-2018\",\"2010-2018\",\"2010-2018\",\"2010-2018\",\"2010-2018\",\"2010-2018\",\"2010-2018\",\"2001-2009\",\"2001-2009\",\"2001-2009\",\"2001-2009\",\"2001-2009\",\"2001-2009\",\"2001-2009\",\"2001-2009\",\"2001-2009\",\"2001-2009\",\"1991-2000\",\"1991-2000\",\"1991-2000\",\"1991-2000\",\"1991-2000\",\"1991-2000\",\"1991-2000\",\"1991-2000\",\"1991-2000\",\"1991-2000\",\"1981-1990\",\"1981-1990\",\"1981-1990\",\"1981-1990\",\"1981-1990\",\"1981-1990\",\"1981-1990\",\"1981-1990\",\"1981-1990\",\"1973-1980\",\"1973-1980\",\"1973-1980\",\"1973-1980\",\"1973-1980\",\"1973-1980\",\"1973-1980\",\"1973-1980\"],\"ht\":{\"__ndarray__\":\"hetRuB4VaUCF61G4HhVpQIXrUbgeFWlAhetRuB4VaUCF61G4HhVpQIXrUbgeFWlAhetRuB4VaUCF61G4HhVpQIXrUbgeFWlAhetRuB4VaUCF61G4HhVpQIXrUbgeFWlAhetRuB4VaUCF61G4HhVpQIXrUbgeFWlAhetRuB4VaUCF61G4HhVpQIXrUbgeFWlAhetRuB4VaUCF61G4HhVpQIXrUbgeFWlAhetRuB4VaUCF61G4HhVpQIXrUbgeFWlAhetRuB4VaUCF61G4HhVpQIXrUbgeFWlAhetRuB4VaUCF61G4HhVpQIXrUbgeFWlAhetRuB4VaUCF61G4HhVpQIXrUbgeFWlAhetRuB4VaUCF61G4HhVpQIXrUbgeFWlAhetRuB4VaUCF61G4HhVpQIXrUbgeFWlApHA9CtfDaECkcD0K18NoQKRwPQrXw2hApHA9CtfDaECkcD0K18NoQKRwPQrXw2hApHA9CtfDaEA=\",\"dtype\":\"float64\",\"shape\":[46]},\"pace\":{\"__ndarray__\":\"AAAAAAAAWUAzMzMzM1NYQJqZmZmZGVhAMzMzMzPzV0CamZmZmXlXQJqZmZmZeVdAAAAAAAAAV0AzMzMzM9NWQGZmZmZmBldAzczMzMwsV0DNzMzMzOxWQJqZmZmZGVdAmpmZmZn5VkAAAAAAAKBWQJqZmZmZuVZAZmZmZmaGVkAAAAAAAMBWQM3MzMzMrFZAMzMzMzPTVkBmZmZmZkZXQJqZmZmZOVZAMzMzMzOTVkBmZmZmZoZWQDMzMzMz81ZAmpmZmZk5V0BmZmZmZsZXQDMzMzMzM1hAZmZmZmYmWEAzMzMzM3NYQDMzMzMzk1hAZmZmZmYmWUBmZmZmZuZYQDMzMzMzM1lAZmZmZmaGWUBmZmZmZoZZQJqZmZmZWVlAZmZmZmbGWUCamZmZmTlZQDMzMzMzc1lAZmZmZmbGWUAzMzMzM3NaQM3MzMzMrFpAAAAAAACgWkAAAAAAAGBaQAAAAAAAIFpAMzMzMzPzWkA=\",\"dtype\":\"float64\",\"shape\":[46]},\"season\":[2018,2017,2016,2015,2014,2013,2012,2011,2010,2009,2008,2007,2006,2005,2004,2003,2002,2001,2000,1999,1998,1997,1996,1995,1994,1993,1992,1991,1990,1989,1988,1987,1986,1985,1984,1983,1982,1981,1980,1979,1978,1977,1976,1975,1974,1973],\"seasont\":[\"2018-19\",\"2017-18\",\"2016-17\",\"2015-16\",\"2014-15\",\"2013-14\",\"2012-13\",\"2011-12\",\"2010-11\",\"2009-10\",\"2008-09\",\"2007-08\",\"2006-07\",\"2005-06\",\"2004-05\",\"2003-04\",\"2002-03\",\"2001-02\",\"2000-01\",\"1999-00\",\"1998-99\",\"1997-98\",\"1996-97\",\"1995-96\",\"1994-95\",\"1993-94\",\"1992-93\",\"1991-92\",\"1990-91\",\"1989-90\",\"1988-89\",\"1987-88\",\"1986-87\",\"1985-86\",\"1984-85\",\"1983-84\",\"1982-83\",\"1981-82\",\"1980-81\",\"1979-80\",\"1978-79\",\"1977-78\",\"1976-77\",\"1975-76\",\"1974-75\",\"1973-74\"],\"wt\":[218,219,220,221,222,223,223,223,223,222,221,220,219,220,220,219,219,217,216,216,215,214,213,213,212,210,210,208,209,208,208,209,209,208,207,206,205,205,205,204,203,204,204,204,203,205]},\"selected\":{\"id\":\"22408379-8388-4bc2-b59b-1449bec44fb6\",\"type\":\"Selection\"},\"selection_policy\":{\"id\":\"79d95cd2-f0ed-472f-a4a0-67e8a0d9b623\",\"type\":\"UnionRenderers\"}},\"id\":\"a9387f76-fc4e-475b-8db1-8ec6a97b132b\",\"type\":\"ColumnDataSource\"},{\"attributes\":{\"callback\":null,\"renderers\":\"auto\",\"tooltips\":[[\"Points per Season\",\"@PTS\"],[\"Pace\",\"@pace\"],[\"Height\",\"@ht\"],[\"Weight\",\"@wt\"],[\"Season\",\"@seasont\"]]},\"id\":\"027237d9-cbe3-47c8-842c-e1e0d5242163\",\"type\":\"HoverTool\"},{\"attributes\":{},\"id\":\"76787576-1a03-4c35-81a7-e82c217b3753\",\"type\":\"BasicTicker\"},{\"attributes\":{\"data\":null,\"x\":[91.6,111.2],\"y\":[1,35]},\"id\":\"a57d4416-3017-4981-846b-8ea60cbb3537\",\"type\":\"LinearInterpolator\"},{\"attributes\":{},\"id\":\"2a8f0031-0bba-4bc7-a10e-b64a2d25faf3\",\"type\":\"ResetTool\"},{\"attributes\":{\"callback\":null,\"overlay\":{\"id\":\"65f38c81-0421-4bc0-8420-409e172c328b\",\"type\":\"PolyAnnotation\"}},\"id\":\"3f87647d-04bc-43cc-87ba-9c3c1d9f6188\",\"type\":\"LassoSelectTool\"},{\"attributes\":{},\"id\":\"22408379-8388-4bc2-b59b-1449bec44fb6\",\"type\":\"Selection\"},{\"attributes\":{\"plot\":{\"id\":\"0a9125fd-6325-4cd1-a9a9-69d0493acbb7\",\"subtype\":\"Figure\",\"type\":\"Plot\"},\"ticker\":{\"id\":\"3c2b5241-c765-413e-9cb0-847e7d36207d\",\"type\":\"BasicTicker\"}},\"id\":\"88277b54-9a9e-42f6-844f-5219ea84a21a\",\"type\":\"Grid\"},{\"attributes\":{\"callback\":null,\"end\":150,\"start\":50},\"id\":\"69b4daeb-109f-404a-84e5-30043e15aa41\",\"type\":\"Range1d\"},{\"attributes\":{},\"id\":\"c1688cdc-8901-4f09-8313-71a7734cc61c\",\"type\":\"PanTool\"},{\"attributes\":{\"factors\":[\"2010-2018\",\"2001-2009\",\"1991-2000\",\"1981-1990\",\"1973-1980\"],\"palette\":[\"red\",\"blue\",\"orange\",\"pink\",\"purple\"]},\"id\":\"b49df350-f2ed-4eb8-8beb-197f5f05d668\",\"type\":\"CategoricalColorMapper\"},{\"attributes\":{},\"id\":\"2798978e-8f44-4c17-bc8d-d1a0f9f77a78\",\"type\":\"WheelZoomTool\"},{\"attributes\":{},\"id\":\"3dadf3cf-9cfa-4598-a308-723a7589d05f\",\"type\":\"BasicTickFormatter\"},{\"attributes\":{\"source\":{\"id\":\"a9387f76-fc4e-475b-8db1-8ec6a97b132b\",\"type\":\"ColumnDataSource\"}},\"id\":\"1c1c989e-1407-4a37-a55b-e3fa94be466c\",\"type\":\"CDSView\"},{\"attributes\":{},\"id\":\"79d95cd2-f0ed-472f-a4a0-67e8a0d9b623\",\"type\":\"UnionRenderers\"},{\"attributes\":{\"data_source\":{\"id\":\"a9387f76-fc4e-475b-8db1-8ec6a97b132b\",\"type\":\"ColumnDataSource\"},\"glyph\":{\"id\":\"e4498bd7-e95b-4511-8b54-3153e6d4a459\",\"type\":\"Line\"},\"hover_glyph\":null,\"muted_glyph\":null,\"nonselection_glyph\":{\"id\":\"ad29b721-f6f7-4cf7-88d9-2709c73dd45b\",\"type\":\"Line\"},\"selection_glyph\":null,\"view\":{\"id\":\"dc72cd6f-7f66-416d-bebd-bcbb3ad4c311\",\"type\":\"CDSView\"}},\"id\":\"ceb163f3-465d-4c29-8601-b2b5acfee40b\",\"type\":\"GlyphRenderer\"},{\"attributes\":{\"overlay\":{\"id\":\"6d682193-2ba2-4642-9655-23f85676a1f6\",\"type\":\"BoxAnnotation\"}},\"id\":\"4f7444ed-d81d-4cbd-8c87-035a1013b7b2\",\"type\":\"BoxZoomTool\"},{\"attributes\":{\"fill_alpha\":{\"value\":0.5},\"fill_color\":{\"value\":\"lightgrey\"},\"level\":\"overlay\",\"line_alpha\":{\"value\":1.0},\"line_color\":{\"value\":\"black\"},\"line_dash\":[4,4],\"line_width\":{\"value\":2},\"plot\":null,\"xs_units\":\"screen\",\"ys_units\":\"screen\"},\"id\":\"65f38c81-0421-4bc0-8420-409e172c328b\",\"type\":\"PolyAnnotation\"},{\"attributes\":{\"line_alpha\":0.4,\"line_color\":\"#1f77b4\",\"x\":{\"field\":\"season\"},\"y\":{\"field\":\"pace\"}},\"id\":\"e4498bd7-e95b-4511-8b54-3153e6d4a459\",\"type\":\"Line\"},{\"attributes\":{\"source\":{\"id\":\"a9387f76-fc4e-475b-8db1-8ec6a97b132b\",\"type\":\"ColumnDataSource\"}},\"id\":\"dc72cd6f-7f66-416d-bebd-bcbb3ad4c311\",\"type\":\"CDSView\"},{\"attributes\":{\"bottom_units\":\"screen\",\"fill_alpha\":{\"value\":0.5},\"fill_color\":{\"value\":\"lightgrey\"},\"left_units\":\"screen\",\"level\":\"overlay\",\"line_alpha\":{\"value\":1.0},\"line_color\":{\"value\":\"black\"},\"line_dash\":[4,4],\"line_width\":{\"value\":2},\"plot\":null,\"render_mode\":\"css\",\"right_units\":\"screen\",\"top_units\":\"screen\"},\"id\":\"6d682193-2ba2-4642-9655-23f85676a1f6\",\"type\":\"BoxAnnotation\"},{\"attributes\":{\"items\":[{\"id\":\"26a7ea1f-8b2d-4ee5-ad97-31c56cc5f1b2\",\"type\":\"LegendItem\"}],\"plot\":{\"id\":\"0a9125fd-6325-4cd1-a9a9-69d0493acbb7\",\"subtype\":\"Figure\",\"type\":\"Plot\"}},\"id\":\"2dac5cb9-2cf9-49c6-af03-02b3987ac34b\",\"type\":\"Legend\"},{\"attributes\":{},\"id\":\"3c2b5241-c765-413e-9cb0-847e7d36207d\",\"type\":\"BasicTicker\"},{\"attributes\":{\"dimension\":1,\"plot\":{\"id\":\"0a9125fd-6325-4cd1-a9a9-69d0493acbb7\",\"subtype\":\"Figure\",\"type\":\"Plot\"},\"ticker\":{\"id\":\"76787576-1a03-4c35-81a7-e82c217b3753\",\"type\":\"BasicTicker\"}},\"id\":\"67fb665e-768c-44c8-9fda-a94f7699c0bc\",\"type\":\"Grid\"},{\"attributes\":{\"callback\":null,\"end\":2020,\"start\":1970},\"id\":\"5e3f1c79-19fa-4855-874a-8b56b51eaeba\",\"type\":\"Range1d\"},{\"attributes\":{\"label\":{\"field\":\"Times\"},\"renderers\":[{\"id\":\"dba37054-ab97-4415-a4be-d59a752fe6d1\",\"type\":\"GlyphRenderer\"},{\"id\":\"ceb163f3-465d-4c29-8601-b2b5acfee40b\",\"type\":\"GlyphRenderer\"}]},\"id\":\"26a7ea1f-8b2d-4ee5-ad97-31c56cc5f1b2\",\"type\":\"LegendItem\"},{\"attributes\":{\"plot\":null,\"text\":\"Pace Per Season\"},\"id\":\"17457fdc-fc65-4631-ace3-c04fe5f11310\",\"type\":\"Title\"},{\"attributes\":{},\"id\":\"d491d66b-851b-490f-bbc9-6c33193a5210\",\"type\":\"LinearScale\"},{\"attributes\":{\"line_alpha\":0.1,\"line_color\":\"#1f77b4\",\"x\":{\"field\":\"season\"},\"y\":{\"field\":\"pace\"}},\"id\":\"ad29b721-f6f7-4cf7-88d9-2709c73dd45b\",\"type\":\"Line\"},{\"attributes\":{},\"id\":\"fc3b3afa-1b89-44cf-bbcd-4f2a83c0f52d\",\"type\":\"CrosshairTool\"},{\"attributes\":{\"fill_alpha\":{\"value\":0.4},\"fill_color\":{\"field\":\"Times\",\"transform\":{\"id\":\"b49df350-f2ed-4eb8-8beb-197f5f05d668\",\"type\":\"CategoricalColorMapper\"}},\"line_alpha\":{\"value\":0.4},\"line_color\":{\"field\":\"Times\",\"transform\":{\"id\":\"b49df350-f2ed-4eb8-8beb-197f5f05d668\",\"type\":\"CategoricalColorMapper\"}},\"size\":{\"field\":\"PTS\",\"transform\":{\"id\":\"a57d4416-3017-4981-846b-8ea60cbb3537\",\"type\":\"LinearInterpolator\"},\"units\":\"screen\"},\"x\":{\"field\":\"season\"},\"y\":{\"field\":\"pace\"}},\"id\":\"72283822-54ce-48a7-9381-82411f669952\",\"type\":\"CircleX\"},{\"attributes\":{},\"id\":\"949597ec-e7ed-49e4-af2f-dcf4986a7b00\",\"type\":\"BasicTickFormatter\"},{\"attributes\":{\"data_source\":{\"id\":\"a9387f76-fc4e-475b-8db1-8ec6a97b132b\",\"type\":\"ColumnDataSource\"},\"glyph\":{\"id\":\"72283822-54ce-48a7-9381-82411f669952\",\"type\":\"CircleX\"},\"hover_glyph\":null,\"muted_glyph\":null,\"nonselection_glyph\":{\"id\":\"fd6d4694-2b30-4cff-82a6-336c5e5cba41\",\"type\":\"CircleX\"},\"selection_glyph\":null,\"view\":{\"id\":\"1c1c989e-1407-4a37-a55b-e3fa94be466c\",\"type\":\"CDSView\"}},\"id\":\"dba37054-ab97-4415-a4be-d59a752fe6d1\",\"type\":\"GlyphRenderer\"},{\"attributes\":{\"axis_label\":\"Year\",\"formatter\":{\"id\":\"949597ec-e7ed-49e4-af2f-dcf4986a7b00\",\"type\":\"BasicTickFormatter\"},\"plot\":{\"id\":\"0a9125fd-6325-4cd1-a9a9-69d0493acbb7\",\"subtype\":\"Figure\",\"type\":\"Plot\"},\"ticker\":{\"id\":\"3c2b5241-c765-413e-9cb0-847e7d36207d\",\"type\":\"BasicTicker\"}},\"id\":\"aca9b7f8-0312-4288-8444-2d2d2577c75b\",\"type\":\"LinearAxis\"},{\"attributes\":{},\"id\":\"278b2ecf-5ea7-4a7a-99b8-9ebe187d06da\",\"type\":\"LinearScale\"},{\"attributes\":{\"active_drag\":\"auto\",\"active_inspect\":\"auto\",\"active_scroll\":\"auto\",\"active_tap\":\"auto\",\"tools\":[{\"id\":\"027237d9-cbe3-47c8-842c-e1e0d5242163\",\"type\":\"HoverTool\"},{\"id\":\"c1688cdc-8901-4f09-8313-71a7734cc61c\",\"type\":\"PanTool\"},{\"id\":\"2798978e-8f44-4c17-bc8d-d1a0f9f77a78\",\"type\":\"WheelZoomTool\"},{\"id\":\"4f7444ed-d81d-4cbd-8c87-035a1013b7b2\",\"type\":\"BoxZoomTool\"},{\"id\":\"2a8f0031-0bba-4bc7-a10e-b64a2d25faf3\",\"type\":\"ResetTool\"},{\"id\":\"fc3b3afa-1b89-44cf-bbcd-4f2a83c0f52d\",\"type\":\"CrosshairTool\"},{\"id\":\"3f87647d-04bc-43cc-87ba-9c3c1d9f6188\",\"type\":\"LassoSelectTool\"},{\"id\":\"ab61062f-ad97-45d9-9c6e-758d843e8600\",\"type\":\"TapTool\"}]},\"id\":\"d1b6045e-6dce-488c-8400-9fea9c8a1549\",\"type\":\"Toolbar\"},{\"attributes\":{\"fill_alpha\":{\"value\":0.1},\"fill_color\":{\"value\":\"#1f77b4\"},\"line_alpha\":{\"value\":0.1},\"line_color\":{\"value\":\"#1f77b4\"},\"size\":{\"field\":\"PTS\",\"transform\":{\"id\":\"a57d4416-3017-4981-846b-8ea60cbb3537\",\"type\":\"LinearInterpolator\"},\"units\":\"screen\"},\"x\":{\"field\":\"season\"},\"y\":{\"field\":\"pace\"}},\"id\":\"fd6d4694-2b30-4cff-82a6-336c5e5cba41\",\"type\":\"CircleX\"}],\"root_ids\":[\"0a9125fd-6325-4cd1-a9a9-69d0493acbb7\"]},\"title\":\"Bokeh Application\",\"version\":\"0.12.16\"}};\n",
       "  var render_items = [{\"docid\":\"80513b43-e230-4506-a6be-ce02b72efe10\",\"elementid\":\"77a3dc76-6b9c-4cc2-8af3-c50a2d63f8ff\",\"modelid\":\"0a9125fd-6325-4cd1-a9a9-69d0493acbb7\"}];\n",
       "  root.Bokeh.embed.embed_items_notebook(docs_json, render_items);\n",
       "\n",
       "  }\n",
       "  if (root.Bokeh !== undefined) {\n",
       "    embed_document(root);\n",
       "  } else {\n",
       "    var attempts = 0;\n",
       "    var timer = setInterval(function(root) {\n",
       "      if (root.Bokeh !== undefined) {\n",
       "        embed_document(root);\n",
       "        clearInterval(timer);\n",
       "      }\n",
       "      attempts++;\n",
       "      if (attempts > 100) {\n",
       "        console.log(\"Bokeh: ERROR: Unable to run BokehJS code because BokehJS library is missing\")\n",
       "        clearInterval(timer);\n",
       "      }\n",
       "    }, 10, root)\n",
       "  }\n",
       "})(window);"
      ],
      "application/vnd.bokehjs_exec.v0+json": ""
     },
     "metadata": {
      "application/vnd.bokehjs_exec.v0+json": {
       "id": "0a9125fd-6325-4cd1-a9a9-69d0493acbb7"
      }
     },
     "output_type": "display_data"
    }
   ],
   "source": [
    "import pandas as pd\n",
    "from bokeh.models import ColumnDataSource\n",
    "from bokeh.models import HoverTool\n",
    "from bokeh.models import LinearInterpolator\n",
    "from bokeh.models import CategoricalColorMapper\n",
    "from bokeh.io import show \n",
    "from bokeh.models import Circle\n",
    "from bokeh.plotting import figure\n",
    "from bokeh.palettes import Set1_9\n",
    "from bokeh.io import output_notebook\n",
    "output_notebook()\n",
    "\n",
    "data = pd.read_csv('nba-players-stats/seasonpace.csv',index_col=\"Rk\")\n",
    "\n",
    "source  = ColumnDataSource(dict(\n",
    "    G = data.G,\n",
    "    pace = data.Pace,\n",
    "    seasont = data.Seasonplus,\n",
    "    season = data.Season,\n",
    "    ht = data.Height,\n",
    "    wt = data.Wt,\n",
    "    Times = data.Times,\n",
    "    PTS = data.PTS\n",
    "))\n",
    "\n",
    "mapping_coloring = CategoricalColorMapper(\n",
    "    factors = list(data.Times.unique()),\n",
    "    palette = ['red', 'blue', 'orange','pink', 'purple']\n",
    ")\n",
    "\n",
    "relative_size = LinearInterpolator(\n",
    "    x = [data.PTS.min(),data.PTS.max()],\n",
    "    y = [1,35]\n",
    ")\n",
    "\n",
    "Hover_tool = HoverTool(tooltips = [\n",
    "    ('Points per Season','@PTS'),\n",
    "    ('Pace','@pace'),\n",
    "     ('Height', '@ht'),\n",
    "    ('Weight', \"@wt\"),\n",
    "     ('Season', \"@seasont\")\n",
    "])\n",
    "\n",
    "p = figure( tools = [Hover_tool,'pan', 'wheel_zoom','box_zoom','reset','crosshair','lasso_select','tap'],\n",
    "            height = 500,\n",
    "           width = 800,\n",
    "           x_range = (1970,2020),\n",
    "           y_range=(50,150),\n",
    "           title = \"Pace Per Season\",\n",
    "          x_axis_label = \"Year\",\n",
    "           y_axis_label = \"Pace\",\n",
    "          toolbar_location=\"right\")\n",
    "\n",
    "p.circle_x(x = 'season',\n",
    "         y = 'pace',\n",
    "         size = {'field':'PTS','transform':relative_size},\n",
    "          color = {'field': 'Times','transform': mapping_coloring},\n",
    "         alpha = 0.4,\n",
    "         legend = 'Times',\n",
    "         source = source)\n",
    "p.line(x = 'season',\n",
    "         y = 'pace',\n",
    "         #size = {'field':'ThreeMAvgPerGame','transform':relative_size},\n",
    "       #color = {'field': 'Times','transform': mapping_coloring},\n",
    "         alpha = 0.4,\n",
    "        legend = 'Times',\n",
    "         source = source)\n",
    "p.right = p.legend\n",
    "\n",
    "show(p)"
   ]
  },
  {
   "cell_type": "markdown",
   "metadata": {
    "extensions": {
     "jupyter_dashboards": {
      "version": 1,
      "views": {
       "grid_default": {
        "col": 8,
        "height": 4,
        "hidden": false,
        "row": 185,
        "width": 4
       },
       "report_default": {
        "hidden": false
       }
      }
     }
    }
   },
   "source": [
    "<a name=\"Aim3\"></a>\n",
    "\n",
    " \n",
    "# Aim 3: Investigate statistics that  makes a player great and evidence on why they are great in their own duration."
   ]
  },
  {
   "cell_type": "markdown",
   "metadata": {
    "extensions": {
     "jupyter_dashboards": {
      "version": 1,
      "views": {
       "grid_default": {
        "col": 0,
        "height": 11,
        "hidden": false,
        "row": 365,
        "width": 12
       },
       "report_default": {
        "hidden": false
       }
      }
     }
    }
   },
   "source": [
    " <a name=\"ComparingPlayersStats\"></a>\n",
    "\n",
    "# Players\n",
    "    - Kobe Bryant\n",
    "    - Micheal Jordan \n",
    "    - LeBron James \n",
    "    - Magic Johnson \n",
    "        - Dominated in Assists \n",
    "    - Kareem Abdul-Jabbar\n",
    "    - Steph Curry \n",
    "        - Dominated in three point made\n",
    "    - Wilt chamberlin\n",
    "        - Dominated in points \n",
    "        - Dominated in Rebounds \n",
    "        - Dominated in two point field goals ( no three points in its years) \n",
    "    \n",
    "    \n",
    "### Compare Totals of entire Season and Per Game of Entire Season\n",
    "\n",
    "    "
   ]
  },
  {
   "cell_type": "code",
   "execution_count": 40,
   "metadata": {
    "extensions": {
     "jupyter_dashboards": {
      "version": 1,
      "views": {
       "grid_default": {
        "hidden": true
       },
       "report_default": {
        "hidden": true
       }
      }
     }
    }
   },
   "outputs": [
    {
     "data": {
      "text/html": [
       "<div style=\"display: table;\"><div style=\"display: table-row;\"><div style=\"display: table-cell;\"><b title=\"bokeh.models.renderers.GlyphRenderer\">GlyphRenderer</b>(</div><div style=\"display: table-cell;\">id&nbsp;=&nbsp;'162453b0-8a49-4975-a2b4-5eff2a6bc4b2', <span id=\"77d5ab7e-0355-41d6-9d6d-7834856a8586\" style=\"cursor: pointer;\">&hellip;)</span></div></div><div class=\"1dd51bfc-0b66-41a8-b62f-12f105c59dad\" style=\"display: none;\"><div style=\"display: table-cell;\"></div><div style=\"display: table-cell;\">data_source&nbsp;=&nbsp;ColumnDataSource(id='46e0ed03-abce-454e-9786-251de6c3fdac', ...),</div></div><div class=\"1dd51bfc-0b66-41a8-b62f-12f105c59dad\" style=\"display: none;\"><div style=\"display: table-cell;\"></div><div style=\"display: table-cell;\">glyph&nbsp;=&nbsp;Circle(id='dd870d7c-ced4-4f64-9e8f-6f4395fc9cc3', ...),</div></div><div class=\"1dd51bfc-0b66-41a8-b62f-12f105c59dad\" style=\"display: none;\"><div style=\"display: table-cell;\"></div><div style=\"display: table-cell;\">hover_glyph&nbsp;=&nbsp;None,</div></div><div class=\"1dd51bfc-0b66-41a8-b62f-12f105c59dad\" style=\"display: none;\"><div style=\"display: table-cell;\"></div><div style=\"display: table-cell;\">js_event_callbacks&nbsp;=&nbsp;{},</div></div><div class=\"1dd51bfc-0b66-41a8-b62f-12f105c59dad\" style=\"display: none;\"><div style=\"display: table-cell;\"></div><div style=\"display: table-cell;\">js_property_callbacks&nbsp;=&nbsp;{},</div></div><div class=\"1dd51bfc-0b66-41a8-b62f-12f105c59dad\" style=\"display: none;\"><div style=\"display: table-cell;\"></div><div style=\"display: table-cell;\">level&nbsp;=&nbsp;'glyph',</div></div><div class=\"1dd51bfc-0b66-41a8-b62f-12f105c59dad\" style=\"display: none;\"><div style=\"display: table-cell;\"></div><div style=\"display: table-cell;\">muted&nbsp;=&nbsp;False,</div></div><div class=\"1dd51bfc-0b66-41a8-b62f-12f105c59dad\" style=\"display: none;\"><div style=\"display: table-cell;\"></div><div style=\"display: table-cell;\">muted_glyph&nbsp;=&nbsp;Circle(id='966f1b4d-77a3-41a7-9c21-8b1754c25388', ...),</div></div><div class=\"1dd51bfc-0b66-41a8-b62f-12f105c59dad\" style=\"display: none;\"><div style=\"display: table-cell;\"></div><div style=\"display: table-cell;\">name&nbsp;=&nbsp;None,</div></div><div class=\"1dd51bfc-0b66-41a8-b62f-12f105c59dad\" style=\"display: none;\"><div style=\"display: table-cell;\"></div><div style=\"display: table-cell;\">nonselection_glyph&nbsp;=&nbsp;Circle(id='67fae2fe-d2e0-4943-ad04-f0bdf8457a3e', ...),</div></div><div class=\"1dd51bfc-0b66-41a8-b62f-12f105c59dad\" style=\"display: none;\"><div style=\"display: table-cell;\"></div><div style=\"display: table-cell;\">selection_glyph&nbsp;=&nbsp;None,</div></div><div class=\"1dd51bfc-0b66-41a8-b62f-12f105c59dad\" style=\"display: none;\"><div style=\"display: table-cell;\"></div><div style=\"display: table-cell;\">subscribed_events&nbsp;=&nbsp;[],</div></div><div class=\"1dd51bfc-0b66-41a8-b62f-12f105c59dad\" style=\"display: none;\"><div style=\"display: table-cell;\"></div><div style=\"display: table-cell;\">tags&nbsp;=&nbsp;[],</div></div><div class=\"1dd51bfc-0b66-41a8-b62f-12f105c59dad\" style=\"display: none;\"><div style=\"display: table-cell;\"></div><div style=\"display: table-cell;\">view&nbsp;=&nbsp;CDSView(id='06a761c8-74a6-4ded-9a72-f9a8ff593b39', ...),</div></div><div class=\"1dd51bfc-0b66-41a8-b62f-12f105c59dad\" style=\"display: none;\"><div style=\"display: table-cell;\"></div><div style=\"display: table-cell;\">visible&nbsp;=&nbsp;True,</div></div><div class=\"1dd51bfc-0b66-41a8-b62f-12f105c59dad\" style=\"display: none;\"><div style=\"display: table-cell;\"></div><div style=\"display: table-cell;\">x_range_name&nbsp;=&nbsp;'default',</div></div><div class=\"1dd51bfc-0b66-41a8-b62f-12f105c59dad\" style=\"display: none;\"><div style=\"display: table-cell;\"></div><div style=\"display: table-cell;\">y_range_name&nbsp;=&nbsp;'default')</div></div></div>\n",
       "<script>\n",
       "(function() {\n",
       "  var expanded = false;\n",
       "  var ellipsis = document.getElementById(\"77d5ab7e-0355-41d6-9d6d-7834856a8586\");\n",
       "  ellipsis.addEventListener(\"click\", function() {\n",
       "    var rows = document.getElementsByClassName(\"1dd51bfc-0b66-41a8-b62f-12f105c59dad\");\n",
       "    for (var i = 0; i < rows.length; i++) {\n",
       "      var el = rows[i];\n",
       "      el.style.display = expanded ? \"none\" : \"table-row\";\n",
       "    }\n",
       "    ellipsis.innerHTML = expanded ? \"&hellip;)\" : \"&lsaquo;&lsaquo;&lsaquo;\";\n",
       "    expanded = !expanded;\n",
       "  });\n",
       "})();\n",
       "</script>\n"
      ],
      "text/plain": [
       "bokeh.models.renderers.GlyphRenderer(\n",
       "    id='162453b0-8a49-4975-a2b4-5eff2a6bc4b2',\n",
       "    data_source=bokeh.models.sources.ColumnDataSource(\n",
       "        id='46e0ed03-abce-454e-9786-251de6c3fdac',\n",
       "        callback=None,\n",
       "        data={'x': [2018, 2000, 1980, 1990, 1970, 1960, 2010],\n",
       "         'y': [2.6, 3.5, 4.7, 4.4, 5.0, 4.1, 3.5]},\n",
       "        js_event_callbacks={},\n",
       "        js_property_callbacks={},\n",
       "        name=None,\n",
       "        selected=bokeh.models.selections.Selection(\n",
       "            id='c9cad6c7-2aa8-45e4-a2ac-bfc8766c0294',\n",
       "            indices=[],\n",
       "            js_event_callbacks={},\n",
       "            js_property_callbacks={},\n",
       "            line_indices=[],\n",
       "            multiline_indices={},\n",
       "            name=None,\n",
       "            subscribed_events=[],\n",
       "            tags=[]),\n",
       "        selection_policy=bokeh.models.selections.UnionRenderers(\n",
       "            id='8c665509-e85c-440b-8bc3-d8ed0d3fafa3',\n",
       "            js_event_callbacks={},\n",
       "            js_property_callbacks={},\n",
       "            name=None,\n",
       "            subscribed_events=[],\n",
       "            tags=[]),\n",
       "        subscribed_events=[],\n",
       "        tags=[]),\n",
       "    glyph=bokeh.models.markers.Circle(\n",
       "        id='dd870d7c-ced4-4f64-9e8f-6f4395fc9cc3',\n",
       "        angle={'value': 0.0, 'units': 'rad'},\n",
       "        fill_alpha={'value': 1.0},\n",
       "        fill_color={'value': '#1f77b4'},\n",
       "        js_event_callbacks={},\n",
       "        js_property_callbacks={},\n",
       "        line_alpha={'value': 1.0},\n",
       "        line_cap='butt',\n",
       "        line_color={'value': '#1f77b4'},\n",
       "        line_dash=[],\n",
       "        line_dash_offset=0,\n",
       "        line_join='miter',\n",
       "        line_width={'value': 1},\n",
       "        name=None,\n",
       "        radius=None,\n",
       "        radius_dimension='x',\n",
       "        size={'value': 10, 'units': 'screen'},\n",
       "        subscribed_events=[],\n",
       "        tags=[],\n",
       "        x={'field': 'x'},\n",
       "        y={'field': 'y'}),\n",
       "    hover_glyph=None,\n",
       "    js_event_callbacks={},\n",
       "    js_property_callbacks={},\n",
       "    level='glyph',\n",
       "    muted=False,\n",
       "    muted_glyph=bokeh.models.markers.Circle(\n",
       "        id='966f1b4d-77a3-41a7-9c21-8b1754c25388',\n",
       "        angle={'value': 0.0, 'units': 'rad'},\n",
       "        fill_alpha={'value': 0.2},\n",
       "        fill_color={'value': 'Pink'},\n",
       "        js_event_callbacks={},\n",
       "        js_property_callbacks={},\n",
       "        line_alpha={'value': 0.2},\n",
       "        line_cap='butt',\n",
       "        line_color={'value': 'Pink'},\n",
       "        line_dash=[],\n",
       "        line_dash_offset=0,\n",
       "        line_join='miter',\n",
       "        line_width={'value': 1},\n",
       "        name=None,\n",
       "        radius=None,\n",
       "        radius_dimension='x',\n",
       "        size={'value': 10, 'units': 'screen'},\n",
       "        subscribed_events=[],\n",
       "        tags=[],\n",
       "        x={'field': 'x'},\n",
       "        y={'field': 'y'}),\n",
       "    name=None,\n",
       "    nonselection_glyph=bokeh.models.markers.Circle(\n",
       "        id='67fae2fe-d2e0-4943-ad04-f0bdf8457a3e',\n",
       "        angle={'value': 0.0, 'units': 'rad'},\n",
       "        fill_alpha={'value': 0.1},\n",
       "        fill_color={'value': '#1f77b4'},\n",
       "        js_event_callbacks={},\n",
       "        js_property_callbacks={},\n",
       "        line_alpha={'value': 0.1},\n",
       "        line_cap='butt',\n",
       "        line_color={'value': '#1f77b4'},\n",
       "        line_dash=[],\n",
       "        line_dash_offset=0,\n",
       "        line_join='miter',\n",
       "        line_width={'value': 1},\n",
       "        name=None,\n",
       "        radius=None,\n",
       "        radius_dimension='x',\n",
       "        size={'value': 10, 'units': 'screen'},\n",
       "        subscribed_events=[],\n",
       "        tags=[],\n",
       "        x={'field': 'x'},\n",
       "        y={'field': 'y'}),\n",
       "    selection_glyph=None,\n",
       "    subscribed_events=[],\n",
       "    tags=[],\n",
       "    view=bokeh.models.sources.CDSView(\n",
       "        id='06a761c8-74a6-4ded-9a72-f9a8ff593b39',\n",
       "        filters=[],\n",
       "        js_event_callbacks={},\n",
       "        js_property_callbacks={},\n",
       "        name=None,\n",
       "        source=bokeh.models.sources.ColumnDataSource(\n",
       "            id='46e0ed03-abce-454e-9786-251de6c3fdac',\n",
       "            callback=None,\n",
       "            data={'x': [2018, 2000, 1980, 1990, 1970, 1960, 2010],\n",
       "             'y': [2.6, 3.5, 4.7, 4.4, 5.0, 4.1, 3.5]},\n",
       "            js_event_callbacks={},\n",
       "            js_property_callbacks={},\n",
       "            name=None,\n",
       "            selected=bokeh.models.selections.Selection(\n",
       "                id='c9cad6c7-2aa8-45e4-a2ac-bfc8766c0294',\n",
       "                indices=[],\n",
       "                js_event_callbacks={},\n",
       "                js_property_callbacks={},\n",
       "                line_indices=[],\n",
       "                multiline_indices={},\n",
       "                name=None,\n",
       "                subscribed_events=[],\n",
       "                tags=[]),\n",
       "            selection_policy=bokeh.models.selections.UnionRenderers(\n",
       "                id='8c665509-e85c-440b-8bc3-d8ed0d3fafa3',\n",
       "                js_event_callbacks={},\n",
       "                js_property_callbacks={},\n",
       "                name=None,\n",
       "                subscribed_events=[],\n",
       "                tags=[]),\n",
       "            subscribed_events=[],\n",
       "            tags=[]),\n",
       "        subscribed_events=[],\n",
       "        tags=[]),\n",
       "    visible=True,\n",
       "    x_range_name='default',\n",
       "    y_range_name='default')"
      ]
     },
     "execution_count": 40,
     "metadata": {},
     "output_type": "execute_result"
    }
   ],
   "source": [
    "import pandas as pd\n",
    "from bokeh.models import ColumnDataSource\n",
    "from bokeh.models import HoverTool\n",
    "from bokeh.models import LinearInterpolator\n",
    "from bokeh.models import CategoricalColorMapper\n",
    "from bokeh.io import show \n",
    "from bokeh.models import Circle\n",
    "from bokeh.plotting import figure\n",
    "from bokeh.palettes import Set1_9\n",
    "\n",
    "datakb = pd.read_csv('nba-players-stats/KobeBryant.csv',index_col=[\"Rank\"])\n",
    "datasc = pd.read_csv('nba-players-stats/SC.csv',index_col=[\"Rank\"])\n",
    "datamj = pd.read_csv('nba-players-stats/MJ.csv',index_col=[\"Rank\"])\n",
    "datawc = pd.read_csv('nba-players-stats/WC.csv',index_col=[\"Rank\"])\n",
    "datalbj = pd.read_csv('nba-players-stats/lbj.csv',index_col=[\"Rank\"])\n",
    "datamagic = pd.read_csv('nba-players-stats/JohnsonMagic.csv',index_col=[\"Rank\"])\n",
    "datacaptain = pd.read_csv('nba-players-stats/KAJ.csv',index_col=[\"Rank\"])\n",
    "\n",
    "kb24 = \"Kobe Bryant(SG)\"\n",
    "mj23= \"Micheal Jordan (SG)\"\n",
    "lbj23=\"LeBron James(SF)\"\n",
    "mj32=\"Magic Johnson(PG)\"\n",
    "cap30= \"Kareem Abdul-Jabbar(C)\"\n",
    "sc30 = \"Steph Curry(PG)\" \n",
    "wil = \"Wilt Chamberlin(C)\"\n",
    "a = \"Average Stats of Stats\"\n",
    "\n",
    "\n",
    "c_p =\"purple\"\n",
    "c_g =\"gold\"\n",
    "c_s =\"Silver\"\n",
    "c_r =\"Red\"\n",
    "c_b =\"black\"\n",
    "c_o =\"Orange\"\n",
    "c_m =\"Pink\"\n",
    "\n",
    "\n",
    "PTS = [10.3, 10.2, 11.6, 11.3, 13.3,11.0,11.0]\n",
    "rebound = [4.0,4.3,4.5,4.4,5.4,5.8,5.4]\n",
    "threepointm = [1.6,0.5,0,0.1,0,0,0.8]\n",
    "Year = [2018, 2000, 1980, 1990, 1970,1960,2010]\n",
    "assist = [2.0,2.1,2.6,2.2,2.8,2.3,2.2]\n",
    "twopointm = [2.6,3.5,4.7,4.4,5.0,4.1,3.5]\n",
    "\n",
    "#2018-PTS(10.3)-Rebound(4.0)-Threepointmade(1.6)-Assist(2.0)-Twopointm(2.6)\n",
    "#2000-PTS(10.2)-Rebound(4.3)-Threepointmade(0.5)-Assist(2.1)-Twopointm(3.5)\n",
    "#1980-PTS(11.6)-Rebound(4.5)-Threepointmade(0)-Assist(2.6)-Twopointm(4.7)\n",
    "#1990-PTS(11.3)-Rebound(4.4)-Threepointmade(0.1)-Assist(2.2)-Twopointm(4.4)\n",
    "#1960-PTS(11.0)-Rebound(5.8)-Threepointmade(0)-Assist(2.3)-Twopointm(4.1)\n",
    "#1970-PTS(13.3)-Rebound(5.4)-Threepointmade(0)-Assist(2.8)-Twopointm(5.0)\n",
    "#2010-PTS(11.0)-Rebound(4.0)-Threepointmade(0.8)-Assist(2.2)-Twopointm(3.5)\n",
    "\n",
    "########################################################################################################################\n",
    "\n",
    "source  = ColumnDataSource(dict(\n",
    "    x = datakb.Season,\n",
    "    y = datakb.PTS,\n",
    "    name = datakb.Name,\n",
    "    Team = datakb.Tm,\n",
    "     assist = datakb.AST,\n",
    "     rebound  = datakb.TRB,\n",
    "     threepointm = datakb.get('3P'),\n",
    "     twopointm = datakb.get('2P')\n",
    "))\n",
    "sourceSC  = ColumnDataSource(dict(\n",
    "    x = datasc.Season,\n",
    "    y = datasc.PTS,\n",
    "    name = datasc.Name,\n",
    "      Team = datasc.Tm,\n",
    "     assist = datasc.AST,\n",
    "     rebound  = datasc.TRB,\n",
    "    threepointm = datasc.get('3P'),\n",
    "    twopointm = datasc.get('2P')\n",
    "))\n",
    "\n",
    "sourceWC  = ColumnDataSource(dict(\n",
    "    x = datawc.Season,\n",
    "    y = datawc.PTS,\n",
    "    name = datawc.Name,\n",
    "      Team = datawc.Tm,\n",
    "    assist = datawc.AST,\n",
    "    rebound  = datawc.TRB,\n",
    "    twopointm = datawc.get('FG')\n",
    "    #threepointm = datawc.get('3P')\n",
    "))\n",
    "sourceMJ  = ColumnDataSource(dict(\n",
    "    x = datamj.Season,\n",
    "    y = datamj.PTS,\n",
    "    name = datamj.Name,\n",
    "      Team = datamj.Tm,\n",
    "     assist = datamj.AST,\n",
    "     rebound  = datamj.TRB,\n",
    "    threepointm = datamj.get('3P'),\n",
    "    twopointm = datamj.get('2P')\n",
    "))\n",
    "sourceLBJ  = ColumnDataSource(dict(\n",
    "    x = datalbj.Season,\n",
    "    y = datalbj.PTS,\n",
    "    name = datalbj.Name,\n",
    "      Team = datalbj.Tm,\n",
    "     assist = datalbj.AST,\n",
    "     rebound  = datalbj.TRB,\n",
    "    threepointm = datalbj.get('3P'),\n",
    "    twopointm = datalbj.get('2P')\n",
    "))\n",
    "sourcemagic  = ColumnDataSource(dict(\n",
    "    x =datamagic.Season,\n",
    "    y = datamagic.PTS,\n",
    "    name = datamagic.Name,\n",
    "    Team = datamagic.Tm,\n",
    "     assist = datamagic.AST,\n",
    "     rebound  = datamagic.TRB,\n",
    "    threepointm = datamagic.get('3P'),\n",
    "    twopointm = datamagic.get('2P')\n",
    "))\n",
    "sourcecaptain = ColumnDataSource(dict(\n",
    "    x =datacaptain.Season,\n",
    "    y = datacaptain.PTS,\n",
    "    name = datacaptain.Name,\n",
    "    Team = datacaptain.Tm,\n",
    "     assist = datacaptain.AST,\n",
    "     rebound  = datacaptain.TRB,\n",
    "    threepointm = datacaptain.get('3P'),\n",
    "    twopointm = datacaptain.get('2P')\n",
    "))\n",
    "\n",
    "\n",
    "Hover_tool = HoverTool(tooltips = [\n",
    "     ('Season', '@x'),\n",
    "    ('Name','@name'),\n",
    "    ('Point Per Game','@y'),\n",
    "    ('Team','@Team')\n",
    "    \n",
    "])\n",
    "\n",
    "pPointsPerGame = figure( tools = [Hover_tool,'pan', 'wheel_zoom','box_zoom','reset','crosshair'],\n",
    "            height = 500,\n",
    "           width = 1000,\n",
    "           x_range = (1955,2019),\n",
    "           y_range=(0,60),\n",
    "           title = \"Point Per Game From Each Player\",\n",
    "          x_axis_label = \"Year Season\",\n",
    "           y_axis_label = \"Point Per Game\",\n",
    "          toolbar_location=\"left\")\n",
    "\n",
    "\n",
    "pPointsPerGame.line(x = 'x',\n",
    "         y = 'y',\n",
    "        line_color = c_p,\n",
    "        line_width=3,\n",
    "        legend=kb24,\n",
    "        muted_alpha=0.2,\n",
    "        muted_color=c_p,\n",
    "         source = source)\n",
    "\n",
    "\n",
    "pPointsPerGame.line(x = 'x',\n",
    "         y = 'y',\n",
    "          line_color = c_g,\n",
    "        line_width=3,\n",
    "        legend=sc30,\n",
    "        muted_alpha=0.2,\n",
    "        muted_color=c_g,\n",
    "         source = sourceSC)\n",
    "\n",
    "pPointsPerGame.line(x = 'x',\n",
    "         y = 'y',\n",
    "        line_width=3,\n",
    "         legend=wil,\n",
    "        line_color = c_s,\n",
    "        muted_alpha=0.2,\n",
    "        muted_color=c_s,\n",
    "         source = sourceWC)\n",
    "\n",
    "pPointsPerGame.line(x = 'x',\n",
    "         y = 'y',\n",
    "        line_width=3,\n",
    "         legend=mj23,\n",
    "        line_color = c_r,\n",
    "        muted_alpha=0.2,\n",
    "        muted_color=c_r,\n",
    "         source = sourceMJ)\n",
    "\n",
    "pPointsPerGame.line(x = 'x',\n",
    "         y = 'y',\n",
    "        line_width=3,\n",
    "        legend=lbj23,\n",
    "        line_color = c_b,\n",
    "        muted_alpha=0.2,\n",
    "        muted_color=c_b,\n",
    "        source = sourceLBJ)\n",
    "\n",
    "pPointsPerGame.line(x = 'x',\n",
    "         y = 'y',\n",
    "        line_width=3,\n",
    "        legend=mj32,\n",
    "        line_color = c_o,\n",
    "         muted_alpha=0.2,\n",
    "        muted_color=c_o,           \n",
    "         source = sourcemagic)\n",
    "\n",
    "pPointsPerGame.line(x = 'x',\n",
    "         y = 'y',\n",
    "        line_width=3,\n",
    "        legend=cap30,\n",
    "        line_color = c_m,\n",
    "          muted_alpha=0.2,\n",
    "        muted_color=c_m,          \n",
    "         source = sourcecaptain)\n",
    "\n",
    "\n",
    "##############################################################################################################\n",
    "# Assists\n",
    "\n",
    "Hover_toolA = HoverTool(tooltips = [\n",
    "     ('Season', '@x'),\n",
    "    ('Name','@name'),\n",
    "  #  ('Point Per Game','@y'),\n",
    "    ('Team','@Team'),\n",
    "    ('Assists','@assist')\n",
    "])\n",
    "passistsPerGame = figure( tools = [Hover_toolA,'pan', 'wheel_zoom','reset'],\n",
    "            height = 500,\n",
    "           width = 1000,\n",
    "           x_range = (1955,2019),\n",
    "           y_range=(0,15),\n",
    "           title = \"Assists Per Game\",\n",
    "          x_axis_label = \"Year Season\",\n",
    "           y_axis_label = \"Assits Per Game\",\n",
    "          toolbar_location=\"left\")\n",
    "\n",
    "passistsPerGame.line(x = 'x',\n",
    "         y = 'assist',\n",
    "         line_color = c_p,\n",
    "        line_width=3,\n",
    "        legend=kb24,\n",
    "        muted_alpha=0.2,\n",
    "        muted_color=c_p,\n",
    "         source = source)\n",
    "\n",
    "passistsPerGame.line(x = 'x',\n",
    "         y = 'assist',\n",
    "  line_color = c_g,\n",
    "        line_width=3,\n",
    "        legend=sc30,\n",
    "        muted_alpha=0.2,\n",
    "        muted_color=c_g,\n",
    "         source = sourceSC)\n",
    "\n",
    "passistsPerGame.line(x = 'x',\n",
    "         y = 'assist',\n",
    "        line_width=3,\n",
    "         legend=wil,\n",
    "        line_color = c_s,\n",
    "        muted_alpha=0.2,\n",
    "        muted_color=c_s,\n",
    "         source = sourceWC)\n",
    "\n",
    "passistsPerGame.line(x = 'x',\n",
    "         y = 'assist',\n",
    "        line_width=3,\n",
    "         legend=mj23,\n",
    "        line_color = c_r,\n",
    "        muted_alpha=0.2,\n",
    "        muted_color=c_r,\n",
    "         source = sourceMJ)\n",
    "\n",
    "passistsPerGame.line(x = 'x',\n",
    "         y = 'assist',\n",
    "        line_width=3,\n",
    "        legend=lbj23,\n",
    "        line_color = c_b,\n",
    "        muted_alpha=0.2,\n",
    "        muted_color=c_b,\n",
    "         source = sourceLBJ)\n",
    "\n",
    "passistsPerGame.line(x = 'x',\n",
    "         y = 'assist',\n",
    "        line_width=3,\n",
    "        legend=mj32,\n",
    "        line_color = c_o,\n",
    "         muted_alpha=0.2,\n",
    "        muted_color=c_o,  \n",
    "         source = sourcemagic)\n",
    "\n",
    "passistsPerGame.line(x = 'x',\n",
    "         y = 'assist',\n",
    "        line_width=3,\n",
    "        legend=cap30,\n",
    "        line_color = c_m,\n",
    "          muted_alpha=0.2,\n",
    "        muted_color=c_m,   \n",
    "         source = sourcecaptain)\n",
    "##############################################################################################################\n",
    "# Rebounds\n",
    "Hover_toolA = HoverTool(tooltips = [\n",
    "     ('Season', '@x'),\n",
    "    ('Name','@name'),\n",
    "    #('Point Per Game','@y'),\n",
    "    ('Team','@Team'),\n",
    "    ('Rebound','@rebound')\n",
    "])\n",
    "\n",
    "preboundPerGame = figure( tools = [Hover_toolA,'pan', 'wheel_zoom','reset'],\n",
    "            height = 500,\n",
    "           width = 1000,\n",
    "           x_range = (1955,2019),\n",
    "           y_range=(0,30),\n",
    "           title = \"Rebound Per Game\",\n",
    "          x_axis_label = \"Year Season\",\n",
    "           y_axis_label = \"Rebound Per Game\",\n",
    "          toolbar_location=\"left\")\n",
    "\n",
    "preboundPerGame.line(x = 'x',\n",
    "         y = 'rebound',\n",
    " line_color = c_p,\n",
    "        line_width=3,\n",
    "        legend=kb24,\n",
    "        muted_alpha=0.2,\n",
    "        muted_color=c_p,\n",
    "         source = source)\n",
    "\n",
    "preboundPerGame.line(x = 'x',\n",
    "         y = 'rebound',\n",
    "  line_color = c_g,\n",
    "        line_width=3,\n",
    "        legend=sc30,\n",
    "        muted_alpha=0.2,\n",
    "        muted_color=c_g,\n",
    "         source = sourceSC)\n",
    "\n",
    "preboundPerGame.line(x = 'x',\n",
    "         y = 'rebound',\n",
    "        line_width=3,\n",
    "         legend=wil,\n",
    "        line_color = c_s,\n",
    "        muted_alpha=0.2,\n",
    "        muted_color=c_s,\n",
    "         source = sourceWC)\n",
    "\n",
    "preboundPerGame.line(x = 'x',\n",
    "         y = 'rebound',\n",
    "        line_width=3,\n",
    "         legend=mj23,\n",
    "        line_color = c_r,\n",
    "        muted_alpha=0.2,\n",
    "        muted_color=c_r,\n",
    "         source = sourceMJ)\n",
    "\n",
    "preboundPerGame.line(x = 'x',\n",
    "        y = 'rebound',\n",
    "        line_width=3,\n",
    "        legend=lbj23,\n",
    "        line_color = c_b,\n",
    "        muted_alpha=0.2,\n",
    "        muted_color=c_b,\n",
    "         source = sourceLBJ)\n",
    "\n",
    "preboundPerGame.line(x = 'x',\n",
    "         y = 'rebound',\n",
    "        line_width=3,\n",
    "        legend=mj32,\n",
    "        line_color = c_o,\n",
    "         muted_alpha=0.2,\n",
    "        muted_color=c_o,  \n",
    "         source = sourcemagic)\n",
    "\n",
    "preboundPerGame.line(x = 'x',\n",
    "         y = 'rebound',\n",
    "        line_width=3,\n",
    "        legend=cap30,\n",
    "        line_color = c_m,\n",
    "          muted_alpha=0.2,\n",
    "        muted_color=c_m,   \n",
    "         source = sourcecaptain)\n",
    "\n",
    "##############################################################################################################\n",
    "#Three Pointer\n",
    "Hover_toolC = HoverTool(tooltips = [\n",
    "     ('Season', '@x'),\n",
    "    ('Name','@name'),\n",
    "    #('Point Per Game','@y'),\n",
    "    ('Team','@Team'),\n",
    "    ('Three Pointers','@threepointm')\n",
    "])\n",
    "\n",
    "prethreePerGame = figure( tools = [Hover_toolC,'pan', 'wheel_zoom','reset'],\n",
    "            height = 500,\n",
    "           width = 1000,\n",
    "           x_range = (1955,2019),\n",
    "           y_range=(-1,10),\n",
    "           title = \"Three Made Per Game\",\n",
    "          x_axis_label = \"Year Season\",\n",
    "           y_axis_label = \"Rebound Per Game\",\n",
    "          toolbar_location=\"left\")\n",
    "\n",
    "prethreePerGame.line(x = 'x',\n",
    "         y = 'threepointm',\n",
    "         line_color = c_p,\n",
    "        line_width=3,\n",
    "        legend=kb24,\n",
    "        muted_alpha=0.2,\n",
    "        muted_color=c_p,\n",
    "         source = source)\n",
    "\n",
    "prethreePerGame.line(x = 'x',\n",
    "         y = 'threepointm',\n",
    "  line_color = c_g,\n",
    "        line_width=3,\n",
    "        legend=sc30,\n",
    "        muted_alpha=0.2,\n",
    "        muted_color=c_g,\n",
    "         source = sourceSC)\n",
    "\n",
    "\n",
    "prethreePerGame.line(x = 'x',\n",
    "         y = 'threepointm',\n",
    "        line_width=3,\n",
    "         legend=mj23,\n",
    "        line_color = c_r,\n",
    "        muted_alpha=0.2,\n",
    "        muted_color=c_r,\n",
    "         source = sourceMJ)\n",
    "\n",
    "prethreePerGame.line(x = 'x',\n",
    "        y = 'threepointm',\n",
    "        line_width=3,\n",
    "        legend=lbj23,\n",
    "        line_color = c_b,\n",
    "        muted_alpha=0.2,\n",
    "        muted_color=c_b,\n",
    "         source = sourceLBJ)\n",
    "\n",
    "prethreePerGame.line(x = 'x',\n",
    "         y = 'threepointm',\n",
    "        line_width=3,\n",
    "        legend=mj32,\n",
    "        line_color = c_o,\n",
    "         muted_alpha=0.2,\n",
    "        muted_color=c_o,  \n",
    "         source = sourcemagic)\n",
    "\n",
    "prethreePerGame.line(x = 'x',\n",
    "         y = 'threepointm',\n",
    "        line_width=3,\n",
    "        legend=cap30,\n",
    "        line_color = c_m,\n",
    "          muted_alpha=0.2,\n",
    "        muted_color=c_m,   \n",
    "         source = sourcecaptain)\n",
    "\n",
    "###############################################\n",
    "#2pointer\n",
    "\n",
    "Hover_toolC = HoverTool(tooltips = [\n",
    "     ('Season', '@x'),\n",
    "    ('Name','@name'),\n",
    "   # ('Point Per Game','@y'),\n",
    "    ('Team','@Team'),\n",
    "    ('2PA','@twopointm')\n",
    "\n",
    "])\n",
    "\n",
    "pretwoPerGame = figure( tools = [Hover_toolC,'pan', 'wheel_zoom','reset'],\n",
    "            height = 500,\n",
    "           width = 1000,\n",
    "           x_range = (1955,2019),\n",
    "           y_range=(0,22),\n",
    "           title = \"Two Made Per Game\",\n",
    "          x_axis_label = \"Year Season\",\n",
    "           y_axis_label = \"Two Field Goal Made Per Game\",\n",
    "          toolbar_location=\"left\")\n",
    "\n",
    "pretwoPerGame.line(x = 'x',\n",
    "         y = 'twopointm',\n",
    "         line_color = c_p,\n",
    "        line_width=3,\n",
    "        legend=kb24,\n",
    "        muted_alpha=0.2,\n",
    "        muted_color=c_p,\n",
    "         source = source)\n",
    "\n",
    "pretwoPerGame.line(x = 'x',\n",
    "         y = 'twopointm',\n",
    "  line_color = c_g,\n",
    "        line_width=3,\n",
    "        legend=sc30,\n",
    "        muted_alpha=0.2,\n",
    "        muted_color=c_g,\n",
    "         source = sourceSC)\n",
    "\n",
    "pretwoPerGame.line(x = 'x',\n",
    "         y = 'twopointm',\n",
    "        line_width=3,\n",
    "         legend=wil,\n",
    "        line_color = c_s,\n",
    "        muted_alpha=0.2,\n",
    "        muted_color=c_s,\n",
    "         source = sourceWC)\n",
    "\n",
    "pretwoPerGame.line(x = 'x',\n",
    "         y = 'twopointm',\n",
    "        line_width=3,\n",
    "         legend=mj23,\n",
    "        line_color = c_r,\n",
    "        muted_alpha=0.2,\n",
    "        muted_color=c_r,\n",
    "         source = sourceMJ)\n",
    "\n",
    "pretwoPerGame.line(x = 'x',\n",
    "        y = 'twopointm',\n",
    "        line_width=3,\n",
    "        legend=lbj23,\n",
    "        line_color = c_b,\n",
    "        muted_alpha=0.2,\n",
    "        muted_color=c_b,\n",
    "         source = sourceLBJ)\n",
    "\n",
    "pretwoPerGame.line(x = 'x',\n",
    "         y = 'twopointm',\n",
    "        line_width=3,\n",
    "        legend=mj32,\n",
    "        line_color = c_o,\n",
    "         muted_alpha=0.2,\n",
    "        muted_color=c_o,  \n",
    "         source = sourcemagic)\n",
    "\n",
    "pretwoPerGame.line(x = 'x',\n",
    "         y = 'twopointm',\n",
    "        line_width=3,\n",
    "        legend=cap30,\n",
    "        line_color = c_m,\n",
    "          muted_alpha=0.2,\n",
    "        muted_color=c_m,   \n",
    "         source = sourcecaptain)\n",
    "\n",
    "\n",
    "\n",
    "\n",
    "\n",
    "passistsPerGame.circle( x = Year,y= assist,size=10,muted_alpha=0.2, muted_color=c_m, legend=a)\n",
    "pPointsPerGame.circle( x = Year,y= PTS,size=10,muted_alpha=0.2, muted_color=c_m,legend=a)\n",
    "preboundPerGame.circle( x = Year,y= rebound,size=10,muted_alpha=0.2, muted_color=c_m,legend=a)\n",
    "prethreePerGame.circle( x = Year,y= threepointm,size=10,muted_alpha=0.2, muted_color=c_m,\n",
    "                       legend=a)\n",
    "pretwoPerGame.circle( x = Year,y= twopointm,size=10,muted_alpha=0.2, muted_color=c_m,legend=a)\n",
    "\n",
    "\n",
    "\n"
   ]
  },
  {
   "cell_type": "code",
   "execution_count": 41,
   "metadata": {
    "extensions": {
     "jupyter_dashboards": {
      "version": 1,
      "views": {
       "grid_default": {
        "col": 8,
        "height": 4,
        "hidden": false,
        "row": 213,
        "width": 4
       },
       "report_default": {
        "hidden": false
       }
      }
     }
    },
    "scrolled": true
   },
   "outputs": [
    {
     "data": {
      "application/vnd.jupyter.widget-view+json": {
       "model_id": "1df41a067f4d43a9883051019524b71a",
       "version_major": 2,
       "version_minor": 0
      },
      "text/plain": [
       "Button(description='Run Cell Below', style=ButtonStyle())"
      ]
     },
     "metadata": {},
     "output_type": "display_data"
    }
   ],
   "source": [
    "from IPython.display import Javascript, display\n",
    "from ipywidgets import widgets\n",
    "\n",
    "\n",
    "def run_all(ev):\n",
    "    display(Javascript('IPython.notebook.execute_cell_range(IPython.notebook.get_selected_index()+1, IPython.notebook.get_selected_index()+2)'))\n",
    "\n",
    "button = widgets.Button(description=\"Run Cell Below\")\n",
    "button.on_click(run_all)\n",
    "display(button)"
   ]
  },
  {
   "cell_type": "code",
   "execution_count": 42,
   "metadata": {
    "extensions": {
     "jupyter_dashboards": {
      "version": 1,
      "views": {
       "grid_default": {
        "col": 0,
        "height": 21,
        "hidden": false,
        "row": 376,
        "width": 11
       },
       "report_default": {
        "hidden": false
       }
      }
     }
    },
    "scrolled": false
   },
   "outputs": [
    {
     "data": {
      "text/html": [
       "\n",
       "<div class=\"bk-root\">\n",
       "    <div class=\"bk-plotdiv\" id=\"b1197f74-1bcb-4235-ada9-c92b3dcb80b4\"></div>\n",
       "</div>"
      ]
     },
     "metadata": {},
     "output_type": "display_data"
    },
    {
     "data": {
      "application/javascript": [
       "(function(root) {\n",
       "  function embed_document(root) {\n",
       "    \n",
       "  var docs_json = {\"d27edeb0-4cbd-4bc5-9fe0-3663f5b3b5d4\":{\"roots\":{\"references\":[{\"attributes\":{\"below\":[{\"id\":\"c506ee35-c680-400b-85e7-c6f5e91fa525\",\"type\":\"LinearAxis\"}],\"left\":[{\"id\":\"2da93ee7-9ef6-4b00-96d1-1e456bb0a5a5\",\"type\":\"LinearAxis\"}],\"plot_height\":500,\"plot_width\":1000,\"renderers\":[{\"id\":\"c506ee35-c680-400b-85e7-c6f5e91fa525\",\"type\":\"LinearAxis\"},{\"id\":\"76bc6344-3874-4a7c-bba2-3c3d305e355a\",\"type\":\"Grid\"},{\"id\":\"2da93ee7-9ef6-4b00-96d1-1e456bb0a5a5\",\"type\":\"LinearAxis\"},{\"id\":\"8cacfbee-52a6-4839-8d91-50cce716dff9\",\"type\":\"Grid\"},{\"id\":\"2d0ccfa1-6680-4ef2-bc15-9ab3a25744fc\",\"type\":\"Legend\"},{\"id\":\"1350d8fc-6e2b-4939-9475-87fe65696514\",\"type\":\"GlyphRenderer\"},{\"id\":\"f019c049-e141-4b23-9cd5-21713836001b\",\"type\":\"GlyphRenderer\"},{\"id\":\"240746ad-04f6-4db2-9645-21254ab207d0\",\"type\":\"GlyphRenderer\"},{\"id\":\"7df54eca-60da-4dd2-ae45-12d99ec97063\",\"type\":\"GlyphRenderer\"},{\"id\":\"252242f1-d1ee-4ffa-b76a-561f3eb362e6\",\"type\":\"GlyphRenderer\"},{\"id\":\"18cba762-b952-48f4-b1db-edf24cd93103\",\"type\":\"GlyphRenderer\"},{\"id\":\"3a7decef-6708-43e4-b5e2-7cfcdde561a5\",\"type\":\"GlyphRenderer\"},{\"id\":\"5a0d905a-fc01-4774-958c-3e998aecfd6c\",\"type\":\"GlyphRenderer\"}],\"right\":[{\"id\":\"2d0ccfa1-6680-4ef2-bc15-9ab3a25744fc\",\"type\":\"Legend\"}],\"title\":{\"id\":\"05e51a26-a553-4bcf-9b07-98c2c565c8f5\",\"type\":\"Title\"},\"toolbar\":{\"id\":\"11a2bf5a-5f98-42c5-a5ae-391c889c6609\",\"type\":\"Toolbar\"},\"toolbar_location\":\"left\",\"x_range\":{\"id\":\"ed7aa78b-f74e-464b-8f83-b7d3a0812672\",\"type\":\"Range1d\"},\"x_scale\":{\"id\":\"19162f17-1578-4ca8-b7a6-17cab50a4f12\",\"type\":\"LinearScale\"},\"y_range\":{\"id\":\"8451b04d-4afe-4c9f-aa82-baffbf83aaf0\",\"type\":\"Range1d\"},\"y_scale\":{\"id\":\"def69e15-fa24-4aca-b55c-36bc6c7cfad7\",\"type\":\"LinearScale\"}},\"id\":\"11fcc7cc-1add-4cc8-8846-d2f35c4dfec7\",\"subtype\":\"Figure\",\"type\":\"Plot\"},{\"attributes\":{\"plot\":{\"id\":\"58c3d633-3416-4fc4-83e0-aecbfb9cdcdd\",\"subtype\":\"Figure\",\"type\":\"Plot\"},\"ticker\":{\"id\":\"c76e29c2-3793-4855-8663-08e46cd9f962\",\"type\":\"BasicTicker\"}},\"id\":\"481b16de-7cc2-4fad-ac89-2f83ce549683\",\"type\":\"Grid\"},{\"attributes\":{\"line_alpha\":0.2,\"line_color\":\"gold\",\"line_width\":3,\"x\":{\"field\":\"x\"},\"y\":{\"field\":\"rebound\"}},\"id\":\"8ef66ff8-0f04-4bd8-8ea2-1a6989e7d09b\",\"type\":\"Line\"},{\"attributes\":{},\"id\":\"82c39874-007b-48ee-a6e7-ab2e066decd0\",\"type\":\"BasicTickFormatter\"},{\"attributes\":{\"axis_label\":\"Two Field Goal Made Per Game\",\"formatter\":{\"id\":\"cf710b21-5dda-4ca0-9a52-16aeff9af7f4\",\"type\":\"BasicTickFormatter\"},\"plot\":{\"id\":\"58c3d633-3416-4fc4-83e0-aecbfb9cdcdd\",\"subtype\":\"Figure\",\"type\":\"Plot\"},\"ticker\":{\"id\":\"64dce049-4382-4e7e-8807-6361b9648358\",\"type\":\"BasicTicker\"}},\"id\":\"65fb6fe4-dd27-4f3f-a886-f13bb05b213f\",\"type\":\"LinearAxis\"},{\"attributes\":{\"line_alpha\":0.1,\"line_color\":\"#1f77b4\",\"line_width\":3,\"x\":{\"field\":\"x\"},\"y\":{\"field\":\"assist\"}},\"id\":\"21a04716-c1a4-43b8-a468-fdce78acd2fc\",\"type\":\"Line\"},{\"attributes\":{\"line_width\":3,\"x\":{\"field\":\"x\"},\"y\":{\"field\":\"assist\"}},\"id\":\"a3577558-bad9-4aea-8f0e-2c43e40c1f9c\",\"type\":\"Line\"},{\"attributes\":{},\"id\":\"64dce049-4382-4e7e-8807-6361b9648358\",\"type\":\"BasicTicker\"},{\"attributes\":{\"data_source\":{\"id\":\"8ede8e08-3582-4e4c-aadc-1db27b3cd4fd\",\"type\":\"ColumnDataSource\"},\"glyph\":{\"id\":\"a3577558-bad9-4aea-8f0e-2c43e40c1f9c\",\"type\":\"Line\"},\"hover_glyph\":null,\"muted_glyph\":{\"id\":\"fdbae328-b872-4f2d-8f2a-a6eb5398e92e\",\"type\":\"Line\"},\"nonselection_glyph\":{\"id\":\"21a04716-c1a4-43b8-a468-fdce78acd2fc\",\"type\":\"Line\"},\"selection_glyph\":null,\"view\":{\"id\":\"f7c9aaa9-3b5b-4e30-8d7f-6d28ccc192af\",\"type\":\"CDSView\"}},\"id\":\"4a7e65d2-230f-4d7b-a82b-3a9dd40a00b3\",\"type\":\"GlyphRenderer\"},{\"attributes\":{\"dimension\":1,\"plot\":{\"id\":\"58c3d633-3416-4fc4-83e0-aecbfb9cdcdd\",\"subtype\":\"Figure\",\"type\":\"Plot\"},\"ticker\":{\"id\":\"64dce049-4382-4e7e-8807-6361b9648358\",\"type\":\"BasicTicker\"}},\"id\":\"4defd9ae-43c2-4b5b-8744-9fe68f0acff9\",\"type\":\"Grid\"},{\"attributes\":{\"line_alpha\":0.2,\"line_width\":3,\"x\":{\"field\":\"x\"},\"y\":{\"field\":\"assist\"}},\"id\":\"fdbae328-b872-4f2d-8f2a-a6eb5398e92e\",\"type\":\"Line\"},{\"attributes\":{\"line_color\":\"purple\",\"line_width\":3,\"x\":{\"field\":\"x\"},\"y\":{\"field\":\"twopointm\"}},\"id\":\"af30648c-61ad-4b69-b4ac-2d7cfb6fd37d\",\"type\":\"Line\"},{\"attributes\":{\"data_source\":{\"id\":\"cd3bb85f-bdea-4daf-be0d-5f3a717f29cd\",\"type\":\"ColumnDataSource\"},\"glyph\":{\"id\":\"af30648c-61ad-4b69-b4ac-2d7cfb6fd37d\",\"type\":\"Line\"},\"hover_glyph\":null,\"muted_glyph\":{\"id\":\"e94e5e21-ad30-4192-92d3-70f4429f4105\",\"type\":\"Line\"},\"nonselection_glyph\":{\"id\":\"32922fa3-4308-4b08-a64f-595b78a57506\",\"type\":\"Line\"},\"selection_glyph\":null,\"view\":{\"id\":\"bd8104bd-880b-4282-9e4b-b6eede18db0f\",\"type\":\"CDSView\"}},\"id\":\"87e7050a-62b4-4d4d-94bd-174a439380a1\",\"type\":\"GlyphRenderer\"},{\"attributes\":{\"source\":{\"id\":\"8ede8e08-3582-4e4c-aadc-1db27b3cd4fd\",\"type\":\"ColumnDataSource\"}},\"id\":\"f7c9aaa9-3b5b-4e30-8d7f-6d28ccc192af\",\"type\":\"CDSView\"},{\"attributes\":{\"callback\":null,\"renderers\":\"auto\",\"tooltips\":[[\"Season\",\"@x\"],[\"Name\",\"@name\"],[\"Team\",\"@Team\"],[\"Rebound\",\"@rebound\"]]},\"id\":\"bc5b0c16-1a53-472f-a1e9-2b2fec627f64\",\"type\":\"HoverTool\"},{\"attributes\":{},\"id\":\"da497a0b-fa0e-40b7-891b-7ca67e4ad6dc\",\"type\":\"PanTool\"},{\"attributes\":{\"label\":{\"value\":\"LeBron James(SF)\"},\"renderers\":[{\"id\":\"4a7e65d2-230f-4d7b-a82b-3a9dd40a00b3\",\"type\":\"GlyphRenderer\"}]},\"id\":\"74ba7b69-e96f-48c7-a29b-cb8d9a126f65\",\"type\":\"LegendItem\"},{\"attributes\":{\"source\":{\"id\":\"cd3bb85f-bdea-4daf-be0d-5f3a717f29cd\",\"type\":\"ColumnDataSource\"}},\"id\":\"bd8104bd-880b-4282-9e4b-b6eede18db0f\",\"type\":\"CDSView\"},{\"attributes\":{\"line_alpha\":0.2,\"line_color\":\"Orange\",\"line_width\":3,\"x\":{\"field\":\"x\"},\"y\":{\"field\":\"assist\"}},\"id\":\"e228cedd-3abf-4894-8df9-4ea102900cea\",\"type\":\"Line\"},{\"attributes\":{},\"id\":\"fb3e29db-db4c-484a-a693-8493cb94d3a2\",\"type\":\"WheelZoomTool\"},{\"attributes\":{\"line_alpha\":0.1,\"line_color\":\"#1f77b4\",\"line_width\":3,\"x\":{\"field\":\"x\"},\"y\":{\"field\":\"assist\"}},\"id\":\"f7618110-d130-478c-90d5-7c31b5291e96\",\"type\":\"Line\"},{\"attributes\":{\"fill_alpha\":{\"value\":0.1},\"fill_color\":{\"value\":\"#1f77b4\"},\"line_alpha\":{\"value\":0.1},\"line_color\":{\"value\":\"#1f77b4\"},\"size\":{\"units\":\"screen\",\"value\":10},\"x\":{\"field\":\"x\"},\"y\":{\"field\":\"y\"}},\"id\":\"ee52a116-f29e-4824-98ff-90b95ab27173\",\"type\":\"Circle\"},{\"attributes\":{},\"id\":\"8c353407-aa27-4688-913a-2b4324675d9d\",\"type\":\"ResetTool\"},{\"attributes\":{\"line_color\":\"Orange\",\"line_width\":3,\"x\":{\"field\":\"x\"},\"y\":{\"field\":\"assist\"}},\"id\":\"f923299d-d16b-45a3-8aaa-4b9c291a8672\",\"type\":\"Line\"},{\"attributes\":{\"line_alpha\":0.2,\"line_color\":\"purple\",\"line_width\":3,\"x\":{\"field\":\"x\"},\"y\":{\"field\":\"twopointm\"}},\"id\":\"e94e5e21-ad30-4192-92d3-70f4429f4105\",\"type\":\"Line\"},{\"attributes\":{\"data_source\":{\"id\":\"61a6ffc6-4266-4219-ab84-af0b9138d62f\",\"type\":\"ColumnDataSource\"},\"glyph\":{\"id\":\"f923299d-d16b-45a3-8aaa-4b9c291a8672\",\"type\":\"Line\"},\"hover_glyph\":null,\"muted_glyph\":{\"id\":\"e228cedd-3abf-4894-8df9-4ea102900cea\",\"type\":\"Line\"},\"nonselection_glyph\":{\"id\":\"f7618110-d130-478c-90d5-7c31b5291e96\",\"type\":\"Line\"},\"selection_glyph\":null,\"view\":{\"id\":\"4f04dc71-e9ba-45d7-a2fa-1564a3ef830b\",\"type\":\"CDSView\"}},\"id\":\"ae82b249-0d89-4022-a779-f65280188c9c\",\"type\":\"GlyphRenderer\"},{\"attributes\":{\"line_alpha\":0.1,\"line_color\":\"#1f77b4\",\"line_width\":3,\"x\":{\"field\":\"x\"},\"y\":{\"field\":\"twopointm\"}},\"id\":\"32922fa3-4308-4b08-a64f-595b78a57506\",\"type\":\"Line\"},{\"attributes\":{\"click_policy\":\"mute\",\"items\":[{\"id\":\"7def2bcd-0915-4715-8c29-077c337a6dcc\",\"type\":\"LegendItem\"},{\"id\":\"d44bb2ec-6a5b-4f3f-ac57-8a6ab2213446\",\"type\":\"LegendItem\"},{\"id\":\"fb437a9b-b681-4c41-bec2-078ac04386ed\",\"type\":\"LegendItem\"},{\"id\":\"55aa4d86-4690-46bf-8ad5-695c8786c8c2\",\"type\":\"LegendItem\"},{\"id\":\"88be5a39-ea66-40ca-a6f0-dbb317edc025\",\"type\":\"LegendItem\"},{\"id\":\"ec99462b-c3e9-47d6-9b0d-c8a82d27afd9\",\"type\":\"LegendItem\"},{\"id\":\"c672f09c-0e7d-4353-bca2-3e3b0db64084\",\"type\":\"LegendItem\"},{\"id\":\"96c6abeb-6a60-4e86-89a6-a9d429298a84\",\"type\":\"LegendItem\"}],\"plot\":{\"id\":\"58c3d633-3416-4fc4-83e0-aecbfb9cdcdd\",\"subtype\":\"Figure\",\"type\":\"Plot\"}},\"id\":\"80d1deed-0d47-417f-bbff-979b7fc02aa4\",\"type\":\"Legend\"},{\"attributes\":{\"source\":{\"id\":\"61a6ffc6-4266-4219-ab84-af0b9138d62f\",\"type\":\"ColumnDataSource\"}},\"id\":\"4f04dc71-e9ba-45d7-a2fa-1564a3ef830b\",\"type\":\"CDSView\"},{\"attributes\":{\"data_source\":{\"id\":\"79013d9c-a5cb-4882-ba6c-9acb8d841ced\",\"type\":\"ColumnDataSource\"},\"glyph\":{\"id\":\"83a1c8ac-04fa-493e-9577-6428babed2fa\",\"type\":\"Line\"},\"hover_glyph\":null,\"muted_glyph\":{\"id\":\"8ef66ff8-0f04-4bd8-8ea2-1a6989e7d09b\",\"type\":\"Line\"},\"nonselection_glyph\":{\"id\":\"f1522d82-9c5d-4560-b984-9c3af12a9306\",\"type\":\"Line\"},\"selection_glyph\":null,\"view\":{\"id\":\"e1a5379f-19ad-48cf-af82-a06397230201\",\"type\":\"CDSView\"}},\"id\":\"f019c049-e141-4b23-9cd5-21713836001b\",\"type\":\"GlyphRenderer\"},{\"attributes\":{},\"id\":\"cf710b21-5dda-4ca0-9a52-16aeff9af7f4\",\"type\":\"BasicTickFormatter\"},{\"attributes\":{\"label\":{\"value\":\"Magic Johnson(PG)\"},\"renderers\":[{\"id\":\"ae82b249-0d89-4022-a779-f65280188c9c\",\"type\":\"GlyphRenderer\"}]},\"id\":\"6089d0a4-6ea9-479a-a480-cf46d9eafc3e\",\"type\":\"LegendItem\"},{\"attributes\":{\"label\":{\"value\":\"Kobe Bryant(SG)\"},\"renderers\":[{\"id\":\"87e7050a-62b4-4d4d-94bd-174a439380a1\",\"type\":\"GlyphRenderer\"}]},\"id\":\"7def2bcd-0915-4715-8c29-077c337a6dcc\",\"type\":\"LegendItem\"},{\"attributes\":{\"data_source\":{\"id\":\"56364143-227d-4eae-809c-1755928ac69a\",\"type\":\"ColumnDataSource\"},\"glyph\":{\"id\":\"d67ec2e8-2f89-42ab-9f52-6e44f310eae7\",\"type\":\"Circle\"},\"hover_glyph\":null,\"muted_glyph\":{\"id\":\"45a705e3-225e-46d5-9d55-2cd2a229597e\",\"type\":\"Circle\"},\"nonselection_glyph\":{\"id\":\"ee52a116-f29e-4824-98ff-90b95ab27173\",\"type\":\"Circle\"},\"selection_glyph\":null,\"view\":{\"id\":\"3d0565c6-aedf-4b0b-80e8-c3e7d7b27da2\",\"type\":\"CDSView\"}},\"id\":\"548e14b2-c77a-40e1-9364-f682b4c9b82b\",\"type\":\"GlyphRenderer\"},{\"attributes\":{\"line_alpha\":0.2,\"line_color\":\"Pink\",\"line_width\":3,\"x\":{\"field\":\"x\"},\"y\":{\"field\":\"assist\"}},\"id\":\"27b3a2f7-d115-4f1f-8721-cd6a3174e97e\",\"type\":\"Line\"},{\"attributes\":{\"line_alpha\":0.1,\"line_color\":\"#1f77b4\",\"line_width\":3,\"x\":{\"field\":\"x\"},\"y\":{\"field\":\"assist\"}},\"id\":\"d2641a0c-16dd-4dc4-ae4a-4dba930dea42\",\"type\":\"Line\"},{\"attributes\":{\"line_color\":\"gold\",\"line_width\":3,\"x\":{\"field\":\"x\"},\"y\":{\"field\":\"twopointm\"}},\"id\":\"52443989-65f5-405e-9f87-f833f208e807\",\"type\":\"Line\"},{\"attributes\":{\"data_source\":{\"id\":\"79013d9c-a5cb-4882-ba6c-9acb8d841ced\",\"type\":\"ColumnDataSource\"},\"glyph\":{\"id\":\"52443989-65f5-405e-9f87-f833f208e807\",\"type\":\"Line\"},\"hover_glyph\":null,\"muted_glyph\":{\"id\":\"658e6196-6d7c-49f1-b4a2-4dc5d29ae62d\",\"type\":\"Line\"},\"nonselection_glyph\":{\"id\":\"d927a687-5d13-4db5-a807-c3cd0f09ff27\",\"type\":\"Line\"},\"selection_glyph\":null,\"view\":{\"id\":\"cb523e04-1f78-478b-aee5-c5dd13e5ce46\",\"type\":\"CDSView\"}},\"id\":\"8221f8d9-691c-4740-9068-0b7ee1b326fa\",\"type\":\"GlyphRenderer\"},{\"attributes\":{\"line_color\":\"Pink\",\"line_width\":3,\"x\":{\"field\":\"x\"},\"y\":{\"field\":\"assist\"}},\"id\":\"e47c0b2a-0e1c-4d42-b2b9-520db664e62e\",\"type\":\"Line\"},{\"attributes\":{\"data_source\":{\"id\":\"e9bb7a82-7d48-4707-93ea-132e332f1d79\",\"type\":\"ColumnDataSource\"},\"glyph\":{\"id\":\"e47c0b2a-0e1c-4d42-b2b9-520db664e62e\",\"type\":\"Line\"},\"hover_glyph\":null,\"muted_glyph\":{\"id\":\"27b3a2f7-d115-4f1f-8721-cd6a3174e97e\",\"type\":\"Line\"},\"nonselection_glyph\":{\"id\":\"d2641a0c-16dd-4dc4-ae4a-4dba930dea42\",\"type\":\"Line\"},\"selection_glyph\":null,\"view\":{\"id\":\"e9d68579-365c-4b28-8fdf-d6dcea6f3ff9\",\"type\":\"CDSView\"}},\"id\":\"be02ee0d-b971-4699-b795-0bcfcb01dc76\",\"type\":\"GlyphRenderer\"},{\"attributes\":{\"data_source\":{\"id\":\"8ede8e08-3582-4e4c-aadc-1db27b3cd4fd\",\"type\":\"ColumnDataSource\"},\"glyph\":{\"id\":\"fd0b9295-69ed-4b2a-8cef-5a39a2b2a1cc\",\"type\":\"Line\"},\"hover_glyph\":null,\"muted_glyph\":{\"id\":\"6b821e43-d76c-4622-a1da-7ba488b03368\",\"type\":\"Line\"},\"nonselection_glyph\":{\"id\":\"c712be1d-458d-47c3-a67b-eeceb73c8c49\",\"type\":\"Line\"},\"selection_glyph\":null,\"view\":{\"id\":\"caa9c666-0b28-4ef2-aa8f-656de5569e08\",\"type\":\"CDSView\"}},\"id\":\"97c7ab5d-4b46-4e78-afaf-c711a4d4bd22\",\"type\":\"GlyphRenderer\"},{\"attributes\":{\"source\":{\"id\":\"e9bb7a82-7d48-4707-93ea-132e332f1d79\",\"type\":\"ColumnDataSource\"}},\"id\":\"e9d68579-365c-4b28-8fdf-d6dcea6f3ff9\",\"type\":\"CDSView\"},{\"attributes\":{\"line_alpha\":0.1,\"line_color\":\"#1f77b4\",\"line_width\":3,\"x\":{\"field\":\"x\"},\"y\":{\"field\":\"twopointm\"}},\"id\":\"d927a687-5d13-4db5-a807-c3cd0f09ff27\",\"type\":\"Line\"},{\"attributes\":{\"line_color\":\"purple\",\"line_width\":3,\"x\":{\"field\":\"x\"},\"y\":{\"field\":\"rebound\"}},\"id\":\"432c0800-8d7b-44d4-bb93-b3424f6239cf\",\"type\":\"Line\"},{\"attributes\":{\"line_alpha\":0.2,\"line_color\":\"gold\",\"line_width\":3,\"x\":{\"field\":\"x\"},\"y\":{\"field\":\"twopointm\"}},\"id\":\"658e6196-6d7c-49f1-b4a2-4dc5d29ae62d\",\"type\":\"Line\"},{\"attributes\":{\"label\":{\"value\":\"Kareem Abdul-Jabbar(C)\"},\"renderers\":[{\"id\":\"be02ee0d-b971-4699-b795-0bcfcb01dc76\",\"type\":\"GlyphRenderer\"}]},\"id\":\"4601bd69-478b-46b3-ae73-fd3cea0ff53f\",\"type\":\"LegendItem\"},{\"attributes\":{\"source\":{\"id\":\"79013d9c-a5cb-4882-ba6c-9acb8d841ced\",\"type\":\"ColumnDataSource\"}},\"id\":\"cb523e04-1f78-478b-aee5-c5dd13e5ce46\",\"type\":\"CDSView\"},{\"attributes\":{\"callback\":null,\"end\":2019,\"start\":1955},\"id\":\"ed7aa78b-f74e-464b-8f83-b7d3a0812672\",\"type\":\"Range1d\"},{\"attributes\":{\"line_width\":3,\"x\":{\"field\":\"x\"},\"y\":{\"field\":\"twopointm\"}},\"id\":\"fd0b9295-69ed-4b2a-8cef-5a39a2b2a1cc\",\"type\":\"Line\"},{\"attributes\":{\"plot\":null,\"text\":\"Rebound Per Game\"},\"id\":\"05e51a26-a553-4bcf-9b07-98c2c565c8f5\",\"type\":\"Title\"},{\"attributes\":{\"label\":{\"value\":\"Steph Curry(PG)\"},\"renderers\":[{\"id\":\"8221f8d9-691c-4740-9068-0b7ee1b326fa\",\"type\":\"GlyphRenderer\"}]},\"id\":\"d44bb2ec-6a5b-4f3f-ac57-8a6ab2213446\",\"type\":\"LegendItem\"},{\"attributes\":{\"axis_label\":\"Year Season\",\"formatter\":{\"id\":\"0ee3b1ee-43a3-4541-8c52-66c206110845\",\"type\":\"BasicTickFormatter\"},\"plot\":{\"id\":\"823c1f94-b92a-47c0-ab93-364c546f6984\",\"subtype\":\"Figure\",\"type\":\"Plot\"},\"ticker\":{\"id\":\"db133533-01e3-43de-8889-e7de1053d75e\",\"type\":\"BasicTicker\"}},\"id\":\"8a062345-f92c-4b33-bc2d-a30f4c80d772\",\"type\":\"LinearAxis\"},{\"attributes\":{\"line_alpha\":0.2,\"line_color\":\"Silver\",\"line_width\":3,\"x\":{\"field\":\"x\"},\"y\":{\"field\":\"twopointm\"}},\"id\":\"86742c89-b5a1-46b5-ba2d-35036ed7c74a\",\"type\":\"Line\"},{\"attributes\":{\"active_drag\":\"auto\",\"active_inspect\":\"auto\",\"active_scroll\":\"auto\",\"active_tap\":\"auto\",\"tools\":[{\"id\":\"bc5b0c16-1a53-472f-a1e9-2b2fec627f64\",\"type\":\"HoverTool\"},{\"id\":\"39463230-29e6-4a98-b989-46177bc070d5\",\"type\":\"PanTool\"},{\"id\":\"5b068029-9d20-4095-9525-73122442a544\",\"type\":\"WheelZoomTool\"},{\"id\":\"83d34924-d9c8-41bb-92c4-34974704b7b7\",\"type\":\"ResetTool\"}]},\"id\":\"11a2bf5a-5f98-42c5-a5ae-391c889c6609\",\"type\":\"Toolbar\"},{\"attributes\":{\"line_alpha\":0.1,\"line_color\":\"#1f77b4\",\"line_width\":3,\"x\":{\"field\":\"x\"},\"y\":{\"field\":\"twopointm\"}},\"id\":\"31b91ccb-a14b-49bc-b118-33ef08f418c2\",\"type\":\"Line\"},{\"attributes\":{\"line_color\":\"gold\",\"line_width\":3,\"x\":{\"field\":\"x\"},\"y\":{\"field\":\"rebound\"}},\"id\":\"83a1c8ac-04fa-493e-9577-6428babed2fa\",\"type\":\"Line\"},{\"attributes\":{\"line_color\":\"Silver\",\"line_width\":3,\"x\":{\"field\":\"x\"},\"y\":{\"field\":\"twopointm\"}},\"id\":\"e7ce6d0b-fef6-4b49-93f4-ac9e25bf4e44\",\"type\":\"Line\"},{\"attributes\":{\"callback\":null,\"end\":30},\"id\":\"8451b04d-4afe-4c9f-aa82-baffbf83aaf0\",\"type\":\"Range1d\"},{\"attributes\":{\"data_source\":{\"id\":\"0b4153e7-096d-4d55-b206-886563a9d475\",\"type\":\"ColumnDataSource\"},\"glyph\":{\"id\":\"e7ce6d0b-fef6-4b49-93f4-ac9e25bf4e44\",\"type\":\"Line\"},\"hover_glyph\":null,\"muted_glyph\":{\"id\":\"86742c89-b5a1-46b5-ba2d-35036ed7c74a\",\"type\":\"Line\"},\"nonselection_glyph\":{\"id\":\"31b91ccb-a14b-49bc-b118-33ef08f418c2\",\"type\":\"Line\"},\"selection_glyph\":null,\"view\":{\"id\":\"50ef3ca7-98ea-4040-9904-14e88a7bebdf\",\"type\":\"CDSView\"}},\"id\":\"9fcffd70-1935-4f2f-b90b-4abe2de0c1c4\",\"type\":\"GlyphRenderer\"},{\"attributes\":{},\"id\":\"19162f17-1578-4ca8-b7a6-17cab50a4f12\",\"type\":\"LinearScale\"},{\"attributes\":{\"source\":{\"id\":\"0b4153e7-096d-4d55-b206-886563a9d475\",\"type\":\"ColumnDataSource\"}},\"id\":\"50ef3ca7-98ea-4040-9904-14e88a7bebdf\",\"type\":\"CDSView\"},{\"attributes\":{},\"id\":\"def69e15-fa24-4aca-b55c-36bc6c7cfad7\",\"type\":\"LinearScale\"},{\"attributes\":{\"line_alpha\":0.1,\"line_color\":\"#1f77b4\",\"line_width\":3,\"x\":{\"field\":\"x\"},\"y\":{\"field\":\"twopointm\"}},\"id\":\"c712be1d-458d-47c3-a67b-eeceb73c8c49\",\"type\":\"Line\"},{\"attributes\":{\"plot\":{\"id\":\"11fcc7cc-1add-4cc8-8846-d2f35c4dfec7\",\"subtype\":\"Figure\",\"type\":\"Plot\"},\"ticker\":{\"id\":\"16bff2f2-1561-4f41-b8d6-df0145ccbcd8\",\"type\":\"BasicTicker\"}},\"id\":\"76bc6344-3874-4a7c-bba2-3c3d305e355a\",\"type\":\"Grid\"},{\"attributes\":{\"label\":{\"value\":\"Wilt Chamberlin(C)\"},\"renderers\":[{\"id\":\"9fcffd70-1935-4f2f-b90b-4abe2de0c1c4\",\"type\":\"GlyphRenderer\"}]},\"id\":\"fb437a9b-b681-4c41-bec2-078ac04386ed\",\"type\":\"LegendItem\"},{\"attributes\":{\"axis_label\":\"Year Season\",\"formatter\":{\"id\":\"6ff42841-28bd-45da-81db-c481ba7a8770\",\"type\":\"BasicTickFormatter\"},\"plot\":{\"id\":\"11fcc7cc-1add-4cc8-8846-d2f35c4dfec7\",\"subtype\":\"Figure\",\"type\":\"Plot\"},\"ticker\":{\"id\":\"16bff2f2-1561-4f41-b8d6-df0145ccbcd8\",\"type\":\"BasicTicker\"}},\"id\":\"c506ee35-c680-400b-85e7-c6f5e91fa525\",\"type\":\"LinearAxis\"},{\"attributes\":{\"line_alpha\":0.2,\"line_color\":\"Red\",\"line_width\":3,\"x\":{\"field\":\"x\"},\"y\":{\"field\":\"twopointm\"}},\"id\":\"fe82fbf0-b894-4d80-a9d0-e73bdec55615\",\"type\":\"Line\"},{\"attributes\":{},\"id\":\"16bff2f2-1561-4f41-b8d6-df0145ccbcd8\",\"type\":\"BasicTicker\"},{\"attributes\":{\"line_alpha\":0.1,\"line_color\":\"#1f77b4\",\"line_width\":3,\"x\":{\"field\":\"x\"},\"y\":{\"field\":\"twopointm\"}},\"id\":\"727778e3-b9d3-4232-b84e-63ee3c59884b\",\"type\":\"Line\"},{\"attributes\":{\"axis_label\":\"Rebound Per Game\",\"formatter\":{\"id\":\"8f4e8104-2de8-43da-a1a6-cf0d600a5d01\",\"type\":\"BasicTickFormatter\"},\"plot\":{\"id\":\"11fcc7cc-1add-4cc8-8846-d2f35c4dfec7\",\"subtype\":\"Figure\",\"type\":\"Plot\"},\"ticker\":{\"id\":\"d93b9a27-f3ac-4cb1-b730-38b41b8629a3\",\"type\":\"BasicTicker\"}},\"id\":\"2da93ee7-9ef6-4b00-96d1-1e456bb0a5a5\",\"type\":\"LinearAxis\"},{\"attributes\":{\"line_color\":\"Red\",\"line_width\":3,\"x\":{\"field\":\"x\"},\"y\":{\"field\":\"twopointm\"}},\"id\":\"9a4dd93d-0f5d-40f9-af4a-3c2a86eb3d7e\",\"type\":\"Line\"},{\"attributes\":{\"data_source\":{\"id\":\"fd7a7ab6-dfd0-4592-92b5-94a1a08ec828\",\"type\":\"ColumnDataSource\"},\"glyph\":{\"id\":\"9a4dd93d-0f5d-40f9-af4a-3c2a86eb3d7e\",\"type\":\"Line\"},\"hover_glyph\":null,\"muted_glyph\":{\"id\":\"fe82fbf0-b894-4d80-a9d0-e73bdec55615\",\"type\":\"Line\"},\"nonselection_glyph\":{\"id\":\"727778e3-b9d3-4232-b84e-63ee3c59884b\",\"type\":\"Line\"},\"selection_glyph\":null,\"view\":{\"id\":\"addcfb17-6883-45d4-8bac-e0164a6029d7\",\"type\":\"CDSView\"}},\"id\":\"aae2f6df-03f9-4dfd-868f-6740f8ffb256\",\"type\":\"GlyphRenderer\"},{\"attributes\":{},\"id\":\"d93b9a27-f3ac-4cb1-b730-38b41b8629a3\",\"type\":\"BasicTicker\"},{\"attributes\":{\"dimension\":1,\"plot\":{\"id\":\"11fcc7cc-1add-4cc8-8846-d2f35c4dfec7\",\"subtype\":\"Figure\",\"type\":\"Plot\"},\"ticker\":{\"id\":\"d93b9a27-f3ac-4cb1-b730-38b41b8629a3\",\"type\":\"BasicTicker\"}},\"id\":\"8cacfbee-52a6-4839-8d91-50cce716dff9\",\"type\":\"Grid\"},{\"attributes\":{\"source\":{\"id\":\"fd7a7ab6-dfd0-4592-92b5-94a1a08ec828\",\"type\":\"ColumnDataSource\"}},\"id\":\"addcfb17-6883-45d4-8bac-e0164a6029d7\",\"type\":\"CDSView\"},{\"attributes\":{},\"id\":\"6ff42841-28bd-45da-81db-c481ba7a8770\",\"type\":\"BasicTickFormatter\"},{\"attributes\":{\"line_alpha\":0.2,\"line_width\":3,\"x\":{\"field\":\"x\"},\"y\":{\"field\":\"twopointm\"}},\"id\":\"6b821e43-d76c-4622-a1da-7ba488b03368\",\"type\":\"Line\"},{\"attributes\":{\"data_source\":{\"id\":\"cd3bb85f-bdea-4daf-be0d-5f3a717f29cd\",\"type\":\"ColumnDataSource\"},\"glyph\":{\"id\":\"432c0800-8d7b-44d4-bb93-b3424f6239cf\",\"type\":\"Line\"},\"hover_glyph\":null,\"muted_glyph\":{\"id\":\"ec6a5308-2380-485b-bcb6-533b74a442f2\",\"type\":\"Line\"},\"nonselection_glyph\":{\"id\":\"7ae68980-9c99-48fa-b850-01dbcc222e1e\",\"type\":\"Line\"},\"selection_glyph\":null,\"view\":{\"id\":\"4c29846a-9169-4bca-8264-1a0c5cee2664\",\"type\":\"CDSView\"}},\"id\":\"1350d8fc-6e2b-4939-9475-87fe65696514\",\"type\":\"GlyphRenderer\"},{\"attributes\":{\"label\":{\"value\":\"Micheal Jordan (SG)\"},\"renderers\":[{\"id\":\"aae2f6df-03f9-4dfd-868f-6740f8ffb256\",\"type\":\"GlyphRenderer\"}]},\"id\":\"55aa4d86-4690-46bf-8ad5-695c8786c8c2\",\"type\":\"LegendItem\"},{\"attributes\":{},\"id\":\"39463230-29e6-4a98-b989-46177bc070d5\",\"type\":\"PanTool\"},{\"attributes\":{\"label\":{\"value\":\"LeBron James(SF)\"},\"renderers\":[{\"id\":\"97c7ab5d-4b46-4e78-afaf-c711a4d4bd22\",\"type\":\"GlyphRenderer\"}]},\"id\":\"88be5a39-ea66-40ca-a6f0-dbb317edc025\",\"type\":\"LegendItem\"},{\"attributes\":{\"callback\":null,\"data\":{\"x\":[2018,2000,1980,1990,1970,1960,2010],\"y\":[2.0,2.1,2.6,2.2,2.8,2.3,2.2]},\"selected\":{\"id\":\"81debea8-151a-4fba-b04a-7b34160bad60\",\"type\":\"Selection\"},\"selection_policy\":{\"id\":\"b84e05c1-072d-4b9c-8ba6-efe44fd32e6f\",\"type\":\"UnionRenderers\"}},\"id\":\"56364143-227d-4eae-809c-1755928ac69a\",\"type\":\"ColumnDataSource\"},{\"attributes\":{\"source\":{\"id\":\"cd3bb85f-bdea-4daf-be0d-5f3a717f29cd\",\"type\":\"ColumnDataSource\"}},\"id\":\"4c29846a-9169-4bca-8264-1a0c5cee2664\",\"type\":\"CDSView\"},{\"attributes\":{},\"id\":\"5b068029-9d20-4095-9525-73122442a544\",\"type\":\"WheelZoomTool\"},{\"attributes\":{\"source\":{\"id\":\"8ede8e08-3582-4e4c-aadc-1db27b3cd4fd\",\"type\":\"ColumnDataSource\"}},\"id\":\"caa9c666-0b28-4ef2-aa8f-656de5569e08\",\"type\":\"CDSView\"},{\"attributes\":{},\"id\":\"83d34924-d9c8-41bb-92c4-34974704b7b7\",\"type\":\"ResetTool\"},{\"attributes\":{\"line_alpha\":0.2,\"line_color\":\"Orange\",\"line_width\":3,\"x\":{\"field\":\"x\"},\"y\":{\"field\":\"twopointm\"}},\"id\":\"0661c01e-017d-4eb9-b6f4-37adfa67dc21\",\"type\":\"Line\"},{\"attributes\":{\"line_alpha\":0.2,\"line_color\":\"purple\",\"line_width\":3,\"x\":{\"field\":\"x\"},\"y\":{\"field\":\"rebound\"}},\"id\":\"ec6a5308-2380-485b-bcb6-533b74a442f2\",\"type\":\"Line\"},{\"attributes\":{\"line_alpha\":0.1,\"line_color\":\"#1f77b4\",\"line_width\":3,\"x\":{\"field\":\"x\"},\"y\":{\"field\":\"twopointm\"}},\"id\":\"d01bd25c-2637-48a8-b971-00a99f538631\",\"type\":\"Line\"},{\"attributes\":{\"line_alpha\":0.1,\"line_color\":\"#1f77b4\",\"line_width\":3,\"x\":{\"field\":\"x\"},\"y\":{\"field\":\"rebound\"}},\"id\":\"7ae68980-9c99-48fa-b850-01dbcc222e1e\",\"type\":\"Line\"},{\"attributes\":{\"line_color\":\"Orange\",\"line_width\":3,\"x\":{\"field\":\"x\"},\"y\":{\"field\":\"twopointm\"}},\"id\":\"71550a5f-b637-4430-8660-f2112a6bc7a8\",\"type\":\"Line\"},{\"attributes\":{\"data_source\":{\"id\":\"61a6ffc6-4266-4219-ab84-af0b9138d62f\",\"type\":\"ColumnDataSource\"},\"glyph\":{\"id\":\"71550a5f-b637-4430-8660-f2112a6bc7a8\",\"type\":\"Line\"},\"hover_glyph\":null,\"muted_glyph\":{\"id\":\"0661c01e-017d-4eb9-b6f4-37adfa67dc21\",\"type\":\"Line\"},\"nonselection_glyph\":{\"id\":\"d01bd25c-2637-48a8-b971-00a99f538631\",\"type\":\"Line\"},\"selection_glyph\":null,\"view\":{\"id\":\"ad2909d5-a4ec-4b23-a7af-15eb6f14674f\",\"type\":\"CDSView\"}},\"id\":\"a6a1c7d9-c699-4844-b3b9-60d69d562620\",\"type\":\"GlyphRenderer\"},{\"attributes\":{\"line_alpha\":0.1,\"line_color\":\"#1f77b4\",\"line_width\":3,\"x\":{\"field\":\"x\"},\"y\":{\"field\":\"rebound\"}},\"id\":\"f1522d82-9c5d-4560-b984-9c3af12a9306\",\"type\":\"Line\"},{\"attributes\":{},\"id\":\"8f4e8104-2de8-43da-a1a6-cf0d600a5d01\",\"type\":\"BasicTickFormatter\"},{\"attributes\":{\"source\":{\"id\":\"61a6ffc6-4266-4219-ab84-af0b9138d62f\",\"type\":\"ColumnDataSource\"}},\"id\":\"ad2909d5-a4ec-4b23-a7af-15eb6f14674f\",\"type\":\"CDSView\"},{\"attributes\":{\"callback\":null,\"data\":{\"x\":[2018,2000,1980,1990,1970,1960,2010],\"y\":[10.3,10.2,11.6,11.3,13.3,11.0,11.0]},\"selected\":{\"id\":\"d7cad65f-c87b-4d7c-b291-a64d78c46bf1\",\"type\":\"Selection\"},\"selection_policy\":{\"id\":\"065693a7-1f0a-4278-9563-5962eced3616\",\"type\":\"UnionRenderers\"}},\"id\":\"5a42dfaa-87a7-487d-ac3f-7c002c8e5735\",\"type\":\"ColumnDataSource\"},{\"attributes\":{\"source\":{\"id\":\"79013d9c-a5cb-4882-ba6c-9acb8d841ced\",\"type\":\"ColumnDataSource\"}},\"id\":\"e1a5379f-19ad-48cf-af82-a06397230201\",\"type\":\"CDSView\"},{\"attributes\":{},\"id\":\"cf74bce3-8e86-4950-b708-cb7bd63d0927\",\"type\":\"LinearScale\"},{\"attributes\":{\"label\":{\"value\":\"Magic Johnson(PG)\"},\"renderers\":[{\"id\":\"a6a1c7d9-c699-4844-b3b9-60d69d562620\",\"type\":\"GlyphRenderer\"}]},\"id\":\"ec99462b-c3e9-47d6-9b0d-c8a82d27afd9\",\"type\":\"LegendItem\"},{\"attributes\":{\"line_alpha\":0.1,\"line_color\":\"#1f77b4\",\"line_width\":3,\"x\":{\"field\":\"x\"},\"y\":{\"field\":\"rebound\"}},\"id\":\"a7605c09-135e-4a79-b2df-0ff60b0a6fde\",\"type\":\"Line\"},{\"attributes\":{\"line_alpha\":0.2,\"line_color\":\"Pink\",\"line_width\":3,\"x\":{\"field\":\"x\"},\"y\":{\"field\":\"twopointm\"}},\"id\":\"9252b008-a8e9-4f9f-b282-3d8ef8982f3b\",\"type\":\"Line\"},{\"attributes\":{\"line_color\":\"Silver\",\"line_width\":3,\"x\":{\"field\":\"x\"},\"y\":{\"field\":\"rebound\"}},\"id\":\"bf15c247-1aef-4d59-81f9-0fe6eb51266a\",\"type\":\"Line\"},{\"attributes\":{\"line_alpha\":0.1,\"line_color\":\"#1f77b4\",\"line_width\":3,\"x\":{\"field\":\"x\"},\"y\":{\"field\":\"twopointm\"}},\"id\":\"8bb2e8e3-d9ec-4af0-82de-147493c1573e\",\"type\":\"Line\"},{\"attributes\":{\"label\":{\"value\":\"Steph Curry(PG)\"},\"renderers\":[{\"id\":\"f019c049-e141-4b23-9cd5-21713836001b\",\"type\":\"GlyphRenderer\"}]},\"id\":\"ca2a92e5-a3d4-43e3-9b06-8d735f3f1975\",\"type\":\"LegendItem\"},{\"attributes\":{\"line_color\":\"Pink\",\"line_width\":3,\"x\":{\"field\":\"x\"},\"y\":{\"field\":\"twopointm\"}},\"id\":\"575a3386-eda6-4c8a-b705-72fb6c9e281d\",\"type\":\"Line\"},{\"attributes\":{\"data_source\":{\"id\":\"e9bb7a82-7d48-4707-93ea-132e332f1d79\",\"type\":\"ColumnDataSource\"},\"glyph\":{\"id\":\"575a3386-eda6-4c8a-b705-72fb6c9e281d\",\"type\":\"Line\"},\"hover_glyph\":null,\"muted_glyph\":{\"id\":\"9252b008-a8e9-4f9f-b282-3d8ef8982f3b\",\"type\":\"Line\"},\"nonselection_glyph\":{\"id\":\"8bb2e8e3-d9ec-4af0-82de-147493c1573e\",\"type\":\"Line\"},\"selection_glyph\":null,\"view\":{\"id\":\"d9a43327-4347-469d-8744-c2cf8f1f31ba\",\"type\":\"CDSView\"}},\"id\":\"a5d042f4-d0c9-42d0-a539-0c457ef98917\",\"type\":\"GlyphRenderer\"},{\"attributes\":{\"line_alpha\":0.2,\"line_color\":\"Silver\",\"line_width\":3,\"x\":{\"field\":\"x\"},\"y\":{\"field\":\"rebound\"}},\"id\":\"6be9f708-64d1-4d0d-9d94-0542839a24fa\",\"type\":\"Line\"},{\"attributes\":{\"data_source\":{\"id\":\"0b4153e7-096d-4d55-b206-886563a9d475\",\"type\":\"ColumnDataSource\"},\"glyph\":{\"id\":\"bf15c247-1aef-4d59-81f9-0fe6eb51266a\",\"type\":\"Line\"},\"hover_glyph\":null,\"muted_glyph\":{\"id\":\"6be9f708-64d1-4d0d-9d94-0542839a24fa\",\"type\":\"Line\"},\"nonselection_glyph\":{\"id\":\"a7605c09-135e-4a79-b2df-0ff60b0a6fde\",\"type\":\"Line\"},\"selection_glyph\":null,\"view\":{\"id\":\"da80be6e-f3f2-434e-b554-fc7622a380dd\",\"type\":\"CDSView\"}},\"id\":\"240746ad-04f6-4db2-9645-21254ab207d0\",\"type\":\"GlyphRenderer\"},{\"attributes\":{\"source\":{\"id\":\"e9bb7a82-7d48-4707-93ea-132e332f1d79\",\"type\":\"ColumnDataSource\"}},\"id\":\"d9a43327-4347-469d-8744-c2cf8f1f31ba\",\"type\":\"CDSView\"},{\"attributes\":{\"fill_color\":{\"value\":\"#1f77b4\"},\"line_color\":{\"value\":\"#1f77b4\"},\"size\":{\"units\":\"screen\",\"value\":10},\"x\":{\"field\":\"x\"},\"y\":{\"field\":\"y\"}},\"id\":\"d67ec2e8-2f89-42ab-9f52-6e44f310eae7\",\"type\":\"Circle\"},{\"attributes\":{\"source\":{\"id\":\"0b4153e7-096d-4d55-b206-886563a9d475\",\"type\":\"ColumnDataSource\"}},\"id\":\"da80be6e-f3f2-434e-b554-fc7622a380dd\",\"type\":\"CDSView\"},{\"attributes\":{\"callback\":null,\"data\":{\"Team\":[\"NaN\",\"LAL\",\"LAL\",\"LAL\",\"LAL\",\"LAL\",\"LAL\",\"LAL\",\"LAL\",\"LAL\",\"LAL\",\"LAL\",\"LAL\",\"LAL\",\"LAL\",\"LAL\",\"LAL\",\"LAL\",\"LAL\",\"LAL\",\"LAL\",\"NaN\"],\"assist\":{\"__ndarray__\":\"AAAAAAAA+H/NzMzMzMz0PwAAAAAAAARAZmZmZmZmDkCamZmZmZkTQAAAAAAAABRAAAAAAAAAFkCamZmZmZkXQGZmZmZmZhRAAAAAAAAAGEAAAAAAAAASQJqZmZmZmRVAmpmZmZmZFUCamZmZmZkTQAAAAAAAABRAzczMzMzMEkBmZmZmZmYSQAAAAAAAABhAMzMzMzMzGUBmZmZmZmYWQGZmZmZmZgZAzczMzMzMEkA=\",\"dtype\":\"float64\",\"shape\":[22]},\"name\":[\"NaN\",\"Kobe Bryant\",\"Kobe Bryant\",\"Kobe Bryant\",\"Kobe Bryant\",\"Kobe Bryant\",\"Kobe Bryant\",\"Kobe Bryant\",\"Kobe Bryant\",\"Kobe Bryant\",\"Kobe Bryant\",\"Kobe Bryant\",\"Kobe Bryant\",\"Kobe Bryant\",\"Kobe Bryant\",\"Kobe Bryant\",\"Kobe Bryant\",\"Kobe Bryant\",\"Kobe Bryant\",\"Kobe Bryant\",\"Kobe Bryant\",\"NaN\"],\"rebound\":{\"__ndarray__\":\"AAAAAAAA+H9mZmZmZmb+P83MzMzMzAhAMzMzMzMzFUAzMzMzMzMZQJqZmZmZmRdAAAAAAAAAFkCamZmZmZkbQAAAAAAAABZAmpmZmZmZF0AzMzMzMzMVQM3MzMzMzBZAMzMzMzMzGUDNzMzMzMwUQJqZmZmZmRVAZmZmZmZmFECamZmZmZkVQGZmZmZmZhZAMzMzMzMzEUDNzMzMzMwWQJqZmZmZmQ1AzczMzMzMFEA=\",\"dtype\":\"float64\",\"shape\":[22]},\"threepointm\":{\"__ndarray__\":\"AAAAAAAA+H9mZmZmZmbmP83MzMzMzOw/AAAAAAAA4D9mZmZmZmbmP83MzMzMzOw/mpmZmZmZ2T8AAAAAAAD4P5qZmZmZmfE/AAAAAAAAAEBmZmZmZmYCQM3MzMzMzPw/zczMzMzM/D9mZmZmZmb2P2ZmZmZmZvY/ZmZmZmZm9j8AAAAAAAD4PzMzMzMzM/s/AAAAAAAA4D8AAAAAAAD4PwAAAAAAAABAZmZmZmZm9j8=\",\"dtype\":\"float64\",\"shape\":[22]},\"twopointm\":{\"__ndarray__\":\"AAAAAAAA+H/NzMzMzMz8PwAAAAAAABBAzczMzMzMGkDNzMzMzMweQM3MzMzMzCJAAAAAAAAAIkAzMzMzMzMiQDMzMzMzMxtAzczMzMzMGkAAAAAAAAAkQJqZmZmZmSFAZmZmZmZmHkCamZmZmZkgQAAAAAAAACFAZmZmZmZmHkDNzMzMzMwgQDMzMzMzMx9AzczMzMzMEkBmZmZmZmYYQAAAAAAAABBAMzMzMzMzHUA=\",\"dtype\":\"float64\",\"shape\":[22]},\"x\":[\"NaN\",\"1996\",\"1997\",\"1998\",\"1999\",\"2000\",\"2001\",\"2002\",\"2003\",\"2004\",\"2005\",\"2006\",\"2007\",\"2008\",\"2009\",\"2010\",\"2011\",\"2012\",\"2013\",\"2014\",\"2015\",\"Career\"],\"y\":{\"__ndarray__\":\"AAAAAAAA+H9mZmZmZmYeQM3MzMzMzC5AZmZmZmbmM0AAAAAAAIA2QAAAAAAAgDxAMzMzMzMzOUAAAAAAAAA+QAAAAAAAADhAmpmZmZmZO0AzMzMzM7NBQJqZmZmZmT9AzczMzMxMPEDNzMzMzMw6QAAAAAAAADtAzczMzMxMOUBmZmZmZuY7QM3MzMzMTDtAmpmZmZmZK0DNzMzMzEw2QJqZmZmZmTFAAAAAAAAAOUA=\",\"dtype\":\"float64\",\"shape\":[22]}},\"selected\":{\"id\":\"859f4bcd-1234-472e-a094-5069f78cc60e\",\"type\":\"Selection\"},\"selection_policy\":{\"id\":\"a20cf5c7-d9c7-48dc-885a-653306eec787\",\"type\":\"UnionRenderers\"}},\"id\":\"cd3bb85f-bdea-4daf-be0d-5f3a717f29cd\",\"type\":\"ColumnDataSource\"},{\"attributes\":{\"plot\":{\"id\":\"823c1f94-b92a-47c0-ab93-364c546f6984\",\"subtype\":\"Figure\",\"type\":\"Plot\"},\"ticker\":{\"id\":\"db133533-01e3-43de-8889-e7de1053d75e\",\"type\":\"BasicTicker\"}},\"id\":\"f7cd1734-ed4a-4b29-bdd9-ee1954111e9d\",\"type\":\"Grid\"},{\"attributes\":{\"label\":{\"value\":\"Kareem Abdul-Jabbar(C)\"},\"renderers\":[{\"id\":\"a5d042f4-d0c9-42d0-a539-0c457ef98917\",\"type\":\"GlyphRenderer\"}]},\"id\":\"c672f09c-0e7d-4353-bca2-3e3b0db64084\",\"type\":\"LegendItem\"},{\"attributes\":{\"fill_alpha\":{\"value\":0.2},\"fill_color\":{\"value\":\"Pink\"},\"line_alpha\":{\"value\":0.2},\"line_color\":{\"value\":\"Pink\"},\"size\":{\"units\":\"screen\",\"value\":10},\"x\":{\"field\":\"x\"},\"y\":{\"field\":\"y\"}},\"id\":\"45a705e3-225e-46d5-9d55-2cd2a229597e\",\"type\":\"Circle\"},{\"attributes\":{\"label\":{\"value\":\"Wilt Chamberlin(C)\"},\"renderers\":[{\"id\":\"240746ad-04f6-4db2-9645-21254ab207d0\",\"type\":\"GlyphRenderer\"}]},\"id\":\"8c5c3dc2-5e30-410f-be88-b776a93b8d8f\",\"type\":\"LegendItem\"},{\"attributes\":{\"source\":{\"id\":\"56364143-227d-4eae-809c-1755928ac69a\",\"type\":\"ColumnDataSource\"}},\"id\":\"3d0565c6-aedf-4b0b-80e8-c3e7d7b27da2\",\"type\":\"CDSView\"},{\"attributes\":{\"line_alpha\":0.2,\"line_color\":\"Red\",\"line_width\":3,\"x\":{\"field\":\"x\"},\"y\":{\"field\":\"rebound\"}},\"id\":\"45b4f114-ca0b-4956-8e16-0fe6d9f7a5f6\",\"type\":\"Line\"},{\"attributes\":{\"line_alpha\":0.1,\"line_color\":\"#1f77b4\",\"line_width\":3,\"x\":{\"field\":\"x\"},\"y\":{\"field\":\"rebound\"}},\"id\":\"fb48b1e7-d93d-47c8-9ae0-5ea709e1e369\",\"type\":\"Line\"},{\"attributes\":{},\"id\":\"7b657e8f-5af6-4a79-8b26-57252c69eba0\",\"type\":\"Selection\"},{\"attributes\":{\"line_color\":\"Red\",\"line_width\":3,\"x\":{\"field\":\"x\"},\"y\":{\"field\":\"rebound\"}},\"id\":\"eec4d922-09ac-49da-b9d2-fefea6b8c34d\",\"type\":\"Line\"},{\"attributes\":{\"fill_alpha\":{\"value\":0.2},\"fill_color\":{\"value\":\"Pink\"},\"line_alpha\":{\"value\":0.2},\"line_color\":{\"value\":\"Pink\"},\"size\":{\"units\":\"screen\",\"value\":10},\"x\":{\"field\":\"x\"},\"y\":{\"field\":\"y\"}},\"id\":\"e275cd18-adda-4359-bff1-eaa61e7add87\",\"type\":\"Circle\"},{\"attributes\":{\"data_source\":{\"id\":\"fd7a7ab6-dfd0-4592-92b5-94a1a08ec828\",\"type\":\"ColumnDataSource\"},\"glyph\":{\"id\":\"eec4d922-09ac-49da-b9d2-fefea6b8c34d\",\"type\":\"Line\"},\"hover_glyph\":null,\"muted_glyph\":{\"id\":\"45b4f114-ca0b-4956-8e16-0fe6d9f7a5f6\",\"type\":\"Line\"},\"nonselection_glyph\":{\"id\":\"fb48b1e7-d93d-47c8-9ae0-5ea709e1e369\",\"type\":\"Line\"},\"selection_glyph\":null,\"view\":{\"id\":\"e68af79b-738b-49e0-b868-abea52714d6e\",\"type\":\"CDSView\"}},\"id\":\"7df54eca-60da-4dd2-ae45-12d99ec97063\",\"type\":\"GlyphRenderer\"},{\"attributes\":{},\"id\":\"fcb506a3-2564-4b4b-ad3d-8a01e05611af\",\"type\":\"UnionRenderers\"},{\"attributes\":{\"fill_color\":{\"value\":\"#1f77b4\"},\"line_color\":{\"value\":\"#1f77b4\"},\"size\":{\"units\":\"screen\",\"value\":10},\"x\":{\"field\":\"x\"},\"y\":{\"field\":\"y\"}},\"id\":\"45aa7706-74c1-4160-a64d-a0510b692188\",\"type\":\"Circle\"},{\"attributes\":{\"source\":{\"id\":\"fd7a7ab6-dfd0-4592-92b5-94a1a08ec828\",\"type\":\"ColumnDataSource\"}},\"id\":\"e68af79b-738b-49e0-b868-abea52714d6e\",\"type\":\"CDSView\"},{\"attributes\":{\"label\":{\"value\":\"Average Stats of Stats\"},\"renderers\":[{\"id\":\"548e14b2-c77a-40e1-9364-f682b4c9b82b\",\"type\":\"GlyphRenderer\"}]},\"id\":\"e1ca60f5-d0b6-4da3-8b01-2f84149637f4\",\"type\":\"LegendItem\"},{\"attributes\":{\"line_alpha\":0.1,\"line_color\":\"#1f77b4\",\"line_width\":3,\"x\":{\"field\":\"x\"},\"y\":{\"field\":\"rebound\"}},\"id\":\"fd3f4120-4b0f-42db-a5fa-3976ad8106c3\",\"type\":\"Line\"},{\"attributes\":{\"label\":{\"value\":\"Micheal Jordan (SG)\"},\"renderers\":[{\"id\":\"7df54eca-60da-4dd2-ae45-12d99ec97063\",\"type\":\"GlyphRenderer\"}]},\"id\":\"5b6cf7f2-0979-44b2-80b7-24c1420c8df6\",\"type\":\"LegendItem\"},{\"attributes\":{\"callback\":null,\"data\":{\"x\":[2018,2000,1980,1990,1970,1960,2010],\"y\":[4.0,4.3,4.5,4.4,5.4,5.8,5.4]},\"selected\":{\"id\":\"80c86a3e-2aa4-430e-bc81-a4e5f47b2388\",\"type\":\"Selection\"},\"selection_policy\":{\"id\":\"dbfa9747-d5f4-4cf5-86ce-aede9ccf956a\",\"type\":\"UnionRenderers\"}},\"id\":\"12783063-5aae-4cf9-adde-557100941d0b\",\"type\":\"ColumnDataSource\"},{\"attributes\":{\"callback\":null,\"data\":{\"Team\":[\"GSW\",\"GSW\",\"GSW\",\"GSW\",\"GSW\",\"GSW\",\"GSW\",\"GSW\",\"GSW\",\"GSW\",\"NaN\"],\"assist\":{\"__ndarray__\":\"mpmZmZmZF0AzMzMzMzMXQDMzMzMzMxVAmpmZmZmZG0AAAAAAAAAhQM3MzMzMzB5AzczMzMzMGkBmZmZmZmYaQGZmZmZmZhhAMzMzMzMzFUDNzMzMzMwaQA==\",\"dtype\":\"float64\",\"shape\":[11]},\"name\":[\"Stephen Curry\",\"Stephen Curry\",\"Stephen Curry\",\"Stephen Curry\",\"Stephen Curry\",\"Stephen Curry\",\"Stephen Curry\",\"Stephen Curry\",\"Stephen Curry\",\"Stephen Curry\",\"Stephen Curry\"],\"rebound\":{\"__ndarray__\":\"AAAAAAAAEkAzMzMzMzMPQDMzMzMzMwtAAAAAAAAAEEAzMzMzMzMRQDMzMzMzMxFAmpmZmZmZFUAAAAAAAAASQGZmZmZmZhRAZmZmZmZmFEAAAAAAAAASQA==\",\"dtype\":\"float64\",\"shape\":[11]},\"threepointm\":{\"__ndarray__\":\"zczMzMzMAEAAAAAAAAAAQM3MzMzMzABAAAAAAAAADEBmZmZmZmYKQM3MzMzMzAxAZmZmZmZmFEBmZmZmZmYQQM3MzMzMzBBAZmZmZmZmFEAAAAAAAAAMQA==\",\"dtype\":\"float64\",\"shape\":[11]},\"twopointm\":{\"__ndarray__\":\"AAAAAAAAEkAzMzMzMzMTQAAAAAAAAAxAAAAAAAAAEkAAAAAAAAAUQGZmZmZmZhJAZmZmZmZmFECamZmZmZkRQM3MzMzMzBBAmpmZmZmZEUBmZmZmZmYSQA==\",\"dtype\":\"float64\",\"shape\":[11]},\"x\":[\"2009\",\"2010\",\"2011\",\"2012\",\"2013\",\"2014\",\"2015\",\"2016\",\"2017\",\"2018\",\"Career\"],\"y\":{\"__ndarray__\":\"AAAAAACAMUCamZmZmZkyQGZmZmZmZi1AZmZmZmbmNkAAAAAAAAA4QM3MzMzMzDdAmpmZmZkZPkDNzMzMzEw5QGZmZmZmZjpAAAAAAACAPEAAAAAAAIA3QA==\",\"dtype\":\"float64\",\"shape\":[11]}},\"selected\":{\"id\":\"46f57e37-d064-4398-b2ef-a682eac5bd13\",\"type\":\"Selection\"},\"selection_policy\":{\"id\":\"2c416706-7991-45ef-bb81-4b4b7c1ba871\",\"type\":\"UnionRenderers\"}},\"id\":\"79013d9c-a5cb-4882-ba6c-9acb8d841ced\",\"type\":\"ColumnDataSource\"},{\"attributes\":{\"fill_alpha\":{\"value\":0.1},\"fill_color\":{\"value\":\"#1f77b4\"},\"line_alpha\":{\"value\":0.1},\"line_color\":{\"value\":\"#1f77b4\"},\"size\":{\"units\":\"screen\",\"value\":10},\"x\":{\"field\":\"x\"},\"y\":{\"field\":\"y\"}},\"id\":\"84cac14e-f55a-45b1-80bc-8a7bcc74b29b\",\"type\":\"Circle\"},{\"attributes\":{\"line_alpha\":0.2,\"line_width\":3,\"x\":{\"field\":\"x\"},\"y\":{\"field\":\"rebound\"}},\"id\":\"1cb0c909-4b0c-43d3-a2dd-a0eb7ba66edf\",\"type\":\"Line\"},{\"attributes\":{\"data_source\":{\"id\":\"5a42dfaa-87a7-487d-ac3f-7c002c8e5735\",\"type\":\"ColumnDataSource\"},\"glyph\":{\"id\":\"45aa7706-74c1-4160-a64d-a0510b692188\",\"type\":\"Circle\"},\"hover_glyph\":null,\"muted_glyph\":{\"id\":\"595b5596-d903-4e46-a7ae-f283bb06d6fa\",\"type\":\"Circle\"},\"nonselection_glyph\":{\"id\":\"84cac14e-f55a-45b1-80bc-8a7bcc74b29b\",\"type\":\"Circle\"},\"selection_glyph\":null,\"view\":{\"id\":\"643b32dc-a237-4539-a1ef-fdd26d0c5433\",\"type\":\"CDSView\"}},\"id\":\"164d474e-7dbc-4cc9-9afe-c48bb9f9cee7\",\"type\":\"GlyphRenderer\"},{\"attributes\":{\"line_alpha\":0.1,\"line_color\":\"#1f77b4\",\"line_width\":3,\"x\":{\"field\":\"x\"},\"y\":{\"field\":\"rebound\"}},\"id\":\"26c998c5-4fc1-4258-8075-7bdaf3b9fe5b\",\"type\":\"Line\"},{\"attributes\":{\"fill_alpha\":{\"value\":0.2},\"fill_color\":{\"value\":\"Pink\"},\"line_alpha\":{\"value\":0.2},\"line_color\":{\"value\":\"Pink\"},\"size\":{\"units\":\"screen\",\"value\":10},\"x\":{\"field\":\"x\"},\"y\":{\"field\":\"y\"}},\"id\":\"595b5596-d903-4e46-a7ae-f283bb06d6fa\",\"type\":\"Circle\"},{\"attributes\":{\"line_width\":3,\"x\":{\"field\":\"x\"},\"y\":{\"field\":\"rebound\"}},\"id\":\"53196d14-4f97-4eb2-b2d9-0aa35a069752\",\"type\":\"Line\"},{\"attributes\":{\"data_source\":{\"id\":\"8ede8e08-3582-4e4c-aadc-1db27b3cd4fd\",\"type\":\"ColumnDataSource\"},\"glyph\":{\"id\":\"53196d14-4f97-4eb2-b2d9-0aa35a069752\",\"type\":\"Line\"},\"hover_glyph\":null,\"muted_glyph\":{\"id\":\"1cb0c909-4b0c-43d3-a2dd-a0eb7ba66edf\",\"type\":\"Line\"},\"nonselection_glyph\":{\"id\":\"26c998c5-4fc1-4258-8075-7bdaf3b9fe5b\",\"type\":\"Line\"},\"selection_glyph\":null,\"view\":{\"id\":\"bb82289e-df35-4eb2-9368-200b01c58071\",\"type\":\"CDSView\"}},\"id\":\"252242f1-d1ee-4ffa-b76a-561f3eb362e6\",\"type\":\"GlyphRenderer\"},{\"attributes\":{\"source\":{\"id\":\"5a42dfaa-87a7-487d-ac3f-7c002c8e5735\",\"type\":\"ColumnDataSource\"}},\"id\":\"643b32dc-a237-4539-a1ef-fdd26d0c5433\",\"type\":\"CDSView\"},{\"attributes\":{\"source\":{\"id\":\"8ede8e08-3582-4e4c-aadc-1db27b3cd4fd\",\"type\":\"ColumnDataSource\"}},\"id\":\"bb82289e-df35-4eb2-9368-200b01c58071\",\"type\":\"CDSView\"},{\"attributes\":{\"callback\":null,\"data\":{\"x\":[2018,2000,1980,1990,1970,1960,2010],\"y\":[1.6,0.5,0,0.1,0,0,0.8]},\"selected\":{\"id\":\"46686d43-6980-4e07-a2c4-7a6bdac2c8b0\",\"type\":\"Selection\"},\"selection_policy\":{\"id\":\"dc24861a-3827-47e4-9b85-2bff19d58bab\",\"type\":\"UnionRenderers\"}},\"id\":\"3433129e-7af2-48ee-8258-f9ec64113a6f\",\"type\":\"ColumnDataSource\"},{\"attributes\":{\"label\":{\"value\":\"Average Stats of Stats\"},\"renderers\":[{\"id\":\"164d474e-7dbc-4cc9-9afe-c48bb9f9cee7\",\"type\":\"GlyphRenderer\"}]},\"id\":\"ab39e061-66fe-4ba8-aa1f-9426fe067656\",\"type\":\"LegendItem\"},{\"attributes\":{\"callback\":null,\"renderers\":\"auto\",\"tooltips\":[[\"Season\",\"@x\"],[\"Name\",\"@name\"],[\"Team\",\"@Team\"],[\"Three Pointers\",\"@threepointm\"]]},\"id\":\"5e62030f-f151-47c3-92b8-2044117541e8\",\"type\":\"HoverTool\"},{\"attributes\":{\"label\":{\"value\":\"LeBron James(SF)\"},\"renderers\":[{\"id\":\"252242f1-d1ee-4ffa-b76a-561f3eb362e6\",\"type\":\"GlyphRenderer\"}]},\"id\":\"b97d3cec-5e62-4534-897f-7794751d56fb\",\"type\":\"LegendItem\"},{\"attributes\":{\"fill_alpha\":{\"value\":0.1},\"fill_color\":{\"value\":\"#1f77b4\"},\"line_alpha\":{\"value\":0.1},\"line_color\":{\"value\":\"#1f77b4\"},\"size\":{\"units\":\"screen\",\"value\":10},\"x\":{\"field\":\"x\"},\"y\":{\"field\":\"y\"}},\"id\":\"8afdc6a4-5584-4b93-91a2-920a626c7692\",\"type\":\"Circle\"},{\"attributes\":{\"line_color\":\"Orange\",\"line_width\":3,\"x\":{\"field\":\"x\"},\"y\":{\"field\":\"rebound\"}},\"id\":\"c376611d-90d1-4587-bdd8-e7d33311a014\",\"type\":\"Line\"},{\"attributes\":{\"fill_color\":{\"value\":\"#1f77b4\"},\"line_color\":{\"value\":\"#1f77b4\"},\"size\":{\"units\":\"screen\",\"value\":10},\"x\":{\"field\":\"x\"},\"y\":{\"field\":\"y\"}},\"id\":\"cb45ad2a-5f25-40bb-b537-389c38c028c3\",\"type\":\"Circle\"},{\"attributes\":{\"callback\":null,\"data\":{\"Team\":[\"PHW\",\"PHW\",\"PHW\",\"SFW\",\"SFW\",\"TOT\",\"SFW\",\"PHI\",\"PHI\",\"PHI\",\"PHI\",\"LAL\",\"LAL\",\"LAL\",\"LAL\",\"LAL\",\"NaN\"],\"assist\":{\"__ndarray__\":\"ZmZmZmZmAkBmZmZmZmb+PzMzMzMzMwNAMzMzMzMzC0AAAAAAAAAUQDMzMzMzMwtAzczMzMzMCEBmZmZmZmYOQM3MzMzMzBRAMzMzMzMzH0AzMzMzMzMhQAAAAAAAABJAZmZmZmZmEEAzMzMzMzMRQAAAAAAAABBAAAAAAAAAEkCamZmZmZkRQA==\",\"dtype\":\"float64\",\"shape\":[17]},\"name\":[\"Wilt Chamberlin\",\"Wilt Chamberlin\",\"Wilt Chamberlin\",\"Wilt Chamberlin\",\"Wilt Chamberlin\",\"Wilt Chamberlin\",\"Wilt Chamberlin\",\"Wilt Chamberlin\",\"Wilt Chamberlin\",\"Wilt Chamberlin\",\"Wilt Chamberlin\",\"Wilt Chamberlin\",\"Wilt Chamberlin\",\"Wilt Chamberlin\",\"Wilt Chamberlin\",\"Wilt Chamberlin\",\"NaN\"],\"rebound\":{\"__ndarray__\":\"AAAAAAAAO0AzMzMzMzM7QDMzMzMzszlAzczMzMxMOEDNzMzMzEw2QGZmZmZm5jZAAAAAAACAN0DNzMzMzEw2QJqZmZmZmThAMzMzMzMzOEDNzMzMzMw3QJqZmZmZGTVAZmZmZmZmMkAzMzMzMzMyQDMzMzMzMzNAmpmZmZmZMkBmZmZmZuY2QA==\",\"dtype\":\"float64\",\"shape\":[17]},\"twopointm\":{\"__ndarray__\":\"mpmZmZmZLUCamZmZmZkvQAAAAAAAADRAzczMzMxMMkAzMzMzMzMuQDMzMzMzMy1AMzMzMzOzMEBmZmZmZmYoQDMzMzMzMytAZmZmZmZmI0AAAAAAAAAkQJqZmZmZmR9AmpmZmZmZJUAzMzMzMzMgQAAAAAAAABhAzczMzMzMFEAzMzMzMzMoQA==\",\"dtype\":\"float64\",\"shape\":[17]},\"x\":[\"1959\",\"1960\",\"1961\",\"1962\",\"1963\",\"1964\",\"1964\",\"1964\",\"1965\",\"1966\",\"1967\",\"1968\",\"1969\",\"1970\",\"1971\",\"1972\",\"Career\"],\"y\":{\"__ndarray__\":\"zczMzMzMQkAzMzMzMzNDQDMzMzMzM0lAZmZmZmZmRkAzMzMzM3NCQJqZmZmZWUFAMzMzMzNzQ0CamZmZmRk+QAAAAAAAwEBAmpmZmZkZOEDNzMzMzEw4QAAAAAAAgDRAzczMzMxMO0AzMzMzM7M0QJqZmZmZmS1AZmZmZmZmKkCamZmZmRk+QA==\",\"dtype\":\"float64\",\"shape\":[17]}},\"selected\":{\"id\":\"7314612f-e194-4f63-83e0-e36e0ea597de\",\"type\":\"Selection\"},\"selection_policy\":{\"id\":\"ea0b983d-5d34-4730-9ab5-3040bb661fad\",\"type\":\"UnionRenderers\"}},\"id\":\"0b4153e7-096d-4d55-b206-886563a9d475\",\"type\":\"ColumnDataSource\"},{\"attributes\":{\"line_color\":\"purple\",\"line_width\":3,\"x\":{\"field\":\"x\"},\"y\":{\"field\":\"assist\"}},\"id\":\"a235e41a-e241-46b7-a593-72e312e84e7e\",\"type\":\"Line\"},{\"attributes\":{\"line_alpha\":0.2,\"line_color\":\"Red\",\"line_width\":3,\"x\":{\"field\":\"x\"},\"y\":{\"field\":\"y\"}},\"id\":\"d7e52145-a7b8-4b04-936d-64cf831b6e21\",\"type\":\"Line\"},{\"attributes\":{\"data_source\":{\"id\":\"fd7a7ab6-dfd0-4592-92b5-94a1a08ec828\",\"type\":\"ColumnDataSource\"},\"glyph\":{\"id\":\"70f88aa2-295f-4397-a580-a8502bb4127c\",\"type\":\"Line\"},\"hover_glyph\":null,\"muted_glyph\":{\"id\":\"d7e52145-a7b8-4b04-936d-64cf831b6e21\",\"type\":\"Line\"},\"nonselection_glyph\":{\"id\":\"e949fe06-7617-47b5-93e7-eb44a5459574\",\"type\":\"Line\"},\"selection_glyph\":null,\"view\":{\"id\":\"135dd238-5cbd-439f-933e-f2f6d4009d90\",\"type\":\"CDSView\"}},\"id\":\"fea40a63-e4b9-4091-85f3-56501c8240fb\",\"type\":\"GlyphRenderer\"},{\"attributes\":{\"source\":{\"id\":\"fd7a7ab6-dfd0-4592-92b5-94a1a08ec828\",\"type\":\"ColumnDataSource\"}},\"id\":\"135dd238-5cbd-439f-933e-f2f6d4009d90\",\"type\":\"CDSView\"},{\"attributes\":{\"axis_label\":\"Rebound Per Game\",\"formatter\":{\"id\":\"f9a202fa-e59f-4072-bc1d-e28aecb317eb\",\"type\":\"BasicTickFormatter\"},\"plot\":{\"id\":\"823c1f94-b92a-47c0-ab93-364c546f6984\",\"subtype\":\"Figure\",\"type\":\"Plot\"},\"ticker\":{\"id\":\"6f50873d-1dfe-4bc1-9f1f-56b3d5ff0d11\",\"type\":\"BasicTicker\"}},\"id\":\"1fca082d-4b28-42bb-8374-a865eb4d6514\",\"type\":\"LinearAxis\"},{\"attributes\":{},\"id\":\"7314612f-e194-4f63-83e0-e36e0ea597de\",\"type\":\"Selection\"},{\"attributes\":{\"child\":{\"id\":\"58c3d633-3416-4fc4-83e0-aecbfb9cdcdd\",\"subtype\":\"Figure\",\"type\":\"Plot\"},\"title\":\"Two Made Per Game\"},\"id\":\"8b95b476-4225-40ad-b2a4-a61fc9966ff4\",\"type\":\"Panel\"},{\"attributes\":{},\"id\":\"ea0b983d-5d34-4730-9ab5-3040bb661fad\",\"type\":\"UnionRenderers\"},{\"attributes\":{\"line_alpha\":0.2,\"line_width\":3,\"x\":{\"field\":\"x\"},\"y\":{\"field\":\"y\"}},\"id\":\"719d1234-9127-4c69-a8d6-7233a2796609\",\"type\":\"Line\"},{\"attributes\":{\"label\":{\"value\":\"Micheal Jordan (SG)\"},\"renderers\":[{\"id\":\"fea40a63-e4b9-4091-85f3-56501c8240fb\",\"type\":\"GlyphRenderer\"}]},\"id\":\"2fd71f3b-7bf5-467d-ad8c-2c33ec86f8e3\",\"type\":\"LegendItem\"},{\"attributes\":{\"line_alpha\":0.2,\"line_color\":\"Red\",\"line_width\":3,\"x\":{\"field\":\"x\"},\"y\":{\"field\":\"assist\"}},\"id\":\"b0622407-64d7-4766-87fb-94f5f5a04a43\",\"type\":\"Line\"},{\"attributes\":{\"data_source\":{\"id\":\"8ede8e08-3582-4e4c-aadc-1db27b3cd4fd\",\"type\":\"ColumnDataSource\"},\"glyph\":{\"id\":\"71526625-1b5a-479e-ba88-b0c3f63e3f1e\",\"type\":\"Line\"},\"hover_glyph\":null,\"muted_glyph\":{\"id\":\"719d1234-9127-4c69-a8d6-7233a2796609\",\"type\":\"Line\"},\"nonselection_glyph\":{\"id\":\"7232e66a-3768-40b1-9318-d35303473c85\",\"type\":\"Line\"},\"selection_glyph\":null,\"view\":{\"id\":\"9c3b1267-1b41-4a3c-8494-56abbd4a7eed\",\"type\":\"CDSView\"}},\"id\":\"398acfea-effe-4b7b-8292-fc3c1f5eeb0d\",\"type\":\"GlyphRenderer\"},{\"attributes\":{\"line_alpha\":0.1,\"line_color\":\"#1f77b4\",\"line_width\":3,\"x\":{\"field\":\"x\"},\"y\":{\"field\":\"y\"}},\"id\":\"7232e66a-3768-40b1-9318-d35303473c85\",\"type\":\"Line\"},{\"attributes\":{\"line_width\":3,\"x\":{\"field\":\"x\"},\"y\":{\"field\":\"y\"}},\"id\":\"71526625-1b5a-479e-ba88-b0c3f63e3f1e\",\"type\":\"Line\"},{\"attributes\":{},\"id\":\"80c86a3e-2aa4-430e-bc81-a4e5f47b2388\",\"type\":\"Selection\"},{\"attributes\":{\"source\":{\"id\":\"8ede8e08-3582-4e4c-aadc-1db27b3cd4fd\",\"type\":\"ColumnDataSource\"}},\"id\":\"9c3b1267-1b41-4a3c-8494-56abbd4a7eed\",\"type\":\"CDSView\"},{\"attributes\":{},\"id\":\"dc44d722-c6cb-40b9-b293-c0ac0ebd7060\",\"type\":\"Selection\"},{\"attributes\":{},\"id\":\"2e579968-e9f0-4d39-9e11-8d340832d5ea\",\"type\":\"UnionRenderers\"},{\"attributes\":{\"line_alpha\":0.2,\"line_color\":\"Orange\",\"line_width\":3,\"x\":{\"field\":\"x\"},\"y\":{\"field\":\"y\"}},\"id\":\"7e49cf11-c6aa-4d30-b72b-aceaea37573a\",\"type\":\"Line\"},{\"attributes\":{\"label\":{\"value\":\"LeBron James(SF)\"},\"renderers\":[{\"id\":\"398acfea-effe-4b7b-8292-fc3c1f5eeb0d\",\"type\":\"GlyphRenderer\"}]},\"id\":\"e4556b0a-d86b-4545-9017-98b0d56c64df\",\"type\":\"LegendItem\"},{\"attributes\":{\"line_color\":\"Pink\",\"line_width\":3,\"x\":{\"field\":\"x\"},\"y\":{\"field\":\"y\"}},\"id\":\"8c8d3489-20da-4094-a4b8-bd52fe3e5f27\",\"type\":\"Line\"},{\"attributes\":{\"data_source\":{\"id\":\"61a6ffc6-4266-4219-ab84-af0b9138d62f\",\"type\":\"ColumnDataSource\"},\"glyph\":{\"id\":\"b2493b65-2a4b-492a-bfd8-1ac0cdc9da80\",\"type\":\"Line\"},\"hover_glyph\":null,\"muted_glyph\":{\"id\":\"7e49cf11-c6aa-4d30-b72b-aceaea37573a\",\"type\":\"Line\"},\"nonselection_glyph\":{\"id\":\"bbb58225-13e7-4dd3-b77b-8fcf6a4adb4b\",\"type\":\"Line\"},\"selection_glyph\":null,\"view\":{\"id\":\"d7cafda4-e28d-4b2e-a74b-d05cf7dc9f15\",\"type\":\"CDSView\"}},\"id\":\"221ed0c0-64e2-40fc-a85f-2a87f2ae23c2\",\"type\":\"GlyphRenderer\"},{\"attributes\":{\"line_alpha\":0.1,\"line_color\":\"#1f77b4\",\"line_width\":3,\"x\":{\"field\":\"x\"},\"y\":{\"field\":\"y\"}},\"id\":\"bbb58225-13e7-4dd3-b77b-8fcf6a4adb4b\",\"type\":\"Line\"},{\"attributes\":{\"line_color\":\"Orange\",\"line_width\":3,\"x\":{\"field\":\"x\"},\"y\":{\"field\":\"y\"}},\"id\":\"b2493b65-2a4b-492a-bfd8-1ac0cdc9da80\",\"type\":\"Line\"},{\"attributes\":{\"source\":{\"id\":\"61a6ffc6-4266-4219-ab84-af0b9138d62f\",\"type\":\"ColumnDataSource\"}},\"id\":\"d7cafda4-e28d-4b2e-a74b-d05cf7dc9f15\",\"type\":\"CDSView\"},{\"attributes\":{\"data_source\":{\"id\":\"e9bb7a82-7d48-4707-93ea-132e332f1d79\",\"type\":\"ColumnDataSource\"},\"glyph\":{\"id\":\"8c8d3489-20da-4094-a4b8-bd52fe3e5f27\",\"type\":\"Line\"},\"hover_glyph\":null,\"muted_glyph\":{\"id\":\"7ba2d779-7c79-4bf8-ba6f-9dee4eafbc54\",\"type\":\"Line\"},\"nonselection_glyph\":{\"id\":\"ca1b2b93-8fc1-4b30-a0d2-807036271e6f\",\"type\":\"Line\"},\"selection_glyph\":null,\"view\":{\"id\":\"ade1443b-1097-4946-ab5f-82b3635c2443\",\"type\":\"CDSView\"}},\"id\":\"c5a501c0-3eaa-4114-990c-0ed5ab7fac06\",\"type\":\"GlyphRenderer\"},{\"attributes\":{\"line_alpha\":0.1,\"line_color\":\"#1f77b4\",\"line_width\":3,\"x\":{\"field\":\"x\"},\"y\":{\"field\":\"y\"}},\"id\":\"ca1b2b93-8fc1-4b30-a0d2-807036271e6f\",\"type\":\"Line\"},{\"attributes\":{},\"id\":\"dbfa9747-d5f4-4cf5-86ce-aede9ccf956a\",\"type\":\"UnionRenderers\"},{\"attributes\":{},\"id\":\"d0ad859a-3c68-4c6b-8f7c-ed2c16ab45e6\",\"type\":\"UnionRenderers\"},{\"attributes\":{\"line_alpha\":0.2,\"line_color\":\"Pink\",\"line_width\":3,\"x\":{\"field\":\"x\"},\"y\":{\"field\":\"y\"}},\"id\":\"7ba2d779-7c79-4bf8-ba6f-9dee4eafbc54\",\"type\":\"Line\"},{\"attributes\":{\"source\":{\"id\":\"e9bb7a82-7d48-4707-93ea-132e332f1d79\",\"type\":\"ColumnDataSource\"}},\"id\":\"ade1443b-1097-4946-ab5f-82b3635c2443\",\"type\":\"CDSView\"},{\"attributes\":{},\"id\":\"39a9e533-5cfd-4279-96a3-7633f99e42ed\",\"type\":\"Selection\"},{\"attributes\":{\"callback\":null,\"end\":2019,\"start\":1955},\"id\":\"49c9f881-66a0-439b-b9d1-f2377c1b012c\",\"type\":\"Range1d\"},{\"attributes\":{\"child\":{\"id\":\"823c1f94-b92a-47c0-ab93-364c546f6984\",\"subtype\":\"Figure\",\"type\":\"Plot\"},\"title\":\"Three Made Per Game\"},\"id\":\"2ddef4c1-c7e0-472e-94a5-a8c57b3347cb\",\"type\":\"Panel\"},{\"attributes\":{\"label\":{\"value\":\"Kareem Abdul-Jabbar(C)\"},\"renderers\":[{\"id\":\"c5a501c0-3eaa-4114-990c-0ed5ab7fac06\",\"type\":\"GlyphRenderer\"}]},\"id\":\"62366b01-65ca-41cc-acf3-3cc7536749c7\",\"type\":\"LegendItem\"},{\"attributes\":{},\"id\":\"dc24861a-3827-47e4-9b85-2bff19d58bab\",\"type\":\"UnionRenderers\"},{\"attributes\":{\"label\":{\"value\":\"Wilt Chamberlin(C)\"},\"renderers\":[{\"id\":\"ebd45b85-a272-4e11-bb4c-69e77cc6ef91\",\"type\":\"GlyphRenderer\"}]},\"id\":\"b9395a62-c208-4de3-97ea-673fb92c4be5\",\"type\":\"LegendItem\"},{\"attributes\":{\"child\":{\"id\":\"f48d8df6-1f27-4616-b192-943b772d9bb9\",\"subtype\":\"Figure\",\"type\":\"Plot\"},\"title\":\"Points Per Game\"},\"id\":\"1c0981e6-deb5-4bc4-93c5-9f73cdb7b67b\",\"type\":\"Panel\"},{\"attributes\":{\"active_drag\":\"auto\",\"active_inspect\":\"auto\",\"active_scroll\":\"auto\",\"active_tap\":\"auto\",\"tools\":[{\"id\":\"9eef10cb-4770-4f89-929c-4d1f339fb283\",\"type\":\"HoverTool\"},{\"id\":\"99c3c1c6-7583-4ece-bc3c-5452cb461a70\",\"type\":\"PanTool\"},{\"id\":\"2247696d-6e19-46b4-850f-6e5669d508bd\",\"type\":\"WheelZoomTool\"},{\"id\":\"b176eab4-7437-4c86-b17b-da377c137b66\",\"type\":\"ResetTool\"}]},\"id\":\"df6e7a1b-eeef-4530-ae55-de2df7297ab7\",\"type\":\"Toolbar\"},{\"attributes\":{\"child\":{\"id\":\"34386937-c671-4b22-87de-f326644a68d5\",\"subtype\":\"Figure\",\"type\":\"Plot\"},\"title\":\"Assists Per Game\"},\"id\":\"2472a64e-8c32-44d2-b614-13f2a51a2bf8\",\"type\":\"Panel\"},{\"attributes\":{\"plot\":null,\"text\":\"Assists Per Game\"},\"id\":\"781d6d18-6598-430e-b7c8-714169ffd1aa\",\"type\":\"Title\"},{\"attributes\":{\"label\":{\"value\":\"Micheal Jordan (SG)\"},\"renderers\":[{\"id\":\"4ed86e40-3caf-4306-98d9-d42030c423df\",\"type\":\"GlyphRenderer\"}]},\"id\":\"c41363b2-406d-4e09-8773-43d3cda117a2\",\"type\":\"LegendItem\"},{\"attributes\":{\"callback\":null,\"tabs\":[{\"id\":\"1c0981e6-deb5-4bc4-93c5-9f73cdb7b67b\",\"type\":\"Panel\"},{\"id\":\"2472a64e-8c32-44d2-b614-13f2a51a2bf8\",\"type\":\"Panel\"},{\"id\":\"6ae061b1-1c3e-4793-b7b7-ede0ab4406f6\",\"type\":\"Panel\"},{\"id\":\"2ddef4c1-c7e0-472e-94a5-a8c57b3347cb\",\"type\":\"Panel\"},{\"id\":\"8b95b476-4225-40ad-b2a4-a61fc9966ff4\",\"type\":\"Panel\"}]},\"id\":\"f94c464d-2f01-4c50-9965-dd3b554d59b3\",\"type\":\"Tabs\"},{\"attributes\":{\"click_policy\":\"mute\",\"items\":[{\"id\":\"f04ec65d-a7ae-4867-a64d-64b497ba5dc2\",\"type\":\"LegendItem\"},{\"id\":\"ca2a92e5-a3d4-43e3-9b06-8d735f3f1975\",\"type\":\"LegendItem\"},{\"id\":\"8c5c3dc2-5e30-410f-be88-b776a93b8d8f\",\"type\":\"LegendItem\"},{\"id\":\"5b6cf7f2-0979-44b2-80b7-24c1420c8df6\",\"type\":\"LegendItem\"},{\"id\":\"b97d3cec-5e62-4534-897f-7794751d56fb\",\"type\":\"LegendItem\"},{\"id\":\"c3ddc0ea-b08a-4fce-9fd4-175856738484\",\"type\":\"LegendItem\"},{\"id\":\"f59e9c1e-4d91-4388-9ef9-cd459cfe8879\",\"type\":\"LegendItem\"},{\"id\":\"810678e6-7027-422d-8e28-1f2795c3ef19\",\"type\":\"LegendItem\"}],\"plot\":{\"id\":\"11fcc7cc-1add-4cc8-8846-d2f35c4dfec7\",\"subtype\":\"Figure\",\"type\":\"Plot\"}},\"id\":\"2d0ccfa1-6680-4ef2-bc15-9ab3a25744fc\",\"type\":\"Legend\"},{\"attributes\":{\"callback\":null,\"end\":15},\"id\":\"4adc3ee1-f204-4426-8649-4ac92351c072\",\"type\":\"Range1d\"},{\"attributes\":{},\"id\":\"7ddad797-48f8-4b38-be0c-e193016158f9\",\"type\":\"LinearScale\"},{\"attributes\":{\"child\":{\"id\":\"11fcc7cc-1add-4cc8-8846-d2f35c4dfec7\",\"subtype\":\"Figure\",\"type\":\"Plot\"},\"title\":\"Rebound Per Game\"},\"id\":\"6ae061b1-1c3e-4793-b7b7-ede0ab4406f6\",\"type\":\"Panel\"},{\"attributes\":{},\"id\":\"c7bf75b4-5f89-4d4e-93a3-73f74c1d9ca1\",\"type\":\"LinearScale\"},{\"attributes\":{\"plot\":{\"id\":\"34386937-c671-4b22-87de-f326644a68d5\",\"subtype\":\"Figure\",\"type\":\"Plot\"},\"ticker\":{\"id\":\"bac13ad9-0cd2-4e33-b1d4-d53ca90e4ad6\",\"type\":\"BasicTicker\"}},\"id\":\"ca62cae5-69ce-4459-9fbe-8876dff57254\",\"type\":\"Grid\"},{\"attributes\":{\"axis_label\":\"Year Season\",\"formatter\":{\"id\":\"ab1c271f-124c-4374-91e4-6dedaeca1ca6\",\"type\":\"BasicTickFormatter\"},\"plot\":{\"id\":\"34386937-c671-4b22-87de-f326644a68d5\",\"subtype\":\"Figure\",\"type\":\"Plot\"},\"ticker\":{\"id\":\"bac13ad9-0cd2-4e33-b1d4-d53ca90e4ad6\",\"type\":\"BasicTicker\"}},\"id\":\"8008d29f-65a6-4f89-b1c7-100749f0865c\",\"type\":\"LinearAxis\"},{\"attributes\":{},\"id\":\"bac13ad9-0cd2-4e33-b1d4-d53ca90e4ad6\",\"type\":\"BasicTicker\"},{\"attributes\":{\"axis_label\":\"Assits Per Game\",\"formatter\":{\"id\":\"a92cfe04-3ec9-4a8d-b28d-9edb3a2a53a3\",\"type\":\"BasicTickFormatter\"},\"plot\":{\"id\":\"34386937-c671-4b22-87de-f326644a68d5\",\"subtype\":\"Figure\",\"type\":\"Plot\"},\"ticker\":{\"id\":\"e9447d3e-fb9b-4f25-b88e-93816d897ff9\",\"type\":\"BasicTicker\"}},\"id\":\"f5f0f252-420d-4a1d-81a7-96b2f53e526b\",\"type\":\"LinearAxis\"},{\"attributes\":{},\"id\":\"e9447d3e-fb9b-4f25-b88e-93816d897ff9\",\"type\":\"BasicTicker\"},{\"attributes\":{\"dimension\":1,\"plot\":{\"id\":\"34386937-c671-4b22-87de-f326644a68d5\",\"subtype\":\"Figure\",\"type\":\"Plot\"},\"ticker\":{\"id\":\"e9447d3e-fb9b-4f25-b88e-93816d897ff9\",\"type\":\"BasicTicker\"}},\"id\":\"fa20a8d5-76e9-46f7-9d35-420eaf09e8f9\",\"type\":\"Grid\"},{\"attributes\":{},\"id\":\"ab1c271f-124c-4374-91e4-6dedaeca1ca6\",\"type\":\"BasicTickFormatter\"},{\"attributes\":{\"data_source\":{\"id\":\"cd3bb85f-bdea-4daf-be0d-5f3a717f29cd\",\"type\":\"ColumnDataSource\"},\"glyph\":{\"id\":\"a235e41a-e241-46b7-a593-72e312e84e7e\",\"type\":\"Line\"},\"hover_glyph\":null,\"muted_glyph\":{\"id\":\"48a46e60-7a9f-42f0-be70-50e818509ba5\",\"type\":\"Line\"},\"nonselection_glyph\":{\"id\":\"9d30d068-e6be-445c-9238-07a2aabda906\",\"type\":\"Line\"},\"selection_glyph\":null,\"view\":{\"id\":\"58e44fb1-fad2-4575-bf98-644e777e629a\",\"type\":\"CDSView\"}},\"id\":\"aab586ac-0e5e-4f40-9220-f5ef8cfa088e\",\"type\":\"GlyphRenderer\"},{\"attributes\":{},\"id\":\"99c3c1c6-7583-4ece-bc3c-5452cb461a70\",\"type\":\"PanTool\"},{\"attributes\":{\"source\":{\"id\":\"cd3bb85f-bdea-4daf-be0d-5f3a717f29cd\",\"type\":\"ColumnDataSource\"}},\"id\":\"58e44fb1-fad2-4575-bf98-644e777e629a\",\"type\":\"CDSView\"},{\"attributes\":{},\"id\":\"2247696d-6e19-46b4-850f-6e5669d508bd\",\"type\":\"WheelZoomTool\"},{\"attributes\":{},\"id\":\"b176eab4-7437-4c86-b17b-da377c137b66\",\"type\":\"ResetTool\"},{\"attributes\":{\"line_alpha\":0.2,\"line_color\":\"purple\",\"line_width\":3,\"x\":{\"field\":\"x\"},\"y\":{\"field\":\"assist\"}},\"id\":\"48a46e60-7a9f-42f0-be70-50e818509ba5\",\"type\":\"Line\"},{\"attributes\":{},\"id\":\"46686d43-6980-4e07-a2c4-7a6bdac2c8b0\",\"type\":\"Selection\"},{\"attributes\":{\"line_alpha\":0.1,\"line_color\":\"#1f77b4\",\"line_width\":3,\"x\":{\"field\":\"x\"},\"y\":{\"field\":\"assist\"}},\"id\":\"9d30d068-e6be-445c-9238-07a2aabda906\",\"type\":\"Line\"},{\"attributes\":{},\"id\":\"81debea8-151a-4fba-b04a-7b34160bad60\",\"type\":\"Selection\"},{\"attributes\":{\"click_policy\":\"mute\",\"items\":[{\"id\":\"87903ca5-a0e0-4093-8643-e5d0969adb3b\",\"type\":\"LegendItem\"},{\"id\":\"5cb0a521-e5ff-4df1-b54c-efcccc8fc175\",\"type\":\"LegendItem\"},{\"id\":\"b9395a62-c208-4de3-97ea-673fb92c4be5\",\"type\":\"LegendItem\"},{\"id\":\"c41363b2-406d-4e09-8773-43d3cda117a2\",\"type\":\"LegendItem\"},{\"id\":\"74ba7b69-e96f-48c7-a29b-cb8d9a126f65\",\"type\":\"LegendItem\"},{\"id\":\"6089d0a4-6ea9-479a-a480-cf46d9eafc3e\",\"type\":\"LegendItem\"},{\"id\":\"4601bd69-478b-46b3-ae73-fd3cea0ff53f\",\"type\":\"LegendItem\"},{\"id\":\"e1ca60f5-d0b6-4da3-8b01-2f84149637f4\",\"type\":\"LegendItem\"}],\"plot\":{\"id\":\"34386937-c671-4b22-87de-f326644a68d5\",\"subtype\":\"Figure\",\"type\":\"Plot\"}},\"id\":\"1eb62205-6f53-4f24-b3e9-feb84111acb6\",\"type\":\"Legend\"},{\"attributes\":{},\"id\":\"a92cfe04-3ec9-4a8d-b28d-9edb3a2a53a3\",\"type\":\"BasicTickFormatter\"},{\"attributes\":{\"label\":{\"value\":\"Kobe Bryant(SG)\"},\"renderers\":[{\"id\":\"aab586ac-0e5e-4f40-9220-f5ef8cfa088e\",\"type\":\"GlyphRenderer\"}]},\"id\":\"87903ca5-a0e0-4093-8643-e5d0969adb3b\",\"type\":\"LegendItem\"},{\"attributes\":{\"label\":{\"value\":\"Kobe Bryant(SG)\"},\"renderers\":[{\"id\":\"1350d8fc-6e2b-4939-9475-87fe65696514\",\"type\":\"GlyphRenderer\"}]},\"id\":\"f04ec65d-a7ae-4867-a64d-64b497ba5dc2\",\"type\":\"LegendItem\"},{\"attributes\":{\"line_color\":\"gold\",\"line_width\":3,\"x\":{\"field\":\"x\"},\"y\":{\"field\":\"assist\"}},\"id\":\"70a64096-8ea9-4ffd-b346-755369ca8ec9\",\"type\":\"Line\"},{\"attributes\":{\"data_source\":{\"id\":\"79013d9c-a5cb-4882-ba6c-9acb8d841ced\",\"type\":\"ColumnDataSource\"},\"glyph\":{\"id\":\"70a64096-8ea9-4ffd-b346-755369ca8ec9\",\"type\":\"Line\"},\"hover_glyph\":null,\"muted_glyph\":{\"id\":\"519524c1-3cbe-4c68-86f7-46578cfbe603\",\"type\":\"Line\"},\"nonselection_glyph\":{\"id\":\"ee07f6d9-d767-4051-96c7-84711afb50f5\",\"type\":\"Line\"},\"selection_glyph\":null,\"view\":{\"id\":\"5f00444e-0c64-4b98-b39b-a9060b62c3b7\",\"type\":\"CDSView\"}},\"id\":\"898a7e95-ebfa-4457-aed4-306deeb96ab7\",\"type\":\"GlyphRenderer\"},{\"attributes\":{},\"id\":\"db133533-01e3-43de-8889-e7de1053d75e\",\"type\":\"BasicTicker\"},{\"attributes\":{\"line_alpha\":0.1,\"line_color\":\"#1f77b4\",\"line_width\":3,\"x\":{\"field\":\"x\"},\"y\":{\"field\":\"assist\"}},\"id\":\"ee07f6d9-d767-4051-96c7-84711afb50f5\",\"type\":\"Line\"},{\"attributes\":{\"line_alpha\":0.2,\"line_color\":\"gold\",\"line_width\":3,\"x\":{\"field\":\"x\"},\"y\":{\"field\":\"assist\"}},\"id\":\"519524c1-3cbe-4c68-86f7-46578cfbe603\",\"type\":\"Line\"},{\"attributes\":{\"source\":{\"id\":\"79013d9c-a5cb-4882-ba6c-9acb8d841ced\",\"type\":\"ColumnDataSource\"}},\"id\":\"5f00444e-0c64-4b98-b39b-a9060b62c3b7\",\"type\":\"CDSView\"},{\"attributes\":{\"line_alpha\":0.1,\"line_color\":\"#1f77b4\",\"line_width\":3,\"x\":{\"field\":\"x\"},\"y\":{\"field\":\"assist\"}},\"id\":\"773154e4-2687-4574-b2f6-af337d4fdb79\",\"type\":\"Line\"},{\"attributes\":{\"label\":{\"value\":\"Steph Curry(PG)\"},\"renderers\":[{\"id\":\"898a7e95-ebfa-4457-aed4-306deeb96ab7\",\"type\":\"GlyphRenderer\"}]},\"id\":\"5cb0a521-e5ff-4df1-b54c-efcccc8fc175\",\"type\":\"LegendItem\"},{\"attributes\":{\"line_alpha\":0.2,\"line_color\":\"Silver\",\"line_width\":3,\"x\":{\"field\":\"x\"},\"y\":{\"field\":\"assist\"}},\"id\":\"e4213dc0-3e2f-41b8-a4df-bd520e7f62fb\",\"type\":\"Line\"},{\"attributes\":{},\"id\":\"6f50873d-1dfe-4bc1-9f1f-56b3d5ff0d11\",\"type\":\"BasicTicker\"},{\"attributes\":{\"line_alpha\":0.1,\"line_color\":\"#1f77b4\",\"line_width\":3,\"x\":{\"field\":\"x\"},\"y\":{\"field\":\"assist\"}},\"id\":\"fc797591-33a8-46f7-8803-c080f2ee6bb0\",\"type\":\"Line\"},{\"attributes\":{\"line_color\":\"Silver\",\"line_width\":3,\"x\":{\"field\":\"x\"},\"y\":{\"field\":\"assist\"}},\"id\":\"06cf9981-98b1-4302-bde7-782f08302f57\",\"type\":\"Line\"},{\"attributes\":{\"data_source\":{\"id\":\"0b4153e7-096d-4d55-b206-886563a9d475\",\"type\":\"ColumnDataSource\"},\"glyph\":{\"id\":\"06cf9981-98b1-4302-bde7-782f08302f57\",\"type\":\"Line\"},\"hover_glyph\":null,\"muted_glyph\":{\"id\":\"e4213dc0-3e2f-41b8-a4df-bd520e7f62fb\",\"type\":\"Line\"},\"nonselection_glyph\":{\"id\":\"fc797591-33a8-46f7-8803-c080f2ee6bb0\",\"type\":\"Line\"},\"selection_glyph\":null,\"view\":{\"id\":\"818435a0-c085-4eb1-ab63-5199699a0ff5\",\"type\":\"CDSView\"}},\"id\":\"ebd45b85-a272-4e11-bb4c-69e77cc6ef91\",\"type\":\"GlyphRenderer\"},{\"attributes\":{\"source\":{\"id\":\"0b4153e7-096d-4d55-b206-886563a9d475\",\"type\":\"ColumnDataSource\"}},\"id\":\"818435a0-c085-4eb1-ab63-5199699a0ff5\",\"type\":\"CDSView\"},{\"attributes\":{\"line_color\":\"Red\",\"line_width\":3,\"x\":{\"field\":\"x\"},\"y\":{\"field\":\"assist\"}},\"id\":\"cda74edc-32db-4475-b09d-5648bd97a79c\",\"type\":\"Line\"},{\"attributes\":{\"data_source\":{\"id\":\"fd7a7ab6-dfd0-4592-92b5-94a1a08ec828\",\"type\":\"ColumnDataSource\"},\"glyph\":{\"id\":\"cda74edc-32db-4475-b09d-5648bd97a79c\",\"type\":\"Line\"},\"hover_glyph\":null,\"muted_glyph\":{\"id\":\"b0622407-64d7-4766-87fb-94f5f5a04a43\",\"type\":\"Line\"},\"nonselection_glyph\":{\"id\":\"773154e4-2687-4574-b2f6-af337d4fdb79\",\"type\":\"Line\"},\"selection_glyph\":null,\"view\":{\"id\":\"d084b3d0-297b-44a0-8f25-882f0a78c5f6\",\"type\":\"CDSView\"}},\"id\":\"4ed86e40-3caf-4306-98d9-d42030c423df\",\"type\":\"GlyphRenderer\"},{\"attributes\":{\"source\":{\"id\":\"fd7a7ab6-dfd0-4592-92b5-94a1a08ec828\",\"type\":\"ColumnDataSource\"}},\"id\":\"d084b3d0-297b-44a0-8f25-882f0a78c5f6\",\"type\":\"CDSView\"},{\"attributes\":{},\"id\":\"065693a7-1f0a-4278-9563-5962eced3616\",\"type\":\"UnionRenderers\"},{\"attributes\":{\"line_alpha\":0.2,\"line_color\":\"Orange\",\"line_width\":3,\"x\":{\"field\":\"x\"},\"y\":{\"field\":\"rebound\"}},\"id\":\"79b9d003-ec8c-43ab-a5d7-9b9fd5006f2d\",\"type\":\"Line\"},{\"attributes\":{\"below\":[{\"id\":\"8a062345-f92c-4b33-bc2d-a30f4c80d772\",\"type\":\"LinearAxis\"}],\"left\":[{\"id\":\"1fca082d-4b28-42bb-8374-a865eb4d6514\",\"type\":\"LinearAxis\"}],\"plot_height\":500,\"plot_width\":1000,\"renderers\":[{\"id\":\"8a062345-f92c-4b33-bc2d-a30f4c80d772\",\"type\":\"LinearAxis\"},{\"id\":\"f7cd1734-ed4a-4b29-bdd9-ee1954111e9d\",\"type\":\"Grid\"},{\"id\":\"1fca082d-4b28-42bb-8374-a865eb4d6514\",\"type\":\"LinearAxis\"},{\"id\":\"c4fb5c1c-97b1-42e1-a9f7-472b442264a9\",\"type\":\"Grid\"},{\"id\":\"a372e831-68fb-4db1-84e7-716a8e1cda8d\",\"type\":\"Legend\"},{\"id\":\"577276aa-db00-4b2c-b163-3533deab4528\",\"type\":\"GlyphRenderer\"},{\"id\":\"cffd9517-5d2c-4c54-af51-074d49da6c0d\",\"type\":\"GlyphRenderer\"},{\"id\":\"8a502f33-2ff4-46a0-8143-def299bb00a4\",\"type\":\"GlyphRenderer\"},{\"id\":\"585b2add-fca2-4fb3-ad51-2969431c72c6\",\"type\":\"GlyphRenderer\"},{\"id\":\"ac2bca6e-bad5-4f5c-a965-500d2fa8be31\",\"type\":\"GlyphRenderer\"},{\"id\":\"00e19fe3-f546-4758-8e7d-c487d1d90c7f\",\"type\":\"GlyphRenderer\"},{\"id\":\"fcb50fdb-5d2c-4bac-89f9-1c394d0047d0\",\"type\":\"GlyphRenderer\"}],\"right\":[{\"id\":\"a372e831-68fb-4db1-84e7-716a8e1cda8d\",\"type\":\"Legend\"}],\"title\":{\"id\":\"35dc5ea0-ac02-48a9-bbbd-2a24cd3ad275\",\"type\":\"Title\"},\"toolbar\":{\"id\":\"50d25965-4f68-44f0-b70c-f76f3712d249\",\"type\":\"Toolbar\"},\"toolbar_location\":\"left\",\"x_range\":{\"id\":\"e882747a-d76b-4400-904f-52b5e08bc385\",\"type\":\"Range1d\"},\"x_scale\":{\"id\":\"e3ecd843-8cff-45cd-96b7-429aa0147ff7\",\"type\":\"LinearScale\"},\"y_range\":{\"id\":\"11038ddd-e2e5-44c4-be93-28dda1562d4b\",\"type\":\"Range1d\"},\"y_scale\":{\"id\":\"cf74bce3-8e86-4950-b708-cb7bd63d0927\",\"type\":\"LinearScale\"}},\"id\":\"823c1f94-b92a-47c0-ab93-364c546f6984\",\"subtype\":\"Figure\",\"type\":\"Plot\"},{\"attributes\":{\"data_source\":{\"id\":\"12783063-5aae-4cf9-adde-557100941d0b\",\"type\":\"ColumnDataSource\"},\"glyph\":{\"id\":\"cb45ad2a-5f25-40bb-b537-389c38c028c3\",\"type\":\"Circle\"},\"hover_glyph\":null,\"muted_glyph\":{\"id\":\"e275cd18-adda-4359-bff1-eaa61e7add87\",\"type\":\"Circle\"},\"nonselection_glyph\":{\"id\":\"8afdc6a4-5584-4b93-91a2-920a626c7692\",\"type\":\"Circle\"},\"selection_glyph\":null,\"view\":{\"id\":\"e45cd1f4-42d3-47d2-b21d-bcf3c0aa66f7\",\"type\":\"CDSView\"}},\"id\":\"5a0d905a-fc01-4774-958c-3e998aecfd6c\",\"type\":\"GlyphRenderer\"},{\"attributes\":{\"data_source\":{\"id\":\"61a6ffc6-4266-4219-ab84-af0b9138d62f\",\"type\":\"ColumnDataSource\"},\"glyph\":{\"id\":\"c376611d-90d1-4587-bdd8-e7d33311a014\",\"type\":\"Line\"},\"hover_glyph\":null,\"muted_glyph\":{\"id\":\"79b9d003-ec8c-43ab-a5d7-9b9fd5006f2d\",\"type\":\"Line\"},\"nonselection_glyph\":{\"id\":\"fd3f4120-4b0f-42db-a5fa-3976ad8106c3\",\"type\":\"Line\"},\"selection_glyph\":null,\"view\":{\"id\":\"5e5a23bb-5e10-4b5d-8ff8-41e12aae454b\",\"type\":\"CDSView\"}},\"id\":\"18cba762-b952-48f4-b1db-edf24cd93103\",\"type\":\"GlyphRenderer\"},{\"attributes\":{\"source\":{\"id\":\"12783063-5aae-4cf9-adde-557100941d0b\",\"type\":\"ColumnDataSource\"}},\"id\":\"e45cd1f4-42d3-47d2-b21d-bcf3c0aa66f7\",\"type\":\"CDSView\"},{\"attributes\":{\"source\":{\"id\":\"61a6ffc6-4266-4219-ab84-af0b9138d62f\",\"type\":\"ColumnDataSource\"}},\"id\":\"5e5a23bb-5e10-4b5d-8ff8-41e12aae454b\",\"type\":\"CDSView\"},{\"attributes\":{\"fill_alpha\":{\"value\":0.2},\"fill_color\":{\"value\":\"Pink\"},\"line_alpha\":{\"value\":0.2},\"line_color\":{\"value\":\"Pink\"},\"size\":{\"units\":\"screen\",\"value\":10},\"x\":{\"field\":\"x\"},\"y\":{\"field\":\"y\"}},\"id\":\"de323790-08ef-4333-a229-df19bc653106\",\"type\":\"Circle\"},{\"attributes\":{\"callback\":null,\"data\":{\"Team\":[\"CLE\",\"CLE\",\"CLE\",\"CLE\",\"CLE\",\"CLE\",\"CLE\",\"MIA\",\"MIA\",\"MIA\",\"MIA\",\"CLE\",\"CLE\",\"CLE\",\"CLE\",\"LAL\",\"NaN\"],\"assist\":{\"__ndarray__\":\"mpmZmZmZF0DNzMzMzMwcQGZmZmZmZhpAAAAAAAAAGEDNzMzMzMwcQM3MzMzMzBxAMzMzMzMzIUAAAAAAAAAcQM3MzMzMzBhAMzMzMzMzHUAzMzMzMzMZQJqZmZmZmR1AMzMzMzMzG0BmZmZmZmYhQDMzMzMzMyJAZmZmZmZmHkDNzMzMzMwcQA==\",\"dtype\":\"float64\",\"shape\":[17]},\"name\":[\"Lebron James\",\"Lebron James\",\"Lebron James\",\"Lebron James\",\"Lebron James\",\"Lebron James\",\"Lebron James\",\"Lebron James\",\"Lebron James\",\"Lebron James\",\"Lebron James\",\"Lebron James\",\"Lebron James\",\"Lebron James\",\"Lebron James\",\"Lebron James\",\"Lebron James\"],\"rebound\":{\"__ndarray__\":\"AAAAAAAAFkCamZmZmZkdQAAAAAAAABxAzczMzMzMGkCamZmZmZkfQGZmZmZmZh5AMzMzMzMzHUAAAAAAAAAeQJqZmZmZmR9AAAAAAAAAIECamZmZmZkbQAAAAAAAABhAmpmZmZmZHUAzMzMzMzMhQDMzMzMzMyFAMzMzMzMzIUCamZmZmZkdQA==\",\"dtype\":\"float64\",\"shape\":[17]},\"threepointm\":{\"__ndarray__\":\"mpmZmZmZ6T9mZmZmZmb2P5qZmZmZmfk/zczMzMzM9D8AAAAAAAD4P5qZmZmZmfk/MzMzMzMz+z8zMzMzMzPzP83MzMzMzOw/ZmZmZmZm9j8AAAAAAAD4PzMzMzMzM/s/mpmZmZmZ8T8zMzMzMzP7P83MzMzMzPw/zczMzMzMAEBmZmZmZmb2Pw==\",\"dtype\":\"float64\",\"shape\":[17]},\"twopointm\":{\"__ndarray__\":\"ZmZmZmZmHEAzMzMzMzMhQAAAAAAAACNAMzMzMzMzIUAzMzMzMzMiQDMzMzMzMyBAzczMzMzMIEDNzMzMzMwgQDMzMzMzMyJAZmZmZmZmIUAAAAAAAAAhQDMzMzMzMx1AMzMzMzMzIUCamZmZmZkgQDMzMzMzMyFAzczMzMzMHkDNzMzMzMwgQA==\",\"dtype\":\"float64\",\"shape\":[17]},\"x\":[\"2003\",\"2004\",\"2005\",\"2006\",\"2007\",\"2008\",\"2009\",\"2010\",\"2011\",\"2012\",\"2013\",\"2014\",\"2015\",\"2016\",\"2017\",\"2018\",\"Career\"],\"y\":{\"__ndarray__\":\"ZmZmZmbmNEAzMzMzMzM7QGZmZmZmZj9AzczMzMxMO0AAAAAAAAA+QGZmZmZmZjxAMzMzMzOzPUAzMzMzM7M6QJqZmZmZGTtAzczMzMzMOkCamZmZmRk7QM3MzMzMTDlAzczMzMxMOUBmZmZmZmY6QAAAAAAAgDtAzczMzMzMOkCamZmZmRk7QA==\",\"dtype\":\"float64\",\"shape\":[17]}},\"selected\":{\"id\":\"9703e8e4-bf5f-4fe1-b086-805be8dc58f5\",\"type\":\"Selection\"},\"selection_policy\":{\"id\":\"2d3d63d3-efb4-42cc-82ea-7a10c613d782\",\"type\":\"UnionRenderers\"}},\"id\":\"8ede8e08-3582-4e4c-aadc-1db27b3cd4fd\",\"type\":\"ColumnDataSource\"},{\"attributes\":{\"plot\":null,\"text\":\"Two Made Per Game\"},\"id\":\"4f190dee-a4cd-4a18-b28e-c020727cad9d\",\"type\":\"Title\"},{\"attributes\":{\"fill_alpha\":{\"value\":0.1},\"fill_color\":{\"value\":\"#1f77b4\"},\"line_alpha\":{\"value\":0.1},\"line_color\":{\"value\":\"#1f77b4\"},\"size\":{\"units\":\"screen\",\"value\":10},\"x\":{\"field\":\"x\"},\"y\":{\"field\":\"y\"}},\"id\":\"e480558d-c46b-49fe-87b7-a51d05e35106\",\"type\":\"Circle\"},{\"attributes\":{\"data_source\":{\"id\":\"46e0ed03-abce-454e-9786-251de6c3fdac\",\"type\":\"ColumnDataSource\"},\"glyph\":{\"id\":\"dd870d7c-ced4-4f64-9e8f-6f4395fc9cc3\",\"type\":\"Circle\"},\"hover_glyph\":null,\"muted_glyph\":{\"id\":\"966f1b4d-77a3-41a7-9c21-8b1754c25388\",\"type\":\"Circle\"},\"nonselection_glyph\":{\"id\":\"67fae2fe-d2e0-4943-ad04-f0bdf8457a3e\",\"type\":\"Circle\"},\"selection_glyph\":null,\"view\":{\"id\":\"06a761c8-74a6-4ded-9a72-f9a8ff593b39\",\"type\":\"CDSView\"}},\"id\":\"162453b0-8a49-4975-a2b4-5eff2a6bc4b2\",\"type\":\"GlyphRenderer\"},{\"attributes\":{\"label\":{\"value\":\"Magic Johnson(PG)\"},\"renderers\":[{\"id\":\"18cba762-b952-48f4-b1db-edf24cd93103\",\"type\":\"GlyphRenderer\"}]},\"id\":\"c3ddc0ea-b08a-4fce-9fd4-175856738484\",\"type\":\"LegendItem\"},{\"attributes\":{\"callback\":null,\"renderers\":\"auto\",\"tooltips\":[[\"Season\",\"@x\"],[\"Name\",\"@name\"],[\"Point Per Game\",\"@y\"],[\"Team\",\"@Team\"]]},\"id\":\"e8f2dd81-9010-4265-bcfe-6a6d390706c1\",\"type\":\"HoverTool\"},{\"attributes\":{\"label\":{\"value\":\"Average Stats of Stats\"},\"renderers\":[{\"id\":\"5a0d905a-fc01-4774-958c-3e998aecfd6c\",\"type\":\"GlyphRenderer\"}]},\"id\":\"810678e6-7027-422d-8e28-1f2795c3ef19\",\"type\":\"LegendItem\"},{\"attributes\":{\"line_alpha\":0.2,\"line_color\":\"Pink\",\"line_width\":3,\"x\":{\"field\":\"x\"},\"y\":{\"field\":\"rebound\"}},\"id\":\"e18899e6-5d5b-466f-956b-0bf6899f5320\",\"type\":\"Line\"},{\"attributes\":{\"line_alpha\":0.1,\"line_color\":\"#1f77b4\",\"line_width\":3,\"x\":{\"field\":\"x\"},\"y\":{\"field\":\"rebound\"}},\"id\":\"2cb600e3-e7ea-488c-bc78-62bc4a6ca975\",\"type\":\"Line\"},{\"attributes\":{\"fill_color\":{\"value\":\"#1f77b4\"},\"line_color\":{\"value\":\"#1f77b4\"},\"size\":{\"units\":\"screen\",\"value\":10},\"x\":{\"field\":\"x\"},\"y\":{\"field\":\"y\"}},\"id\":\"85a94919-da71-4823-a996-91a40db4acb0\",\"type\":\"Circle\"},{\"attributes\":{\"data_source\":{\"id\":\"3433129e-7af2-48ee-8258-f9ec64113a6f\",\"type\":\"ColumnDataSource\"},\"glyph\":{\"id\":\"85a94919-da71-4823-a996-91a40db4acb0\",\"type\":\"Circle\"},\"hover_glyph\":null,\"muted_glyph\":{\"id\":\"de323790-08ef-4333-a229-df19bc653106\",\"type\":\"Circle\"},\"nonselection_glyph\":{\"id\":\"e480558d-c46b-49fe-87b7-a51d05e35106\",\"type\":\"Circle\"},\"selection_glyph\":null,\"view\":{\"id\":\"4293d76a-4089-4242-894d-a0ea6e6c8022\",\"type\":\"CDSView\"}},\"id\":\"fcb50fdb-5d2c-4bac-89f9-1c394d0047d0\",\"type\":\"GlyphRenderer\"},{\"attributes\":{\"line_color\":\"Pink\",\"line_width\":3,\"x\":{\"field\":\"x\"},\"y\":{\"field\":\"rebound\"}},\"id\":\"adcd2ecb-ffca-48ca-9968-b48ae8fc4f8d\",\"type\":\"Line\"},{\"attributes\":{\"data_source\":{\"id\":\"e9bb7a82-7d48-4707-93ea-132e332f1d79\",\"type\":\"ColumnDataSource\"},\"glyph\":{\"id\":\"adcd2ecb-ffca-48ca-9968-b48ae8fc4f8d\",\"type\":\"Line\"},\"hover_glyph\":null,\"muted_glyph\":{\"id\":\"e18899e6-5d5b-466f-956b-0bf6899f5320\",\"type\":\"Line\"},\"nonselection_glyph\":{\"id\":\"2cb600e3-e7ea-488c-bc78-62bc4a6ca975\",\"type\":\"Line\"},\"selection_glyph\":null,\"view\":{\"id\":\"207cf146-ae46-4602-82af-649426ae0f36\",\"type\":\"CDSView\"}},\"id\":\"3a7decef-6708-43e4-b5e2-7cfcdde561a5\",\"type\":\"GlyphRenderer\"},{\"attributes\":{\"source\":{\"id\":\"3433129e-7af2-48ee-8258-f9ec64113a6f\",\"type\":\"ColumnDataSource\"}},\"id\":\"4293d76a-4089-4242-894d-a0ea6e6c8022\",\"type\":\"CDSView\"},{\"attributes\":{\"source\":{\"id\":\"e9bb7a82-7d48-4707-93ea-132e332f1d79\",\"type\":\"ColumnDataSource\"}},\"id\":\"207cf146-ae46-4602-82af-649426ae0f36\",\"type\":\"CDSView\"},{\"attributes\":{\"fill_color\":{\"value\":\"#1f77b4\"},\"line_color\":{\"value\":\"#1f77b4\"},\"size\":{\"units\":\"screen\",\"value\":10},\"x\":{\"field\":\"x\"},\"y\":{\"field\":\"y\"}},\"id\":\"dd870d7c-ced4-4f64-9e8f-6f4395fc9cc3\",\"type\":\"Circle\"},{\"attributes\":{\"line_color\":\"purple\",\"line_width\":3,\"x\":{\"field\":\"x\"},\"y\":{\"field\":\"threepointm\"}},\"id\":\"5aa54c9e-3ee3-4501-84cc-fc6ce38629c5\",\"type\":\"Line\"},{\"attributes\":{\"fill_alpha\":{\"value\":0.1},\"fill_color\":{\"value\":\"#1f77b4\"},\"line_alpha\":{\"value\":0.1},\"line_color\":{\"value\":\"#1f77b4\"},\"size\":{\"units\":\"screen\",\"value\":10},\"x\":{\"field\":\"x\"},\"y\":{\"field\":\"y\"}},\"id\":\"67fae2fe-d2e0-4943-ad04-f0bdf8457a3e\",\"type\":\"Circle\"},{\"attributes\":{\"label\":{\"value\":\"Kareem Abdul-Jabbar(C)\"},\"renderers\":[{\"id\":\"3a7decef-6708-43e4-b5e2-7cfcdde561a5\",\"type\":\"GlyphRenderer\"}]},\"id\":\"f59e9c1e-4d91-4388-9ef9-cd459cfe8879\",\"type\":\"LegendItem\"},{\"attributes\":{\"label\":{\"value\":\"Average Stats of Stats\"},\"renderers\":[{\"id\":\"162453b0-8a49-4975-a2b4-5eff2a6bc4b2\",\"type\":\"GlyphRenderer\"}]},\"id\":\"96c6abeb-6a60-4e86-89a6-a9d429298a84\",\"type\":\"LegendItem\"},{\"attributes\":{\"callback\":null,\"data\":{\"Team\":[\"LAL\",\"LAL\",\"LAL\",\"LAL\",\"LAL\",\"LAL\",\"LAL\",\"LAL\",\"LAL\",\"LAL\",\"LAL\",\"LAL\",\"Did Not Play\\u00a0(illness\\u2014HIV)\",\"Did Not Play\\u00a0(illness\\u2014HIV)\",\"Did Not Play\\u00a0(illness\\u2014HIV)\",\"Did Not Play\\u00a0(illness\\u2014HIV)\",\"LAL\",\"NaN\"],\"assist\":[\"7.3\",\"8.6\",\"9.5\",\"10.5\",\"13.1\",\"12.6\",\"12.6\",\"12.2\",\"11.9\",\"12.8\",\"11.5\",\"12.5\",\"Did Not Play\\u00a0(illness\\u2014HIV)\",\"Did Not Play\\u00a0(illness\\u2014HIV)\",\"Did Not Play\\u00a0(illness\\u2014HIV)\",\"Did Not Play\\u00a0(illness\\u2014HIV)\",\"6.9\",\"NaN\"],\"name\":[\"Magic Johnson\",\"Magic Johnson\",\"Magic Johnson\",\"Magic Johnson\",\"Magic Johnson\",\"Magic Johnson\",\"Magic Johnson\",\"Magic Johnson\",\"Magic Johnson\",\"Magic Johnson\",\"Magic Johnson\",\"Magic Johnson\",\"Magic Johnson\",\"Magic Johnson\",\"Magic Johnson\",\"Magic Johnson\",\"Magic Johnson\",\"Magic Johnson\"],\"rebound\":[\"7.7\",\"8.6\",\"9.6\",\"8.6\",\"7.3\",\"6.2\",\"5.9\",\"6.3\",\"6.2\",\"7.9\",\"6.6\",\"7\",\"Did Not Play\\u00a0(illness\\u2014HIV)\",\"Did Not Play\\u00a0(illness\\u2014HIV)\",\"Did Not Play\\u00a0(illness\\u2014HIV)\",\"Did Not Play\\u00a0(illness\\u2014HIV)\",\"5.7\",\"NaN\"],\"threepointm\":[\"0.1\",\"0.1\",\"0.1\",\"0\",\"0.1\",\"0.1\",\"0.1\",\"0.1\",\"0.2\",\"0.8\",\"1.3\",\"1\",\"Did Not Play\\u00a0(illness\\u2014HIV)\",\"Did Not Play\\u00a0(illness\\u2014HIV)\",\"Did Not Play\\u00a0(illness\\u2014HIV)\",\"Did Not Play\\u00a0(illness\\u2014HIV)\",\"0.7\",\"NaN\"],\"twopointm\":[\"6.4\",\"8.4\",\"7.1\",\"6.5\",\"6.5\",\"6.5\",\"6.6\",\"8.4\",\"6.7\",\"6.8\",\"5.6\",\"4.9\",\"Did Not Play\\u00a0(illness\\u2014HIV)\",\"Did Not Play\\u00a0(illness\\u2014HIV)\",\"Did Not Play\\u00a0(illness\\u2014HIV)\",\"Did Not Play\\u00a0(illness\\u2014HIV)\",\"3.6\",\"NaN\"],\"x\":{\"__ndarray__\":\"AAAAAADsnkAAAAAAAPCeQAAAAAAA9J5AAAAAAAD4nkAAAAAAAPyeQAAAAAAAAJ9AAAAAAAAEn0AAAAAAAAifQAAAAAAADJ9AAAAAAAAQn0AAAAAAABSfQAAAAAAAGJ9AAAAAAAAcn0AAAAAAACCfQAAAAAAAJJ9AAAAAAAAon0AAAAAAACyfQAAAAAAAAPh/\",\"dtype\":\"float64\",\"shape\":[18]},\"y\":[\"18\",\"21.6\",\"18.6\",\"16.8\",\"17.6\",\"18.3\",\"18.8\",\"23.9\",\"19.6\",\"22.5\",\"22.3\",\"19.4\",\"Did Not Play\\u00a0(illness\\u2014HIV)\",\"Did Not Play\\u00a0(illness\\u2014HIV)\",\"Did Not Play\\u00a0(illness\\u2014HIV)\",\"Did Not Play\\u00a0(illness\\u2014HIV)\",\"14.6\",\"NaN\"]},\"selected\":{\"id\":\"39a9e533-5cfd-4279-96a3-7633f99e42ed\",\"type\":\"Selection\"},\"selection_policy\":{\"id\":\"d0ad859a-3c68-4c6b-8f7c-ed2c16ab45e6\",\"type\":\"UnionRenderers\"}},\"id\":\"61a6ffc6-4266-4219-ab84-af0b9138d62f\",\"type\":\"ColumnDataSource\"},{\"attributes\":{},\"id\":\"d7cad65f-c87b-4d7c-b291-a64d78c46bf1\",\"type\":\"Selection\"},{\"attributes\":{\"callback\":null,\"end\":2019,\"start\":1955},\"id\":\"e882747a-d76b-4400-904f-52b5e08bc385\",\"type\":\"Range1d\"},{\"attributes\":{\"fill_alpha\":{\"value\":0.2},\"fill_color\":{\"value\":\"Pink\"},\"line_alpha\":{\"value\":0.2},\"line_color\":{\"value\":\"Pink\"},\"size\":{\"units\":\"screen\",\"value\":10},\"x\":{\"field\":\"x\"},\"y\":{\"field\":\"y\"}},\"id\":\"966f1b4d-77a3-41a7-9c21-8b1754c25388\",\"type\":\"Circle\"},{\"attributes\":{\"plot\":null,\"text\":\"Three Made Per Game\"},\"id\":\"35dc5ea0-ac02-48a9-bbbd-2a24cd3ad275\",\"type\":\"Title\"},{\"attributes\":{\"source\":{\"id\":\"46e0ed03-abce-454e-9786-251de6c3fdac\",\"type\":\"ColumnDataSource\"}},\"id\":\"06a761c8-74a6-4ded-9a72-f9a8ff593b39\",\"type\":\"CDSView\"},{\"attributes\":{\"below\":[{\"id\":\"16c6fefb-e436-4f31-8469-79f9446bed95\",\"type\":\"LinearAxis\"}],\"left\":[{\"id\":\"718fe89c-7914-4957-9405-ded0e6841fc1\",\"type\":\"LinearAxis\"}],\"plot_height\":500,\"plot_width\":1000,\"renderers\":[{\"id\":\"16c6fefb-e436-4f31-8469-79f9446bed95\",\"type\":\"LinearAxis\"},{\"id\":\"6a95c1af-b476-4d6a-be5f-a0db2927e543\",\"type\":\"Grid\"},{\"id\":\"718fe89c-7914-4957-9405-ded0e6841fc1\",\"type\":\"LinearAxis\"},{\"id\":\"a9b64feb-148b-4b13-88ca-30337b3b8cee\",\"type\":\"Grid\"},{\"id\":\"833705f7-0b07-4272-bc13-ce2b2accbd32\",\"type\":\"BoxAnnotation\"},{\"id\":\"08fb47fd-7253-42d9-a915-f8ee96d1029b\",\"type\":\"Legend\"},{\"id\":\"a7fc0b1b-0c74-4b51-8292-9f7415fa2d1e\",\"type\":\"GlyphRenderer\"},{\"id\":\"3c972f0e-a66e-4c12-9b23-ef323bc8ddc0\",\"type\":\"GlyphRenderer\"},{\"id\":\"2ae4b0d8-bedd-4200-beb8-9e8210db3f97\",\"type\":\"GlyphRenderer\"},{\"id\":\"fea40a63-e4b9-4091-85f3-56501c8240fb\",\"type\":\"GlyphRenderer\"},{\"id\":\"398acfea-effe-4b7b-8292-fc3c1f5eeb0d\",\"type\":\"GlyphRenderer\"},{\"id\":\"221ed0c0-64e2-40fc-a85f-2a87f2ae23c2\",\"type\":\"GlyphRenderer\"},{\"id\":\"c5a501c0-3eaa-4114-990c-0ed5ab7fac06\",\"type\":\"GlyphRenderer\"},{\"id\":\"164d474e-7dbc-4cc9-9afe-c48bb9f9cee7\",\"type\":\"GlyphRenderer\"}],\"right\":[{\"id\":\"08fb47fd-7253-42d9-a915-f8ee96d1029b\",\"type\":\"Legend\"}],\"title\":{\"id\":\"c7dc4a71-06d1-4111-b849-a524a2b12fe5\",\"type\":\"Title\"},\"toolbar\":{\"id\":\"693ba223-1b35-4e18-b835-065904a73d4f\",\"type\":\"Toolbar\"},\"toolbar_location\":\"left\",\"x_range\":{\"id\":\"ce895dc4-3d4a-43ec-8c30-4428f03b3ff6\",\"type\":\"Range1d\"},\"x_scale\":{\"id\":\"1a193b91-3c66-478d-82ee-f0da190e270b\",\"type\":\"LinearScale\"},\"y_range\":{\"id\":\"eb1d71d0-06fc-474c-b5d4-0745bde7e11d\",\"type\":\"Range1d\"},\"y_scale\":{\"id\":\"963c538c-c8d3-4f0b-bc2e-78f09df7fab5\",\"type\":\"LinearScale\"}},\"id\":\"f48d8df6-1f27-4616-b192-943b772d9bb9\",\"subtype\":\"Figure\",\"type\":\"Plot\"},{\"attributes\":{\"callback\":null,\"end\":2019,\"start\":1955},\"id\":\"801cb98d-18ac-46bf-ad39-4292fff62b82\",\"type\":\"Range1d\"},{\"attributes\":{\"active_drag\":\"auto\",\"active_inspect\":\"auto\",\"active_scroll\":\"auto\",\"active_tap\":\"auto\",\"tools\":[{\"id\":\"5e62030f-f151-47c3-92b8-2044117541e8\",\"type\":\"HoverTool\"},{\"id\":\"eddcdbec-1ee0-411f-bba2-d8f3f062e412\",\"type\":\"PanTool\"},{\"id\":\"77d2dfc2-6f91-4d7c-9cb6-308fe97154d8\",\"type\":\"WheelZoomTool\"},{\"id\":\"cfa7816b-c654-484e-968d-9d0e98da1610\",\"type\":\"ResetTool\"}]},\"id\":\"50d25965-4f68-44f0-b70c-f76f3712d249\",\"type\":\"Toolbar\"},{\"attributes\":{\"dimension\":1,\"plot\":{\"id\":\"823c1f94-b92a-47c0-ab93-364c546f6984\",\"subtype\":\"Figure\",\"type\":\"Plot\"},\"ticker\":{\"id\":\"6f50873d-1dfe-4bc1-9f1f-56b3d5ff0d11\",\"type\":\"BasicTicker\"}},\"id\":\"c4fb5c1c-97b1-42e1-a9f7-472b442264a9\",\"type\":\"Grid\"},{\"attributes\":{},\"id\":\"b84e05c1-072d-4b9c-8ba6-efe44fd32e6f\",\"type\":\"UnionRenderers\"},{\"attributes\":{\"callback\":null,\"end\":10,\"start\":-1},\"id\":\"11038ddd-e2e5-44c4-be93-28dda1562d4b\",\"type\":\"Range1d\"},{\"attributes\":{},\"id\":\"e3ecd843-8cff-45cd-96b7-429aa0147ff7\",\"type\":\"LinearScale\"},{\"attributes\":{\"label\":{\"value\":\"Kareem Abdul-Jabbar(C)\"},\"renderers\":[{\"id\":\"00e19fe3-f546-4758-8e7d-c487d1d90c7f\",\"type\":\"GlyphRenderer\"}]},\"id\":\"997dfe9c-2aa0-430d-805d-988710cc9120\",\"type\":\"LegendItem\"},{\"attributes\":{},\"id\":\"0ee3b1ee-43a3-4541-8c52-66c206110845\",\"type\":\"BasicTickFormatter\"},{\"attributes\":{\"callback\":null,\"data\":{\"Team\":[\"MIL\",\"MIL\",\"MIL\",\"MIL\",\"MIL\",\"MIL\",\"LAL\",\"LAL\",\"LAL\",\"LAL\",\"LAL\",\"LAL\",\"LAL\",\"LAL\",\"LAL\",\"LAL\",\"LAL\",\"LAL\",\"LAL\",\"LAL\",\"NaN\"],\"assist\":{\"__ndarray__\":\"ZmZmZmZmEEBmZmZmZmYKQGZmZmZmZhJAAAAAAAAAFEAzMzMzMzMTQGZmZmZmZhBAAAAAAAAAFEAzMzMzMzMPQDMzMzMzMxFAmpmZmZmZFUAAAAAAAAASQDMzMzMzMwtAAAAAAAAACEAAAAAAAAAEQM3MzMzMzARAmpmZmZmZCUAAAAAAAAAMQM3MzMzMzARAMzMzMzMz+z8AAAAAAADwP83MzMzMzAxA\",\"dtype\":\"float64\",\"shape\":[21]},\"name\":[\"Kareem Abdul-Jabbar\",\"Kareem Abdul-Jabbar\",\"Kareem Abdul-Jabbar\",\"Kareem Abdul-Jabbar\",\"Kareem Abdul-Jabbar\",\"Kareem Abdul-Jabbar\",\"Kareem Abdul-Jabbar\",\"Kareem Abdul-Jabbar\",\"Kareem Abdul-Jabbar\",\"Kareem Abdul-Jabbar\",\"Kareem Abdul-Jabbar\",\"Kareem Abdul-Jabbar\",\"Kareem Abdul-Jabbar\",\"Kareem Abdul-Jabbar\",\"Kareem Abdul-Jabbar\",\"Kareem Abdul-Jabbar\",\"Kareem Abdul-Jabbar\",\"Kareem Abdul-Jabbar\",\"Kareem Abdul-Jabbar\",\"Kareem Abdul-Jabbar\",\"Kareem Abdul-Jabbar\"],\"rebound\":{\"__ndarray__\":\"AAAAAAAALUAAAAAAAAAwQJqZmZmZmTBAmpmZmZkZMEAAAAAAAAAtQAAAAAAAACxAZmZmZmbmMECamZmZmZkqQM3MzMzMzClAmpmZmZmZKUCamZmZmZklQJqZmZmZmSRAZmZmZmZmIUAAAAAAAAAeQDMzMzMzMx1AmpmZmZmZH0BmZmZmZmYYQM3MzMzMzBpAAAAAAAAAGEAAAAAAAAASQGZmZmZmZiZA\",\"dtype\":\"float64\",\"shape\":[21]},\"threepointm\":{\"__ndarray__\":\"AAAAAAAA+H8AAAAAAAD4fwAAAAAAAPh/AAAAAAAA+H8AAAAAAAD4fwAAAAAAAPh/AAAAAAAA+H8AAAAAAAD4fwAAAAAAAPh/AAAAAAAA+H8AAAAAAAAAAAAAAAAAAAAAAAAAAAAAAAAAAAAAAAAAAAAAAAAAAAAAAAAAAAAAAAAAAAAAAAAAAAAAAAAAAAAAAAAAAAAAAAAAAAAAAAAAAAAAAAAAAAAA\",\"dtype\":\"float64\",\"shape\":[21]},\"twopointm\":{\"__ndarray__\":\"zczMzMzMJkAAAAAAAAAqQJqZmZmZmSxAzczMzMzMKUBmZmZmZmYnQAAAAAAAAClAMzMzMzMzJkCamZmZmZklQGZmZmZmZiVAZmZmZmZmI0BmZmZmZmYkQAAAAAAAACVAzczMzMzMI0AzMzMzMzMiQAAAAAAAACJAZmZmZmZmIkAzMzMzMzMjQM3MzMzMzBxAAAAAAAAAGEDNzMzMzMwQQGZmZmZmZiRA\",\"dtype\":\"float64\",\"shape\":[21]},\"x\":[\"1969\",\"1970\",\"1971\",\"1972\",\"1973\",\"1974\",\"1975\",\"1976\",\"1977\",\"1978\",\"1979\",\"1980\",\"1981\",\"1982\",\"1983\",\"1984\",\"1985\",\"1986\",\"1987\",\"1988\",\"Career\"],\"y\":{\"__ndarray__\":\"zczMzMzMPEAzMzMzM7M/QGZmZmZmZkFAMzMzMzMzPkAAAAAAAAA7QAAAAAAAAD5AMzMzMzOzO0AzMzMzMzM6QM3MzMzMzDlAzczMzMzMN0DNzMzMzMw4QDMzMzMzMzpAZmZmZmbmN0DNzMzMzMw1QAAAAAAAgDVAAAAAAAAANkBmZmZmZmY3QAAAAAAAgDFAMzMzMzMzLUAzMzMzMzMkQJqZmZmZmThA\",\"dtype\":\"float64\",\"shape\":[21]}},\"selected\":{\"id\":\"7b657e8f-5af6-4a79-8b26-57252c69eba0\",\"type\":\"Selection\"},\"selection_policy\":{\"id\":\"fcb506a3-2564-4b4b-ad3d-8a01e05611af\",\"type\":\"UnionRenderers\"}},\"id\":\"e9bb7a82-7d48-4707-93ea-132e332f1d79\",\"type\":\"ColumnDataSource\"},{\"attributes\":{\"data_source\":{\"id\":\"cd3bb85f-bdea-4daf-be0d-5f3a717f29cd\",\"type\":\"ColumnDataSource\"},\"glyph\":{\"id\":\"5aa54c9e-3ee3-4501-84cc-fc6ce38629c5\",\"type\":\"Line\"},\"hover_glyph\":null,\"muted_glyph\":{\"id\":\"8fe9201d-8d3c-4dd1-a2ab-ba8484bd2833\",\"type\":\"Line\"},\"nonselection_glyph\":{\"id\":\"72ffc5b5-61fa-45cb-812c-a378475307a0\",\"type\":\"Line\"},\"selection_glyph\":null,\"view\":{\"id\":\"50fb1772-0faf-4ecf-9941-650f64efd9bd\",\"type\":\"CDSView\"}},\"id\":\"577276aa-db00-4b2c-b163-3533deab4528\",\"type\":\"GlyphRenderer\"},{\"attributes\":{\"line_color\":\"purple\",\"line_width\":3,\"x\":{\"field\":\"x\"},\"y\":{\"field\":\"y\"}},\"id\":\"44279194-1462-49e8-bebc-e17b3b8c56e4\",\"type\":\"Line\"},{\"attributes\":{},\"id\":\"eddcdbec-1ee0-411f-bba2-d8f3f062e412\",\"type\":\"PanTool\"},{\"attributes\":{\"click_policy\":\"mute\",\"items\":[{\"id\":\"3a2ef235-0bc6-48e3-b63c-90425876f78a\",\"type\":\"LegendItem\"},{\"id\":\"9180a88c-24c2-40e8-8b1c-df4dfbc0c5e4\",\"type\":\"LegendItem\"},{\"id\":\"e923030d-b0d2-44de-91c9-ab2c2ec46ab0\",\"type\":\"LegendItem\"},{\"id\":\"2fd71f3b-7bf5-467d-ad8c-2c33ec86f8e3\",\"type\":\"LegendItem\"},{\"id\":\"e4556b0a-d86b-4545-9017-98b0d56c64df\",\"type\":\"LegendItem\"},{\"id\":\"2471979b-d851-4312-a2a7-a2012d2f1231\",\"type\":\"LegendItem\"},{\"id\":\"62366b01-65ca-41cc-acf3-3cc7536749c7\",\"type\":\"LegendItem\"},{\"id\":\"ab39e061-66fe-4ba8-aa1f-9426fe067656\",\"type\":\"LegendItem\"}],\"plot\":{\"id\":\"f48d8df6-1f27-4616-b192-943b772d9bb9\",\"subtype\":\"Figure\",\"type\":\"Plot\"}},\"id\":\"08fb47fd-7253-42d9-a915-f8ee96d1029b\",\"type\":\"Legend\"},{\"attributes\":{\"source\":{\"id\":\"cd3bb85f-bdea-4daf-be0d-5f3a717f29cd\",\"type\":\"ColumnDataSource\"}},\"id\":\"50fb1772-0faf-4ecf-9941-650f64efd9bd\",\"type\":\"CDSView\"},{\"attributes\":{\"below\":[{\"id\":\"8008d29f-65a6-4f89-b1c7-100749f0865c\",\"type\":\"LinearAxis\"}],\"left\":[{\"id\":\"f5f0f252-420d-4a1d-81a7-96b2f53e526b\",\"type\":\"LinearAxis\"}],\"plot_height\":500,\"plot_width\":1000,\"renderers\":[{\"id\":\"8008d29f-65a6-4f89-b1c7-100749f0865c\",\"type\":\"LinearAxis\"},{\"id\":\"ca62cae5-69ce-4459-9fbe-8876dff57254\",\"type\":\"Grid\"},{\"id\":\"f5f0f252-420d-4a1d-81a7-96b2f53e526b\",\"type\":\"LinearAxis\"},{\"id\":\"fa20a8d5-76e9-46f7-9d35-420eaf09e8f9\",\"type\":\"Grid\"},{\"id\":\"1eb62205-6f53-4f24-b3e9-feb84111acb6\",\"type\":\"Legend\"},{\"id\":\"aab586ac-0e5e-4f40-9220-f5ef8cfa088e\",\"type\":\"GlyphRenderer\"},{\"id\":\"898a7e95-ebfa-4457-aed4-306deeb96ab7\",\"type\":\"GlyphRenderer\"},{\"id\":\"ebd45b85-a272-4e11-bb4c-69e77cc6ef91\",\"type\":\"GlyphRenderer\"},{\"id\":\"4ed86e40-3caf-4306-98d9-d42030c423df\",\"type\":\"GlyphRenderer\"},{\"id\":\"4a7e65d2-230f-4d7b-a82b-3a9dd40a00b3\",\"type\":\"GlyphRenderer\"},{\"id\":\"ae82b249-0d89-4022-a779-f65280188c9c\",\"type\":\"GlyphRenderer\"},{\"id\":\"be02ee0d-b971-4699-b795-0bcfcb01dc76\",\"type\":\"GlyphRenderer\"},{\"id\":\"548e14b2-c77a-40e1-9364-f682b4c9b82b\",\"type\":\"GlyphRenderer\"}],\"right\":[{\"id\":\"1eb62205-6f53-4f24-b3e9-feb84111acb6\",\"type\":\"Legend\"}],\"title\":{\"id\":\"781d6d18-6598-430e-b7c8-714169ffd1aa\",\"type\":\"Title\"},\"toolbar\":{\"id\":\"df6e7a1b-eeef-4530-ae55-de2df7297ab7\",\"type\":\"Toolbar\"},\"toolbar_location\":\"left\",\"x_range\":{\"id\":\"49c9f881-66a0-439b-b9d1-f2377c1b012c\",\"type\":\"Range1d\"},\"x_scale\":{\"id\":\"7ddad797-48f8-4b38-be0c-e193016158f9\",\"type\":\"LinearScale\"},\"y_range\":{\"id\":\"4adc3ee1-f204-4426-8649-4ac92351c072\",\"type\":\"Range1d\"},\"y_scale\":{\"id\":\"c7bf75b4-5f89-4d4e-93a3-73f74c1d9ca1\",\"type\":\"LinearScale\"}},\"id\":\"34386937-c671-4b22-87de-f326644a68d5\",\"subtype\":\"Figure\",\"type\":\"Plot\"},{\"attributes\":{},\"id\":\"77d2dfc2-6f91-4d7c-9cb6-308fe97154d8\",\"type\":\"WheelZoomTool\"},{\"attributes\":{\"plot\":null,\"text\":\"Point Per Game From Each Player\"},\"id\":\"c7dc4a71-06d1-4111-b849-a524a2b12fe5\",\"type\":\"Title\"},{\"attributes\":{},\"id\":\"cfa7816b-c654-484e-968d-9d0e98da1610\",\"type\":\"ResetTool\"},{\"attributes\":{\"callback\":null,\"end\":2019,\"start\":1955},\"id\":\"ce895dc4-3d4a-43ec-8c30-4428f03b3ff6\",\"type\":\"Range1d\"},{\"attributes\":{\"callback\":null,\"data\":{\"Team\":[\"CHI\",\"CHI\",\"CHI\",\"CHI\",\"CHI\",\"CHI\",\"CHI\",\"CHI\",\"CHI\",\"Did Not Play\\u00a0(Minor League Baseball\\u2014Birmingham Barons)\",\"CHI\",\"CHI\",\"CHI\",\"CHI\",\"Did Not Play\\u00a0(retired)\",\"Did Not Play\\u00a0(retired)\",\"Did Not Play\\u00a0(retired)\",\"WAS\",\"WAS\",\"NaN\",\"NaN\",\"CHI\",\"WAS\"],\"assist\":[\"5.9\",\"2.9\",\"4.6\",\"5.9\",\"8\",\"6.3\",\"5.5\",\"6.1\",\"5.5\",\"Did Not Play\\u00a0(Minor League Baseball\\u2014Birmingham Barons)\",\"5.3\",\"4.3\",\"4.3\",\"3.5\",\"Did Not Play\\u00a0(retired)\",\"Did Not Play\\u00a0(retired)\",\"Did Not Play\\u00a0(retired)\",\"5.2\",\"3.8\",\"5.3\",\"NaN\",\"5.4\",\"4.4\"],\"name\":[\"Michael Jordan\",\"Michael Jordan\",\"Michael Jordan\",\"Michael Jordan\",\"Michael Jordan\",\"Michael Jordan\",\"Michael Jordan\",\"Michael Jordan\",\"Michael Jordan\",\"Michael Jordan\",\"Michael Jordan\",\"Michael Jordan\",\"Michael Jordan\",\"Michael Jordan\",\"Michael Jordan\",\"Michael Jordan\",\"Michael Jordan\",\"Michael Jordan\",\"Michael Jordan\",\"NaN\",\"NaN\",\"NaN\",\"NaN\"],\"rebound\":[\"6.5\",\"3.6\",\"5.2\",\"5.5\",\"8\",\"6.9\",\"6\",\"6.4\",\"6.7\",\"Did Not Play\\u00a0(Minor League Baseball\\u2014Birmingham Barons)\",\"6.9\",\"6.6\",\"5.9\",\"5.8\",\"Did Not Play\\u00a0(retired)\",\"Did Not Play\\u00a0(retired)\",\"Did Not Play\\u00a0(retired)\",\"5.7\",\"6.1\",\"6.2\",\"NaN\",\"6.3\",\"5.9\"],\"threepointm\":[\"0.1\",\"0.2\",\"0.1\",\"0.1\",\"0.3\",\"1.1\",\"0.4\",\"0.3\",\"1\",\"Did Not Play\\u00a0(Minor League Baseball\\u2014Birmingham Barons)\",\"0.9\",\"1.4\",\"1.4\",\"0.4\",\"Did Not Play\\u00a0(retired)\",\"Did Not Play\\u00a0(retired)\",\"Did Not Play\\u00a0(retired)\",\"0.2\",\"0.2\",\"0.5\",\"NaN\",\"0.6\",\"0.2\"],\"twopointm\":[\"10.1\",\"8.2\",\"13.2\",\"13\",\"11.6\",\"11.5\",\"11.7\",\"11.5\",\"11.7\",\"Did Not Play\\u00a0(Minor League Baseball\\u2014Birmingham Barons)\",\"8.8\",\"9.8\",\"9.9\",\"10.4\",\"Did Not Play\\u00a0(retired)\",\"Did Not Play\\u00a0(retired)\",\"Did Not Play\\u00a0(retired)\",\"9\",\"8.1\",\"10.8\",\"NaN\",\"11.2\",\"8.5\"],\"x\":[\"1984\",\"1985\",\"1986\",\"1987\",\"1988\",\"1989\",\"1990\",\"1991\",\"1992\",\"1993\",\"1994\",\"1995\",\"1996\",\"1997\",\"1998\",\"1999\",\"2000\",\"2001\",\"2002\",\"Career\",\"NaN\",\"13 seasons\",\"2 seasons\"],\"y\":[\"28.2\",\"22.7\",\"37.1\",\"35\",\"32.5\",\"33.6\",\"31.5\",\"30.1\",\"32.6\",\"Did Not Play\\u00a0(Minor League Baseball\\u2014Birmingham Barons)\",\"26.9\",\"30.4\",\"29.6\",\"28.7\",\"Did Not Play\\u00a0(retired)\",\"Did Not Play\\u00a0(retired)\",\"Did Not Play\\u00a0(retired)\",\"22.9\",\"20\",\"30.1\",\"NaN\",\"31.5\",\"21.2\"]},\"selected\":{\"id\":\"dc44d722-c6cb-40b9-b293-c0ac0ebd7060\",\"type\":\"Selection\"},\"selection_policy\":{\"id\":\"2e579968-e9f0-4d39-9e11-8d340832d5ea\",\"type\":\"UnionRenderers\"}},\"id\":\"fd7a7ab6-dfd0-4592-92b5-94a1a08ec828\",\"type\":\"ColumnDataSource\"},{\"attributes\":{\"line_alpha\":0.2,\"line_color\":\"purple\",\"line_width\":3,\"x\":{\"field\":\"x\"},\"y\":{\"field\":\"threepointm\"}},\"id\":\"8fe9201d-8d3c-4dd1-a2ab-ba8484bd2833\",\"type\":\"Line\"},{\"attributes\":{\"active_drag\":\"auto\",\"active_inspect\":\"auto\",\"active_scroll\":\"auto\",\"active_tap\":\"auto\",\"tools\":[{\"id\":\"e8f2dd81-9010-4265-bcfe-6a6d390706c1\",\"type\":\"HoverTool\"},{\"id\":\"f3c12f92-9263-4a39-ac94-159abcb845cc\",\"type\":\"PanTool\"},{\"id\":\"cfee80e7-20c6-440a-82cd-d192624e2b15\",\"type\":\"WheelZoomTool\"},{\"id\":\"c3d716a5-bb33-4966-bccf-85c5d3d548eb\",\"type\":\"BoxZoomTool\"},{\"id\":\"e1506bd0-081b-4991-b365-7e9077f81c12\",\"type\":\"ResetTool\"},{\"id\":\"2739ee0b-1745-4b84-a489-d3f1d7b7ad88\",\"type\":\"CrosshairTool\"}]},\"id\":\"693ba223-1b35-4e18-b835-065904a73d4f\",\"type\":\"Toolbar\"},{\"attributes\":{\"line_alpha\":0.1,\"line_color\":\"#1f77b4\",\"line_width\":3,\"x\":{\"field\":\"x\"},\"y\":{\"field\":\"threepointm\"}},\"id\":\"72ffc5b5-61fa-45cb-812c-a378475307a0\",\"type\":\"Line\"},{\"attributes\":{},\"id\":\"8c665509-e85c-440b-8bc3-d8ed0d3fafa3\",\"type\":\"UnionRenderers\"},{\"attributes\":{\"label\":{\"value\":\"Magic Johnson(PG)\"},\"renderers\":[{\"id\":\"221ed0c0-64e2-40fc-a85f-2a87f2ae23c2\",\"type\":\"GlyphRenderer\"}]},\"id\":\"2471979b-d851-4312-a2a7-a2012d2f1231\",\"type\":\"LegendItem\"},{\"attributes\":{\"click_policy\":\"mute\",\"items\":[{\"id\":\"5943e208-706c-45b7-9d23-a280ba37c852\",\"type\":\"LegendItem\"},{\"id\":\"ba3d6ca3-5be1-4625-8fbb-28f5beb8fef2\",\"type\":\"LegendItem\"},{\"id\":\"f86bf595-aea1-4a56-907d-5aa3fe6ce615\",\"type\":\"LegendItem\"},{\"id\":\"b097a681-a404-45c2-81ab-b8b01e067bc7\",\"type\":\"LegendItem\"},{\"id\":\"334488e4-f5e2-4c5b-8893-c795bce0b684\",\"type\":\"LegendItem\"},{\"id\":\"997dfe9c-2aa0-430d-805d-988710cc9120\",\"type\":\"LegendItem\"},{\"id\":\"102ca098-8df0-41db-adb4-24aecbecc8e9\",\"type\":\"LegendItem\"}],\"plot\":{\"id\":\"823c1f94-b92a-47c0-ab93-364c546f6984\",\"subtype\":\"Figure\",\"type\":\"Plot\"}},\"id\":\"a372e831-68fb-4db1-84e7-716a8e1cda8d\",\"type\":\"Legend\"},{\"attributes\":{\"callback\":null,\"end\":60},\"id\":\"eb1d71d0-06fc-474c-b5d4-0745bde7e11d\",\"type\":\"Range1d\"},{\"attributes\":{},\"id\":\"f9a202fa-e59f-4072-bc1d-e28aecb317eb\",\"type\":\"BasicTickFormatter\"},{\"attributes\":{\"indices\":[],\"line_indices\":[]},\"id\":\"c9cad6c7-2aa8-45e4-a2ac-bfc8766c0294\",\"type\":\"Selection\"},{\"attributes\":{},\"id\":\"1a193b91-3c66-478d-82ee-f0da190e270b\",\"type\":\"LinearScale\"},{\"attributes\":{\"label\":{\"value\":\"Kobe Bryant(SG)\"},\"renderers\":[{\"id\":\"577276aa-db00-4b2c-b163-3533deab4528\",\"type\":\"GlyphRenderer\"}]},\"id\":\"5943e208-706c-45b7-9d23-a280ba37c852\",\"type\":\"LegendItem\"},{\"attributes\":{},\"id\":\"963c538c-c8d3-4f0b-bc2e-78f09df7fab5\",\"type\":\"LinearScale\"},{\"attributes\":{\"source\":{\"id\":\"e9bb7a82-7d48-4707-93ea-132e332f1d79\",\"type\":\"ColumnDataSource\"}},\"id\":\"cc6f2be6-ac0e-45b0-93db-7b11730a4c0b\",\"type\":\"CDSView\"},{\"attributes\":{\"plot\":{\"id\":\"f48d8df6-1f27-4616-b192-943b772d9bb9\",\"subtype\":\"Figure\",\"type\":\"Plot\"},\"ticker\":{\"id\":\"3085a218-56d4-4dc4-92fd-dc72d8f8604d\",\"type\":\"BasicTicker\"}},\"id\":\"6a95c1af-b476-4d6a-be5f-a0db2927e543\",\"type\":\"Grid\"},{\"attributes\":{\"line_color\":\"gold\",\"line_width\":3,\"x\":{\"field\":\"x\"},\"y\":{\"field\":\"threepointm\"}},\"id\":\"3a9b8ac9-09cd-4f73-b8ae-faa0efd94949\",\"type\":\"Line\"},{\"attributes\":{\"axis_label\":\"Year Season\",\"formatter\":{\"id\":\"8c4ea558-a9f5-4ae0-ab64-443a9f622197\",\"type\":\"BasicTickFormatter\"},\"plot\":{\"id\":\"f48d8df6-1f27-4616-b192-943b772d9bb9\",\"subtype\":\"Figure\",\"type\":\"Plot\"},\"ticker\":{\"id\":\"3085a218-56d4-4dc4-92fd-dc72d8f8604d\",\"type\":\"BasicTicker\"}},\"id\":\"16c6fefb-e436-4f31-8469-79f9446bed95\",\"type\":\"LinearAxis\"},{\"attributes\":{\"data_source\":{\"id\":\"79013d9c-a5cb-4882-ba6c-9acb8d841ced\",\"type\":\"ColumnDataSource\"},\"glyph\":{\"id\":\"3a9b8ac9-09cd-4f73-b8ae-faa0efd94949\",\"type\":\"Line\"},\"hover_glyph\":null,\"muted_glyph\":{\"id\":\"2b9c2e1a-a62d-41e0-ab6d-d9d19259dfcb\",\"type\":\"Line\"},\"nonselection_glyph\":{\"id\":\"24f97266-24e5-47d0-8a21-49b98e2cf075\",\"type\":\"Line\"},\"selection_glyph\":null,\"view\":{\"id\":\"76e39755-6f2e-4f31-b48a-f2f0ab27e0d6\",\"type\":\"CDSView\"}},\"id\":\"cffd9517-5d2c-4c54-af51-074d49da6c0d\",\"type\":\"GlyphRenderer\"},{\"attributes\":{},\"id\":\"3085a218-56d4-4dc4-92fd-dc72d8f8604d\",\"type\":\"BasicTicker\"},{\"attributes\":{\"label\":{\"value\":\"Average Stats of Stats\"},\"renderers\":[{\"id\":\"fcb50fdb-5d2c-4bac-89f9-1c394d0047d0\",\"type\":\"GlyphRenderer\"}]},\"id\":\"102ca098-8df0-41db-adb4-24aecbecc8e9\",\"type\":\"LegendItem\"},{\"attributes\":{\"axis_label\":\"Point Per Game\",\"formatter\":{\"id\":\"59225eed-6aad-410e-a93d-7185de3e8eb2\",\"type\":\"BasicTickFormatter\"},\"plot\":{\"id\":\"f48d8df6-1f27-4616-b192-943b772d9bb9\",\"subtype\":\"Figure\",\"type\":\"Plot\"},\"ticker\":{\"id\":\"a2b1bd5b-4551-4d2e-8595-83d3dfdc2460\",\"type\":\"BasicTicker\"}},\"id\":\"718fe89c-7914-4957-9405-ded0e6841fc1\",\"type\":\"LinearAxis\"},{\"attributes\":{\"line_alpha\":0.1,\"line_color\":\"#1f77b4\",\"line_width\":3,\"x\":{\"field\":\"x\"},\"y\":{\"field\":\"threepointm\"}},\"id\":\"24f97266-24e5-47d0-8a21-49b98e2cf075\",\"type\":\"Line\"},{\"attributes\":{},\"id\":\"a2b1bd5b-4551-4d2e-8595-83d3dfdc2460\",\"type\":\"BasicTicker\"},{\"attributes\":{\"line_alpha\":0.2,\"line_color\":\"gold\",\"line_width\":3,\"x\":{\"field\":\"x\"},\"y\":{\"field\":\"threepointm\"}},\"id\":\"2b9c2e1a-a62d-41e0-ab6d-d9d19259dfcb\",\"type\":\"Line\"},{\"attributes\":{\"dimension\":1,\"plot\":{\"id\":\"f48d8df6-1f27-4616-b192-943b772d9bb9\",\"subtype\":\"Figure\",\"type\":\"Plot\"},\"ticker\":{\"id\":\"a2b1bd5b-4551-4d2e-8595-83d3dfdc2460\",\"type\":\"BasicTicker\"}},\"id\":\"a9b64feb-148b-4b13-88ca-30337b3b8cee\",\"type\":\"Grid\"},{\"attributes\":{\"source\":{\"id\":\"79013d9c-a5cb-4882-ba6c-9acb8d841ced\",\"type\":\"ColumnDataSource\"}},\"id\":\"76e39755-6f2e-4f31-b48a-f2f0ab27e0d6\",\"type\":\"CDSView\"},{\"attributes\":{},\"id\":\"8c4ea558-a9f5-4ae0-ab64-443a9f622197\",\"type\":\"BasicTickFormatter\"},{\"attributes\":{\"bottom_units\":\"screen\",\"fill_alpha\":{\"value\":0.5},\"fill_color\":{\"value\":\"lightgrey\"},\"left_units\":\"screen\",\"level\":\"overlay\",\"line_alpha\":{\"value\":1.0},\"line_color\":{\"value\":\"black\"},\"line_dash\":[4,4],\"line_width\":{\"value\":2},\"plot\":null,\"render_mode\":\"css\",\"right_units\":\"screen\",\"top_units\":\"screen\"},\"id\":\"833705f7-0b07-4272-bc13-ce2b2accbd32\",\"type\":\"BoxAnnotation\"},{\"attributes\":{\"label\":{\"value\":\"Steph Curry(PG)\"},\"renderers\":[{\"id\":\"cffd9517-5d2c-4c54-af51-074d49da6c0d\",\"type\":\"GlyphRenderer\"}]},\"id\":\"ba3d6ca3-5be1-4625-8fbb-28f5beb8fef2\",\"type\":\"LegendItem\"},{\"attributes\":{},\"id\":\"f3c12f92-9263-4a39-ac94-159abcb845cc\",\"type\":\"PanTool\"},{\"attributes\":{\"line_alpha\":0.2,\"line_color\":\"Red\",\"line_width\":3,\"x\":{\"field\":\"x\"},\"y\":{\"field\":\"threepointm\"}},\"id\":\"444745ec-b055-4fcc-91bd-32a0de440e99\",\"type\":\"Line\"},{\"attributes\":{\"line_alpha\":0.1,\"line_color\":\"#1f77b4\",\"line_width\":3,\"x\":{\"field\":\"x\"},\"y\":{\"field\":\"y\"}},\"id\":\"238fdabe-5663-4960-9dd6-c9c2aa09abab\",\"type\":\"Line\"},{\"attributes\":{\"line_alpha\":0.1,\"line_color\":\"#1f77b4\",\"line_width\":3,\"x\":{\"field\":\"x\"},\"y\":{\"field\":\"threepointm\"}},\"id\":\"b2942fc9-76fc-43b9-a1fe-8eb1494cb83a\",\"type\":\"Line\"},{\"attributes\":{},\"id\":\"cfee80e7-20c6-440a-82cd-d192624e2b15\",\"type\":\"WheelZoomTool\"},{\"attributes\":{\"line_color\":\"Red\",\"line_width\":3,\"x\":{\"field\":\"x\"},\"y\":{\"field\":\"threepointm\"}},\"id\":\"d4eddff6-1678-45c2-bd85-ad11565a2576\",\"type\":\"Line\"},{\"attributes\":{\"overlay\":{\"id\":\"833705f7-0b07-4272-bc13-ce2b2accbd32\",\"type\":\"BoxAnnotation\"}},\"id\":\"c3d716a5-bb33-4966-bccf-85c5d3d548eb\",\"type\":\"BoxZoomTool\"},{\"attributes\":{},\"id\":\"2d3d63d3-efb4-42cc-82ea-7a10c613d782\",\"type\":\"UnionRenderers\"},{\"attributes\":{\"data_source\":{\"id\":\"fd7a7ab6-dfd0-4592-92b5-94a1a08ec828\",\"type\":\"ColumnDataSource\"},\"glyph\":{\"id\":\"d4eddff6-1678-45c2-bd85-ad11565a2576\",\"type\":\"Line\"},\"hover_glyph\":null,\"muted_glyph\":{\"id\":\"444745ec-b055-4fcc-91bd-32a0de440e99\",\"type\":\"Line\"},\"nonselection_glyph\":{\"id\":\"b2942fc9-76fc-43b9-a1fe-8eb1494cb83a\",\"type\":\"Line\"},\"selection_glyph\":null,\"view\":{\"id\":\"66efb656-13e4-4935-8caa-3ea447b0d311\",\"type\":\"CDSView\"}},\"id\":\"8a502f33-2ff4-46a0-8143-def299bb00a4\",\"type\":\"GlyphRenderer\"},{\"attributes\":{},\"id\":\"e1506bd0-081b-4991-b365-7e9077f81c12\",\"type\":\"ResetTool\"},{\"attributes\":{\"source\":{\"id\":\"fd7a7ab6-dfd0-4592-92b5-94a1a08ec828\",\"type\":\"ColumnDataSource\"}},\"id\":\"66efb656-13e4-4935-8caa-3ea447b0d311\",\"type\":\"CDSView\"},{\"attributes\":{},\"id\":\"2739ee0b-1745-4b84-a489-d3f1d7b7ad88\",\"type\":\"CrosshairTool\"},{\"attributes\":{\"callback\":null,\"renderers\":\"auto\",\"tooltips\":[[\"Season\",\"@x\"],[\"Name\",\"@name\"],[\"Team\",\"@Team\"],[\"2PA\",\"@twopointm\"]]},\"id\":\"3c03ac2a-0ef0-4582-8690-2b7f1541b35f\",\"type\":\"HoverTool\"},{\"attributes\":{\"source\":{\"id\":\"cd3bb85f-bdea-4daf-be0d-5f3a717f29cd\",\"type\":\"ColumnDataSource\"}},\"id\":\"b06fedc2-41d0-4692-a1f4-ae88623ac735\",\"type\":\"CDSView\"},{\"attributes\":{\"label\":{\"value\":\"Micheal Jordan (SG)\"},\"renderers\":[{\"id\":\"8a502f33-2ff4-46a0-8143-def299bb00a4\",\"type\":\"GlyphRenderer\"}]},\"id\":\"f86bf595-aea1-4a56-907d-5aa3fe6ce615\",\"type\":\"LegendItem\"},{\"attributes\":{\"line_alpha\":0.2,\"line_color\":\"purple\",\"line_width\":3,\"x\":{\"field\":\"x\"},\"y\":{\"field\":\"y\"}},\"id\":\"e32a23a4-2146-4b7f-9898-51b726485321\",\"type\":\"Line\"},{\"attributes\":{\"line_alpha\":0.2,\"line_width\":3,\"x\":{\"field\":\"x\"},\"y\":{\"field\":\"threepointm\"}},\"id\":\"e38206e7-f2de-46c5-9e46-e24ab2c2bda8\",\"type\":\"Line\"},{\"attributes\":{\"data_source\":{\"id\":\"cd3bb85f-bdea-4daf-be0d-5f3a717f29cd\",\"type\":\"ColumnDataSource\"},\"glyph\":{\"id\":\"44279194-1462-49e8-bebc-e17b3b8c56e4\",\"type\":\"Line\"},\"hover_glyph\":null,\"muted_glyph\":{\"id\":\"e32a23a4-2146-4b7f-9898-51b726485321\",\"type\":\"Line\"},\"nonselection_glyph\":{\"id\":\"238fdabe-5663-4960-9dd6-c9c2aa09abab\",\"type\":\"Line\"},\"selection_glyph\":null,\"view\":{\"id\":\"b06fedc2-41d0-4692-a1f4-ae88623ac735\",\"type\":\"CDSView\"}},\"id\":\"a7fc0b1b-0c74-4b51-8292-9f7415fa2d1e\",\"type\":\"GlyphRenderer\"},{\"attributes\":{\"line_alpha\":0.1,\"line_color\":\"#1f77b4\",\"line_width\":3,\"x\":{\"field\":\"x\"},\"y\":{\"field\":\"threepointm\"}},\"id\":\"38126a47-1cdf-4d44-aa23-8c9a0c363d01\",\"type\":\"Line\"},{\"attributes\":{\"label\":{\"value\":\"Kobe Bryant(SG)\"},\"renderers\":[{\"id\":\"a7fc0b1b-0c74-4b51-8292-9f7415fa2d1e\",\"type\":\"GlyphRenderer\"}]},\"id\":\"3a2ef235-0bc6-48e3-b63c-90425876f78a\",\"type\":\"LegendItem\"},{\"attributes\":{\"line_color\":\"Red\",\"line_width\":3,\"x\":{\"field\":\"x\"},\"y\":{\"field\":\"y\"}},\"id\":\"70f88aa2-295f-4397-a580-a8502bb4127c\",\"type\":\"Line\"},{\"attributes\":{\"line_width\":3,\"x\":{\"field\":\"x\"},\"y\":{\"field\":\"threepointm\"}},\"id\":\"739ef01a-f0eb-4064-a7a7-5e8da64fe689\",\"type\":\"Line\"},{\"attributes\":{\"line_color\":\"gold\",\"line_width\":3,\"x\":{\"field\":\"x\"},\"y\":{\"field\":\"y\"}},\"id\":\"22ca0b13-0b89-4374-a0e4-3ceda71e67ad\",\"type\":\"Line\"},{\"attributes\":{\"data_source\":{\"id\":\"8ede8e08-3582-4e4c-aadc-1db27b3cd4fd\",\"type\":\"ColumnDataSource\"},\"glyph\":{\"id\":\"739ef01a-f0eb-4064-a7a7-5e8da64fe689\",\"type\":\"Line\"},\"hover_glyph\":null,\"muted_glyph\":{\"id\":\"e38206e7-f2de-46c5-9e46-e24ab2c2bda8\",\"type\":\"Line\"},\"nonselection_glyph\":{\"id\":\"38126a47-1cdf-4d44-aa23-8c9a0c363d01\",\"type\":\"Line\"},\"selection_glyph\":null,\"view\":{\"id\":\"f7112a64-b6ca-4c29-8b2f-e9e51600b0fa\",\"type\":\"CDSView\"}},\"id\":\"585b2add-fca2-4fb3-ad51-2969431c72c6\",\"type\":\"GlyphRenderer\"},{\"attributes\":{\"line_alpha\":0.1,\"line_color\":\"#1f77b4\",\"line_width\":3,\"x\":{\"field\":\"x\"},\"y\":{\"field\":\"y\"}},\"id\":\"e949fe06-7617-47b5-93e7-eb44a5459574\",\"type\":\"Line\"},{\"attributes\":{\"source\":{\"id\":\"8ede8e08-3582-4e4c-aadc-1db27b3cd4fd\",\"type\":\"ColumnDataSource\"}},\"id\":\"f7112a64-b6ca-4c29-8b2f-e9e51600b0fa\",\"type\":\"CDSView\"},{\"attributes\":{},\"id\":\"59225eed-6aad-410e-a93d-7185de3e8eb2\",\"type\":\"BasicTickFormatter\"},{\"attributes\":{\"callback\":null,\"data\":{\"x\":[2018,2000,1980,1990,1970,1960,2010],\"y\":[2.6,3.5,4.7,4.4,5.0,4.1,3.5]},\"selected\":{\"id\":\"c9cad6c7-2aa8-45e4-a2ac-bfc8766c0294\",\"type\":\"Selection\"},\"selection_policy\":{\"id\":\"8c665509-e85c-440b-8bc3-d8ed0d3fafa3\",\"type\":\"UnionRenderers\"}},\"id\":\"46e0ed03-abce-454e-9786-251de6c3fdac\",\"type\":\"ColumnDataSource\"},{\"attributes\":{\"source\":{\"id\":\"79013d9c-a5cb-4882-ba6c-9acb8d841ced\",\"type\":\"ColumnDataSource\"}},\"id\":\"5b0bd356-89b6-434f-b4e0-d24614c5c51e\",\"type\":\"CDSView\"},{\"attributes\":{\"label\":{\"value\":\"LeBron James(SF)\"},\"renderers\":[{\"id\":\"585b2add-fca2-4fb3-ad51-2969431c72c6\",\"type\":\"GlyphRenderer\"}]},\"id\":\"b097a681-a404-45c2-81ab-b8b01e067bc7\",\"type\":\"LegendItem\"},{\"attributes\":{},\"id\":\"9703e8e4-bf5f-4fe1-b086-805be8dc58f5\",\"type\":\"Selection\"},{\"attributes\":{\"line_alpha\":0.2,\"line_color\":\"Orange\",\"line_width\":3,\"x\":{\"field\":\"x\"},\"y\":{\"field\":\"threepointm\"}},\"id\":\"7e09b32d-7c62-4758-a8b3-57cee5b99641\",\"type\":\"Line\"},{\"attributes\":{\"line_alpha\":0.1,\"line_color\":\"#1f77b4\",\"line_width\":3,\"x\":{\"field\":\"x\"},\"y\":{\"field\":\"y\"}},\"id\":\"8c18bcd8-c719-456d-af0f-57461488e431\",\"type\":\"Line\"},{\"attributes\":{\"line_alpha\":0.1,\"line_color\":\"#1f77b4\",\"line_width\":3,\"x\":{\"field\":\"x\"},\"y\":{\"field\":\"threepointm\"}},\"id\":\"4b677164-b84c-446a-9390-770131ce77c1\",\"type\":\"Line\"},{\"attributes\":{\"line_alpha\":0.2,\"line_color\":\"gold\",\"line_width\":3,\"x\":{\"field\":\"x\"},\"y\":{\"field\":\"y\"}},\"id\":\"6c17784c-1e1f-4e82-90f6-cbe69e4dc75b\",\"type\":\"Line\"},{\"attributes\":{\"line_color\":\"Orange\",\"line_width\":3,\"x\":{\"field\":\"x\"},\"y\":{\"field\":\"threepointm\"}},\"id\":\"1786401c-eff0-46c9-8069-5337833dcb6f\",\"type\":\"Line\"},{\"attributes\":{\"data_source\":{\"id\":\"79013d9c-a5cb-4882-ba6c-9acb8d841ced\",\"type\":\"ColumnDataSource\"},\"glyph\":{\"id\":\"22ca0b13-0b89-4374-a0e4-3ceda71e67ad\",\"type\":\"Line\"},\"hover_glyph\":null,\"muted_glyph\":{\"id\":\"6c17784c-1e1f-4e82-90f6-cbe69e4dc75b\",\"type\":\"Line\"},\"nonselection_glyph\":{\"id\":\"8c18bcd8-c719-456d-af0f-57461488e431\",\"type\":\"Line\"},\"selection_glyph\":null,\"view\":{\"id\":\"5b0bd356-89b6-434f-b4e0-d24614c5c51e\",\"type\":\"CDSView\"}},\"id\":\"3c972f0e-a66e-4c12-9b23-ef323bc8ddc0\",\"type\":\"GlyphRenderer\"},{\"attributes\":{\"data_source\":{\"id\":\"61a6ffc6-4266-4219-ab84-af0b9138d62f\",\"type\":\"ColumnDataSource\"},\"glyph\":{\"id\":\"1786401c-eff0-46c9-8069-5337833dcb6f\",\"type\":\"Line\"},\"hover_glyph\":null,\"muted_glyph\":{\"id\":\"7e09b32d-7c62-4758-a8b3-57cee5b99641\",\"type\":\"Line\"},\"nonselection_glyph\":{\"id\":\"4b677164-b84c-446a-9390-770131ce77c1\",\"type\":\"Line\"},\"selection_glyph\":null,\"view\":{\"id\":\"558d4ce8-2635-4d16-aa69-5e8d39af1bca\",\"type\":\"CDSView\"}},\"id\":\"ac2bca6e-bad5-4f5c-a965-500d2fa8be31\",\"type\":\"GlyphRenderer\"},{\"attributes\":{},\"id\":\"859f4bcd-1234-472e-a094-5069f78cc60e\",\"type\":\"Selection\"},{\"attributes\":{\"source\":{\"id\":\"61a6ffc6-4266-4219-ab84-af0b9138d62f\",\"type\":\"ColumnDataSource\"}},\"id\":\"558d4ce8-2635-4d16-aa69-5e8d39af1bca\",\"type\":\"CDSView\"},{\"attributes\":{},\"id\":\"a20cf5c7-d9c7-48dc-885a-653306eec787\",\"type\":\"UnionRenderers\"},{\"attributes\":{\"below\":[{\"id\":\"f376dc6b-9b62-430c-8d75-8ad4ee6853f7\",\"type\":\"LinearAxis\"}],\"left\":[{\"id\":\"65fb6fe4-dd27-4f3f-a886-f13bb05b213f\",\"type\":\"LinearAxis\"}],\"plot_height\":500,\"plot_width\":1000,\"renderers\":[{\"id\":\"f376dc6b-9b62-430c-8d75-8ad4ee6853f7\",\"type\":\"LinearAxis\"},{\"id\":\"481b16de-7cc2-4fad-ac89-2f83ce549683\",\"type\":\"Grid\"},{\"id\":\"65fb6fe4-dd27-4f3f-a886-f13bb05b213f\",\"type\":\"LinearAxis\"},{\"id\":\"4defd9ae-43c2-4b5b-8744-9fe68f0acff9\",\"type\":\"Grid\"},{\"id\":\"80d1deed-0d47-417f-bbff-979b7fc02aa4\",\"type\":\"Legend\"},{\"id\":\"87e7050a-62b4-4d4d-94bd-174a439380a1\",\"type\":\"GlyphRenderer\"},{\"id\":\"8221f8d9-691c-4740-9068-0b7ee1b326fa\",\"type\":\"GlyphRenderer\"},{\"id\":\"9fcffd70-1935-4f2f-b90b-4abe2de0c1c4\",\"type\":\"GlyphRenderer\"},{\"id\":\"aae2f6df-03f9-4dfd-868f-6740f8ffb256\",\"type\":\"GlyphRenderer\"},{\"id\":\"97c7ab5d-4b46-4e78-afaf-c711a4d4bd22\",\"type\":\"GlyphRenderer\"},{\"id\":\"a6a1c7d9-c699-4844-b3b9-60d69d562620\",\"type\":\"GlyphRenderer\"},{\"id\":\"a5d042f4-d0c9-42d0-a539-0c457ef98917\",\"type\":\"GlyphRenderer\"},{\"id\":\"162453b0-8a49-4975-a2b4-5eff2a6bc4b2\",\"type\":\"GlyphRenderer\"}],\"right\":[{\"id\":\"80d1deed-0d47-417f-bbff-979b7fc02aa4\",\"type\":\"Legend\"}],\"title\":{\"id\":\"4f190dee-a4cd-4a18-b28e-c020727cad9d\",\"type\":\"Title\"},\"toolbar\":{\"id\":\"4b578468-eea4-4889-a5d9-9c51baa52164\",\"type\":\"Toolbar\"},\"toolbar_location\":\"left\",\"x_range\":{\"id\":\"801cb98d-18ac-46bf-ad39-4292fff62b82\",\"type\":\"Range1d\"},\"x_scale\":{\"id\":\"198de4b9-5036-4e37-b65d-c91cf9a276ac\",\"type\":\"LinearScale\"},\"y_range\":{\"id\":\"04e00823-091a-4c72-8f82-02ad95aa4d47\",\"type\":\"Range1d\"},\"y_scale\":{\"id\":\"ad53fbbb-edb0-4f2d-91b2-4d51890b9d0c\",\"type\":\"LinearScale\"}},\"id\":\"58c3d633-3416-4fc4-83e0-aecbfb9cdcdd\",\"subtype\":\"Figure\",\"type\":\"Plot\"},{\"attributes\":{\"line_alpha\":0.2,\"line_color\":\"Silver\",\"line_width\":3,\"x\":{\"field\":\"x\"},\"y\":{\"field\":\"y\"}},\"id\":\"31b72047-be46-4790-b907-2fefd16a6ad4\",\"type\":\"Line\"},{\"attributes\":{\"label\":{\"value\":\"Magic Johnson(PG)\"},\"renderers\":[{\"id\":\"ac2bca6e-bad5-4f5c-a965-500d2fa8be31\",\"type\":\"GlyphRenderer\"}]},\"id\":\"334488e4-f5e2-4c5b-8893-c795bce0b684\",\"type\":\"LegendItem\"},{\"attributes\":{\"label\":{\"value\":\"Steph Curry(PG)\"},\"renderers\":[{\"id\":\"3c972f0e-a66e-4c12-9b23-ef323bc8ddc0\",\"type\":\"GlyphRenderer\"}]},\"id\":\"9180a88c-24c2-40e8-8b1c-df4dfbc0c5e4\",\"type\":\"LegendItem\"},{\"attributes\":{\"line_alpha\":0.2,\"line_color\":\"Pink\",\"line_width\":3,\"x\":{\"field\":\"x\"},\"y\":{\"field\":\"threepointm\"}},\"id\":\"ff012846-b845-461a-81b4-724ac1b6d635\",\"type\":\"Line\"},{\"attributes\":{\"callback\":null,\"renderers\":\"auto\",\"tooltips\":[[\"Season\",\"@x\"],[\"Name\",\"@name\"],[\"Team\",\"@Team\"],[\"Assists\",\"@assist\"]]},\"id\":\"9eef10cb-4770-4f89-929c-4d1f339fb283\",\"type\":\"HoverTool\"},{\"attributes\":{\"line_alpha\":0.1,\"line_color\":\"#1f77b4\",\"line_width\":3,\"x\":{\"field\":\"x\"},\"y\":{\"field\":\"threepointm\"}},\"id\":\"cbc6d31d-e0e5-4332-9026-04b7bf091445\",\"type\":\"Line\"},{\"attributes\":{\"data_source\":{\"id\":\"0b4153e7-096d-4d55-b206-886563a9d475\",\"type\":\"ColumnDataSource\"},\"glyph\":{\"id\":\"bc12b776-23f4-451b-ace5-4a6cb712a990\",\"type\":\"Line\"},\"hover_glyph\":null,\"muted_glyph\":{\"id\":\"31b72047-be46-4790-b907-2fefd16a6ad4\",\"type\":\"Line\"},\"nonselection_glyph\":{\"id\":\"cfb0e899-feca-43bd-8202-ff66dbbc6dd2\",\"type\":\"Line\"},\"selection_glyph\":null,\"view\":{\"id\":\"c196e942-5450-4709-8659-23507b771af7\",\"type\":\"CDSView\"}},\"id\":\"2ae4b0d8-bedd-4200-beb8-9e8210db3f97\",\"type\":\"GlyphRenderer\"},{\"attributes\":{\"line_color\":\"Pink\",\"line_width\":3,\"x\":{\"field\":\"x\"},\"y\":{\"field\":\"threepointm\"}},\"id\":\"d795301c-85e5-43c4-9031-35b1ecc1b0b8\",\"type\":\"Line\"},{\"attributes\":{\"line_alpha\":0.1,\"line_color\":\"#1f77b4\",\"line_width\":3,\"x\":{\"field\":\"x\"},\"y\":{\"field\":\"y\"}},\"id\":\"cfb0e899-feca-43bd-8202-ff66dbbc6dd2\",\"type\":\"Line\"},{\"attributes\":{\"data_source\":{\"id\":\"e9bb7a82-7d48-4707-93ea-132e332f1d79\",\"type\":\"ColumnDataSource\"},\"glyph\":{\"id\":\"d795301c-85e5-43c4-9031-35b1ecc1b0b8\",\"type\":\"Line\"},\"hover_glyph\":null,\"muted_glyph\":{\"id\":\"ff012846-b845-461a-81b4-724ac1b6d635\",\"type\":\"Line\"},\"nonselection_glyph\":{\"id\":\"cbc6d31d-e0e5-4332-9026-04b7bf091445\",\"type\":\"Line\"},\"selection_glyph\":null,\"view\":{\"id\":\"cc6f2be6-ac0e-45b0-93db-7b11730a4c0b\",\"type\":\"CDSView\"}},\"id\":\"00e19fe3-f546-4758-8e7d-c487d1d90c7f\",\"type\":\"GlyphRenderer\"},{\"attributes\":{\"line_color\":\"Silver\",\"line_width\":3,\"x\":{\"field\":\"x\"},\"y\":{\"field\":\"y\"}},\"id\":\"bc12b776-23f4-451b-ace5-4a6cb712a990\",\"type\":\"Line\"},{\"attributes\":{\"active_drag\":\"auto\",\"active_inspect\":\"auto\",\"active_scroll\":\"auto\",\"active_tap\":\"auto\",\"tools\":[{\"id\":\"3c03ac2a-0ef0-4582-8690-2b7f1541b35f\",\"type\":\"HoverTool\"},{\"id\":\"da497a0b-fa0e-40b7-891b-7ca67e4ad6dc\",\"type\":\"PanTool\"},{\"id\":\"fb3e29db-db4c-484a-a693-8493cb94d3a2\",\"type\":\"WheelZoomTool\"},{\"id\":\"8c353407-aa27-4688-913a-2b4324675d9d\",\"type\":\"ResetTool\"}]},\"id\":\"4b578468-eea4-4889-a5d9-9c51baa52164\",\"type\":\"Toolbar\"},{\"attributes\":{\"source\":{\"id\":\"0b4153e7-096d-4d55-b206-886563a9d475\",\"type\":\"ColumnDataSource\"}},\"id\":\"c196e942-5450-4709-8659-23507b771af7\",\"type\":\"CDSView\"},{\"attributes\":{},\"id\":\"c76e29c2-3793-4855-8663-08e46cd9f962\",\"type\":\"BasicTicker\"},{\"attributes\":{},\"id\":\"46f57e37-d064-4398-b2ef-a682eac5bd13\",\"type\":\"Selection\"},{\"attributes\":{\"callback\":null,\"end\":22},\"id\":\"04e00823-091a-4c72-8f82-02ad95aa4d47\",\"type\":\"Range1d\"},{\"attributes\":{},\"id\":\"2c416706-7991-45ef-bb81-4b4b7c1ba871\",\"type\":\"UnionRenderers\"},{\"attributes\":{},\"id\":\"198de4b9-5036-4e37-b65d-c91cf9a276ac\",\"type\":\"LinearScale\"},{\"attributes\":{\"label\":{\"value\":\"Wilt Chamberlin(C)\"},\"renderers\":[{\"id\":\"2ae4b0d8-bedd-4200-beb8-9e8210db3f97\",\"type\":\"GlyphRenderer\"}]},\"id\":\"e923030d-b0d2-44de-91c9-ab2c2ec46ab0\",\"type\":\"LegendItem\"},{\"attributes\":{},\"id\":\"ad53fbbb-edb0-4f2d-91b2-4d51890b9d0c\",\"type\":\"LinearScale\"},{\"attributes\":{\"axis_label\":\"Year Season\",\"formatter\":{\"id\":\"82c39874-007b-48ee-a6e7-ab2e066decd0\",\"type\":\"BasicTickFormatter\"},\"plot\":{\"id\":\"58c3d633-3416-4fc4-83e0-aecbfb9cdcdd\",\"subtype\":\"Figure\",\"type\":\"Plot\"},\"ticker\":{\"id\":\"c76e29c2-3793-4855-8663-08e46cd9f962\",\"type\":\"BasicTicker\"}},\"id\":\"f376dc6b-9b62-430c-8d75-8ad4ee6853f7\",\"type\":\"LinearAxis\"}],\"root_ids\":[\"f94c464d-2f01-4c50-9965-dd3b554d59b3\"]},\"title\":\"Bokeh Application\",\"version\":\"0.12.16\"}};\n",
       "  var render_items = [{\"docid\":\"d27edeb0-4cbd-4bc5-9fe0-3663f5b3b5d4\",\"elementid\":\"b1197f74-1bcb-4235-ada9-c92b3dcb80b4\",\"modelid\":\"f94c464d-2f01-4c50-9965-dd3b554d59b3\"}];\n",
       "  root.Bokeh.embed.embed_items_notebook(docs_json, render_items);\n",
       "\n",
       "  }\n",
       "  if (root.Bokeh !== undefined) {\n",
       "    embed_document(root);\n",
       "  } else {\n",
       "    var attempts = 0;\n",
       "    var timer = setInterval(function(root) {\n",
       "      if (root.Bokeh !== undefined) {\n",
       "        embed_document(root);\n",
       "        clearInterval(timer);\n",
       "      }\n",
       "      attempts++;\n",
       "      if (attempts > 100) {\n",
       "        console.log(\"Bokeh: ERROR: Unable to run BokehJS code because BokehJS library is missing\")\n",
       "        clearInterval(timer);\n",
       "      }\n",
       "    }, 10, root)\n",
       "  }\n",
       "})(window);"
      ],
      "application/vnd.bokehjs_exec.v0+json": ""
     },
     "metadata": {
      "application/vnd.bokehjs_exec.v0+json": {
       "id": "f94c464d-2f01-4c50-9965-dd3b554d59b3"
      }
     },
     "output_type": "display_data"
    }
   ],
   "source": [
    "pPointsPerGame.legend.click_policy='mute'\n",
    "passistsPerGame.legend.click_policy='mute'\n",
    "preboundPerGame.legend.click_policy='mute'\n",
    "prethreePerGame.legend.click_policy='mute'\n",
    "pretwoPerGame.legend.click_policy ='mute'\n",
    "\n",
    "\n",
    "pPointsPerGame.right = pPointsPerGame.legend\n",
    "passistsPerGame.right = passistsPerGame.legend\n",
    "preboundPerGame.right = preboundPerGame.legend\n",
    "prethreePerGame.right = prethreePerGame.legend\n",
    "pretwoPerGame.right = pretwoPerGame.legend\n",
    "\n",
    "from bokeh.models.widgets import Panel, Tabs\n",
    "tab1 = Panel(child=pPointsPerGame, title=\"Points Per Game\")\n",
    "tab2 = Panel(child=passistsPerGame, title=\"Assists Per Game\")\n",
    "tab3 = Panel(child=preboundPerGame, title=\"Rebound Per Game\")\n",
    "tab4 = Panel(child=prethreePerGame, title= \"Three Made Per Game\")\n",
    "tab5 = Panel(child=pretwoPerGame, title= \"Two Made Per Game\")\n",
    "layout1 = Tabs(tabs=[tab1, tab2, tab3,tab4,tab5])\n",
    "\n",
    "show(layout1)"
   ]
  },
  {
   "cell_type": "markdown",
   "metadata": {
    "extensions": {
     "jupyter_dashboards": {
      "version": 1,
      "views": {
       "grid_default": {
        "col": 8,
        "height": 4,
        "hidden": false,
        "row": 189,
        "width": 4
       },
       "report_default": {
        "hidden": false
       }
      }
     }
    }
   },
   "source": [
    "<hr style=\"height:1px;border:none;color:#333;background-color:#333;\" hr>"
   ]
  },
  {
   "cell_type": "markdown",
   "metadata": {
    "extensions": {
     "jupyter_dashboards": {
      "version": 1,
      "views": {
       "grid_default": {
        "col": 0,
        "height": 4,
        "hidden": false,
        "row": 548,
        "width": 12
       },
       "report_default": {
        "hidden": false
       }
      }
     }
    }
   },
   "source": [
    "# Why Warriors (current NBA champion team) is the best current/historic team ? \n"
   ]
  },
  {
   "cell_type": "code",
   "execution_count": 43,
   "metadata": {
    "extensions": {
     "jupyter_dashboards": {
      "version": 1,
      "views": {
       "grid_default": {
        "hidden": true
       },
       "report_default": {
        "hidden": true
       }
      }
     }
    },
    "scrolled": false
   },
   "outputs": [
    {
     "data": {
      "text/html": [
       "\n",
       "    <div class=\"bk-root\">\n",
       "        <a href=\"https://bokeh.pydata.org\" target=\"_blank\" class=\"bk-logo bk-logo-small bk-logo-notebook\"></a>\n",
       "        <span id=\"57c983a8-302b-4221-922f-ad0296e60d3a\">Loading BokehJS ...</span>\n",
       "    </div>"
      ]
     },
     "metadata": {},
     "output_type": "display_data"
    },
    {
     "data": {
      "application/javascript": [
       "\n",
       "(function(root) {\n",
       "  function now() {\n",
       "    return new Date();\n",
       "  }\n",
       "\n",
       "  var force = true;\n",
       "\n",
       "  if (typeof (root._bokeh_onload_callbacks) === \"undefined\" || force === true) {\n",
       "    root._bokeh_onload_callbacks = [];\n",
       "    root._bokeh_is_loading = undefined;\n",
       "  }\n",
       "\n",
       "  var JS_MIME_TYPE = 'application/javascript';\n",
       "  var HTML_MIME_TYPE = 'text/html';\n",
       "  var EXEC_MIME_TYPE = 'application/vnd.bokehjs_exec.v0+json';\n",
       "  var CLASS_NAME = 'output_bokeh rendered_html';\n",
       "\n",
       "  /**\n",
       "   * Render data to the DOM node\n",
       "   */\n",
       "  function render(props, node) {\n",
       "    var script = document.createElement(\"script\");\n",
       "    node.appendChild(script);\n",
       "  }\n",
       "\n",
       "  /**\n",
       "   * Handle when an output is cleared or removed\n",
       "   */\n",
       "  function handleClearOutput(event, handle) {\n",
       "    var cell = handle.cell;\n",
       "\n",
       "    var id = cell.output_area._bokeh_element_id;\n",
       "    var server_id = cell.output_area._bokeh_server_id;\n",
       "    // Clean up Bokeh references\n",
       "    if (id !== undefined) {\n",
       "      Bokeh.index[id].model.document.clear();\n",
       "      delete Bokeh.index[id];\n",
       "    }\n",
       "\n",
       "    if (server_id !== undefined) {\n",
       "      // Clean up Bokeh references\n",
       "      var cmd = \"from bokeh.io.state import curstate; print(curstate().uuid_to_server['\" + server_id + \"'].get_sessions()[0].document.roots[0]._id)\";\n",
       "      cell.notebook.kernel.execute(cmd, {\n",
       "        iopub: {\n",
       "          output: function(msg) {\n",
       "            var element_id = msg.content.text.trim();\n",
       "            Bokeh.index[element_id].model.document.clear();\n",
       "            delete Bokeh.index[element_id];\n",
       "          }\n",
       "        }\n",
       "      });\n",
       "      // Destroy server and session\n",
       "      var cmd = \"import bokeh.io.notebook as ion; ion.destroy_server('\" + server_id + \"')\";\n",
       "      cell.notebook.kernel.execute(cmd);\n",
       "    }\n",
       "  }\n",
       "\n",
       "  /**\n",
       "   * Handle when a new output is added\n",
       "   */\n",
       "  function handleAddOutput(event, handle) {\n",
       "    var output_area = handle.output_area;\n",
       "    var output = handle.output;\n",
       "\n",
       "    // limit handleAddOutput to display_data with EXEC_MIME_TYPE content only\n",
       "    if ((output.output_type != \"display_data\") || (!output.data.hasOwnProperty(EXEC_MIME_TYPE))) {\n",
       "      return\n",
       "    }\n",
       "\n",
       "    var toinsert = output_area.element.find(\".\" + CLASS_NAME.split(' ')[0]);\n",
       "\n",
       "    if (output.metadata[EXEC_MIME_TYPE][\"id\"] !== undefined) {\n",
       "      toinsert[toinsert.length - 1].firstChild.textContent = output.data[JS_MIME_TYPE];\n",
       "      // store reference to embed id on output_area\n",
       "      output_area._bokeh_element_id = output.metadata[EXEC_MIME_TYPE][\"id\"];\n",
       "    }\n",
       "    if (output.metadata[EXEC_MIME_TYPE][\"server_id\"] !== undefined) {\n",
       "      var bk_div = document.createElement(\"div\");\n",
       "      bk_div.innerHTML = output.data[HTML_MIME_TYPE];\n",
       "      var script_attrs = bk_div.children[0].attributes;\n",
       "      for (var i = 0; i < script_attrs.length; i++) {\n",
       "        toinsert[toinsert.length - 1].firstChild.setAttribute(script_attrs[i].name, script_attrs[i].value);\n",
       "      }\n",
       "      // store reference to server id on output_area\n",
       "      output_area._bokeh_server_id = output.metadata[EXEC_MIME_TYPE][\"server_id\"];\n",
       "    }\n",
       "  }\n",
       "\n",
       "  function register_renderer(events, OutputArea) {\n",
       "\n",
       "    function append_mime(data, metadata, element) {\n",
       "      // create a DOM node to render to\n",
       "      var toinsert = this.create_output_subarea(\n",
       "        metadata,\n",
       "        CLASS_NAME,\n",
       "        EXEC_MIME_TYPE\n",
       "      );\n",
       "      this.keyboard_manager.register_events(toinsert);\n",
       "      // Render to node\n",
       "      var props = {data: data, metadata: metadata[EXEC_MIME_TYPE]};\n",
       "      render(props, toinsert[toinsert.length - 1]);\n",
       "      element.append(toinsert);\n",
       "      return toinsert\n",
       "    }\n",
       "\n",
       "    /* Handle when an output is cleared or removed */\n",
       "    events.on('clear_output.CodeCell', handleClearOutput);\n",
       "    events.on('delete.Cell', handleClearOutput);\n",
       "\n",
       "    /* Handle when a new output is added */\n",
       "    events.on('output_added.OutputArea', handleAddOutput);\n",
       "\n",
       "    /**\n",
       "     * Register the mime type and append_mime function with output_area\n",
       "     */\n",
       "    OutputArea.prototype.register_mime_type(EXEC_MIME_TYPE, append_mime, {\n",
       "      /* Is output safe? */\n",
       "      safe: true,\n",
       "      /* Index of renderer in `output_area.display_order` */\n",
       "      index: 0\n",
       "    });\n",
       "  }\n",
       "\n",
       "  // register the mime type if in Jupyter Notebook environment and previously unregistered\n",
       "  if (root.Jupyter !== undefined) {\n",
       "    var events = require('base/js/events');\n",
       "    var OutputArea = require('notebook/js/outputarea').OutputArea;\n",
       "\n",
       "    if (OutputArea.prototype.mime_types().indexOf(EXEC_MIME_TYPE) == -1) {\n",
       "      register_renderer(events, OutputArea);\n",
       "    }\n",
       "  }\n",
       "\n",
       "  \n",
       "  if (typeof (root._bokeh_timeout) === \"undefined\" || force === true) {\n",
       "    root._bokeh_timeout = Date.now() + 5000;\n",
       "    root._bokeh_failed_load = false;\n",
       "  }\n",
       "\n",
       "  var NB_LOAD_WARNING = {'data': {'text/html':\n",
       "     \"<div style='background-color: #fdd'>\\n\"+\n",
       "     \"<p>\\n\"+\n",
       "     \"BokehJS does not appear to have successfully loaded. If loading BokehJS from CDN, this \\n\"+\n",
       "     \"may be due to a slow or bad network connection. Possible fixes:\\n\"+\n",
       "     \"</p>\\n\"+\n",
       "     \"<ul>\\n\"+\n",
       "     \"<li>re-rerun `output_notebook()` to attempt to load from CDN again, or</li>\\n\"+\n",
       "     \"<li>use INLINE resources instead, as so:</li>\\n\"+\n",
       "     \"</ul>\\n\"+\n",
       "     \"<code>\\n\"+\n",
       "     \"from bokeh.resources import INLINE\\n\"+\n",
       "     \"output_notebook(resources=INLINE)\\n\"+\n",
       "     \"</code>\\n\"+\n",
       "     \"</div>\"}};\n",
       "\n",
       "  function display_loaded() {\n",
       "    var el = document.getElementById(\"57c983a8-302b-4221-922f-ad0296e60d3a\");\n",
       "    if (el != null) {\n",
       "      el.textContent = \"BokehJS is loading...\";\n",
       "    }\n",
       "    if (root.Bokeh !== undefined) {\n",
       "      if (el != null) {\n",
       "        el.textContent = \"BokehJS \" + root.Bokeh.version + \" successfully loaded.\";\n",
       "      }\n",
       "    } else if (Date.now() < root._bokeh_timeout) {\n",
       "      setTimeout(display_loaded, 100)\n",
       "    }\n",
       "  }\n",
       "\n",
       "\n",
       "  function run_callbacks() {\n",
       "    try {\n",
       "      root._bokeh_onload_callbacks.forEach(function(callback) { callback() });\n",
       "    }\n",
       "    finally {\n",
       "      delete root._bokeh_onload_callbacks\n",
       "    }\n",
       "    console.info(\"Bokeh: all callbacks have finished\");\n",
       "  }\n",
       "\n",
       "  function load_libs(js_urls, callback) {\n",
       "    root._bokeh_onload_callbacks.push(callback);\n",
       "    if (root._bokeh_is_loading > 0) {\n",
       "      console.log(\"Bokeh: BokehJS is being loaded, scheduling callback at\", now());\n",
       "      return null;\n",
       "    }\n",
       "    if (js_urls == null || js_urls.length === 0) {\n",
       "      run_callbacks();\n",
       "      return null;\n",
       "    }\n",
       "    console.log(\"Bokeh: BokehJS not loaded, scheduling load and callback at\", now());\n",
       "    root._bokeh_is_loading = js_urls.length;\n",
       "    for (var i = 0; i < js_urls.length; i++) {\n",
       "      var url = js_urls[i];\n",
       "      var s = document.createElement('script');\n",
       "      s.src = url;\n",
       "      s.async = false;\n",
       "      s.onreadystatechange = s.onload = function() {\n",
       "        root._bokeh_is_loading--;\n",
       "        if (root._bokeh_is_loading === 0) {\n",
       "          console.log(\"Bokeh: all BokehJS libraries loaded\");\n",
       "          run_callbacks()\n",
       "        }\n",
       "      };\n",
       "      s.onerror = function() {\n",
       "        console.warn(\"failed to load library \" + url);\n",
       "      };\n",
       "      console.log(\"Bokeh: injecting script tag for BokehJS library: \", url);\n",
       "      document.getElementsByTagName(\"head\")[0].appendChild(s);\n",
       "    }\n",
       "  };var element = document.getElementById(\"57c983a8-302b-4221-922f-ad0296e60d3a\");\n",
       "  if (element == null) {\n",
       "    console.log(\"Bokeh: ERROR: autoload.js configured with elementid '57c983a8-302b-4221-922f-ad0296e60d3a' but no matching script tag was found. \")\n",
       "    return false;\n",
       "  }\n",
       "\n",
       "  var js_urls = [\"https://cdn.pydata.org/bokeh/release/bokeh-0.12.16.min.js\", \"https://cdn.pydata.org/bokeh/release/bokeh-widgets-0.12.16.min.js\", \"https://cdn.pydata.org/bokeh/release/bokeh-tables-0.12.16.min.js\", \"https://cdn.pydata.org/bokeh/release/bokeh-gl-0.12.16.min.js\"];\n",
       "\n",
       "  var inline_js = [\n",
       "    function(Bokeh) {\n",
       "      Bokeh.set_log_level(\"info\");\n",
       "    },\n",
       "    \n",
       "    function(Bokeh) {\n",
       "      \n",
       "    },\n",
       "    function(Bokeh) {\n",
       "      console.log(\"Bokeh: injecting CSS: https://cdn.pydata.org/bokeh/release/bokeh-0.12.16.min.css\");\n",
       "      Bokeh.embed.inject_css(\"https://cdn.pydata.org/bokeh/release/bokeh-0.12.16.min.css\");\n",
       "      console.log(\"Bokeh: injecting CSS: https://cdn.pydata.org/bokeh/release/bokeh-widgets-0.12.16.min.css\");\n",
       "      Bokeh.embed.inject_css(\"https://cdn.pydata.org/bokeh/release/bokeh-widgets-0.12.16.min.css\");\n",
       "      console.log(\"Bokeh: injecting CSS: https://cdn.pydata.org/bokeh/release/bokeh-tables-0.12.16.min.css\");\n",
       "      Bokeh.embed.inject_css(\"https://cdn.pydata.org/bokeh/release/bokeh-tables-0.12.16.min.css\");\n",
       "    }\n",
       "  ];\n",
       "\n",
       "  function run_inline_js() {\n",
       "    \n",
       "    if ((root.Bokeh !== undefined) || (force === true)) {\n",
       "      for (var i = 0; i < inline_js.length; i++) {\n",
       "        inline_js[i].call(root, root.Bokeh);\n",
       "      }if (force === true) {\n",
       "        display_loaded();\n",
       "      }} else if (Date.now() < root._bokeh_timeout) {\n",
       "      setTimeout(run_inline_js, 100);\n",
       "    } else if (!root._bokeh_failed_load) {\n",
       "      console.log(\"Bokeh: BokehJS failed to load within specified timeout.\");\n",
       "      root._bokeh_failed_load = true;\n",
       "    } else if (force !== true) {\n",
       "      var cell = $(document.getElementById(\"57c983a8-302b-4221-922f-ad0296e60d3a\")).parents('.cell').data().cell;\n",
       "      cell.output_area.append_execute_result(NB_LOAD_WARNING)\n",
       "    }\n",
       "\n",
       "  }\n",
       "\n",
       "  if (root._bokeh_is_loading === 0) {\n",
       "    console.log(\"Bokeh: BokehJS loaded, going straight to plotting\");\n",
       "    run_inline_js();\n",
       "  } else {\n",
       "    load_libs(js_urls, function() {\n",
       "      console.log(\"Bokeh: BokehJS plotting callback run at\", now());\n",
       "      run_inline_js();\n",
       "    });\n",
       "  }\n",
       "}(window));"
      ],
      "application/vnd.bokehjs_load.v0+json": "\n(function(root) {\n  function now() {\n    return new Date();\n  }\n\n  var force = true;\n\n  if (typeof (root._bokeh_onload_callbacks) === \"undefined\" || force === true) {\n    root._bokeh_onload_callbacks = [];\n    root._bokeh_is_loading = undefined;\n  }\n\n  \n\n  \n  if (typeof (root._bokeh_timeout) === \"undefined\" || force === true) {\n    root._bokeh_timeout = Date.now() + 5000;\n    root._bokeh_failed_load = false;\n  }\n\n  var NB_LOAD_WARNING = {'data': {'text/html':\n     \"<div style='background-color: #fdd'>\\n\"+\n     \"<p>\\n\"+\n     \"BokehJS does not appear to have successfully loaded. If loading BokehJS from CDN, this \\n\"+\n     \"may be due to a slow or bad network connection. Possible fixes:\\n\"+\n     \"</p>\\n\"+\n     \"<ul>\\n\"+\n     \"<li>re-rerun `output_notebook()` to attempt to load from CDN again, or</li>\\n\"+\n     \"<li>use INLINE resources instead, as so:</li>\\n\"+\n     \"</ul>\\n\"+\n     \"<code>\\n\"+\n     \"from bokeh.resources import INLINE\\n\"+\n     \"output_notebook(resources=INLINE)\\n\"+\n     \"</code>\\n\"+\n     \"</div>\"}};\n\n  function display_loaded() {\n    var el = document.getElementById(\"57c983a8-302b-4221-922f-ad0296e60d3a\");\n    if (el != null) {\n      el.textContent = \"BokehJS is loading...\";\n    }\n    if (root.Bokeh !== undefined) {\n      if (el != null) {\n        el.textContent = \"BokehJS \" + root.Bokeh.version + \" successfully loaded.\";\n      }\n    } else if (Date.now() < root._bokeh_timeout) {\n      setTimeout(display_loaded, 100)\n    }\n  }\n\n\n  function run_callbacks() {\n    try {\n      root._bokeh_onload_callbacks.forEach(function(callback) { callback() });\n    }\n    finally {\n      delete root._bokeh_onload_callbacks\n    }\n    console.info(\"Bokeh: all callbacks have finished\");\n  }\n\n  function load_libs(js_urls, callback) {\n    root._bokeh_onload_callbacks.push(callback);\n    if (root._bokeh_is_loading > 0) {\n      console.log(\"Bokeh: BokehJS is being loaded, scheduling callback at\", now());\n      return null;\n    }\n    if (js_urls == null || js_urls.length === 0) {\n      run_callbacks();\n      return null;\n    }\n    console.log(\"Bokeh: BokehJS not loaded, scheduling load and callback at\", now());\n    root._bokeh_is_loading = js_urls.length;\n    for (var i = 0; i < js_urls.length; i++) {\n      var url = js_urls[i];\n      var s = document.createElement('script');\n      s.src = url;\n      s.async = false;\n      s.onreadystatechange = s.onload = function() {\n        root._bokeh_is_loading--;\n        if (root._bokeh_is_loading === 0) {\n          console.log(\"Bokeh: all BokehJS libraries loaded\");\n          run_callbacks()\n        }\n      };\n      s.onerror = function() {\n        console.warn(\"failed to load library \" + url);\n      };\n      console.log(\"Bokeh: injecting script tag for BokehJS library: \", url);\n      document.getElementsByTagName(\"head\")[0].appendChild(s);\n    }\n  };var element = document.getElementById(\"57c983a8-302b-4221-922f-ad0296e60d3a\");\n  if (element == null) {\n    console.log(\"Bokeh: ERROR: autoload.js configured with elementid '57c983a8-302b-4221-922f-ad0296e60d3a' but no matching script tag was found. \")\n    return false;\n  }\n\n  var js_urls = [\"https://cdn.pydata.org/bokeh/release/bokeh-0.12.16.min.js\", \"https://cdn.pydata.org/bokeh/release/bokeh-widgets-0.12.16.min.js\", \"https://cdn.pydata.org/bokeh/release/bokeh-tables-0.12.16.min.js\", \"https://cdn.pydata.org/bokeh/release/bokeh-gl-0.12.16.min.js\"];\n\n  var inline_js = [\n    function(Bokeh) {\n      Bokeh.set_log_level(\"info\");\n    },\n    \n    function(Bokeh) {\n      \n    },\n    function(Bokeh) {\n      console.log(\"Bokeh: injecting CSS: https://cdn.pydata.org/bokeh/release/bokeh-0.12.16.min.css\");\n      Bokeh.embed.inject_css(\"https://cdn.pydata.org/bokeh/release/bokeh-0.12.16.min.css\");\n      console.log(\"Bokeh: injecting CSS: https://cdn.pydata.org/bokeh/release/bokeh-widgets-0.12.16.min.css\");\n      Bokeh.embed.inject_css(\"https://cdn.pydata.org/bokeh/release/bokeh-widgets-0.12.16.min.css\");\n      console.log(\"Bokeh: injecting CSS: https://cdn.pydata.org/bokeh/release/bokeh-tables-0.12.16.min.css\");\n      Bokeh.embed.inject_css(\"https://cdn.pydata.org/bokeh/release/bokeh-tables-0.12.16.min.css\");\n    }\n  ];\n\n  function run_inline_js() {\n    \n    if ((root.Bokeh !== undefined) || (force === true)) {\n      for (var i = 0; i < inline_js.length; i++) {\n        inline_js[i].call(root, root.Bokeh);\n      }if (force === true) {\n        display_loaded();\n      }} else if (Date.now() < root._bokeh_timeout) {\n      setTimeout(run_inline_js, 100);\n    } else if (!root._bokeh_failed_load) {\n      console.log(\"Bokeh: BokehJS failed to load within specified timeout.\");\n      root._bokeh_failed_load = true;\n    } else if (force !== true) {\n      var cell = $(document.getElementById(\"57c983a8-302b-4221-922f-ad0296e60d3a\")).parents('.cell').data().cell;\n      cell.output_area.append_execute_result(NB_LOAD_WARNING)\n    }\n\n  }\n\n  if (root._bokeh_is_loading === 0) {\n    console.log(\"Bokeh: BokehJS loaded, going straight to plotting\");\n    run_inline_js();\n  } else {\n    load_libs(js_urls, function() {\n      console.log(\"Bokeh: BokehJS plotting callback run at\", now());\n      run_inline_js();\n    });\n  }\n}(window));"
     },
     "metadata": {},
     "output_type": "display_data"
    },
    {
     "data": {
      "text/html": [
       "\n",
       "<div class=\"bk-root\">\n",
       "    <div class=\"bk-plotdiv\" id=\"d41fa108-ad2b-478a-8a3c-4db1526c21aa\"></div>\n",
       "</div>"
      ]
     },
     "metadata": {},
     "output_type": "display_data"
    },
    {
     "data": {
      "application/javascript": [
       "(function(root) {\n",
       "  function embed_document(root) {\n",
       "    \n",
       "  var docs_json = {\"29e44082-c96a-4df1-a3bb-4601d70732b2\":{\"roots\":{\"references\":[{\"attributes\":{\"fill_alpha\":{\"value\":0.4},\"fill_color\":{\"value\":\"Green\"},\"line_alpha\":{\"value\":0.4},\"line_color\":{\"value\":\"Green\"},\"x\":{\"field\":\"x\"},\"y\":{\"field\":\"a\"}},\"id\":\"bf852e51-b4a1-445f-a5b9-eb5a31c597f4\",\"type\":\"Circle\"},{\"attributes\":{\"source\":{\"id\":\"6bd9724f-0ca5-4a3e-84ae-b678731ab380\",\"type\":\"ColumnDataSource\"}},\"id\":\"dc627653-ac5a-44ac-9b14-f3923cdb7496\",\"type\":\"CDSView\"},{\"attributes\":{},\"id\":\"fa9c4153-9333-4623-857c-c084d050775b\",\"type\":\"Selection\"},{\"attributes\":{\"data_source\":{\"id\":\"c6b7fc2d-07f5-48b2-ae00-7f74db4c58a6\",\"type\":\"ColumnDataSource\"},\"glyph\":{\"id\":\"bf852e51-b4a1-445f-a5b9-eb5a31c597f4\",\"type\":\"Circle\"},\"hover_glyph\":null,\"muted_glyph\":null,\"nonselection_glyph\":{\"id\":\"c8688669-f32b-4614-afe8-1ab812345778\",\"type\":\"Circle\"},\"selection_glyph\":null,\"view\":{\"id\":\"79527446-0b49-46e0-a9d9-968ab6ae6eb4\",\"type\":\"CDSView\"}},\"id\":\"16c4d81b-395d-4053-b6fd-a4848d7df6ed\",\"type\":\"GlyphRenderer\"},{\"attributes\":{\"source\":{\"id\":\"c6b7fc2d-07f5-48b2-ae00-7f74db4c58a6\",\"type\":\"ColumnDataSource\"}},\"id\":\"79527446-0b49-46e0-a9d9-968ab6ae6eb4\",\"type\":\"CDSView\"},{\"attributes\":{\"data_source\":{\"id\":\"6bd9724f-0ca5-4a3e-84ae-b678731ab380\",\"type\":\"ColumnDataSource\"},\"glyph\":{\"id\":\"935f7e92-831f-4a28-bded-e460dfc44073\",\"type\":\"Circle\"},\"hover_glyph\":null,\"muted_glyph\":null,\"nonselection_glyph\":{\"id\":\"11e70b6c-6b77-4531-831c-34062474b657\",\"type\":\"Circle\"},\"selection_glyph\":null,\"view\":{\"id\":\"dc627653-ac5a-44ac-9b14-f3923cdb7496\",\"type\":\"CDSView\"}},\"id\":\"3918378b-eb5a-4284-8159-8c3f8aa8ab60\",\"type\":\"GlyphRenderer\"},{\"attributes\":{\"fill_alpha\":{\"value\":0.1},\"fill_color\":{\"value\":\"#1f77b4\"},\"line_alpha\":{\"value\":0.1},\"line_color\":{\"value\":\"#1f77b4\"},\"x\":{\"field\":\"x\"},\"y\":{\"field\":\"a\"}},\"id\":\"c8688669-f32b-4614-afe8-1ab812345778\",\"type\":\"Circle\"},{\"attributes\":{},\"id\":\"195e5fd3-3234-48ff-abde-e139be62f15d\",\"type\":\"UnionRenderers\"},{\"attributes\":{\"fill_color\":{\"value\":\"Green\"},\"line_color\":{\"value\":\"Green\"},\"size\":{\"units\":\"screen\",\"value\":10},\"x\":{\"field\":\"x\"},\"y\":{\"field\":\"a\"}},\"id\":\"3ba3b775-3770-4332-9bde-5c0b6cdfd584\",\"type\":\"Circle\"},{\"attributes\":{\"source\":{\"id\":\"fdf01aad-f9e2-4c04-816b-bd53bfb332b8\",\"type\":\"ColumnDataSource\"}},\"id\":\"370a5fb4-0ad5-46df-a6e4-a559ea9838b5\",\"type\":\"CDSView\"},{\"attributes\":{\"label\":{\"value\":\"Boston\"},\"renderers\":[{\"id\":\"16c4d81b-395d-4053-b6fd-a4848d7df6ed\",\"type\":\"GlyphRenderer\"},{\"id\":\"05ed985d-3a59-41b5-a011-f2bd64d2c62c\",\"type\":\"GlyphRenderer\"}]},\"id\":\"a0b056fd-31b2-411d-8b82-06ef8a808722\",\"type\":\"LegendItem\"},{\"attributes\":{\"fill_alpha\":{\"value\":0.4},\"fill_color\":{\"value\":\"lightsalmon\"},\"line_alpha\":{\"value\":0.4},\"line_color\":{\"value\":\"lightsalmon\"},\"x\":{\"field\":\"x\"},\"y\":{\"field\":\"a\"}},\"id\":\"ab082c46-29f3-4d09-82aa-4d61049627e4\",\"type\":\"Circle\"},{\"attributes\":{\"data_source\":{\"id\":\"fdf01aad-f9e2-4c04-816b-bd53bfb332b8\",\"type\":\"ColumnDataSource\"},\"glyph\":{\"id\":\"3ba3b775-3770-4332-9bde-5c0b6cdfd584\",\"type\":\"Circle\"},\"hover_glyph\":null,\"muted_glyph\":null,\"nonselection_glyph\":{\"id\":\"e0c0a53b-eae6-4e3e-94f5-482de79e3c63\",\"type\":\"Circle\"},\"selection_glyph\":null,\"view\":{\"id\":\"370a5fb4-0ad5-46df-a6e4-a559ea9838b5\",\"type\":\"CDSView\"}},\"id\":\"05ed985d-3a59-41b5-a011-f2bd64d2c62c\",\"type\":\"GlyphRenderer\"},{\"attributes\":{\"fill_alpha\":{\"value\":0.1},\"fill_color\":{\"value\":\"#1f77b4\"},\"line_alpha\":{\"value\":0.1},\"line_color\":{\"value\":\"#1f77b4\"},\"size\":{\"units\":\"screen\",\"value\":10},\"x\":{\"field\":\"x\"},\"y\":{\"field\":\"a\"}},\"id\":\"e0c0a53b-eae6-4e3e-94f5-482de79e3c63\",\"type\":\"Circle\"},{\"attributes\":{},\"id\":\"2f43d31c-d088-49b7-93d6-3f4667ed94b5\",\"type\":\"Selection\"},{\"attributes\":{},\"id\":\"07881f2b-8d8b-4b12-99e9-88e4084b2caa\",\"type\":\"UnionRenderers\"},{\"attributes\":{\"source\":{\"id\":\"19534f01-6867-460c-bcc2-32e0df51830c\",\"type\":\"ColumnDataSource\"}},\"id\":\"c743ba65-8651-4444-8226-0d723eb39e34\",\"type\":\"CDSView\"},{\"attributes\":{},\"id\":\"71b77f2c-538f-4221-8897-2f92d276a93c\",\"type\":\"Selection\"},{\"attributes\":{\"data_source\":{\"id\":\"0687f0d0-b210-466c-8fee-b7cc281172d2\",\"type\":\"ColumnDataSource\"},\"glyph\":{\"id\":\"ab082c46-29f3-4d09-82aa-4d61049627e4\",\"type\":\"Circle\"},\"hover_glyph\":null,\"muted_glyph\":null,\"nonselection_glyph\":{\"id\":\"4b7cccdc-9909-4698-ab4b-79b9c43647ce\",\"type\":\"Circle\"},\"selection_glyph\":null,\"view\":{\"id\":\"ba849947-9a48-4079-868a-850246c9de70\",\"type\":\"CDSView\"}},\"id\":\"449e4ac8-f58a-480f-ae2e-3ebd3182d46b\",\"type\":\"GlyphRenderer\"},{\"attributes\":{\"source\":{\"id\":\"0687f0d0-b210-466c-8fee-b7cc281172d2\",\"type\":\"ColumnDataSource\"}},\"id\":\"ba849947-9a48-4079-868a-850246c9de70\",\"type\":\"CDSView\"},{\"attributes\":{\"fill_alpha\":{\"value\":0.1},\"fill_color\":{\"value\":\"#1f77b4\"},\"line_alpha\":{\"value\":0.1},\"line_color\":{\"value\":\"#1f77b4\"},\"x\":{\"field\":\"x\"},\"y\":{\"field\":\"a\"}},\"id\":\"11e70b6c-6b77-4531-831c-34062474b657\",\"type\":\"Circle\"},{\"attributes\":{\"fill_alpha\":{\"value\":0.1},\"fill_color\":{\"value\":\"#1f77b4\"},\"line_alpha\":{\"value\":0.1},\"line_color\":{\"value\":\"#1f77b4\"},\"x\":{\"field\":\"x\"},\"y\":{\"field\":\"a\"}},\"id\":\"4b7cccdc-9909-4698-ab4b-79b9c43647ce\",\"type\":\"Circle\"},{\"attributes\":{},\"id\":\"dc72456d-bbdd-4baa-b4fa-8b1e53a1497b\",\"type\":\"UnionRenderers\"},{\"attributes\":{\"label\":{\"value\":\"Bulls\"},\"renderers\":[{\"id\":\"449e4ac8-f58a-480f-ae2e-3ebd3182d46b\",\"type\":\"GlyphRenderer\"},{\"id\":\"33945a0f-7f1b-46c9-acfd-3017dd37da2b\",\"type\":\"GlyphRenderer\"}]},\"id\":\"f368fe0b-6cb9-4bfa-b0c1-01f37ae72343\",\"type\":\"LegendItem\"},{\"attributes\":{},\"id\":\"bb75366d-0b24-44ac-9dfa-40ddccda5a6f\",\"type\":\"Selection\"},{\"attributes\":{\"fill_color\":{\"value\":\"lightsalmon\"},\"line_color\":{\"value\":\"lightsalmon\"},\"size\":{\"units\":\"screen\",\"value\":10},\"x\":{\"field\":\"x\"},\"y\":{\"field\":\"a\"}},\"id\":\"2b22f66c-7e60-48a3-8d94-33cc3721bf50\",\"type\":\"Circle\"},{\"attributes\":{\"source\":{\"id\":\"6e1112ec-8186-4601-8cc5-6ab63b3a765d\",\"type\":\"ColumnDataSource\"}},\"id\":\"777f9d73-961a-4d56-997d-187eb31c97e5\",\"type\":\"CDSView\"},{\"attributes\":{\"data_source\":{\"id\":\"6e1112ec-8186-4601-8cc5-6ab63b3a765d\",\"type\":\"ColumnDataSource\"},\"glyph\":{\"id\":\"2b22f66c-7e60-48a3-8d94-33cc3721bf50\",\"type\":\"Circle\"},\"hover_glyph\":null,\"muted_glyph\":null,\"nonselection_glyph\":{\"id\":\"0b20955e-ba64-450c-8ec4-7f23edeb06b1\",\"type\":\"Circle\"},\"selection_glyph\":null,\"view\":{\"id\":\"777f9d73-961a-4d56-997d-187eb31c97e5\",\"type\":\"CDSView\"}},\"id\":\"33945a0f-7f1b-46c9-acfd-3017dd37da2b\",\"type\":\"GlyphRenderer\"},{\"attributes\":{\"fill_alpha\":{\"value\":0.1},\"fill_color\":{\"value\":\"#1f77b4\"},\"line_alpha\":{\"value\":0.1},\"line_color\":{\"value\":\"#1f77b4\"},\"size\":{\"units\":\"screen\",\"value\":10},\"x\":{\"field\":\"x\"},\"y\":{\"field\":\"a\"}},\"id\":\"0b20955e-ba64-450c-8ec4-7f23edeb06b1\",\"type\":\"Circle\"},{\"attributes\":{\"fill_alpha\":{\"value\":0.4},\"fill_color\":{\"value\":\"seagreen\"},\"line_alpha\":{\"value\":0.4},\"line_color\":{\"value\":\"seagreen\"},\"x\":{\"field\":\"x\"},\"y\":{\"field\":\"a\"}},\"id\":\"f3611fde-bc86-4d21-9d6d-e73938f8608d\",\"type\":\"Circle\"},{\"attributes\":{\"fill_alpha\":{\"value\":0.4},\"fill_color\":{\"value\":\"Royalblue\"},\"line_alpha\":{\"value\":0.4},\"line_color\":{\"value\":\"Royalblue\"},\"x\":{\"field\":\"x\"},\"y\":{\"field\":\"a\"}},\"id\":\"935f7e92-831f-4a28-bded-e460dfc44073\",\"type\":\"Circle\"},{\"attributes\":{\"label\":{\"value\":\"Piston\"},\"renderers\":[{\"id\":\"3918378b-eb5a-4284-8159-8c3f8aa8ab60\",\"type\":\"GlyphRenderer\"},{\"id\":\"4e2035d4-ba7f-44f7-a194-a10d1dff3614\",\"type\":\"GlyphRenderer\"}]},\"id\":\"c30c1427-5a95-4946-9c0d-2abb51df3bb3\",\"type\":\"LegendItem\"},{\"attributes\":{\"callback\":null,\"data\":{\"a\":{\"__ndarray__\":\"zczMzMzMNEDNzMzMzEw4QDMzMzMzszhA\",\"dtype\":\"float64\",\"shape\":[3]},\"team\":[\"DET\",\"DET\",\"DET\"],\"wins\":[54,59,63],\"x\":[2003,1989,1988],\"y\":{\"__ndarray__\":\"ZmZmZmaGVkAzMzMzMxNaQGZmZmZmplpA\",\"dtype\":\"float64\",\"shape\":[3]}},\"selected\":{\"id\":\"75ac54ba-1911-4756-ad09-15067fb45a0c\",\"type\":\"Selection\"},\"selection_policy\":{\"id\":\"18a24ec8-52dc-4074-b11c-e15e29d20204\",\"type\":\"UnionRenderers\"}},\"id\":\"23ba97b8-909f-48e0-b36b-bb2f618596e6\",\"type\":\"ColumnDataSource\"},{\"attributes\":{},\"id\":\"a41ccb2d-859f-46fb-8eb7-9c24180f4911\",\"type\":\"UnionRenderers\"},{\"attributes\":{\"callback\":null,\"data\":{\"a\":{\"__ndarray__\":\"ZmZmZmZmPUDNzMzMzMw3QGZmZmZm5jRAAAAAAAAAMkBmZmZmZuY0QAAAAAAAgDhAMzMzMzMzNkAAAAAAAIA2QAAAAAAAADZAmpmZmZkZNUDNzMzMzEw3QGZmZmZmZjhAmpmZmZmZNkCamZmZmRk1QGZmZmZmZjRAzczMzMzMN0DNzMzMzEw3QAAAAAAAADdAAAAAAAAAN0BmZmZmZmY3QGZmZmZm5jVAAAAAAACAOEAAAAAAAIA2QGZmZmZmZjlAzczMzMxMOUAzMzMzMzM4QAAAAAAAgDhAAAAAAAAANkAAAAAAAIA5QDMzMzMzMztAzczMzMzMO0CamZmZmZk8QJqZmZmZmT1AMzMzMzOzPUBmZmZmZmY/QGZmZmZm5j1AMzMzMzOzPkAzMzMzM7M8QM3MzMzMzDxAZmZmZmZmPUAAAAAAAIA8QDMzMzMzMztAmpmZmZkZOUCamZmZmZk3QAAAAAAAgDlAmpmZmZmZOkCamZmZmRk8QDMzMzMzMztAZmZmZmbmOkDNzMzMzMw4QDMzMzMzMzlAMzMzMzMzOEAAAAAAAIA3QDMzMzMzMzhAAAAAAAAANEAAAAAAAAA1QDMzMzMzszVAAAAAAACAN0BmZmZmZuY1QM3MzMzMTDNAmpmZmZkZM0BmZmZmZmYyQJqZmZmZmTBAAAAAAACAN0BmZmZmZmY0QGZmZmZmZjJAzczMzMxMM0AAAAAAAAA1QDMzMzMzszRAMzMzMzOzNEBmZmZmZuYyQA==\",\"dtype\":\"float64\",\"shape\":[71]},\"team\":[\"LAL\",\"LAL\",\"LAL\",\"LAL\",\"LAL\",\"LAL\",\"LAL\",\"LAL\",\"LAL\",\"LAL\",\"LAL\",\"LAL\",\"LAL\",\"LAL\",\"LAL\",\"LAL\",\"LAL\",\"LAL\",\"LAL\",\"LAL\",\"LAL\",\"LAL\",\"LAL\",\"LAL\",\"LAL\",\"LAL\",\"LAL\",\"LAL\",\"LAL\",\"LAL\",\"LAL\",\"LAL\",\"LAL\",\"LAL\",\"LAL\",\"LAL\",\"LAL\",\"LAL\",\"LAL\",\"LAL\",\"LAL\",\"LAL\",\"LAL\",\"LAL\",\"LAL\",\"LAL\",\"LAL\",\"LAL\",\"LAL\",\"LAL\",\"LAL\",\"LAL\",\"LAL\",\"LAL\",\"LAL\",\"LAL\",\"LAL\",\"LAL\",\"LAL\",\"MNL\",\"MNL\",\"MNL\",\"MNL\",\"MNL\",\"MNL\",\"MNL\",\"MNL\",\"MNL\",\"MNL\",\"MNL\",\"MNL\"],\"wins\":[0,35,26,17,21,27,45,41,57,57,65,57,42,45,34,56,50,58,56,67,31,61,56,53,48,33,39,43,58,63,57,62,65,62,62,54,58,57,54,60,47,45,53,40,30,47,60,69,48,46,55,52,36,45,49,42,53,54,36,25,33,19,34,33,40,46,48,40,44,51,44],\"x\":[2018,2017,2016,2015,2014,2013,2012,2011,2010,2009,2008,2007,2006,2005,2004,2003,2002,2001,2000,1999,1998,1997,1996,1995,1994,1993,1992,1991,1990,1989,1988,1987,1986,1985,1984,1983,1982,1981,1980,1979,1978,1977,1976,1975,1974,1973,1972,1971,1970,1969,1968,1967,1966,1965,1964,1963,1962,1961,1960,1959,1958,1957,1956,1955,1954,1953,1952,1951,1950,1949,1948],\"y\":{\"__ndarray__\":\"zczMzMxsXUBmZmZmZgZbQGZmZmZmJlpAMzMzMzNTWEAAAAAAAKBYQAAAAAAAwFlAzczMzMyMWUAzMzMzM1NYQAAAAAAAYFlAzczMzMxsWUCamZmZmblaQGZmZmZmJltAMzMzMzPTWUCamZmZmdlYQM3MzMzMrFhAzczMzMyMWECamZmZmRlZQDMzMzMzU1lAZmZmZmYmWUAzMzMzMzNZQAAAAAAAwFhAAAAAAABgWkAAAAAAAABZQJqZmZmZuVlAZmZmZmZGWkCamZmZmRlZQM3MzMzMDFpAmpmZmZkZWUAzMzMzM5NaQM3MzMzMrFtAzczMzMysXEAzMzMzMzNcQDMzMzMzc11AMzMzMzNTXUDNzMzMzIxdQGZmZmZm5lxAAAAAAADAXEBmZmZmZqZcQM3MzMzMzFtAZmZmZmbGXECamZmZmTlcQDMzMzMzk1tAmpmZmZm5WkCamZmZmblaQM3MzMzMzFlAzczMzMxMW0DNzMzMzOxbQAAAAAAAQF5AMzMzMzOzXEDNzMzMzGxcQM3MzMzMDFxAzczMzMxMXkAAAAAAACBeQAAAAAAA4F1AmpmZmZn5W0DNzMzMzGxbQAAAAAAA4FxAAAAAAACgXUAAAAAAAIBcQDMzMzMz01pAAAAAAACAWkBmZmZmZkZaQDMzMzMzk1lAMzMzMzPTWEBmZmZmZuZXQM3MzMzMbFRAMzMzMzNTVUBmZmZmZmZVQDMzMzMzs1RAZmZmZmYGVUAAAAAAAABVQA==\",\"dtype\":\"float64\",\"shape\":[71]}},\"selected\":{\"id\":\"78067d38-1921-4cb5-b252-30d02d7e0167\",\"type\":\"Selection\"},\"selection_policy\":{\"id\":\"8ba1e656-11af-47ca-be3b-d1751c0f9493\",\"type\":\"UnionRenderers\"}},\"id\":\"bce7eaa8-3864-400f-9896-8220846790c3\",\"type\":\"ColumnDataSource\"},{\"attributes\":{\"fill_color\":{\"value\":\"Royalblue\"},\"line_color\":{\"value\":\"Royalblue\"},\"size\":{\"units\":\"screen\",\"value\":10},\"x\":{\"field\":\"x\"},\"y\":{\"field\":\"a\"}},\"id\":\"233a8271-fb82-4e8f-aeb9-8ce3a22eef3c\",\"type\":\"Circle\"},{\"attributes\":{\"source\":{\"id\":\"23ba97b8-909f-48e0-b36b-bb2f618596e6\",\"type\":\"ColumnDataSource\"}},\"id\":\"92929188-0397-48a4-81a7-981d8f0efe15\",\"type\":\"CDSView\"},{\"attributes\":{\"data_source\":{\"id\":\"19534f01-6867-460c-bcc2-32e0df51830c\",\"type\":\"ColumnDataSource\"},\"glyph\":{\"id\":\"62b69f2b-c216-4342-afa2-7c9d89e4d3bb\",\"type\":\"Circle\"},\"hover_glyph\":null,\"muted_glyph\":null,\"nonselection_glyph\":{\"id\":\"ab687c4d-73e4-4205-89bd-e7210cc5a012\",\"type\":\"Circle\"},\"selection_glyph\":null,\"view\":{\"id\":\"c743ba65-8651-4444-8226-0d723eb39e34\",\"type\":\"CDSView\"}},\"id\":\"30060525-b600-46e4-a35f-a7fd5d238f5e\",\"type\":\"GlyphRenderer\"},{\"attributes\":{\"data_source\":{\"id\":\"23ba97b8-909f-48e0-b36b-bb2f618596e6\",\"type\":\"ColumnDataSource\"},\"glyph\":{\"id\":\"233a8271-fb82-4e8f-aeb9-8ce3a22eef3c\",\"type\":\"Circle\"},\"hover_glyph\":null,\"muted_glyph\":null,\"nonselection_glyph\":{\"id\":\"70fbe5a8-78ff-4285-bba2-a14d53e584c0\",\"type\":\"Circle\"},\"selection_glyph\":null,\"view\":{\"id\":\"92929188-0397-48a4-81a7-981d8f0efe15\",\"type\":\"CDSView\"}},\"id\":\"4e2035d4-ba7f-44f7-a194-a10d1dff3614\",\"type\":\"GlyphRenderer\"},{\"attributes\":{\"fill_alpha\":{\"value\":0.1},\"fill_color\":{\"value\":\"#1f77b4\"},\"line_alpha\":{\"value\":0.1},\"line_color\":{\"value\":\"#1f77b4\"},\"size\":{\"units\":\"screen\",\"value\":10},\"x\":{\"field\":\"x\"},\"y\":{\"field\":\"a\"}},\"id\":\"70fbe5a8-78ff-4285-bba2-a14d53e584c0\",\"type\":\"Circle\"},{\"attributes\":{},\"id\":\"a247d1cd-ef26-4ecc-a211-17320af416da\",\"type\":\"Selection\"},{\"attributes\":{},\"id\":\"b9d09b0c-f0ed-4d52-8cdd-941064b367df\",\"type\":\"UnionRenderers\"},{\"attributes\":{},\"id\":\"8fc61596-63ed-4cfd-afd4-21d63a78f48d\",\"type\":\"Selection\"},{\"attributes\":{\"callback\":null,\"data\":{\"a\":{\"__ndarray__\":\"mpmZmZkZNUDNzMzMzEw3QAAAAAAAADdAAAAAAAAAN0BmZmZmZmY3QJqZmZmZmTxAmpmZmZmZPUBmZmZmZmY/QDMzMzMzszxAZmZmZmZmPUAzMzMzMzM7QGZmZmZmZjJAzczMzMxMM0AAAAAAAAA1QDMzMzMzszRAZmZmZmbmMkA=\",\"dtype\":\"float64\",\"shape\":[16]},\"team\":[\"LAL\",\"LAL\",\"LAL\",\"LAL\",\"LAL\",\"LAL\",\"LAL\",\"LAL\",\"LAL\",\"LAL\",\"LAL\",\"MNL\",\"MNL\",\"MNL\",\"MNL\",\"MNL\"],\"wins\":[57,65,58,56,67,62,65,62,57,60,69,46,48,40,51,44],\"x\":[2009,2008,2001,2000,1999,1987,1986,1984,1981,1979,1971,1953,1952,1951,1949,1948],\"y\":{\"__ndarray__\":\"zczMzMxsWUCamZmZmblaQDMzMzMzU1lAZmZmZmYmWUAzMzMzMzNZQDMzMzMzM1xAMzMzMzNzXUDNzMzMzIxdQGZmZmZmplxAZmZmZmbGXEAAAAAAAEBeQM3MzMzMbFRAMzMzMzNTVUBmZmZmZmZVQGZmZmZmBlVAAAAAAAAAVUA=\",\"dtype\":\"float64\",\"shape\":[16]}},\"selected\":{\"id\":\"d1cd6667-a364-48b5-be0e-7441bb9592f4\",\"type\":\"Selection\"},\"selection_policy\":{\"id\":\"b5f8bba0-99a0-4b0a-90f5-8623af9dddec\",\"type\":\"UnionRenderers\"}},\"id\":\"969df391-c4c3-47a4-8974-1aae09d04887\",\"type\":\"ColumnDataSource\"},{\"attributes\":{},\"id\":\"75ac54ba-1911-4756-ad09-15067fb45a0c\",\"type\":\"Selection\"},{\"attributes\":{\"data_source\":{\"id\":\"92603fd2-7322-4bc8-9394-04754f482bc6\",\"type\":\"ColumnDataSource\"},\"glyph\":{\"id\":\"f3611fde-bc86-4d21-9d6d-e73938f8608d\",\"type\":\"Circle\"},\"hover_glyph\":null,\"muted_glyph\":null,\"nonselection_glyph\":{\"id\":\"8e894c1c-271b-4de6-a5ed-110b4fb75bcc\",\"type\":\"Circle\"},\"selection_glyph\":null,\"view\":{\"id\":\"515302d2-49f0-43e2-9760-c29f36e49f10\",\"type\":\"CDSView\"}},\"id\":\"936f6b1a-491f-4a90-97e2-42566ba5186c\",\"type\":\"GlyphRenderer\"},{\"attributes\":{\"source\":{\"id\":\"92603fd2-7322-4bc8-9394-04754f482bc6\",\"type\":\"ColumnDataSource\"}},\"id\":\"515302d2-49f0-43e2-9760-c29f36e49f10\",\"type\":\"CDSView\"},{\"attributes\":{\"fill_alpha\":{\"value\":0.4},\"fill_color\":{\"value\":\"firebrick\"},\"line_alpha\":{\"value\":0.4},\"line_color\":{\"value\":\"firebrick\"},\"x\":{\"field\":\"x\"},\"y\":{\"field\":\"a\"}},\"id\":\"f268d9ca-3fb3-497b-97ce-5e5607269a50\",\"type\":\"Circle\"},{\"attributes\":{\"fill_alpha\":{\"value\":0.1},\"fill_color\":{\"value\":\"#1f77b4\"},\"line_alpha\":{\"value\":0.1},\"line_color\":{\"value\":\"#1f77b4\"},\"x\":{\"field\":\"x\"},\"y\":{\"field\":\"a\"}},\"id\":\"8e894c1c-271b-4de6-a5ed-110b4fb75bcc\",\"type\":\"Circle\"},{\"attributes\":{},\"id\":\"18a24ec8-52dc-4074-b11c-e15e29d20204\",\"type\":\"UnionRenderers\"},{\"attributes\":{\"callback\":null,\"data\":{\"a\":{\"__ndarray__\":\"ZmZmZmZmPUDNzMzMzEw9QGZmZmZmZj5AZmZmZmbmPEBmZmZmZmY7QM3MzMzMTDdAAAAAAACANkDNzMzMzEw2QAAAAAAAgDZAZmZmZmZmNkBmZmZmZuY0QGZmZmZmZjZAzczMzMzMN0AzMzMzM7M0QJqZmZmZGTZAAAAAAACANEBmZmZmZuY0QM3MzMzMzDRAzczMzMzMNUCamZmZmZk2QDMzMzMzszRAzczMzMzMNEAzMzMzMzM2QAAAAAAAADdAmpmZmZmZOEDNzMzMzMw6QAAAAAAAgDhAMzMzMzMzOUDNzMzMzMw3QJqZmZmZGThAAAAAAACAOEAAAAAAAIA4QGZmZmZmZjlAmpmZmZmZOEAAAAAAAIA1QGZmZmZmZjZAAAAAAAAAOEAzMzMzMzM2QDMzMzMzszhAMzMzMzOzOEAzMzMzMzM5QJqZmZmZmTlAZmZmZmbmOUBmZmZmZuY4QM3MzMzMTDlAzczMzMxMOEAzMzMzMzM4QJqZmZmZmTZAmpmZmZkZN0AzMzMzM7M2QDMzMzMzMzZAMzMzMzMzN0AzMzMzMzM3QGZmZmZmZjdAMzMzMzOzNEAzMzMzM7M3QM3MzMzMzDdAZmZmZmbmOUDNzMzMzMw4QGZmZmZm5jdAmpmZmZkZM0AAAAAAAAA0QGZmZmZmZjRAMzMzMzMzOkAzMzMzMzM4QGZmZmZmZjRAZmZmZmbmNUCamZmZmRk4QDMzMzMzszVAzczMzMzMMEBmZmZmZmYxQAAAAAAAABxAzczMzMzMFkA=\",\"dtype\":\"float64\",\"shape\":[73]},\"team\":[\"GSW\",\"GSW\",\"GSW\",\"GSW\",\"GSW\",\"GSW\",\"GSW\",\"GSW\",\"GSW\",\"GSW\",\"GSW\",\"GSW\",\"GSW\",\"GSW\",\"GSW\",\"GSW\",\"GSW\",\"GSW\",\"GSW\",\"GSW\",\"GSW\",\"GSW\",\"GSW\",\"GSW\",\"GSW\",\"GSW\",\"GSW\",\"GSW\",\"GSW\",\"GSW\",\"GSW\",\"GSW\",\"GSW\",\"GSW\",\"GSW\",\"GSW\",\"GSW\",\"GSW\",\"GSW\",\"GSW\",\"GSW\",\"GSW\",\"GSW\",\"GSW\",\"GSW\",\"GSW\",\"GSW\",\"GSW\",\"SFW\",\"SFW\",\"SFW\",\"SFW\",\"SFW\",\"SFW\",\"SFW\",\"SFW\",\"SFW\",\"PHW\",\"PHW\",\"PHW\",\"PHW\",\"PHW\",\"PHW\",\"PHW\",\"PHW\",\"PHW\",\"PHW\",\"PHW\",\"PHW\",\"PHW\",\"PHW\",\"PHW\",\"PHW\"],\"wins\":[0,58,67,73,67,51,47,23,36,26,29,48,42,34,34,37,38,21,17,19,21,19,30,36,26,50,34,55,44,37,43,20,42,30,22,37,30,45,39,24,38,43,46,59,48,44,47,51,41,30,41,43,44,35,17,48,31,49,46,49,32,37,37,45,33,29,12,33,40,26,28,27,35],\"x\":[2018,2017,2016,2015,2014,2013,2012,2011,2010,2009,2008,2007,2006,2005,2004,2003,2002,2001,2000,1999,1998,1997,1996,1995,1994,1993,1992,1991,1990,1989,1988,1987,1986,1985,1984,1983,1982,1981,1980,1979,1978,1977,1976,1975,1974,1973,1972,1971,1970,1969,1968,1967,1966,1965,1964,1963,1962,1961,1960,1959,1958,1957,1956,1955,1954,1953,1952,1951,1950,1949,1948,1947,1946],\"y\":{\"__ndarray__\":\"zczMzMxsXUAAAAAAAGBcQJqZmZmZ+VxAmpmZmZm5XEAAAAAAAIBbQDMzMzMzE1pAzczMzMxMWUAzMzMzM3NYQJqZmZmZ2VlAMzMzMzMzW0BmZmZmZiZbQAAAAAAAwFtAAAAAAACgWkAAAAAAAKBYQM3MzMzMrFhAMzMzMzNTV0CamZmZmZlZQM3MzMzMbFhAAAAAAAAgV0AAAAAAAOBXQDMzMzMzE1ZAMzMzMzMTVkBmZmZmZuZYQGZmZmZmZllAzczMzMxsWkCamZmZmflaQJqZmZmZeVtAzczMzMysXUBmZmZmZiZdQDMzMzMzE11AZmZmZmYmXUAAAAAAAMBaQAAAAAAAAFxAmpmZmZlZXECamZmZmZlbQJqZmZmZeVtAZmZmZmYmW0CamZmZmblbQDMzMzMzc1tAZmZmZmbmWUBmZmZmZkZaQGZmZmZmhlpAmpmZmZm5W0AzMzMzM3NbQAAAAAAAIFtAmpmZmZl5W0AzMzMzMzNbQM3MzMzMDFtAZmZmZmbGWkBmZmZmZsZbQGZmZmZmRltAAAAAAABAXUCamZmZmZleQAAAAAAA4FxAMzMzMzNzWkDNzMzMzOxaQAAAAAAAoF1AmpmZmZlZX0AAAAAAAEBeQGZmZmZmpl1AMzMzMzPTWUAzMzMzMxNaQJqZmZmZGVlAZmZmZmbGWUDNzMzMzExXQM3MzMzMjFNAzczMzMwMVEAAAAAAAKBVQJqZmZmZWVVAMzMzMzNTUkDNzMzMzOxUQJqZmZmZWVJAZmZmZmYmUUA=\",\"dtype\":\"float64\",\"shape\":[73]}},\"selected\":{\"id\":\"56f8706b-56fe-4091-912d-df15486ab198\",\"type\":\"Selection\"},\"selection_policy\":{\"id\":\"dddb5292-143c-41cb-a1d8-3993a039a050\",\"type\":\"UnionRenderers\"}},\"id\":\"23816bdd-51b1-41cf-9f5f-86122c5d6fc8\",\"type\":\"ColumnDataSource\"},{\"attributes\":{\"label\":{\"value\":\"Buck\"},\"renderers\":[{\"id\":\"936f6b1a-491f-4a90-97e2-42566ba5186c\",\"type\":\"GlyphRenderer\"},{\"id\":\"670ad759-760b-46b4-9991-97932b20f394\",\"type\":\"GlyphRenderer\"}]},\"id\":\"8c7aaa17-4619-4e10-9252-ef9afb1ac2f3\",\"type\":\"LegendItem\"},{\"attributes\":{\"fill_color\":{\"value\":\"Orange\"},\"line_color\":{\"value\":\"Orange\"},\"size\":{\"units\":\"screen\",\"value\":10},\"x\":{\"field\":\"x\"},\"y\":{\"field\":\"a\"}},\"id\":\"36801da3-a532-4c40-aaa1-c0c4348abb70\",\"type\":\"Circle\"},{\"attributes\":{\"fill_color\":{\"value\":\"seagreen\"},\"line_color\":{\"value\":\"seagreen\"},\"size\":{\"units\":\"screen\",\"value\":10},\"x\":{\"field\":\"x\"},\"y\":{\"field\":\"a\"}},\"id\":\"5f244ac5-644f-4484-a6f5-836ebb3859b5\",\"type\":\"Circle\"},{\"attributes\":{\"source\":{\"id\":\"b87f20e6-93a8-4bd7-9ac7-8cab96541d53\",\"type\":\"ColumnDataSource\"}},\"id\":\"32266834-1f51-4da1-b28b-bc0905f36fe0\",\"type\":\"CDSView\"},{\"attributes\":{\"data_source\":{\"id\":\"b87f20e6-93a8-4bd7-9ac7-8cab96541d53\",\"type\":\"ColumnDataSource\"},\"glyph\":{\"id\":\"5f244ac5-644f-4484-a6f5-836ebb3859b5\",\"type\":\"Circle\"},\"hover_glyph\":null,\"muted_glyph\":null,\"nonselection_glyph\":{\"id\":\"10d3c9fb-985c-4212-88b5-ef114e30ae9d\",\"type\":\"Circle\"},\"selection_glyph\":null,\"view\":{\"id\":\"32266834-1f51-4da1-b28b-bc0905f36fe0\",\"type\":\"CDSView\"}},\"id\":\"670ad759-760b-46b4-9991-97932b20f394\",\"type\":\"GlyphRenderer\"},{\"attributes\":{\"fill_alpha\":{\"value\":0.1},\"fill_color\":{\"value\":\"#1f77b4\"},\"line_alpha\":{\"value\":0.1},\"line_color\":{\"value\":\"#1f77b4\"},\"size\":{\"units\":\"screen\",\"value\":10},\"x\":{\"field\":\"x\"},\"y\":{\"field\":\"a\"}},\"id\":\"10d3c9fb-985c-4212-88b5-ef114e30ae9d\",\"type\":\"Circle\"},{\"attributes\":{\"callback\":null,\"data\":{\"a\":{\"__ndarray__\":\"ZmZmZmZmPUDNzMzMzEw9QGZmZmZmZj5AZmZmZmbmPEBmZmZmZmY7QA==\",\"dtype\":\"float64\",\"shape\":[5]},\"team\":[\"GSW\",\"GSW\",\"GSW\",\"GSW\",\"GSW\"],\"wins\":[57,58,67,73,67],\"x\":[2018,2017,2016,2015,2014],\"y\":{\"__ndarray__\":\"zczMzMxsXUAAAAAAAGBcQJqZmZmZ+VxAmpmZmZm5XEAAAAAAAIBbQA==\",\"dtype\":\"float64\",\"shape\":[5]}},\"selected\":{\"id\":\"18c60738-7a63-4fe6-8cc0-a68733c81869\",\"type\":\"Selection\"},\"selection_policy\":{\"id\":\"ab1245a5-76b8-4d6f-b9cb-802b20433c98\",\"type\":\"UnionRenderers\"}},\"id\":\"b9969fe5-912d-4a34-acb2-7f9edcdf0d45\",\"type\":\"ColumnDataSource\"},{\"attributes\":{},\"id\":\"49f5ca64-d432-4ff2-96c3-a5640a688f94\",\"type\":\"Selection\"},{\"attributes\":{},\"id\":\"f540ca7c-5f64-4de9-bb20-e2e121a3bc2a\",\"type\":\"UnionRenderers\"},{\"attributes\":{\"data_source\":{\"id\":\"296cec6f-c3ec-40b1-8a04-acb53c409aad\",\"type\":\"ColumnDataSource\"},\"glyph\":{\"id\":\"f268d9ca-3fb3-497b-97ce-5e5607269a50\",\"type\":\"Circle\"},\"hover_glyph\":null,\"muted_glyph\":null,\"nonselection_glyph\":{\"id\":\"c0f1705f-ee93-4524-b379-af92f55eed4f\",\"type\":\"Circle\"},\"selection_glyph\":null,\"view\":{\"id\":\"86b8adbe-0561-4015-a1be-70cbd495bd8d\",\"type\":\"CDSView\"}},\"id\":\"8934ce2d-ca41-4bca-862e-f3389463a59a\",\"type\":\"GlyphRenderer\"},{\"attributes\":{\"source\":{\"id\":\"296cec6f-c3ec-40b1-8a04-acb53c409aad\",\"type\":\"ColumnDataSource\"}},\"id\":\"86b8adbe-0561-4015-a1be-70cbd495bd8d\",\"type\":\"CDSView\"},{\"attributes\":{\"data_source\":{\"id\":\"aa415626-dd03-4835-9084-d7a57d03a365\",\"type\":\"ColumnDataSource\"},\"glyph\":{\"id\":\"36801da3-a532-4c40-aaa1-c0c4348abb70\",\"type\":\"Circle\"},\"hover_glyph\":null,\"muted_glyph\":null,\"nonselection_glyph\":{\"id\":\"05812e2b-9681-4aa7-938c-0ce128ccfa1a\",\"type\":\"Circle\"},\"selection_glyph\":null,\"view\":{\"id\":\"73554661-32e5-4f66-bd98-636813bea2ab\",\"type\":\"CDSView\"}},\"id\":\"35cd4335-766e-4e17-b14b-30c9e78f2cac\",\"type\":\"GlyphRenderer\"},{\"attributes\":{},\"id\":\"10048cb8-9f9e-4f88-9d79-6948458b0da5\",\"type\":\"Selection\"},{\"attributes\":{\"callback\":null,\"data\":{\"a\":{\"__ndarray__\":\"ZmZmZmZmPUDNzMzMzEw9QGZmZmZmZj5AZmZmZmbmPEBmZmZmZmY7QM3MzMzMTDlAMzMzMzMzOkDNzMzMzMwWQAAAAAAAAPh/\",\"dtype\":\"float64\",\"shape\":[9]},\"team\":[\"GSW\",\"GSW\",\"GSW\",\"GSW\",\"GSW\",\"GSW\",\"PHW\",\"PHW\",\"NaN\"],\"wins\":{\"__ndarray__\":\"AAAAAACATEAAAAAAAABNQAAAAAAAwFBAAAAAAABAUkAAAAAAAMBQQAAAAAAAAEhAAAAAAACARkAAAAAAAIBBQAAAAAAAAPh/\",\"dtype\":\"float64\",\"shape\":[9]},\"x\":{\"__ndarray__\":\"AAAAAACIn0AAAAAAAISfQAAAAAAAgJ9AAAAAAAB8n0AAAAAAAHifQAAAAAAA2J5AAAAAAACMnkAAAAAAAGieQAAAAAAAAPh/\",\"dtype\":\"float64\",\"shape\":[9]},\"y\":{\"__ndarray__\":\"zczMzMxsXUAAAAAAAGBcQJqZmZmZ+VxAmpmZmZm5XEAAAAAAAIBbQAAAAAAAIFtAZmZmZmbGWUBmZmZmZiZRQAAAAAAAAPh/\",\"dtype\":\"float64\",\"shape\":[9]}},\"selected\":{\"id\":\"728ed720-1c0a-42ab-8ead-bcc2ac7f1d80\",\"type\":\"Selection\"},\"selection_policy\":{\"id\":\"368a12f2-659f-4c39-baaa-857ef8da18e7\",\"type\":\"UnionRenderers\"}},\"id\":\"be2b5032-b224-4ee4-82dc-021bd433dc41\",\"type\":\"ColumnDataSource\"},{\"attributes\":{},\"id\":\"170fd41c-ef16-469c-ab4e-8005d4139805\",\"type\":\"Selection\"},{\"attributes\":{\"fill_alpha\":{\"value\":0.1},\"fill_color\":{\"value\":\"#1f77b4\"},\"line_alpha\":{\"value\":0.1},\"line_color\":{\"value\":\"#1f77b4\"},\"x\":{\"field\":\"x\"},\"y\":{\"field\":\"a\"}},\"id\":\"c0f1705f-ee93-4524-b379-af92f55eed4f\",\"type\":\"Circle\"},{\"attributes\":{},\"id\":\"415c0beb-54ba-40d8-8d9b-7486dc86a4ff\",\"type\":\"UnionRenderers\"},{\"attributes\":{\"fill_color\":{\"value\":\"firebrick\"},\"line_color\":{\"value\":\"firebrick\"},\"size\":{\"units\":\"screen\",\"value\":10},\"x\":{\"field\":\"x\"},\"y\":{\"field\":\"a\"}},\"id\":\"b776c2df-fd87-4f8c-b2df-cb65abf8290b\",\"type\":\"Circle\"},{\"attributes\":{},\"id\":\"15109e65-9ab8-4fb4-a41f-d7fb7a7742f9\",\"type\":\"UnionRenderers\"},{\"attributes\":{\"label\":{\"value\":\"Cavaliers\"},\"renderers\":[{\"id\":\"8934ce2d-ca41-4bca-862e-f3389463a59a\",\"type\":\"GlyphRenderer\"},{\"id\":\"22d529b7-3e62-4876-92ae-4b54b25a5c8c\",\"type\":\"GlyphRenderer\"}]},\"id\":\"99858c4b-d0ff-43e6-97f5-aeb4d2829123\",\"type\":\"LegendItem\"},{\"attributes\":{\"callback\":null,\"data\":{\"a\":{\"__ndarray__\":\"MzMzMzMzNUAAAAAAAIA1QDMzMzMzMzlAMzMzMzMzNkAzMzMzMzM2QGZmZmZmZjVAMzMzMzMzN0DNzMzMzEw1QM3MzMzMzDdAzczMzMzMNUDNzMzMzEw0QGZmZmZmZjVAzczMzMzMNEDNzMzMzEwzQJqZmZmZGTVAzczMzMxMM0BmZmZmZmYyQJqZmZmZGTJAMzMzMzOzM0CamZmZmZk1QDMzMzMzMzVAZmZmZmbmNUAAAAAAAIA4QDMzMzMzMzhAmpmZmZkZOUAAAAAAAIA5QM3MzMzMzDlAmpmZmZkZOUAzMzMzMzM3QM3MzMzMzDpAmpmZmZmZOECamZmZmZk3QDMzMzMzMztAzczMzMxMPEDNzMzMzEw7QGZmZmZm5jpAAAAAAACAN0CamZmZmRk4QJqZmZmZmTlAMzMzMzMzOkCamZmZmRk8QDMzMzMzszdAzczMzMxMN0AAAAAAAAA7QM3MzMzMTDpAAAAAAAAAO0CamZmZmZk3QDMzMzMzszVAZmZmZmZmN0DNzMzMzMw4QAAAAAAAgDdAZmZmZmZmNkA=\",\"dtype\":\"float64\",\"shape\":[52]},\"team\":[\"HOU\",\"HOU\",\"HOU\",\"HOU\",\"HOU\",\"HOU\",\"HOU\",\"HOU\",\"HOU\",\"HOU\",\"HOU\",\"HOU\",\"HOU\",\"HOU\",\"HOU\",\"HOU\",\"HOU\",\"HOU\",\"HOU\",\"HOU\",\"HOU\",\"HOU\",\"HOU\",\"HOU\",\"HOU\",\"HOU\",\"HOU\",\"HOU\",\"HOU\",\"HOU\",\"HOU\",\"HOU\",\"HOU\",\"HOU\",\"HOU\",\"HOU\",\"HOU\",\"HOU\",\"HOU\",\"HOU\",\"HOU\",\"HOU\",\"HOU\",\"HOU\",\"HOU\",\"HOU\",\"HOU\",\"HOU\",\"SDR\",\"SDR\",\"SDR\",\"SDR\"],\"wins\":[0,65,55,41,56,54,45,34,43,42,53,55,52,34,51,45,43,28,45,34,31,41,57,48,47,58,55,42,52,41,45,46,42,51,48,29,14,46,40,41,47,28,49,40,41,32,33,34,40,27,37,15],\"x\":[2018,2017,2016,2015,2014,2013,2012,2011,2010,2009,2008,2007,2006,2005,2004,2003,2002,2001,2000,1999,1998,1997,1996,1995,1994,1993,1992,1991,1990,1989,1988,1987,1986,1985,1984,1983,1982,1981,1980,1979,1978,1977,1976,1975,1974,1973,1972,1971,1970,1969,1968,1967],\"y\":{\"__ndarray__\":\"mpmZmZl5XECamZmZmRlcQDMzMzMz01xAAAAAAACgWkCamZmZmflZQM3MzMzM7FpAAAAAAACAWkBmZmZmZoZYQJqZmZmZeVpAmpmZmZmZWUCamZmZmZlYQM3MzMzMLFhAAAAAAABAWEBmZmZmZoZWQGZmZmZmxldAMzMzMzNzVkAzMzMzM3NXQDMzMzMzE1dAzczMzMxMWEAAAAAAAOBYQM3MzMzMjFdAMzMzMzOzWEBmZmZmZiZZQAAAAAAAoFlAAAAAAADgWUBmZmZmZkZZQAAAAAAAAFpAAAAAAACAWUDNzMzMzKxaQM3MzMzMrFpAAAAAAAAgW0AAAAAAAEBbQJqZmZmZuVpAmpmZmZmZXEDNzMzMzMxbQGZmZmZmpltAMzMzMzPTWECamZmZmXlaQDMzMzMzE1tAMzMzMzOzW0CamZmZmVlcQDMzMzMz81lAmpmZmZmZWkDNzMzMzIxaQJqZmZmZ+VlAmpmZmZnZWkAzMzMzMzNcQM3MzMzMbFtAzczMzMxMXEDNzMzMzKxdQDMzMzMz01xAmpmZmZkZXEA=\",\"dtype\":\"float64\",\"shape\":[52]}},\"selected\":{\"id\":\"38c4b9a6-bd52-462d-bc8d-3455c825e93b\",\"type\":\"Selection\"},\"selection_policy\":{\"id\":\"82edd59a-88fe-4110-8f10-9954207b332a\",\"type\":\"UnionRenderers\"}},\"id\":\"ed549c27-7ba2-4a83-9f77-6ad6fc49e5e3\",\"type\":\"ColumnDataSource\"},{\"attributes\":{\"fill_alpha\":{\"value\":0.1},\"fill_color\":{\"value\":\"#1f77b4\"},\"line_alpha\":{\"value\":0.1},\"line_color\":{\"value\":\"#1f77b4\"},\"size\":{\"units\":\"screen\",\"value\":10},\"x\":{\"field\":\"x\"},\"y\":{\"field\":\"a\"}},\"id\":\"05812e2b-9681-4aa7-938c-0ce128ccfa1a\",\"type\":\"Circle\"},{\"attributes\":{\"fill_alpha\":{\"value\":0.4},\"fill_color\":{\"value\":\"midnightblue\"},\"line_alpha\":{\"value\":0.4},\"line_color\":{\"value\":\"midnightblue\"},\"x\":{\"field\":\"x\"},\"y\":{\"field\":\"a\"}},\"id\":\"62b69f2b-c216-4342-afa2-7c9d89e4d3bb\",\"type\":\"Circle\"},{\"attributes\":{\"fill_alpha\":{\"value\":0.1},\"fill_color\":{\"value\":\"#1f77b4\"},\"line_alpha\":{\"value\":0.1},\"line_color\":{\"value\":\"#1f77b4\"},\"size\":{\"units\":\"screen\",\"value\":10},\"x\":{\"field\":\"x\"},\"y\":{\"field\":\"a\"}},\"id\":\"2a7dd23f-9890-4eea-b172-a1b58c59038b\",\"type\":\"Circle\"},{\"attributes\":{\"source\":{\"id\":\"aa415626-dd03-4835-9084-d7a57d03a365\",\"type\":\"ColumnDataSource\"}},\"id\":\"73554661-32e5-4f66-bd98-636813bea2ab\",\"type\":\"CDSView\"},{\"attributes\":{\"fill_alpha\":{\"value\":0.1},\"fill_color\":{\"value\":\"#1f77b4\"},\"line_alpha\":{\"value\":0.1},\"line_color\":{\"value\":\"#1f77b4\"},\"x\":{\"field\":\"x\"},\"y\":{\"field\":\"a\"}},\"id\":\"ab687c4d-73e4-4205-89bd-e7210cc5a012\",\"type\":\"Circle\"},{\"attributes\":{},\"id\":\"20d90c29-456c-4f0b-a74c-3ed8ab22b454\",\"type\":\"UnionRenderers\"},{\"attributes\":{\"callback\":null,\"data\":{\"a\":{\"__ndarray__\":\"mpmZmZkZOUAAAAAAAIA5QA==\",\"dtype\":\"float64\",\"shape\":[2]},\"team\":[\"HOU\",\"HOU\"],\"wins\":[47,58],\"x\":[1994,1993],\"y\":{\"__ndarray__\":\"AAAAAADgWUBmZmZmZkZZQA==\",\"dtype\":\"float64\",\"shape\":[2]}},\"selected\":{\"id\":\"fa9c4153-9333-4623-857c-c084d050775b\",\"type\":\"Selection\"},\"selection_policy\":{\"id\":\"195e5fd3-3234-48ff-abde-e139be62f15d\",\"type\":\"UnionRenderers\"}},\"id\":\"d2ca43ca-7243-46ae-98b3-2eeaf237266d\",\"type\":\"ColumnDataSource\"},{\"attributes\":{\"label\":{\"value\":\"Wizards\"},\"renderers\":[{\"id\":\"30060525-b600-46e4-a35f-a7fd5d238f5e\",\"type\":\"GlyphRenderer\"},{\"id\":\"d7a1d061-3565-4dba-abd4-c8493f1efb17\",\"type\":\"GlyphRenderer\"}]},\"id\":\"73b0cb9a-9d22-4406-a55f-2dce51ad9a6c\",\"type\":\"LegendItem\"},{\"attributes\":{\"fill_color\":{\"value\":\"blue\"},\"line_color\":{\"value\":\"blue\"},\"x\":{\"field\":\"x\"},\"y\":{\"field\":\"a\"}},\"id\":\"98565cf2-4c19-4ac1-9f34-cf3c8d8eec14\",\"type\":\"Circle\"},{\"attributes\":{},\"id\":\"d850316c-1858-4113-9827-ebfff5e96b20\",\"type\":\"Selection\"},{\"attributes\":{\"fill_alpha\":{\"value\":0.1},\"fill_color\":{\"value\":\"#1f77b4\"},\"line_alpha\":{\"value\":0.1},\"line_color\":{\"value\":\"#1f77b4\"},\"x\":{\"field\":\"x\"},\"y\":{\"field\":\"a\"}},\"id\":\"99cf37ff-3e76-4257-920c-656656f0ab98\",\"type\":\"Circle\"},{\"attributes\":{\"data_source\":{\"id\":\"76f40aa2-dede-4f8d-a97f-e5d9fd5edf29\",\"type\":\"ColumnDataSource\"},\"glyph\":{\"id\":\"98565cf2-4c19-4ac1-9f34-cf3c8d8eec14\",\"type\":\"Circle\"},\"hover_glyph\":null,\"muted_glyph\":null,\"nonselection_glyph\":{\"id\":\"99cf37ff-3e76-4257-920c-656656f0ab98\",\"type\":\"Circle\"},\"selection_glyph\":null,\"view\":{\"id\":\"a72f8aba-fd55-4831-a671-2b78171a42ab\",\"type\":\"CDSView\"}},\"id\":\"8019650b-4a7f-4611-bb6e-5958c4dff43d\",\"type\":\"GlyphRenderer\"},{\"attributes\":{\"source\":{\"id\":\"76f40aa2-dede-4f8d-a97f-e5d9fd5edf29\",\"type\":\"ColumnDataSource\"}},\"id\":\"a72f8aba-fd55-4831-a671-2b78171a42ab\",\"type\":\"CDSView\"},{\"attributes\":{\"callback\":null,\"data\":{\"a\":{\"__ndarray__\":\"ZmZmZmZmNUA=\",\"dtype\":\"float64\",\"shape\":[1]},\"team\":[\"STL\"],\"wins\":[41],\"x\":[1957],\"y\":{\"__ndarray__\":\"AAAAAADgWkA=\",\"dtype\":\"float64\",\"shape\":[1]}},\"selected\":{\"id\":\"1ad812ff-7f57-4fb0-80d5-68318ca3d76e\",\"type\":\"Selection\"},\"selection_policy\":{\"id\":\"5fd04749-d9fe-43e5-9198-9fb5f95c7cec\",\"type\":\"UnionRenderers\"}},\"id\":\"f801d7fb-f22d-470c-923a-5c09f7878517\",\"type\":\"ColumnDataSource\"},{\"attributes\":{\"fill_alpha\":{\"value\":0.4},\"fill_color\":{\"value\":\"Violet\"},\"line_alpha\":{\"value\":0.4},\"line_color\":{\"value\":\"Violet\"},\"x\":{\"field\":\"x\"},\"y\":{\"field\":\"a\"}},\"id\":\"66ef909d-4731-4c4f-ae27-dc988185dac4\",\"type\":\"Circle\"},{\"attributes\":{},\"id\":\"2fe7aa73-b7f6-45c9-bf7c-c60f3feea88e\",\"type\":\"UnionRenderers\"},{\"attributes\":{\"label\":{\"value\":\"Sixer\"},\"renderers\":[{\"id\":\"8019650b-4a7f-4611-bb6e-5958c4dff43d\",\"type\":\"GlyphRenderer\"},{\"id\":\"76c711f4-bbb0-43ac-8587-67a1a08e342a\",\"type\":\"GlyphRenderer\"}]},\"id\":\"89fe8df0-694f-464c-9c47-908def6a7487\",\"type\":\"LegendItem\"},{\"attributes\":{},\"id\":\"7ae3ccfa-9f01-4ece-aa26-f1833e97f95c\",\"type\":\"BasicTickFormatter\"},{\"attributes\":{\"fill_color\":{\"value\":\"blue\"},\"line_color\":{\"value\":\"blue\"},\"size\":{\"units\":\"screen\",\"value\":10},\"x\":{\"field\":\"x\"},\"y\":{\"field\":\"a\"}},\"id\":\"4ad533b2-7d0d-4940-bf64-cede8d6f168b\",\"type\":\"Circle\"},{\"attributes\":{\"source\":{\"id\":\"17587eb1-7610-4fbf-934e-2ec185c90d95\",\"type\":\"ColumnDataSource\"}},\"id\":\"cd8a0ebf-5835-42d8-9ebc-8c5c0783106c\",\"type\":\"CDSView\"},{\"attributes\":{\"data_source\":{\"id\":\"17587eb1-7610-4fbf-934e-2ec185c90d95\",\"type\":\"ColumnDataSource\"},\"glyph\":{\"id\":\"4ad533b2-7d0d-4940-bf64-cede8d6f168b\",\"type\":\"Circle\"},\"hover_glyph\":null,\"muted_glyph\":null,\"nonselection_glyph\":{\"id\":\"14e6be36-2698-43d5-966e-3855bf79184c\",\"type\":\"Circle\"},\"selection_glyph\":null,\"view\":{\"id\":\"cd8a0ebf-5835-42d8-9ebc-8c5c0783106c\",\"type\":\"CDSView\"}},\"id\":\"76c711f4-bbb0-43ac-8587-67a1a08e342a\",\"type\":\"GlyphRenderer\"},{\"attributes\":{\"callback\":null,\"data\":{\"a\":{\"__ndarray__\":\"mpmZmZkZNEDNzMzMzEw3QM3MzMzMzDVAAAAAAACANEDNzMzMzEw1QAAAAAAAADRAzczMzMxMM0CamZmZmRk0QGZmZmZmZjVAmpmZmZmZNUAzMzMzMzM1QDMzMzMzszJAMzMzMzOzMkBmZmZmZuYxQM3MzMzMTDRAMzMzMzOzNEAAAAAAAAA2QAAAAAAAADVAAAAAAACAMkBmZmZmZmYzQM3MzMzMTDNAzczMzMzMNUCamZmZmRk2QDMzMzMzMzZAmpmZmZkZOUAzMzMzMzM5QGZmZmZm5jlAAAAAAAAAOkAAAAAAAIA6QJqZmZmZGTpAZmZmZmZmOUAAAAAAAIA4QDMzMzMzszdAZmZmZmbmNkBmZmZmZmY4QGZmZmZm5jhAzczMzMzMOEDNzMzMzEw5QJqZmZmZGThAmpmZmZmZO0BmZmZmZuY5QAAAAAAAgDxAZmZmZmbmN0AzMzMzMzM0QGZmZmZmZjRAmpmZmZmZN0AzMzMzM7M6QDMzMzMzMzhAMzMzMzOzNUAAAAAAAAA6QM3MzMzMTDlAAAAAAAAAOEAAAAAAAAA2QDMzMzMzszdAZmZmZmZmM0AAAAAAAIAzQDMzMzMzszRAmpmZmZkZNkCamZmZmRk3QDMzMzMzMzZAMzMzMzMzM0BmZmZmZuYyQDMzMzMzMzJAZmZmZmZmNkAzMzMzMzM4QGZmZmZmZjRAAAAAAACANkAzMzMzM7M3QAAAAAAAgDdAMzMzMzMzM0AAAAAAAAAxQDMzMzMzMx9AZmZmZmZmHkA=\",\"dtype\":\"float64\",\"shape\":[73]},\"team\":[\"NYK\",\"NYK\",\"NYK\",\"NYK\",\"NYK\",\"NYK\",\"NYK\",\"NYK\",\"NYK\",\"NYK\",\"NYK\",\"NYK\",\"NYK\",\"NYK\",\"NYK\",\"NYK\",\"NYK\",\"NYK\",\"NYK\",\"NYK\",\"NYK\",\"NYK\",\"NYK\",\"NYK\",\"NYK\",\"NYK\",\"NYK\",\"NYK\",\"NYK\",\"NYK\",\"NYK\",\"NYK\",\"NYK\",\"NYK\",\"NYK\",\"NYK\",\"NYK\",\"NYK\",\"NYK\",\"NYK\",\"NYK\",\"NYK\",\"NYK\",\"NYK\",\"NYK\",\"NYK\",\"NYK\",\"NYK\",\"NYK\",\"NYK\",\"NYK\",\"NYK\",\"NYK\",\"NYK\",\"NYK\",\"NYK\",\"NYK\",\"NYK\",\"NYK\",\"NYK\",\"NYK\",\"NYK\",\"NYK\",\"NYK\",\"NYK\",\"NYK\",\"NYK\",\"NYK\",\"NYK\",\"NYK\",\"NYK\",\"NYK\",\"NYK\"],\"wins\":[0,29,31,32,17,37,54,36,42,29,32,23,33,23,33,39,37,30,48,50,27,43,57,47,55,57,60,51,39,45,52,38,24,23,24,47,44,33,50,39,31,43,40,38,40,49,57,48,52,60,54,43,36,30,31,22,21,29,21,27,40,35,36,35,38,44,47,37,36,40,32,26,33],\"x\":[2018,2017,2016,2015,2014,2013,2012,2011,2010,2009,2008,2007,2006,2005,2004,2003,2002,2001,2000,1999,1998,1997,1996,1995,1994,1993,1992,1991,1990,1989,1988,1987,1986,1985,1984,1983,1982,1981,1980,1979,1978,1977,1976,1975,1974,1973,1972,1971,1970,1969,1968,1967,1966,1965,1964,1963,1962,1961,1960,1959,1958,1957,1956,1955,1954,1953,1952,1951,1950,1949,1948,1947,1946],\"y\":{\"__ndarray__\":\"ZmZmZmYmWkAAAAAAACBaQDMzMzMzE1pAmpmZmZmZWECamZmZmflWQGZmZmZmplhAAAAAAAAAWUAzMzMzM3NYQAAAAAAAoFpAZmZmZmaGWUDNzMzMzExaQJqZmZmZOVhAAAAAAABgWEBmZmZmZuZXQDMzMzMzU1hAAAAAAAAAV0CamZmZmflXQGZmZmZm5lZAzczMzMwsVkBmZmZmZgZXQJqZmZmZmVVAZmZmZmbmVkCamZmZmdlXQM3MzMzMTFhAzczMzMyMWEAAAAAAAKBYQGZmZmZmZllAZmZmZmZmWUBmZmZmZsZZQDMzMzMzE1tAzczMzMwsXUAAAAAAAGBaQDMzMzMz81lAzczMzMysWEDNzMzMzExaQJqZmZmZuVpAAAAAAAAAWUDNzMzMzIxaQJqZmZmZ+VpAAAAAAACAXEDNzMzMzOxaQJqZmZmZWVxAZmZmZmYmW0DNzMzMzKxZQJqZmZmZGVlAMzMzMzNTWUAAAAAAAEBaQGZmZmZmxlpAZmZmZmaGW0AAAAAAAMBcQDMzMzMzs1tAZmZmZmYGXUCamZmZmRldQM3MzMzMLF1AmpmZmZnZWkDNzMzMzAxcQAAAAAAAoFtAMzMzMzOzXEDNzMzMzGxcQDMzMzMzU11AMzMzMzOTW0BmZmZmZgZcQDMzMzMzM1lAzczMzMwMWUDNzMzMzCxXQAAAAAAAwFNAAAAAAABgVUAAAAAAAEBVQDMzMzMzc1VAzczMzMwsVEDNzMzMzMxTQAAAAAAAoFJAzczMzMwsUEA=\",\"dtype\":\"float64\",\"shape\":[73]}},\"selected\":{\"id\":\"7c3c3f5d-cc77-419d-921f-08a87f2acc40\",\"type\":\"Selection\"},\"selection_policy\":{\"id\":\"d4c6843d-3215-4262-8476-d8a7a6bb61c2\",\"type\":\"UnionRenderers\"}},\"id\":\"2283dff6-86a2-4915-aac2-1128702a82a6\",\"type\":\"ColumnDataSource\"},{\"attributes\":{\"fill_alpha\":{\"value\":0.1},\"fill_color\":{\"value\":\"#1f77b4\"},\"line_alpha\":{\"value\":0.1},\"line_color\":{\"value\":\"#1f77b4\"},\"size\":{\"units\":\"screen\",\"value\":10},\"x\":{\"field\":\"x\"},\"y\":{\"field\":\"a\"}},\"id\":\"14e6be36-2698-43d5-966e-3855bf79184c\",\"type\":\"Circle\"},{\"attributes\":{},\"id\":\"b4d765d6-7141-4884-b6da-b0a00dfd2919\",\"type\":\"Selection\"},{\"attributes\":{},\"id\":\"882be0d4-1f07-4d71-8da7-1db44fa0b82a\",\"type\":\"UnionRenderers\"},{\"attributes\":{\"below\":[{\"id\":\"143ab737-5217-4276-a089-9a1c1a448c2f\",\"type\":\"LinearAxis\"}],\"left\":[{\"id\":\"6e9ddddd-c6b4-4850-84a4-e63bd921c1a1\",\"type\":\"LinearAxis\"}],\"plot_height\":500,\"plot_width\":1000,\"renderers\":[{\"id\":\"143ab737-5217-4276-a089-9a1c1a448c2f\",\"type\":\"LinearAxis\"},{\"id\":\"c7df111a-6ee8-4487-9e28-08e2cf6124e0\",\"type\":\"Grid\"},{\"id\":\"6e9ddddd-c6b4-4850-84a4-e63bd921c1a1\",\"type\":\"LinearAxis\"},{\"id\":\"7960ff51-7537-4162-acd0-45acd56a2943\",\"type\":\"Grid\"},{\"id\":\"a82a49bc-cf3e-4540-8f69-5f57c51eb075\",\"type\":\"Legend\"},{\"id\":\"472efe2f-5a37-40d2-ab2e-9e8394721ce2\",\"type\":\"GlyphRenderer\"},{\"id\":\"1c1882b0-9bc5-4842-9fec-f6cee47be1b6\",\"type\":\"GlyphRenderer\"},{\"id\":\"60921e6b-5dec-4c2c-8840-10898e17e0a1\",\"type\":\"GlyphRenderer\"},{\"id\":\"6fbc307e-9090-4d28-8e8b-e68d2329b166\",\"type\":\"GlyphRenderer\"},{\"id\":\"b2c07cb1-e2d4-40d3-ae88-a8f0c822cfe6\",\"type\":\"GlyphRenderer\"},{\"id\":\"6971f187-9e1a-4ae6-bbc2-5e5c083f1aa3\",\"type\":\"GlyphRenderer\"},{\"id\":\"02ce28db-e8d2-49d0-b7d4-e90c82921abb\",\"type\":\"GlyphRenderer\"},{\"id\":\"aa544f72-2fff-4609-a084-e173fc0c9db2\",\"type\":\"GlyphRenderer\"},{\"id\":\"9af0f0b0-5f25-4e6c-9360-3862a492b1b8\",\"type\":\"GlyphRenderer\"},{\"id\":\"cb0b50bb-40c1-47a3-9789-f77734dc61a1\",\"type\":\"GlyphRenderer\"},{\"id\":\"2ccac53d-c45a-498a-9851-48bbdc72133e\",\"type\":\"GlyphRenderer\"},{\"id\":\"fcd89a58-221e-4acd-ac81-4b77dfa38ccc\",\"type\":\"GlyphRenderer\"},{\"id\":\"24ec3f65-5340-42dc-a66f-484bd5ff0244\",\"type\":\"GlyphRenderer\"},{\"id\":\"9056876b-9c8c-4f04-998d-70dcfac80f84\",\"type\":\"GlyphRenderer\"},{\"id\":\"4b4dee2d-8cf9-49a8-b92c-18da7d2e51a0\",\"type\":\"GlyphRenderer\"},{\"id\":\"288d279d-d7fb-4eef-8c52-49720074614f\",\"type\":\"GlyphRenderer\"},{\"id\":\"5f764255-d52f-47de-88c3-dc440491a5ff\",\"type\":\"GlyphRenderer\"},{\"id\":\"96aaf3ff-a116-49ba-9c22-9bc82ad443ac\",\"type\":\"GlyphRenderer\"},{\"id\":\"ecf3028c-d630-4f71-8c2f-48da4973d94d\",\"type\":\"GlyphRenderer\"},{\"id\":\"2d0243d7-4787-4dc5-a5bf-186296930b7c\",\"type\":\"GlyphRenderer\"},{\"id\":\"fdf1dd9b-3df3-480a-981c-9c8d9a31e4ec\",\"type\":\"GlyphRenderer\"},{\"id\":\"461fb55c-16bc-4ed7-b14f-1499edb72c7d\",\"type\":\"GlyphRenderer\"},{\"id\":\"5bae71ca-ceb8-4e1f-b37a-2229d2c99955\",\"type\":\"GlyphRenderer\"},{\"id\":\"ac444654-1ac5-42b3-b304-ddfacc3d5b4a\",\"type\":\"GlyphRenderer\"},{\"id\":\"0dfed3d9-e13d-4291-9110-5a81311b54a0\",\"type\":\"GlyphRenderer\"},{\"id\":\"13e50118-cf71-4c79-aac7-01d12f02940b\",\"type\":\"GlyphRenderer\"},{\"id\":\"5a8cb97f-2852-45f8-8b8d-5dbfea73eead\",\"type\":\"GlyphRenderer\"},{\"id\":\"8c33ca88-278d-4e54-b509-c83250c6fdd3\",\"type\":\"GlyphRenderer\"},{\"id\":\"f66149bb-3a4f-45f5-944d-54462257f7c4\",\"type\":\"GlyphRenderer\"},{\"id\":\"c427dcf9-5235-44d2-9a43-ccc238046271\",\"type\":\"GlyphRenderer\"},{\"id\":\"65a94794-2717-42e3-9e8d-1ab4ffe99cbf\",\"type\":\"GlyphRenderer\"},{\"id\":\"84022d51-163f-401b-92f9-9973f967563a\",\"type\":\"GlyphRenderer\"},{\"id\":\"3ce32b24-ac5e-4ef5-9465-809b910712c0\",\"type\":\"GlyphRenderer\"}],\"right\":[{\"id\":\"a82a49bc-cf3e-4540-8f69-5f57c51eb075\",\"type\":\"Legend\"}],\"title\":{\"id\":\"0559b5d7-0c6c-4a1a-88f6-05b61c34be83\",\"type\":\"Title\"},\"toolbar\":{\"id\":\"e524ad9e-7920-445b-b4ba-bf1cd8cc131e\",\"type\":\"Toolbar\"},\"x_range\":{\"id\":\"f166c4cc-245d-4a96-bbac-226ca283e9f4\",\"type\":\"Range1d\"},\"x_scale\":{\"id\":\"64520bd7-6885-42b7-b1a9-3ca0de028936\",\"type\":\"LinearScale\"},\"y_range\":{\"id\":\"5d866632-12ca-47d8-a1db-a022658384a6\",\"type\":\"Range1d\"},\"y_scale\":{\"id\":\"a96fde17-efd3-4f80-8550-541acc02d423\",\"type\":\"LinearScale\"}},\"id\":\"0076c00c-dc0c-40e4-9f83-b347e5e6b2c9\",\"subtype\":\"Figure\",\"type\":\"Plot\"},{\"attributes\":{},\"id\":\"ae9f08b8-d7bd-4b9f-a0a8-83208ee4ce5c\",\"type\":\"Selection\"},{\"attributes\":{\"data_source\":{\"id\":\"72a2d073-5337-4e66-a590-555d06a8711b\",\"type\":\"ColumnDataSource\"},\"glyph\":{\"id\":\"66ef909d-4731-4c4f-ae27-dc988185dac4\",\"type\":\"Circle\"},\"hover_glyph\":null,\"muted_glyph\":null,\"nonselection_glyph\":{\"id\":\"7afdf613-b7c2-48a7-9280-5abf7ff3d188\",\"type\":\"Circle\"},\"selection_glyph\":null,\"view\":{\"id\":\"644ec42e-2a54-4a1c-88be-c04414ea77bc\",\"type\":\"CDSView\"}},\"id\":\"cf2aac73-45c1-42ad-b2d2-791eab80d980\",\"type\":\"GlyphRenderer\"},{\"attributes\":{\"callback\":null,\"data\":{\"a\":{\"__ndarray__\":\"MzMzMzOzOkAAAAAAAAA6QA==\",\"dtype\":\"float64\",\"shape\":[2]},\"team\":[\"NYK\",\"NYK\"],\"wins\":[57,60],\"x\":[1972,1969],\"y\":[105,115]},\"selected\":{\"id\":\"658572b0-c933-4da2-be1c-4282c38d9114\",\"type\":\"Selection\"},\"selection_policy\":{\"id\":\"8746618a-7e0a-403f-937c-96ac3f1fba21\",\"type\":\"UnionRenderers\"}},\"id\":\"aa415626-dd03-4835-9084-d7a57d03a365\",\"type\":\"ColumnDataSource\"},{\"attributes\":{\"source\":{\"id\":\"72a2d073-5337-4e66-a590-555d06a8711b\",\"type\":\"ColumnDataSource\"}},\"id\":\"644ec42e-2a54-4a1c-88be-c04414ea77bc\",\"type\":\"CDSView\"},{\"attributes\":{\"plot\":null,\"text\":\"Teams Points per Season\"},\"id\":\"0559b5d7-0c6c-4a1a-88f6-05b61c34be83\",\"type\":\"Title\"},{\"attributes\":{\"fill_alpha\":{\"value\":0.1},\"fill_color\":{\"value\":\"#1f77b4\"},\"line_alpha\":{\"value\":0.1},\"line_color\":{\"value\":\"#1f77b4\"},\"x\":{\"field\":\"x\"},\"y\":{\"field\":\"a\"}},\"id\":\"7afdf613-b7c2-48a7-9280-5abf7ff3d188\",\"type\":\"Circle\"},{\"attributes\":{},\"id\":\"3507cab1-1ab5-4c47-875d-0875608c9c5f\",\"type\":\"UnionRenderers\"},{\"attributes\":{\"label\":{\"value\":\"Kings\"},\"renderers\":[{\"id\":\"cf2aac73-45c1-42ad-b2d2-791eab80d980\",\"type\":\"GlyphRenderer\"},{\"id\":\"96ed777c-bd24-4875-8fea-4e73b7ac1290\",\"type\":\"GlyphRenderer\"}]},\"id\":\"cbad1d28-a213-44cb-bff9-7b42a148b0f3\",\"type\":\"LegendItem\"},{\"attributes\":{\"fill_color\":{\"value\":\"Orange\"},\"line_color\":{\"value\":\"Orange\"},\"size\":{\"units\":\"screen\",\"value\":10},\"x\":{\"field\":\"x\"},\"y\":{\"field\":\"y\"}},\"id\":\"d80452a7-f547-48a9-b3c0-6727769b146e\",\"type\":\"Circle\"},{\"attributes\":{\"callback\":null,\"data\":{\"a\":{\"__ndarray__\":\"ZmZmZmZmN0DNzMzMzEw1QAAAAAAAADVAAAAAAAAAN0AAAAAAAIA0QGZmZmZm5jVAZmZmZmZmNUAAAAAAAIAyQGZmZmZmZjRAAAAAAAAANEDNzMzMzEw0QM3MzMzMTDVAMzMzMzOzNEAzMzMzM7M0QJqZmZmZGTJAMzMzMzOzNUCamZmZmZk1QAAAAAAAgDdAZmZmZmbmNUBmZmZmZuY2QDMzMzMzszVAMzMzMzMzOEAAAAAAAIA3QGZmZmZmZjhAzczMzMzMOUDNzMzMzMw5QDMzMzMzMzdAZmZmZmbmNkBmZmZmZuY4QGZmZmZm5jZAZmZmZmZmOUAzMzMzMzM6QJqZmZmZmTpAmpmZmZkZOECamZmZmZk6QDMzMzMzMztAzczMzMzMO0CamZmZmZk5QDMzMzMzszdAZmZmZmbmOECamZmZmRk4QGZmZmZm5jVAmpmZmZmZNUCamZmZmZk3QGZmZmZmZjhAMzMzMzOzOUBmZmZmZuY3QJqZmZmZGThAAAAAAAAAOUAAAAAAAAA7QAAAAAAAgDdAZmZmZmZmOEA=\",\"dtype\":\"float64\",\"shape\":[52]},\"team\":[\"OKC\",\"OKC\",\"OKC\",\"OKC\",\"OKC\",\"OKC\",\"OKC\",\"OKC\",\"OKC\",\"OKC\",\"OKC\",\"SEA\",\"SEA\",\"SEA\",\"SEA\",\"SEA\",\"SEA\",\"SEA\",\"SEA\",\"SEA\",\"SEA\",\"SEA\",\"SEA\",\"SEA\",\"SEA\",\"SEA\",\"SEA\",\"SEA\",\"SEA\",\"SEA\",\"SEA\",\"SEA\",\"SEA\",\"SEA\",\"SEA\",\"SEA\",\"SEA\",\"SEA\",\"SEA\",\"SEA\",\"SEA\",\"SEA\",\"SEA\",\"SEA\",\"SEA\",\"SEA\",\"SEA\",\"SEA\",\"SEA\",\"SEA\",\"SEA\",\"SEA\"],\"wins\":[0,48,47,55,45,59,60,47,55,50,23,20,31,35,52,37,40,45,44,45,25,61,57,64,57,63,55,47,41,41,47,44,39,31,31,42,48,52,34,56,52,47,40,43,43,36,26,47,38,36,30,23],\"x\":[2018,2017,2016,2015,2014,2013,2012,2011,2010,2009,2008,2007,2006,2005,2004,2003,2002,2001,2000,1999,1998,1997,1996,1995,1994,1993,1992,1991,1990,1989,1988,1987,1986,1985,1984,1983,1982,1981,1980,1979,1978,1977,1976,1975,1974,1973,1972,1971,1970,1969,1968,1967],\"y\":{\"__ndarray__\":\"AAAAAACgXECamZmZmflaQGZmZmZmplpAzczMzMyMW0AAAAAAAABaQM3MzMzMjFpAzczMzMxsWkBmZmZmZsZZQDMzMzMzM1pAAAAAAABgWUAAAAAAAEBYQAAAAAAAYFhAZmZmZmbGWEBmZmZmZqZZQJqZmZmZuVhAZmZmZmZGWEBmZmZmZgZXQM3MzMzMbFhAMzMzMzNTWEBmZmZmZsZYQJqZmZmZuVdAZmZmZmYmWUCamZmZmTlZQAAAAAAAIFpAmpmZmZmZW0CamZmZmXlaQDMzMzMzE1tAAAAAAACgWkBmZmZmZqZaQJqZmZmZuVpAZmZmZmYGXECamZmZmdlbQM3MzMzMbFxAmpmZmZkZWkBmZmZmZoZZQGZmZmZmBltAAAAAAACAW0AzMzMzM9NaQAAAAAAAAFpAAAAAAAAgW0BmZmZmZqZaQAAAAAAAIFpAAAAAAAAAWkCamZmZmZlaQGZmZmZmxllAAAAAAADAWkDNzMzMzOxZQM3MzMzMTFtAAAAAAADAXECamZmZmTldQGZmZmZmBlxAzczMzMysXUA=\",\"dtype\":\"float64\",\"shape\":[52]}},\"selected\":{\"id\":\"c5210e73-0000-46be-a552-439b831cae12\",\"type\":\"Selection\"},\"selection_policy\":{\"id\":\"2e288ed2-7cfb-467c-8fb9-521f76b50275\",\"type\":\"UnionRenderers\"}},\"id\":\"0eb334c9-4863-4486-bb12-e27842ac5dfd\",\"type\":\"ColumnDataSource\"},{\"attributes\":{\"fill_color\":{\"value\":\"Violet\"},\"line_color\":{\"value\":\"Violet\"},\"size\":{\"units\":\"screen\",\"value\":10},\"x\":{\"field\":\"x\"},\"y\":{\"field\":\"a\"}},\"id\":\"be60fc22-540d-4c40-9ba1-fa4605e7f0f8\",\"type\":\"Circle\"},{\"attributes\":{\"source\":{\"id\":\"74d5193c-54ad-4b7a-b31a-0cfe7c492d2f\",\"type\":\"ColumnDataSource\"}},\"id\":\"c43a3388-ca86-4c3a-9191-ddadd396824d\",\"type\":\"CDSView\"},{\"attributes\":{\"data_source\":{\"id\":\"74d5193c-54ad-4b7a-b31a-0cfe7c492d2f\",\"type\":\"ColumnDataSource\"},\"glyph\":{\"id\":\"be60fc22-540d-4c40-9ba1-fa4605e7f0f8\",\"type\":\"Circle\"},\"hover_glyph\":null,\"muted_glyph\":null,\"nonselection_glyph\":{\"id\":\"821a3040-069b-415c-857a-f0e66de6b19b\",\"type\":\"Circle\"},\"selection_glyph\":null,\"view\":{\"id\":\"c43a3388-ca86-4c3a-9191-ddadd396824d\",\"type\":\"CDSView\"}},\"id\":\"96ed777c-bd24-4875-8fea-4e73b7ac1290\",\"type\":\"GlyphRenderer\"},{\"attributes\":{\"fill_alpha\":{\"value\":0.1},\"fill_color\":{\"value\":\"#1f77b4\"},\"line_alpha\":{\"value\":0.1},\"line_color\":{\"value\":\"#1f77b4\"},\"size\":{\"units\":\"screen\",\"value\":10},\"x\":{\"field\":\"x\"},\"y\":{\"field\":\"a\"}},\"id\":\"821a3040-069b-415c-857a-f0e66de6b19b\",\"type\":\"Circle\"},{\"attributes\":{},\"id\":\"6c20bba1-29bd-4278-ad7d-7ba0ff633cf1\",\"type\":\"Selection\"},{\"attributes\":{\"callback\":null,\"data\":{\"a\":{\"__ndarray__\":\"mpmZmZkZOEA=\",\"dtype\":\"float64\",\"shape\":[1]},\"team\":[\"SEA\"],\"wins\":[52],\"x\":[1978],\"y\":{\"__ndarray__\":\"ZmZmZmamWkA=\",\"dtype\":\"float64\",\"shape\":[1]}},\"selected\":{\"id\":\"1ecc90c3-3518-44a5-bb20-c869c9758dbb\",\"type\":\"Selection\"},\"selection_policy\":{\"id\":\"5c78c5b5-820a-4869-b5d6-89cb083c6266\",\"type\":\"UnionRenderers\"}},\"id\":\"4977d0a7-8817-44d1-a86e-4c4df672dfd6\",\"type\":\"ColumnDataSource\"},{\"attributes\":{},\"id\":\"a9c2930a-685f-4cb1-83e4-26936ecb1c66\",\"type\":\"UnionRenderers\"},{\"attributes\":{},\"id\":\"3a4a856b-b6e7-4e2a-8f9d-11f4388d4e6d\",\"type\":\"BasicTicker\"},{\"attributes\":{\"active_drag\":\"auto\",\"active_inspect\":\"auto\",\"active_scroll\":\"auto\",\"active_tap\":\"auto\",\"tools\":[{\"id\":\"5f84b677-cfc1-409b-833f-db3242f26eed\",\"type\":\"HoverTool\"},{\"id\":\"ff502fb8-10d9-4143-a922-1c9981512d2e\",\"type\":\"PanTool\"},{\"id\":\"4d537ff5-6e57-48bc-ac23-0487686a9344\",\"type\":\"WheelZoomTool\"},{\"id\":\"97e04970-e2ba-4fd6-a697-ce3cfcd178ea\",\"type\":\"ResetTool\"}]},\"id\":\"e524ad9e-7920-445b-b4ba-bf1cd8cc131e\",\"type\":\"Toolbar\"},{\"attributes\":{\"data_source\":{\"id\":\"d2ca43ca-7243-46ae-98b3-2eeaf237266d\",\"type\":\"ColumnDataSource\"},\"glyph\":{\"id\":\"696568cd-1a01-4224-afeb-5bea97b65c2c\",\"type\":\"Circle\"},\"hover_glyph\":null,\"muted_glyph\":null,\"nonselection_glyph\":{\"id\":\"3511f5f5-1931-4feb-b78c-469d43c97850\",\"type\":\"Circle\"},\"selection_glyph\":null,\"view\":{\"id\":\"d1e920a4-93cc-4a57-85c6-1c95d71a2662\",\"type\":\"CDSView\"}},\"id\":\"02ce28db-e8d2-49d0-b7d4-e90c82921abb\",\"type\":\"GlyphRenderer\"},{\"attributes\":{\"fill_alpha\":{\"value\":0.2},\"fill_color\":{\"value\":\"Gold\"},\"line_alpha\":{\"value\":0.2},\"line_color\":{\"value\":\"Gold\"},\"x\":{\"field\":\"x\"},\"y\":{\"field\":\"y\"}},\"id\":\"9a978c7f-f861-45f7-b81e-ab994db5de90\",\"type\":\"Circle\"},{\"attributes\":{\"callback\":null,\"end\":140,\"start\":55},\"id\":\"5d866632-12ca-47d8-a1db-a022658384a6\",\"type\":\"Range1d\"},{\"attributes\":{\"callback\":null,\"end\":2020,\"start\":1940},\"id\":\"f166c4cc-245d-4a96-bbac-226ca283e9f4\",\"type\":\"Range1d\"},{\"attributes\":{\"callback\":null,\"data\":{\"a\":{\"__ndarray__\":\"zczMzMxMOEAzMzMzM7M2QDMzMzMzMzVAzczMzMzMNEDNzMzMzMwzQAAAAAAAgDZAAAAAAAAAN0AAAAAAAAA0QAAAAAAAADRAZmZmZmbmMkBmZmZmZmY0QAAAAAAAADRAAAAAAACANECamZmZmZk0QM3MzMzMzDVAmpmZmZkZM0DNzMzMzEwyQM3MzMzMTDRAZmZmZmbmM0AAAAAAAIA3QGZmZmZmZjRAZmZmZmZmNUAzMzMzMzM1QGZmZmZmZjVAMzMzMzOzNUCamZmZmZk2QJqZmZmZmTRAzczMzMxMNUAzMzMzMzM3QGZmZmZm5jdAZmZmZmbmN0A=\",\"dtype\":\"float64\",\"shape\":[31]},\"team\":[\"MIA\",\"MIA\",\"MIA\",\"MIA\",\"MIA\",\"MIA\",\"MIA\",\"MIA\",\"MIA\",\"MIA\",\"MIA\",\"MIA\",\"MIA\",\"MIA\",\"MIA\",\"MIA\",\"MIA\",\"MIA\",\"MIA\",\"MIA\",\"MIA\",\"MIA\",\"MIA\",\"MIA\",\"MIA\",\"MIA\",\"MIA\",\"MIA\",\"MIA\",\"MIA\",\"MIA\"],\"wins\":[0,44,41,48,37,54,66,46,58,47,43,15,44,52,59,42,25,36,50,52,33,55,61,42,32,42,36,38,24,18,15],\"x\":[2018,2017,2016,2015,2014,2013,2012,2011,2010,2009,2008,2007,2006,2005,2004,2003,2002,2001,2000,1999,1998,1997,1996,1995,1994,1993,1992,1991,1990,1989,1988],\"y\":{\"__ndarray__\":\"zczMzMxsWkCamZmZmdlZQM3MzMzMzFlAAAAAAAAAWUDNzMzMzKxXQM3MzMzMjFlAmpmZmZm5WUAAAAAAAKBYQGZmZmZmhllAAAAAAAAgWEAzMzMzM5NYQJqZmZmZ2VZAZmZmZmamV0CamZmZmflYQAAAAAAAYFlAMzMzMzOTVkBmZmZmZmZVQM3MzMzMzFVAmpmZmZk5VkCamZmZmZlXQAAAAAAAQFZAAAAAAADAV0AzMzMzM7NXQAAAAAAAIFhAZmZmZmZGWUCamZmZmdlZQGZmZmZm5llAAAAAAABAWkAzMzMzM3NZQGZmZmZmJllAMzMzMzNzWEA=\",\"dtype\":\"float64\",\"shape\":[31]}},\"selected\":{\"id\":\"24732daf-d043-4c8e-a345-578df10c7a43\",\"type\":\"Selection\"},\"selection_policy\":{\"id\":\"f1ccbbb0-5555-4f06-bf6b-3cb5ff941ccc\",\"type\":\"UnionRenderers\"}},\"id\":\"0ab49ab6-9a7d-4a9b-ace3-5ca6329a3211\",\"type\":\"ColumnDataSource\"},{\"attributes\":{},\"id\":\"64520bd7-6885-42b7-b1a9-3ca0de028936\",\"type\":\"LinearScale\"},{\"attributes\":{\"fill_color\":{\"value\":\"red\"},\"line_color\":{\"value\":\"red\"},\"size\":{\"units\":\"screen\",\"value\":10},\"x\":{\"field\":\"x\"},\"y\":{\"field\":\"y\"}},\"id\":\"696568cd-1a01-4224-afeb-5bea97b65c2c\",\"type\":\"Circle\"},{\"attributes\":{\"dimension\":1,\"plot\":{\"id\":\"0076c00c-dc0c-40e4-9f83-b347e5e6b2c9\",\"subtype\":\"Figure\",\"type\":\"Plot\"},\"ticker\":{\"id\":\"3a4a856b-b6e7-4e2a-8f9d-11f4388d4e6d\",\"type\":\"BasicTicker\"}},\"id\":\"7960ff51-7537-4162-acd0-45acd56a2943\",\"type\":\"Grid\"},{\"attributes\":{\"source\":{\"id\":\"bce7eaa8-3864-400f-9896-8220846790c3\",\"type\":\"ColumnDataSource\"}},\"id\":\"d4d71acb-4558-4a97-ac72-14a61de62bf1\",\"type\":\"CDSView\"},{\"attributes\":{},\"id\":\"ff502fb8-10d9-4143-a922-1c9981512d2e\",\"type\":\"PanTool\"},{\"attributes\":{\"click_policy\":\"hide\",\"items\":[{\"id\":\"7784a7cc-0c07-4e1b-93fa-9b3994b9e2c0\",\"type\":\"LegendItem\"},{\"id\":\"efa2123b-1388-4437-a508-9fd782cb361d\",\"type\":\"LegendItem\"},{\"id\":\"29ddc46f-15bf-4110-a86b-c8b3b6153d2c\",\"type\":\"LegendItem\"},{\"id\":\"5cf397c3-4716-4693-aedb-5c9174c7b0c2\",\"type\":\"LegendItem\"},{\"id\":\"f295cb68-9aa0-4cda-92a3-667fd18365f2\",\"type\":\"LegendItem\"},{\"id\":\"0c33bf9e-7ccc-4949-ac2c-d4dfb588ea95\",\"type\":\"LegendItem\"},{\"id\":\"823ce0a9-da70-4c22-ac0c-15a68e467e03\",\"type\":\"LegendItem\"},{\"id\":\"954be608-ef72-44e3-bc6d-b0d54ed6ebbd\",\"type\":\"LegendItem\"},{\"id\":\"966e865e-f671-4dc1-8877-ba564708dc13\",\"type\":\"LegendItem\"},{\"id\":\"fecde03c-8c21-47fa-a876-ec1f5d789d27\",\"type\":\"LegendItem\"},{\"id\":\"65d5dcec-eeac-44a1-9d49-b2a387f8ca3f\",\"type\":\"LegendItem\"},{\"id\":\"ca4c13a8-5041-48dc-b603-4e03e184b4ff\",\"type\":\"LegendItem\"},{\"id\":\"6b87a336-e1ad-41a8-a9d7-36af144a4059\",\"type\":\"LegendItem\"},{\"id\":\"ee7cea78-0402-4d85-ba66-c7795e5410c0\",\"type\":\"LegendItem\"},{\"id\":\"9a999506-c1f1-452b-bbce-2e8088ca7916\",\"type\":\"LegendItem\"},{\"id\":\"546d188d-4563-41f4-af77-c8f1b6b342e8\",\"type\":\"LegendItem\"},{\"id\":\"36977fbf-6a0f-41d8-b24b-7ee6775248bb\",\"type\":\"LegendItem\"}],\"plot\":{\"id\":\"0076c00c-dc0c-40e4-9f83-b347e5e6b2c9\",\"subtype\":\"Figure\",\"type\":\"Plot\"}},\"id\":\"a82a49bc-cf3e-4540-8f69-5f57c51eb075\",\"type\":\"Legend\"},{\"attributes\":{\"callback\":null,\"data\":{\"a\":{\"__ndarray__\":\"AAAAAAAAN0AAAAAAAAA0QJqZmZmZmTRA\",\"dtype\":\"float64\",\"shape\":[3]},\"team\":[\"MIA\",\"MIA\",\"MIA\"],\"wins\":[66,46,52],\"x\":[2012,2011,2005],\"y\":{\"__ndarray__\":\"mpmZmZm5WUAAAAAAAKBYQJqZmZmZ+VhA\",\"dtype\":\"float64\",\"shape\":[3]}},\"selected\":{\"id\":\"08681b8a-1396-4ac3-80e3-79fdcb0b3e6b\",\"type\":\"Selection\"},\"selection_policy\":{\"id\":\"a4f0aac1-4ba7-433b-8acb-a5c372ffc22f\",\"type\":\"UnionRenderers\"}},\"id\":\"2d5ebb15-9534-44a5-b858-caa5d5697fb6\",\"type\":\"ColumnDataSource\"},{\"attributes\":{},\"id\":\"4d537ff5-6e57-48bc-ac23-0487686a9344\",\"type\":\"WheelZoomTool\"},{\"attributes\":{},\"id\":\"97e04970-e2ba-4fd6-a697-ce3cfcd178ea\",\"type\":\"ResetTool\"},{\"attributes\":{\"data_source\":{\"id\":\"bce7eaa8-3864-400f-9896-8220846790c3\",\"type\":\"ColumnDataSource\"},\"glyph\":{\"id\":\"9a978c7f-f861-45f7-b81e-ab994db5de90\",\"type\":\"Circle\"},\"hover_glyph\":null,\"muted_glyph\":null,\"nonselection_glyph\":{\"id\":\"80698b6d-e7c5-411b-9c10-0aac20c9c065\",\"type\":\"Circle\"},\"selection_glyph\":null,\"view\":{\"id\":\"d4d71acb-4558-4a97-ac72-14a61de62bf1\",\"type\":\"CDSView\"}},\"id\":\"472efe2f-5a37-40d2-ab2e-9e8394721ce2\",\"type\":\"GlyphRenderer\"},{\"attributes\":{\"fill_alpha\":{\"value\":0.1},\"fill_color\":{\"value\":\"#1f77b4\"},\"line_alpha\":{\"value\":0.1},\"line_color\":{\"value\":\"#1f77b4\"},\"x\":{\"field\":\"x\"},\"y\":{\"field\":\"y\"}},\"id\":\"80698b6d-e7c5-411b-9c10-0aac20c9c065\",\"type\":\"Circle\"},{\"attributes\":{},\"id\":\"389a5d99-2af8-4d42-a0eb-f708fb303a33\",\"type\":\"BasicTickFormatter\"},{\"attributes\":{\"label\":{\"value\":\"Lakers\"},\"renderers\":[{\"id\":\"472efe2f-5a37-40d2-ab2e-9e8394721ce2\",\"type\":\"GlyphRenderer\"},{\"id\":\"1c1882b0-9bc5-4842-9fec-f6cee47be1b6\",\"type\":\"GlyphRenderer\"}]},\"id\":\"7784a7cc-0c07-4e1b-93fa-9b3994b9e2c0\",\"type\":\"LegendItem\"},{\"attributes\":{\"callback\":null,\"data\":{\"a\":{\"__ndarray__\":\"AAAAAACAOEDNzMzMzMw2QM3MzMzMzDdAAAAAAACAOEBmZmZmZmY4QDMzMzMzMzlAmpmZmZkZOUAzMzMzMzM3QGZmZmZmZjZAzczMzMxMNkAzMzMzMzM1QAAAAAAAADVAmpmZmZkZNkBmZmZmZuY0QJqZmZmZmTVAZmZmZmZmNEAAAAAAAAA0QAAAAAAAADRAMzMzMzOzNUAzMzMzMzM2QAAAAAAAADZAZmZmZmZmNkDNzMzMzEw0QGZmZmZm5jhAZmZmZmZmN0CamZmZmRk3QAAAAAAAgDhAAAAAAACAOECamZmZmRk6QM3MzMzMzDhAzczMzMzMOECamZmZmZk8QJqZmZmZGTtAmpmZmZmZO0AzMzMzMzM8QM3MzMzMzDxAmpmZmZmZO0AAAAAAAIA7QAAAAAAAADlAZmZmZmZmPEAzMzMzMzM8QM3MzMzMTDtAzczMzMzMOUAAAAAAAIA5QM3MzMzMTDZAAAAAAACANUCamZmZmZk2QDMzMzMzszFAmpmZmZmZNkBmZmZmZmYzQGZmZmZm5jBAMzMzMzMzMUA=\",\"dtype\":\"float64\",\"shape\":[52]},\"team\":[\"SAS\",\"SAS\",\"SAS\",\"SAS\",\"SAS\",\"SAS\",\"SAS\",\"SAS\",\"SAS\",\"SAS\",\"SAS\",\"SAS\",\"SAS\",\"SAS\",\"SAS\",\"SAS\",\"SAS\",\"SAS\",\"SAS\",\"SAS\",\"SAS\",\"SAS\",\"SAS\",\"SAS\",\"SAS\",\"SAS\",\"SAS\",\"SAS\",\"SAS\",\"SAS\",\"SAS\",\"SAS\",\"SAS\",\"SAS\",\"SAS\",\"SAS\",\"SAS\",\"SAS\",\"SAS\",\"SAS\",\"SAS\",\"SAS\",\"SAS\",\"SAA\",\"SAA\",\"SAA\",\"DLC\",\"DLC\",\"TEX\",\"DLC\",\"DLC\",\"DLC\"],\"wins\":[0,47,61,67,55,62,58,50,61,50,54,56,58,63,59,57,60,58,58,53,37,56,20,59,62,55,49,47,55,56,21,31,28,35,41,37,53,48,52,41,48,52,44,50,51,45,28,42,30,45,41,46],\"x\":[2018,2017,2016,2015,2014,2013,2012,2011,2010,2009,2008,2007,2006,2005,2004,2003,2002,2001,2000,1999,1998,1997,1996,1995,1994,1993,1992,1991,1990,1989,1988,1987,1986,1985,1984,1983,1982,1981,1980,1979,1978,1977,1976,1975,1974,1973,1972,1971,1970,1969,1968,1967],\"y\":{\"__ndarray__\":\"zczMzMzsW0DNzMzMzKxZQDMzMzMzU1pAAAAAAADgWUDNzMzMzMxZQJqZmZmZWVpAAAAAAADAWUDNzMzMzOxZQM3MzMzM7FlAmpmZmZlZWUAAAAAAAEBYQJqZmZmZ2VdAAAAAAACgWEBmZmZmZuZXQM3MzMzMDFhAAAAAAADgVkAzMzMzM/NXQM3MzMzMLFhAzczMzMwMWEDNzMzMzAxYQDMzMzMzM1dAAAAAAAAgV0AAAAAAAKBWQJqZmZmZ2VlAZmZmZmamWkAAAAAAAABZQAAAAAAAYFpAAAAAAAAAWkBmZmZmZsZaQDMzMzMzk1pAAAAAAABgWkBmZmZmZmZcQDMzMzMzE1tAzczMzMzMW0AzMzMzM7NcQDMzMzMzE15AMzMzMzOTXEBmZmZmZkZcQDMzMzMzE1xAmpmZmZnZXUAzMzMzM9NdQAAAAAAAoFxAAAAAAADAXEBmZmZmZuZcQJqZmZmZWVxAZmZmZmZmWEDNzMzMzKxbQJqZmZmZGVpAAAAAAABgXkAAAAAAAABeQAAAAAAAwFtAmpmZmZl5W0A=\",\"dtype\":\"float64\",\"shape\":[52]}},\"selected\":{\"id\":\"11927ecf-04b2-497b-9b08-109436bd9bfd\",\"type\":\"Selection\"},\"selection_policy\":{\"id\":\"1591046d-8f0e-46b1-948d-7402e2037a17\",\"type\":\"UnionRenderers\"}},\"id\":\"3f3a57db-5b41-446f-be07-12dd9d382722\",\"type\":\"ColumnDataSource\"},{\"attributes\":{\"fill_alpha\":{\"value\":0.2},\"fill_color\":{\"value\":\"dodgerblue\"},\"line_alpha\":{\"value\":0.2},\"line_color\":{\"value\":\"dodgerblue\"},\"x\":{\"field\":\"x\"},\"y\":{\"field\":\"y\"}},\"id\":\"0fb9ec11-a6c2-4cbd-a580-45e35d3aa03c\",\"type\":\"Circle\"},{\"attributes\":{\"fill_color\":{\"value\":\"Gold\"},\"line_color\":{\"value\":\"Gold\"},\"size\":{\"units\":\"screen\",\"value\":10},\"x\":{\"field\":\"x\"},\"y\":{\"field\":\"y\"}},\"id\":\"84ec44e8-f8a1-44e6-88bf-651c506b88d8\",\"type\":\"Circle\"},{\"attributes\":{\"source\":{\"id\":\"969df391-c4c3-47a4-8974-1aae09d04887\",\"type\":\"ColumnDataSource\"}},\"id\":\"84408f2c-93af-4386-9803-c422614d7307\",\"type\":\"CDSView\"},{\"attributes\":{\"fill_alpha\":{\"value\":0.1},\"fill_color\":{\"value\":\"#1f77b4\"},\"line_alpha\":{\"value\":0.1},\"line_color\":{\"value\":\"#1f77b4\"},\"size\":{\"units\":\"screen\",\"value\":10},\"x\":{\"field\":\"x\"},\"y\":{\"field\":\"y\"}},\"id\":\"3511f5f5-1931-4feb-b78c-469d43c97850\",\"type\":\"Circle\"},{\"attributes\":{\"fill_alpha\":{\"value\":0.1},\"fill_color\":{\"value\":\"#1f77b4\"},\"line_alpha\":{\"value\":0.1},\"line_color\":{\"value\":\"#1f77b4\"},\"size\":{\"units\":\"screen\",\"value\":10},\"x\":{\"field\":\"x\"},\"y\":{\"field\":\"y\"}},\"id\":\"ee189b81-8ea2-4a31-8053-d35684f36ff9\",\"type\":\"Circle\"},{\"attributes\":{\"data_source\":{\"id\":\"969df391-c4c3-47a4-8974-1aae09d04887\",\"type\":\"ColumnDataSource\"},\"glyph\":{\"id\":\"84ec44e8-f8a1-44e6-88bf-651c506b88d8\",\"type\":\"Circle\"},\"hover_glyph\":null,\"muted_glyph\":null,\"nonselection_glyph\":{\"id\":\"ee189b81-8ea2-4a31-8053-d35684f36ff9\",\"type\":\"Circle\"},\"selection_glyph\":null,\"view\":{\"id\":\"84408f2c-93af-4386-9803-c422614d7307\",\"type\":\"CDSView\"}},\"id\":\"1c1882b0-9bc5-4842-9fec-f6cee47be1b6\",\"type\":\"GlyphRenderer\"},{\"attributes\":{\"callback\":null,\"data\":{\"a\":{\"__ndarray__\":\"MzMzMzMzOUCamZmZmRk2QJqZmZmZmTVAAAAAAAAANEAAAAAAAAA2QA==\",\"dtype\":\"float64\",\"shape\":[5]},\"team\":[\"SAS\",\"SAS\",\"SAS\",\"SAS\",\"SAS\"],\"wins\":[62,58,59,60,37],\"x\":[2013,2006,2004,2002,1998],\"y\":{\"__ndarray__\":\"mpmZmZlZWkAAAAAAAKBYQM3MzMzMDFhAMzMzMzPzV0AzMzMzMzNXQA==\",\"dtype\":\"float64\",\"shape\":[5]}},\"selected\":{\"id\":\"d850316c-1858-4113-9827-ebfff5e96b20\",\"type\":\"Selection\"},\"selection_policy\":{\"id\":\"2fe7aa73-b7f6-45c9-bf7c-c60f3feea88e\",\"type\":\"UnionRenderers\"}},\"id\":\"ae3d8e33-07e2-4cbe-8a4c-fcec612534aa\",\"type\":\"ColumnDataSource\"},{\"attributes\":{\"label\":{\"value\":\"Rockets\"},\"renderers\":[{\"id\":\"6971f187-9e1a-4ae6-bbc2-5e5c083f1aa3\",\"type\":\"GlyphRenderer\"},{\"id\":\"02ce28db-e8d2-49d0-b7d4-e90c82921abb\",\"type\":\"GlyphRenderer\"}]},\"id\":\"5cf397c3-4716-4693-aedb-5c9174c7b0c2\",\"type\":\"LegendItem\"},{\"attributes\":{\"source\":{\"id\":\"d2ca43ca-7243-46ae-98b3-2eeaf237266d\",\"type\":\"ColumnDataSource\"}},\"id\":\"d1e920a4-93cc-4a57-85c6-1c95d71a2662\",\"type\":\"CDSView\"},{\"attributes\":{\"data_source\":{\"id\":\"23816bdd-51b1-41cf-9f5f-86122c5d6fc8\",\"type\":\"ColumnDataSource\"},\"glyph\":{\"id\":\"0fb9ec11-a6c2-4cbd-a580-45e35d3aa03c\",\"type\":\"Circle\"},\"hover_glyph\":null,\"muted_glyph\":null,\"nonselection_glyph\":{\"id\":\"ebdc1af8-5b01-4a39-b85b-9d224a581005\",\"type\":\"Circle\"},\"selection_glyph\":null,\"view\":{\"id\":\"c9e4916e-5698-4369-9ecf-31d2c4c11322\",\"type\":\"CDSView\"}},\"id\":\"60921e6b-5dec-4c2c-8840-10898e17e0a1\",\"type\":\"GlyphRenderer\"},{\"attributes\":{\"source\":{\"id\":\"23816bdd-51b1-41cf-9f5f-86122c5d6fc8\",\"type\":\"ColumnDataSource\"}},\"id\":\"c9e4916e-5698-4369-9ecf-31d2c4c11322\",\"type\":\"CDSView\"},{\"attributes\":{\"fill_alpha\":{\"value\":0.2},\"fill_color\":{\"value\":\"black\"},\"line_alpha\":{\"value\":0.2},\"size\":{\"units\":\"screen\",\"value\":15},\"x\":{\"field\":\"x\"},\"y\":{\"field\":\"y\"}},\"id\":\"af0fea5e-d43a-4ee6-becb-98910f73d870\",\"type\":\"CircleCross\"},{\"attributes\":{\"fill_alpha\":{\"value\":0.1},\"fill_color\":{\"value\":\"#1f77b4\"},\"line_alpha\":{\"value\":0.1},\"line_color\":{\"value\":\"#1f77b4\"},\"x\":{\"field\":\"x\"},\"y\":{\"field\":\"y\"}},\"id\":\"ebdc1af8-5b01-4a39-b85b-9d224a581005\",\"type\":\"Circle\"},{\"attributes\":{\"callback\":null,\"data\":{\"a\":{\"__ndarray__\":\"ZmZmZmbmOkCamZmZmRk7QM3MzMzMzDdAAAAAAACANUAAAAAAAIA0QM3MzMzMzDVAzczMzMzMNkAAAAAAAAA2QDMzMzMzszZAAAAAAAAANUCamZmZmRk0QGZmZmZmZjRAZmZmZmZmNEAzMzMzMzM0QGZmZmZm5jRAAAAAAAAANECamZmZmZk1QAAAAAAAADRAmpmZmZmZNEAzMzMzMzM2QDMzMzMzszJAmpmZmZkZNUAzMzMzM7M0QGZmZmZm5jNAmpmZmZkZM0DNzMzMzEw2QGZmZmZm5jhAZmZmZmZmNUAzMzMzMzM2QJqZmZmZmTdAMzMzMzOzOUCamZmZmRk3QDMzMzMzszdAmpmZmZmZOEBmZmZmZmY4QM3MzMzMzDhAmpmZmZmZOECamZmZmZk7QGZmZmZm5jxAmpmZmZkZO0AAAAAAAIA7QJqZmZmZGTtAAAAAAAAAOEAzMzMzMzM0QM3MzMzMzDRAZmZmZmbmNUCamZmZmZk0QGZmZmZmZjdAmpmZmZkZOEBmZmZmZuY5QM3MzMzMTDdAzczMzMzMOkBmZmZmZmY6QM3MzMzMzDdAMzMzMzMzNUAAAAAAAIA0QM3MzMzMzDVAZmZmZmZmNkCamZmZmZk2QM3MzMzMTDZAmpmZmZmZMkAAAAAAAAAyQM3MzMzMzDFAzczMzMzMN0AzMzMzM7M4QGZmZmZmZjVAAAAAAACANEDNzMzMzMw0QJqZmZmZmTZAAAAAAAAAN0A=\",\"dtype\":\"float64\",\"shape\":[70]},\"team\":[\"PHI\",\"PHI\",\"PHI\",\"PHI\",\"PHI\",\"PHI\",\"PHI\",\"PHI\",\"PHI\",\"PHI\",\"PHI\",\"PHI\",\"PHI\",\"PHI\",\"PHI\",\"PHI\",\"PHI\",\"PHI\",\"PHI\",\"PHI\",\"PHI\",\"PHI\",\"PHI\",\"PHI\",\"PHI\",\"PHI\",\"PHI\",\"PHI\",\"PHI\",\"PHI\",\"PHI\",\"PHI\",\"PHI\",\"PHI\",\"PHI\",\"PHI\",\"PHI\",\"PHI\",\"PHI\",\"PHI\",\"PHI\",\"PHI\",\"PHI\",\"PHI\",\"PHI\",\"PHI\",\"PHI\",\"PHI\",\"PHI\",\"PHI\",\"PHI\",\"PHI\",\"PHI\",\"PHI\",\"PHI\",\"PHI\",\"SYR\",\"SYR\",\"SYR\",\"SYR\",\"SYR\",\"SYR\",\"SYR\",\"SYR\",\"SYR\",\"SYR\",\"SYR\",\"SYR\",\"SYR\",\"SYR\"],\"wins\":[0,52,28,10,18,19,34,35,41,27,41,40,35,38,43,33,48,43,56,49,28,31,22,18,24,25,26,35,44,53,46,36,45,54,58,52,65,58,62,59,47,55,50,46,34,25,9,30,47,42,55,62,68,55,40,34,48,41,38,45,35,41,38,35,43,42,47,40,32,51],\"x\":[2018,2017,2016,2015,2014,2013,2012,2011,2010,2009,2008,2007,2006,2005,2004,2003,2002,2001,2000,1999,1998,1997,1996,1995,1994,1993,1992,1991,1990,1989,1988,1987,1986,1985,1984,1983,1982,1981,1980,1979,1978,1977,1976,1975,1974,1973,1972,1971,1970,1969,1968,1967,1966,1965,1964,1963,1962,1961,1960,1959,1958,1957,1956,1955,1954,1953,1952,1951,1950,1949],\"y\":{\"__ndarray__\":\"zczMzMzMXEAzMzMzM3NbQJqZmZmZmVlAmpmZmZlZWEAAAAAAAABXQAAAAAAA4FhAzczMzMxMV0BmZmZmZmZXQAAAAAAAwFhAzczMzMxsWECamZmZmVlYQGZmZmZmJlhAmpmZmZm5V0CamZmZmdlYQGZmZmZmxlhAAAAAAAAAVkAzMzMzMzNYQAAAAAAAwFZAzczMzMysV0AzMzMzM7NXQM3MzMzMbFZAMzMzMzNTV0DNzMzMzAxZQAAAAAAAoFdAmpmZmZnZV0AAAAAAAIBYQDMzMzMzE1pAmpmZmZl5WUCamZmZmVlaQM3MzMzMjFtAmpmZmZn5W0DNzMzMzGxaQAAAAAAAoFpAmpmZmZmZW0CamZmZmTlcQDMzMzMz81pAZmZmZmYGXEDNzMzMzMxbQM3MzMzM7FtAZmZmZmZGW0AAAAAAAGBbQM3MzMzMrFxAzczMzMyMW0AAAAAAAKBaQDMzMzMz81hAzczMzMxMWUBmZmZmZgZaQM3MzMzMDFxAMzMzMzOzXECamZmZmXleQJqZmZmZuV1AZmZmZmamXkDNzMzMzExfQDMzMzMzU11AAAAAAAAgXEDNzMzMzAxcQGZmZmZmZl5AzczMzMwsXkAzMzMzM1NeQJqZmZmZuV1AZmZmZmZGXEDNzMzMzMxaQM3MzMzM7FhAmpmZmZk5WEBmZmZmZsZWQAAAAAAA4FRAZmZmZmZmVUDNzMzMzKxVQGZmZmZmhlVAMzMzMzMzVUA=\",\"dtype\":\"float64\",\"shape\":[70]}},\"selected\":{\"id\":\"b4d765d6-7141-4884-b6da-b0a00dfd2919\",\"type\":\"Selection\"},\"selection_policy\":{\"id\":\"882be0d4-1f07-4d71-8da7-1db44fa0b82a\",\"type\":\"UnionRenderers\"}},\"id\":\"76f40aa2-dede-4f8d-a97f-e5d9fd5edf29\",\"type\":\"ColumnDataSource\"},{\"attributes\":{\"label\":{\"value\":\"Warriors\"},\"renderers\":[{\"id\":\"60921e6b-5dec-4c2c-8840-10898e17e0a1\",\"type\":\"GlyphRenderer\"},{\"id\":\"6fbc307e-9090-4d28-8e8b-e68d2329b166\",\"type\":\"GlyphRenderer\"}]},\"id\":\"efa2123b-1388-4437-a508-9fd782cb361d\",\"type\":\"LegendItem\"},{\"attributes\":{\"fill_color\":{\"value\":\"dodgerblue\"},\"line_color\":{\"value\":\"dodgerblue\"},\"size\":{\"units\":\"screen\",\"value\":10},\"x\":{\"field\":\"x\"},\"y\":{\"field\":\"y\"}},\"id\":\"645530e9-af3d-487e-bce5-3059ca33a7ee\",\"type\":\"Circle\"},{\"attributes\":{\"fill_alpha\":{\"value\":0.1},\"fill_color\":{\"value\":\"#1f77b4\"},\"line_alpha\":{\"value\":0.1},\"line_color\":{\"value\":\"#1f77b4\"},\"x\":{\"field\":\"x\"},\"y\":{\"field\":\"a\"}},\"id\":\"57f8c6eb-10b5-4c0b-9565-ba616dda941a\",\"type\":\"Circle\"},{\"attributes\":{\"source\":{\"id\":\"be2b5032-b224-4ee4-82dc-021bd433dc41\",\"type\":\"ColumnDataSource\"}},\"id\":\"afbfb928-8210-4831-b4ca-e807b031278f\",\"type\":\"CDSView\"},{\"attributes\":{\"data_source\":{\"id\":\"be2b5032-b224-4ee4-82dc-021bd433dc41\",\"type\":\"ColumnDataSource\"},\"glyph\":{\"id\":\"645530e9-af3d-487e-bce5-3059ca33a7ee\",\"type\":\"Circle\"},\"hover_glyph\":null,\"muted_glyph\":null,\"nonselection_glyph\":{\"id\":\"557a425f-339f-4a94-b349-9286ef17d051\",\"type\":\"Circle\"},\"selection_glyph\":null,\"view\":{\"id\":\"afbfb928-8210-4831-b4ca-e807b031278f\",\"type\":\"CDSView\"}},\"id\":\"6fbc307e-9090-4d28-8e8b-e68d2329b166\",\"type\":\"GlyphRenderer\"},{\"attributes\":{\"fill_alpha\":{\"value\":0.1},\"fill_color\":{\"value\":\"#1f77b4\"},\"line_alpha\":{\"value\":0.1},\"line_color\":{\"value\":\"#1f77b4\"},\"size\":{\"units\":\"screen\",\"value\":10},\"x\":{\"field\":\"x\"},\"y\":{\"field\":\"y\"}},\"id\":\"557a425f-339f-4a94-b349-9286ef17d051\",\"type\":\"Circle\"},{\"attributes\":{\"label\":{\"value\":\"Buck\"},\"renderers\":[{\"id\":\"9056876b-9c8c-4f04-998d-70dcfac80f84\",\"type\":\"GlyphRenderer\"},{\"id\":\"4b4dee2d-8cf9-49a8-b92c-18da7d2e51a0\",\"type\":\"GlyphRenderer\"}]},\"id\":\"954be608-ef72-44e3-bc6d-b0d54ed6ebbd\",\"type\":\"LegendItem\"},{\"attributes\":{\"callback\":null,\"data\":{\"a\":{\"__ndarray__\":\"mpmZmZmZOEBmZmZmZmY6QDMzMzMzszhA\",\"dtype\":\"float64\",\"shape\":[3]},\"team\":[\"PHI\",\"PHI\",\"SYR\"],\"wins\":[65,68,43],\"x\":[1982,1966,1954],\"y\":{\"__ndarray__\":\"ZmZmZmYGXEDNzMzMzExfQGZmZmZmxlZA\",\"dtype\":\"float64\",\"shape\":[3]}},\"selected\":{\"id\":\"ae9f08b8-d7bd-4b9f-a0a8-83208ee4ce5c\",\"type\":\"Selection\"},\"selection_policy\":{\"id\":\"3507cab1-1ab5-4c47-875d-0875608c9c5f\",\"type\":\"UnionRenderers\"}},\"id\":\"17587eb1-7610-4fbf-934e-2ec185c90d95\",\"type\":\"ColumnDataSource\"},{\"attributes\":{\"fill_alpha\":{\"value\":0.1},\"fill_color\":{\"value\":\"#1f77b4\"},\"line_alpha\":{\"value\":0.1},\"line_color\":{\"value\":\"#1f77b4\"},\"size\":{\"units\":\"screen\",\"value\":10},\"x\":{\"field\":\"x\"},\"y\":{\"field\":\"y\"}},\"id\":\"da2acd8f-5b1c-4f38-a3d0-40801325a4a8\",\"type\":\"Circle\"},{\"attributes\":{\"callback\":null,\"renderers\":\"auto\",\"tooltips\":[[\"Season\",\"@x\"],[\"Point Per Game\",\"@y\"],[\"Team\",\"@team\"]]},\"id\":\"5f84b677-cfc1-409b-833f-db3242f26eed\",\"type\":\"HoverTool\"},{\"attributes\":{\"fill_alpha\":{\"value\":0.4},\"fill_color\":{\"value\":\"red\"},\"line_alpha\":{\"value\":0.4},\"line_color\":{\"value\":\"red\"},\"x\":{\"field\":\"x\"},\"y\":{\"field\":\"y\"}},\"id\":\"30fbc511-ff33-477e-8e87-c266443e4103\",\"type\":\"Circle\"},{\"attributes\":{\"fill_alpha\":{\"value\":0.1},\"fill_color\":{\"value\":\"#1f77b4\"},\"line_alpha\":{\"value\":0.1},\"line_color\":{\"value\":\"#1f77b4\"},\"size\":{\"units\":\"screen\",\"value\":15},\"x\":{\"field\":\"x\"},\"y\":{\"field\":\"y\"}},\"id\":\"5162e958-c298-434d-aac4-7f84e7b98f17\",\"type\":\"CircleCross\"},{\"attributes\":{\"data_source\":{\"id\":\"b9969fe5-912d-4a34-acb2-7f9edcdf0d45\",\"type\":\"ColumnDataSource\"},\"glyph\":{\"id\":\"af0fea5e-d43a-4ee6-becb-98910f73d870\",\"type\":\"CircleCross\"},\"hover_glyph\":null,\"muted_glyph\":null,\"nonselection_glyph\":{\"id\":\"5162e958-c298-434d-aac4-7f84e7b98f17\",\"type\":\"CircleCross\"},\"selection_glyph\":null,\"view\":{\"id\":\"b5b1fc96-6aa7-4c20-bc1d-fbc0b982602f\",\"type\":\"CDSView\"}},\"id\":\"b2c07cb1-e2d4-40d3-ae88-a8f0c822cfe6\",\"type\":\"GlyphRenderer\"},{\"attributes\":{\"source\":{\"id\":\"b9969fe5-912d-4a34-acb2-7f9edcdf0d45\",\"type\":\"ColumnDataSource\"}},\"id\":\"b5b1fc96-6aa7-4c20-bc1d-fbc0b982602f\",\"type\":\"CDSView\"},{\"attributes\":{\"callback\":null,\"data\":{\"a\":{\"__ndarray__\":\"ZmZmZmZmOUCamZmZmZk1QAAAAAAAgDZAAAAAAACAOEDNzMzMzEw0QGZmZmZm5jJAzczMzMzMNEDNzMzMzEwzQGZmZmZmZjRAAAAAAACANEAzMzMzM7MzQJqZmZmZGTNAzczMzMxMNEDNzMzMzEw2QAAAAAAAgDhAMzMzMzMzOkDNzMzMzMw4QGZmZmZm5jdAmpmZmZmZNkDNzMzMzMw3QJqZmZmZmTZAZmZmZmZmNkBmZmZmZuY1QM3MzMzMTDZAMzMzMzMzNkAzMzMzM7M4QM3MzMzMTDlAZmZmZmbmN0DNzMzMzEw4QAAAAAAAADlAAAAAAAAAOEDNzMzMzMw5QJqZmZmZmTpAmpmZmZkZPECamZmZmZk8QDMzMzMzMztAzczMzMxMOkCamZmZmRk5QDMzMzMzsztAZmZmZmbmOUDNzMzMzEw7QM3MzMzMTDhAMzMzMzMzOEAzMzMzM7M2QJqZmZmZmTZAzczMzMxMNUDNzMzMzMw5QJqZmZmZmThAMzMzMzOzOEDNzMzMzEw4QDMzMzMzMzhAAAAAAAAAOUBmZmZmZuY2QDMzMzMzszZAAAAAAAAAN0AAAAAAAAA4QJqZmZmZGThAZmZmZmbmOkAzMzMzM7M6QM3MzMzMTDdAAAAAAAAAM0BmZmZmZuY1QAAAAAAAADJAzczMzMxMOEAAAAAAAIA3QDMzMzMzMzRAMzMzMzOzNUCamZmZmRk4QJqZmZmZGTRAzczMzMxMNEAAAAAAAAA1QA==\",\"dtype\":\"float64\",\"shape\":[71]},\"team\":[\"SAC\",\"SAC\",\"SAC\",\"SAC\",\"SAC\",\"SAC\",\"SAC\",\"SAC\",\"SAC\",\"SAC\",\"SAC\",\"SAC\",\"SAC\",\"SAC\",\"SAC\",\"SAC\",\"SAC\",\"SAC\",\"SAC\",\"SAC\",\"SAC\",\"SAC\",\"SAC\",\"SAC\",\"SAC\",\"SAC\",\"SAC\",\"SAC\",\"SAC\",\"SAC\",\"SAC\",\"SAC\",\"SAC\",\"SAC\",\"KCK\",\"KCK\",\"KCK\",\"KCK\",\"KCK\",\"KCK\",\"KCK\",\"KCK\",\"KCK\",\"KCK\",\"KCO\",\"KCO\",\"KCO\",\"CIN\",\"CIN\",\"CIN\",\"CIN\",\"CIN\",\"CIN\",\"CIN\",\"CIN\",\"CIN\",\"CIN\",\"CIN\",\"CIN\",\"CIN\",\"CIN\",\"CIN\",\"ROC\",\"ROC\",\"ROC\",\"ROC\",\"ROC\",\"ROC\",\"ROC\",\"ROC\",\"ROC\"],\"wins\":[0,27,32,33,29,28,28,22,24,25,17,38,33,44,50,55,59,61,55,44,27,27,34,39,39,28,25,29,25,23,27,24,29,37,31,38,45,30,40,47,48,31,40,31,44,33,36,30,33,36,41,39,39,45,48,55,42,43,33,19,19,33,31,31,29,44,44,41,41,51,45],\"x\":[2018,2017,2016,2015,2014,2013,2012,2011,2010,2009,2008,2007,2006,2005,2004,2003,2002,2001,2000,1999,1998,1997,1996,1995,1994,1993,1992,1991,1990,1989,1988,1987,1986,1985,1984,1983,1982,1981,1980,1979,1978,1977,1976,1975,1974,1973,1972,1971,1970,1969,1968,1967,1966,1965,1964,1963,1962,1961,1960,1959,1958,1957,1956,1955,1954,1953,1952,1951,1950,1949,1948],\"y\":{\"__ndarray__\":\"zczMzMyMXEAzMzMzM7NYQDMzMzMzs1lAZmZmZmamWkAzMzMzM1NZQAAAAAAAIFlAzczMzMwMWUAzMzMzM7NYQJqZmZmZ2VhAAAAAAAAAWUBmZmZmZiZZQAAAAAAAoFlAMzMzMzNTWUCamZmZmblYQM3MzMzM7FlAMzMzMzOzWUDNzMzMzGxZQGZmZmZmJlpAzczMzMxsWUAAAAAAAEBaQM3MzMzMDFlAZmZmZmZGV0CamZmZmRlYQAAAAAAA4FhAzczMzMyMWEBmZmZmZkZZQJqZmZmZ+VpAMzMzMzMTWkDNzMzMzCxYQM3MzMzMbFlAAAAAAABgWkAAAAAAAABbQJqZmZmZuVtAMzMzMzMzW0AzMzMzM7NcQAAAAAAAgFtAMzMzMzNzXEBmZmZmZsZaQJqZmZmZuVpAAAAAAAAAW0BmZmZmZkZcQAAAAAAAYFtAzczMzMzsWkAzMzMzM9NZQJqZmZmZWVlAAAAAAACAWUBmZmZmZuZaQDMzMzMz81pAAAAAAAAAXUAzMzMzM1NdQAAAAAAAoFxAZmZmZmYmXUBmZmZmZkZdQDMzMzMzc11AzczMzMyMXEDNzMzMzKxcQGZmZmZmxl1AZmZmZmbGXkCamZmZmXldQGZmZmZmxltAZmZmZmbGWUDNzMzMzGxZQJqZmZmZWVdAMzMzMzPzV0AzMzMzM7NWQDMzMzMz81NAMzMzMzOTVUDNzMzMzIxVQGZmZmZmJlVAmpmZmZmZVEAAAAAAAABVQA==\",\"dtype\":\"float64\",\"shape\":[71]}},\"selected\":{\"id\":\"6c20bba1-29bd-4278-ad7d-7ba0ff633cf1\",\"type\":\"Selection\"},\"selection_policy\":{\"id\":\"a9c2930a-685f-4cb1-83e4-26936ecb1c66\",\"type\":\"UnionRenderers\"}},\"id\":\"72a2d073-5337-4e66-a590-555d06a8711b\",\"type\":\"ColumnDataSource\"},{\"attributes\":{\"label\":{\"value\":\"Warrior Dynasty\"},\"renderers\":[{\"id\":\"b2c07cb1-e2d4-40d3-ae88-a8f0c822cfe6\",\"type\":\"GlyphRenderer\"}]},\"id\":\"29ddc46f-15bf-4110-a86b-c8b3b6153d2c\",\"type\":\"LegendItem\"},{\"attributes\":{\"fill_alpha\":{\"value\":0.1},\"fill_color\":{\"value\":\"#1f77b4\"},\"line_alpha\":{\"value\":0.1},\"line_color\":{\"value\":\"#1f77b4\"},\"x\":{\"field\":\"x\"},\"y\":{\"field\":\"y\"}},\"id\":\"6744e581-da63-4bb0-acd4-28d575541acc\",\"type\":\"Circle\"},{\"attributes\":{\"fill_color\":{\"value\":\"Violet\"},\"line_color\":{\"value\":\"Violet\"},\"size\":{\"units\":\"screen\",\"value\":10},\"x\":{\"field\":\"x\"},\"y\":{\"field\":\"y\"}},\"id\":\"5e54353c-8655-43c0-9531-10078311e27b\",\"type\":\"Circle\"},{\"attributes\":{\"fill_alpha\":{\"value\":0.4},\"fill_color\":{\"value\":\"brown\"},\"line_alpha\":{\"value\":0.4},\"line_color\":{\"value\":\"brown\"},\"x\":{\"field\":\"x\"},\"y\":{\"field\":\"a\"}},\"id\":\"1cf8ef8c-9055-447d-bdd7-9a9ea9813bab\",\"type\":\"Circle\"},{\"attributes\":{\"fill_alpha\":{\"value\":0.4},\"fill_color\":{\"value\":\"midnightblue\"},\"line_alpha\":{\"value\":0.4},\"line_color\":{\"value\":\"midnightblue\"},\"x\":{\"field\":\"x\"},\"y\":{\"field\":\"y\"}},\"id\":\"505b869a-c8a3-4636-9de1-7e0939ae41fd\",\"type\":\"Circle\"},{\"attributes\":{\"fill_alpha\":{\"value\":0.4},\"fill_color\":{\"value\":\"Orange\"},\"line_alpha\":{\"value\":0.4},\"line_color\":{\"value\":\"Orange\"},\"x\":{\"field\":\"x\"},\"y\":{\"field\":\"y\"}},\"id\":\"741dd2e7-beab-4a2e-bf79-5161799adef3\",\"type\":\"Circle\"},{\"attributes\":{\"fill_color\":{\"value\":\"midnightblue\"},\"line_color\":{\"value\":\"midnightblue\"},\"size\":{\"units\":\"screen\",\"value\":10},\"x\":{\"field\":\"x\"},\"y\":{\"field\":\"a\"}},\"id\":\"6bbf389f-d3e2-4925-bf9c-f3d3ed0c24e9\",\"type\":\"Circle\"},{\"attributes\":{\"data_source\":{\"id\":\"ed549c27-7ba2-4a83-9f77-6ad6fc49e5e3\",\"type\":\"ColumnDataSource\"},\"glyph\":{\"id\":\"30fbc511-ff33-477e-8e87-c266443e4103\",\"type\":\"Circle\"},\"hover_glyph\":null,\"muted_glyph\":null,\"nonselection_glyph\":{\"id\":\"6744e581-da63-4bb0-acd4-28d575541acc\",\"type\":\"Circle\"},\"selection_glyph\":null,\"view\":{\"id\":\"030342b3-6677-4685-af96-ac0eb512cdb5\",\"type\":\"CDSView\"}},\"id\":\"6971f187-9e1a-4ae6-bbc2-5e5c083f1aa3\",\"type\":\"GlyphRenderer\"},{\"attributes\":{\"fill_alpha\":{\"value\":0.1},\"fill_color\":{\"value\":\"#1f77b4\"},\"line_alpha\":{\"value\":0.1},\"line_color\":{\"value\":\"#1f77b4\"},\"x\":{\"field\":\"x\"},\"y\":{\"field\":\"y\"}},\"id\":\"c265bdc4-f4d9-4ddc-a2b1-67bf6ed18736\",\"type\":\"Circle\"},{\"attributes\":{\"fill_alpha\":{\"value\":0.1},\"fill_color\":{\"value\":\"#1f77b4\"},\"line_alpha\":{\"value\":0.1},\"line_color\":{\"value\":\"#1f77b4\"},\"size\":{\"units\":\"screen\",\"value\":10},\"x\":{\"field\":\"x\"},\"y\":{\"field\":\"a\"}},\"id\":\"e3606a42-d46a-4342-b869-b6fa384ab6cb\",\"type\":\"Circle\"},{\"attributes\":{\"source\":{\"id\":\"ed549c27-7ba2-4a83-9f77-6ad6fc49e5e3\",\"type\":\"ColumnDataSource\"}},\"id\":\"030342b3-6677-4685-af96-ac0eb512cdb5\",\"type\":\"CDSView\"},{\"attributes\":{\"data_source\":{\"id\":\"2283dff6-86a2-4915-aac2-1128702a82a6\",\"type\":\"ColumnDataSource\"},\"glyph\":{\"id\":\"741dd2e7-beab-4a2e-bf79-5161799adef3\",\"type\":\"Circle\"},\"hover_glyph\":null,\"muted_glyph\":null,\"nonselection_glyph\":{\"id\":\"0f49c379-dc93-4cbf-a1f3-49be84d1bef5\",\"type\":\"Circle\"},\"selection_glyph\":null,\"view\":{\"id\":\"5d818b25-0477-4403-80aa-d45d1fe4ed8c\",\"type\":\"CDSView\"}},\"id\":\"461fb55c-16bc-4ed7-b14f-1499edb72c7d\",\"type\":\"GlyphRenderer\"},{\"attributes\":{\"data_source\":{\"id\":\"3ee36478-9541-4ab9-8e23-043b09da59e9\",\"type\":\"ColumnDataSource\"},\"glyph\":{\"id\":\"6bbf389f-d3e2-4925-bf9c-f3d3ed0c24e9\",\"type\":\"Circle\"},\"hover_glyph\":null,\"muted_glyph\":null,\"nonselection_glyph\":{\"id\":\"e3606a42-d46a-4342-b869-b6fa384ab6cb\",\"type\":\"Circle\"},\"selection_glyph\":null,\"view\":{\"id\":\"345d4631-7434-4223-bb07-9a5aa74d9869\",\"type\":\"CDSView\"}},\"id\":\"d7a1d061-3565-4dba-abd4-c8493f1efb17\",\"type\":\"GlyphRenderer\"},{\"attributes\":{\"fill_alpha\":{\"value\":0.4},\"fill_color\":{\"value\":\"lightsalmon\"},\"line_alpha\":{\"value\":0.4},\"line_color\":{\"value\":\"lightsalmon\"},\"x\":{\"field\":\"x\"},\"y\":{\"field\":\"y\"}},\"id\":\"eafea18d-8174-471f-bd0c-e5153f3b8f2a\",\"type\":\"Circle\"},{\"attributes\":{\"source\":{\"id\":\"2283dff6-86a2-4915-aac2-1128702a82a6\",\"type\":\"ColumnDataSource\"}},\"id\":\"5d818b25-0477-4403-80aa-d45d1fe4ed8c\",\"type\":\"CDSView\"},{\"attributes\":{\"source\":{\"id\":\"3ee36478-9541-4ab9-8e23-043b09da59e9\",\"type\":\"ColumnDataSource\"}},\"id\":\"345d4631-7434-4223-bb07-9a5aa74d9869\",\"type\":\"CDSView\"},{\"attributes\":{\"fill_alpha\":{\"value\":0.4},\"fill_color\":{\"value\":\"Green\"},\"line_alpha\":{\"value\":0.4},\"line_color\":{\"value\":\"Green\"},\"x\":{\"field\":\"x\"},\"y\":{\"field\":\"y\"}},\"id\":\"d7a0fcec-73a4-4c8a-8acc-c32e42d388bc\",\"type\":\"Circle\"},{\"attributes\":{\"callback\":null,\"data\":{\"a\":{\"__ndarray__\":\"zczMzMxMOkAAAAAAAIA2QDMzMzMzMzlAMzMzMzMzOEAAAAAAAIA4QAAAAAAAADVAzczMzMzMNkCamZmZmZk3QGZmZmZmZjdAAAAAAACAN0AzMzMzM7M2QGZmZmZmZjZAZmZmZmbmM0BmZmZmZuY0QJqZmZmZGTZAAAAAAACANEAzMzMzMzMzQAAAAAAAADVAzczMzMzMNEAzMzMzMzM1QAAAAAAAgDVAmpmZmZkZNkBmZmZmZuY1QGZmZmZm5jVAMzMzMzOzNUAAAAAAAIA3QGZmZmZmZjhAzczMzMxMOUDNzMzMzEw6QAAAAAAAgD1AMzMzMzOzOkBmZmZmZuY9QAAAAAAAgD1AmpmZmZkZPUBmZmZmZuY7QGZmZmZm5jlAAAAAAAAAO0BmZmZmZuY5QGZmZmZm5jpAzczMzMzMOkDNzMzMzEw4QAAAAAAAADhAAAAAAACAOECamZmZmRk4QM3MzMzMTDpAMzMzMzOzOkDNzMzMzEw8QDMzMzMzMztAAAAAAAAAOUBmZmZmZuY2QM3MzMzMzDdAZmZmZmbmNUAzMzMzMzM4QGZmZmZmZjZAMzMzMzMzNkAAAAAAAAA2QAAAAAAAgDhAmpmZmZmZOUAzMzMzM7M3QDMzMzMzszhAzczMzMzMNUBmZmZmZuY0QM3MzMzMTDRAAAAAAACAOUAAAAAAAIA6QJqZmZmZmThAAAAAAACAN0DNzMzMzEw4QGZmZmZm5jZAMzMzMzOzNUBmZmZmZuYyQGZmZmZmZh5AMzMzMzMzH0A=\",\"dtype\":\"float64\",\"shape\":[73]},\"team\":[\"BOS\",\"BOS\",\"BOS\",\"BOS\",\"BOS\",\"BOS\",\"BOS\",\"BOS\",\"BOS\",\"BOS\",\"BOS\",\"BOS\",\"BOS\",\"BOS\",\"BOS\",\"BOS\",\"BOS\",\"BOS\",\"BOS\",\"BOS\",\"BOS\",\"BOS\",\"BOS\",\"BOS\",\"BOS\",\"BOS\",\"BOS\",\"BOS\",\"BOS\",\"BOS\",\"BOS\",\"BOS\",\"BOS\",\"BOS\",\"BOS\",\"BOS\",\"BOS\",\"BOS\",\"BOS\",\"BOS\",\"BOS\",\"BOS\",\"BOS\",\"BOS\",\"BOS\",\"BOS\",\"BOS\",\"BOS\",\"BOS\",\"BOS\",\"BOS\",\"BOS\",\"BOS\",\"BOS\",\"BOS\",\"BOS\",\"BOS\",\"BOS\",\"BOS\",\"BOS\",\"BOS\",\"BOS\",\"BOS\",\"BOS\",\"BOS\",\"BOS\",\"BOS\",\"BOS\",\"BOS\",\"BOS\",\"BOS\",\"BOS\",\"BOS\"],\"wins\":[0,55,53,48,40,25,41,39,56,50,62,66,24,33,45,36,44,49,36,35,19,36,15,33,35,32,48,51,56,52,42,57,59,67,63,62,56,63,62,61,29,32,44,54,60,56,68,56,44,34,48,54,60,54,62,59,58,60,57,59,52,49,44,39,36,42,46,39,39,22,25,20,22],\"x\":[2018,2017,2016,2015,2014,2013,2012,2011,2010,2009,2008,2007,2006,2005,2004,2003,2002,2001,2000,1999,1998,1997,1996,1995,1994,1993,1992,1991,1990,1989,1988,1987,1986,1985,1984,1983,1982,1981,1980,1979,1978,1977,1976,1975,1974,1973,1972,1971,1970,1969,1968,1967,1966,1965,1964,1963,1962,1961,1960,1959,1958,1957,1956,1955,1954,1953,1952,1951,1950,1949,1948,1947,1946],\"y\":{\"__ndarray__\":\"mpmZmZkZXEAAAAAAAABaQAAAAAAAAFtAzczMzMxsWkCamZmZmVlZQM3MzMzMDFhAAAAAAAAgWEAzMzMzM/NWQAAAAAAAIFhAzczMzMzMWECamZmZmTlZQAAAAAAAIFlAMzMzMzPzV0AAAAAAAIBYQDMzMzMzU1lAMzMzMzPTV0DNzMzMzCxXQJqZmZmZGVhAZmZmZmamV0AzMzMzM9NYQAAAAAAAQFdAmpmZmZn5V0BmZmZmZiZZQGZmZmZm5llAMzMzMzOzWUAzMzMzMzNZQM3MzMzM7FlAZmZmZmamWkAAAAAAAOBbQAAAAAAAgFtAzczMzMxMW0BmZmZmZmZcQGZmZmZmJlxAZmZmZmaGXEAzMzMzM7NcQGZmZmZmBlxAZmZmZmYGXEAAAAAAAABcQJqZmZmZeVtAAAAAAABgXEDNzMzMzAxbQM3MzMzMbFpAAAAAAAAgWkDNzMzMzIxaQAAAAAAAoFpAAAAAAABAW0DNzMzMzCxcQGZmZmZm5lxAzczMzMxMXUCamZmZmblcQAAAAAAAwFtAZmZmZmYGXUAzMzMzM9NdQM3MzMzMLFxAMzMzMzMzXEAAAAAAAEBcQDMzMzMzs11AZmZmZmZGXkDNzMzMzOxdQAAAAAAAIF9AmpmZmZkZXUCamZmZmXlbQAAAAAAAYFpAAAAAAACAWkAAAAAAAGBZQM3MzMzM7FVAZmZmZmYGVkAzMzMzM9NWQM3MzMzMTFVAzczMzMzsU0BmZmZmZiZTQDMzMzMzM1FAzczMzMwMTkA=\",\"dtype\":\"float64\",\"shape\":[73]}},\"selected\":{\"id\":\"2f43d31c-d088-49b7-93d6-3f4667ed94b5\",\"type\":\"Selection\"},\"selection_policy\":{\"id\":\"07881f2b-8d8b-4b12-99e9-88e4084b2caa\",\"type\":\"UnionRenderers\"}},\"id\":\"c6b7fc2d-07f5-48b2-ae00-7f74db4c58a6\",\"type\":\"ColumnDataSource\"},{\"attributes\":{\"fill_alpha\":{\"value\":0.4},\"fill_color\":{\"value\":\"tan\"},\"line_alpha\":{\"value\":0.4},\"line_color\":{\"value\":\"tan\"},\"x\":{\"field\":\"x\"},\"y\":{\"field\":\"y\"}},\"id\":\"f5be2f5d-8c72-4249-aadd-d406f85e20c2\",\"type\":\"Circle\"},{\"attributes\":{\"child\":{\"id\":\"2ddcdf09-633d-4f60-9a8f-f8959eaeebcd\",\"subtype\":\"Figure\",\"type\":\"Plot\"},\"title\":\"Assists Per Game\"},\"id\":\"ccc1ab03-1b35-42b0-b858-fa9af30f4796\",\"type\":\"Panel\"},{\"attributes\":{},\"id\":\"0a45e547-552a-4fc1-a02a-9e54150189ff\",\"type\":\"Selection\"},{\"attributes\":{\"fill_alpha\":{\"value\":0.1},\"fill_color\":{\"value\":\"#1f77b4\"},\"line_alpha\":{\"value\":0.1},\"line_color\":{\"value\":\"#1f77b4\"},\"x\":{\"field\":\"x\"},\"y\":{\"field\":\"y\"}},\"id\":\"0f49c379-dc93-4cbf-a1f3-49be84d1bef5\",\"type\":\"Circle\"},{\"attributes\":{},\"id\":\"6175469c-530b-4c10-9f13-a9ce45d4cd36\",\"type\":\"UnionRenderers\"},{\"attributes\":{\"fill_alpha\":{\"value\":0.1},\"fill_color\":{\"value\":\"#1f77b4\"},\"line_alpha\":{\"value\":0.1},\"line_color\":{\"value\":\"#1f77b4\"},\"x\":{\"field\":\"x\"},\"y\":{\"field\":\"y\"}},\"id\":\"72d46852-7f57-4592-88fc-b6e7a86f3f6c\",\"type\":\"Circle\"},{\"attributes\":{\"data_source\":{\"id\":\"194c5601-cbcc-4b37-9fd4-999c130d0509\",\"type\":\"ColumnDataSource\"},\"glyph\":{\"id\":\"1cf8ef8c-9055-447d-bdd7-9a9ea9813bab\",\"type\":\"Circle\"},\"hover_glyph\":null,\"muted_glyph\":null,\"nonselection_glyph\":{\"id\":\"e78f16dc-b3f0-41bd-8a42-925b88d382cf\",\"type\":\"Circle\"},\"selection_glyph\":null,\"view\":{\"id\":\"f25c30b6-512c-45a6-b8a3-84ca6fdcd375\",\"type\":\"CDSView\"}},\"id\":\"2330c54a-e054-495b-8e9d-ee5ff7c220d5\",\"type\":\"GlyphRenderer\"},{\"attributes\":{\"label\":{\"value\":\"Knicks\"},\"renderers\":[{\"id\":\"461fb55c-16bc-4ed7-b14f-1499edb72c7d\",\"type\":\"GlyphRenderer\"},{\"id\":\"5bae71ca-ceb8-4e1f-b37a-2229d2c99955\",\"type\":\"GlyphRenderer\"}]},\"id\":\"ca4c13a8-5041-48dc-b603-4e03e184b4ff\",\"type\":\"LegendItem\"},{\"attributes\":{\"data_source\":{\"id\":\"c6b7fc2d-07f5-48b2-ae00-7f74db4c58a6\",\"type\":\"ColumnDataSource\"},\"glyph\":{\"id\":\"d7a0fcec-73a4-4c8a-8acc-c32e42d388bc\",\"type\":\"Circle\"},\"hover_glyph\":null,\"muted_glyph\":null,\"nonselection_glyph\":{\"id\":\"72d46852-7f57-4592-88fc-b6e7a86f3f6c\",\"type\":\"Circle\"},\"selection_glyph\":null,\"view\":{\"id\":\"41854fff-1744-43bb-9592-cb0b4d40e1be\",\"type\":\"CDSView\"}},\"id\":\"aa544f72-2fff-4609-a084-e173fc0c9db2\",\"type\":\"GlyphRenderer\"},{\"attributes\":{\"source\":{\"id\":\"0eb334c9-4863-4486-bb12-e27842ac5dfd\",\"type\":\"ColumnDataSource\"}},\"id\":\"01e214f8-3d67-4d37-9a12-83de33965dc6\",\"type\":\"CDSView\"},{\"attributes\":{\"source\":{\"id\":\"194c5601-cbcc-4b37-9fd4-999c130d0509\",\"type\":\"ColumnDataSource\"}},\"id\":\"f25c30b6-512c-45a6-b8a3-84ca6fdcd375\",\"type\":\"CDSView\"},{\"attributes\":{\"source\":{\"id\":\"c6b7fc2d-07f5-48b2-ae00-7f74db4c58a6\",\"type\":\"ColumnDataSource\"}},\"id\":\"41854fff-1744-43bb-9592-cb0b4d40e1be\",\"type\":\"CDSView\"},{\"attributes\":{\"data_source\":{\"id\":\"4977d0a7-8817-44d1-a86e-4c4df672dfd6\",\"type\":\"ColumnDataSource\"},\"glyph\":{\"id\":\"c386fb60-baa2-48e7-ba11-8aadd26f5394\",\"type\":\"Circle\"},\"hover_glyph\":null,\"muted_glyph\":null,\"nonselection_glyph\":{\"id\":\"4668b355-f080-48e7-8ff4-7934c364427c\",\"type\":\"Circle\"},\"selection_glyph\":null,\"view\":{\"id\":\"6b35f737-3471-4181-8905-0445dca3c66f\",\"type\":\"CDSView\"}},\"id\":\"0dfed3d9-e13d-4291-9110-5a81311b54a0\",\"type\":\"GlyphRenderer\"},{\"attributes\":{},\"id\":\"7c3c3f5d-cc77-419d-921f-08a87f2acc40\",\"type\":\"Selection\"},{\"attributes\":{\"label\":{\"value\":\"Boston\"},\"renderers\":[{\"id\":\"aa544f72-2fff-4609-a084-e173fc0c9db2\",\"type\":\"GlyphRenderer\"},{\"id\":\"9af0f0b0-5f25-4e6c-9360-3862a492b1b8\",\"type\":\"GlyphRenderer\"}]},\"id\":\"f295cb68-9aa0-4cda-92a3-667fd18365f2\",\"type\":\"LegendItem\"},{\"attributes\":{\"label\":{\"value\":\"Thunder\"},\"renderers\":[{\"id\":\"ac444654-1ac5-42b3-b304-ddfacc3d5b4a\",\"type\":\"GlyphRenderer\"},{\"id\":\"0dfed3d9-e13d-4291-9110-5a81311b54a0\",\"type\":\"GlyphRenderer\"}]},\"id\":\"6b87a336-e1ad-41a8-a9d7-36af144a4059\",\"type\":\"LegendItem\"},{\"attributes\":{},\"id\":\"0dc54d20-e15f-4ae8-ba3a-0aa5a566ce78\",\"type\":\"Selection\"},{\"attributes\":{\"data_source\":{\"id\":\"fdf01aad-f9e2-4c04-816b-bd53bfb332b8\",\"type\":\"ColumnDataSource\"},\"glyph\":{\"id\":\"957ee333-6cbc-405e-bb9a-84ad8f24ff3e\",\"type\":\"Circle\"},\"hover_glyph\":null,\"muted_glyph\":null,\"nonselection_glyph\":{\"id\":\"b932e51c-8cbf-4d74-b690-f399e57a6274\",\"type\":\"Circle\"},\"selection_glyph\":null,\"view\":{\"id\":\"19007d8c-8ddd-4299-9558-2a10981bffdc\",\"type\":\"CDSView\"}},\"id\":\"9af0f0b0-5f25-4e6c-9360-3862a492b1b8\",\"type\":\"GlyphRenderer\"},{\"attributes\":{\"callback\":null,\"data\":{\"a\":{\"__ndarray__\":\"ZmZmZmZmNkCamZmZmRk9QGZmZmZm5jlAZmZmZmbmOkCamZmZmRk4QDMzMzMzszpAzczMzMzMN0BmZmZmZuY1QGZmZmZmZjZAMzMzMzMzNkAAAAAAAAA2QAAAAAAAgDhAmpmZmZmZOUAzMzMzM7M3QDMzMzMzszhAzczMzMzMNUDNzMzMzEw0QA==\",\"dtype\":\"float64\",\"shape\":[17]},\"team\":[\"BOS\",\"BOS\",\"BOS\",\"BOS\",\"BOS\",\"BOS\",\"BOS\",\"BOS\",\"BOS\",\"BOS\",\"BOS\",\"BOS\",\"BOS\",\"BOS\",\"BOS\",\"BOS\",\"BOS\"],\"wins\":[66,67,62,62,54,56,48,54,54,62,59,58,60,57,59,52,44],\"x\":[2007,1985,1983,1980,1975,1973,1968,1967,1965,1964,1963,1962,1961,1960,1959,1958,1956],\"y\":{\"__ndarray__\":\"AAAAAAAgWUBmZmZmZoZcQGZmZmZmBlxAmpmZmZl5W0DNzMzMzIxaQAAAAAAAQFtAAAAAAADAW0BmZmZmZgZdQM3MzMzMLFxAMzMzMzMzXEAAAAAAAEBcQDMzMzMzs11AZmZmZmZGXkDNzMzMzOxdQAAAAAAAIF9AmpmZmZkZXUAAAAAAAGBaQA==\",\"dtype\":\"float64\",\"shape\":[17]}},\"selected\":{\"id\":\"71b77f2c-538f-4221-8897-2f92d276a93c\",\"type\":\"Selection\"},\"selection_policy\":{\"id\":\"dc72456d-bbdd-4baa-b4fa-8b1e53a1497b\",\"type\":\"UnionRenderers\"}},\"id\":\"fdf01aad-f9e2-4c04-816b-bd53bfb332b8\",\"type\":\"ColumnDataSource\"},{\"attributes\":{\"data_source\":{\"id\":\"0eb334c9-4863-4486-bb12-e27842ac5dfd\",\"type\":\"ColumnDataSource\"},\"glyph\":{\"id\":\"31343321-671c-4847-86d4-01b0070cf7d0\",\"type\":\"Circle\"},\"hover_glyph\":null,\"muted_glyph\":null,\"nonselection_glyph\":{\"id\":\"c265bdc4-f4d9-4ddc-a2b1-67bf6ed18736\",\"type\":\"Circle\"},\"selection_glyph\":null,\"view\":{\"id\":\"01e214f8-3d67-4d37-9a12-83de33965dc6\",\"type\":\"CDSView\"}},\"id\":\"ac444654-1ac5-42b3-b304-ddfacc3d5b4a\",\"type\":\"GlyphRenderer\"},{\"attributes\":{\"fill_alpha\":{\"value\":0.1},\"fill_color\":{\"value\":\"#1f77b4\"},\"line_alpha\":{\"value\":0.1},\"line_color\":{\"value\":\"#1f77b4\"},\"size\":{\"units\":\"screen\",\"value\":10},\"x\":{\"field\":\"x\"},\"y\":{\"field\":\"y\"}},\"id\":\"b932e51c-8cbf-4d74-b690-f399e57a6274\",\"type\":\"Circle\"},{\"attributes\":{\"fill_alpha\":{\"value\":0.4},\"fill_color\":{\"value\":\"Orange\"},\"line_alpha\":{\"value\":0.4},\"line_color\":{\"value\":\"Orange\"},\"x\":{\"field\":\"x\"},\"y\":{\"field\":\"a\"}},\"id\":\"2f0d6883-844e-4908-970e-d932aea51b86\",\"type\":\"Circle\"},{\"attributes\":{\"fill_alpha\":{\"value\":0.1},\"fill_color\":{\"value\":\"#1f77b4\"},\"line_alpha\":{\"value\":0.1},\"line_color\":{\"value\":\"#1f77b4\"},\"size\":{\"units\":\"screen\",\"value\":10},\"x\":{\"field\":\"x\"},\"y\":{\"field\":\"y\"}},\"id\":\"4668b355-f080-48e7-8ff4-7934c364427c\",\"type\":\"Circle\"},{\"attributes\":{\"fill_alpha\":{\"value\":0.1},\"fill_color\":{\"value\":\"#1f77b4\"},\"line_alpha\":{\"value\":0.1},\"line_color\":{\"value\":\"#1f77b4\"},\"x\":{\"field\":\"x\"},\"y\":{\"field\":\"a\"}},\"id\":\"e78f16dc-b3f0-41bd-8a42-925b88d382cf\",\"type\":\"Circle\"},{\"attributes\":{\"fill_color\":{\"value\":\"Green\"},\"line_color\":{\"value\":\"Green\"},\"size\":{\"units\":\"screen\",\"value\":10},\"x\":{\"field\":\"x\"},\"y\":{\"field\":\"y\"}},\"id\":\"957ee333-6cbc-405e-bb9a-84ad8f24ff3e\",\"type\":\"Circle\"},{\"attributes\":{\"fill_color\":{\"value\":\"cyan\"},\"line_color\":{\"value\":\"cyan\"},\"size\":{\"units\":\"screen\",\"value\":10},\"x\":{\"field\":\"x\"},\"y\":{\"field\":\"y\"}},\"id\":\"c386fb60-baa2-48e7-ba11-8aadd26f5394\",\"type\":\"Circle\"},{\"attributes\":{},\"id\":\"5593aa0a-5485-4cba-a558-d78c4e048c5c\",\"type\":\"UnionRenderers\"},{\"attributes\":{\"source\":{\"id\":\"fdf01aad-f9e2-4c04-816b-bd53bfb332b8\",\"type\":\"ColumnDataSource\"}},\"id\":\"19007d8c-8ddd-4299-9558-2a10981bffdc\",\"type\":\"CDSView\"},{\"attributes\":{\"source\":{\"id\":\"4977d0a7-8817-44d1-a86e-4c4df672dfd6\",\"type\":\"ColumnDataSource\"}},\"id\":\"6b35f737-3471-4181-8905-0445dca3c66f\",\"type\":\"CDSView\"},{\"attributes\":{\"fill_color\":{\"value\":\"brown\"},\"line_color\":{\"value\":\"brown\"},\"size\":{\"units\":\"screen\",\"value\":10},\"x\":{\"field\":\"x\"},\"y\":{\"field\":\"a\"}},\"id\":\"07f1cc31-362e-4d52-8e97-f6945bc7e91c\",\"type\":\"Circle\"},{\"attributes\":{\"fill_alpha\":{\"value\":0.1},\"fill_color\":{\"value\":\"#1f77b4\"},\"line_alpha\":{\"value\":0.1},\"line_color\":{\"value\":\"#1f77b4\"},\"size\":{\"units\":\"screen\",\"value\":10},\"x\":{\"field\":\"x\"},\"y\":{\"field\":\"y\"}},\"id\":\"77214a27-147a-4a6f-9269-f23e834bdcec\",\"type\":\"Circle\"},{\"attributes\":{\"fill_alpha\":{\"value\":0.1},\"fill_color\":{\"value\":\"#1f77b4\"},\"line_alpha\":{\"value\":0.1},\"line_color\":{\"value\":\"#1f77b4\"},\"x\":{\"field\":\"x\"},\"y\":{\"field\":\"y\"}},\"id\":\"3369b2e9-739d-4386-8f39-f183555d5610\",\"type\":\"Circle\"},{\"attributes\":{\"source\":{\"id\":\"f801d7fb-f22d-470c-923a-5c09f7878517\",\"type\":\"ColumnDataSource\"}},\"id\":\"0abc0900-1d67-4495-9cb7-2a847117bb57\",\"type\":\"CDSView\"},{\"attributes\":{\"label\":{\"value\":\"Kings\"},\"renderers\":[{\"id\":\"84022d51-163f-401b-92f9-9973f967563a\",\"type\":\"GlyphRenderer\"},{\"id\":\"3ce32b24-ac5e-4ef5-9465-809b910712c0\",\"type\":\"GlyphRenderer\"}]},\"id\":\"36977fbf-6a0f-41d8-b24b-7ee6775248bb\",\"type\":\"LegendItem\"},{\"attributes\":{\"label\":{\"value\":\"Hawks\"},\"renderers\":[{\"id\":\"2330c54a-e054-495b-8e9d-ee5ff7c220d5\",\"type\":\"GlyphRenderer\"},{\"id\":\"2f8a25f6-3e86-46f5-8e05-8c6e02f8900c\",\"type\":\"GlyphRenderer\"}]},\"id\":\"520c8128-3d08-4a86-bc4e-edc5c2992677\",\"type\":\"LegendItem\"},{\"attributes\":{\"data_source\":{\"id\":\"0687f0d0-b210-466c-8fee-b7cc281172d2\",\"type\":\"ColumnDataSource\"},\"glyph\":{\"id\":\"eafea18d-8174-471f-bd0c-e5153f3b8f2a\",\"type\":\"Circle\"},\"hover_glyph\":null,\"muted_glyph\":null,\"nonselection_glyph\":{\"id\":\"188f9744-f12b-4bbb-9502-df1837ae8c38\",\"type\":\"Circle\"},\"selection_glyph\":null,\"view\":{\"id\":\"4b38cbbf-c87c-467f-a65a-06c2db4a013f\",\"type\":\"CDSView\"}},\"id\":\"cb0b50bb-40c1-47a3-9789-f77734dc61a1\",\"type\":\"GlyphRenderer\"},{\"attributes\":{\"callback\":null,\"data\":{\"a\":{\"__ndarray__\":\"mpmZmZkZNkAAAAAAAIA3QJqZmZmZmTZAzczMzMzMNkAzMzMzM7M1QDMzMzMzszZAAAAAAAAAN0CamZmZmRk3QM3MzMzMTDZAzczMzMzMNECamZmZmRk1QJqZmZmZGTZAzczMzMxMNkAAAAAAAAA2QM3MzMzMTDVAZmZmZmbmNUAzMzMzM7M1QDMzMzMzMzZAmpmZmZkZNkCamZmZmRk0QM3MzMzMTDRAzczMzMzMN0CamZmZmRk6QM3MzMzMzDhAAAAAAAAAOECamZmZmZk5QAAAAAAAADpAzczMzMzMO0AAAAAAAAA7QAAAAAAAgDpAAAAAAAAAO0AzMzMzMzM6QJqZmZmZGTpAAAAAAACAOEDNzMzMzEw4QAAAAAAAgDlAZmZmZmZmOUBmZmZmZuY4QAAAAAAAgDdAMzMzMzMzOkAAAAAAAIA6QM3MzMzMzDlAzczMzMxMOEDNzMzMzMw0QGZmZmZmZjZAzczMzMzMNkAzMzMzM7M4QAAAAAAAgDlAmpmZmZkZOkAAAAAAAAA6QAAAAAAAgDNAmpmZmZmZMkCamZmZmZk2QA==\",\"dtype\":\"float64\",\"shape\":[53]},\"team\":[\"CHI\",\"CHI\",\"CHI\",\"CHI\",\"CHI\",\"CHI\",\"CHI\",\"CHI\",\"CHI\",\"CHI\",\"CHI\",\"CHI\",\"CHI\",\"CHI\",\"CHI\",\"CHI\",\"CHI\",\"CHI\",\"CHI\",\"CHI\",\"CHI\",\"CHI\",\"CHI\",\"CHI\",\"CHI\",\"CHI\",\"CHI\",\"CHI\",\"CHI\",\"CHI\",\"CHI\",\"CHI\",\"CHI\",\"CHI\",\"CHI\",\"CHI\",\"CHI\",\"CHI\",\"CHI\",\"CHI\",\"CHI\",\"CHI\",\"CHI\",\"CHI\",\"CHI\",\"CHI\",\"CHI\",\"CHI\",\"CHI\",\"CHI\",\"CHI\",\"CHI\",\"CHI\"],\"wins\":[19,27,41,42,50,48,45,50,62,41,41,33,49,41,47,23,30,21,15,17,13,62,69,72,47,55,57,67,61,55,47,50,40,30,38,27,28,34,45,30,31,40,44,24,47,54,51,57,51,39,33,29,33],\"x\":[2018,2017,2016,2015,2014,2013,2012,2011,2010,2009,2008,2007,2006,2005,2004,2003,2002,2001,2000,1999,1998,1997,1996,1995,1994,1993,1992,1991,1990,1989,1988,1987,1986,1985,1984,1983,1982,1981,1980,1979,1978,1977,1976,1975,1974,1973,1972,1971,1970,1969,1968,1967,1966],\"y\":{\"__ndarray__\":\"AAAAAABAWkCamZmZmblZQJqZmZmZuVlAZmZmZmZmWUAzMzMzMzNZQM3MzMzMbFdAzczMzMxMV0AzMzMzMxNYQGZmZmZmplhAAAAAAABgWEDNzMzMzIxZQDMzMzMzU1hAMzMzMzOzWEAzMzMzM3NYQAAAAAAAoFdAzczMzMxsVkAAAAAAAMBXQAAAAAAAYFZAZmZmZmbmVUAzMzMzMzNVQJqZmZmZeVRAzczMzMwsWEBmZmZmZsZZQM3MzMzMTFpAAAAAAABgWUAAAAAAAIBYQM3MzMzMTFpAmpmZmZl5W0AAAAAAAIBbQAAAAAAAYFtAmpmZmZmZWkAAAAAAAEBaQDMzMzMzM1pAMzMzMzNTW0DNzMzMzCxbQM3MzMzM7FlAAAAAAADAW0BmZmZmZqZaQAAAAAAAQFtAAAAAAADgWkDNzMzMzCxaQJqZmZmZ+VlAmpmZmZm5WECamZmZmflXQGZmZmZmhlhAAAAAAACAWUBmZmZmZgZaQM3MzMzMzFtAZmZmZmamW0CamZmZmblcQM3MzMzMLFpAAAAAAABgW0DNzMzMzExcQA==\",\"dtype\":\"float64\",\"shape\":[53]}},\"selected\":{\"id\":\"4a64b347-12f3-49a7-809e-abd24df63b9b\",\"type\":\"Selection\"},\"selection_policy\":{\"id\":\"3487bd6b-8ca4-447d-9ae7-016ab31cf166\",\"type\":\"UnionRenderers\"}},\"id\":\"0687f0d0-b210-466c-8fee-b7cc281172d2\",\"type\":\"ColumnDataSource\"},{\"attributes\":{\"data_source\":{\"id\":\"0ab49ab6-9a7d-4a9b-ace3-5ca6329a3211\",\"type\":\"ColumnDataSource\"},\"glyph\":{\"id\":\"f5be2f5d-8c72-4249-aadd-d406f85e20c2\",\"type\":\"Circle\"},\"hover_glyph\":null,\"muted_glyph\":null,\"nonselection_glyph\":{\"id\":\"d4411dd5-00c5-4409-a7b3-0b047d80f45d\",\"type\":\"Circle\"},\"selection_glyph\":null,\"view\":{\"id\":\"6fc5b4c9-393c-411e-b1e3-c9db36eb8d90\",\"type\":\"CDSView\"}},\"id\":\"13e50118-cf71-4c79-aac7-01d12f02940b\",\"type\":\"GlyphRenderer\"},{\"attributes\":{\"source\":{\"id\":\"0687f0d0-b210-466c-8fee-b7cc281172d2\",\"type\":\"ColumnDataSource\"}},\"id\":\"4b38cbbf-c87c-467f-a65a-06c2db4a013f\",\"type\":\"CDSView\"},{\"attributes\":{},\"id\":\"f560aacb-da06-41d3-8a7c-5bc0db432a3d\",\"type\":\"BasicTicker\"},{\"attributes\":{\"data_source\":{\"id\":\"f801d7fb-f22d-470c-923a-5c09f7878517\",\"type\":\"ColumnDataSource\"},\"glyph\":{\"id\":\"07f1cc31-362e-4d52-8e97-f6945bc7e91c\",\"type\":\"Circle\"},\"hover_glyph\":null,\"muted_glyph\":null,\"nonselection_glyph\":{\"id\":\"af35aae8-371b-4628-bb75-1a78e1e4030b\",\"type\":\"Circle\"},\"selection_glyph\":null,\"view\":{\"id\":\"0abc0900-1d67-4495-9cb7-2a847117bb57\",\"type\":\"CDSView\"}},\"id\":\"2f8a25f6-3e86-46f5-8e05-8c6e02f8900c\",\"type\":\"GlyphRenderer\"},{\"attributes\":{\"source\":{\"id\":\"0ab49ab6-9a7d-4a9b-ace3-5ca6329a3211\",\"type\":\"ColumnDataSource\"}},\"id\":\"6fc5b4c9-393c-411e-b1e3-c9db36eb8d90\",\"type\":\"CDSView\"},{\"attributes\":{\"fill_alpha\":{\"value\":0.4},\"fill_color\":{\"value\":\"Royalblue\"},\"line_alpha\":{\"value\":0.4},\"line_color\":{\"value\":\"Royalblue\"},\"x\":{\"field\":\"x\"},\"y\":{\"field\":\"y\"}},\"id\":\"09bbfff7-fae2-4926-926c-a165d6baffe7\",\"type\":\"Circle\"},{\"attributes\":{\"fill_alpha\":{\"value\":0.4},\"fill_color\":{\"value\":\"grey\"},\"line_alpha\":{\"value\":0.4},\"line_color\":{\"value\":\"grey\"},\"x\":{\"field\":\"x\"},\"y\":{\"field\":\"y\"}},\"id\":\"741b4bcb-4ee4-4fae-8052-8894c9405d25\",\"type\":\"Circle\"},{\"attributes\":{\"fill_alpha\":{\"value\":0.1},\"fill_color\":{\"value\":\"#1f77b4\"},\"line_alpha\":{\"value\":0.1},\"line_color\":{\"value\":\"#1f77b4\"},\"size\":{\"units\":\"screen\",\"value\":10},\"x\":{\"field\":\"x\"},\"y\":{\"field\":\"a\"}},\"id\":\"af35aae8-371b-4628-bb75-1a78e1e4030b\",\"type\":\"Circle\"},{\"attributes\":{\"fill_alpha\":{\"value\":0.1},\"fill_color\":{\"value\":\"#1f77b4\"},\"line_alpha\":{\"value\":0.1},\"line_color\":{\"value\":\"#1f77b4\"},\"x\":{\"field\":\"x\"},\"y\":{\"field\":\"y\"}},\"id\":\"188f9744-f12b-4bbb-9502-df1837ae8c38\",\"type\":\"Circle\"},{\"attributes\":{\"fill_alpha\":{\"value\":0.1},\"fill_color\":{\"value\":\"#1f77b4\"},\"line_alpha\":{\"value\":0.1},\"line_color\":{\"value\":\"#1f77b4\"},\"x\":{\"field\":\"x\"},\"y\":{\"field\":\"y\"}},\"id\":\"d4411dd5-00c5-4409-a7b3-0b047d80f45d\",\"type\":\"Circle\"},{\"attributes\":{},\"id\":\"fc313cd1-baef-48fa-bdfd-7314d9b8a95e\",\"type\":\"Selection\"},{\"attributes\":{\"label\":{\"value\":\"Bulls\"},\"renderers\":[{\"id\":\"cb0b50bb-40c1-47a3-9789-f77734dc61a1\",\"type\":\"GlyphRenderer\"},{\"id\":\"2ccac53d-c45a-498a-9851-48bbdc72133e\",\"type\":\"GlyphRenderer\"}]},\"id\":\"0c33bf9e-7ccc-4949-ac2c-d4dfb588ea95\",\"type\":\"LegendItem\"},{\"attributes\":{\"label\":{\"value\":\"Heat\"},\"renderers\":[{\"id\":\"13e50118-cf71-4c79-aac7-01d12f02940b\",\"type\":\"GlyphRenderer\"},{\"id\":\"5a8cb97f-2852-45f8-8b8d-5dbfea73eead\",\"type\":\"GlyphRenderer\"}]},\"id\":\"ee7cea78-0402-4d85-ba66-c7795e5410c0\",\"type\":\"LegendItem\"},{\"attributes\":{},\"id\":\"6d4ac769-6d6f-4f66-a181-3ec2c8e90c6f\",\"type\":\"UnionRenderers\"},{\"attributes\":{\"fill_color\":{\"value\":\"lightsalmon\"},\"line_color\":{\"value\":\"lightsalmon\"},\"size\":{\"units\":\"screen\",\"value\":10},\"x\":{\"field\":\"x\"},\"y\":{\"field\":\"y\"}},\"id\":\"73f4c06b-1097-4309-a57b-b160712286f0\",\"type\":\"Circle\"},{\"attributes\":{\"fill_color\":{\"value\":\"tan\"},\"line_color\":{\"value\":\"tan\"},\"size\":{\"units\":\"screen\",\"value\":10},\"x\":{\"field\":\"x\"},\"y\":{\"field\":\"y\"}},\"id\":\"1c1ba621-3e9f-4051-a575-66dc56d39380\",\"type\":\"Circle\"},{\"attributes\":{\"fill_color\":{\"value\":\"grey\"},\"line_color\":{\"value\":\"grey\"},\"size\":{\"units\":\"screen\",\"value\":10},\"x\":{\"field\":\"x\"},\"y\":{\"field\":\"a\"}},\"id\":\"66de5bc9-7586-4c5c-83b3-8f529a5b3204\",\"type\":\"Circle\"},{\"attributes\":{\"source\":{\"id\":\"6e1112ec-8186-4601-8cc5-6ab63b3a765d\",\"type\":\"ColumnDataSource\"}},\"id\":\"b6ae5af4-399c-42d9-95f4-c1c927a23f37\",\"type\":\"CDSView\"},{\"attributes\":{\"callback\":null,\"data\":{\"a\":{\"__ndarray__\":\"zczMzMzMN0CamZmZmRk6QM3MzMzMzDhAAAAAAAAAOkDNzMzMzMw7QAAAAAAAADtA\",\"dtype\":\"float64\",\"shape\":[6]},\"team\":[\"CHI\",\"CHI\",\"CHI\",\"CHI\",\"CHI\",\"CHI\"],\"wins\":[62,69,72,57,67,61],\"x\":[1997,1996,1995,1992,1991,1990],\"y\":{\"__ndarray__\":\"zczMzMwsWEBmZmZmZsZZQM3MzMzMTFpAzczMzMxMWkCamZmZmXlbQAAAAAAAgFtA\",\"dtype\":\"float64\",\"shape\":[6]}},\"selected\":{\"id\":\"bb75366d-0b24-44ac-9dfa-40ddccda5a6f\",\"type\":\"Selection\"},\"selection_policy\":{\"id\":\"a41ccb2d-859f-46fb-8eb7-9c24180f4911\",\"type\":\"UnionRenderers\"}},\"id\":\"6e1112ec-8186-4601-8cc5-6ab63b3a765d\",\"type\":\"ColumnDataSource\"},{\"attributes\":{\"source\":{\"id\":\"2d5ebb15-9534-44a5-b858-caa5d5697fb6\",\"type\":\"ColumnDataSource\"}},\"id\":\"33e69c93-647c-4a58-baea-1f43a0eee44c\",\"type\":\"CDSView\"},{\"attributes\":{\"data_source\":{\"id\":\"6e1112ec-8186-4601-8cc5-6ab63b3a765d\",\"type\":\"ColumnDataSource\"},\"glyph\":{\"id\":\"73f4c06b-1097-4309-a57b-b160712286f0\",\"type\":\"Circle\"},\"hover_glyph\":null,\"muted_glyph\":null,\"nonselection_glyph\":{\"id\":\"00dee8cd-f8d9-4262-9e39-77c15f0976d0\",\"type\":\"Circle\"},\"selection_glyph\":null,\"view\":{\"id\":\"b6ae5af4-399c-42d9-95f4-c1c927a23f37\",\"type\":\"CDSView\"}},\"id\":\"2ccac53d-c45a-498a-9851-48bbdc72133e\",\"type\":\"GlyphRenderer\"},{\"attributes\":{},\"id\":\"1ad812ff-7f57-4fb0-80d5-68318ca3d76e\",\"type\":\"Selection\"},{\"attributes\":{\"data_source\":{\"id\":\"2d5ebb15-9534-44a5-b858-caa5d5697fb6\",\"type\":\"ColumnDataSource\"},\"glyph\":{\"id\":\"1c1ba621-3e9f-4051-a575-66dc56d39380\",\"type\":\"Circle\"},\"hover_glyph\":null,\"muted_glyph\":null,\"nonselection_glyph\":{\"id\":\"a381850d-1c2a-4194-a94d-c97e6368c2dd\",\"type\":\"Circle\"},\"selection_glyph\":null,\"view\":{\"id\":\"33e69c93-647c-4a58-baea-1f43a0eee44c\",\"type\":\"CDSView\"}},\"id\":\"5a8cb97f-2852-45f8-8b8d-5dbfea73eead\",\"type\":\"GlyphRenderer\"},{\"attributes\":{\"data_source\":{\"id\":\"2283dff6-86a2-4915-aac2-1128702a82a6\",\"type\":\"ColumnDataSource\"},\"glyph\":{\"id\":\"2f0d6883-844e-4908-970e-d932aea51b86\",\"type\":\"Circle\"},\"hover_glyph\":null,\"muted_glyph\":null,\"nonselection_glyph\":{\"id\":\"03d94343-f903-45e7-86a2-1754f9a7a218\",\"type\":\"Circle\"},\"selection_glyph\":null,\"view\":{\"id\":\"7c7c0d53-8e3e-435d-abeb-7033a936198c\",\"type\":\"CDSView\"}},\"id\":\"8de96e67-7467-4a6e-8811-a981304fc69c\",\"type\":\"GlyphRenderer\"},{\"attributes\":{\"fill_alpha\":{\"value\":0.1},\"fill_color\":{\"value\":\"#1f77b4\"},\"line_alpha\":{\"value\":0.1},\"line_color\":{\"value\":\"#1f77b4\"},\"size\":{\"units\":\"screen\",\"value\":10},\"x\":{\"field\":\"x\"},\"y\":{\"field\":\"y\"}},\"id\":\"00dee8cd-f8d9-4262-9e39-77c15f0976d0\",\"type\":\"Circle\"},{\"attributes\":{\"fill_alpha\":{\"value\":0.1},\"fill_color\":{\"value\":\"#1f77b4\"},\"line_alpha\":{\"value\":0.1},\"line_color\":{\"value\":\"#1f77b4\"},\"size\":{\"units\":\"screen\",\"value\":10},\"x\":{\"field\":\"x\"},\"y\":{\"field\":\"y\"}},\"id\":\"a381850d-1c2a-4194-a94d-c97e6368c2dd\",\"type\":\"Circle\"},{\"attributes\":{\"source\":{\"id\":\"2283dff6-86a2-4915-aac2-1128702a82a6\",\"type\":\"ColumnDataSource\"}},\"id\":\"7c7c0d53-8e3e-435d-abeb-7033a936198c\",\"type\":\"CDSView\"},{\"attributes\":{\"fill_alpha\":{\"value\":0.4},\"fill_color\":{\"value\":\"cyan\"},\"line_alpha\":{\"value\":0.4},\"line_color\":{\"value\":\"cyan\"},\"x\":{\"field\":\"x\"},\"y\":{\"field\":\"y\"}},\"id\":\"31343321-671c-4847-86d4-01b0070cf7d0\",\"type\":\"Circle\"},{\"attributes\":{\"source\":{\"id\":\"72a2d073-5337-4e66-a590-555d06a8711b\",\"type\":\"ColumnDataSource\"}},\"id\":\"7f473fb6-7a1e-4774-a33e-ce431321902b\",\"type\":\"CDSView\"},{\"attributes\":{\"fill_alpha\":{\"value\":0.4},\"fill_color\":{\"value\":\"cyan\"},\"line_alpha\":{\"value\":0.4},\"line_color\":{\"value\":\"cyan\"},\"x\":{\"field\":\"x\"},\"y\":{\"field\":\"a\"}},\"id\":\"4fe5cceb-e1cd-47ec-b468-3882a136fbac\",\"type\":\"Circle\"},{\"attributes\":{\"data_source\":{\"id\":\"b87f20e6-93a8-4bd7-9ac7-8cab96541d53\",\"type\":\"ColumnDataSource\"},\"glyph\":{\"id\":\"9fe83c2a-29d1-4a40-b348-828fa4580995\",\"type\":\"Circle\"},\"hover_glyph\":null,\"muted_glyph\":null,\"nonselection_glyph\":{\"id\":\"77214a27-147a-4a6f-9269-f23e834bdcec\",\"type\":\"Circle\"},\"selection_glyph\":null,\"view\":{\"id\":\"3443af63-d69a-4496-9281-68e43e303825\",\"type\":\"CDSView\"}},\"id\":\"4b4dee2d-8cf9-49a8-b92c-18da7d2e51a0\",\"type\":\"GlyphRenderer\"},{\"attributes\":{\"fill_alpha\":{\"value\":0.1},\"fill_color\":{\"value\":\"#1f77b4\"},\"line_alpha\":{\"value\":0.1},\"line_color\":{\"value\":\"#1f77b4\"},\"x\":{\"field\":\"x\"},\"y\":{\"field\":\"a\"}},\"id\":\"03d94343-f903-45e7-86a2-1754f9a7a218\",\"type\":\"Circle\"},{\"attributes\":{},\"id\":\"c9ace492-dcf7-4cf0-bc2a-721b9429cd28\",\"type\":\"Selection\"},{\"attributes\":{\"fill_alpha\":{\"value\":0.4},\"fill_color\":{\"value\":\"seagreen\"},\"line_alpha\":{\"value\":0.4},\"line_color\":{\"value\":\"seagreen\"},\"x\":{\"field\":\"x\"},\"y\":{\"field\":\"y\"}},\"id\":\"36da0145-6a56-4094-a1e4-5db6df5bf1a2\",\"type\":\"Circle\"},{\"attributes\":{\"fill_color\":{\"value\":\"blue\"},\"line_color\":{\"value\":\"blue\"},\"x\":{\"field\":\"x\"},\"y\":{\"field\":\"y\"}},\"id\":\"5021fa86-147a-4e97-bf81-8cc0e74f6e1d\",\"type\":\"Circle\"},{\"attributes\":{},\"id\":\"5fd04749-d9fe-43e5-9198-9fb5f95c7cec\",\"type\":\"UnionRenderers\"},{\"attributes\":{\"callback\":null,\"data\":{\"a\":{\"__ndarray__\":\"AAAAAACANkDNzMzMzMw2QJqZmZmZGTVAZmZmZmZmM0CamZmZmZk1QGZmZmZm5jRAMzMzMzMzNUAzMzMzM7MyQJqZmZmZGTVAZmZmZmZmM0CamZmZmZk0QM3MzMzMTDZAmpmZmZmZNUAAAAAAAAA4QM3MzMzMzDVAzczMzMzMNEDNzMzMzMwzQAAAAAAAgDVAZmZmZmbmM0DNzMzMzMw0QDMzMzMzMzRAAAAAAACAM0AAAAAAAAAzQJqZmZmZmTNAzczMzMzMNkAAAAAAAIA1QDMzMzMzszdAMzMzMzMzN0DNzMzMzEw2QM3MzMzMTDhAMzMzMzOzOEAAAAAAAIA4QJqZmZmZmThAzczMzMxMPECamZmZmRk8QAAAAAAAgDtAMzMzMzOzOUAzMzMzM7M4QDMzMzMzMzZAzczMzMzMN0AAAAAAAIA5QGZmZmZmZjZAZmZmZmZmOEBmZmZmZmY1QGZmZmZmZjdAZmZmZmbmN0AAAAAAAAA3QJqZmZmZmTRAMzMzMzOzNEDNzMzMzMw0QGZmZmZmZjVAMzMzMzOzNECamZmZmRkyQJqZmZmZmTNAmpmZmZkZNEBmZmZmZmY0QJqZmZmZmTVAAAAAAACANUCamZmZmZk3QJqZmZmZmTNAzczMzMxMMkCamZmZmZkxQGZmZmZmZjNAzczMzMxMOECamZmZmRk4QAAAAAAAgDRAzczMzMzMNEDNzMzMzEw1QM3MzMzMzDBAmpmZmZkZNEAAAAAAAAAyQA==\",\"dtype\":\"float64\",\"shape\":[71]},\"team\":[\"DET\",\"DET\",\"DET\",\"DET\",\"DET\",\"DET\",\"DET\",\"DET\",\"DET\",\"DET\",\"DET\",\"DET\",\"DET\",\"DET\",\"DET\",\"DET\",\"DET\",\"DET\",\"DET\",\"DET\",\"DET\",\"DET\",\"DET\",\"DET\",\"DET\",\"DET\",\"DET\",\"DET\",\"DET\",\"DET\",\"DET\",\"DET\",\"DET\",\"DET\",\"DET\",\"DET\",\"DET\",\"DET\",\"DET\",\"DET\",\"DET\",\"DET\",\"DET\",\"DET\",\"DET\",\"DET\",\"DET\",\"DET\",\"DET\",\"DET\",\"DET\",\"DET\",\"DET\",\"DET\",\"DET\",\"DET\",\"DET\",\"DET\",\"DET\",\"DET\",\"DET\",\"DET\",\"FTW\",\"FTW\",\"FTW\",\"FTW\",\"FTW\",\"FTW\",\"FTW\",\"FTW\",\"FTW\"],\"wins\":[0,39,37,44,32,29,29,25,30,27,39,59,53,64,54,54,50,50,32,42,29,37,54,46,28,20,40,48,50,59,63,54,52,46,46,49,37,39,21,16,30,38,44,36,40,52,40,26,45,31,32,40,30,22,31,23,34,37,34,30,28,33,34,37,43,40,36,29,32,40,22],\"x\":[2018,2017,2016,2015,2014,2013,2012,2011,2010,2009,2008,2007,2006,2005,2004,2003,2002,2001,2000,1999,1998,1997,1996,1995,1994,1993,1992,1991,1990,1989,1988,1987,1986,1985,1984,1983,1982,1981,1980,1979,1978,1977,1976,1975,1974,1973,1972,1971,1970,1969,1968,1967,1966,1965,1964,1963,1962,1961,1960,1959,1958,1957,1956,1955,1954,1953,1952,1951,1950,1949,1948],\"y\":{\"__ndarray__\":\"AAAAAADAWkAzMzMzM/NZQDMzMzMzU1lAAAAAAACAWUAAAAAAAKBYQAAAAAAAQFlAmpmZmZm5V0CamZmZmblWQAAAAAAAQFhAAAAAAACAV0DNzMzMzIxXQAAAAAAAYFhAAAAAAAAAWEAzMzMzMzNYQDMzMzMzU1dAZmZmZmaGVkCamZmZmdlWQDMzMzMzk1dAZmZmZmbmV0AAAAAAAOBZQJqZmZmZmVZAzczMzMyMV0DNzMzMzIxXQJqZmZmZ2VdAzczMzMyMWECamZmZmTlYQGZmZmZmJllAmpmZmZm5WEBmZmZmZgZZQDMzMzMzE1pAZmZmZmamWkDNzMzMzExbQM3MzMzMzFtAzczMzMyMXEAAAAAAAABdQGZmZmZmRl1AzczMzMwsXEBmZmZmZsZbQM3MzMzM7FhAmpmZmZk5W0AAAAAAAIBbQAAAAAAAQFtAmpmZmZlZW0CamZmZmTlaQJqZmZmZuVhAmpmZmZkZWkAzMzMzM5NbQGZmZmZmRltAZmZmZmaGW0AzMzMzMzNcQGZmZmZmhlxAZmZmZmamXUAzMzMzM9NbQDMzMzMzk1tAAAAAAAAgW0AzMzMzM/NaQJqZmZmZeVxAmpmZmZnZXEBmZmZmZqZdQGZmZmZm5ltAZmZmZmZGWkAzMzMzM1NaQJqZmZmZGVhAmpmZmZmZV0CamZmZmRlXQM3MzMzMbFNAAAAAAABAVEAAAAAAAIBTQGZmZmZmBlVAMzMzMzPTU0AzMzMzM5NSQA==\",\"dtype\":\"float64\",\"shape\":[71]}},\"selected\":{\"id\":\"a247d1cd-ef26-4ecc-a211-17320af416da\",\"type\":\"Selection\"},\"selection_policy\":{\"id\":\"b9d09b0c-f0ed-4d52-8cdd-941064b367df\",\"type\":\"UnionRenderers\"}},\"id\":\"6bd9724f-0ca5-4a3e-84ae-b678731ab380\",\"type\":\"ColumnDataSource\"},{\"attributes\":{\"fill_alpha\":{\"value\":0.1},\"fill_color\":{\"value\":\"#1f77b4\"},\"line_alpha\":{\"value\":0.1},\"line_color\":{\"value\":\"#1f77b4\"},\"x\":{\"field\":\"x\"},\"y\":{\"field\":\"y\"}},\"id\":\"a795ded6-020a-49f0-8bf1-fc678b54c961\",\"type\":\"Circle\"},{\"attributes\":{\"fill_alpha\":{\"value\":0.1},\"fill_color\":{\"value\":\"#1f77b4\"},\"line_alpha\":{\"value\":0.1},\"line_color\":{\"value\":\"#1f77b4\"},\"x\":{\"field\":\"x\"},\"y\":{\"field\":\"y\"}},\"id\":\"20fbc26b-f5b3-4698-80e7-627b698f08d0\",\"type\":\"Circle\"},{\"attributes\":{\"data_source\":{\"id\":\"6bd9724f-0ca5-4a3e-84ae-b678731ab380\",\"type\":\"ColumnDataSource\"},\"glyph\":{\"id\":\"09bbfff7-fae2-4926-926c-a165d6baffe7\",\"type\":\"Circle\"},\"hover_glyph\":null,\"muted_glyph\":null,\"nonselection_glyph\":{\"id\":\"a795ded6-020a-49f0-8bf1-fc678b54c961\",\"type\":\"Circle\"},\"selection_glyph\":null,\"view\":{\"id\":\"ffb49d41-93b4-4eed-9dab-faddeb1516d4\",\"type\":\"CDSView\"}},\"id\":\"fcd89a58-221e-4acd-ac81-4b77dfa38ccc\",\"type\":\"GlyphRenderer\"},{\"attributes\":{\"label\":{\"value\":\"Knicks\"},\"renderers\":[{\"id\":\"8de96e67-7467-4a6e-8811-a981304fc69c\",\"type\":\"GlyphRenderer\"},{\"id\":\"35cd4335-766e-4e17-b14b-30c9e78f2cac\",\"type\":\"GlyphRenderer\"}]},\"id\":\"6a66cfb0-13c2-4524-8b6b-8d4f8fbe8d11\",\"type\":\"LegendItem\"},{\"attributes\":{\"data_source\":{\"id\":\"3f3a57db-5b41-446f-be07-12dd9d382722\",\"type\":\"ColumnDataSource\"},\"glyph\":{\"id\":\"741b4bcb-4ee4-4fae-8052-8894c9405d25\",\"type\":\"Circle\"},\"hover_glyph\":null,\"muted_glyph\":null,\"nonselection_glyph\":{\"id\":\"20fbc26b-f5b3-4698-80e7-627b698f08d0\",\"type\":\"Circle\"},\"selection_glyph\":null,\"view\":{\"id\":\"f6fda4e2-ea62-48fc-a69a-c2a11ce97753\",\"type\":\"CDSView\"}},\"id\":\"8c33ca88-278d-4e54-b509-c83250c6fdd3\",\"type\":\"GlyphRenderer\"},{\"attributes\":{\"fill_alpha\":{\"value\":0.1},\"fill_color\":{\"value\":\"#1f77b4\"},\"line_alpha\":{\"value\":0.1},\"line_color\":{\"value\":\"#1f77b4\"},\"size\":{\"units\":\"screen\",\"value\":10},\"x\":{\"field\":\"x\"},\"y\":{\"field\":\"a\"}},\"id\":\"f6055a1f-d687-4841-9f6e-b2634772bf28\",\"type\":\"Circle\"},{\"attributes\":{\"source\":{\"id\":\"6bd9724f-0ca5-4a3e-84ae-b678731ab380\",\"type\":\"ColumnDataSource\"}},\"id\":\"ffb49d41-93b4-4eed-9dab-faddeb1516d4\",\"type\":\"CDSView\"},{\"attributes\":{\"source\":{\"id\":\"3f3a57db-5b41-446f-be07-12dd9d382722\",\"type\":\"ColumnDataSource\"}},\"id\":\"f6fda4e2-ea62-48fc-a69a-c2a11ce97753\",\"type\":\"CDSView\"},{\"attributes\":{},\"id\":\"d4c6843d-3215-4262-8476-d8a7a6bb61c2\",\"type\":\"UnionRenderers\"},{\"attributes\":{\"label\":{\"value\":\"Piston\"},\"renderers\":[{\"id\":\"fcd89a58-221e-4acd-ac81-4b77dfa38ccc\",\"type\":\"GlyphRenderer\"},{\"id\":\"24ec3f65-5340-42dc-a66f-484bd5ff0244\",\"type\":\"GlyphRenderer\"}]},\"id\":\"823ce0a9-da70-4c22-ac0c-15a68e467e03\",\"type\":\"LegendItem\"},{\"attributes\":{},\"id\":\"a96fde17-efd3-4f80-8550-541acc02d423\",\"type\":\"LinearScale\"},{\"attributes\":{\"label\":{\"value\":\"Spurs\"},\"renderers\":[{\"id\":\"8c33ca88-278d-4e54-b509-c83250c6fdd3\",\"type\":\"GlyphRenderer\"},{\"id\":\"f66149bb-3a4f-45f5-944d-54462257f7c4\",\"type\":\"GlyphRenderer\"}]},\"id\":\"9a999506-c1f1-452b-bbce-2e8088ca7916\",\"type\":\"LegendItem\"},{\"attributes\":{\"data_source\":{\"id\":\"23ba97b8-909f-48e0-b36b-bb2f618596e6\",\"type\":\"ColumnDataSource\"},\"glyph\":{\"id\":\"8f9c559d-d35e-4bc9-b73b-dcbd6d0e70db\",\"type\":\"Circle\"},\"hover_glyph\":null,\"muted_glyph\":null,\"nonselection_glyph\":{\"id\":\"369cdbec-6210-45bf-af48-8f6c75a245d5\",\"type\":\"Circle\"},\"selection_glyph\":null,\"view\":{\"id\":\"3010c037-6525-4b77-82ca-2c78551a3ed5\",\"type\":\"CDSView\"}},\"id\":\"24ec3f65-5340-42dc-a66f-484bd5ff0244\",\"type\":\"GlyphRenderer\"},{\"attributes\":{\"data_source\":{\"id\":\"ae3d8e33-07e2-4cbe-8a4c-fcec612534aa\",\"type\":\"ColumnDataSource\"},\"glyph\":{\"id\":\"8489f6cc-9fb6-4ae0-ad51-e233ae3edf9e\",\"type\":\"Circle\"},\"hover_glyph\":null,\"muted_glyph\":null,\"nonselection_glyph\":{\"id\":\"10a573e2-dd6c-46fc-bf5d-b4ca6160fed2\",\"type\":\"Circle\"},\"selection_glyph\":null,\"view\":{\"id\":\"b882c861-bc51-4a32-aee3-e0a4ca7d4b9b\",\"type\":\"CDSView\"}},\"id\":\"f66149bb-3a4f-45f5-944d-54462257f7c4\",\"type\":\"GlyphRenderer\"},{\"attributes\":{\"source\":{\"id\":\"0eb334c9-4863-4486-bb12-e27842ac5dfd\",\"type\":\"ColumnDataSource\"}},\"id\":\"d4fcccae-43a9-4654-80a8-30feb9178521\",\"type\":\"CDSView\"},{\"attributes\":{\"fill_alpha\":{\"value\":0.1},\"fill_color\":{\"value\":\"#1f77b4\"},\"line_alpha\":{\"value\":0.1},\"line_color\":{\"value\":\"#1f77b4\"},\"size\":{\"units\":\"screen\",\"value\":10},\"x\":{\"field\":\"x\"},\"y\":{\"field\":\"y\"}},\"id\":\"369cdbec-6210-45bf-af48-8f6c75a245d5\",\"type\":\"Circle\"},{\"attributes\":{\"data_source\":{\"id\":\"0eb334c9-4863-4486-bb12-e27842ac5dfd\",\"type\":\"ColumnDataSource\"},\"glyph\":{\"id\":\"4fe5cceb-e1cd-47ec-b468-3882a136fbac\",\"type\":\"Circle\"},\"hover_glyph\":null,\"muted_glyph\":null,\"nonselection_glyph\":{\"id\":\"59ab45b3-b312-48b1-9365-1a1025c86a81\",\"type\":\"Circle\"},\"selection_glyph\":null,\"view\":{\"id\":\"d4fcccae-43a9-4654-80a8-30feb9178521\",\"type\":\"CDSView\"}},\"id\":\"2263bf04-5095-4783-9753-7aaa98a4da58\",\"type\":\"GlyphRenderer\"},{\"attributes\":{\"fill_alpha\":{\"value\":0.1},\"fill_color\":{\"value\":\"#1f77b4\"},\"line_alpha\":{\"value\":0.1},\"line_color\":{\"value\":\"#1f77b4\"},\"size\":{\"units\":\"screen\",\"value\":10},\"x\":{\"field\":\"x\"},\"y\":{\"field\":\"y\"}},\"id\":\"10a573e2-dd6c-46fc-bf5d-b4ca6160fed2\",\"type\":\"Circle\"},{\"attributes\":{\"fill_color\":{\"value\":\"Royalblue\"},\"line_color\":{\"value\":\"Royalblue\"},\"size\":{\"units\":\"screen\",\"value\":10},\"x\":{\"field\":\"x\"},\"y\":{\"field\":\"y\"}},\"id\":\"8f9c559d-d35e-4bc9-b73b-dcbd6d0e70db\",\"type\":\"Circle\"},{\"attributes\":{\"callback\":null,\"data\":{\"a\":{\"__ndarray__\":\"AAAAAAAAOkAzMzMzMzM3QDMzMzMzMzhAmpmZmZkZN0CamZmZmZk3QAAAAAAAgDVAZmZmZmbmNkAAAAAAAIA3QM3MzMzMzDJAMzMzMzMzNUAAAAAAAAA2QAAAAAAAgDVAmpmZmZmZNUCamZmZmZk1QAAAAAAAADVAzczMzMzMNkAzMzMzMzM2QAAAAAAAgDZAAAAAAACANkCamZmZmZk2QJqZmZmZmTRAmpmZmZkZNECamZmZmZkzQGZmZmZmZjVAMzMzMzMzNUAzMzMzM7M3QGZmZmZmZjlAmpmZmZmZOEDNzMzMzEw5QAAAAAAAADlAzczMzMxMOUDNzMzMzMw6QGZmZmZm5jhAzczMzMxMOkBmZmZmZmY6QM3MzMzMzDlAzczMzMzMOUAzMzMzMzM7QM3MzMzMTDxAzczMzMzMO0AzMzMzMzM/QJqZmZmZGTxAAAAAAAAAOEAzMzMzMzM2QJqZmZmZmTdAmpmZmZkZO0CamZmZmRk7QM3MzMzMTDpAZmZmZmZmO0BmZmZmZmY6QAAAAAAAADdA\",\"dtype\":\"float64\",\"shape\":[51]},\"team\":[\"MIL\",\"MIL\",\"MIL\",\"MIL\",\"MIL\",\"MIL\",\"MIL\",\"MIL\",\"MIL\",\"MIL\",\"MIL\",\"MIL\",\"MIL\",\"MIL\",\"MIL\",\"MIL\",\"MIL\",\"MIL\",\"MIL\",\"MIL\",\"MIL\",\"MIL\",\"MIL\",\"MIL\",\"MIL\",\"MIL\",\"MIL\",\"MIL\",\"MIL\",\"MIL\",\"MIL\",\"MIL\",\"MIL\",\"MIL\",\"MIL\",\"MIL\",\"MIL\",\"MIL\",\"MIL\",\"MIL\",\"MIL\",\"MIL\",\"MIL\",\"MIL\",\"MIL\",\"MIL\",\"MIL\",\"MIL\",\"MIL\",\"MIL\",\"MIL\"],\"wins\":[0,44,42,33,41,15,38,31,35,46,34,26,28,40,30,41,42,41,52,42,28,36,33,25,34,20,28,31,48,44,49,42,50,57,59,50,51,55,60,49,38,44,30,38,38,59,60,63,66,56,27],\"x\":[2018,2017,2016,2015,2014,2013,2012,2011,2010,2009,2008,2007,2006,2005,2004,2003,2002,2001,2000,1999,1998,1997,1996,1995,1994,1993,1992,1991,1990,1989,1988,1987,1986,1985,1984,1983,1982,1981,1980,1979,1978,1977,1976,1975,1974,1973,1972,1971,1970,1969,1968],\"y\":{\"__ndarray__\":\"ZmZmZmaGXUAAAAAAAKBaQGZmZmZm5llAAAAAAADAWEAzMzMzM3NYQAAAAAAA4FdAmpmZmZm5WEAAAAAAAMBYQJqZmZmZ+VZAzczMzMxsWEAzMzMzM9NYQAAAAAAAQFhAzczMzMzsWEAzMzMzM3NYQM3MzMzMTFhAAAAAAACAWEAAAAAAAOBYQAAAAAAAYFhAzczMzMwsWUDNzMzMzExZQM3MzMzM7FZAAAAAAACgV0AzMzMzM9NXQGZmZmZm5ldAMzMzMzPTWECamZmZmTlYQDMzMzMzk1lAAAAAAABAWkCamZmZmZlaQAAAAAAAgFpAmpmZmZk5W0BmZmZmZoZaQJqZmZmZmVtAAAAAAACgXECamZmZmblbQM3MzMzMbFpAZmZmZmamWkCamZmZmRlbQGZmZmZmRlxAZmZmZmaGW0BmZmZmZoZcQJqZmZmZGVxAmpmZmZkZW0AzMzMzM3NZQM3MzMzMLFlAZmZmZmbGWkDNzMzMzMxaQGZmZmZmplxAmpmZmZmZXUAzMzMzM7NdQM3MzMzMjFtA\",\"dtype\":\"float64\",\"shape\":[51]}},\"selected\":{\"id\":\"49f5ca64-d432-4ff2-96c3-a5640a688f94\",\"type\":\"Selection\"},\"selection_policy\":{\"id\":\"f540ca7c-5f64-4de9-bb20-e2e121a3bc2a\",\"type\":\"UnionRenderers\"}},\"id\":\"92603fd2-7322-4bc8-9394-04754f482bc6\",\"type\":\"ColumnDataSource\"},{\"attributes\":{\"fill_color\":{\"value\":\"grey\"},\"line_color\":{\"value\":\"grey\"},\"size\":{\"units\":\"screen\",\"value\":10},\"x\":{\"field\":\"x\"},\"y\":{\"field\":\"y\"}},\"id\":\"8489f6cc-9fb6-4ae0-ad51-e233ae3edf9e\",\"type\":\"Circle\"},{\"attributes\":{\"source\":{\"id\":\"23ba97b8-909f-48e0-b36b-bb2f618596e6\",\"type\":\"ColumnDataSource\"}},\"id\":\"3010c037-6525-4b77-82ca-2c78551a3ed5\",\"type\":\"CDSView\"},{\"attributes\":{},\"id\":\"658572b0-c933-4da2-be1c-4282c38d9114\",\"type\":\"Selection\"},{\"attributes\":{\"source\":{\"id\":\"ae3d8e33-07e2-4cbe-8a4c-fcec612534aa\",\"type\":\"ColumnDataSource\"}},\"id\":\"b882c861-bc51-4a32-aee3-e0a4ca7d4b9b\",\"type\":\"CDSView\"},{\"attributes\":{\"fill_alpha\":{\"value\":0.4},\"fill_color\":{\"value\":\"tan\"},\"line_alpha\":{\"value\":0.4},\"line_color\":{\"value\":\"tan\"},\"x\":{\"field\":\"x\"},\"y\":{\"field\":\"a\"}},\"id\":\"c81cc0a4-9872-45e6-a686-a7d6cc4ba7f0\",\"type\":\"Circle\"},{\"attributes\":{\"fill_alpha\":{\"value\":0.1},\"fill_color\":{\"value\":\"#1f77b4\"},\"line_alpha\":{\"value\":0.1},\"line_color\":{\"value\":\"#1f77b4\"},\"x\":{\"field\":\"x\"},\"y\":{\"field\":\"y\"}},\"id\":\"6c556085-4b03-42a1-8fa3-4fd232de187a\",\"type\":\"Circle\"},{\"attributes\":{\"fill_alpha\":{\"value\":0.4},\"fill_color\":{\"value\":\"Violet\"},\"line_alpha\":{\"value\":0.4},\"line_color\":{\"value\":\"Violet\"},\"x\":{\"field\":\"x\"},\"y\":{\"field\":\"y\"}},\"id\":\"00e857d3-1077-4fa1-9e10-e7639f4a1dac\",\"type\":\"Circle\"},{\"attributes\":{\"fill_alpha\":{\"value\":0.1},\"fill_color\":{\"value\":\"#1f77b4\"},\"line_alpha\":{\"value\":0.1},\"line_color\":{\"value\":\"#1f77b4\"},\"x\":{\"field\":\"x\"},\"y\":{\"field\":\"a\"}},\"id\":\"59ab45b3-b312-48b1-9365-1a1025c86a81\",\"type\":\"Circle\"},{\"attributes\":{\"fill_alpha\":{\"value\":0.4},\"fill_color\":{\"value\":\"firebrick\"},\"line_alpha\":{\"value\":0.4},\"line_color\":{\"value\":\"firebrick\"},\"x\":{\"field\":\"x\"},\"y\":{\"field\":\"y\"}},\"id\":\"4cbdce04-c148-49aa-bef4-5d6628d3dbd5\",\"type\":\"Circle\"},{\"attributes\":{\"child\":{\"id\":\"0076c00c-dc0c-40e4-9f83-b347e5e6b2c9\",\"subtype\":\"Figure\",\"type\":\"Plot\"},\"title\":\"Points Per Game\"},\"id\":\"094026a0-b743-4e6a-bf08-48d638c0dd0f\",\"type\":\"Panel\"},{\"attributes\":{},\"id\":\"8746618a-7e0a-403f-937c-96ac3f1fba21\",\"type\":\"UnionRenderers\"},{\"attributes\":{\"data_source\":{\"id\":\"92603fd2-7322-4bc8-9394-04754f482bc6\",\"type\":\"ColumnDataSource\"},\"glyph\":{\"id\":\"36da0145-6a56-4094-a1e4-5db6df5bf1a2\",\"type\":\"Circle\"},\"hover_glyph\":null,\"muted_glyph\":null,\"nonselection_glyph\":{\"id\":\"85e669ce-3f93-47e9-9112-cc14b1a657ad\",\"type\":\"Circle\"},\"selection_glyph\":null,\"view\":{\"id\":\"ba988332-945d-4bb9-8859-810703cc2aef\",\"type\":\"CDSView\"}},\"id\":\"9056876b-9c8c-4f04-998d-70dcfac80f84\",\"type\":\"GlyphRenderer\"},{\"attributes\":{\"data_source\":{\"id\":\"76f40aa2-dede-4f8d-a97f-e5d9fd5edf29\",\"type\":\"ColumnDataSource\"},\"glyph\":{\"id\":\"5021fa86-147a-4e97-bf81-8cc0e74f6e1d\",\"type\":\"Circle\"},\"hover_glyph\":null,\"muted_glyph\":null,\"nonselection_glyph\":{\"id\":\"817173e7-4b05-48f8-850b-f990b0a68774\",\"type\":\"Circle\"},\"selection_glyph\":null,\"view\":{\"id\":\"4a057e19-e005-40ed-a791-34c30a9ed402\",\"type\":\"CDSView\"}},\"id\":\"c427dcf9-5235-44d2-9a43-ccc238046271\",\"type\":\"GlyphRenderer\"},{\"attributes\":{\"fill_color\":{\"value\":\"cyan\"},\"line_color\":{\"value\":\"cyan\"},\"size\":{\"units\":\"screen\",\"value\":10},\"x\":{\"field\":\"x\"},\"y\":{\"field\":\"a\"}},\"id\":\"10230fa8-993c-4a33-89a7-47d3a13cfec8\",\"type\":\"Circle\"},{\"attributes\":{\"source\":{\"id\":\"92603fd2-7322-4bc8-9394-04754f482bc6\",\"type\":\"ColumnDataSource\"}},\"id\":\"ba988332-945d-4bb9-8859-810703cc2aef\",\"type\":\"CDSView\"},{\"attributes\":{\"source\":{\"id\":\"76f40aa2-dede-4f8d-a97f-e5d9fd5edf29\",\"type\":\"ColumnDataSource\"}},\"id\":\"4a057e19-e005-40ed-a791-34c30a9ed402\",\"type\":\"CDSView\"},{\"attributes\":{\"source\":{\"id\":\"4977d0a7-8817-44d1-a86e-4c4df672dfd6\",\"type\":\"ColumnDataSource\"}},\"id\":\"d9c7abbf-c757-4757-b312-f1ffe32934bb\",\"type\":\"CDSView\"},{\"attributes\":{\"source\":{\"id\":\"b87f20e6-93a8-4bd7-9ac7-8cab96541d53\",\"type\":\"ColumnDataSource\"}},\"id\":\"3443af63-d69a-4496-9281-68e43e303825\",\"type\":\"CDSView\"},{\"attributes\":{\"callback\":null,\"data\":{\"a\":{\"__ndarray__\":\"ZmZmZmZmO0A=\",\"dtype\":\"float64\",\"shape\":[1]},\"team\":[\"MIL\"],\"wins\":[66],\"x\":[1970],\"y\":{\"__ndarray__\":\"mpmZmZmZXUA=\",\"dtype\":\"float64\",\"shape\":[1]}},\"selected\":{\"id\":\"10048cb8-9f9e-4f88-9d79-6948458b0da5\",\"type\":\"Selection\"},\"selection_policy\":{\"id\":\"415c0beb-54ba-40d8-8d9b-7486dc86a4ff\",\"type\":\"UnionRenderers\"}},\"id\":\"b87f20e6-93a8-4bd7-9ac7-8cab96541d53\",\"type\":\"ColumnDataSource\"},{\"attributes\":{\"label\":{\"value\":\"Thunder\"},\"renderers\":[{\"id\":\"2263bf04-5095-4783-9753-7aaa98a4da58\",\"type\":\"GlyphRenderer\"},{\"id\":\"cc6732c0-e334-4996-b17f-b7360e9fbcd0\",\"type\":\"GlyphRenderer\"}]},\"id\":\"9dabc061-ad29-4cb0-a22c-fad9a2216fb7\",\"type\":\"LegendItem\"},{\"attributes\":{\"fill_alpha\":{\"value\":0.1},\"fill_color\":{\"value\":\"#1f77b4\"},\"line_alpha\":{\"value\":0.1},\"line_color\":{\"value\":\"#1f77b4\"},\"x\":{\"field\":\"x\"},\"y\":{\"field\":\"y\"}},\"id\":\"85e669ce-3f93-47e9-9112-cc14b1a657ad\",\"type\":\"Circle\"},{\"attributes\":{\"source\":{\"id\":\"74d5193c-54ad-4b7a-b31a-0cfe7c492d2f\",\"type\":\"ColumnDataSource\"}},\"id\":\"9280c35f-ae2e-4800-8a3a-726942c95615\",\"type\":\"CDSView\"},{\"attributes\":{\"axis_label\":\"Points Per Game\",\"formatter\":{\"id\":\"389a5d99-2af8-4d42-a0eb-f708fb303a33\",\"type\":\"BasicTickFormatter\"},\"plot\":{\"id\":\"0076c00c-dc0c-40e4-9f83-b347e5e6b2c9\",\"subtype\":\"Figure\",\"type\":\"Plot\"},\"ticker\":{\"id\":\"3a4a856b-b6e7-4e2a-8f9d-11f4388d4e6d\",\"type\":\"BasicTicker\"}},\"id\":\"6e9ddddd-c6b4-4850-84a4-e63bd921c1a1\",\"type\":\"LinearAxis\"},{\"attributes\":{\"fill_alpha\":{\"value\":0.1},\"fill_color\":{\"value\":\"#1f77b4\"},\"line_alpha\":{\"value\":0.1},\"line_color\":{\"value\":\"#1f77b4\"},\"x\":{\"field\":\"x\"},\"y\":{\"field\":\"y\"}},\"id\":\"817173e7-4b05-48f8-850b-f990b0a68774\",\"type\":\"Circle\"},{\"attributes\":{\"fill_color\":{\"value\":\"seagreen\"},\"line_color\":{\"value\":\"seagreen\"},\"size\":{\"units\":\"screen\",\"value\":10},\"x\":{\"field\":\"x\"},\"y\":{\"field\":\"y\"}},\"id\":\"9fe83c2a-29d1-4a40-b348-828fa4580995\",\"type\":\"Circle\"},{\"attributes\":{\"data_source\":{\"id\":\"4977d0a7-8817-44d1-a86e-4c4df672dfd6\",\"type\":\"ColumnDataSource\"},\"glyph\":{\"id\":\"10230fa8-993c-4a33-89a7-47d3a13cfec8\",\"type\":\"Circle\"},\"hover_glyph\":null,\"muted_glyph\":null,\"nonselection_glyph\":{\"id\":\"fdce0231-6af8-42c1-9c0f-575582de8567\",\"type\":\"Circle\"},\"selection_glyph\":null,\"view\":{\"id\":\"d9c7abbf-c757-4757-b312-f1ffe32934bb\",\"type\":\"CDSView\"}},\"id\":\"cc6732c0-e334-4996-b17f-b7360e9fbcd0\",\"type\":\"GlyphRenderer\"},{\"attributes\":{\"label\":{\"value\":\"Sixer\"},\"renderers\":[{\"id\":\"c427dcf9-5235-44d2-9a43-ccc238046271\",\"type\":\"GlyphRenderer\"},{\"id\":\"65a94794-2717-42e3-9e8d-1ab4ffe99cbf\",\"type\":\"GlyphRenderer\"}]},\"id\":\"546d188d-4563-41f4-af77-c8f1b6b342e8\",\"type\":\"LegendItem\"},{\"attributes\":{\"data_source\":{\"id\":\"296cec6f-c3ec-40b1-8a04-acb53c409aad\",\"type\":\"ColumnDataSource\"},\"glyph\":{\"id\":\"4cbdce04-c148-49aa-bef4-5d6628d3dbd5\",\"type\":\"Circle\"},\"hover_glyph\":null,\"muted_glyph\":null,\"nonselection_glyph\":{\"id\":\"6c556085-4b03-42a1-8fa3-4fd232de187a\",\"type\":\"Circle\"},\"selection_glyph\":null,\"view\":{\"id\":\"6edebda5-e530-4359-8ff3-a1642283e436\",\"type\":\"CDSView\"}},\"id\":\"288d279d-d7fb-4eef-8c52-49720074614f\",\"type\":\"GlyphRenderer\"},{\"attributes\":{\"fill_color\":{\"value\":\"blue\"},\"line_color\":{\"value\":\"blue\"},\"size\":{\"units\":\"screen\",\"value\":10},\"x\":{\"field\":\"x\"},\"y\":{\"field\":\"y\"}},\"id\":\"8ad46f04-7f9e-48e0-9d66-65223e0e60a2\",\"type\":\"Circle\"},{\"attributes\":{\"fill_alpha\":{\"value\":0.1},\"fill_color\":{\"value\":\"#1f77b4\"},\"line_alpha\":{\"value\":0.1},\"line_color\":{\"value\":\"#1f77b4\"},\"size\":{\"units\":\"screen\",\"value\":10},\"x\":{\"field\":\"x\"},\"y\":{\"field\":\"a\"}},\"id\":\"fdce0231-6af8-42c1-9c0f-575582de8567\",\"type\":\"Circle\"},{\"attributes\":{\"source\":{\"id\":\"296cec6f-c3ec-40b1-8a04-acb53c409aad\",\"type\":\"ColumnDataSource\"}},\"id\":\"6edebda5-e530-4359-8ff3-a1642283e436\",\"type\":\"CDSView\"},{\"attributes\":{\"source\":{\"id\":\"17587eb1-7610-4fbf-934e-2ec185c90d95\",\"type\":\"ColumnDataSource\"}},\"id\":\"0833df61-b206-487d-a8f6-d1b1d34c9848\",\"type\":\"CDSView\"},{\"attributes\":{},\"id\":\"c5210e73-0000-46be-a552-439b831cae12\",\"type\":\"Selection\"},{\"attributes\":{\"label\":{\"value\":\"Cavaliers\"},\"renderers\":[{\"id\":\"288d279d-d7fb-4eef-8c52-49720074614f\",\"type\":\"GlyphRenderer\"},{\"id\":\"5f764255-d52f-47de-88c3-dc440491a5ff\",\"type\":\"GlyphRenderer\"}]},\"id\":\"966e865e-f671-4dc1-8877-ba564708dc13\",\"type\":\"LegendItem\"},{\"attributes\":{\"data_source\":{\"id\":\"17587eb1-7610-4fbf-934e-2ec185c90d95\",\"type\":\"ColumnDataSource\"},\"glyph\":{\"id\":\"8ad46f04-7f9e-48e0-9d66-65223e0e60a2\",\"type\":\"Circle\"},\"hover_glyph\":null,\"muted_glyph\":null,\"nonselection_glyph\":{\"id\":\"3a805870-183c-4ab9-bc3c-d10e2ea5521f\",\"type\":\"Circle\"},\"selection_glyph\":null,\"view\":{\"id\":\"0833df61-b206-487d-a8f6-d1b1d34c9848\",\"type\":\"CDSView\"}},\"id\":\"65a94794-2717-42e3-9e8d-1ab4ffe99cbf\",\"type\":\"GlyphRenderer\"},{\"attributes\":{},\"id\":\"2e288ed2-7cfb-467c-8fb9-521f76b50275\",\"type\":\"UnionRenderers\"},{\"attributes\":{\"data_source\":{\"id\":\"ca899111-d82e-47e8-bfa9-34acac0d9002\",\"type\":\"ColumnDataSource\"},\"glyph\":{\"id\":\"d43f47ed-097c-4bf4-a7f2-5c19250ff96a\",\"type\":\"Circle\"},\"hover_glyph\":null,\"muted_glyph\":null,\"nonselection_glyph\":{\"id\":\"5d85f5c6-b7f9-442b-87df-76ac25fe6bef\",\"type\":\"Circle\"},\"selection_glyph\":null,\"view\":{\"id\":\"0b56de09-b5b2-465a-92e0-91bf58faeda2\",\"type\":\"CDSView\"}},\"id\":\"5f764255-d52f-47de-88c3-dc440491a5ff\",\"type\":\"GlyphRenderer\"},{\"attributes\":{\"callback\":null,\"data\":{\"a\":{\"__ndarray__\":\"MzMzMzOzNEBmZmZmZmY3QDMzMzMzszZAMzMzMzOzNkCamZmZmRk2QDMzMzMzMzVAMzMzMzOzNEDNzMzMzMwzQAAAAAAAADVAZmZmZmZmNkDNzMzMzEw0QAAAAAAAADRAzczMzMzMNEAAAAAAAAAzQJqZmZmZmTZAAAAAAAAANkBmZmZmZuY0QJqZmZmZGTdAzczMzMzMNEAzMzMzM7M3QGZmZmZm5jVAmpmZmZkZN0BmZmZmZuY0QDMzMzMzMzZAZmZmZmZmNEAAAAAAAAA5QJqZmZmZmTxAmpmZmZmZO0DNzMzMzEw7QDMzMzMzszlAmpmZmZmZO0AzMzMzMzM5QM3MzMzMTDdAMzMzMzMzOUCamZmZmZk5QAAAAAAAgDdAMzMzMzMzNUDNzMzMzMw2QAAAAAAAgDhAMzMzMzOzOUBmZmZmZuY1QDMzMzMzMzVAAAAAAACANkAAAAAAAIA2QDMzMzMzMzdAAAAAAAAAOUAzMzMzM7M5QJqZmZmZGTlAMzMzMzMzOUA=\",\"dtype\":\"float64\",\"shape\":[49]},\"team\":[\"CLE\",\"CLE\",\"CLE\",\"CLE\",\"CLE\",\"CLE\",\"CLE\",\"CLE\",\"CLE\",\"CLE\",\"CLE\",\"CLE\",\"CLE\",\"CLE\",\"CLE\",\"CLE\",\"CLE\",\"CLE\",\"CLE\",\"CLE\",\"CLE\",\"CLE\",\"CLE\",\"CLE\",\"CLE\",\"CLE\",\"CLE\",\"CLE\",\"CLE\",\"CLE\",\"CLE\",\"CLE\",\"CLE\",\"CLE\",\"CLE\",\"CLE\",\"CLE\",\"CLE\",\"CLE\",\"CLE\",\"CLE\",\"CLE\",\"CLE\",\"CLE\",\"CLE\",\"CLE\",\"CLE\",\"CLE\",\"CLE\"],\"wins\":[0,50,51,57,53,33,24,21,19,61,66,45,50,50,42,35,17,29,30,32,22,47,42,47,43,47,54,57,33,42,57,42,31,29,36,28,23,15,28,37,30,43,43,49,40,29,32,23,15],\"x\":[2018,2017,2016,2015,2014,2013,2012,2011,2010,2009,2008,2007,2006,2005,2004,2003,2002,2001,2000,1999,1998,1997,1996,1995,1994,1993,1992,1991,1990,1989,1988,1987,1986,1985,1984,1983,1982,1981,1980,1979,1978,1977,1976,1975,1974,1973,1972,1971,1970],\"y\":{\"__ndarray__\":\"AAAAAAAgWkCamZmZmblbQDMzMzMzk1tAMzMzMzMTWkBmZmZmZsZZQM3MzMzMjFhAAAAAAAAgWEAAAAAAAEBXQAAAAAAA4FdAZmZmZmaGWUAzMzMzMxNZQJqZmZmZGVhAMzMzMzMzWEBmZmZmZmZYQAAAAAAAIFhAmpmZmZk5V0CamZmZmdlWQDMzMzMz01dAzczMzMwMV0AAAAAAAEBYQJqZmZmZmVVAAAAAAAAgV0AAAAAAAOBVQGZmZmZmxlZAAAAAAACgVkDNzMzMzExZQM3MzMzM7FpAmpmZmZk5W0DNzMzMzGxZQGZmZmZmpllAMzMzMzMzW0AAAAAAACBaQJqZmZmZGVpAMzMzMzPzWkBmZmZmZiZbQDMzMzMzk1lAZmZmZmZGWEDNzMzMzMxZQM3MzMzMbFpAZmZmZmaGXEAAAAAAAKBaQJqZmZmZGVpAZmZmZmaGWUDNzMzMzGxZQAAAAAAAwFhAMzMzMzMTWUDNzMzMzKxZQDMzMzMzc1pAZmZmZmaGWUA=\",\"dtype\":\"float64\",\"shape\":[49]}},\"selected\":{\"id\":\"170fd41c-ef16-469c-ab4e-8005d4139805\",\"type\":\"Selection\"},\"selection_policy\":{\"id\":\"15109e65-9ab8-4fb4-a41f-d7fb7a7742f9\",\"type\":\"UnionRenderers\"}},\"id\":\"296cec6f-c3ec-40b1-8a04-acb53c409aad\",\"type\":\"ColumnDataSource\"},{\"attributes\":{\"fill_alpha\":{\"value\":0.1},\"fill_color\":{\"value\":\"#1f77b4\"},\"line_alpha\":{\"value\":0.1},\"line_color\":{\"value\":\"#1f77b4\"},\"size\":{\"units\":\"screen\",\"value\":10},\"x\":{\"field\":\"x\"},\"y\":{\"field\":\"y\"}},\"id\":\"3a805870-183c-4ab9-bc3c-d10e2ea5521f\",\"type\":\"Circle\"},{\"attributes\":{\"fill_alpha\":{\"value\":0.1},\"fill_color\":{\"value\":\"#1f77b4\"},\"line_alpha\":{\"value\":0.1},\"line_color\":{\"value\":\"#1f77b4\"},\"size\":{\"units\":\"screen\",\"value\":10},\"x\":{\"field\":\"x\"},\"y\":{\"field\":\"y\"}},\"id\":\"5d85f5c6-b7f9-442b-87df-76ac25fe6bef\",\"type\":\"Circle\"},{\"attributes\":{\"label\":{\"value\":\"Spurs\"},\"renderers\":[{\"id\":\"268e2419-8743-4beb-b454-587aa72f0ecd\",\"type\":\"GlyphRenderer\"},{\"id\":\"5ea8bb79-0c26-4ac4-b16f-523cd11d997c\",\"type\":\"GlyphRenderer\"}]},\"id\":\"ccb2cf37-137b-4407-ad49-c70d13e8d0a7\",\"type\":\"LegendItem\"},{\"attributes\":{\"data_source\":{\"id\":\"74d5193c-54ad-4b7a-b31a-0cfe7c492d2f\",\"type\":\"ColumnDataSource\"},\"glyph\":{\"id\":\"5e54353c-8655-43c0-9531-10078311e27b\",\"type\":\"Circle\"},\"hover_glyph\":null,\"muted_glyph\":null,\"nonselection_glyph\":{\"id\":\"c5fab395-8e33-466d-9da9-b964fd29b9b7\",\"type\":\"Circle\"},\"selection_glyph\":null,\"view\":{\"id\":\"9280c35f-ae2e-4800-8a3a-726942c95615\",\"type\":\"CDSView\"}},\"id\":\"3ce32b24-ac5e-4ef5-9465-809b910712c0\",\"type\":\"GlyphRenderer\"},{\"attributes\":{},\"id\":\"1ecc90c3-3518-44a5-bb20-c869c9758dbb\",\"type\":\"Selection\"},{\"attributes\":{\"fill_color\":{\"value\":\"firebrick\"},\"line_color\":{\"value\":\"firebrick\"},\"size\":{\"units\":\"screen\",\"value\":10},\"x\":{\"field\":\"x\"},\"y\":{\"field\":\"y\"}},\"id\":\"d43f47ed-097c-4bf4-a7f2-5c19250ff96a\",\"type\":\"Circle\"},{\"attributes\":{\"data_source\":{\"id\":\"72a2d073-5337-4e66-a590-555d06a8711b\",\"type\":\"ColumnDataSource\"},\"glyph\":{\"id\":\"00e857d3-1077-4fa1-9e10-e7639f4a1dac\",\"type\":\"Circle\"},\"hover_glyph\":null,\"muted_glyph\":null,\"nonselection_glyph\":{\"id\":\"3369b2e9-739d-4386-8f39-f183555d5610\",\"type\":\"Circle\"},\"selection_glyph\":null,\"view\":{\"id\":\"7f473fb6-7a1e-4774-a33e-ce431321902b\",\"type\":\"CDSView\"}},\"id\":\"84022d51-163f-401b-92f9-9973f967563a\",\"type\":\"GlyphRenderer\"},{\"attributes\":{\"data_source\":{\"id\":\"0ab49ab6-9a7d-4a9b-ace3-5ca6329a3211\",\"type\":\"ColumnDataSource\"},\"glyph\":{\"id\":\"c81cc0a4-9872-45e6-a686-a7d6cc4ba7f0\",\"type\":\"Circle\"},\"hover_glyph\":null,\"muted_glyph\":null,\"nonselection_glyph\":{\"id\":\"884d2f65-3d6f-406a-b842-314902a6cf6f\",\"type\":\"Circle\"},\"selection_glyph\":null,\"view\":{\"id\":\"fe56513d-38f6-487b-8140-e3614242c4ee\",\"type\":\"CDSView\"}},\"id\":\"e76c848a-6064-431d-80aa-f56750ee0314\",\"type\":\"GlyphRenderer\"},{\"attributes\":{\"source\":{\"id\":\"ca899111-d82e-47e8-bfa9-34acac0d9002\",\"type\":\"ColumnDataSource\"}},\"id\":\"0b56de09-b5b2-465a-92e0-91bf58faeda2\",\"type\":\"CDSView\"},{\"attributes\":{\"fill_alpha\":{\"value\":0.1},\"fill_color\":{\"value\":\"#1f77b4\"},\"line_alpha\":{\"value\":0.1},\"line_color\":{\"value\":\"#1f77b4\"},\"size\":{\"units\":\"screen\",\"value\":10},\"x\":{\"field\":\"x\"},\"y\":{\"field\":\"y\"}},\"id\":\"c5fab395-8e33-466d-9da9-b964fd29b9b7\",\"type\":\"Circle\"},{\"attributes\":{\"source\":{\"id\":\"0ab49ab6-9a7d-4a9b-ace3-5ca6329a3211\",\"type\":\"ColumnDataSource\"}},\"id\":\"fe56513d-38f6-487b-8140-e3614242c4ee\",\"type\":\"CDSView\"},{\"attributes\":{\"data_source\":{\"id\":\"aa415626-dd03-4835-9084-d7a57d03a365\",\"type\":\"ColumnDataSource\"},\"glyph\":{\"id\":\"d80452a7-f547-48a9-b3c0-6727769b146e\",\"type\":\"Circle\"},\"hover_glyph\":null,\"muted_glyph\":null,\"nonselection_glyph\":{\"id\":\"da2acd8f-5b1c-4f38-a3d0-40801325a4a8\",\"type\":\"Circle\"},\"selection_glyph\":null,\"view\":{\"id\":\"2290d05b-2a1a-401f-8ac2-fd79bc3dbd96\",\"type\":\"CDSView\"}},\"id\":\"5bae71ca-ceb8-4e1f-b37a-2229d2c99955\",\"type\":\"GlyphRenderer\"},{\"attributes\":{\"fill_alpha\":{\"value\":0.4},\"fill_color\":{\"value\":\"grey\"},\"line_alpha\":{\"value\":0.4},\"line_color\":{\"value\":\"grey\"},\"x\":{\"field\":\"x\"},\"y\":{\"field\":\"a\"}},\"id\":\"d5e3fc1f-facc-4d88-928c-929a77b5cb95\",\"type\":\"Circle\"},{\"attributes\":{\"source\":{\"id\":\"aa415626-dd03-4835-9084-d7a57d03a365\",\"type\":\"ColumnDataSource\"}},\"id\":\"2290d05b-2a1a-401f-8ac2-fd79bc3dbd96\",\"type\":\"CDSView\"},{\"attributes\":{\"callback\":null,\"tabs\":[{\"id\":\"094026a0-b743-4e6a-bf08-48d638c0dd0f\",\"type\":\"Panel\"},{\"id\":\"ccc1ab03-1b35-42b0-b858-fa9af30f4796\",\"type\":\"Panel\"}]},\"id\":\"3fd80293-ff37-4e9b-ac43-b425fe5b605e\",\"type\":\"Tabs\"},{\"attributes\":{\"fill_alpha\":{\"value\":0.1},\"fill_color\":{\"value\":\"#1f77b4\"},\"line_alpha\":{\"value\":0.1},\"line_color\":{\"value\":\"#1f77b4\"},\"x\":{\"field\":\"x\"},\"y\":{\"field\":\"a\"}},\"id\":\"884d2f65-3d6f-406a-b842-314902a6cf6f\",\"type\":\"Circle\"},{\"attributes\":{\"data_source\":{\"id\":\"19534f01-6867-460c-bcc2-32e0df51830c\",\"type\":\"ColumnDataSource\"},\"glyph\":{\"id\":\"505b869a-c8a3-4636-9de1-7e0939ae41fd\",\"type\":\"Circle\"},\"hover_glyph\":null,\"muted_glyph\":null,\"nonselection_glyph\":{\"id\":\"a719fd8e-8228-46b8-ae5c-f3b456c575d0\",\"type\":\"Circle\"},\"selection_glyph\":null,\"view\":{\"id\":\"837e2c6d-cbca-4ff5-8524-0e9bcc28a8c5\",\"type\":\"CDSView\"}},\"id\":\"96aaf3ff-a116-49ba-9c22-9bc82ad443ac\",\"type\":\"GlyphRenderer\"},{\"attributes\":{\"callback\":null,\"data\":{\"a\":{\"__ndarray__\":\"MzMzMzOzNkA=\",\"dtype\":\"float64\",\"shape\":[1]},\"team\":[\"CLE\"],\"wins\":[57],\"x\":[2015],\"y\":{\"__ndarray__\":\"MzMzMzMTWkA=\",\"dtype\":\"float64\",\"shape\":[1]}},\"selected\":{\"id\":\"8fc61596-63ed-4cfd-afd4-21d63a78f48d\",\"type\":\"Selection\"},\"selection_policy\":{\"id\":\"20d90c29-456c-4f0b-a74c-3ed8ab22b454\",\"type\":\"UnionRenderers\"}},\"id\":\"ca899111-d82e-47e8-bfa9-34acac0d9002\",\"type\":\"ColumnDataSource\"},{\"attributes\":{},\"id\":\"5c78c5b5-820a-4869-b5d6-89cb083c6266\",\"type\":\"UnionRenderers\"},{\"attributes\":{\"source\":{\"id\":\"19534f01-6867-460c-bcc2-32e0df51830c\",\"type\":\"ColumnDataSource\"}},\"id\":\"837e2c6d-cbca-4ff5-8524-0e9bcc28a8c5\",\"type\":\"CDSView\"},{\"attributes\":{\"label\":{\"value\":\"Heat\"},\"renderers\":[{\"id\":\"e76c848a-6064-431d-80aa-f56750ee0314\",\"type\":\"GlyphRenderer\"},{\"id\":\"b5c4e3ee-fc4c-4707-874c-c91c206ff00b\",\"type\":\"GlyphRenderer\"}]},\"id\":\"db7a1c9b-2360-4011-bbe8-d08e75052741\",\"type\":\"LegendItem\"},{\"attributes\":{},\"id\":\"8e641f1e-d206-4ee9-aed8-dc92018047d7\",\"type\":\"UnionRenderers\"},{\"attributes\":{\"fill_alpha\":{\"value\":0.4},\"fill_color\":{\"value\":\"brown\"},\"line_alpha\":{\"value\":0.4},\"line_color\":{\"value\":\"brown\"},\"x\":{\"field\":\"x\"},\"y\":{\"field\":\"y\"}},\"id\":\"587d036f-8920-43aa-afd2-8ad83a3f094a\",\"type\":\"Circle\"},{\"attributes\":{\"plot\":{\"id\":\"0076c00c-dc0c-40e4-9f83-b347e5e6b2c9\",\"subtype\":\"Figure\",\"type\":\"Plot\"},\"ticker\":{\"id\":\"f560aacb-da06-41d3-8a7c-5bc0db432a3d\",\"type\":\"BasicTicker\"}},\"id\":\"c7df111a-6ee8-4487-9e28-08e2cf6124e0\",\"type\":\"Grid\"},{\"attributes\":{\"fill_alpha\":{\"value\":0.1},\"fill_color\":{\"value\":\"#1f77b4\"},\"line_alpha\":{\"value\":0.1},\"line_color\":{\"value\":\"#1f77b4\"},\"x\":{\"field\":\"x\"},\"y\":{\"field\":\"y\"}},\"id\":\"a719fd8e-8228-46b8-ae5c-f3b456c575d0\",\"type\":\"Circle\"},{\"attributes\":{\"fill_color\":{\"value\":\"tan\"},\"line_color\":{\"value\":\"tan\"},\"size\":{\"units\":\"screen\",\"value\":10},\"x\":{\"field\":\"x\"},\"y\":{\"field\":\"a\"}},\"id\":\"2f01b3f0-d992-4707-8d15-f933d82c7aa1\",\"type\":\"Circle\"},{\"attributes\":{\"label\":{\"value\":\"Wizards\"},\"renderers\":[{\"id\":\"96aaf3ff-a116-49ba-9c22-9bc82ad443ac\",\"type\":\"GlyphRenderer\"},{\"id\":\"ecf3028c-d630-4f71-8c2f-48da4973d94d\",\"type\":\"GlyphRenderer\"}]},\"id\":\"fecde03c-8c21-47fa-a876-ec1f5d789d27\",\"type\":\"LegendItem\"},{\"attributes\":{\"source\":{\"id\":\"2d5ebb15-9534-44a5-b858-caa5d5697fb6\",\"type\":\"ColumnDataSource\"}},\"id\":\"7fb65600-091c-4de3-bba0-e40c6db0f875\",\"type\":\"CDSView\"},{\"attributes\":{\"fill_color\":{\"value\":\"midnightblue\"},\"line_color\":{\"value\":\"midnightblue\"},\"size\":{\"units\":\"screen\",\"value\":10},\"x\":{\"field\":\"x\"},\"y\":{\"field\":\"y\"}},\"id\":\"e3657347-e20c-46c4-8a95-302bc87f9e8c\",\"type\":\"Circle\"},{\"attributes\":{\"data_source\":{\"id\":\"2d5ebb15-9534-44a5-b858-caa5d5697fb6\",\"type\":\"ColumnDataSource\"},\"glyph\":{\"id\":\"2f01b3f0-d992-4707-8d15-f933d82c7aa1\",\"type\":\"Circle\"},\"hover_glyph\":null,\"muted_glyph\":null,\"nonselection_glyph\":{\"id\":\"300f9f71-5deb-46b1-ba7c-6f5804711209\",\"type\":\"Circle\"},\"selection_glyph\":null,\"view\":{\"id\":\"7fb65600-091c-4de3-bba0-e40c6db0f875\",\"type\":\"CDSView\"}},\"id\":\"b5c4e3ee-fc4c-4707-874c-c91c206ff00b\",\"type\":\"GlyphRenderer\"},{\"attributes\":{\"callback\":null,\"data\":{\"a\":{\"__ndarray__\":\"zczMzMxMOkAzMzMzMzM5QGZmZmZm5jdAAAAAAACAOEAAAAAAAAA4QM3MzMzMTDdAmpmZmZmZNUCamZmZmRkzQGZmZmZmZjNAAAAAAAAAM0AAAAAAAAA0QJqZmZmZmTNAMzMzMzMzNECamZmZmZkyQJqZmZmZGTNAMzMzMzOzMkAzMzMzM7MzQGZmZmZm5jRAmpmZmZkZNECamZmZmZk1QM3MzMzMTDVAMzMzMzMzN0BmZmZmZmY3QJqZmZmZGTZAzczMzMxMNUAzMzMzMzM2QDMzMzMzszlAAAAAAACAOEBmZmZmZmY5QAAAAAAAADtAAAAAAAAAOUBmZmZmZuY2QM3MzMzMTDVAzczMzMxMNUAAAAAAAIA5QDMzMzMzszpAAAAAAAAAOUAzMzMzMzM4QDMzMzMzMzpAzczMzMzMOkAAAAAAAIA6QM3MzMzMzDdAmpmZmZmZN0AzMzMzMzM2QAAAAAAAgDhAmpmZmZmZNUAAAAAAAAA5QJqZmZmZGTZAmpmZmZmZNUBmZmZmZuY2QAAAAAAAgDRAMzMzMzOzMkBmZmZmZmY0QJqZmZmZmTdAAAAAAAAANUDNzMzMzMwxQDMzMzMzMzZAAAAAAACANkA=\",\"dtype\":\"float64\",\"shape\":[58]},\"team\":[\"WAS\",\"WAS\",\"WAS\",\"WAS\",\"WAS\",\"WAS\",\"WAS\",\"WAS\",\"WAS\",\"WAS\",\"WAS\",\"WAS\",\"WAS\",\"WAS\",\"WAS\",\"WAS\",\"WAS\",\"WAS\",\"WAS\",\"WAS\",\"WAS\",\"WAS\",\"WSB\",\"WSB\",\"WSB\",\"WSB\",\"WSB\",\"WSB\",\"WSB\",\"WSB\",\"WSB\",\"WSB\",\"WSB\",\"WSB\",\"WSB\",\"WSB\",\"WSB\",\"WSB\",\"WSB\",\"WSB\",\"WSB\",\"WSB\",\"WSB\",\"WSB\",\"WSB\",\"CAP\",\"BAL\",\"BAL\",\"BAL\",\"BAL\",\"BAL\",\"BAL\",\"BAL\",\"BAL\",\"BAL\",\"BAL\",\"CHZ\",\"CHP\"],\"wins\":[0,43,49,41,46,44,29,20,23,26,19,43,41,42,45,25,37,37,19,29,18,42,44,39,21,24,22,25,30,31,40,38,42,39,40,35,42,43,39,39,54,44,48,48,60,47,52,38,42,50,57,36,20,38,37,31,25,18],\"x\":[2018,2017,2016,2015,2014,2013,2012,2011,2010,2009,2008,2007,2006,2005,2004,2003,2002,2001,2000,1999,1998,1997,1996,1995,1994,1993,1992,1991,1990,1989,1988,1987,1986,1985,1984,1983,1982,1981,1980,1979,1978,1977,1976,1975,1974,1973,1972,1971,1970,1969,1968,1967,1966,1965,1964,1963,1962,1961],\"y\":{\"__ndarray__\":\"AAAAAACAXEBmZmZmZqZaQM3MzMzMTFtAZmZmZmYGWkAAAAAAAKBYQM3MzMzMLFlAzczMzMxMV0BmZmZmZmZXQDMzMzMzU1hAzczMzMwMWEBmZmZmZgZYQDMzMzMzs1hAMzMzMzMTWkDNzMzMzGxZQAAAAAAAIFlAMzMzMzPzVkAAAAAAAOBWQDMzMzMzM1dAzczMzMxMV0BmZmZmZiZYQM3MzMzMzFZAzczMzMxMWECamZmZmdlYQAAAAAAAoFlAAAAAAAAgWUCamZmZmRlZQJqZmZmZeVlAmpmZmZmZWUCamZmZmVlZQM3MzMzM7FpAMzMzMzMTW0AAAAAAAGBaQAAAAAAAgFpAAAAAAADAWUAAAAAAAGBaQM3MzMzMrFlAzczMzMzMWEAAAAAAAOBZQGZmZmZmZlpAAAAAAADAWkCamZmZmblcQDMzMzMzk1tAAAAAAABgWkAzMzMzM7NZQM3MzMzMLFpAmpmZmZl5WUAAAAAAAEBaQGZmZmZmxlpAmpmZmZk5XEDNzMzMzCxeQJqZmZmZGV1AmpmZmZlZXUAAAAAAAOBcQDMzMzMzk11AZmZmZmZmXECamZmZmflbQJqZmZmZeVtAmpmZmZm5W0A=\",\"dtype\":\"float64\",\"shape\":[58]}},\"selected\":{\"id\":\"0a45e547-552a-4fc1-a02a-9e54150189ff\",\"type\":\"Selection\"},\"selection_policy\":{\"id\":\"6175469c-530b-4c10-9f13-a9ce45d4cd36\",\"type\":\"UnionRenderers\"}},\"id\":\"19534f01-6867-460c-bcc2-32e0df51830c\",\"type\":\"ColumnDataSource\"},{\"attributes\":{\"source\":{\"id\":\"3ee36478-9541-4ab9-8e23-043b09da59e9\",\"type\":\"ColumnDataSource\"}},\"id\":\"65a1815b-105e-408f-b27c-b80659b5985a\",\"type\":\"CDSView\"},{\"attributes\":{\"fill_alpha\":{\"value\":0.1},\"fill_color\":{\"value\":\"#1f77b4\"},\"line_alpha\":{\"value\":0.1},\"line_color\":{\"value\":\"#1f77b4\"},\"size\":{\"units\":\"screen\",\"value\":10},\"x\":{\"field\":\"x\"},\"y\":{\"field\":\"a\"}},\"id\":\"300f9f71-5deb-46b1-ba7c-6f5804711209\",\"type\":\"Circle\"},{\"attributes\":{\"data_source\":{\"id\":\"3ee36478-9541-4ab9-8e23-043b09da59e9\",\"type\":\"ColumnDataSource\"},\"glyph\":{\"id\":\"e3657347-e20c-46c4-8a95-302bc87f9e8c\",\"type\":\"Circle\"},\"hover_glyph\":null,\"muted_glyph\":null,\"nonselection_glyph\":{\"id\":\"548bb8b3-efeb-4a55-b41b-6a234f80b19e\",\"type\":\"Circle\"},\"selection_glyph\":null,\"view\":{\"id\":\"65a1815b-105e-408f-b27c-b80659b5985a\",\"type\":\"CDSView\"}},\"id\":\"ecf3028c-d630-4f71-8c2f-48da4973d94d\",\"type\":\"GlyphRenderer\"},{\"attributes\":{},\"id\":\"24732daf-d043-4c8e-a345-578df10c7a43\",\"type\":\"Selection\"},{\"attributes\":{\"fill_alpha\":{\"value\":0.1},\"fill_color\":{\"value\":\"#1f77b4\"},\"line_alpha\":{\"value\":0.1},\"line_color\":{\"value\":\"#1f77b4\"},\"size\":{\"units\":\"screen\",\"value\":10},\"x\":{\"field\":\"x\"},\"y\":{\"field\":\"y\"}},\"id\":\"548bb8b3-efeb-4a55-b41b-6a234f80b19e\",\"type\":\"Circle\"},{\"attributes\":{},\"id\":\"f1ccbbb0-5555-4f06-bf6b-3cb5ff941ccc\",\"type\":\"UnionRenderers\"},{\"attributes\":{\"data_source\":{\"id\":\"3f3a57db-5b41-446f-be07-12dd9d382722\",\"type\":\"ColumnDataSource\"},\"glyph\":{\"id\":\"d5e3fc1f-facc-4d88-928c-929a77b5cb95\",\"type\":\"Circle\"},\"hover_glyph\":null,\"muted_glyph\":null,\"nonselection_glyph\":{\"id\":\"16ff7421-5b94-42b6-be9a-b441320b7aea\",\"type\":\"Circle\"},\"selection_glyph\":null,\"view\":{\"id\":\"e3882117-6682-47ec-912f-1b937f983921\",\"type\":\"CDSView\"}},\"id\":\"268e2419-8743-4beb-b454-587aa72f0ecd\",\"type\":\"GlyphRenderer\"},{\"attributes\":{\"source\":{\"id\":\"3f3a57db-5b41-446f-be07-12dd9d382722\",\"type\":\"ColumnDataSource\"}},\"id\":\"e3882117-6682-47ec-912f-1b937f983921\",\"type\":\"CDSView\"},{\"attributes\":{\"source\":{\"id\":\"f801d7fb-f22d-470c-923a-5c09f7878517\",\"type\":\"ColumnDataSource\"}},\"id\":\"5453eabe-fb23-4a95-982c-e040b59474a6\",\"type\":\"CDSView\"},{\"attributes\":{\"axis_label\":\"Season(year)\",\"formatter\":{\"id\":\"7ae3ccfa-9f01-4ece-aa26-f1833e97f95c\",\"type\":\"BasicTickFormatter\"},\"plot\":{\"id\":\"0076c00c-dc0c-40e4-9f83-b347e5e6b2c9\",\"subtype\":\"Figure\",\"type\":\"Plot\"},\"ticker\":{\"id\":\"f560aacb-da06-41d3-8a7c-5bc0db432a3d\",\"type\":\"BasicTicker\"}},\"id\":\"143ab737-5217-4276-a089-9a1c1a448c2f\",\"type\":\"LinearAxis\"},{\"attributes\":{\"callback\":null,\"data\":{\"a\":{\"__ndarray__\":\"zczMzMzMN0A=\",\"dtype\":\"float64\",\"shape\":[1]},\"team\":[\"WSB\"],\"wins\":[44],\"x\":[1977],\"y\":{\"__ndarray__\":\"MzMzMzOTW0A=\",\"dtype\":\"float64\",\"shape\":[1]}},\"selected\":{\"id\":\"0dc54d20-e15f-4ae8-ba3a-0aa5a566ce78\",\"type\":\"Selection\"},\"selection_policy\":{\"id\":\"5593aa0a-5485-4cba-a558-d78c4e048c5c\",\"type\":\"UnionRenderers\"}},\"id\":\"3ee36478-9541-4ab9-8e23-043b09da59e9\",\"type\":\"ColumnDataSource\"},{\"attributes\":{\"fill_alpha\":{\"value\":0.1},\"fill_color\":{\"value\":\"#1f77b4\"},\"line_alpha\":{\"value\":0.1},\"line_color\":{\"value\":\"#1f77b4\"},\"x\":{\"field\":\"x\"},\"y\":{\"field\":\"y\"}},\"id\":\"3a8ce98e-e7d1-4919-b34f-592344ced9ce\",\"type\":\"Circle\"},{\"attributes\":{},\"id\":\"08681b8a-1396-4ac3-80e3-79fdcb0b3e6b\",\"type\":\"Selection\"},{\"attributes\":{\"data_source\":{\"id\":\"194c5601-cbcc-4b37-9fd4-999c130d0509\",\"type\":\"ColumnDataSource\"},\"glyph\":{\"id\":\"587d036f-8920-43aa-afd2-8ad83a3f094a\",\"type\":\"Circle\"},\"hover_glyph\":null,\"muted_glyph\":null,\"nonselection_glyph\":{\"id\":\"3a8ce98e-e7d1-4919-b34f-592344ced9ce\",\"type\":\"Circle\"},\"selection_glyph\":null,\"view\":{\"id\":\"490b3b50-5f65-48fc-a68f-b132b54e28bc\",\"type\":\"CDSView\"}},\"id\":\"2d0243d7-4787-4dc5-a5bf-186296930b7c\",\"type\":\"GlyphRenderer\"},{\"attributes\":{\"data_source\":{\"id\":\"ae3d8e33-07e2-4cbe-8a4c-fcec612534aa\",\"type\":\"ColumnDataSource\"},\"glyph\":{\"id\":\"66de5bc9-7586-4c5c-83b3-8f529a5b3204\",\"type\":\"Circle\"},\"hover_glyph\":null,\"muted_glyph\":null,\"nonselection_glyph\":{\"id\":\"f6055a1f-d687-4841-9f6e-b2634772bf28\",\"type\":\"Circle\"},\"selection_glyph\":null,\"view\":{\"id\":\"b67bf5be-13a7-48d1-be78-8cec847e63e5\",\"type\":\"CDSView\"}},\"id\":\"5ea8bb79-0c26-4ac4-b16f-523cd11d997c\",\"type\":\"GlyphRenderer\"},{\"attributes\":{\"source\":{\"id\":\"194c5601-cbcc-4b37-9fd4-999c130d0509\",\"type\":\"ColumnDataSource\"}},\"id\":\"490b3b50-5f65-48fc-a68f-b132b54e28bc\",\"type\":\"CDSView\"},{\"attributes\":{\"fill_alpha\":{\"value\":0.1},\"fill_color\":{\"value\":\"#1f77b4\"},\"line_alpha\":{\"value\":0.1},\"line_color\":{\"value\":\"#1f77b4\"},\"x\":{\"field\":\"x\"},\"y\":{\"field\":\"a\"}},\"id\":\"16ff7421-5b94-42b6-be9a-b441320b7aea\",\"type\":\"Circle\"},{\"attributes\":{\"label\":{\"value\":\"Hawks\"},\"renderers\":[{\"id\":\"2d0243d7-4787-4dc5-a5bf-186296930b7c\",\"type\":\"GlyphRenderer\"},{\"id\":\"fdf1dd9b-3df3-480a-981c-9c8d9a31e4ec\",\"type\":\"GlyphRenderer\"}]},\"id\":\"65d5dcec-eeac-44a1-9d49-b2a387f8ca3f\",\"type\":\"LegendItem\"},{\"attributes\":{},\"id\":\"a4f0aac1-4ba7-433b-8acb-a5c372ffc22f\",\"type\":\"UnionRenderers\"},{\"attributes\":{\"fill_alpha\":{\"value\":0.1},\"fill_color\":{\"value\":\"#1f77b4\"},\"line_alpha\":{\"value\":0.1},\"line_color\":{\"value\":\"#1f77b4\"},\"size\":{\"units\":\"screen\",\"value\":10},\"x\":{\"field\":\"x\"},\"y\":{\"field\":\"y\"}},\"id\":\"cd47a27e-435c-4c4d-96aa-0ed7461891cf\",\"type\":\"Circle\"},{\"attributes\":{\"source\":{\"id\":\"ae3d8e33-07e2-4cbe-8a4c-fcec612534aa\",\"type\":\"ColumnDataSource\"}},\"id\":\"b67bf5be-13a7-48d1-be78-8cec847e63e5\",\"type\":\"CDSView\"},{\"attributes\":{\"fill_color\":{\"value\":\"brown\"},\"line_color\":{\"value\":\"brown\"},\"size\":{\"units\":\"screen\",\"value\":10},\"x\":{\"field\":\"x\"},\"y\":{\"field\":\"y\"}},\"id\":\"472984d5-df7d-41a3-a580-8aece8997704\",\"type\":\"Circle\"},{\"attributes\":{},\"id\":\"11927ecf-04b2-497b-9b08-109436bd9bfd\",\"type\":\"Selection\"},{\"attributes\":{\"data_source\":{\"id\":\"f801d7fb-f22d-470c-923a-5c09f7878517\",\"type\":\"ColumnDataSource\"},\"glyph\":{\"id\":\"472984d5-df7d-41a3-a580-8aece8997704\",\"type\":\"Circle\"},\"hover_glyph\":null,\"muted_glyph\":null,\"nonselection_glyph\":{\"id\":\"cd47a27e-435c-4c4d-96aa-0ed7461891cf\",\"type\":\"Circle\"},\"selection_glyph\":null,\"view\":{\"id\":\"5453eabe-fb23-4a95-982c-e040b59474a6\",\"type\":\"CDSView\"}},\"id\":\"fdf1dd9b-3df3-480a-981c-9c8d9a31e4ec\",\"type\":\"GlyphRenderer\"},{\"attributes\":{\"callback\":null,\"data\":{\"a\":{\"__ndarray__\":\"zczMzMzMOUAzMzMzM7M3QJqZmZmZmTdAmpmZmZmZOUAzMzMzM7M5QGZmZmZm5jhAAAAAAACAOEBmZmZmZmY2QAAAAAAAADZAzczMzMzMNUAzMzMzMzM0QAAAAAAAADZAMzMzMzMzM0DNzMzMzMwzQDMzMzMzszNAmpmZmZkZNEAAAAAAAIA0QDMzMzMzMzRAAAAAAAAAM0BmZmZmZuYyQDMzMzMzMy9AmpmZmZkZM0AAAAAAAAAzQJqZmZmZmTNAZmZmZmZmNUCamZmZmRk5QGZmZmZmZjlAZmZmZmbmOUAzMzMzM7M2QDMzMzMzMzZAzczMzMxMOECamZmZmRk5QM3MzMzMTDlAMzMzMzOzOEAAAAAAAIA4QM3MzMzMTDZAMzMzMzOzN0CamZmZmRk2QAAAAAAAgDZAzczMzMxMN0CamZmZmZk3QDMzMzMzMzdAAAAAAAAAN0DNzMzMzEw0QGZmZmZm5jZAzczMzMxMOEDNzMzMzEw5QJqZmZmZGTdAMzMzMzMzN0CamZmZmRk6QDMzMzMzMzlAMzMzMzMzOECamZmZmRk1QM3MzMzMTDZAmpmZmZkZNUDNzMzMzMw3QM3MzMzMzDdAAAAAAAAAOUAAAAAAAAA7QJqZmZmZGTlAzczMzMzMNUBmZmZmZmY1QDMzMzMzMzRAzczMzMxMOEBmZmZmZmY1QAAAAAAAADJAmpmZmZkZNECamZmZmZkyQDMzMzMzszVAzczMzMzMNEA=\",\"dtype\":\"float64\",\"shape\":[70]},\"team\":[\"ATL\",\"ATL\",\"ATL\",\"ATL\",\"ATL\",\"ATL\",\"ATL\",\"ATL\",\"ATL\",\"ATL\",\"ATL\",\"ATL\",\"ATL\",\"ATL\",\"ATL\",\"ATL\",\"ATL\",\"ATL\",\"ATL\",\"ATL\",\"ATL\",\"ATL\",\"ATL\",\"ATL\",\"ATL\",\"ATL\",\"ATL\",\"ATL\",\"ATL\",\"ATL\",\"ATL\",\"ATL\",\"ATL\",\"ATL\",\"ATL\",\"ATL\",\"ATL\",\"ATL\",\"ATL\",\"ATL\",\"ATL\",\"ATL\",\"ATL\",\"ATL\",\"ATL\",\"ATL\",\"ATL\",\"ATL\",\"ATL\",\"ATL\",\"ATL\",\"STL\",\"STL\",\"STL\",\"STL\",\"STL\",\"STL\",\"STL\",\"STL\",\"STL\",\"STL\",\"STL\",\"STL\",\"STL\",\"MLH\",\"MLH\",\"MLH\",\"MLH\",\"TRI\",\"TRI\"],\"wins\":[0,24,43,48,60,38,44,40,44,53,47,37,30,26,13,28,35,33,25,28,31,50,56,46,42,57,43,38,43,41,52,50,57,50,34,40,43,42,31,50,46,41,31,29,31,35,46,36,36,48,48,56,39,36,45,46,48,29,51,46,49,41,34,33,26,21,27,17,25,29],\"x\":[2018,2017,2016,2015,2014,2013,2012,2011,2010,2009,2008,2007,2006,2005,2004,2003,2002,2001,2000,1999,1998,1997,1996,1995,1994,1993,1992,1991,1990,1989,1988,1987,1986,1985,1984,1983,1982,1981,1980,1979,1978,1977,1976,1975,1974,1973,1972,1971,1970,1969,1968,1967,1966,1965,1964,1963,1962,1961,1960,1959,1958,1957,1956,1955,1954,1953,1952,1951,1950,1949],\"y\":{\"__ndarray__\":\"MzMzMzNTXECamZmZmdlZQM3MzMzMzFlAMzMzMzOzWUAAAAAAAKBZQAAAAAAAQFlAAAAAAACAWEBmZmZmZiZYQAAAAAAAwFdAzczMzMxsWUBmZmZmZoZYQM3MzMzMjFhAzczMzMxsV0DNzMzMzExYQM3MzMzMLFdAMzMzMzMzV0BmZmZmZoZXQAAAAAAAgFdAAAAAAADAVkAzMzMzM5NXQDMzMzMzk1VAmpmZmZn5V0AzMzMzM7NXQDMzMzMzk1hAZmZmZmYmWECamZmZmVlZQAAAAAAA4FpAzczMzMyMWkAzMzMzM3NbQAAAAAAAIFtAAAAAAADAW0CamZmZmflaQAAAAAAAgFtAZmZmZmYmW0BmZmZmZqZaQAAAAAAAYFlAZmZmZmZmWUAAAAAAAEBZQJqZmZmZOVpAAAAAAAAgWkBmZmZmZkZbQM3MzMzM7FlAmpmZmZmZWUBmZmZmZqZZQGZmZmZmRlpAZmZmZmYmW0CamZmZmRlcQAAAAAAAYFtAAAAAAACAXEBmZmZmZmZdQDMzMzMz01tAAAAAAABAXEBmZmZmZmZcQJqZmZmZ2VtAMzMzMzMzW0AAAAAAAIBbQGZmZmZmZltAmpmZmZm5XUAzMzMzM7NdQJqZmZmZWVxAMzMzMzMzW0AAAAAAAOBaQAAAAAAAoFhAZmZmZmYmWECamZmZmdlVQAAAAAAAgFFAmpmZmZn5UkDNzMzMzExSQDMzMzMzE1VAAAAAAADAVEA=\",\"dtype\":\"float64\",\"shape\":[70]}},\"selected\":{\"id\":\"fc313cd1-baef-48fa-bdfd-7314d9b8a95e\",\"type\":\"Selection\"},\"selection_policy\":{\"id\":\"6d4ac769-6d6f-4f66-a181-3ec2c8e90c6f\",\"type\":\"UnionRenderers\"}},\"id\":\"194c5601-cbcc-4b37-9fd4-999c130d0509\",\"type\":\"ColumnDataSource\"},{\"attributes\":{},\"id\":\"1591046d-8f0e-46b1-948d-7402e2037a17\",\"type\":\"UnionRenderers\"},{\"attributes\":{\"callback\":null,\"renderers\":\"auto\",\"tooltips\":[[\"Season\",\"@x\"],[\"AST Per Game\",\"@a\"],[\"Team\",\"@team\"]]},\"id\":\"efe83cb9-da87-4565-8c82-a2aa3579e94b\",\"type\":\"HoverTool\"},{\"attributes\":{\"callback\":null,\"data\":{\"a\":{\"__ndarray__\":\"mpmZmZkZNEA=\",\"dtype\":\"float64\",\"shape\":[1]},\"team\":[\"ROC\"],\"wins\":[41],\"x\":[1950],\"y\":{\"__ndarray__\":\"ZmZmZmYmVUA=\",\"dtype\":\"float64\",\"shape\":[1]}},\"selected\":{\"id\":\"c9ace492-dcf7-4cf0-bc2a-721b9429cd28\",\"type\":\"Selection\"},\"selection_policy\":{\"id\":\"8e641f1e-d206-4ee9-aed8-dc92018047d7\",\"type\":\"UnionRenderers\"}},\"id\":\"74d5193c-54ad-4b7a-b31a-0cfe7c492d2f\",\"type\":\"ColumnDataSource\"},{\"attributes\":{\"fill_alpha\":{\"value\":0.2},\"fill_color\":{\"value\":\"Gold\"},\"line_alpha\":{\"value\":0.2},\"line_color\":{\"value\":\"Gold\"},\"x\":{\"field\":\"x\"},\"y\":{\"field\":\"a\"}},\"id\":\"363f97e0-ea8a-414c-b650-5a2873796e0a\",\"type\":\"Circle\"},{\"attributes\":{\"below\":[{\"id\":\"6e5dea56-8d4e-4f6e-877c-50a2bc09966d\",\"type\":\"LinearAxis\"}],\"left\":[{\"id\":\"b6db50f6-d12d-4003-88e7-eed941776328\",\"type\":\"LinearAxis\"}],\"plot_height\":500,\"plot_width\":1000,\"renderers\":[{\"id\":\"6e5dea56-8d4e-4f6e-877c-50a2bc09966d\",\"type\":\"LinearAxis\"},{\"id\":\"41bea9ed-87f8-476e-b1d3-7d403784b614\",\"type\":\"Grid\"},{\"id\":\"b6db50f6-d12d-4003-88e7-eed941776328\",\"type\":\"LinearAxis\"},{\"id\":\"222c6286-d290-4997-b3e1-42dfa555f042\",\"type\":\"Grid\"},{\"id\":\"410d77ae-274e-437b-86b8-497b3a9b074a\",\"type\":\"Legend\"},{\"id\":\"05b6ab3e-e31a-4ec0-98ef-0b55ab8d5dac\",\"type\":\"GlyphRenderer\"},{\"id\":\"9c411c7a-f95f-4586-940b-e897055be956\",\"type\":\"GlyphRenderer\"},{\"id\":\"a89080b6-ede4-4ce8-abed-c5aec14f6928\",\"type\":\"GlyphRenderer\"},{\"id\":\"d0281c54-6ddc-408c-8411-af4fbc6178ef\",\"type\":\"GlyphRenderer\"},{\"id\":\"91faa622-cb56-44b1-a866-f76420f8bb7a\",\"type\":\"GlyphRenderer\"},{\"id\":\"d2b40edd-55c3-4111-9fac-b52107942883\",\"type\":\"GlyphRenderer\"},{\"id\":\"e12ed2d7-a8d8-41ab-accc-9d8a08861029\",\"type\":\"GlyphRenderer\"},{\"id\":\"16c4d81b-395d-4053-b6fd-a4848d7df6ed\",\"type\":\"GlyphRenderer\"},{\"id\":\"05ed985d-3a59-41b5-a011-f2bd64d2c62c\",\"type\":\"GlyphRenderer\"},{\"id\":\"449e4ac8-f58a-480f-ae2e-3ebd3182d46b\",\"type\":\"GlyphRenderer\"},{\"id\":\"33945a0f-7f1b-46c9-acfd-3017dd37da2b\",\"type\":\"GlyphRenderer\"},{\"id\":\"3918378b-eb5a-4284-8159-8c3f8aa8ab60\",\"type\":\"GlyphRenderer\"},{\"id\":\"4e2035d4-ba7f-44f7-a194-a10d1dff3614\",\"type\":\"GlyphRenderer\"},{\"id\":\"936f6b1a-491f-4a90-97e2-42566ba5186c\",\"type\":\"GlyphRenderer\"},{\"id\":\"670ad759-760b-46b4-9991-97932b20f394\",\"type\":\"GlyphRenderer\"},{\"id\":\"8934ce2d-ca41-4bca-862e-f3389463a59a\",\"type\":\"GlyphRenderer\"},{\"id\":\"22d529b7-3e62-4876-92ae-4b54b25a5c8c\",\"type\":\"GlyphRenderer\"},{\"id\":\"30060525-b600-46e4-a35f-a7fd5d238f5e\",\"type\":\"GlyphRenderer\"},{\"id\":\"d7a1d061-3565-4dba-abd4-c8493f1efb17\",\"type\":\"GlyphRenderer\"},{\"id\":\"2330c54a-e054-495b-8e9d-ee5ff7c220d5\",\"type\":\"GlyphRenderer\"},{\"id\":\"2f8a25f6-3e86-46f5-8e05-8c6e02f8900c\",\"type\":\"GlyphRenderer\"},{\"id\":\"8de96e67-7467-4a6e-8811-a981304fc69c\",\"type\":\"GlyphRenderer\"},{\"id\":\"35cd4335-766e-4e17-b14b-30c9e78f2cac\",\"type\":\"GlyphRenderer\"},{\"id\":\"2263bf04-5095-4783-9753-7aaa98a4da58\",\"type\":\"GlyphRenderer\"},{\"id\":\"cc6732c0-e334-4996-b17f-b7360e9fbcd0\",\"type\":\"GlyphRenderer\"},{\"id\":\"e76c848a-6064-431d-80aa-f56750ee0314\",\"type\":\"GlyphRenderer\"},{\"id\":\"b5c4e3ee-fc4c-4707-874c-c91c206ff00b\",\"type\":\"GlyphRenderer\"},{\"id\":\"268e2419-8743-4beb-b454-587aa72f0ecd\",\"type\":\"GlyphRenderer\"},{\"id\":\"5ea8bb79-0c26-4ac4-b16f-523cd11d997c\",\"type\":\"GlyphRenderer\"},{\"id\":\"8019650b-4a7f-4611-bb6e-5958c4dff43d\",\"type\":\"GlyphRenderer\"},{\"id\":\"76c711f4-bbb0-43ac-8587-67a1a08e342a\",\"type\":\"GlyphRenderer\"},{\"id\":\"cf2aac73-45c1-42ad-b2d2-791eab80d980\",\"type\":\"GlyphRenderer\"},{\"id\":\"96ed777c-bd24-4875-8fea-4e73b7ac1290\",\"type\":\"GlyphRenderer\"}],\"right\":[{\"id\":\"410d77ae-274e-437b-86b8-497b3a9b074a\",\"type\":\"Legend\"}],\"title\":{\"id\":\"a5be83b5-5668-4981-b96b-9b7950017748\",\"type\":\"Title\"},\"toolbar\":{\"id\":\"109dcbb9-1423-4adb-9b21-d57f055b56ba\",\"type\":\"Toolbar\"},\"x_range\":{\"id\":\"80e41515-1f56-481d-aaef-898758957de6\",\"type\":\"Range1d\"},\"x_scale\":{\"id\":\"e0a98847-87dd-4423-a709-58d146c1fa53\",\"type\":\"LinearScale\"},\"y_range\":{\"id\":\"ee21cc60-accb-43d3-95c9-adb0f3e6e768\",\"type\":\"Range1d\"},\"y_scale\":{\"id\":\"19daa950-ae07-4b12-845c-2391f1aec92a\",\"type\":\"LinearScale\"}},\"id\":\"2ddcdf09-633d-4f60-9a8f-f8959eaeebcd\",\"subtype\":\"Figure\",\"type\":\"Plot\"},{\"attributes\":{},\"id\":\"38c4b9a6-bd52-462d-bc8d-3455c825e93b\",\"type\":\"Selection\"},{\"attributes\":{\"source\":{\"id\":\"ed549c27-7ba2-4a83-9f77-6ad6fc49e5e3\",\"type\":\"ColumnDataSource\"}},\"id\":\"1aa2bfe1-f74a-49df-8d14-c789b8c45c12\",\"type\":\"CDSView\"},{\"attributes\":{\"plot\":null,\"text\":\"Teams Points per Season\"},\"id\":\"a5be83b5-5668-4981-b96b-9b7950017748\",\"type\":\"Title\"},{\"attributes\":{\"callback\":null,\"end\":2020,\"start\":1940},\"id\":\"80e41515-1f56-481d-aaef-898758957de6\",\"type\":\"Range1d\"},{\"attributes\":{\"data_source\":{\"id\":\"ed549c27-7ba2-4a83-9f77-6ad6fc49e5e3\",\"type\":\"ColumnDataSource\"},\"glyph\":{\"id\":\"aea5d7c8-1735-461d-8ada-39b389cc1331\",\"type\":\"Circle\"},\"hover_glyph\":null,\"muted_glyph\":null,\"nonselection_glyph\":{\"id\":\"ef41e1c9-3255-4d0d-a00f-6e440f01ba86\",\"type\":\"Circle\"},\"selection_glyph\":null,\"view\":{\"id\":\"1aa2bfe1-f74a-49df-8d14-c789b8c45c12\",\"type\":\"CDSView\"}},\"id\":\"d2b40edd-55c3-4111-9fac-b52107942883\",\"type\":\"GlyphRenderer\"},{\"attributes\":{\"active_drag\":\"auto\",\"active_inspect\":\"auto\",\"active_scroll\":\"auto\",\"active_tap\":\"auto\",\"tools\":[{\"id\":\"efe83cb9-da87-4565-8c82-a2aa3579e94b\",\"type\":\"HoverTool\"},{\"id\":\"6d4f017a-25ff-41a5-99bd-0d1ba7b5b2b3\",\"type\":\"PanTool\"},{\"id\":\"6fa9cc01-2f0a-4895-998d-5d533cd5a039\",\"type\":\"WheelZoomTool\"},{\"id\":\"9815c533-b112-4e9e-b89c-e34637463c24\",\"type\":\"ResetTool\"}]},\"id\":\"109dcbb9-1423-4adb-9b21-d57f055b56ba\",\"type\":\"Toolbar\"},{\"attributes\":{\"callback\":null,\"end\":40,\"start\":-5},\"id\":\"ee21cc60-accb-43d3-95c9-adb0f3e6e768\",\"type\":\"Range1d\"},{\"attributes\":{},\"id\":\"e0a98847-87dd-4423-a709-58d146c1fa53\",\"type\":\"LinearScale\"},{\"attributes\":{},\"id\":\"19daa950-ae07-4b12-845c-2391f1aec92a\",\"type\":\"LinearScale\"},{\"attributes\":{\"plot\":{\"id\":\"2ddcdf09-633d-4f60-9a8f-f8959eaeebcd\",\"subtype\":\"Figure\",\"type\":\"Plot\"},\"ticker\":{\"id\":\"905cd947-16d5-4b3c-9ce7-4aab5ccfeaee\",\"type\":\"BasicTicker\"}},\"id\":\"41bea9ed-87f8-476e-b1d3-7d403784b614\",\"type\":\"Grid\"},{\"attributes\":{\"axis_label\":\"Season(year)\",\"formatter\":{\"id\":\"527bb2d5-bc8f-41c6-a9cb-f3aceae349bb\",\"type\":\"BasicTickFormatter\"},\"plot\":{\"id\":\"2ddcdf09-633d-4f60-9a8f-f8959eaeebcd\",\"subtype\":\"Figure\",\"type\":\"Plot\"},\"ticker\":{\"id\":\"905cd947-16d5-4b3c-9ce7-4aab5ccfeaee\",\"type\":\"BasicTicker\"}},\"id\":\"6e5dea56-8d4e-4f6e-877c-50a2bc09966d\",\"type\":\"LinearAxis\"},{\"attributes\":{},\"id\":\"905cd947-16d5-4b3c-9ce7-4aab5ccfeaee\",\"type\":\"BasicTicker\"},{\"attributes\":{\"axis_label\":\"Points Per Game\",\"formatter\":{\"id\":\"06b3a443-f846-4396-8ce9-29cd8c637bab\",\"type\":\"BasicTickFormatter\"},\"plot\":{\"id\":\"2ddcdf09-633d-4f60-9a8f-f8959eaeebcd\",\"subtype\":\"Figure\",\"type\":\"Plot\"},\"ticker\":{\"id\":\"e31facd4-8c8b-4ebd-801a-339b271fb14a\",\"type\":\"BasicTicker\"}},\"id\":\"b6db50f6-d12d-4003-88e7-eed941776328\",\"type\":\"LinearAxis\"},{\"attributes\":{},\"id\":\"e31facd4-8c8b-4ebd-801a-339b271fb14a\",\"type\":\"BasicTicker\"},{\"attributes\":{\"dimension\":1,\"plot\":{\"id\":\"2ddcdf09-633d-4f60-9a8f-f8959eaeebcd\",\"subtype\":\"Figure\",\"type\":\"Plot\"},\"ticker\":{\"id\":\"e31facd4-8c8b-4ebd-801a-339b271fb14a\",\"type\":\"BasicTicker\"}},\"id\":\"222c6286-d290-4997-b3e1-42dfa555f042\",\"type\":\"Grid\"},{\"attributes\":{\"source\":{\"id\":\"bce7eaa8-3864-400f-9896-8220846790c3\",\"type\":\"ColumnDataSource\"}},\"id\":\"fd078e0e-64c1-4c23-8b9c-1bc938a439a3\",\"type\":\"CDSView\"},{\"attributes\":{\"data_source\":{\"id\":\"bce7eaa8-3864-400f-9896-8220846790c3\",\"type\":\"ColumnDataSource\"},\"glyph\":{\"id\":\"363f97e0-ea8a-414c-b650-5a2873796e0a\",\"type\":\"Circle\"},\"hover_glyph\":null,\"muted_glyph\":null,\"nonselection_glyph\":{\"id\":\"57f8c6eb-10b5-4c0b-9565-ba616dda941a\",\"type\":\"Circle\"},\"selection_glyph\":null,\"view\":{\"id\":\"fd078e0e-64c1-4c23-8b9c-1bc938a439a3\",\"type\":\"CDSView\"}},\"id\":\"05b6ab3e-e31a-4ec0-98ef-0b55ab8d5dac\",\"type\":\"GlyphRenderer\"},{\"attributes\":{},\"id\":\"6d4f017a-25ff-41a5-99bd-0d1ba7b5b2b3\",\"type\":\"PanTool\"},{\"attributes\":{},\"id\":\"06b3a443-f846-4396-8ce9-29cd8c637bab\",\"type\":\"BasicTickFormatter\"},{\"attributes\":{},\"id\":\"6fa9cc01-2f0a-4895-998d-5d533cd5a039\",\"type\":\"WheelZoomTool\"},{\"attributes\":{},\"id\":\"9815c533-b112-4e9e-b89c-e34637463c24\",\"type\":\"ResetTool\"},{\"attributes\":{\"click_policy\":\"hide\",\"items\":[{\"id\":\"41f7de65-d211-46f1-8313-4cd059ba9527\",\"type\":\"LegendItem\"},{\"id\":\"71d33ce3-06df-4b9f-93b5-f00d34ee17af\",\"type\":\"LegendItem\"},{\"id\":\"cffd6b23-9696-409d-9f1b-d7e3422600e1\",\"type\":\"LegendItem\"},{\"id\":\"0a82debc-3ff7-42b8-981d-46a27f5c2178\",\"type\":\"LegendItem\"},{\"id\":\"a0b056fd-31b2-411d-8b82-06ef8a808722\",\"type\":\"LegendItem\"},{\"id\":\"f368fe0b-6cb9-4bfa-b0c1-01f37ae72343\",\"type\":\"LegendItem\"},{\"id\":\"c30c1427-5a95-4946-9c0d-2abb51df3bb3\",\"type\":\"LegendItem\"},{\"id\":\"8c7aaa17-4619-4e10-9252-ef9afb1ac2f3\",\"type\":\"LegendItem\"},{\"id\":\"99858c4b-d0ff-43e6-97f5-aeb4d2829123\",\"type\":\"LegendItem\"},{\"id\":\"73b0cb9a-9d22-4406-a55f-2dce51ad9a6c\",\"type\":\"LegendItem\"},{\"id\":\"520c8128-3d08-4a86-bc4e-edc5c2992677\",\"type\":\"LegendItem\"},{\"id\":\"6a66cfb0-13c2-4524-8b6b-8d4f8fbe8d11\",\"type\":\"LegendItem\"},{\"id\":\"9dabc061-ad29-4cb0-a22c-fad9a2216fb7\",\"type\":\"LegendItem\"},{\"id\":\"db7a1c9b-2360-4011-bbe8-d08e75052741\",\"type\":\"LegendItem\"},{\"id\":\"ccb2cf37-137b-4407-ad49-c70d13e8d0a7\",\"type\":\"LegendItem\"},{\"id\":\"89fe8df0-694f-464c-9c47-908def6a7487\",\"type\":\"LegendItem\"},{\"id\":\"cbad1d28-a213-44cb-bff9-7b42a148b0f3\",\"type\":\"LegendItem\"}],\"plot\":{\"id\":\"2ddcdf09-633d-4f60-9a8f-f8959eaeebcd\",\"subtype\":\"Figure\",\"type\":\"Plot\"}},\"id\":\"410d77ae-274e-437b-86b8-497b3a9b074a\",\"type\":\"Legend\"},{\"attributes\":{},\"id\":\"527bb2d5-bc8f-41c6-a9cb-f3aceae349bb\",\"type\":\"BasicTickFormatter\"},{\"attributes\":{\"label\":{\"value\":\"Lakers\"},\"renderers\":[{\"id\":\"05b6ab3e-e31a-4ec0-98ef-0b55ab8d5dac\",\"type\":\"GlyphRenderer\"},{\"id\":\"9c411c7a-f95f-4586-940b-e897055be956\",\"type\":\"GlyphRenderer\"}]},\"id\":\"41f7de65-d211-46f1-8313-4cd059ba9527\",\"type\":\"LegendItem\"},{\"attributes\":{\"fill_alpha\":{\"value\":0.2},\"fill_color\":{\"value\":\"dodgerblue\"},\"line_alpha\":{\"value\":0.2},\"line_color\":{\"value\":\"dodgerblue\"},\"x\":{\"field\":\"x\"},\"y\":{\"field\":\"a\"}},\"id\":\"c9d6401c-e27c-4b32-931f-2b34a4452d09\",\"type\":\"Circle\"},{\"attributes\":{\"fill_color\":{\"value\":\"Gold\"},\"line_color\":{\"value\":\"Gold\"},\"size\":{\"units\":\"screen\",\"value\":10},\"x\":{\"field\":\"x\"},\"y\":{\"field\":\"a\"}},\"id\":\"890de13c-b3ec-4018-b158-945a074b0c17\",\"type\":\"Circle\"},{\"attributes\":{\"source\":{\"id\":\"969df391-c4c3-47a4-8974-1aae09d04887\",\"type\":\"ColumnDataSource\"}},\"id\":\"5be8119b-9774-4e85-98ac-2e2476386cfd\",\"type\":\"CDSView\"},{\"attributes\":{\"fill_alpha\":{\"value\":0.1},\"fill_color\":{\"value\":\"#1f77b4\"},\"line_alpha\":{\"value\":0.1},\"line_color\":{\"value\":\"#1f77b4\"},\"x\":{\"field\":\"x\"},\"y\":{\"field\":\"a\"}},\"id\":\"ef41e1c9-3255-4d0d-a00f-6e440f01ba86\",\"type\":\"Circle\"},{\"attributes\":{\"fill_alpha\":{\"value\":0.1},\"fill_color\":{\"value\":\"#1f77b4\"},\"line_alpha\":{\"value\":0.1},\"line_color\":{\"value\":\"#1f77b4\"},\"size\":{\"units\":\"screen\",\"value\":10},\"x\":{\"field\":\"x\"},\"y\":{\"field\":\"a\"}},\"id\":\"2b968855-eb85-4da0-8321-567d5d944ba7\",\"type\":\"Circle\"},{\"attributes\":{\"data_source\":{\"id\":\"969df391-c4c3-47a4-8974-1aae09d04887\",\"type\":\"ColumnDataSource\"},\"glyph\":{\"id\":\"890de13c-b3ec-4018-b158-945a074b0c17\",\"type\":\"Circle\"},\"hover_glyph\":null,\"muted_glyph\":null,\"nonselection_glyph\":{\"id\":\"2b968855-eb85-4da0-8321-567d5d944ba7\",\"type\":\"Circle\"},\"selection_glyph\":null,\"view\":{\"id\":\"5be8119b-9774-4e85-98ac-2e2476386cfd\",\"type\":\"CDSView\"}},\"id\":\"9c411c7a-f95f-4586-940b-e897055be956\",\"type\":\"GlyphRenderer\"},{\"attributes\":{},\"id\":\"78067d38-1921-4cb5-b252-30d02d7e0167\",\"type\":\"Selection\"},{\"attributes\":{},\"id\":\"8ba1e656-11af-47ca-be3b-d1751c0f9493\",\"type\":\"UnionRenderers\"},{\"attributes\":{\"fill_alpha\":{\"value\":0.4},\"fill_color\":{\"value\":\"red\"},\"line_alpha\":{\"value\":0.4},\"line_color\":{\"value\":\"red\"},\"x\":{\"field\":\"x\"},\"y\":{\"field\":\"a\"}},\"id\":\"aea5d7c8-1735-461d-8ada-39b389cc1331\",\"type\":\"Circle\"},{\"attributes\":{},\"id\":\"d1cd6667-a364-48b5-be0e-7441bb9592f4\",\"type\":\"Selection\"},{\"attributes\":{\"data_source\":{\"id\":\"23816bdd-51b1-41cf-9f5f-86122c5d6fc8\",\"type\":\"ColumnDataSource\"},\"glyph\":{\"id\":\"c9d6401c-e27c-4b32-931f-2b34a4452d09\",\"type\":\"Circle\"},\"hover_glyph\":null,\"muted_glyph\":null,\"nonselection_glyph\":{\"id\":\"e235820e-fd5a-4dec-a8e9-792a6a3f3b18\",\"type\":\"Circle\"},\"selection_glyph\":null,\"view\":{\"id\":\"a38ce55b-e0ff-4845-92d2-8356aae331cf\",\"type\":\"CDSView\"}},\"id\":\"a89080b6-ede4-4ce8-abed-c5aec14f6928\",\"type\":\"GlyphRenderer\"},{\"attributes\":{\"source\":{\"id\":\"23816bdd-51b1-41cf-9f5f-86122c5d6fc8\",\"type\":\"ColumnDataSource\"}},\"id\":\"a38ce55b-e0ff-4845-92d2-8356aae331cf\",\"type\":\"CDSView\"},{\"attributes\":{\"fill_alpha\":{\"value\":0.2},\"fill_color\":{\"value\":\"black\"},\"line_alpha\":{\"value\":0.2},\"size\":{\"units\":\"screen\",\"value\":15},\"x\":{\"field\":\"x\"},\"y\":{\"field\":\"a\"}},\"id\":\"b5d717ad-1524-4d58-8ad1-92ac3e5aa220\",\"type\":\"CircleCross\"},{\"attributes\":{\"fill_alpha\":{\"value\":0.1},\"fill_color\":{\"value\":\"#1f77b4\"},\"line_alpha\":{\"value\":0.1},\"line_color\":{\"value\":\"#1f77b4\"},\"x\":{\"field\":\"x\"},\"y\":{\"field\":\"a\"}},\"id\":\"e235820e-fd5a-4dec-a8e9-792a6a3f3b18\",\"type\":\"Circle\"},{\"attributes\":{},\"id\":\"b5f8bba0-99a0-4b0a-90f5-8623af9dddec\",\"type\":\"UnionRenderers\"},{\"attributes\":{\"label\":{\"value\":\"Warriors\"},\"renderers\":[{\"id\":\"a89080b6-ede4-4ce8-abed-c5aec14f6928\",\"type\":\"GlyphRenderer\"},{\"id\":\"d0281c54-6ddc-408c-8411-af4fbc6178ef\",\"type\":\"GlyphRenderer\"}]},\"id\":\"71d33ce3-06df-4b9f-93b5-f00d34ee17af\",\"type\":\"LegendItem\"},{\"attributes\":{\"data_source\":{\"id\":\"ca899111-d82e-47e8-bfa9-34acac0d9002\",\"type\":\"ColumnDataSource\"},\"glyph\":{\"id\":\"b776c2df-fd87-4f8c-b2df-cb65abf8290b\",\"type\":\"Circle\"},\"hover_glyph\":null,\"muted_glyph\":null,\"nonselection_glyph\":{\"id\":\"2a7dd23f-9890-4eea-b172-a1b58c59038b\",\"type\":\"Circle\"},\"selection_glyph\":null,\"view\":{\"id\":\"af04177b-b7f3-421b-bb2c-ce7dffb19453\",\"type\":\"CDSView\"}},\"id\":\"22d529b7-3e62-4876-92ae-4b54b25a5c8c\",\"type\":\"GlyphRenderer\"},{\"attributes\":{\"fill_color\":{\"value\":\"dodgerblue\"},\"line_color\":{\"value\":\"dodgerblue\"},\"size\":{\"units\":\"screen\",\"value\":10},\"x\":{\"field\":\"x\"},\"y\":{\"field\":\"a\"}},\"id\":\"5937ee86-7337-44b2-966b-a6927976fdc1\",\"type\":\"Circle\"},{\"attributes\":{\"source\":{\"id\":\"be2b5032-b224-4ee4-82dc-021bd433dc41\",\"type\":\"ColumnDataSource\"}},\"id\":\"9018b0f3-3516-4aa8-8163-118b06037a71\",\"type\":\"CDSView\"},{\"attributes\":{\"data_source\":{\"id\":\"be2b5032-b224-4ee4-82dc-021bd433dc41\",\"type\":\"ColumnDataSource\"},\"glyph\":{\"id\":\"5937ee86-7337-44b2-966b-a6927976fdc1\",\"type\":\"Circle\"},\"hover_glyph\":null,\"muted_glyph\":null,\"nonselection_glyph\":{\"id\":\"d1902ffb-0c47-4bec-a0a7-034174d45b75\",\"type\":\"Circle\"},\"selection_glyph\":null,\"view\":{\"id\":\"9018b0f3-3516-4aa8-8163-118b06037a71\",\"type\":\"CDSView\"}},\"id\":\"d0281c54-6ddc-408c-8411-af4fbc6178ef\",\"type\":\"GlyphRenderer\"},{\"attributes\":{\"fill_alpha\":{\"value\":0.1},\"fill_color\":{\"value\":\"#1f77b4\"},\"line_alpha\":{\"value\":0.1},\"line_color\":{\"value\":\"#1f77b4\"},\"size\":{\"units\":\"screen\",\"value\":10},\"x\":{\"field\":\"x\"},\"y\":{\"field\":\"a\"}},\"id\":\"d1902ffb-0c47-4bec-a0a7-034174d45b75\",\"type\":\"Circle\"},{\"attributes\":{},\"id\":\"56f8706b-56fe-4091-912d-df15486ab198\",\"type\":\"Selection\"},{\"attributes\":{},\"id\":\"dddb5292-143c-41cb-a1d8-3993a039a050\",\"type\":\"UnionRenderers\"},{\"attributes\":{\"data_source\":{\"id\":\"b9969fe5-912d-4a34-acb2-7f9edcdf0d45\",\"type\":\"ColumnDataSource\"},\"glyph\":{\"id\":\"b5d717ad-1524-4d58-8ad1-92ac3e5aa220\",\"type\":\"CircleCross\"},\"hover_glyph\":null,\"muted_glyph\":null,\"nonselection_glyph\":{\"id\":\"4609d6d8-a296-4073-806b-8991a63d635d\",\"type\":\"CircleCross\"},\"selection_glyph\":null,\"view\":{\"id\":\"40b474ba-0283-47e6-abc3-90ebb653189c\",\"type\":\"CDSView\"}},\"id\":\"91faa622-cb56-44b1-a866-f76420f8bb7a\",\"type\":\"GlyphRenderer\"},{\"attributes\":{\"source\":{\"id\":\"b9969fe5-912d-4a34-acb2-7f9edcdf0d45\",\"type\":\"ColumnDataSource\"}},\"id\":\"40b474ba-0283-47e6-abc3-90ebb653189c\",\"type\":\"CDSView\"},{\"attributes\":{},\"id\":\"4a64b347-12f3-49a7-809e-abd24df63b9b\",\"type\":\"Selection\"},{\"attributes\":{},\"id\":\"728ed720-1c0a-42ab-8ead-bcc2ac7f1d80\",\"type\":\"Selection\"},{\"attributes\":{},\"id\":\"18c60738-7a63-4fe6-8cc0-a68733c81869\",\"type\":\"Selection\"},{\"attributes\":{\"fill_alpha\":{\"value\":0.1},\"fill_color\":{\"value\":\"#1f77b4\"},\"line_alpha\":{\"value\":0.1},\"line_color\":{\"value\":\"#1f77b4\"},\"size\":{\"units\":\"screen\",\"value\":15},\"x\":{\"field\":\"x\"},\"y\":{\"field\":\"a\"}},\"id\":\"4609d6d8-a296-4073-806b-8991a63d635d\",\"type\":\"CircleCross\"},{\"attributes\":{},\"id\":\"368a12f2-659f-4c39-baaa-857ef8da18e7\",\"type\":\"UnionRenderers\"},{\"attributes\":{},\"id\":\"ab1245a5-76b8-4d6f-b9cb-802b20433c98\",\"type\":\"UnionRenderers\"},{\"attributes\":{\"fill_color\":{\"value\":\"red\"},\"line_color\":{\"value\":\"red\"},\"size\":{\"units\":\"screen\",\"value\":10},\"x\":{\"field\":\"x\"},\"y\":{\"field\":\"a\"}},\"id\":\"4ce53215-ce10-4097-b8c3-8ea3ccda39a8\",\"type\":\"Circle\"},{\"attributes\":{\"label\":{\"value\":\"Warrior Dynasty\"},\"renderers\":[{\"id\":\"91faa622-cb56-44b1-a866-f76420f8bb7a\",\"type\":\"GlyphRenderer\"}]},\"id\":\"cffd6b23-9696-409d-9f1b-d7e3422600e1\",\"type\":\"LegendItem\"},{\"attributes\":{},\"id\":\"3487bd6b-8ca4-447d-9ae7-016ab31cf166\",\"type\":\"UnionRenderers\"},{\"attributes\":{\"source\":{\"id\":\"ca899111-d82e-47e8-bfa9-34acac0d9002\",\"type\":\"ColumnDataSource\"}},\"id\":\"af04177b-b7f3-421b-bb2c-ce7dffb19453\",\"type\":\"CDSView\"},{\"attributes\":{\"label\":{\"value\":\"Rockets\"},\"renderers\":[{\"id\":\"d2b40edd-55c3-4111-9fac-b52107942883\",\"type\":\"GlyphRenderer\"},{\"id\":\"e12ed2d7-a8d8-41ab-accc-9d8a08861029\",\"type\":\"GlyphRenderer\"}]},\"id\":\"0a82debc-3ff7-42b8-981d-46a27f5c2178\",\"type\":\"LegendItem\"},{\"attributes\":{\"source\":{\"id\":\"d2ca43ca-7243-46ae-98b3-2eeaf237266d\",\"type\":\"ColumnDataSource\"}},\"id\":\"df169dcc-6751-4ec9-a7ce-8719d010947e\",\"type\":\"CDSView\"},{\"attributes\":{\"data_source\":{\"id\":\"d2ca43ca-7243-46ae-98b3-2eeaf237266d\",\"type\":\"ColumnDataSource\"},\"glyph\":{\"id\":\"4ce53215-ce10-4097-b8c3-8ea3ccda39a8\",\"type\":\"Circle\"},\"hover_glyph\":null,\"muted_glyph\":null,\"nonselection_glyph\":{\"id\":\"30289bdf-1470-4393-bef7-844b3b094314\",\"type\":\"Circle\"},\"selection_glyph\":null,\"view\":{\"id\":\"df169dcc-6751-4ec9-a7ce-8719d010947e\",\"type\":\"CDSView\"}},\"id\":\"e12ed2d7-a8d8-41ab-accc-9d8a08861029\",\"type\":\"GlyphRenderer\"},{\"attributes\":{\"fill_alpha\":{\"value\":0.1},\"fill_color\":{\"value\":\"#1f77b4\"},\"line_alpha\":{\"value\":0.1},\"line_color\":{\"value\":\"#1f77b4\"},\"size\":{\"units\":\"screen\",\"value\":10},\"x\":{\"field\":\"x\"},\"y\":{\"field\":\"a\"}},\"id\":\"30289bdf-1470-4393-bef7-844b3b094314\",\"type\":\"Circle\"},{\"attributes\":{},\"id\":\"82edd59a-88fe-4110-8f10-9954207b332a\",\"type\":\"UnionRenderers\"}],\"root_ids\":[\"3fd80293-ff37-4e9b-ac43-b425fe5b605e\"]},\"title\":\"Bokeh Application\",\"version\":\"0.12.16\"}};\n",
       "  var render_items = [{\"docid\":\"29e44082-c96a-4df1-a3bb-4601d70732b2\",\"elementid\":\"d41fa108-ad2b-478a-8a3c-4db1526c21aa\",\"modelid\":\"3fd80293-ff37-4e9b-ac43-b425fe5b605e\"}];\n",
       "  root.Bokeh.embed.embed_items_notebook(docs_json, render_items);\n",
       "\n",
       "  }\n",
       "  if (root.Bokeh !== undefined) {\n",
       "    embed_document(root);\n",
       "  } else {\n",
       "    var attempts = 0;\n",
       "    var timer = setInterval(function(root) {\n",
       "      if (root.Bokeh !== undefined) {\n",
       "        embed_document(root);\n",
       "        clearInterval(timer);\n",
       "      }\n",
       "      attempts++;\n",
       "      if (attempts > 100) {\n",
       "        console.log(\"Bokeh: ERROR: Unable to run BokehJS code because BokehJS library is missing\")\n",
       "        clearInterval(timer);\n",
       "      }\n",
       "    }, 10, root)\n",
       "  }\n",
       "})(window);"
      ],
      "application/vnd.bokehjs_exec.v0+json": ""
     },
     "metadata": {
      "application/vnd.bokehjs_exec.v0+json": {
       "id": "3fd80293-ff37-4e9b-ac43-b425fe5b605e"
      }
     },
     "output_type": "display_data"
    }
   ],
   "source": [
    "\n",
    "import pandas as pd\n",
    "from bokeh.models import ColumnDataSource\n",
    "from bokeh.models import HoverTool\n",
    "from bokeh.models import LinearInterpolator\n",
    "from bokeh.models import CategoricalColorMapper\n",
    "from bokeh.io import show \n",
    "from bokeh.models import Circle\n",
    "from bokeh.plotting import figure\n",
    "from bokeh.palettes import Set1_9\n",
    "from bokeh.io import output_notebook\n",
    "output_notebook()\n",
    "\n",
    "\n",
    "\n",
    "datalakers = pd.read_csv('nba-players-stats/LakersOF.csv',index_col=[\"Rank\"])\n",
    "datawarriors = pd.read_csv('nba-players-stats/WarriorsOF.csv',index_col=[\"Rank\"])\n",
    "#datawarriorschamp = pd.read_csv('nba-players-stats/WarriorsChamp.csv',index_col=[\"Rank\"])\n",
    "datarockets = pd.read_csv('nba-players-stats/RocketsOF.csv',index_col=[\"Rank\"])\n",
    "databoston = pd.read_csv('nba-players-stats/BostonOF.csv',index_col=[\"Rank\"])\n",
    "databull = pd.read_csv('nba-players-stats/ChicagoBullsOF.csv',index_col=[\"Rank\"])\n",
    "datapiston = pd.read_csv('nba-players-stats/detOF.csv',index_col=[\"Rank\"])\n",
    "databuck = pd.read_csv('nba-players-stats/BuckOF.csv',index_col=[\"Rank\"])\n",
    "datacle = pd.read_csv('nba-players-stats/CleOF.csv',index_col=[\"Rank\"])\n",
    "datawash = pd.read_csv('nba-players-stats/washOF.csv',index_col=[\"Rank\"])\n",
    "dataatl = pd.read_csv('nba-players-stats/atlOF.csv',index_col=[\"Rank\"])\n",
    "datanyk = pd.read_csv('nba-players-stats/nykOF.csv',index_col=[\"Rank\"])\n",
    "dataokc = pd.read_csv('nba-players-stats/okcOF.csv',index_col=[\"Rank\"])\n",
    "dataheat = pd.read_csv('nba-players-stats/HeatOF.csv',index_col=[\"Rank\"])\n",
    "dataspurs = pd.read_csv('nba-players-stats/SpursOF.csv',index_col=[\"Rank\"])\n",
    "datasixer = pd.read_csv('nba-players-stats/sixerOF.csv',index_col=[\"Rank\"])\n",
    "datakings = pd.read_csv('nba-players-stats/kingsOF.csv',index_col=[\"Rank\"])\n",
    "##\n",
    "datawarriorsC = pd.read_csv('nba-players-stats/WarriorsOF1.csv',index_col=[\"Rank\"])\n",
    "datawarriorschamp = pd.read_csv('nba-players-stats/WarriorsChamp.csv',index_col=[\"Rank\"])\n",
    "datarocketsC = pd.read_csv('nba-players-stats/RocketsOF1.csv',index_col=[\"Rank\"])\n",
    "databostonC = pd.read_csv('nba-players-stats/BostonOF1.csv',index_col=[\"Rank\"])\n",
    "databullC = pd.read_csv('nba-players-stats/ChicagoBullsOF1.csv',index_col=[\"Rank\"])\n",
    "datapistonC = pd.read_csv('nba-players-stats/detOF1.csv',index_col=[\"Rank\"])\n",
    "databuckC = pd.read_csv('nba-players-stats/BuckOF1.csv',index_col=[\"Rank\"])\n",
    "datacleC = pd.read_csv('nba-players-stats/CleOF1.csv',index_col=[\"Rank\"])\n",
    "datawashC = pd.read_csv('nba-players-stats/washOF1.csv',index_col=[\"Rank\"])\n",
    "dataatlC = pd.read_csv('nba-players-stats/atlOF1.csv',index_col=[\"Rank\"])\n",
    "datanykC = pd.read_csv('nba-players-stats/nykOF1.csv',index_col=[\"Rank\"])\n",
    "dataokcC = pd.read_csv('nba-players-stats/okcOF1.csv',index_col=[\"Rank\"])\n",
    "dataheatC = pd.read_csv('nba-players-stats/HeatOF1.csv',index_col=[\"Rank\"])\n",
    "dataspursC = pd.read_csv('nba-players-stats/SpursOF1.csv',index_col=[\"Rank\"])\n",
    "datasixerC = pd.read_csv('nba-players-stats/sixerOF1.csv',index_col=[\"Rank\"])\n",
    "datakingsC = pd.read_csv('nba-players-stats/kingsOF1.csv',index_col=[\"Rank\"])\n",
    "datalakersChamps = pd.read_csv('nba-players-stats/LakersOF1.csv',index_col=[\"Rank\"])\n",
    "\n",
    "\n",
    "\n",
    "\n",
    "lakers  = ColumnDataSource(dict(\n",
    "    y = datalakers.PTS,  \n",
    "    x = datalakers.Season,\n",
    "    wins = datalakers.W,\n",
    "    team = datalakers.Tm,\n",
    "    a = datalakers.AST\n",
    "))\n",
    "lakersChamps  = ColumnDataSource(dict(\n",
    "    y = datalakersChamps.PTS,  \n",
    "    x = datalakersChamps.Season,\n",
    "    wins = datalakersChamps.W,\n",
    "    team = datalakersChamps.Tm,\n",
    "    a = datalakersChamps.AST\n",
    "))\n",
    "\n",
    "warriors  = ColumnDataSource(dict(\n",
    "    y = datawarriors.PTS,  \n",
    "    x = datawarriors.Season,\n",
    "    wins = datawarriors.W,\n",
    "    team = datawarriors.Tm,\n",
    "    a = datawarriors.AST\n",
    "))\n",
    "warriorschamp = ColumnDataSource(dict(\n",
    "    y = datawarriorschamp.PTS,  \n",
    "    x = datawarriorschamp.Season,\n",
    "    wins = datawarriorschamp.W,\n",
    "    team = datawarriorschamp.Tm,\n",
    "    a = datawarriorschamp.AST\n",
    "))\n",
    "warriorsC = ColumnDataSource(dict(\n",
    "    y = datawarriorsC.PTS,  \n",
    "    x = datawarriorsC.Season,\n",
    "    wins = datawarriorsC.W,\n",
    "    team = datawarriorsC.Tm,\n",
    "     a = datawarriorsC.AST\n",
    "))\n",
    "rockets = ColumnDataSource(dict(\n",
    "    y = datarockets.PTS,  \n",
    "    x = datarockets.Season,\n",
    "    wins = datarockets.W,\n",
    "    team = datarockets.Tm,\n",
    "     a = datarockets.AST\n",
    ")) \n",
    "rocketsC = ColumnDataSource(dict(\n",
    "    y = datarocketsC.PTS,  \n",
    "    x = datarocketsC.Season,\n",
    "    wins = datarocketsC.W,\n",
    "    team = datarocketsC.Tm,\n",
    "     a = datarocketsC.AST\n",
    ")) \n",
    "\n",
    "boston = ColumnDataSource(dict(\n",
    "    y = databoston.PTS,  \n",
    "    x = databoston.Season,\n",
    "    wins = databoston.W,\n",
    "    team = databoston.Tm,\n",
    "     a = databoston.AST\n",
    "))\n",
    "bostonC = ColumnDataSource(dict(\n",
    "    y = databostonC.PTS,  \n",
    "    x = databostonC.Season,\n",
    "    wins = databostonC.W,\n",
    "    team = databostonC.Tm,\n",
    "     a = databostonC.AST\n",
    "))\n",
    "bull= ColumnDataSource(dict(\n",
    "    y = databull.PTS,  \n",
    "    x = databull.Season,\n",
    "    wins = databull.W,\n",
    "    team = databull.Tm,\n",
    "     a = databull.AST\n",
    "))\n",
    "bullC= ColumnDataSource(dict(\n",
    "    y = databullC.PTS,  \n",
    "    x = databullC.Season,\n",
    "    wins = databullC.W,\n",
    "    team = databullC.Tm,\n",
    "     a = databullC.AST\n",
    "))\n",
    "piston = ColumnDataSource(dict(\n",
    "    y = datapiston.PTS,  \n",
    "    x = datapiston.Season,\n",
    "     wins = datapiston.W,\n",
    "    team = datapiston.Tm,\n",
    "     a = datapiston.AST\n",
    "))\n",
    "pistonC = ColumnDataSource(dict(\n",
    "    y = datapistonC.PTS,  \n",
    "    x = datapistonC.Season,\n",
    "     wins = datapistonC.W,\n",
    "    team = datapistonC.Tm,\n",
    "     a = datapistonC.AST\n",
    "))\n",
    "buck= ColumnDataSource(dict(\n",
    "    y = databuck.PTS,  \n",
    "    x = databuck.Season,\n",
    "     wins = databuck.W,\n",
    "    team = databuck.Tm,\n",
    "     a = databuck.AST\n",
    "))\n",
    "buckC= ColumnDataSource(dict(\n",
    "    y = databuckC.PTS,  \n",
    "    x = databuckC.Season,\n",
    "     wins = databuckC.W,\n",
    "    team = databuckC.Tm,\n",
    "     a = databuckC.AST\n",
    "))\n",
    "cle= ColumnDataSource(dict(\n",
    "    y = datacle.PTS,  \n",
    "    x = datacle.Season,\n",
    "     wins = datacle.W,\n",
    "    team = datacle.Tm,\n",
    "     a = datacle.AST\n",
    "))\n",
    "cleC= ColumnDataSource(dict(\n",
    "    y = datacleC.PTS,  \n",
    "    x = datacleC.Season,\n",
    "     wins = datacleC.W,\n",
    "    team = datacleC.Tm,\n",
    "     a = datacleC.AST\n",
    "))\n",
    "wash= ColumnDataSource(dict(\n",
    "    y = datawash.PTS,  \n",
    "    x = datawash.Season,\n",
    "     wins = datawash.W,\n",
    "    team = datawash.Tm,\n",
    "     a = datawash.AST\n",
    "))\n",
    "washC= ColumnDataSource(dict(\n",
    "    y = datawashC.PTS,  \n",
    "    x = datawashC.Season,\n",
    "     wins = datawashC.W,\n",
    "    team = datawashC.Tm,\n",
    "     a = datawashC.AST\n",
    "))\n",
    "atl= ColumnDataSource(dict(\n",
    "    y = dataatl.PTS,  \n",
    "    x = dataatl.Season,\n",
    "     wins = dataatl.W,\n",
    "    team = dataatl.Tm,\n",
    "     a = dataatl.AST\n",
    "))\n",
    "atlC= ColumnDataSource(dict(\n",
    "    y = dataatlC.PTS,  \n",
    "    x = dataatlC.Season,\n",
    "     wins = dataatlC.W,\n",
    "    team = dataatlC.Tm,\n",
    "     a = dataatlC.AST\n",
    "))\n",
    "nyk = ColumnDataSource(dict(\n",
    "    y = datanyk.PTS,  \n",
    "    x = datanyk.Season,\n",
    "     wins = datanyk.W,\n",
    "    team = datanyk.Tm,\n",
    "     a = datanyk.AST\n",
    "))\n",
    "nykC = ColumnDataSource(dict(\n",
    "    y = datanykC.PTS,  \n",
    "    x = datanykC.Season,\n",
    "     wins = datanykC.W,\n",
    "    team = datanykC.Tm,\n",
    "     a = datanykC.AST\n",
    "))\n",
    "okc = ColumnDataSource(dict(\n",
    "    y = dataokc.PTS,  \n",
    "    x = dataokc.Season,\n",
    "     wins = dataokc.W,\n",
    "    team = dataokc.Tm,\n",
    "     a = dataokc.AST\n",
    "))\n",
    "okcC = ColumnDataSource(dict(\n",
    "    y = dataokcC.PTS,  \n",
    "    x = dataokcC.Season,\n",
    "     wins = dataokcC.W,\n",
    "    team = dataokcC.Tm,\n",
    "     a = dataokcC.AST\n",
    "))\n",
    "heat = ColumnDataSource(dict(\n",
    "    y = dataheat.PTS,  \n",
    "    x = dataheat.Season,\n",
    "     wins = dataheat.W,\n",
    "    team = dataheat.Tm,\n",
    "     a = dataheat.AST\n",
    "))\n",
    "heatC = ColumnDataSource(dict(\n",
    "    y = dataheatC.PTS,  \n",
    "    x = dataheatC.Season,\n",
    "     wins = dataheatC.W,\n",
    "    team = dataheatC.Tm,\n",
    "     a = dataheatC.AST\n",
    "))\n",
    "spurs = ColumnDataSource(dict(\n",
    "    y = dataspurs.PTS,  \n",
    "    x = dataspurs.Season,\n",
    "     wins = dataspurs.W,\n",
    "    team = dataspurs.Tm,\n",
    "     a = dataspurs.AST\n",
    "))\n",
    "spursC = ColumnDataSource(dict(\n",
    "    y = dataspursC.PTS,  \n",
    "    x = dataspursC.Season,\n",
    "     wins = dataspursC.W,\n",
    "    team = dataspursC.Tm,\n",
    "     a = dataspursC.AST\n",
    "))\n",
    "sixer = ColumnDataSource(dict(\n",
    "    y = datasixer.PTS,  \n",
    "    x = datasixer.Season,\n",
    "     wins = datasixer.W,\n",
    "    team = datasixer.Tm,\n",
    "     a = datasixer.AST\n",
    "))\n",
    "sixerC = ColumnDataSource(dict(\n",
    "    y = datasixerC.PTS,  \n",
    "    x = datasixerC.Season,\n",
    "     wins = datasixerC.W,\n",
    "    team = datasixerC.Tm,\n",
    "     a = datasixerC.AST\n",
    "))\n",
    "kings = ColumnDataSource(dict(\n",
    "    y = datakings.PTS,  \n",
    "    x = datakings.Season,\n",
    "     wins = datakings.W,\n",
    "    team = datakings.Tm,\n",
    "     a = datakings.AST\n",
    "))\n",
    "kingsC = ColumnDataSource(dict(\n",
    "    y = datakingsC.PTS,  \n",
    "    x = datakingsC.Season,\n",
    "     wins = datakingsC.W,\n",
    "    team = datakingsC.Tm,\n",
    "     a = datakingsC.AST\n",
    "))\n",
    "\n",
    "Hover_toolTeamPoints = HoverTool(tooltips = [\n",
    "     ('Season', '@x'),\n",
    "    ('Point Per Game','@y'),\n",
    "    ('Team','@team')\n",
    "    \n",
    "])\n",
    "Hover_tool= HoverTool(tooltips = [\n",
    "     ('Season', '@x'),\n",
    "    ('AST Per Game','@a'),\n",
    "    ('Team','@team')\n",
    "])\n",
    "\n",
    "#####  points \n",
    "\n",
    "a = figure( tools = [Hover_tool,'pan', 'wheel_zoom','reset'],\n",
    "            height = 500,\n",
    "           width = 1000,\n",
    "           x_range = (1940,2020),\n",
    "           y_range=(-5,40),\n",
    "           title = \"Teams Points per Season\",\n",
    "          x_axis_label = \"Season(year)\",\n",
    "           y_axis_label = \"Points Per Game\",         \n",
    "          toolbar_location=\"right\")\n",
    "\n",
    "# pts.line(x = 'x',\n",
    "#          y = 'y',\n",
    "#         # alpha = 0.4,\n",
    "#          legend = 'Lakers',\n",
    "#          line_color = \"Gold\",\n",
    "#         line_width=2,\n",
    "#          source = lakers)\n",
    "a.circle(x = 'x',\n",
    "         y = 'a',\n",
    "           size = 4,\n",
    "        alpha = 0.2,\n",
    "         legend = 'Lakers',\n",
    "         color = \"Gold\",\n",
    "        #line_width=10,\n",
    "         source = lakers)\n",
    "a.circle(x = 'x',\n",
    "         y = 'a',\n",
    "           size = 10,\n",
    "        # alpha = 0.4,\n",
    "         legend = 'Lakers',\n",
    "         color = \"Gold\",\n",
    "        #line_width=10,\n",
    "         source = lakersChamps)\n",
    "# pts.line(x = 'x',\n",
    "#          y = 'y',\n",
    "#          legend = 'Warriors',\n",
    "#          line_color = \"dodgerblue\",\n",
    "#         line_width=2,\n",
    "#          source = warriors)\n",
    "a.circle(x = 'x',\n",
    "         y = 'a',\n",
    "           size = 4,\n",
    "         alpha = 0.2,\n",
    "         legend = 'Warriors',\n",
    "         color = \"dodgerblue\",\n",
    "        #line_width=10,\n",
    "         source = warriors)\n",
    "\n",
    "a.circle(x = 'x',\n",
    "         y = 'a',\n",
    "           size = 10,\n",
    "         #alpha = 0.2,\n",
    "         legend = 'Warriors',\n",
    "         color = \"dodgerblue\",\n",
    "        #line_width=10,\n",
    "         source = warriorsC)\n",
    "# pts.line(x = 'x',\n",
    "#          y = 'y',\n",
    "#          legend = 'Warrior Dynasty',\n",
    "#          line_color = \"Black\",\n",
    "#         line_width=6.5,\n",
    "#          source = warriorschamp)\n",
    "a.circle_cross(x = 'x',\n",
    "         y = 'a',\n",
    "        alpha = 0.2,\n",
    "         legend = 'Warrior Dynasty',\n",
    "         color = \"black\",\n",
    "         size= 15,\n",
    "        #line_width=10,\n",
    "         source = warriorschamp)\n",
    "# pts.line(x = 'x',\n",
    "#          y = 'y',\n",
    "#          legend = 'Rockets',\n",
    "#         line_color = \"red\",\n",
    "#         line_width=2,\n",
    "#          source = rockets)\n",
    "a.circle(x = 'x',\n",
    "         y = 'a',\n",
    "         alpha = 0.4,\n",
    "            size = 4,\n",
    "         legend = 'Rockets',\n",
    "        color = \"red\",\n",
    "        #line_width=10,\n",
    "         source = rockets)\n",
    "a.circle(x = 'x',\n",
    "         y = 'a',\n",
    "        # alpha = 0.4,\n",
    "            size = 10,\n",
    "         legend = 'Rockets',\n",
    "        color = \"red\",\n",
    "        #line_width=10,\n",
    "         source = rocketsC)\n",
    "# pts.line(x = 'x',\n",
    "#          y = 'y',\n",
    "#          legend = 'Boston',\n",
    "#          line_color = \"Green\",\n",
    "#         line_width=2,\n",
    "#          source = boston)\n",
    "a.circle(x = 'x',\n",
    "         y = 'a',\n",
    "         alpha = 0.4,\n",
    "            size = 4,\n",
    "         legend = 'Boston',\n",
    "         color = \"Green\",\n",
    "        #line_width=10,\n",
    "         source = boston)\n",
    "a.circle(x = 'x',\n",
    "         y = 'a',\n",
    "         #alpha = 0.4,\n",
    "            size = 10,\n",
    "         legend = 'Boston',\n",
    "         color = \"Green\",\n",
    "        #line_width=10,\n",
    "         source = bostonC)\n",
    "# pts.line(x = 'x',\n",
    "#          y = 'y',\n",
    "#          legend = 'Bulls',\n",
    "#          line_color = \"Crimson\",\n",
    "#         line_width=2,\n",
    "#          source = bull)\n",
    "a.circle(x = 'x',\n",
    "         y = 'a',\n",
    "         alpha = 0.4,\n",
    "            size = 4,\n",
    "         legend = 'Bulls',\n",
    "         color = 'lightsalmon',\n",
    "        #line_width=10,\n",
    "         source = bull)\n",
    "a.circle(x = 'x',\n",
    "         y = 'a',\n",
    "         #alpha = 0.4,\n",
    "            size = 10,\n",
    "         legend = 'Bulls',\n",
    "         color = 'lightsalmon',\n",
    "        #line_width=10,\n",
    "         source = bullC)\n",
    "# pts.line(x = 'x',\n",
    "#          y = 'y',\n",
    "#          legend = 'Piston',\n",
    "#          line_color = \"royalblue\",\n",
    "#         line_width=2,\n",
    "#          source = piston)\n",
    "a.circle(x = 'x',\n",
    "         y = 'a',\n",
    "         alpha = 0.4,\n",
    "            size = 4,\n",
    "         legend = 'Piston',\n",
    "         color = \"Royalblue\",\n",
    "        #line_width=10,\n",
    "         source = piston)\n",
    "a.circle(x = 'x',\n",
    "         y = 'a',\n",
    "        # alpha = 0.4,\n",
    "            size = 10,\n",
    "         legend = 'Piston',\n",
    "         color = \"Royalblue\",\n",
    "        #line_width=10,\n",
    "         source = pistonC)\n",
    "\n",
    "\n",
    "# pts.line(x = 'x',\n",
    "#          y = 'y',\n",
    "#          legend = 'Buck',\n",
    "#          line_color = \"seagreen\",\n",
    "#         line_width=2,\n",
    "#          source = buck)\n",
    "a.circle(x = 'x',\n",
    "         y = 'a',\n",
    "         alpha = 0.4,\n",
    "            size = 4,\n",
    "         legend = 'Buck',\n",
    "         color = \"seagreen\",\n",
    "        #line_width=10,\n",
    "         source = buck)\n",
    "a.circle(x = 'x',\n",
    "         y = 'a',\n",
    "         #alpha = 0.4,\n",
    "            size = 10,\n",
    "         legend = 'Buck',\n",
    "         color = \"seagreen\",\n",
    "        #line_width=10,\n",
    "         source = buckC)\n",
    "# pts.line(x = 'x',\n",
    "#          y = 'y',\n",
    "#          legend = 'Cavaliers',\n",
    "#          line_color = \"firebrick\",\n",
    "#         line_width=2,\n",
    "#          source = cle)\n",
    "a.circle(x = 'x',\n",
    "         y = 'a',\n",
    "         alpha = 0.4,\n",
    "            size = 4,\n",
    "         legend = 'Cavaliers',\n",
    "         color = \"firebrick\",\n",
    "        #line_width=10,\n",
    "         source = cle)\n",
    "a.circle(x = 'x',\n",
    "         y = 'a',\n",
    "         #alpha = 0.4,\n",
    "            size = 10,\n",
    "         legend = 'Cavaliers',\n",
    "         color = \"firebrick\",\n",
    "        #line_width=10,\n",
    "         source = cleC)\n",
    "# pts.line(x = 'x',\n",
    "#          y = 'y',\n",
    "#          legend = 'Wizards',\n",
    "#          line_color = \"midnightblue\",\n",
    "#         line_width=2,\n",
    "#          source = wash)\n",
    "a.circle(x = 'x',\n",
    "         y = 'a',\n",
    "         alpha = 0.4,\n",
    "            size = 4,\n",
    "         legend = 'Wizards',\n",
    "         color = \"midnightblue\",\n",
    "        #line_width=10,\n",
    "         source = wash)\n",
    "a.circle(x = 'x',\n",
    "         y = 'a',\n",
    "         #alpha = 0.4,\n",
    "            size = 10,\n",
    "         legend = 'Wizards',\n",
    "         color = \"midnightblue\",\n",
    "        #line_width=10,\n",
    "         source = washC)\n",
    "# pts.line(x = 'x',\n",
    "#          y = 'y',\n",
    "#          legend = 'Hawks',\n",
    "#          line_color = \"brown\",\n",
    "#         line_width=2,\n",
    "#          source = atl)\n",
    "a.circle(x = 'x',\n",
    "         y = 'a',\n",
    "            size = 4,\n",
    "         alpha = 0.4,\n",
    "         legend = 'Hawks',\n",
    "         color = \"brown\",\n",
    "        #line_width=10,\n",
    "         source = atl)\n",
    "a.circle(x = 'x',\n",
    "         y = 'a',\n",
    "            size = 10,\n",
    "         #alpha = 0.4,\n",
    "         legend = 'Hawks',\n",
    "         color = \"brown\",\n",
    "        #line_width=10,\n",
    "         source = atlC)\n",
    "# pts.line(x = 'x',\n",
    "#          y = 'y',\n",
    "#          legend = 'Knicks',\n",
    "#          line_color = \"Orange\",\n",
    "#         line_width=2,\n",
    "#          source = nyk)\n",
    "a.circle(x = 'x',\n",
    "         y = 'a',\n",
    "            size = 4,\n",
    "         alpha = 0.4,\n",
    "         legend = 'Knicks',\n",
    "         color = \"Orange\",\n",
    "        #line_width=10,\n",
    "         source = nyk)\n",
    "a.circle(x = 'x',\n",
    "         y = 'a',\n",
    "            size = 10,\n",
    "        # alpha = 0.4,\n",
    "         legend = 'Knicks',\n",
    "         color = \"Orange\",\n",
    "        #line_width=10,\n",
    "         source = nykC)\n",
    "# pts.line(x = 'x',\n",
    "#          y = 'y',\n",
    "#          alpha = 0.9,\n",
    "#          legend = 'Thunder',\n",
    "#          line_color = \"cyan\",\n",
    "#         line_width=2,\n",
    "#          source = okc)\n",
    "a.circle(x = 'x',\n",
    "         y = 'a',\n",
    "         alpha = 0.4,\n",
    "            size = 4,\n",
    "         legend = 'Thunder',\n",
    "         color = \"cyan\",\n",
    "        #line_width=10,\n",
    "         source = okc)\n",
    "a.circle(x = 'x',\n",
    "         y = 'a',\n",
    "        # alpha = 0.9,\n",
    "            size = 10,\n",
    "         legend = 'Thunder',\n",
    "         color = \"cyan\",\n",
    "        #line_width=10,\n",
    "         source = okcC)\n",
    "# pts.line(x = 'x',\n",
    "#          y = 'y',\n",
    "#          legend = 'Heat',\n",
    "#          line_color = \"tan\",\n",
    "#         line_width=2,\n",
    "#          source = heat)\n",
    "a.circle(x = 'x',\n",
    "         y = 'a',\n",
    "            size = 4,\n",
    "         alpha = 0.4,\n",
    "         legend = 'Heat',\n",
    "         color = \"tan\",\n",
    "        #line_width=10,\n",
    "         source = heat)\n",
    "a.circle(x = 'x',\n",
    "         y = 'a',\n",
    "            size = 10,\n",
    "         #alpha = 0.4,\n",
    "         legend = 'Heat',\n",
    "         color = \"tan\",\n",
    "        #line_width=10,\n",
    "         source = heatC)\n",
    "# pts.line(x = 'x',\n",
    "#          y = 'y',\n",
    "#          legend = 'Spurs',\n",
    "#          line_color = \"grey\",\n",
    "#         line_width=2,\n",
    "#          source = spurs)\n",
    "a.circle(x = 'x',\n",
    "         y = 'a',\n",
    "            size = 4,\n",
    "         alpha = 0.4,\n",
    "         legend = 'Spurs',\n",
    "         color = \"grey\",\n",
    "        #line_width=10,\n",
    "         source = spurs)\n",
    "a.circle(x = 'x',\n",
    "         y = 'a',\n",
    "            size = 10,\n",
    "         #alpha = 0.4,\n",
    "         legend = 'Spurs',\n",
    "         color = \"grey\",\n",
    "        #line_width=10,\n",
    "         source = spursC)\n",
    "# pts.line(x = 'x',\n",
    "#          y = 'y',\n",
    "#          legend = 'Sixer',\n",
    "#          line_color = \"blue\",\n",
    "#         line_width=2,\n",
    "#          source = sixer)\n",
    "a.circle(x = 'x',\n",
    "         y = 'a',\n",
    "            size = 4,\n",
    "         #alpha = 0.4,\n",
    "         legend = 'Sixer',\n",
    "         color = \"blue\",\n",
    "        #line_width=10,\n",
    "         source = sixer)\n",
    "a.circle(x = 'x',\n",
    "         y = 'a',\n",
    "            size = 10,\n",
    "         #alpha = 0.4,\n",
    "         legend = 'Sixer',\n",
    "         color = \"blue\",\n",
    "        #line_width=10,\n",
    "         source = sixerC)\n",
    "# pts.line(x = 'x',\n",
    "#          y = 'y',\n",
    "#          legend = 'Kings',\n",
    "#          line_color = \"Violet\",\n",
    "#         line_width=2,\n",
    "#          source = kings)\n",
    "a.circle(x = 'x',\n",
    "         y = 'a',\n",
    "            size = 4,\n",
    "         alpha = 0.4,\n",
    "         legend = 'Kings',\n",
    "         color = \"Violet\",\n",
    "        #line_width=10,\n",
    "         source = kings)\n",
    "a.circle(x = 'x',\n",
    "         y = 'a',\n",
    "            size = 10,\n",
    "         #alpha = 0.4,\n",
    "         legend = 'Kings',\n",
    "         color = \"Violet\",\n",
    "        #line_width=10,\n",
    "         source = kingsC)\n",
    "\n",
    "pts= figure( tools = [Hover_toolTeamPoints,'pan', 'wheel_zoom','reset'],\n",
    "            height = 500,\n",
    "           width = 1000,\n",
    "           x_range = (1940,2020),\n",
    "           y_range=(55,140),\n",
    "           title = \"Teams Points per Season\",\n",
    "          x_axis_label = \"Season(year)\",\n",
    "           y_axis_label = \"Points Per Game\",         \n",
    "          toolbar_location=\"right\")\n",
    "\n",
    "# pts.line(x = 'x',\n",
    "#          y = 'y',\n",
    "#         # alpha = 0.4,\n",
    "#          legend = 'Lakers',\n",
    "#          line_color = \"Gold\",\n",
    "#         line_width=2,\n",
    "#          source = lakers)\n",
    "pts.circle(x = 'x',\n",
    "         y = 'y',\n",
    "           size = 4,\n",
    "        alpha = 0.2,\n",
    "         legend = 'Lakers',\n",
    "         color = \"Gold\",\n",
    "        #line_width=10,\n",
    "         source = lakers)\n",
    "pts.circle(x = 'x',\n",
    "         y = 'y',\n",
    "           size = 10,\n",
    "        # alpha = 0.4,\n",
    "         legend = 'Lakers',\n",
    "         color = \"Gold\",\n",
    "        #line_width=10,\n",
    "         source = lakersChamps)\n",
    "# pts.line(x = 'x',\n",
    "#          y = 'y',\n",
    "#          legend = 'Warriors',\n",
    "#          line_color = \"dodgerblue\",\n",
    "#         line_width=2,\n",
    "#          source = warriors)\n",
    "pts.circle(x = 'x',\n",
    "         y = 'y',\n",
    "           size = 4,\n",
    "         alpha = 0.2,\n",
    "         legend = 'Warriors',\n",
    "         color = \"dodgerblue\",\n",
    "        #line_width=10,\n",
    "         source = warriors)\n",
    "\n",
    "pts.circle(x = 'x',\n",
    "         y = 'y',\n",
    "           size = 10,\n",
    "         #alpha = 0.2,\n",
    "         legend = 'Warriors',\n",
    "         color = \"dodgerblue\",\n",
    "        #line_width=10,\n",
    "         source = warriorsC)\n",
    "# pts.line(x = 'x',\n",
    "#          y = 'y',\n",
    "#          legend = 'Warrior Dynasty',\n",
    "#          line_color = \"Black\",\n",
    "#         line_width=6.5,\n",
    "#          source = warriorschamp)\n",
    "pts.circle_cross(x = 'x',\n",
    "         y = 'y',\n",
    "        alpha = 0.2,\n",
    "         legend = 'Warrior Dynasty',\n",
    "         color = \"black\",\n",
    "         size= 15,\n",
    "        #line_width=10,\n",
    "         source = warriorschamp)\n",
    "# pts.line(x = 'x',\n",
    "#          y = 'y',\n",
    "#          legend = 'Rockets',\n",
    "#         line_color = \"red\",\n",
    "#         line_width=2,\n",
    "#          source = rockets)\n",
    "pts.circle(x = 'x',\n",
    "         y = 'y',\n",
    "         alpha = 0.4,\n",
    "            size = 4,\n",
    "         legend = 'Rockets',\n",
    "        color = \"red\",\n",
    "        #line_width=10,\n",
    "         source = rockets)\n",
    "pts.circle(x = 'x',\n",
    "         y = 'y',\n",
    "        # alpha = 0.4,\n",
    "            size = 10,\n",
    "         legend = 'Rockets',\n",
    "        color = \"red\",\n",
    "        #line_width=10,\n",
    "         source = rocketsC)\n",
    "# pts.line(x = 'x',\n",
    "#          y = 'y',\n",
    "#          legend = 'Boston',\n",
    "#          line_color = \"Green\",\n",
    "#         line_width=2,\n",
    "#          source = boston)\n",
    "pts.circle(x = 'x',\n",
    "         y = 'y',\n",
    "         alpha = 0.4,\n",
    "            size = 4,\n",
    "         legend = 'Boston',\n",
    "         color = \"Green\",\n",
    "        #line_width=10,\n",
    "         source = boston)\n",
    "pts.circle(x = 'x',\n",
    "         y = 'y',\n",
    "         #alpha = 0.4,\n",
    "            size = 10,\n",
    "         legend = 'Boston',\n",
    "         color = \"Green\",\n",
    "        #line_width=10,\n",
    "         source = bostonC)\n",
    "# pts.line(x = 'x',\n",
    "#          y = 'y',\n",
    "#          legend = 'Bulls',\n",
    "#          line_color = \"Crimson\",\n",
    "#         line_width=2,\n",
    "#          source = bull)\n",
    "pts.circle(x = 'x',\n",
    "         y = 'y',\n",
    "         alpha = 0.4,\n",
    "            size = 4,\n",
    "         legend = 'Bulls',\n",
    "         color = 'lightsalmon',\n",
    "        #line_width=10,\n",
    "         source = bull)\n",
    "pts.circle(x = 'x',\n",
    "         y = 'y',\n",
    "         #alpha = 0.4,\n",
    "            size = 10,\n",
    "         legend = 'Bulls',\n",
    "         color = 'lightsalmon',\n",
    "        #line_width=10,\n",
    "         source = bullC)\n",
    "# pts.line(x = 'x',\n",
    "#          y = 'y',\n",
    "#          legend = 'Piston',\n",
    "#          line_color = \"royalblue\",\n",
    "#         line_width=2,\n",
    "#          source = piston)\n",
    "pts.circle(x = 'x',\n",
    "         y = 'y',\n",
    "         alpha = 0.4,\n",
    "            size = 4,\n",
    "         legend = 'Piston',\n",
    "         color = \"Royalblue\",\n",
    "        #line_width=10,\n",
    "         source = piston)\n",
    "pts.circle(x = 'x',\n",
    "         y = 'y',\n",
    "        # alpha = 0.4,\n",
    "            size = 10,\n",
    "         legend = 'Piston',\n",
    "         color = \"Royalblue\",\n",
    "        #line_width=10,\n",
    "         source = pistonC)\n",
    "\n",
    "\n",
    "# pts.line(x = 'x',\n",
    "#          y = 'y',\n",
    "#          legend = 'Buck',\n",
    "#          line_color = \"seagreen\",\n",
    "#         line_width=2,\n",
    "#          source = buck)\n",
    "pts.circle(x = 'x',\n",
    "         y = 'y',\n",
    "         alpha = 0.4,\n",
    "            size = 4,\n",
    "         legend = 'Buck',\n",
    "         color = \"seagreen\",\n",
    "        #line_width=10,\n",
    "         source = buck)\n",
    "pts.circle(x = 'x',\n",
    "         y = 'y',\n",
    "         #alpha = 0.4,\n",
    "            size = 10,\n",
    "         legend = 'Buck',\n",
    "         color = \"seagreen\",\n",
    "        #line_width=10,\n",
    "         source = buckC)\n",
    "# pts.line(x = 'x',\n",
    "#          y = 'y',\n",
    "#          legend = 'Cavaliers',\n",
    "#          line_color = \"firebrick\",\n",
    "#         line_width=2,\n",
    "#          source = cle)\n",
    "pts.circle(x = 'x',\n",
    "         y = 'y',\n",
    "         alpha = 0.4,\n",
    "            size = 4,\n",
    "         legend = 'Cavaliers',\n",
    "         color = \"firebrick\",\n",
    "        #line_width=10,\n",
    "         source = cle)\n",
    "pts.circle(x = 'x',\n",
    "         y = 'y',\n",
    "         #alpha = 0.4,\n",
    "            size = 10,\n",
    "         legend = 'Cavaliers',\n",
    "         color = \"firebrick\",\n",
    "        #line_width=10,\n",
    "         source = cleC)\n",
    "# pts.line(x = 'x',\n",
    "#          y = 'y',\n",
    "#          legend = 'Wizards',\n",
    "#          line_color = \"midnightblue\",\n",
    "#         line_width=2,\n",
    "#          source = wash)\n",
    "pts.circle(x = 'x',\n",
    "         y = 'y',\n",
    "         alpha = 0.4,\n",
    "            size = 4,\n",
    "         legend = 'Wizards',\n",
    "         color = \"midnightblue\",\n",
    "        #line_width=10,\n",
    "         source = wash)\n",
    "pts.circle(x = 'x',\n",
    "         y = 'y',\n",
    "         #alpha = 0.4,\n",
    "            size = 10,\n",
    "         legend = 'Wizards',\n",
    "         color = \"midnightblue\",\n",
    "        #line_width=10,\n",
    "         source = washC)\n",
    "# pts.line(x = 'x',\n",
    "#          y = 'y',\n",
    "#          legend = 'Hawks',\n",
    "#          line_color = \"brown\",\n",
    "#         line_width=2,\n",
    "#          source = atl)\n",
    "pts.circle(x = 'x',\n",
    "         y = 'y',\n",
    "            size = 4,\n",
    "         alpha = 0.4,\n",
    "         legend = 'Hawks',\n",
    "         color = \"brown\",\n",
    "        #line_width=10,\n",
    "         source = atl)\n",
    "pts.circle(x = 'x',\n",
    "         y = 'y',\n",
    "            size = 10,\n",
    "         #alpha = 0.4,\n",
    "         legend = 'Hawks',\n",
    "         color = \"brown\",\n",
    "        #line_width=10,\n",
    "         source = atlC)\n",
    "# pts.line(x = 'x',\n",
    "#          y = 'y',\n",
    "#          legend = 'Knicks',\n",
    "#          line_color = \"Orange\",\n",
    "#         line_width=2,\n",
    "#          source = nyk)\n",
    "pts.circle(x = 'x',\n",
    "         y = 'y',\n",
    "            size = 4,\n",
    "         alpha = 0.4,\n",
    "         legend = 'Knicks',\n",
    "         color = \"Orange\",\n",
    "        #line_width=10,\n",
    "         source = nyk)\n",
    "pts.circle(x = 'x',\n",
    "         y = 'y',\n",
    "            size = 10,\n",
    "        # alpha = 0.4,\n",
    "         legend = 'Knicks',\n",
    "         color = \"Orange\",\n",
    "        #line_width=10,\n",
    "         source = nykC)\n",
    "# pts.line(x = 'x',\n",
    "#          y = 'y',\n",
    "#          alpha = 0.9,\n",
    "#          legend = 'Thunder',\n",
    "#          line_color = \"cyan\",\n",
    "#         line_width=2,\n",
    "#          source = okc)\n",
    "pts.circle(x = 'x',\n",
    "         y = 'y',\n",
    "         alpha = 0.4,\n",
    "            size = 4,\n",
    "         legend = 'Thunder',\n",
    "         color = \"cyan\",\n",
    "        #line_width=10,\n",
    "         source = okc)\n",
    "pts.circle(x = 'x',\n",
    "         y = 'y',\n",
    "        # alpha = 0.9,\n",
    "            size = 10,\n",
    "         legend = 'Thunder',\n",
    "         color = \"cyan\",\n",
    "        #line_width=10,\n",
    "         source = okcC)\n",
    "# pts.line(x = 'x',\n",
    "#          y = 'y',\n",
    "#          legend = 'Heat',\n",
    "#          line_color = \"tan\",\n",
    "#         line_width=2,\n",
    "#          source = heat)\n",
    "pts.circle(x = 'x',\n",
    "         y = 'y',\n",
    "            size = 4,\n",
    "         alpha = 0.4,\n",
    "         legend = 'Heat',\n",
    "         color = \"tan\",\n",
    "        #line_width=10,\n",
    "         source = heat)\n",
    "pts.circle(x = 'x',\n",
    "         y = 'y',\n",
    "            size = 10,\n",
    "         #alpha = 0.4,\n",
    "         legend = 'Heat',\n",
    "         color = \"tan\",\n",
    "        #line_width=10,\n",
    "         source = heatC)\n",
    "# pts.line(x = 'x',\n",
    "#          y = 'y',\n",
    "#          legend = 'Spurs',\n",
    "#          line_color = \"grey\",\n",
    "#         line_width=2,\n",
    "#          source = spurs)\n",
    "pts.circle(x = 'x',\n",
    "         y = 'y',\n",
    "            size = 4,\n",
    "         alpha = 0.4,\n",
    "         legend = 'Spurs',\n",
    "         color = \"grey\",\n",
    "        #line_width=10,\n",
    "         source = spurs)\n",
    "pts.circle(x = 'x',\n",
    "         y = 'y',\n",
    "            size = 10,\n",
    "         #alpha = 0.4,\n",
    "         legend = 'Spurs',\n",
    "         color = \"grey\",\n",
    "        #line_width=10,\n",
    "         source = spursC)\n",
    "# pts.line(x = 'x',\n",
    "#          y = 'y',\n",
    "#          legend = 'Sixer',\n",
    "#          line_color = \"blue\",\n",
    "#         line_width=2,\n",
    "#          source = sixer)\n",
    "pts.circle(x = 'x',\n",
    "         y = 'y',\n",
    "            size = 4,\n",
    "         #alpha = 0.4,\n",
    "         legend = 'Sixer',\n",
    "         color = \"blue\",\n",
    "        #line_width=10,\n",
    "         source = sixer)\n",
    "pts.circle(x = 'x',\n",
    "         y = 'y',\n",
    "            size = 10,\n",
    "         #alpha = 0.4,\n",
    "         legend = 'Sixer',\n",
    "         color = \"blue\",\n",
    "        #line_width=10,\n",
    "         source = sixerC)\n",
    "# pts.line(x = 'x',\n",
    "#          y = 'y',\n",
    "#          legend = 'Kings',\n",
    "#          line_color = \"Violet\",\n",
    "#         line_width=2,\n",
    "#          source = kings)\n",
    "pts.circle(x = 'x',\n",
    "         y = 'y',\n",
    "            size = 4,\n",
    "         alpha = 0.4,\n",
    "         legend = 'Kings',\n",
    "         color = \"Violet\",\n",
    "        #line_width=10,\n",
    "         source = kings)\n",
    "pts.circle(x = 'x',\n",
    "         y = 'y',\n",
    "            size = 10,\n",
    "         #alpha = 0.4,\n",
    "         legend = 'Kings',\n",
    "         color = \"Violet\",\n",
    "        #line_width=10,\n",
    "         source = kingsC)\n",
    "\n",
    "pts.legend.click_policy=\"hide\"\n",
    "a.legend.click_policy=\"hide\"\n",
    "#wins.legend.click_policy='hide'\n",
    "\n",
    "pts.right = pts.legend\n",
    "a.right = a.legend\n",
    "\n",
    "\n",
    "from bokeh.models.widgets import Panel, Tabs\n",
    "tab1 = Panel(child= pts, title=\"Points Per Game\")\n",
    "tab2 = Panel(child= a, title=\"Assists Per Game\")\n",
    "# tab3 = Panel(child=preboundPerGame, title=\"Rebound Per Game\")\n",
    "# tab4 = Panel(child=prethreePerGame, title= \"Three Made Per Game\")\n",
    "# tab5 = Panel(child=pretwoPerGame, title= \"Two Made Per Game\")\n",
    "layoutTeam = Tabs(tabs=[tab1,tab2])\n",
    "\n",
    "show(layoutTeam)"
   ]
  },
  {
   "cell_type": "markdown",
   "metadata": {
    "extensions": {
     "jupyter_dashboards": {
      "version": 1,
      "views": {
       "grid_default": {
        "col": 0,
        "height": 5,
        "hidden": false,
        "row": 552,
        "width": 12
       },
       "report_default": {
        "hidden": false
       }
      }
     }
    }
   },
   "source": [
    "# Warriors vs Teams (TEams that have won one championship)\n",
    "\n",
    "# 3PA vs 3P"
   ]
  },
  {
   "cell_type": "markdown",
   "metadata": {
    "extensions": {
     "jupyter_dashboards": {
      "version": 1,
      "views": {
       "grid_default": {
        "hidden": true
       },
       "report_default": {
        "hidden": true
       }
      }
     }
    }
   },
   "source": [
    "**Click Run Cell Below.(Refresh)*** if no reactions "
   ]
  },
  {
   "cell_type": "code",
   "execution_count": 44,
   "metadata": {
    "extensions": {
     "jupyter_dashboards": {
      "version": 1,
      "views": {
       "grid_default": {
        "col": 7,
        "height": 4,
        "hidden": false,
        "row": 253,
        "width": 4
       },
       "report_default": {
        "hidden": false
       }
      }
     }
    }
   },
   "outputs": [
    {
     "data": {
      "application/vnd.jupyter.widget-view+json": {
       "model_id": "44b824ebd119400ca387d48b4806d695",
       "version_major": 2,
       "version_minor": 0
      },
      "text/plain": [
       "Button(description='Run Cell Below', style=ButtonStyle())"
      ]
     },
     "metadata": {},
     "output_type": "display_data"
    }
   ],
   "source": [
    "from IPython.display import Javascript, display\n",
    "from ipywidgets import widgets\n",
    "\n",
    "\n",
    "def run_all(ev):\n",
    "    display(Javascript('IPython.notebook.execute_cell_range(IPython.notebook.get_selected_index()+1, IPython.notebook.get_selected_index()+2)'))\n",
    "\n",
    "button = widgets.Button(description=\"Run Cell Below\")\n",
    "button.on_click(run_all)\n",
    "display(button)"
   ]
  },
  {
   "cell_type": "code",
   "execution_count": 45,
   "metadata": {
    "extensions": {
     "jupyter_dashboards": {
      "version": 1,
      "views": {
       "grid_default": {
        "col": 0,
        "height": 25,
        "hidden": false,
        "row": 557,
        "width": 9
       },
       "report_default": {
        "hidden": false
       }
      }
     }
    }
   },
   "outputs": [
    {
     "data": {
      "text/html": [
       "\n",
       "<div class=\"bk-root\">\n",
       "    <div class=\"bk-plotdiv\" id=\"dc062d89-c32e-44b6-bce0-eb43dff1fae4\"></div>\n",
       "</div>"
      ]
     },
     "metadata": {},
     "output_type": "display_data"
    },
    {
     "data": {
      "application/javascript": [
       "(function(root) {\n",
       "  function embed_document(root) {\n",
       "    \n",
       "  var docs_json = {\"92e6b688-a7f0-4021-ab44-67303bbc457c\":{\"roots\":{\"references\":[{\"attributes\":{},\"id\":\"343610da-02ba-4411-b187-8043316f1df4\",\"type\":\"BasicTicker\"},{\"attributes\":{\"data_source\":{\"id\":\"cc246a16-dcd0-48b2-bfa6-5973f8cc2c39\",\"type\":\"ColumnDataSource\"},\"glyph\":{\"id\":\"c1395e4c-1afb-403d-8b5b-7ed6866ab5ba\",\"type\":\"Circle\"},\"hover_glyph\":null,\"muted_glyph\":null,\"nonselection_glyph\":{\"id\":\"6bf0d0e2-b13e-4b8f-a73b-8a3e1f5ef70f\",\"type\":\"Circle\"},\"selection_glyph\":null,\"view\":{\"id\":\"2fd183dc-770d-433a-8c8d-62ed9d5509f1\",\"type\":\"CDSView\"}},\"id\":\"fb14b78f-34c4-4025-b2be-f16ec2fcc3f5\",\"type\":\"GlyphRenderer\"},{\"attributes\":{},\"id\":\"341b4c07-29fe-4808-845b-647c0ac27487\",\"type\":\"Selection\"},{\"attributes\":{},\"id\":\"759e9649-b6ee-4388-b7fc-f0d06de58ca5\",\"type\":\"LinearScale\"},{\"attributes\":{\"axis_label\":\"3 point Made\",\"formatter\":{\"id\":\"f990a182-5a2d-404a-84ca-8de1289fdc1e\",\"type\":\"BasicTickFormatter\"},\"plot\":{\"id\":\"e5e9450d-60a4-4694-afbc-ca46a27276e1\",\"subtype\":\"Figure\",\"type\":\"Plot\"},\"ticker\":{\"id\":\"df486625-48f7-4cda-b95f-340c795ad9ba\",\"type\":\"BasicTicker\"}},\"id\":\"f293797f-5863-4a10-b769-1d0913626194\",\"type\":\"LinearAxis\"},{\"attributes\":{\"dimension\":1,\"plot\":{\"id\":\"e5e9450d-60a4-4694-afbc-ca46a27276e1\",\"subtype\":\"Figure\",\"type\":\"Plot\"},\"ticker\":{\"id\":\"df486625-48f7-4cda-b95f-340c795ad9ba\",\"type\":\"BasicTicker\"}},\"id\":\"cd0e4853-8d8a-436e-a5b0-5da9702d0908\",\"type\":\"Grid\"},{\"attributes\":{},\"id\":\"fd56e9e0-07a4-41cd-89ab-0be393bab3cf\",\"type\":\"UnionRenderers\"},{\"attributes\":{\"label\":{\"field\":\"tm\"},\"renderers\":[{\"id\":\"fb14b78f-34c4-4025-b2be-f16ec2fcc3f5\",\"type\":\"GlyphRenderer\"}]},\"id\":\"0e7f1b4a-e526-4d79-a2b0-db1e3c25fb0d\",\"type\":\"LegendItem\"},{\"attributes\":{\"fill_color\":{\"value\":\"gold\"},\"line_color\":{\"value\":\"gold\"},\"size\":{\"units\":\"screen\",\"value\":12},\"x\":{\"field\":\"y\"},\"y\":{\"field\":\"x\"}},\"id\":\"c1395e4c-1afb-403d-8b5b-7ed6866ab5ba\",\"type\":\"Circle\"},{\"attributes\":{\"data_source\":{\"id\":\"af51be5f-68b9-4f75-8b9c-617fc0469716\",\"type\":\"ColumnDataSource\"},\"glyph\":{\"id\":\"b0ed2aef-e957-4e34-bc4d-f665f427d537\",\"type\":\"Circle\"},\"hover_glyph\":null,\"muted_glyph\":null,\"nonselection_glyph\":{\"id\":\"de3999ef-bf4e-46f4-ac49-be3485022462\",\"type\":\"Circle\"},\"selection_glyph\":null,\"view\":{\"id\":\"0ca1097b-7ae6-4d41-8d0b-d7f631e85065\",\"type\":\"CDSView\"}},\"id\":\"2a9a4cb0-24f7-4a28-98dd-345fceb1eca9\",\"type\":\"GlyphRenderer\"},{\"attributes\":{},\"id\":\"babf759d-1160-4468-b89e-0d844b65ba32\",\"type\":\"UnionRenderers\"},{\"attributes\":{\"fill_alpha\":{\"value\":0.1},\"fill_color\":{\"value\":\"#1f77b4\"},\"line_alpha\":{\"value\":0.1},\"line_color\":{\"value\":\"#1f77b4\"},\"size\":{\"units\":\"screen\",\"value\":12},\"x\":{\"field\":\"y\"},\"y\":{\"field\":\"x\"}},\"id\":\"de3999ef-bf4e-46f4-ac49-be3485022462\",\"type\":\"Circle\"},{\"attributes\":{\"plot\":{\"id\":\"e5e9450d-60a4-4694-afbc-ca46a27276e1\",\"subtype\":\"Figure\",\"type\":\"Plot\"},\"ticker\":{\"id\":\"343610da-02ba-4411-b187-8043316f1df4\",\"type\":\"BasicTicker\"}},\"id\":\"50658a86-c345-45fc-9cb7-f17707698dc2\",\"type\":\"Grid\"},{\"attributes\":{},\"id\":\"f990a182-5a2d-404a-84ca-8de1289fdc1e\",\"type\":\"BasicTickFormatter\"},{\"attributes\":{},\"id\":\"ac196d39-d3ac-4244-a2b4-f8c8a8595e7d\",\"type\":\"Selection\"},{\"attributes\":{\"items\":[{\"id\":\"98d448d1-c333-42bd-b140-69cfc73470c8\",\"type\":\"LegendItem\"},{\"id\":\"0e7f1b4a-e526-4d79-a2b0-db1e3c25fb0d\",\"type\":\"LegendItem\"}],\"plot\":{\"id\":\"e5e9450d-60a4-4694-afbc-ca46a27276e1\",\"subtype\":\"Figure\",\"type\":\"Plot\"}},\"id\":\"da1d945c-ead0-4dbf-a15d-896d39ba2199\",\"type\":\"Legend\"},{\"attributes\":{\"fill_alpha\":{\"value\":0.1},\"fill_color\":{\"value\":\"#1f77b4\"},\"line_alpha\":{\"value\":0.1},\"line_color\":{\"value\":\"#1f77b4\"},\"size\":{\"units\":\"screen\",\"value\":12},\"x\":{\"field\":\"y\"},\"y\":{\"field\":\"x\"}},\"id\":\"6bf0d0e2-b13e-4b8f-a73b-8a3e1f5ef70f\",\"type\":\"Circle\"},{\"attributes\":{\"bottom_units\":\"screen\",\"fill_alpha\":{\"value\":0.5},\"fill_color\":{\"value\":\"lightgrey\"},\"left_units\":\"screen\",\"level\":\"overlay\",\"line_alpha\":{\"value\":1.0},\"line_color\":{\"value\":\"black\"},\"line_dash\":[4,4],\"line_width\":{\"value\":2},\"plot\":null,\"render_mode\":\"css\",\"right_units\":\"screen\",\"top_units\":\"screen\"},\"id\":\"2a6ebaee-f329-492a-94ae-cb1058484bae\",\"type\":\"BoxAnnotation\"},{\"attributes\":{\"callback\":null,\"data\":{\"pts\":{\"__ndarray__\":\"AAAAAAAgWECamZmZmflWQGZmZmZmplhAAAAAAADgV0BmZmZmZoZZQAAAAAAAYFlAmpmZmZl5WkDNzMzMzOxZQJqZmZmZ2VlAAAAAAADAV0DNzMzMzAxZQAAAAAAAQFhAmpmZmZnZWEAAAAAAAKBaQDMzMzMzM1pAMzMzMzMTWEAAAAAAAMBYQDMzMzMzU1hA\",\"dtype\":\"float64\",\"shape\":[18]},\"tm\":[\"BOS\",\"MIL\",\"CHI\",\"CLE\",\"MIA\",\"LAL\",\"HOU\",\"SAS\",\"GSW\",\"ATL\",\"DAL\",\"DET\",\"SAC\",\"NYK\",\"OKC\",\"POR\",\"PHI\",\"WAS\"],\"win\":[56,35,62,19,58,57,43,61,36,44,57,30,24,42,55,48,41,23],\"x\":{\"__ndarray__\":\"AAAAAAAAFECamZmZmZkXQM3MzMzMzBhAzczMzMzMGEDNzMzMzMwaQJqZmZmZmRlAmpmZmZmZIEDNzMzMzMwgQM3MzMzMzCBAZmZmZmZmGECamZmZmZkfQDMzMzMzMxdAzczMzMzMFECamZmZmZkiQJqZmZmZmRdAMzMzMzMzGUCamZmZmZkVQDMzMzMzMxNA\",\"dtype\":\"float64\",\"shape\":[18]},\"y\":{\"__ndarray__\":\"MzMzMzMzK0AzMzMzMzMxQM3MzMzMTDFAMzMzMzMzMkAAAAAAAAAyQJqZmZmZGTJAAAAAAACANkCamZmZmRk1QM3MzMzMTDVAZmZmZmZmMUCamZmZmZk1QJqZmZmZmS5AMzMzMzMzL0BmZmZmZmY5QJqZmZmZGTFAzczMzMxMMkBmZmZmZmYuQM3MzMzMzCxA\",\"dtype\":\"float64\",\"shape\":[18]}},\"selected\":{\"id\":\"341b4c07-29fe-4808-845b-647c0ac27487\",\"type\":\"Selection\"},\"selection_policy\":{\"id\":\"fd56e9e0-07a4-41cd-89ab-0be393bab3cf\",\"type\":\"UnionRenderers\"}},\"id\":\"af51be5f-68b9-4f75-8b9c-617fc0469716\",\"type\":\"ColumnDataSource\"},{\"attributes\":{},\"id\":\"f94ca641-0e6b-46ae-a566-34efe337eee3\",\"type\":\"PanTool\"},{\"attributes\":{\"plot\":null,\"text\":\"\"},\"id\":\"a3a71170-9435-4b32-9d9c-d356a1e496c7\",\"type\":\"Title\"},{\"attributes\":{},\"id\":\"99dc2a48-cc37-4adc-b837-0e95f2f710ff\",\"type\":\"LinearScale\"},{\"attributes\":{\"source\":{\"id\":\"af51be5f-68b9-4f75-8b9c-617fc0469716\",\"type\":\"ColumnDataSource\"}},\"id\":\"0ca1097b-7ae6-4d41-8d0b-d7f631e85065\",\"type\":\"CDSView\"},{\"attributes\":{\"callback\":null,\"data\":{\"pts\":{\"__ndarray__\":\"zczMzMxsXUAAAAAAAGBcQJqZmZmZ+VxAmpmZmZm5XEAAAAAAAIBbQA==\",\"dtype\":\"float64\",\"shape\":[5]},\"tm\":[\"GSW\",\"GSW\",\"GSW\",\"GSW\",\"GSW\"],\"win\":[57,58,67,73,67],\"x\":{\"__ndarray__\":\"mpmZmZmZKkCamZmZmZkmQAAAAAAAAChAMzMzMzMzKkCamZmZmZklQA==\",\"dtype\":\"float64\",\"shape\":[5]},\"y\":{\"__ndarray__\":\"MzMzMzMzQUBmZmZmZuY8QDMzMzMzMz9AmpmZmZmZP0AAAAAAAAA7QA==\",\"dtype\":\"float64\",\"shape\":[5]}},\"selected\":{\"id\":\"ac196d39-d3ac-4244-a2b4-f8c8a8595e7d\",\"type\":\"Selection\"},\"selection_policy\":{\"id\":\"babf759d-1160-4468-b89e-0d844b65ba32\",\"type\":\"UnionRenderers\"}},\"id\":\"cc246a16-dcd0-48b2-bfa6-5973f8cc2c39\",\"type\":\"ColumnDataSource\"},{\"attributes\":{},\"id\":\"ab22ea33-02d3-45b6-95ec-30605cddb8cd\",\"type\":\"ResetTool\"},{\"attributes\":{\"axis_label\":\"3 point Attempt\",\"formatter\":{\"id\":\"623ba06d-3e6d-4c42-bf0a-300bfdef238a\",\"type\":\"BasicTickFormatter\"},\"plot\":{\"id\":\"e5e9450d-60a4-4694-afbc-ca46a27276e1\",\"subtype\":\"Figure\",\"type\":\"Plot\"},\"ticker\":{\"id\":\"343610da-02ba-4411-b187-8043316f1df4\",\"type\":\"BasicTicker\"}},\"id\":\"712ee28c-1068-4e7f-b1f1-e8bfb0905d45\",\"type\":\"LinearAxis\"},{\"attributes\":{},\"id\":\"6cad1d23-b7dd-47e3-8fc4-197da39e80e3\",\"type\":\"CrosshairTool\"},{\"attributes\":{\"below\":[{\"id\":\"712ee28c-1068-4e7f-b1f1-e8bfb0905d45\",\"type\":\"LinearAxis\"}],\"left\":[{\"id\":\"f293797f-5863-4a10-b769-1d0913626194\",\"type\":\"LinearAxis\"}],\"renderers\":[{\"id\":\"712ee28c-1068-4e7f-b1f1-e8bfb0905d45\",\"type\":\"LinearAxis\"},{\"id\":\"50658a86-c345-45fc-9cb7-f17707698dc2\",\"type\":\"Grid\"},{\"id\":\"f293797f-5863-4a10-b769-1d0913626194\",\"type\":\"LinearAxis\"},{\"id\":\"cd0e4853-8d8a-436e-a5b0-5da9702d0908\",\"type\":\"Grid\"},{\"id\":\"2a6ebaee-f329-492a-94ae-cb1058484bae\",\"type\":\"BoxAnnotation\"},{\"id\":\"da1d945c-ead0-4dbf-a15d-896d39ba2199\",\"type\":\"Legend\"},{\"id\":\"2a9a4cb0-24f7-4a28-98dd-345fceb1eca9\",\"type\":\"GlyphRenderer\"},{\"id\":\"fb14b78f-34c4-4025-b2be-f16ec2fcc3f5\",\"type\":\"GlyphRenderer\"}],\"right\":[{\"id\":\"da1d945c-ead0-4dbf-a15d-896d39ba2199\",\"type\":\"Legend\"}],\"title\":{\"id\":\"a3a71170-9435-4b32-9d9c-d356a1e496c7\",\"type\":\"Title\"},\"toolbar\":{\"id\":\"6cf0d5bc-57f1-4022-9849-f541cbc954b3\",\"type\":\"Toolbar\"},\"x_range\":{\"id\":\"54102483-0fec-4ccf-8a40-bd10a9029401\",\"type\":\"Range1d\"},\"x_scale\":{\"id\":\"759e9649-b6ee-4388-b7fc-f0d06de58ca5\",\"type\":\"LinearScale\"},\"y_range\":{\"id\":\"54f7da64-f5ea-475f-91e7-1ca78e7dcc57\",\"type\":\"Range1d\"},\"y_scale\":{\"id\":\"99dc2a48-cc37-4adc-b837-0e95f2f710ff\",\"type\":\"LinearScale\"}},\"id\":\"e5e9450d-60a4-4694-afbc-ca46a27276e1\",\"subtype\":\"Figure\",\"type\":\"Plot\"},{\"attributes\":{},\"id\":\"5280dda8-906c-4fc2-8c22-a1508fea7b11\",\"type\":\"WheelZoomTool\"},{\"attributes\":{\"overlay\":{\"id\":\"2a6ebaee-f329-492a-94ae-cb1058484bae\",\"type\":\"BoxAnnotation\"}},\"id\":\"a16fec21-e7c9-42a6-b6a6-ded6412b5faa\",\"type\":\"BoxZoomTool\"},{\"attributes\":{\"factors\":[\"BOS\",\"MIL\",\"CHI\",\"CLE\",\"MIA\",\"LAL\",\"MNL\",\"HOU\",\"SDR\",\"SAS\",\"SAA\",\"DLC\",\"TEX\",\"GSW\",\"SFW\",\"PHW\",\"ATL\",\"STL\",\"MLH\",\"TRI\",\"DAL\",\"DET\",\"FTW\",\"SAC\",\"KCK\",\"KCO\",\"CIN\",\"ROC\",\"NYK\",\"OKC\",\"SEA\",\"POR\",\"PHI\",\"SYR\",\"WAS\",\"WSB\",\"CAP\",\"BAL\",\"CHZ\",\"CHP\"],\"palette\":[\"#1f77b4\",\"#aec7e8\",\"#ff7f0e\",\"#ffbb78\",\"#2ca02c\",\"#98df8a\",\"#d62728\",\"#ff9896\",\"#9467bd\",\"#c5b0d5\",\"#8c564b\",\"#c49c94\",\"#e377c2\",\"#f7b6d2\",\"#7f7f7f\",\"#c7c7c7\",\"#bcbd22\",\"#dbdb8d\",\"#17becf\",\"#9edae5\",\"#800026\",\"#bd0026\",\"#e31a1c\",\"#fc4e2a\",\"#fd8d3c\",\"#feb24c\",\"#fed976\",\"#ffeda0\",\"#ffffcc\",\"#a6cee3\",\"#1f78b4\",\"#b2df8a\",\"#33a02c\",\"#fb9a99\",\"#e31a1c\",\"#fdbf6f\",\"#ff7f00\",\"#cab2d6\",\"#6a3d9a\",\"#ffff99\"]},\"id\":\"3263ac12-43ad-4593-bd1e-bae7e36db049\",\"type\":\"CategoricalColorMapper\"},{\"attributes\":{},\"id\":\"df486625-48f7-4cda-b95f-340c795ad9ba\",\"type\":\"BasicTicker\"},{\"attributes\":{\"callback\":null,\"end\":20},\"id\":\"54f7da64-f5ea-475f-91e7-1ca78e7dcc57\",\"type\":\"Range1d\"},{\"attributes\":{\"source\":{\"id\":\"cc246a16-dcd0-48b2-bfa6-5973f8cc2c39\",\"type\":\"ColumnDataSource\"}},\"id\":\"2fd183dc-770d-433a-8c8d-62ed9d5509f1\",\"type\":\"CDSView\"},{\"attributes\":{},\"id\":\"623ba06d-3e6d-4c42-bf0a-300bfdef238a\",\"type\":\"BasicTickFormatter\"},{\"attributes\":{\"fill_color\":{\"field\":\"tm\",\"transform\":{\"id\":\"3263ac12-43ad-4593-bd1e-bae7e36db049\",\"type\":\"CategoricalColorMapper\"}},\"line_color\":{\"field\":\"tm\",\"transform\":{\"id\":\"3263ac12-43ad-4593-bd1e-bae7e36db049\",\"type\":\"CategoricalColorMapper\"}},\"size\":{\"units\":\"screen\",\"value\":12},\"x\":{\"field\":\"y\"},\"y\":{\"field\":\"x\"}},\"id\":\"b0ed2aef-e957-4e34-bc4d-f665f427d537\",\"type\":\"Circle\"},{\"attributes\":{\"label\":{\"field\":\"tm\"},\"renderers\":[{\"id\":\"2a9a4cb0-24f7-4a28-98dd-345fceb1eca9\",\"type\":\"GlyphRenderer\"}]},\"id\":\"98d448d1-c333-42bd-b140-69cfc73470c8\",\"type\":\"LegendItem\"},{\"attributes\":{\"callback\":null,\"renderers\":\"auto\",\"tooltips\":[[\"Attempt\",\"@y\"],[\"Made\",\"@x\"],[\"Player\",\"@tm\"]]},\"id\":\"014580d6-1384-418c-b7e5-451fbae8722e\",\"type\":\"HoverTool\"},{\"attributes\":{\"callback\":null,\"end\":50},\"id\":\"54102483-0fec-4ccf-8a40-bd10a9029401\",\"type\":\"Range1d\"},{\"attributes\":{\"active_drag\":\"auto\",\"active_inspect\":\"auto\",\"active_scroll\":\"auto\",\"active_tap\":\"auto\",\"tools\":[{\"id\":\"014580d6-1384-418c-b7e5-451fbae8722e\",\"type\":\"HoverTool\"},{\"id\":\"f94ca641-0e6b-46ae-a566-34efe337eee3\",\"type\":\"PanTool\"},{\"id\":\"5280dda8-906c-4fc2-8c22-a1508fea7b11\",\"type\":\"WheelZoomTool\"},{\"id\":\"a16fec21-e7c9-42a6-b6a6-ded6412b5faa\",\"type\":\"BoxZoomTool\"},{\"id\":\"ab22ea33-02d3-45b6-95ec-30605cddb8cd\",\"type\":\"ResetTool\"},{\"id\":\"6cad1d23-b7dd-47e3-8fc4-197da39e80e3\",\"type\":\"CrosshairTool\"}]},\"id\":\"6cf0d5bc-57f1-4022-9849-f541cbc954b3\",\"type\":\"Toolbar\"}],\"root_ids\":[\"e5e9450d-60a4-4694-afbc-ca46a27276e1\"]},\"title\":\"Bokeh Application\",\"version\":\"0.12.16\"}};\n",
       "  var render_items = [{\"docid\":\"92e6b688-a7f0-4021-ab44-67303bbc457c\",\"elementid\":\"dc062d89-c32e-44b6-bce0-eb43dff1fae4\",\"modelid\":\"e5e9450d-60a4-4694-afbc-ca46a27276e1\",\"notebook_comms_target\":\"0ddefe9c-241f-4eb1-8dca-2d8cf7ca98db\"}];\n",
       "  root.Bokeh.embed.embed_items_notebook(docs_json, render_items);\n",
       "\n",
       "  }\n",
       "  if (root.Bokeh !== undefined) {\n",
       "    embed_document(root);\n",
       "  } else {\n",
       "    var attempts = 0;\n",
       "    var timer = setInterval(function(root) {\n",
       "      if (root.Bokeh !== undefined) {\n",
       "        embed_document(root);\n",
       "        clearInterval(timer);\n",
       "      }\n",
       "      attempts++;\n",
       "      if (attempts > 100) {\n",
       "        console.log(\"Bokeh: ERROR: Unable to run BokehJS code because BokehJS library is missing\")\n",
       "        clearInterval(timer);\n",
       "      }\n",
       "    }, 10, root)\n",
       "  }\n",
       "})(window);"
      ],
      "application/vnd.bokehjs_exec.v0+json": ""
     },
     "metadata": {
      "application/vnd.bokehjs_exec.v0+json": {
       "id": "e5e9450d-60a4-4694-afbc-ca46a27276e1"
      }
     },
     "output_type": "display_data"
    },
    {
     "data": {
      "application/vnd.jupyter.widget-view+json": {
       "model_id": "b69780280c944ed4b9062dc9377a54b0",
       "version_major": 2,
       "version_minor": 0
      },
      "text/plain": [
       "interactive(children=(IntSlider(value=1980, description='Start Year:', max=2017, min=1980), Output()), _dom_cl…"
      ]
     },
     "metadata": {},
     "output_type": "display_data"
    },
    {
     "data": {
      "application/vnd.jupyter.widget-view+json": {
       "model_id": "8a575fc26d0e4290b7d834494c99abc2",
       "version_major": 2,
       "version_minor": 0
      },
      "text/plain": [
       "interactive(children=(Play(value=1980, description='Season', max=2017, min=1980), Output()), _dom_classes=('wi…"
      ]
     },
     "metadata": {},
     "output_type": "display_data"
    }
   ],
   "source": [
    "from bokeh.models import ColumnDataSource\n",
    "from bokeh.models import HoverTool\n",
    "from bokeh.models import LinearInterpolator\n",
    "from bokeh.models import CategoricalColorMapper\n",
    "from bokeh.palettes import Category20\n",
    "from bokeh.plotting import figure\n",
    "from bokeh.models import Circle\n",
    "from ipywidgets import interact,interactive, fixed, interact_manual,widgets\n",
    "from bokeh.io import push_notebook,show\n",
    "\n",
    "\n",
    "datacom = pd.read_csv('nba-players-stats/allteamcombined.csv',index_col=['Season'])\n",
    "datawarriorschamp = pd.read_csv('nba-players-stats/WarriorsChamp.csv',index_col=[\"Rank\"])\n",
    "\n",
    "source = ColumnDataSource(dict( \n",
    "    tm = datacom.loc[2010].Tm, \n",
    "    x = datacom.loc[2010].get('3P'),\n",
    "    y = datacom.loc[2010].get('3PA'),\n",
    "    win = datacom.loc[2010].W,\n",
    "    pts = datacom.loc[2010].PTS\n",
    "))\n",
    "sourcewr = ColumnDataSource(dict(\n",
    "    tm = datawarriorschamp.Tm,\n",
    "    x = datawarriorschamp.get('3P'),\n",
    "    y = datawarriorschamp.get('3PA'),\n",
    "    win = datawarriorschamp.W,\n",
    "    pts = datawarriorschamp.PTS\n",
    "))\n",
    "Hover_tools = HoverTool(tooltips = [\n",
    "    ('Attempt', \"@y\"),\n",
    "     ('Made', \"@x\"),\n",
    "    ('Player', '@tm'),])\n",
    "\n",
    "# relative_size = LinearInterpolator(\n",
    "#     x = [datacom.PTS.min(),datacom.PTS.max()],\n",
    "#     y = [2,40]\n",
    "# )\n",
    "\n",
    "color_mapper = CategoricalColorMapper(\n",
    "  factors= list(datacom.Tm.unique()),\n",
    "  palette= ['#1f77b4', '#aec7e8', '#ff7f0e', \n",
    "            '#ffbb78', '#2ca02c', '#98df8a', \n",
    "            '#d62728', \n",
    "            '#ff9896', '#9467bd', '#c5b0d5',\n",
    "            '#8c564b', '#c49c94', '#e377c2', \n",
    "            '#f7b6d2', \n",
    "            '#7f7f7f', '#c7c7c7', '#bcbd22', \n",
    "            '#dbdb8d', '#17becf', '#9edae5',\n",
    "            '#800026', '#bd0026','#e31a1c', \n",
    "            '#fc4e2a',\n",
    "            '#fd8d3c','#feb24c','#fed976',\n",
    "            '#ffeda0','#ffffcc','#a6cee3',\n",
    "            '#1f78b4','#b2df8a','#33a02c',\n",
    "            '#fb9a99','#e31a1c','#fdbf6f',\n",
    "            '#ff7f00','#cab2d6','#6a3d9a',\n",
    "            '#ffff99']\n",
    ")\n",
    "\n",
    "\n",
    "# color_mapper = CategoricalColorMapper(\n",
    "#  factors=['PF-C', 'C-PF', 'C', 'G', 'F', 'G-SF', 'SF-G'],\n",
    "#  palette=['blue', 'red', 'green','grey','Purple','Black','orange'])\n",
    "\n",
    "\n",
    "p5 = figure( tools = [Hover_tools,'pan', 'wheel_zoom','box_zoom','reset','crosshair'],\n",
    "            height=600,\n",
    "           width = 600,\n",
    "           x_range = (0,50),\n",
    "           y_range=(0,20),  \n",
    "            y_axis_label = \"3 point Made\",\n",
    "           x_axis_label = \"3 point Attempt\")\n",
    "\n",
    "p5.circle(x='y', \n",
    "         y='x',\n",
    "      size = 12,\n",
    "       # color = 'blue',\n",
    "      # size = {'field':'pts','transform':relative_size},\n",
    "       color = {'field':'tm','transform': color_mapper},\n",
    "         alpha = 1,\n",
    "         legend = 'tm',\n",
    "        source = source)\n",
    "\n",
    "p5.circle(x='y', \n",
    "         y='x',\n",
    "      size = 12,\n",
    "       color = 'gold',\n",
    "      # size = {'field':'pts','transform':relative_size},\n",
    "       #color = {'field':'tm','transform': color_mapper},\n",
    "         alpha = 1,\n",
    "         legend = 'tm',\n",
    "        source = sourcewr)\n",
    "p5.right = p5.legend\n",
    "\n",
    "\n",
    "\n",
    "def update(Season):\n",
    "    interactivedata = dict(\n",
    "     tm = datacom.loc[Season].Tm, \n",
    "      x = datacom.loc[Season].get('3P'),\n",
    "    y = datacom.loc[Season].get('3PA'), \n",
    "     win = datacom.loc[Season].W,\n",
    "        pts = datacom.loc[Season].PTS\n",
    "    )\n",
    "    \n",
    "    source.data = interactivedata\n",
    "    p5.title.text= \"Warriors Vs Other Teams(3 Pointers) Year:\" + str(Season) +\"  Season:\" +str(Season)+'-'+str(int(Season)+1)\n",
    "    push_notebook()\n",
    "    \n",
    "\n",
    "# +\"-\"+ str(int(Season)+1)\n",
    "show(p5,notebook_handle=True)\n",
    "\n",
    "interact(update,\n",
    "Season = widgets.IntSlider(\n",
    "    value=1,\n",
    "    min=1980,\n",
    "    max=2018-1,\n",
    "    step=1,\n",
    "    description='Start Year:',\n",
    "    continuous_update=True,\n",
    "    orientation='Horizontal',\n",
    "    readout=True,\n",
    "    readout_format='d',\n",
    "));\n",
    "\n",
    "interact(update,\n",
    "    Season = widgets.Play( \n",
    "    value=0,\n",
    "    min=1980,\n",
    "    max=2018-1,\n",
    "    step=1,\n",
    "    disabled=False\n",
    "));"
   ]
  },
  {
   "cell_type": "markdown",
   "metadata": {
    "extensions": {
     "jupyter_dashboards": {
      "version": 1,
      "views": {
       "grid_default": {
        "col": 0,
        "height": 5,
        "hidden": false,
        "row": 582,
        "width": 12
       },
       "report_default": {
        "hidden": false
       }
      }
     }
    }
   },
   "source": [
    "# Warriors vs Teams (TEams that have won one championship)\n",
    "\n",
    "# 2PA vs 2P"
   ]
  },
  {
   "cell_type": "markdown",
   "metadata": {
    "extensions": {
     "jupyter_dashboards": {
      "version": 1,
      "views": {
       "grid_default": {
        "hidden": true
       },
       "report_default": {
        "hidden": true
       }
      }
     }
    }
   },
   "source": [
    "**Click Run Cell Below.(Refresh)*** if no reactions "
   ]
  },
  {
   "cell_type": "code",
   "execution_count": 46,
   "metadata": {
    "extensions": {
     "jupyter_dashboards": {
      "version": 1,
      "views": {
       "grid_default": {
        "col": 7,
        "height": 4,
        "hidden": false,
        "row": 257,
        "width": 4
       },
       "report_default": {
        "hidden": false
       }
      }
     }
    }
   },
   "outputs": [
    {
     "data": {
      "application/vnd.jupyter.widget-view+json": {
       "model_id": "8d8d277faa794833a865b23a9ce241f0",
       "version_major": 2,
       "version_minor": 0
      },
      "text/plain": [
       "Button(description='Run Cell Below', style=ButtonStyle())"
      ]
     },
     "metadata": {},
     "output_type": "display_data"
    }
   ],
   "source": [
    "\n",
    "from IPython.display import Javascript, display\n",
    "from ipywidgets import widgets\n",
    "\n",
    "\n",
    "def run_all(ev):\n",
    "    display(Javascript('IPython.notebook.execute_cell_range(IPython.notebook.get_selected_index()+1, IPython.notebook.get_selected_index()+2)'))\n",
    "\n",
    "button = widgets.Button(description=\"Run Cell Below\")\n",
    "button.on_click(run_all)\n",
    "display(button)"
   ]
  },
  {
   "cell_type": "code",
   "execution_count": 47,
   "metadata": {
    "extensions": {
     "jupyter_dashboards": {
      "version": 1,
      "views": {
       "grid_default": {
        "col": 0,
        "height": 25,
        "hidden": false,
        "row": 587,
        "width": 9
       },
       "report_default": {
        "hidden": false
       }
      }
     }
    },
    "scrolled": false
   },
   "outputs": [
    {
     "data": {
      "text/html": [
       "\n",
       "<div class=\"bk-root\">\n",
       "    <div class=\"bk-plotdiv\" id=\"5d611693-02c8-4ba4-aacf-83c3bbe038ea\"></div>\n",
       "</div>"
      ]
     },
     "metadata": {},
     "output_type": "display_data"
    },
    {
     "data": {
      "application/javascript": [
       "(function(root) {\n",
       "  function embed_document(root) {\n",
       "    \n",
       "  var docs_json = {\"1bc2f69a-9b9e-4654-b97a-6c5228c2302c\":{\"roots\":{\"references\":[{\"attributes\":{\"source\":{\"id\":\"256bc195-e796-4664-a7f7-e5961d1273a4\",\"type\":\"ColumnDataSource\"}},\"id\":\"088dd4f1-c7b2-4ed6-9eb7-f2c2c70382b9\",\"type\":\"CDSView\"},{\"attributes\":{},\"id\":\"20cd29fa-8c96-4cc7-818c-81c9efc5ca6d\",\"type\":\"LinearScale\"},{\"attributes\":{},\"id\":\"fbb81691-3c49-42db-bcb4-e21035abb874\",\"type\":\"LinearScale\"},{\"attributes\":{\"items\":[{\"id\":\"15ebf084-f56b-423b-8cf0-c09103e1fe12\",\"type\":\"LegendItem\"},{\"id\":\"537110bd-d397-4bd3-a9e2-1533424ad3eb\",\"type\":\"LegendItem\"}],\"plot\":{\"id\":\"5dcbbd0c-6c6f-4eaa-9a63-aeb9e97d3e2d\",\"subtype\":\"Figure\",\"type\":\"Plot\"}},\"id\":\"c6112963-ba3c-487d-b379-073a322d5e18\",\"type\":\"Legend\"},{\"attributes\":{\"fill_alpha\":{\"value\":0.1},\"fill_color\":{\"value\":\"#1f77b4\"},\"line_alpha\":{\"value\":0.1},\"line_color\":{\"value\":\"#1f77b4\"},\"size\":{\"units\":\"screen\",\"value\":12},\"x\":{\"field\":\"y\"},\"y\":{\"field\":\"x\"}},\"id\":\"6d521dd1-2227-4d2e-b70a-ef7841687413\",\"type\":\"Circle\"},{\"attributes\":{\"plot\":{\"id\":\"5dcbbd0c-6c6f-4eaa-9a63-aeb9e97d3e2d\",\"subtype\":\"Figure\",\"type\":\"Plot\"},\"ticker\":{\"id\":\"96a044ae-81f6-499f-b3b9-529af1dba0ec\",\"type\":\"BasicTicker\"}},\"id\":\"1be7f865-ed01-48c1-b900-8af35a5d0087\",\"type\":\"Grid\"},{\"attributes\":{\"axis_label\":\"2 point Attempt\",\"formatter\":{\"id\":\"52eaedc9-49bb-4d73-84e9-a66644a8ebaa\",\"type\":\"BasicTickFormatter\"},\"plot\":{\"id\":\"5dcbbd0c-6c6f-4eaa-9a63-aeb9e97d3e2d\",\"subtype\":\"Figure\",\"type\":\"Plot\"},\"ticker\":{\"id\":\"96a044ae-81f6-499f-b3b9-529af1dba0ec\",\"type\":\"BasicTicker\"}},\"id\":\"d1a01a1b-95b7-4e5e-a145-1bdf65780179\",\"type\":\"LinearAxis\"},{\"attributes\":{},\"id\":\"fe5a6b65-1267-472c-aa24-a15c5f6ad12a\",\"type\":\"BasicTickFormatter\"},{\"attributes\":{},\"id\":\"96a044ae-81f6-499f-b3b9-529af1dba0ec\",\"type\":\"BasicTicker\"},{\"attributes\":{\"axis_label\":\"2 point Made\",\"formatter\":{\"id\":\"fe5a6b65-1267-472c-aa24-a15c5f6ad12a\",\"type\":\"BasicTickFormatter\"},\"plot\":{\"id\":\"5dcbbd0c-6c6f-4eaa-9a63-aeb9e97d3e2d\",\"subtype\":\"Figure\",\"type\":\"Plot\"},\"ticker\":{\"id\":\"d17bc595-ebe5-4e27-a197-2e6cbffe461a\",\"type\":\"BasicTicker\"}},\"id\":\"f3d42ea3-42a5-4fde-84a9-988c1ddac05b\",\"type\":\"LinearAxis\"},{\"attributes\":{},\"id\":\"d17bc595-ebe5-4e27-a197-2e6cbffe461a\",\"type\":\"BasicTicker\"},{\"attributes\":{\"dimension\":1,\"plot\":{\"id\":\"5dcbbd0c-6c6f-4eaa-9a63-aeb9e97d3e2d\",\"subtype\":\"Figure\",\"type\":\"Plot\"},\"ticker\":{\"id\":\"d17bc595-ebe5-4e27-a197-2e6cbffe461a\",\"type\":\"BasicTicker\"}},\"id\":\"0feefb6b-357e-491b-841e-4f631f1538a7\",\"type\":\"Grid\"},{\"attributes\":{\"bottom_units\":\"screen\",\"fill_alpha\":{\"value\":0.5},\"fill_color\":{\"value\":\"lightgrey\"},\"left_units\":\"screen\",\"level\":\"overlay\",\"line_alpha\":{\"value\":1.0},\"line_color\":{\"value\":\"black\"},\"line_dash\":[4,4],\"line_width\":{\"value\":2},\"plot\":null,\"render_mode\":\"css\",\"right_units\":\"screen\",\"top_units\":\"screen\"},\"id\":\"90d2357b-cc73-458f-aec0-d8a41adb76c1\",\"type\":\"BoxAnnotation\"},{\"attributes\":{\"callback\":null,\"renderers\":\"auto\",\"tooltips\":[[\"Attempt\",\"@y\"],[\"Made\",\"@x\"],[\"Player\",\"@tm\"]]},\"id\":\"5f6732a8-8226-4559-bbd9-a428b0ad7e71\",\"type\":\"HoverTool\"},{\"attributes\":{},\"id\":\"7adaa0e0-5d17-4dff-9db8-0dad018af25c\",\"type\":\"PanTool\"},{\"attributes\":{\"source\":{\"id\":\"26244bc4-a3a6-4cfd-9d08-0c07196a0850\",\"type\":\"ColumnDataSource\"}},\"id\":\"293c059b-2fcd-4226-a7db-9d9a90054776\",\"type\":\"CDSView\"},{\"attributes\":{\"label\":{\"field\":\"tm\"},\"renderers\":[{\"id\":\"8d2bc594-cba1-4762-8507-7d2292314cfe\",\"type\":\"GlyphRenderer\"}]},\"id\":\"15ebf084-f56b-423b-8cf0-c09103e1fe12\",\"type\":\"LegendItem\"},{\"attributes\":{},\"id\":\"407ff00b-d1af-434b-948f-640a4e60a25a\",\"type\":\"WheelZoomTool\"},{\"attributes\":{\"overlay\":{\"id\":\"90d2357b-cc73-458f-aec0-d8a41adb76c1\",\"type\":\"BoxAnnotation\"}},\"id\":\"0c6e064a-360b-4771-b272-62c8e327c804\",\"type\":\"BoxZoomTool\"},{\"attributes\":{},\"id\":\"9024c3b1-43ac-432f-8304-920ddcb57537\",\"type\":\"ResetTool\"},{\"attributes\":{},\"id\":\"703a0864-8299-4f1a-8c5e-2ca9c77b825a\",\"type\":\"CrosshairTool\"},{\"attributes\":{\"callback\":null,\"overlay\":{\"id\":\"6b3e7557-5552-424c-a792-c80b557ec6b9\",\"type\":\"PolyAnnotation\"}},\"id\":\"b75363b5-be41-4b2d-823d-6b1074a7d05e\",\"type\":\"LassoSelectTool\"},{\"attributes\":{\"data_source\":{\"id\":\"26244bc4-a3a6-4cfd-9d08-0c07196a0850\",\"type\":\"ColumnDataSource\"},\"glyph\":{\"id\":\"b127c62b-90dc-4e58-a522-a084474d7dfc\",\"type\":\"Circle\"},\"hover_glyph\":null,\"muted_glyph\":null,\"nonselection_glyph\":{\"id\":\"6d521dd1-2227-4d2e-b70a-ef7841687413\",\"type\":\"Circle\"},\"selection_glyph\":null,\"view\":{\"id\":\"293c059b-2fcd-4226-a7db-9d9a90054776\",\"type\":\"CDSView\"}},\"id\":\"8d2bc594-cba1-4762-8507-7d2292314cfe\",\"type\":\"GlyphRenderer\"},{\"attributes\":{\"callback\":null,\"data\":{\"pts\":{\"__ndarray__\":\"AAAAAAAgWECamZmZmflWQGZmZmZmplhAAAAAAADgV0BmZmZmZoZZQAAAAAAAYFlAmpmZmZl5WkDNzMzMzOxZQJqZmZmZ2VlAAAAAAADAV0DNzMzMzAxZQAAAAAAAQFhAmpmZmZnZWEAAAAAAAKBaQDMzMzMzM1pAMzMzMzMTWEAAAAAAAMBYQDMzMzMzU1hA\",\"dtype\":\"float64\",\"shape\":[18]},\"tm\":[\"BOS\",\"MIL\",\"CHI\",\"CLE\",\"MIA\",\"LAL\",\"HOU\",\"SAS\",\"GSW\",\"ATL\",\"DAL\",\"DET\",\"SAC\",\"NYK\",\"OKC\",\"POR\",\"PHI\",\"WAS\"],\"win\":[56,35,62,19,58,57,43,61,36,44,57,30,24,42,55,48,41,23],\"x\":{\"__ndarray__\":\"ZmZmZmbmP0BmZmZmZmY8QGZmZmZm5j5AAAAAAAAAPUDNzMzMzEw+QM3MzMzMzD9AZmZmZmZmPkAAAAAAAAA+QM3MzMzMTD9AmpmZmZkZPkCamZmZmZk9QAAAAAAAgD9AAAAAAACAQEAAAAAAAAA9QAAAAAAAgD9AMzMzMzOzPUCamZmZmVlAQDMzMzMzM0BA\",\"dtype\":\"float64\",\"shape\":[18]},\"y\":{\"__ndarray__\":\"mpmZmZkZT0DNzMzMzExPQM3MzMzMjE9AMzMzMzNzT0BmZmZmZmZNQDMzMzMzE1BAzczMzMxMT0BmZmZmZuZNQGZmZmZmJlBAAAAAAACATkBmZmZmZqZMQM3MzMzMbFBAAAAAAABgUUAzMzMzMzNNQAAAAAAAwE9AzczMzMwMT0CamZmZmdlQQGZmZmZmZlFA\",\"dtype\":\"float64\",\"shape\":[18]}},\"selected\":{\"id\":\"79f0d568-d79f-425e-82ae-4f696d30f285\",\"type\":\"Selection\"},\"selection_policy\":{\"id\":\"e36c0f77-9429-4479-aba8-7eca3d84258c\",\"type\":\"UnionRenderers\"}},\"id\":\"26244bc4-a3a6-4cfd-9d08-0c07196a0850\",\"type\":\"ColumnDataSource\"},{\"attributes\":{\"fill_alpha\":{\"value\":0.5},\"fill_color\":{\"value\":\"lightgrey\"},\"level\":\"overlay\",\"line_alpha\":{\"value\":1.0},\"line_color\":{\"value\":\"black\"},\"line_dash\":[4,4],\"line_width\":{\"value\":2},\"plot\":null,\"xs_units\":\"screen\",\"ys_units\":\"screen\"},\"id\":\"6b3e7557-5552-424c-a792-c80b557ec6b9\",\"type\":\"PolyAnnotation\"},{\"attributes\":{},\"id\":\"e36c0f77-9429-4479-aba8-7eca3d84258c\",\"type\":\"UnionRenderers\"},{\"attributes\":{\"plot\":null,\"text\":\"\"},\"id\":\"7ea69043-1847-463f-9b0a-24d1a51a9b26\",\"type\":\"Title\"},{\"attributes\":{},\"id\":\"b7a9c254-1949-4426-b89b-c985c94417a7\",\"type\":\"UnionRenderers\"},{\"attributes\":{\"data_source\":{\"id\":\"256bc195-e796-4664-a7f7-e5961d1273a4\",\"type\":\"ColumnDataSource\"},\"glyph\":{\"id\":\"f707c7db-ad3a-4caf-ae48-2192fe571897\",\"type\":\"Circle\"},\"hover_glyph\":null,\"muted_glyph\":null,\"nonselection_glyph\":{\"id\":\"f1a104be-e7ec-4c02-b0da-24df2cfe2892\",\"type\":\"Circle\"},\"selection_glyph\":null,\"view\":{\"id\":\"088dd4f1-c7b2-4ed6-9eb7-f2c2c70382b9\",\"type\":\"CDSView\"}},\"id\":\"839c7227-4847-49a7-bfe0-a03ad5f89a97\",\"type\":\"GlyphRenderer\"},{\"attributes\":{\"fill_alpha\":{\"value\":0.1},\"fill_color\":{\"value\":\"#1f77b4\"},\"line_alpha\":{\"value\":0.1},\"line_color\":{\"value\":\"#1f77b4\"},\"size\":{\"units\":\"screen\",\"value\":12},\"x\":{\"field\":\"y\"},\"y\":{\"field\":\"x\"}},\"id\":\"f1a104be-e7ec-4c02-b0da-24df2cfe2892\",\"type\":\"Circle\"},{\"attributes\":{\"callback\":null,\"data\":{\"pts\":{\"__ndarray__\":\"zczMzMxsXUAAAAAAAGBcQJqZmZmZ+VxAmpmZmZm5XEAAAAAAAIBbQA==\",\"dtype\":\"float64\",\"shape\":[5]},\"tm\":[\"GSW\",\"GSW\",\"GSW\",\"GSW\",\"GSW\"],\"win\":[57,58,67,73,67],\"x\":{\"__ndarray__\":\"zczMzMzMPkAAAAAAAIA/QJqZmZmZGT9AZmZmZmZmPUDNzMzMzMw+QA==\",\"dtype\":\"float64\",\"shape\":[5]},\"y\":{\"__ndarray__\":\"ZmZmZmamS0CamZmZmRlMQGZmZmZm5ktAmpmZmZnZS0AAAAAAAABOQA==\",\"dtype\":\"float64\",\"shape\":[5]}},\"selected\":{\"id\":\"3433f9c9-b932-4c4f-a837-18904d6a2bb8\",\"type\":\"Selection\"},\"selection_policy\":{\"id\":\"b7a9c254-1949-4426-b89b-c985c94417a7\",\"type\":\"UnionRenderers\"}},\"id\":\"256bc195-e796-4664-a7f7-e5961d1273a4\",\"type\":\"ColumnDataSource\"},{\"attributes\":{\"fill_color\":{\"value\":\"gold\"},\"line_color\":{\"value\":\"gold\"},\"size\":{\"units\":\"screen\",\"value\":12},\"x\":{\"field\":\"y\"},\"y\":{\"field\":\"x\"}},\"id\":\"f707c7db-ad3a-4caf-ae48-2192fe571897\",\"type\":\"Circle\"},{\"attributes\":{},\"id\":\"79f0d568-d79f-425e-82ae-4f696d30f285\",\"type\":\"Selection\"},{\"attributes\":{\"factors\":[\"BOS\",\"MIL\",\"CHI\",\"CLE\",\"MIA\",\"LAL\",\"MNL\",\"HOU\",\"SDR\",\"SAS\",\"SAA\",\"DLC\",\"TEX\",\"GSW\",\"SFW\",\"PHW\",\"ATL\",\"STL\",\"MLH\",\"TRI\",\"DAL\",\"DET\",\"FTW\",\"SAC\",\"KCK\",\"KCO\",\"CIN\",\"ROC\",\"NYK\",\"OKC\",\"SEA\",\"POR\",\"PHI\",\"SYR\",\"WAS\",\"WSB\",\"CAP\",\"BAL\",\"CHZ\",\"CHP\"],\"palette\":[\"#1f77b4\",\"#aec7e8\",\"#ff7f0e\",\"#ffbb78\",\"#2ca02c\",\"#98df8a\",\"#d62728\",\"#ff9896\",\"#9467bd\",\"#c5b0d5\",\"#8c564b\",\"#c49c94\",\"#e377c2\",\"#f7b6d2\",\"#7f7f7f\",\"#c7c7c7\",\"#bcbd22\",\"#dbdb8d\",\"#17becf\",\"#9edae5\",\"#800026\",\"#bd0026\",\"#e31a1c\",\"#fc4e2a\",\"#fd8d3c\",\"#feb24c\",\"#fed976\",\"#ffeda0\",\"#ffffcc\",\"#a6cee3\",\"#1f78b4\",\"#b2df8a\",\"#33a02c\",\"#fb9a99\",\"#e31a1c\",\"#fdbf6f\",\"#ff7f00\",\"#cab2d6\",\"#6a3d9a\",\"#ffff99\"]},\"id\":\"dfef0cdf-98ec-437b-92c9-8048c6487a24\",\"type\":\"CategoricalColorMapper\"},{\"attributes\":{\"label\":{\"field\":\"tm\"},\"renderers\":[{\"id\":\"839c7227-4847-49a7-bfe0-a03ad5f89a97\",\"type\":\"GlyphRenderer\"}]},\"id\":\"537110bd-d397-4bd3-a9e2-1533424ad3eb\",\"type\":\"LegendItem\"},{\"attributes\":{},\"id\":\"52eaedc9-49bb-4d73-84e9-a66644a8ebaa\",\"type\":\"BasicTickFormatter\"},{\"attributes\":{},\"id\":\"3433f9c9-b932-4c4f-a837-18904d6a2bb8\",\"type\":\"Selection\"},{\"attributes\":{\"below\":[{\"id\":\"d1a01a1b-95b7-4e5e-a145-1bdf65780179\",\"type\":\"LinearAxis\"}],\"left\":[{\"id\":\"f3d42ea3-42a5-4fde-84a9-988c1ddac05b\",\"type\":\"LinearAxis\"}],\"renderers\":[{\"id\":\"d1a01a1b-95b7-4e5e-a145-1bdf65780179\",\"type\":\"LinearAxis\"},{\"id\":\"1be7f865-ed01-48c1-b900-8af35a5d0087\",\"type\":\"Grid\"},{\"id\":\"f3d42ea3-42a5-4fde-84a9-988c1ddac05b\",\"type\":\"LinearAxis\"},{\"id\":\"0feefb6b-357e-491b-841e-4f631f1538a7\",\"type\":\"Grid\"},{\"id\":\"90d2357b-cc73-458f-aec0-d8a41adb76c1\",\"type\":\"BoxAnnotation\"},{\"id\":\"6b3e7557-5552-424c-a792-c80b557ec6b9\",\"type\":\"PolyAnnotation\"},{\"id\":\"c6112963-ba3c-487d-b379-073a322d5e18\",\"type\":\"Legend\"},{\"id\":\"8d2bc594-cba1-4762-8507-7d2292314cfe\",\"type\":\"GlyphRenderer\"},{\"id\":\"839c7227-4847-49a7-bfe0-a03ad5f89a97\",\"type\":\"GlyphRenderer\"}],\"right\":[{\"id\":\"c6112963-ba3c-487d-b379-073a322d5e18\",\"type\":\"Legend\"}],\"title\":{\"id\":\"7ea69043-1847-463f-9b0a-24d1a51a9b26\",\"type\":\"Title\"},\"toolbar\":{\"id\":\"bb3b97f5-91e1-49d1-9dc6-9951d886b8b1\",\"type\":\"Toolbar\"},\"x_range\":{\"id\":\"2d7a51fd-7972-474d-b67f-06531fd7a537\",\"type\":\"Range1d\"},\"x_scale\":{\"id\":\"fbb81691-3c49-42db-bcb4-e21035abb874\",\"type\":\"LinearScale\"},\"y_range\":{\"id\":\"66bfe2f7-ca5a-4e1e-8a59-7b9768feea24\",\"type\":\"Range1d\"},\"y_scale\":{\"id\":\"20cd29fa-8c96-4cc7-818c-81c9efc5ca6d\",\"type\":\"LinearScale\"}},\"id\":\"5dcbbd0c-6c6f-4eaa-9a63-aeb9e97d3e2d\",\"subtype\":\"Figure\",\"type\":\"Plot\"},{\"attributes\":{\"fill_color\":{\"field\":\"tm\",\"transform\":{\"id\":\"dfef0cdf-98ec-437b-92c9-8048c6487a24\",\"type\":\"CategoricalColorMapper\"}},\"line_color\":{\"field\":\"tm\",\"transform\":{\"id\":\"dfef0cdf-98ec-437b-92c9-8048c6487a24\",\"type\":\"CategoricalColorMapper\"}},\"size\":{\"units\":\"screen\",\"value\":12},\"x\":{\"field\":\"y\"},\"y\":{\"field\":\"x\"}},\"id\":\"b127c62b-90dc-4e58-a522-a084474d7dfc\",\"type\":\"Circle\"},{\"attributes\":{\"active_drag\":\"auto\",\"active_inspect\":\"auto\",\"active_scroll\":\"auto\",\"active_tap\":\"auto\",\"tools\":[{\"id\":\"5f6732a8-8226-4559-bbd9-a428b0ad7e71\",\"type\":\"HoverTool\"},{\"id\":\"7adaa0e0-5d17-4dff-9db8-0dad018af25c\",\"type\":\"PanTool\"},{\"id\":\"407ff00b-d1af-434b-948f-640a4e60a25a\",\"type\":\"WheelZoomTool\"},{\"id\":\"0c6e064a-360b-4771-b272-62c8e327c804\",\"type\":\"BoxZoomTool\"},{\"id\":\"9024c3b1-43ac-432f-8304-920ddcb57537\",\"type\":\"ResetTool\"},{\"id\":\"703a0864-8299-4f1a-8c5e-2ca9c77b825a\",\"type\":\"CrosshairTool\"},{\"id\":\"b75363b5-be41-4b2d-823d-6b1074a7d05e\",\"type\":\"LassoSelectTool\"}]},\"id\":\"bb3b97f5-91e1-49d1-9dc6-9951d886b8b1\",\"type\":\"Toolbar\"},{\"attributes\":{\"callback\":null,\"end\":100,\"start\":40},\"id\":\"2d7a51fd-7972-474d-b67f-06531fd7a537\",\"type\":\"Range1d\"},{\"attributes\":{\"callback\":null,\"end\":60,\"start\":20},\"id\":\"66bfe2f7-ca5a-4e1e-8a59-7b9768feea24\",\"type\":\"Range1d\"}],\"root_ids\":[\"5dcbbd0c-6c6f-4eaa-9a63-aeb9e97d3e2d\"]},\"title\":\"Bokeh Application\",\"version\":\"0.12.16\"}};\n",
       "  var render_items = [{\"docid\":\"1bc2f69a-9b9e-4654-b97a-6c5228c2302c\",\"elementid\":\"5d611693-02c8-4ba4-aacf-83c3bbe038ea\",\"modelid\":\"5dcbbd0c-6c6f-4eaa-9a63-aeb9e97d3e2d\",\"notebook_comms_target\":\"7bca835d-1ced-46fd-9912-80b2f9231a41\"}];\n",
       "  root.Bokeh.embed.embed_items_notebook(docs_json, render_items);\n",
       "\n",
       "  }\n",
       "  if (root.Bokeh !== undefined) {\n",
       "    embed_document(root);\n",
       "  } else {\n",
       "    var attempts = 0;\n",
       "    var timer = setInterval(function(root) {\n",
       "      if (root.Bokeh !== undefined) {\n",
       "        embed_document(root);\n",
       "        clearInterval(timer);\n",
       "      }\n",
       "      attempts++;\n",
       "      if (attempts > 100) {\n",
       "        console.log(\"Bokeh: ERROR: Unable to run BokehJS code because BokehJS library is missing\")\n",
       "        clearInterval(timer);\n",
       "      }\n",
       "    }, 10, root)\n",
       "  }\n",
       "})(window);"
      ],
      "application/vnd.bokehjs_exec.v0+json": ""
     },
     "metadata": {
      "application/vnd.bokehjs_exec.v0+json": {
       "id": "5dcbbd0c-6c6f-4eaa-9a63-aeb9e97d3e2d"
      }
     },
     "output_type": "display_data"
    },
    {
     "data": {
      "application/vnd.jupyter.widget-view+json": {
       "model_id": "a83a248f556b4031adcf97254d38638e",
       "version_major": 2,
       "version_minor": 0
      },
      "text/plain": [
       "interactive(children=(IntSlider(value=1980, description='Start Year:', max=2017, min=1980), Output()), _dom_cl…"
      ]
     },
     "metadata": {},
     "output_type": "display_data"
    },
    {
     "data": {
      "application/vnd.jupyter.widget-view+json": {
       "model_id": "af150cc44989459c8107e546fc427f27",
       "version_major": 2,
       "version_minor": 0
      },
      "text/plain": [
       "interactive(children=(Play(value=1980, description='Season', max=2017, min=1980), Output()), _dom_classes=('wi…"
      ]
     },
     "metadata": {},
     "output_type": "display_data"
    }
   ],
   "source": [
    "from bokeh.models import ColumnDataSource\n",
    "from bokeh.models import HoverTool\n",
    "from bokeh.models import LinearInterpolator\n",
    "from bokeh.models import CategoricalColorMapper\n",
    "from bokeh.palettes import Category20\n",
    "from bokeh.plotting import figure\n",
    "from bokeh.models import Circle\n",
    "from ipywidgets import interact,interactive, fixed, interact_manual,widgets\n",
    "from bokeh.io import push_notebook,show\n",
    "\n",
    "\n",
    "datacom = pd.read_csv('nba-players-stats/allteamcombined.csv',index_col=['Season'])\n",
    "datawarriorschamp = pd.read_csv('nba-players-stats/WarriorsChamp.csv',index_col=[\"Rank\"])\n",
    "\n",
    "source = ColumnDataSource(dict( \n",
    "    tm = datacom.loc[2010].Tm, \n",
    "    x = datacom.loc[2010].get('2P'),\n",
    "    y = datacom.loc[2010].get('2PA'),\n",
    "    win = datacom.loc[2010].W,\n",
    "    pts = datacom.loc[2010].PTS\n",
    "))\n",
    "sourcewr = ColumnDataSource(dict(\n",
    "    tm = datawarriorschamp.Tm,\n",
    "    x = datawarriorschamp.get('2P'),\n",
    "    y = datawarriorschamp.get('2PA'),\n",
    "    win = datawarriorschamp.W,\n",
    "    pts = datawarriorschamp.PTS\n",
    "))\n",
    "Hover_tools = HoverTool(tooltips = [\n",
    "    ('Attempt', \"@y\"),\n",
    "     ('Made', \"@x\"),\n",
    "    ('Player', '@tm'),])\n",
    "\n",
    "# relative_size = LinearInterpolator(\n",
    "#     x = [datacom.PTS.min(),datacom.PTS.max()],\n",
    "#     y = [2,40]\n",
    "# )\n",
    "\n",
    "color_mapper = CategoricalColorMapper(\n",
    "  factors= list(datacom.Tm.unique()),\n",
    "  palette= ['#1f77b4', '#aec7e8', '#ff7f0e', \n",
    "            '#ffbb78', '#2ca02c', '#98df8a', \n",
    "            '#d62728', \n",
    "            '#ff9896', '#9467bd', '#c5b0d5',\n",
    "            '#8c564b', '#c49c94', '#e377c2', \n",
    "            '#f7b6d2', \n",
    "            '#7f7f7f', '#c7c7c7', '#bcbd22', \n",
    "            '#dbdb8d', '#17becf', '#9edae5',\n",
    "            '#800026', '#bd0026','#e31a1c', \n",
    "            '#fc4e2a',\n",
    "            '#fd8d3c','#feb24c','#fed976',\n",
    "            '#ffeda0','#ffffcc','#a6cee3',\n",
    "            '#1f78b4','#b2df8a','#33a02c',\n",
    "            '#fb9a99','#e31a1c','#fdbf6f',\n",
    "            '#ff7f00','#cab2d6','#6a3d9a',\n",
    "            '#ffff99']\n",
    ")\n",
    "\n",
    "\n",
    "# color_mapper = CategoricalColorMapper(\n",
    "#  factors=['PF-C', 'C-PF', 'C', 'G', 'F', 'G-SF', 'SF-G'],\n",
    "#  palette=['blue', 'red', 'green','grey','Purple','Black','orange'])\n",
    "\n",
    "\n",
    "p5 = figure( tools = [Hover_tools,'pan', 'wheel_zoom','box_zoom','reset','crosshair','lasso_select'],\n",
    "            height=600,\n",
    "           width = 600,\n",
    "           x_range = (40,100),\n",
    "           y_range=(20,60),  \n",
    "            y_axis_label = \"2 point Made\",\n",
    "           x_axis_label = \"2 point Attempt\")\n",
    "\n",
    "p5.circle(x='y', \n",
    "         y='x',\n",
    "      size = 12,\n",
    "       # color = 'blue',\n",
    "      # size = {'field':'pts','transform':relative_size},\n",
    "       color = {'field':'tm','transform': color_mapper},\n",
    "         alpha = 1,\n",
    "         legend = 'tm',\n",
    "        source = source)\n",
    "\n",
    "p5.circle(x='y', \n",
    "         y='x',\n",
    "      size = 12,\n",
    "       color = 'gold',\n",
    "      # size = {'field':'pts','transform':relative_size},\n",
    "       #color = {'field':'tm','transform': color_mapper},\n",
    "         alpha = 1,\n",
    "         legend = 'tm',\n",
    "        source = sourcewr)\n",
    "p5.right = p5.legend\n",
    "\n",
    "\n",
    "\n",
    "def update(Season):\n",
    "    interactivedata = dict(\n",
    "     tm = datacom.loc[Season].Tm, \n",
    "      x = datacom.loc[Season].get('2P'),\n",
    "    y = datacom.loc[Season].get('2PA'), \n",
    "     win = datacom.loc[Season].W,\n",
    "        pts = datacom.loc[Season].PTS\n",
    "    )\n",
    "    \n",
    "    source.data = interactivedata\n",
    "    p5.title.text= \"warriors vs other team (2PA vs 2PM)    Year:\" + str(Season) +\"  Season:\" +str(Season)+'-'+str(int(Season)+1)\n",
    "    push_notebook()\n",
    "    \n",
    "\n",
    "# +\"-\"+ str(int(Season)+1)\n",
    "show(p5,notebook_handle=True)\n",
    "\n",
    "interact(update,\n",
    "Season = widgets.IntSlider(\n",
    "    value=1,\n",
    "    min=1980,\n",
    "    max=2018-1,\n",
    "    step=1,\n",
    "    description='Start Year:',\n",
    "    continuous_update=True,\n",
    "    orientation='Horizontal',\n",
    "    readout=True,\n",
    "    readout_format='d',\n",
    "));\n",
    "\n",
    "interact(update,\n",
    "    Season = widgets.Play( \n",
    "    value=0,\n",
    "    min=1980,\n",
    "    max=2018-1,\n",
    "    step=1,\n",
    "    disabled=False\n",
    "));"
   ]
  },
  {
   "cell_type": "markdown",
   "metadata": {
    "extensions": {
     "jupyter_dashboards": {
      "version": 1,
      "views": {
       "grid_default": {
        "col": 0,
        "height": 5,
        "hidden": false,
        "row": 612,
        "width": 12
       },
       "report_default": {
        "hidden": false
       }
      }
     }
    }
   },
   "source": [
    "# Warriors vs Teams (TEams that have won one championship)\n",
    "\n",
    "# FGA vs FG"
   ]
  },
  {
   "cell_type": "markdown",
   "metadata": {
    "extensions": {
     "jupyter_dashboards": {
      "version": 1,
      "views": {
       "grid_default": {
        "hidden": true
       },
       "report_default": {
        "hidden": true
       }
      }
     }
    }
   },
   "source": [
    "**Click Run Cell Below.(Refresh)*** if no reactions "
   ]
  },
  {
   "cell_type": "code",
   "execution_count": 48,
   "metadata": {
    "extensions": {
     "jupyter_dashboards": {
      "version": 1,
      "views": {
       "grid_default": {
        "col": 7,
        "height": 4,
        "hidden": false,
        "row": 261,
        "width": 4
       },
       "report_default": {
        "hidden": false
       }
      }
     }
    }
   },
   "outputs": [
    {
     "data": {
      "application/vnd.jupyter.widget-view+json": {
       "model_id": "911ca99ceb9f47a8a0835f3f5f7df037",
       "version_major": 2,
       "version_minor": 0
      },
      "text/plain": [
       "Button(description='Run Cell Below', style=ButtonStyle())"
      ]
     },
     "metadata": {},
     "output_type": "display_data"
    }
   ],
   "source": [
    "from IPython.display import Javascript, display\n",
    "from ipywidgets import widgets\n",
    "\n",
    "\n",
    "def run_all(ev):\n",
    "    display(Javascript('IPython.notebook.execute_cell_range(IPython.notebook.get_selected_index()+1, IPython.notebook.get_selected_index()+2)'))\n",
    "\n",
    "button = widgets.Button(description=\"Run Cell Below\")\n",
    "button.on_click(run_all)\n",
    "display(button)"
   ]
  },
  {
   "cell_type": "code",
   "execution_count": 49,
   "metadata": {
    "extensions": {
     "jupyter_dashboards": {
      "version": 1,
      "views": {
       "grid_default": {
        "col": 0,
        "height": 25,
        "hidden": false,
        "row": 617,
        "width": 9
       },
       "report_default": {
        "hidden": false
       }
      }
     }
    }
   },
   "outputs": [
    {
     "data": {
      "text/html": [
       "\n",
       "<div class=\"bk-root\">\n",
       "    <div class=\"bk-plotdiv\" id=\"fc66706c-6b4b-4e51-bea3-0495174f625e\"></div>\n",
       "</div>"
      ]
     },
     "metadata": {},
     "output_type": "display_data"
    },
    {
     "data": {
      "application/javascript": [
       "(function(root) {\n",
       "  function embed_document(root) {\n",
       "    \n",
       "  var docs_json = {\"223d0a48-f525-4796-930d-0e721244d694\":{\"roots\":{\"references\":[{\"attributes\":{\"bottom_units\":\"screen\",\"fill_alpha\":{\"value\":0.5},\"fill_color\":{\"value\":\"lightgrey\"},\"left_units\":\"screen\",\"level\":\"overlay\",\"line_alpha\":{\"value\":1.0},\"line_color\":{\"value\":\"black\"},\"line_dash\":[4,4],\"line_width\":{\"value\":2},\"plot\":null,\"render_mode\":\"css\",\"right_units\":\"screen\",\"top_units\":\"screen\"},\"id\":\"5cee694c-c323-4c75-aeb9-d0b6a443cb7e\",\"type\":\"BoxAnnotation\"},{\"attributes\":{\"label\":{\"field\":\"tm\"},\"renderers\":[{\"id\":\"a966a22b-9745-4d19-aa1b-d1a4f625c2e2\",\"type\":\"GlyphRenderer\"}]},\"id\":\"b86409cf-a81b-4d0a-af92-1582292e2b45\",\"type\":\"LegendItem\"},{\"attributes\":{},\"id\":\"1c40a7e1-409b-4268-a174-4e6ddfaa2759\",\"type\":\"CrosshairTool\"},{\"attributes\":{\"plot\":null,\"text\":\"\"},\"id\":\"29102871-8b28-432d-bba0-efd62bbb3d0f\",\"type\":\"Title\"},{\"attributes\":{\"callback\":null,\"data\":{\"pts\":{\"__ndarray__\":\"AAAAAAAgWECamZmZmflWQGZmZmZmplhAAAAAAADgV0BmZmZmZoZZQAAAAAAAYFlAmpmZmZl5WkDNzMzMzOxZQJqZmZmZ2VlAAAAAAADAV0DNzMzMzAxZQAAAAAAAQFhAmpmZmZnZWEAAAAAAAKBaQDMzMzMzM1pAMzMzMzMTWEAAAAAAAMBYQDMzMzMzU1hA\",\"dtype\":\"float64\",\"shape\":[18]},\"tm\":[\"BOS\",\"MIL\",\"CHI\",\"CLE\",\"MIA\",\"LAL\",\"HOU\",\"SAS\",\"GSW\",\"ATL\",\"DAL\",\"DET\",\"SAC\",\"NYK\",\"OKC\",\"POR\",\"PHI\",\"WAS\"],\"win\":[56,35,62,19,58,57,43,61,36,44,57,30,24,42,55,48,41,23],\"x\":{\"__ndarray__\":\"MzMzMzNzQkBmZmZmZiZBQM3MzMzMjEJAmpmZmZmZQUAAAAAAAIBCQM3MzMzMDENAmpmZmZlZQ0AzMzMzMzNDQM3MzMzMzENAmpmZmZkZQkAzMzMzM7NCQGZmZmZmpkJAmpmZmZkZQ0BmZmZmZiZDQDMzMzMzs0JAAAAAAAAAQkDNzMzMzAxDQJqZmZmZmUJA\",\"dtype\":\"float64\",\"shape\":[18]},\"y\":{\"__ndarray__\":\"MzMzMzPzUkAzMzMzM/NTQDMzMzMzE1RAZmZmZmZGVEAzMzMzMzNTQJqZmZmZmVRAZmZmZmZGVUAzMzMzMzNUQJqZmZmZeVVAmpmZmZmZU0AzMzMzM7NTQGZmZmZmRlRAZmZmZmZGVUDNzMzMzOxUQGZmZmZmJlRAAAAAAAAgVEBmZmZmZqZUQAAAAAAAAFVA\",\"dtype\":\"float64\",\"shape\":[18]}},\"selected\":{\"id\":\"5e4379d7-f5bb-44a0-9cdc-9170e83cdb8b\",\"type\":\"Selection\"},\"selection_policy\":{\"id\":\"5f5223b4-2ba5-4c55-813b-9bf8adf25bc4\",\"type\":\"UnionRenderers\"}},\"id\":\"0f0aa92e-738a-4a5d-ba42-048198b16daf\",\"type\":\"ColumnDataSource\"},{\"attributes\":{},\"id\":\"5e4379d7-f5bb-44a0-9cdc-9170e83cdb8b\",\"type\":\"Selection\"},{\"attributes\":{},\"id\":\"5f5223b4-2ba5-4c55-813b-9bf8adf25bc4\",\"type\":\"UnionRenderers\"},{\"attributes\":{},\"id\":\"83f51d38-ca72-46af-bd04-3ce35263941a\",\"type\":\"Selection\"},{\"attributes\":{\"fill_alpha\":{\"value\":0.1},\"fill_color\":{\"value\":\"#1f77b4\"},\"line_alpha\":{\"value\":0.1},\"line_color\":{\"value\":\"#1f77b4\"},\"size\":{\"units\":\"screen\",\"value\":12},\"x\":{\"field\":\"y\"},\"y\":{\"field\":\"x\"}},\"id\":\"4938eb70-a960-4e03-9c7f-d119c03c3617\",\"type\":\"Circle\"},{\"attributes\":{\"fill_color\":{\"value\":\"gold\"},\"line_color\":{\"value\":\"gold\"},\"size\":{\"units\":\"screen\",\"value\":12},\"x\":{\"field\":\"y\"},\"y\":{\"field\":\"x\"}},\"id\":\"a3e80d76-ba5d-4011-86c1-6762fd7c924e\",\"type\":\"Circle\"},{\"attributes\":{\"callback\":null,\"renderers\":\"auto\",\"tooltips\":[[\"Attempt\",\"@y\"],[\"Made\",\"@x\"],[\"Player\",\"@tm\"],[\"Warriors Season\",\"@season\"]]},\"id\":\"20fb71a9-47ac-41bb-bdb5-65fb8065bd94\",\"type\":\"HoverTool\"},{\"attributes\":{\"source\":{\"id\":\"4356466f-1084-45c5-a120-5e5164f71679\",\"type\":\"ColumnDataSource\"}},\"id\":\"4be39588-3ac2-491d-be9a-80fb6f711d79\",\"type\":\"CDSView\"},{\"attributes\":{\"data_source\":{\"id\":\"4356466f-1084-45c5-a120-5e5164f71679\",\"type\":\"ColumnDataSource\"},\"glyph\":{\"id\":\"a3e80d76-ba5d-4011-86c1-6762fd7c924e\",\"type\":\"Circle\"},\"hover_glyph\":null,\"muted_glyph\":null,\"nonselection_glyph\":{\"id\":\"4938eb70-a960-4e03-9c7f-d119c03c3617\",\"type\":\"Circle\"},\"selection_glyph\":null,\"view\":{\"id\":\"4be39588-3ac2-491d-be9a-80fb6f711d79\",\"type\":\"CDSView\"}},\"id\":\"c9963bbd-aa86-496e-973c-24566600d23e\",\"type\":\"GlyphRenderer\"},{\"attributes\":{\"callback\":null,\"data\":{\"pts\":{\"__ndarray__\":\"zczMzMxsXUAAAAAAAGBcQJqZmZmZ+VxAmpmZmZm5XEAAAAAAAIBbQA==\",\"dtype\":\"float64\",\"shape\":[5]},\"season\":[2018,2017,2016,2015,2014],\"tm\":[\"GSW\",\"GSW\",\"GSW\",\"GSW\",\"GSW\"],\"win\":[57,58,67,73,67],\"x\":{\"__ndarray__\":\"AAAAAAAARkBmZmZmZmZFQM3MzMzMjEVAAAAAAABARUDNzMzMzMxEQA==\",\"dtype\":\"float64\",\"shape\":[5]},\"y\":{\"__ndarray__\":\"MzMzMzNzVkBmZmZmZkZVQGZmZmZmxlVAMzMzMzPTVUAAAAAAAMBVQA==\",\"dtype\":\"float64\",\"shape\":[5]}},\"selected\":{\"id\":\"83f51d38-ca72-46af-bd04-3ce35263941a\",\"type\":\"Selection\"},\"selection_policy\":{\"id\":\"8529ecf7-8545-406a-9c2d-30e30c40390f\",\"type\":\"UnionRenderers\"}},\"id\":\"4356466f-1084-45c5-a120-5e5164f71679\",\"type\":\"ColumnDataSource\"},{\"attributes\":{\"label\":{\"field\":\"tm\"},\"renderers\":[{\"id\":\"c9963bbd-aa86-496e-973c-24566600d23e\",\"type\":\"GlyphRenderer\"}]},\"id\":\"2017da74-6f94-40b7-aae6-fb8668bf63af\",\"type\":\"LegendItem\"},{\"attributes\":{\"below\":[{\"id\":\"93a04ac5-c491-4338-ab80-cd6dec4164e8\",\"type\":\"LinearAxis\"}],\"left\":[{\"id\":\"41582bde-bcd6-48c5-9d99-05e327eb53f1\",\"type\":\"LinearAxis\"}],\"renderers\":[{\"id\":\"93a04ac5-c491-4338-ab80-cd6dec4164e8\",\"type\":\"LinearAxis\"},{\"id\":\"d45cbf81-4e56-4bbc-8b1d-89c8fc0679ff\",\"type\":\"Grid\"},{\"id\":\"41582bde-bcd6-48c5-9d99-05e327eb53f1\",\"type\":\"LinearAxis\"},{\"id\":\"a67bb36b-70ad-4e17-b316-0bd9cac9d24d\",\"type\":\"Grid\"},{\"id\":\"5cee694c-c323-4c75-aeb9-d0b6a443cb7e\",\"type\":\"BoxAnnotation\"},{\"id\":\"f1920034-e021-48d2-b5d5-d7429e8f1285\",\"type\":\"Legend\"},{\"id\":\"a966a22b-9745-4d19-aa1b-d1a4f625c2e2\",\"type\":\"GlyphRenderer\"},{\"id\":\"c9963bbd-aa86-496e-973c-24566600d23e\",\"type\":\"GlyphRenderer\"}],\"right\":[{\"id\":\"f1920034-e021-48d2-b5d5-d7429e8f1285\",\"type\":\"Legend\"}],\"title\":{\"id\":\"29102871-8b28-432d-bba0-efd62bbb3d0f\",\"type\":\"Title\"},\"toolbar\":{\"id\":\"1f316847-8059-4852-ac3c-e2877b5e9598\",\"type\":\"Toolbar\"},\"x_range\":{\"id\":\"e591d881-2f31-48d8-840c-7388d5840ab8\",\"type\":\"Range1d\"},\"x_scale\":{\"id\":\"0768f923-c73d-48d0-84be-44283e72c656\",\"type\":\"LinearScale\"},\"y_range\":{\"id\":\"6aec5490-bbeb-460e-ad22-d7d75f83173a\",\"type\":\"Range1d\"},\"y_scale\":{\"id\":\"75c5f201-86ec-48db-940b-24486e90e60f\",\"type\":\"LinearScale\"}},\"id\":\"cf281995-8cba-4a37-844b-15905b0e7310\",\"subtype\":\"Figure\",\"type\":\"Plot\"},{\"attributes\":{\"factors\":[\"BOS\",\"MIL\",\"CHI\",\"CLE\",\"MIA\",\"LAL\",\"MNL\",\"HOU\",\"SDR\",\"SAS\",\"SAA\",\"DLC\",\"TEX\",\"GSW\",\"SFW\",\"PHW\",\"ATL\",\"STL\",\"MLH\",\"TRI\",\"DAL\",\"DET\",\"FTW\",\"SAC\",\"KCK\",\"KCO\",\"CIN\",\"ROC\",\"NYK\",\"OKC\",\"SEA\",\"POR\",\"PHI\",\"SYR\",\"WAS\",\"WSB\",\"CAP\",\"BAL\",\"CHZ\",\"CHP\"],\"palette\":[\"#1f77b4\",\"#aec7e8\",\"#ff7f0e\",\"#ffbb78\",\"#2ca02c\",\"#98df8a\",\"#d62728\",\"#ff9896\",\"#9467bd\",\"#c5b0d5\",\"#8c564b\",\"#c49c94\",\"#e377c2\",\"#f7b6d2\",\"#7f7f7f\",\"#c7c7c7\",\"#bcbd22\",\"#dbdb8d\",\"#17becf\",\"#9edae5\",\"#800026\",\"#bd0026\",\"#e31a1c\",\"#fc4e2a\",\"#fd8d3c\",\"#feb24c\",\"#fed976\",\"#ffeda0\",\"#ffffcc\",\"#a6cee3\",\"#1f78b4\",\"#b2df8a\",\"#33a02c\",\"#fb9a99\",\"#e31a1c\",\"#fdbf6f\",\"#ff7f00\",\"#cab2d6\",\"#6a3d9a\",\"#ffff99\"]},\"id\":\"d3af4c55-0682-4705-920a-bb85d21d64f2\",\"type\":\"CategoricalColorMapper\"},{\"attributes\":{},\"id\":\"0a286c87-6c17-46eb-b67c-5524bdaa6759\",\"type\":\"BasicTickFormatter\"},{\"attributes\":{},\"id\":\"8529ecf7-8545-406a-9c2d-30e30c40390f\",\"type\":\"UnionRenderers\"},{\"attributes\":{\"fill_color\":{\"field\":\"tm\",\"transform\":{\"id\":\"d3af4c55-0682-4705-920a-bb85d21d64f2\",\"type\":\"CategoricalColorMapper\"}},\"line_color\":{\"field\":\"tm\",\"transform\":{\"id\":\"d3af4c55-0682-4705-920a-bb85d21d64f2\",\"type\":\"CategoricalColorMapper\"}},\"size\":{\"units\":\"screen\",\"value\":12},\"x\":{\"field\":\"y\"},\"y\":{\"field\":\"x\"}},\"id\":\"fef32719-3d5d-4a0f-90e0-e958ada5a1f6\",\"type\":\"Circle\"},{\"attributes\":{\"active_drag\":\"auto\",\"active_inspect\":\"auto\",\"active_scroll\":\"auto\",\"active_tap\":\"auto\",\"tools\":[{\"id\":\"20fb71a9-47ac-41bb-bdb5-65fb8065bd94\",\"type\":\"HoverTool\"},{\"id\":\"8791166f-7220-44e9-852f-bd5d601bc221\",\"type\":\"PanTool\"},{\"id\":\"f7e58cca-445c-477b-a411-0a433825b26e\",\"type\":\"WheelZoomTool\"},{\"id\":\"26a3fe5c-f2df-4762-b0e6-1834fc943d80\",\"type\":\"BoxZoomTool\"},{\"id\":\"3556f99b-7b0f-4a00-aef4-5a3e9452a8d1\",\"type\":\"ResetTool\"},{\"id\":\"1c40a7e1-409b-4268-a174-4e6ddfaa2759\",\"type\":\"CrosshairTool\"}]},\"id\":\"1f316847-8059-4852-ac3c-e2877b5e9598\",\"type\":\"Toolbar\"},{\"attributes\":{\"callback\":null,\"end\":100,\"start\":65},\"id\":\"e591d881-2f31-48d8-840c-7388d5840ab8\",\"type\":\"Range1d\"},{\"attributes\":{\"callback\":null,\"end\":60,\"start\":20},\"id\":\"6aec5490-bbeb-460e-ad22-d7d75f83173a\",\"type\":\"Range1d\"},{\"attributes\":{},\"id\":\"75c5f201-86ec-48db-940b-24486e90e60f\",\"type\":\"LinearScale\"},{\"attributes\":{},\"id\":\"0768f923-c73d-48d0-84be-44283e72c656\",\"type\":\"LinearScale\"},{\"attributes\":{\"plot\":{\"id\":\"cf281995-8cba-4a37-844b-15905b0e7310\",\"subtype\":\"Figure\",\"type\":\"Plot\"},\"ticker\":{\"id\":\"0550d689-f6c4-4e55-91aa-5c06c0a5ef65\",\"type\":\"BasicTicker\"}},\"id\":\"d45cbf81-4e56-4bbc-8b1d-89c8fc0679ff\",\"type\":\"Grid\"},{\"attributes\":{\"items\":[{\"id\":\"b86409cf-a81b-4d0a-af92-1582292e2b45\",\"type\":\"LegendItem\"},{\"id\":\"2017da74-6f94-40b7-aae6-fb8668bf63af\",\"type\":\"LegendItem\"}],\"plot\":{\"id\":\"cf281995-8cba-4a37-844b-15905b0e7310\",\"subtype\":\"Figure\",\"type\":\"Plot\"}},\"id\":\"f1920034-e021-48d2-b5d5-d7429e8f1285\",\"type\":\"Legend\"},{\"attributes\":{\"axis_label\":\"Field GOal Attempt\",\"formatter\":{\"id\":\"0a286c87-6c17-46eb-b67c-5524bdaa6759\",\"type\":\"BasicTickFormatter\"},\"plot\":{\"id\":\"cf281995-8cba-4a37-844b-15905b0e7310\",\"subtype\":\"Figure\",\"type\":\"Plot\"},\"ticker\":{\"id\":\"0550d689-f6c4-4e55-91aa-5c06c0a5ef65\",\"type\":\"BasicTicker\"}},\"id\":\"93a04ac5-c491-4338-ab80-cd6dec4164e8\",\"type\":\"LinearAxis\"},{\"attributes\":{},\"id\":\"0550d689-f6c4-4e55-91aa-5c06c0a5ef65\",\"type\":\"BasicTicker\"},{\"attributes\":{\"axis_label\":\"Field Goal Made\",\"formatter\":{\"id\":\"57434903-6986-499c-a7b7-035e48630b9f\",\"type\":\"BasicTickFormatter\"},\"plot\":{\"id\":\"cf281995-8cba-4a37-844b-15905b0e7310\",\"subtype\":\"Figure\",\"type\":\"Plot\"},\"ticker\":{\"id\":\"4353455e-228f-4a1c-a996-8e8abc3589ea\",\"type\":\"BasicTicker\"}},\"id\":\"41582bde-bcd6-48c5-9d99-05e327eb53f1\",\"type\":\"LinearAxis\"},{\"attributes\":{},\"id\":\"4353455e-228f-4a1c-a996-8e8abc3589ea\",\"type\":\"BasicTicker\"},{\"attributes\":{\"fill_alpha\":{\"value\":0.1},\"fill_color\":{\"value\":\"#1f77b4\"},\"line_alpha\":{\"value\":0.1},\"line_color\":{\"value\":\"#1f77b4\"},\"size\":{\"units\":\"screen\",\"value\":12},\"x\":{\"field\":\"y\"},\"y\":{\"field\":\"x\"}},\"id\":\"cbddcb1e-244c-4ac2-ad71-622f9d926eee\",\"type\":\"Circle\"},{\"attributes\":{\"dimension\":1,\"plot\":{\"id\":\"cf281995-8cba-4a37-844b-15905b0e7310\",\"subtype\":\"Figure\",\"type\":\"Plot\"},\"ticker\":{\"id\":\"4353455e-228f-4a1c-a996-8e8abc3589ea\",\"type\":\"BasicTicker\"}},\"id\":\"a67bb36b-70ad-4e17-b316-0bd9cac9d24d\",\"type\":\"Grid\"},{\"attributes\":{\"data_source\":{\"id\":\"0f0aa92e-738a-4a5d-ba42-048198b16daf\",\"type\":\"ColumnDataSource\"},\"glyph\":{\"id\":\"fef32719-3d5d-4a0f-90e0-e958ada5a1f6\",\"type\":\"Circle\"},\"hover_glyph\":null,\"muted_glyph\":null,\"nonselection_glyph\":{\"id\":\"cbddcb1e-244c-4ac2-ad71-622f9d926eee\",\"type\":\"Circle\"},\"selection_glyph\":null,\"view\":{\"id\":\"8c0b9a4d-841a-477c-a092-bf91013da3e6\",\"type\":\"CDSView\"}},\"id\":\"a966a22b-9745-4d19-aa1b-d1a4f625c2e2\",\"type\":\"GlyphRenderer\"},{\"attributes\":{},\"id\":\"57434903-6986-499c-a7b7-035e48630b9f\",\"type\":\"BasicTickFormatter\"},{\"attributes\":{\"source\":{\"id\":\"0f0aa92e-738a-4a5d-ba42-048198b16daf\",\"type\":\"ColumnDataSource\"}},\"id\":\"8c0b9a4d-841a-477c-a092-bf91013da3e6\",\"type\":\"CDSView\"},{\"attributes\":{},\"id\":\"8791166f-7220-44e9-852f-bd5d601bc221\",\"type\":\"PanTool\"},{\"attributes\":{},\"id\":\"3556f99b-7b0f-4a00-aef4-5a3e9452a8d1\",\"type\":\"ResetTool\"},{\"attributes\":{},\"id\":\"f7e58cca-445c-477b-a411-0a433825b26e\",\"type\":\"WheelZoomTool\"},{\"attributes\":{\"overlay\":{\"id\":\"5cee694c-c323-4c75-aeb9-d0b6a443cb7e\",\"type\":\"BoxAnnotation\"}},\"id\":\"26a3fe5c-f2df-4762-b0e6-1834fc943d80\",\"type\":\"BoxZoomTool\"}],\"root_ids\":[\"cf281995-8cba-4a37-844b-15905b0e7310\"]},\"title\":\"Bokeh Application\",\"version\":\"0.12.16\"}};\n",
       "  var render_items = [{\"docid\":\"223d0a48-f525-4796-930d-0e721244d694\",\"elementid\":\"fc66706c-6b4b-4e51-bea3-0495174f625e\",\"modelid\":\"cf281995-8cba-4a37-844b-15905b0e7310\",\"notebook_comms_target\":\"c57392de-e369-4081-85cb-2853399fcd33\"}];\n",
       "  root.Bokeh.embed.embed_items_notebook(docs_json, render_items);\n",
       "\n",
       "  }\n",
       "  if (root.Bokeh !== undefined) {\n",
       "    embed_document(root);\n",
       "  } else {\n",
       "    var attempts = 0;\n",
       "    var timer = setInterval(function(root) {\n",
       "      if (root.Bokeh !== undefined) {\n",
       "        embed_document(root);\n",
       "        clearInterval(timer);\n",
       "      }\n",
       "      attempts++;\n",
       "      if (attempts > 100) {\n",
       "        console.log(\"Bokeh: ERROR: Unable to run BokehJS code because BokehJS library is missing\")\n",
       "        clearInterval(timer);\n",
       "      }\n",
       "    }, 10, root)\n",
       "  }\n",
       "})(window);"
      ],
      "application/vnd.bokehjs_exec.v0+json": ""
     },
     "metadata": {
      "application/vnd.bokehjs_exec.v0+json": {
       "id": "cf281995-8cba-4a37-844b-15905b0e7310"
      }
     },
     "output_type": "display_data"
    },
    {
     "data": {
      "application/vnd.jupyter.widget-view+json": {
       "model_id": "6ea5c0f9bf464ae5bfd6f45fe69f237c",
       "version_major": 2,
       "version_minor": 0
      },
      "text/plain": [
       "interactive(children=(IntSlider(value=1980, description='Start Year:', max=2017, min=1980), Output()), _dom_cl…"
      ]
     },
     "metadata": {},
     "output_type": "display_data"
    },
    {
     "data": {
      "application/vnd.jupyter.widget-view+json": {
       "model_id": "678e706e13ba4241a464892b2bf303a2",
       "version_major": 2,
       "version_minor": 0
      },
      "text/plain": [
       "interactive(children=(Play(value=1980, description='Season', max=2017, min=1980), Output()), _dom_classes=('wi…"
      ]
     },
     "metadata": {},
     "output_type": "display_data"
    }
   ],
   "source": [
    "from bokeh.models import ColumnDataSource\n",
    "from bokeh.models import HoverTool\n",
    "from bokeh.models import LinearInterpolator\n",
    "from bokeh.models import CategoricalColorMapper\n",
    "from bokeh.palettes import Category20\n",
    "from bokeh.plotting import figure\n",
    "from bokeh.models import Circle\n",
    "from ipywidgets import interact,interactive, fixed, interact_manual,widgets\n",
    "from bokeh.io import push_notebook,show\n",
    "\n",
    "\n",
    "datacom = pd.read_csv('nba-players-stats/allteamcombined.csv',index_col=['Season'])\n",
    "datawarriorschamp = pd.read_csv('nba-players-stats/WarriorsChamp.csv',index_col=[\"Rank\"])\n",
    "\n",
    "source = ColumnDataSource(dict( \n",
    "    tm = datacom.loc[2010].Tm, \n",
    "    x = datacom.loc[2010].get('FG'),\n",
    "    y = datacom.loc[2010].get('FGA'),\n",
    "    win = datacom.loc[2010].W,\n",
    "    pts = datacom.loc[2010].PTS\n",
    "))\n",
    "sourcewr = ColumnDataSource(dict(\n",
    "    tm = datawarriorschamp.Tm,\n",
    "    x = datawarriorschamp.get('FG'),\n",
    "    y = datawarriorschamp.get('FGA'),\n",
    "    win = datawarriorschamp.W,\n",
    "    pts = datawarriorschamp.PTS,\n",
    "    season = datawarriorschamp.Season\n",
    "))\n",
    "Hover_tools = HoverTool(tooltips = [\n",
    "    ('Attempt', \"@y\"),\n",
    "     ('Made', \"@x\"),\n",
    "    ('Player', '@tm'),\n",
    "('Warriors Season', \"@season\")])\n",
    "\n",
    "\n",
    "\n",
    "\n",
    "# relative_size = LinearInterpolator(\n",
    "#     x = [datacom.PTS.min(),datacom.PTS.max()],\n",
    "#     y = [2,40]\n",
    "# )\n",
    "\n",
    "color_mapper = CategoricalColorMapper(\n",
    "  factors= list(datacom.Tm.unique()),\n",
    "  palette= ['#1f77b4', '#aec7e8', '#ff7f0e', \n",
    "            '#ffbb78', '#2ca02c', '#98df8a', \n",
    "            '#d62728', \n",
    "            '#ff9896', '#9467bd', '#c5b0d5',\n",
    "            '#8c564b', '#c49c94', '#e377c2', \n",
    "            '#f7b6d2', \n",
    "            '#7f7f7f', '#c7c7c7', '#bcbd22', \n",
    "            '#dbdb8d', '#17becf', '#9edae5',\n",
    "            '#800026', '#bd0026','#e31a1c', \n",
    "            '#fc4e2a',\n",
    "            '#fd8d3c','#feb24c','#fed976',\n",
    "            '#ffeda0','#ffffcc','#a6cee3',\n",
    "            '#1f78b4','#b2df8a','#33a02c',\n",
    "            '#fb9a99','#e31a1c','#fdbf6f',\n",
    "            '#ff7f00','#cab2d6','#6a3d9a',\n",
    "            '#ffff99']\n",
    ")\n",
    "\n",
    "\n",
    "# color_mapper = CategoricalColorMapper(\n",
    "#  factors=['PF-C', 'C-PF', 'C', 'G', 'F', 'G-SF', 'SF-G'],\n",
    "#  palette=['blue', 'red', 'green','grey','Purple','Black','orange'])\n",
    "p5 = figure( tools = [Hover_tools,'pan', 'wheel_zoom','box_zoom','reset','crosshair'],\n",
    "            height=600,\n",
    "           width = 600,\n",
    "           x_range = (65,100),\n",
    "           y_range=(20,60),  \n",
    "            y_axis_label = \"Field Goal Made\",\n",
    "           x_axis_label = \"Field GOal Attempt\")\n",
    "\n",
    "p5.circle(x='y', \n",
    "         y='x',\n",
    "      size = 12,\n",
    "       # color = 'blue',\n",
    "      # size = {'field':'pts','transform':relative_size},\n",
    "       color = {'field':'tm','transform': color_mapper},\n",
    "         alpha = 1,\n",
    "         legend = 'tm',\n",
    "        source = source)\n",
    "\n",
    "p5.circle(x='y', \n",
    "         y='x',\n",
    "      size = 12,\n",
    "       color = 'gold',\n",
    "      # size = {'field':'pts','transform':relative_size},\n",
    "       #color = {'field':'tm','transform': color_mapper},\n",
    "         alpha = 1,\n",
    "         legend = 'tm',\n",
    "        source = sourcewr)\n",
    "p5.right = p5.legend\n",
    "\n",
    "\n",
    "\n",
    "def update(Season):\n",
    "    interactivedata = dict(\n",
    "     tm = datacom.loc[Season].Tm, \n",
    "      x = datacom.loc[Season].get('FG'),\n",
    "    y = datacom.loc[Season].get('FGA'), \n",
    "     win = datacom.loc[Season].W,\n",
    "        pts = datacom.loc[Season].PTS\n",
    "    )\n",
    "    \n",
    "    source.data = interactivedata\n",
    "    p5.title.text= \"FGA vs FG    Year:\" + str(Season) +\"  Season:\" +str(Season)+'-'+str(int(Season)+1)\n",
    "    push_notebook()\n",
    "    \n",
    "\n",
    "# +\"-\"+ str(int(Season)+1)\n",
    "show(p5,notebook_handle=True)\n",
    "\n",
    "interact(update,\n",
    "Season = widgets.IntSlider(\n",
    "    value=1,\n",
    "    min=1980,\n",
    "    max=2017,\n",
    "    step=1,\n",
    "    description='Start Year:',\n",
    "    continuous_update=True,\n",
    "    orientation='Horizontal',\n",
    "    readout=True,\n",
    "    readout_format='d',\n",
    "));\n",
    "\n",
    "interact(update,\n",
    "    Season = widgets.Play( \n",
    "    value=0,\n",
    "    min=1980,\n",
    "    max=2017,\n",
    "    step=1,\n",
    "    disabled=False\n",
    "));"
   ]
  },
  {
   "cell_type": "markdown",
   "metadata": {
    "extensions": {
     "jupyter_dashboards": {
      "version": 1,
      "views": {
       "grid_default": {
        "col": 0,
        "height": 24,
        "hidden": false,
        "row": 397,
        "width": 12
       },
       "report_default": {
        "hidden": false
       }
      }
     }
    }
   },
   "source": [
    "# References \n",
    "https://towardsdatascience.com/the-evolution-of-the-nba-3-point-line-da6700714ad2<br>\n",
    "http://www.cad.zju.edu.cn/home/vagblog/VAG_Work/TMM_NBA.pdf<br>\n",
    "https://romain.vuillemot.net/publis/eurovis18-star-sports-data-visualization.pdf<br>\n",
    "http://www.gregreda.com/2015/02/15/web-scraping-finding-the-api/<br>\n",
    "https://thedatagame.com.au/2015/09/27/how-to-create-nba-shot-charts-in-r/ <-- NBASHOTCHART<br>\n",
    "http://nbviewer.jupyter.org/github/savvastj/nbashots/blob/master/tutorial/Tutorial.ipynb <-- nbashotchart<br>\n",
    "https://danielwelch.github.io/nba-team-shot-charts.html<--- shot chart<br>\n",
    "https://res.mdpi.com/data/data-02-00002/article_deploy/data-02-00002.pdf?filename=&attachment=1<br>\n",
    "http://positionlessbasketball.com/ <- Postionless basketball<br>\n",
    "https://digit.hbs.org/submission/moreyball-the-houston-rockets-and-analytics/ Analytical things about houston rockets<br>\n",
    "https://towardsdatascience.com/the-evolution-of-the-nba-3-point-line-da6700714ad2<br>\n",
    "https://pdfs.semanticscholar.org/8413/cc6a30ce8813a60bb85a1d039bc5ad70e39a.pdf<br>\n",
    "http://analytics-magazine.org/beyond-moneyball-the-rapidly-evolving-world-of-sports-analytics-part-i/<br>\n",
    "http://uk.businessinsider.com/warriors-small-ball-lineup-nba-finals-game-1-2015-6?r=US&IR=T<br>\n",
    "https://pdfs.semanticscholar.org/46e4/a7271de62e9118625dec935c4aef1bc0ea74.pdf<br>\n",
    "https://research.tableau.com/sites/default/files/Huang_PVA.pdf<br>\n",
    "https://www.researchgate.net/publication/46554952_Scoring_and_Shooting_Abilities_of_NBA_Players<br>\n",
    "https://pdfs.semanticscholar.org/c557/9e6cef7c5aa2a8ce96aa66f6273aaa2a9c0d.pdf<br>\n",
    "https://pdfs.semanticscholar.org/46e4/a7271de62e9118625dec935c4aef1bc0ea74.pdf<br>\n",
    "https://www.nytimes.com/interactive/2016/04/16/upshot/stephen-curry-golden-state-warriors-3-pointers.html<br>\n",
    "http://romain.vuillemot.net/publis/eurovis18-star-sports-data-visualization.pdf<br>\n",
    "# Fix the Mulitindex Bug\n",
    "https://www.somebits.com/~nelson/pandas-multiindex-slice-demo.html <br>\n",
    "\n",
    "# Data Sources \n",
    "Basketball Reference - https://www.basketball-reference.com/ <br>\n",
    "Kraggle- https://www.kaggle.com/drgilermo/nba-players-stats<br>"
   ]
  },
  {
   "cell_type": "markdown",
   "metadata": {
    "extensions": {
     "jupyter_dashboards": {
      "version": 1,
      "views": {
       "grid_default": {
        "col": 7,
        "height": 4,
        "hidden": false,
        "row": 237,
        "width": 4
       },
       "report_default": {
        "hidden": false
       }
      }
     }
    }
   },
   "source": [
    " ##### [Return Back To The Top](#TableOfContent)"
   ]
  },
  {
   "cell_type": "code",
   "execution_count": null,
   "metadata": {
    "extensions": {
     "jupyter_dashboards": {
      "version": 1,
      "views": {
       "grid_default": {
        "hidden": true
       },
       "report_default": {
        "hidden": true
       }
      }
     }
    }
   },
   "outputs": [],
   "source": []
  }
 ],
 "metadata": {
  "extensions": {
   "jupyter_dashboards": {
    "activeView": "report_default",
    "version": 1,
    "views": {
     "grid_default": {
      "cellMargin": 10,
      "defaultCellHeight": 20,
      "maxColumns": 12,
      "name": "grid",
      "type": "grid"
     },
     "report_default": {
      "name": "report",
      "type": "report"
     }
    }
   }
  },
  "kernelspec": {
   "display_name": "Python 3",
   "language": "python",
   "name": "python3"
  },
  "language_info": {
   "codemirror_mode": {
    "name": "ipython",
    "version": 3
   },
   "file_extension": ".py",
   "mimetype": "text/x-python",
   "name": "python",
   "nbconvert_exporter": "python",
   "pygments_lexer": "ipython3",
   "version": "3.6.5"
  }
 },
 "nbformat": 4,
 "nbformat_minor": 2
}
